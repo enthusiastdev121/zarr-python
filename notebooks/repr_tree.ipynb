{
 "cells": [
  {
   "cell_type": "code",
   "execution_count": 1,
   "metadata": {},
   "outputs": [],
   "source": [
    "import sys\n",
    "sys.path.insert(0, '..')\n",
    "import zarr"
   ]
  },
  {
   "cell_type": "code",
   "execution_count": 2,
   "metadata": {},
   "outputs": [],
   "source": [
    "g1 = zarr.group()\n",
    "g2 = g1.create_group('foo')\n",
    "g3 = g1.create_group('bar')\n",
    "g3.create_group('baz')\n",
    "g3.create_dataset('xxx', shape=100)\n",
    "g3.create_dataset('yyy', shape=(100, 100), dtype='i4')\n",
    "g5 = g3.create_group('quux')\n",
    "g5.create_dataset('aaa', shape=100)\n",
    "g5.create_dataset('bbb', shape=(100, 100), dtype='i4')\n",
    "g7 = g3.create_group('zoo')"
   ]
  },
  {
   "cell_type": "code",
   "execution_count": 3,
   "metadata": {},
   "outputs": [
    {
     "name": "stdout",
     "output_type": "stream",
     "text": [
      "/\n",
      " ├── bar\n",
      " │   ├── baz\n",
      " │   ├── quux\n",
      " │   │   ├── aaa (100,) float64\n",
      " │   │   └── bbb (100, 100) int32\n",
      " │   ├── xxx (100,) float64\n",
      " │   ├── yyy (100, 100) int32\n",
      " │   └── zoo\n",
      " └── foo\n"
     ]
    }
   ],
   "source": [
    "print(g1.tree())"
   ]
  },
  {
   "cell_type": "code",
   "execution_count": 4,
   "metadata": {},
   "outputs": [
    {
     "name": "stdout",
     "output_type": "stream",
     "text": [
      "/\n",
      " ├── bar\n",
      " └── foo\n"
     ]
    }
   ],
   "source": [
    "print(g1.tree(level=1))"
   ]
  },
  {
   "cell_type": "code",
   "execution_count": 5,
   "metadata": {},
   "outputs": [
    {
     "name": "stdout",
     "output_type": "stream",
     "text": [
      "/\n",
      " ├── bar\n",
      " │   ├── baz\n",
      " │   ├── quux\n",
      " │   ├── xxx (100,) float64\n",
      " │   ├── yyy (100, 100) int32\n",
      " │   └── zoo\n",
      " └── foo\n"
     ]
    }
   ],
   "source": [
    "print(g1.tree(level=2))"
   ]
  },
  {
   "cell_type": "code",
   "execution_count": 6,
   "metadata": {},
   "outputs": [
    {
     "name": "stdout",
     "output_type": "stream",
     "text": [
      "/\n",
      " +-- bar\n",
      " |   +-- baz\n",
      " |   +-- quux\n",
      " |   |   +-- aaa (100,) float64\n",
      " |   |   +-- bbb (100, 100) int32\n",
      " |   +-- xxx (100,) float64\n",
      " |   +-- yyy (100, 100) int32\n",
      " |   +-- zoo\n",
      " +-- foo\n"
     ]
    }
   ],
   "source": [
    "print(bytes(g1.tree()).decode())"
   ]
  },
  {
   "cell_type": "code",
   "execution_count": 7,
   "metadata": {},
   "outputs": [
    {
     "data": {
      "text/html": [
       "<link rel=\"stylesheet\" href=\"//cdnjs.cloudflare.com/ajax/libs/jstree/3.3.3/themes/default/style.min.css\"/><div id=\"fd4f29b9-7041-4a1a-99e7-670f7c794e5e\" class=\"zarr-tree\"><ul><li data-jstree='{\"type\": \"Group\"}' class='jstree-open'><span>/</span><ul><li data-jstree='{\"type\": \"Group\"}' class=''><span>bar</span><ul><li data-jstree='{\"type\": \"Group\"}' class=''><span>baz</span></li><li data-jstree='{\"type\": \"Group\"}' class=''><span>quux</span><ul><li data-jstree='{\"type\": \"Array\"}' class=''><span>aaa (100,) float64</span></li><li data-jstree='{\"type\": \"Array\"}' class=''><span>bbb (100, 100) int32</span></li></ul></li><li data-jstree='{\"type\": \"Array\"}' class=''><span>xxx (100,) float64</span></li><li data-jstree='{\"type\": \"Array\"}' class=''><span>yyy (100, 100) int32</span></li><li data-jstree='{\"type\": \"Group\"}' class=''><span>zoo</span></li></ul></li><li data-jstree='{\"type\": \"Group\"}' class=''><span>foo</span></li></ul></li></ul></div>\n",
       "<script>\n",
       "    if (!require.defined('jquery')) {\n",
       "        require.config({\n",
       "            paths: {\n",
       "                jquery: '//cdnjs.cloudflare.com/ajax/libs/jquery/1.12.1/jquery.min'\n",
       "            },\n",
       "        });\n",
       "    }\n",
       "    if (!require.defined('jstree')) {\n",
       "        require.config({\n",
       "            paths: {\n",
       "                jstree: '//cdnjs.cloudflare.com/ajax/libs/jstree/3.3.3/jstree.min'\n",
       "            },\n",
       "        });\n",
       "    }\n",
       "    require(['jstree'], function() {\n",
       "        $('#fd4f29b9-7041-4a1a-99e7-670f7c794e5e').jstree({\n",
       "            types: {\n",
       "                Group: {\n",
       "                    icon: \"fa fa-folder\"\n",
       "                },\n",
       "                Array: {\n",
       "                    icon: \"fa fa-table\"\n",
       "                }\n",
       "            },\n",
       "            plugins: [\"types\"]\n",
       "        });\n",
       "    });\n",
       "</script>         \n"
      ],
      "text/plain": [
       "/\n",
       " ├── bar\n",
       " │   ├── baz\n",
       " │   ├── quux\n",
       " │   │   ├── aaa (100,) float64\n",
       " │   │   └── bbb (100, 100) int32\n",
       " │   ├── xxx (100,) float64\n",
       " │   ├── yyy (100, 100) int32\n",
       " │   └── zoo\n",
       " └── foo"
      ]
     },
     "execution_count": 7,
     "metadata": {},
     "output_type": "execute_result"
    }
   ],
   "source": [
    "g1.tree()"
   ]
  },
  {
   "cell_type": "code",
   "execution_count": 8,
   "metadata": {},
   "outputs": [
    {
     "data": {
      "text/html": [
       "<link rel=\"stylesheet\" href=\"//cdnjs.cloudflare.com/ajax/libs/jstree/3.3.3/themes/default/style.min.css\"/><div id=\"f6b51452-981e-49d5-b0fe-0926b41c88fa\" class=\"zarr-tree\"><ul><li data-jstree='{\"type\": \"Group\"}' class='jstree-open'><span>/</span><ul><li data-jstree='{\"type\": \"Group\"}' class='jstree-open'><span>bar</span><ul><li data-jstree='{\"type\": \"Group\"}' class='jstree-open'><span>baz</span></li><li data-jstree='{\"type\": \"Group\"}' class='jstree-open'><span>quux</span><ul><li data-jstree='{\"type\": \"Array\"}' class='jstree-open'><span>aaa (100,) float64</span></li><li data-jstree='{\"type\": \"Array\"}' class='jstree-open'><span>bbb (100, 100) int32</span></li></ul></li><li data-jstree='{\"type\": \"Array\"}' class='jstree-open'><span>xxx (100,) float64</span></li><li data-jstree='{\"type\": \"Array\"}' class='jstree-open'><span>yyy (100, 100) int32</span></li><li data-jstree='{\"type\": \"Group\"}' class='jstree-open'><span>zoo</span></li></ul></li><li data-jstree='{\"type\": \"Group\"}' class='jstree-open'><span>foo</span></li></ul></li></ul></div>\n",
       "<script>\n",
       "    if (!require.defined('jquery')) {\n",
       "        require.config({\n",
       "            paths: {\n",
       "                jquery: '//cdnjs.cloudflare.com/ajax/libs/jquery/1.12.1/jquery.min'\n",
       "            },\n",
       "        });\n",
       "    }\n",
       "    if (!require.defined('jstree')) {\n",
       "        require.config({\n",
       "            paths: {\n",
       "                jstree: '//cdnjs.cloudflare.com/ajax/libs/jstree/3.3.3/jstree.min'\n",
       "            },\n",
       "        });\n",
       "    }\n",
       "    require(['jstree'], function() {\n",
       "        $('#f6b51452-981e-49d5-b0fe-0926b41c88fa').jstree({\n",
       "            types: {\n",
       "                Group: {\n",
       "                    icon: \"fa fa-folder\"\n",
       "                },\n",
       "                Array: {\n",
       "                    icon: \"fa fa-table\"\n",
       "                }\n",
       "            },\n",
       "            plugins: [\"types\"]\n",
       "        });\n",
       "    });\n",
       "</script>         \n"
      ],
      "text/plain": [
       "/\n",
       " ├── bar\n",
       " │   ├── baz\n",
       " │   ├── quux\n",
       " │   │   ├── aaa (100,) float64\n",
       " │   │   └── bbb (100, 100) int32\n",
       " │   ├── xxx (100,) float64\n",
       " │   ├── yyy (100, 100) int32\n",
       " │   └── zoo\n",
       " └── foo"
      ]
     },
     "execution_count": 8,
     "metadata": {},
     "output_type": "execute_result"
    }
   ],
   "source": [
    "g1.tree(expand=True)"
   ]
  },
  {
   "cell_type": "code",
   "execution_count": 9,
   "metadata": {},
   "outputs": [
    {
     "data": {
      "text/html": [
       "<link rel=\"stylesheet\" href=\"//cdnjs.cloudflare.com/ajax/libs/jstree/3.3.3/themes/default/style.min.css\"/><div id=\"5ae96b77-935e-4b30-8e72-81dd5039cb40\" class=\"zarr-tree\"><ul><li data-jstree='{\"type\": \"Group\"}' class='jstree-open'><span>bar</span><ul><li data-jstree='{\"type\": \"Group\"}' class=''><span>baz</span></li><li data-jstree='{\"type\": \"Group\"}' class=''><span>quux</span><ul><li data-jstree='{\"type\": \"Array\"}' class=''><span>aaa (100,) float64</span></li><li data-jstree='{\"type\": \"Array\"}' class=''><span>bbb (100, 100) int32</span></li></ul></li><li data-jstree='{\"type\": \"Array\"}' class=''><span>xxx (100,) float64</span></li><li data-jstree='{\"type\": \"Array\"}' class=''><span>yyy (100, 100) int32</span></li><li data-jstree='{\"type\": \"Group\"}' class=''><span>zoo</span></li></ul></li></ul></div>\n",
       "<script>\n",
       "    if (!require.defined('jquery')) {\n",
       "        require.config({\n",
       "            paths: {\n",
       "                jquery: '//cdnjs.cloudflare.com/ajax/libs/jquery/1.12.1/jquery.min'\n",
       "            },\n",
       "        });\n",
       "    }\n",
       "    if (!require.defined('jstree')) {\n",
       "        require.config({\n",
       "            paths: {\n",
       "                jstree: '//cdnjs.cloudflare.com/ajax/libs/jstree/3.3.3/jstree.min'\n",
       "            },\n",
       "        });\n",
       "    }\n",
       "    require(['jstree'], function() {\n",
       "        $('#5ae96b77-935e-4b30-8e72-81dd5039cb40').jstree({\n",
       "            types: {\n",
       "                Group: {\n",
       "                    icon: \"fa fa-folder\"\n",
       "                },\n",
       "                Array: {\n",
       "                    icon: \"fa fa-table\"\n",
       "                }\n",
       "            },\n",
       "            plugins: [\"types\"]\n",
       "        });\n",
       "    });\n",
       "</script>         \n"
      ],
      "text/plain": [
       "bar\n",
       " ├── baz\n",
       " ├── quux\n",
       " │   ├── aaa (100,) float64\n",
       " │   └── bbb (100, 100) int32\n",
       " ├── xxx (100,) float64\n",
       " ├── yyy (100, 100) int32\n",
       " └── zoo"
      ]
     },
     "execution_count": 9,
     "metadata": {},
     "output_type": "execute_result"
    }
   ],
   "source": [
    "g3.tree()"
   ]
  },
  {
   "cell_type": "code",
   "execution_count": 10,
   "metadata": {},
   "outputs": [
    {
     "data": {
      "text/html": [
       "<link rel=\"stylesheet\" href=\"//cdnjs.cloudflare.com/ajax/libs/jstree/3.3.3/themes/default/style.min.css\"/><div id=\"75e0a242-e656-45e4-8d6f-826ac746f4ab\" class=\"zarr-tree\"><ul><li data-jstree='{\"type\": \"Group\"}' class='jstree-open'><span>/</span><ul><li data-jstree='{\"type\": \"Group\"}' class='jstree-open'><span>bar</span><ul><li data-jstree='{\"type\": \"Group\"}' class='jstree-open'><span>baz</span></li><li data-jstree='{\"type\": \"Group\"}' class='jstree-open'><span>quux</span></li><li data-jstree='{\"type\": \"Array\"}' class='jstree-open'><span>xxx (100,) float64</span></li><li data-jstree='{\"type\": \"Array\"}' class='jstree-open'><span>yyy (100, 100) int32</span></li><li data-jstree='{\"type\": \"Group\"}' class='jstree-open'><span>zoo</span></li></ul></li><li data-jstree='{\"type\": \"Group\"}' class='jstree-open'><span>foo</span></li></ul></li></ul></div>\n",
       "<script>\n",
       "    if (!require.defined('jquery')) {\n",
       "        require.config({\n",
       "            paths: {\n",
       "                jquery: '//cdnjs.cloudflare.com/ajax/libs/jquery/1.12.1/jquery.min'\n",
       "            },\n",
       "        });\n",
       "    }\n",
       "    if (!require.defined('jstree')) {\n",
       "        require.config({\n",
       "            paths: {\n",
       "                jstree: '//cdnjs.cloudflare.com/ajax/libs/jstree/3.3.3/jstree.min'\n",
       "            },\n",
       "        });\n",
       "    }\n",
       "    require(['jstree'], function() {\n",
       "        $('#75e0a242-e656-45e4-8d6f-826ac746f4ab').jstree({\n",
       "            types: {\n",
       "                Group: {\n",
       "                    icon: \"fa fa-folder\"\n",
       "                },\n",
       "                Array: {\n",
       "                    icon: \"fa fa-table\"\n",
       "                }\n",
       "            },\n",
       "            plugins: [\"types\"]\n",
       "        });\n",
       "    });\n",
       "</script>         \n"
      ],
      "text/plain": [
       "/\n",
       " ├── bar\n",
       " │   ├── baz\n",
       " │   ├── quux\n",
       " │   ├── xxx (100,) float64\n",
       " │   ├── yyy (100, 100) int32\n",
       " │   └── zoo\n",
       " └── foo"
      ]
     },
     "execution_count": 10,
     "metadata": {},
     "output_type": "execute_result"
    }
   ],
   "source": [
    "g1.tree(expand=True, level=2)"
   ]
  },
  {
   "cell_type": "code",
   "execution_count": 11,
   "metadata": {},
   "outputs": [
    {
     "data": {
      "text/html": [
       "<link rel=\"stylesheet\" href=\"//cdnjs.cloudflare.com/ajax/libs/jstree/3.3.3/themes/default/style.min.css\"/><div id=\"022afa56-ae4a-453c-8f42-304d6160f3e6\" class=\"zarr-tree\"><ul><li data-jstree='{\"type\": \"Group\"}' class='jstree-open'><span>/</span><ul><li data-jstree='{\"type\": \"Group\"}' class='jstree-open'><span>bar</span></li><li data-jstree='{\"type\": \"Group\"}' class='jstree-open'><span>foo</span></li></ul></li></ul></div>\n",
       "<script>\n",
       "    if (!require.defined('jquery')) {\n",
       "        require.config({\n",
       "            paths: {\n",
       "                jquery: '//cdnjs.cloudflare.com/ajax/libs/jquery/1.12.1/jquery.min'\n",
       "            },\n",
       "        });\n",
       "    }\n",
       "    if (!require.defined('jstree')) {\n",
       "        require.config({\n",
       "            paths: {\n",
       "                jstree: '//cdnjs.cloudflare.com/ajax/libs/jstree/3.3.3/jstree.min'\n",
       "            },\n",
       "        });\n",
       "    }\n",
       "    require(['jstree'], function() {\n",
       "        $('#022afa56-ae4a-453c-8f42-304d6160f3e6').jstree({\n",
       "            types: {\n",
       "                Group: {\n",
       "                    icon: \"fa fa-folder\"\n",
       "                },\n",
       "                Array: {\n",
       "                    icon: \"fa fa-table\"\n",
       "                }\n",
       "            },\n",
       "            plugins: [\"types\"]\n",
       "        });\n",
       "    });\n",
       "</script>         \n"
      ],
      "text/plain": [
       "/\n",
       " ├── bar\n",
       " └── foo"
      ]
     },
     "execution_count": 11,
     "metadata": {},
     "output_type": "execute_result"
    }
   ],
   "source": [
    "g1.tree(expand=True, level=1)"
   ]
  },
  {
   "cell_type": "code",
   "execution_count": null,
   "metadata": {},
   "outputs": [],
   "source": []
  }
 ],
 "metadata": {
  "kernelspec": {
   "display_name": "Python 3",
   "language": "python",
   "name": "python3"
  },
  "language_info": {
   "codemirror_mode": {
    "name": "ipython",
    "version": 3
   },
   "file_extension": ".py",
   "mimetype": "text/x-python",
   "name": "python",
   "nbconvert_exporter": "python",
   "pygments_lexer": "ipython3",
   "version": "3.6.1"
  }
 },
 "nbformat": 4,
 "nbformat_minor": 2
}
