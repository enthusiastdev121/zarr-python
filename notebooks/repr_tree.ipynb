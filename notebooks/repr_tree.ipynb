{
 "cells": [
  {
   "cell_type": "code",
   "execution_count": 1,
   "metadata": {},
   "outputs": [
    {
     "data": {
      "text/plain": [
       "'2.1.5.dev211'"
      ]
     },
     "execution_count": 1,
     "metadata": {},
     "output_type": "execute_result"
    }
   ],
   "source": [
    "import zarr\n",
    "zarr.__version__"
   ]
  },
  {
   "cell_type": "code",
   "execution_count": 2,
   "metadata": {},
   "outputs": [],
   "source": [
    "g1 = zarr.group()\n",
    "g2 = g1.create_group('foo')\n",
    "g3 = g1.create_group('bar')\n",
    "g3.create_group('baz')\n",
    "g3.create_dataset('xxx', shape=100)\n",
    "g3.create_dataset('yyy', shape=(100, 100), dtype='i4')\n",
    "g5 = g3.create_group('quux')\n",
    "g5.create_dataset('aaa', shape=100)\n",
    "g5.create_dataset('bbb', shape=(100, 100), dtype='i4')\n",
    "g7 = g3.create_group('zoo')"
   ]
  },
  {
   "cell_type": "markdown",
   "metadata": {},
   "source": [
    "Generate text (unicode) tree:"
   ]
  },
  {
   "cell_type": "code",
   "execution_count": 3,
   "metadata": {},
   "outputs": [
    {
     "name": "stdout",
     "output_type": "stream",
     "text": [
      "/\n",
      " ├── bar\n",
      " │   ├── baz\n",
      " │   ├── quux\n",
      " │   │   ├── aaa (100,) float64\n",
      " │   │   └── bbb (100, 100) int32\n",
      " │   ├── xxx (100,) float64\n",
      " │   ├── yyy (100, 100) int32\n",
      " │   └── zoo\n",
      " └── foo\n"
     ]
    }
   ],
   "source": [
    "print(g1.tree())"
   ]
  },
  {
   "cell_type": "markdown",
   "metadata": {},
   "source": [
    "The ``level`` parameter controls how deep the tree is."
   ]
  },
  {
   "cell_type": "code",
   "execution_count": 4,
   "metadata": {},
   "outputs": [
    {
     "name": "stdout",
     "output_type": "stream",
     "text": [
      "/\n",
      " ├── bar\n",
      " └── foo\n"
     ]
    }
   ],
   "source": [
    "print(g1.tree(level=1))"
   ]
  },
  {
   "cell_type": "code",
   "execution_count": 5,
   "metadata": {},
   "outputs": [
    {
     "name": "stdout",
     "output_type": "stream",
     "text": [
      "/\n",
      " ├── bar\n",
      " │   ├── baz\n",
      " │   ├── quux\n",
      " │   ├── xxx (100,) float64\n",
      " │   ├── yyy (100, 100) int32\n",
      " │   └── zoo\n",
      " └── foo\n"
     ]
    }
   ],
   "source": [
    "print(g1.tree(level=2))"
   ]
  },
  {
   "cell_type": "markdown",
   "metadata": {},
   "source": [
    "Alternative plain ASCII tree:"
   ]
  },
  {
   "cell_type": "code",
   "execution_count": 6,
   "metadata": {},
   "outputs": [
    {
     "name": "stdout",
     "output_type": "stream",
     "text": [
      "/\n",
      " +-- bar\n",
      " |   +-- baz\n",
      " |   +-- quux\n",
      " |   |   +-- aaa (100,) float64\n",
      " |   |   +-- bbb (100, 100) int32\n",
      " |   +-- xxx (100,) float64\n",
      " |   +-- yyy (100, 100) int32\n",
      " |   +-- zoo\n",
      " +-- foo\n"
     ]
    }
   ],
   "source": [
    "print(bytes(g1.tree()).decode())"
   ]
  },
  {
   "cell_type": "markdown",
   "metadata": {},
   "source": [
    "HTML trees:"
   ]
  },
  {
   "cell_type": "code",
   "execution_count": 7,
   "metadata": {},
   "outputs": [
    {
     "data": {
      "text/html": [
       "<link rel=\"stylesheet\" href=\"//cdnjs.cloudflare.com/ajax/libs/jstree/3.3.3/themes/default/style.min.css\"/><div id=\"c10a67fc-726d-40fa-ab44-076852f671de\" class=\"zarr-tree\"><ul><li data-jstree='{\"type\": \"Group\"}' class='jstree-open'><span>/</span><ul><li data-jstree='{\"type\": \"Group\"}' class=''><span>bar</span><ul><li data-jstree='{\"type\": \"Group\"}' class=''><span>baz</span></li><li data-jstree='{\"type\": \"Group\"}' class=''><span>quux</span><ul><li data-jstree='{\"type\": \"Array\"}' class=''><span>aaa (100,) float64</span></li><li data-jstree='{\"type\": \"Array\"}' class=''><span>bbb (100, 100) int32</span></li></ul></li><li data-jstree='{\"type\": \"Array\"}' class=''><span>xxx (100,) float64</span></li><li data-jstree='{\"type\": \"Array\"}' class=''><span>yyy (100, 100) int32</span></li><li data-jstree='{\"type\": \"Group\"}' class=''><span>zoo</span></li></ul></li><li data-jstree='{\"type\": \"Group\"}' class=''><span>foo</span></li></ul></li></ul></div>\n",
       "<script>\n",
       "    if (!require.defined('jquery')) {\n",
       "        require.config({\n",
       "            paths: {\n",
       "                jquery: '//cdnjs.cloudflare.com/ajax/libs/jquery/1.12.1/jquery.min'\n",
       "            },\n",
       "        });\n",
       "    }\n",
       "    if (!require.defined('jstree')) {\n",
       "        require.config({\n",
       "            paths: {\n",
       "                jstree: '//cdnjs.cloudflare.com/ajax/libs/jstree/3.3.3/jstree.min'\n",
       "            },\n",
       "        });\n",
       "    }\n",
       "    require(['jstree'], function() {\n",
       "        $('#c10a67fc-726d-40fa-ab44-076852f671de').jstree({\n",
       "            types: {\n",
       "                Group: {\n",
       "                    icon: \"fa fa-folder\"\n",
       "                },\n",
       "                Array: {\n",
       "                    icon: \"fa fa-table\"\n",
       "                }\n",
       "            },\n",
       "            plugins: [\"types\"]\n",
       "        });\n",
       "    });\n",
       "</script>\n"
      ],
      "text/plain": [
       "/\n",
       " ├── bar\n",
       " │   ├── baz\n",
       " │   ├── quux\n",
       " │   │   ├── aaa (100,) float64\n",
       " │   │   └── bbb (100, 100) int32\n",
       " │   ├── xxx (100,) float64\n",
       " │   ├── yyy (100, 100) int32\n",
       " │   └── zoo\n",
       " └── foo"
      ]
     },
     "execution_count": 7,
     "metadata": {},
     "output_type": "execute_result"
    }
   ],
   "source": [
    "g1.tree()"
   ]
  },
  {
   "cell_type": "markdown",
   "metadata": {},
   "source": [
    "Use ``expand=True`` to have all groups automatically expanded."
   ]
  },
  {
   "cell_type": "code",
   "execution_count": 8,
   "metadata": {},
   "outputs": [
    {
     "data": {
      "text/html": [
       "<link rel=\"stylesheet\" href=\"//cdnjs.cloudflare.com/ajax/libs/jstree/3.3.3/themes/default/style.min.css\"/><div id=\"26191d7d-11f9-420b-ae00-ba1f9b5691de\" class=\"zarr-tree\"><ul><li data-jstree='{\"type\": \"Group\"}' class='jstree-open'><span>/</span><ul><li data-jstree='{\"type\": \"Group\"}' class='jstree-open'><span>bar</span><ul><li data-jstree='{\"type\": \"Group\"}' class='jstree-open'><span>baz</span></li><li data-jstree='{\"type\": \"Group\"}' class='jstree-open'><span>quux</span><ul><li data-jstree='{\"type\": \"Array\"}' class='jstree-open'><span>aaa (100,) float64</span></li><li data-jstree='{\"type\": \"Array\"}' class='jstree-open'><span>bbb (100, 100) int32</span></li></ul></li><li data-jstree='{\"type\": \"Array\"}' class='jstree-open'><span>xxx (100,) float64</span></li><li data-jstree='{\"type\": \"Array\"}' class='jstree-open'><span>yyy (100, 100) int32</span></li><li data-jstree='{\"type\": \"Group\"}' class='jstree-open'><span>zoo</span></li></ul></li><li data-jstree='{\"type\": \"Group\"}' class='jstree-open'><span>foo</span></li></ul></li></ul></div>\n",
       "<script>\n",
       "    if (!require.defined('jquery')) {\n",
       "        require.config({\n",
       "            paths: {\n",
       "                jquery: '//cdnjs.cloudflare.com/ajax/libs/jquery/1.12.1/jquery.min'\n",
       "            },\n",
       "        });\n",
       "    }\n",
       "    if (!require.defined('jstree')) {\n",
       "        require.config({\n",
       "            paths: {\n",
       "                jstree: '//cdnjs.cloudflare.com/ajax/libs/jstree/3.3.3/jstree.min'\n",
       "            },\n",
       "        });\n",
       "    }\n",
       "    require(['jstree'], function() {\n",
       "        $('#26191d7d-11f9-420b-ae00-ba1f9b5691de').jstree({\n",
       "            types: {\n",
       "                Group: {\n",
       "                    icon: \"fa fa-folder\"\n",
       "                },\n",
       "                Array: {\n",
       "                    icon: \"fa fa-table\"\n",
       "                }\n",
       "            },\n",
       "            plugins: [\"types\"]\n",
       "        });\n",
       "    });\n",
       "</script>\n"
      ],
      "text/plain": [
       "/\n",
       " ├── bar\n",
       " │   ├── baz\n",
       " │   ├── quux\n",
       " │   │   ├── aaa (100,) float64\n",
       " │   │   └── bbb (100, 100) int32\n",
       " │   ├── xxx (100,) float64\n",
       " │   ├── yyy (100, 100) int32\n",
       " │   └── zoo\n",
       " └── foo"
      ]
     },
     "execution_count": 8,
     "metadata": {},
     "output_type": "execute_result"
    }
   ],
   "source": [
    "g1.tree(expand=True)"
   ]
  },
  {
   "cell_type": "code",
   "execution_count": 9,
   "metadata": {},
   "outputs": [
    {
     "data": {
      "text/html": [
       "<link rel=\"stylesheet\" href=\"//cdnjs.cloudflare.com/ajax/libs/jstree/3.3.3/themes/default/style.min.css\"/><div id=\"c5eac109-b90a-4a76-9a64-62093d573b9a\" class=\"zarr-tree\"><ul><li data-jstree='{\"type\": \"Group\"}' class='jstree-open'><span>/</span><ul><li data-jstree='{\"type\": \"Group\"}' class='jstree-open'><span>bar</span><ul><li data-jstree='{\"type\": \"Group\"}' class='jstree-open'><span>baz</span></li><li data-jstree='{\"type\": \"Group\"}' class='jstree-open'><span>quux</span></li><li data-jstree='{\"type\": \"Array\"}' class='jstree-open'><span>xxx (100,) float64</span></li><li data-jstree='{\"type\": \"Array\"}' class='jstree-open'><span>yyy (100, 100) int32</span></li><li data-jstree='{\"type\": \"Group\"}' class='jstree-open'><span>zoo</span></li></ul></li><li data-jstree='{\"type\": \"Group\"}' class='jstree-open'><span>foo</span></li></ul></li></ul></div>\n",
       "<script>\n",
       "    if (!require.defined('jquery')) {\n",
       "        require.config({\n",
       "            paths: {\n",
       "                jquery: '//cdnjs.cloudflare.com/ajax/libs/jquery/1.12.1/jquery.min'\n",
       "            },\n",
       "        });\n",
       "    }\n",
       "    if (!require.defined('jstree')) {\n",
       "        require.config({\n",
       "            paths: {\n",
       "                jstree: '//cdnjs.cloudflare.com/ajax/libs/jstree/3.3.3/jstree.min'\n",
       "            },\n",
       "        });\n",
       "    }\n",
       "    require(['jstree'], function() {\n",
       "        $('#c5eac109-b90a-4a76-9a64-62093d573b9a').jstree({\n",
       "            types: {\n",
       "                Group: {\n",
       "                    icon: \"fa fa-folder\"\n",
       "                },\n",
       "                Array: {\n",
       "                    icon: \"fa fa-table\"\n",
       "                }\n",
       "            },\n",
       "            plugins: [\"types\"]\n",
       "        });\n",
       "    });\n",
       "</script>\n"
      ],
      "text/plain": [
       "/\n",
       " ├── bar\n",
       " │   ├── baz\n",
       " │   ├── quux\n",
       " │   ├── xxx (100,) float64\n",
       " │   ├── yyy (100, 100) int32\n",
       " │   └── zoo\n",
       " └── foo"
      ]
     },
     "execution_count": 9,
     "metadata": {},
     "output_type": "execute_result"
    }
   ],
   "source": [
    "g1.tree(expand=True, level=2)"
   ]
  },
  {
   "cell_type": "code",
   "execution_count": 10,
   "metadata": {},
   "outputs": [
    {
     "data": {
      "text/html": [
       "<link rel=\"stylesheet\" href=\"//cdnjs.cloudflare.com/ajax/libs/jstree/3.3.3/themes/default/style.min.css\"/><div id=\"5cdb1a42-eee5-4d44-8483-94c28904573c\" class=\"zarr-tree\"><ul><li data-jstree='{\"type\": \"Group\"}' class='jstree-open'><span>/</span><ul><li data-jstree='{\"type\": \"Group\"}' class='jstree-open'><span>bar</span></li><li data-jstree='{\"type\": \"Group\"}' class='jstree-open'><span>foo</span></li></ul></li></ul></div>\n",
       "<script>\n",
       "    if (!require.defined('jquery')) {\n",
       "        require.config({\n",
       "            paths: {\n",
       "                jquery: '//cdnjs.cloudflare.com/ajax/libs/jquery/1.12.1/jquery.min'\n",
       "            },\n",
       "        });\n",
       "    }\n",
       "    if (!require.defined('jstree')) {\n",
       "        require.config({\n",
       "            paths: {\n",
       "                jstree: '//cdnjs.cloudflare.com/ajax/libs/jstree/3.3.3/jstree.min'\n",
       "            },\n",
       "        });\n",
       "    }\n",
       "    require(['jstree'], function() {\n",
       "        $('#5cdb1a42-eee5-4d44-8483-94c28904573c').jstree({\n",
       "            types: {\n",
       "                Group: {\n",
       "                    icon: \"fa fa-folder\"\n",
       "                },\n",
       "                Array: {\n",
       "                    icon: \"fa fa-table\"\n",
       "                }\n",
       "            },\n",
       "            plugins: [\"types\"]\n",
       "        });\n",
       "    });\n",
       "</script>\n"
      ],
      "text/plain": [
       "/\n",
       " ├── bar\n",
       " └── foo"
      ]
     },
     "execution_count": 10,
     "metadata": {},
     "output_type": "execute_result"
    }
   ],
   "source": [
    "g1.tree(expand=True, level=1)"
   ]
  },
  {
   "cell_type": "markdown",
   "metadata": {},
   "source": [
    "The ``expand`` parameter can also be an integer, giving the depth to expand to."
   ]
  },
  {
   "cell_type": "code",
   "execution_count": 11,
   "metadata": {},
   "outputs": [
    {
     "data": {
      "text/html": [
       "<link rel=\"stylesheet\" href=\"//cdnjs.cloudflare.com/ajax/libs/jstree/3.3.3/themes/default/style.min.css\"/><div id=\"3edbc117-0831-45b6-9990-1da5f33e1f68\" class=\"zarr-tree\"><ul><li data-jstree='{\"type\": \"Group\"}' class='jstree-open'><span>/</span><ul><li data-jstree='{\"type\": \"Group\"}' class=''><span>bar</span><ul><li data-jstree='{\"type\": \"Group\"}' class=''><span>baz</span></li><li data-jstree='{\"type\": \"Group\"}' class=''><span>quux</span><ul><li data-jstree='{\"type\": \"Array\"}' class=''><span>aaa (100,) float64</span></li><li data-jstree='{\"type\": \"Array\"}' class=''><span>bbb (100, 100) int32</span></li></ul></li><li data-jstree='{\"type\": \"Array\"}' class=''><span>xxx (100,) float64</span></li><li data-jstree='{\"type\": \"Array\"}' class=''><span>yyy (100, 100) int32</span></li><li data-jstree='{\"type\": \"Group\"}' class=''><span>zoo</span></li></ul></li><li data-jstree='{\"type\": \"Group\"}' class=''><span>foo</span></li></ul></li></ul></div>\n",
       "<script>\n",
       "    if (!require.defined('jquery')) {\n",
       "        require.config({\n",
       "            paths: {\n",
       "                jquery: '//cdnjs.cloudflare.com/ajax/libs/jquery/1.12.1/jquery.min'\n",
       "            },\n",
       "        });\n",
       "    }\n",
       "    if (!require.defined('jstree')) {\n",
       "        require.config({\n",
       "            paths: {\n",
       "                jstree: '//cdnjs.cloudflare.com/ajax/libs/jstree/3.3.3/jstree.min'\n",
       "            },\n",
       "        });\n",
       "    }\n",
       "    require(['jstree'], function() {\n",
       "        $('#3edbc117-0831-45b6-9990-1da5f33e1f68').jstree({\n",
       "            types: {\n",
       "                Group: {\n",
       "                    icon: \"fa fa-folder\"\n",
       "                },\n",
       "                Array: {\n",
       "                    icon: \"fa fa-table\"\n",
       "                }\n",
       "            },\n",
       "            plugins: [\"types\"]\n",
       "        });\n",
       "    });\n",
       "</script>\n"
      ],
      "text/plain": [
       "/\n",
       " ├── bar\n",
       " │   ├── baz\n",
       " │   ├── quux\n",
       " │   │   ├── aaa (100,) float64\n",
       " │   │   └── bbb (100, 100) int32\n",
       " │   ├── xxx (100,) float64\n",
       " │   ├── yyy (100, 100) int32\n",
       " │   └── zoo\n",
       " └── foo"
      ]
     },
     "execution_count": 11,
     "metadata": {},
     "output_type": "execute_result"
    }
   ],
   "source": [
    "g1.tree(expand=1)"
   ]
  },
  {
   "cell_type": "code",
   "execution_count": 12,
   "metadata": {},
   "outputs": [
    {
     "data": {
      "text/html": [
       "<link rel=\"stylesheet\" href=\"//cdnjs.cloudflare.com/ajax/libs/jstree/3.3.3/themes/default/style.min.css\"/><div id=\"67944974-e23a-40f6-b33c-174e3253101d\" class=\"zarr-tree\"><ul><li data-jstree='{\"type\": \"Group\"}' class='jstree-open'><span>/</span><ul><li data-jstree='{\"type\": \"Group\"}' class='jstree-open'><span>bar</span><ul><li data-jstree='{\"type\": \"Group\"}' class=''><span>baz</span></li><li data-jstree='{\"type\": \"Group\"}' class=''><span>quux</span><ul><li data-jstree='{\"type\": \"Array\"}' class=''><span>aaa (100,) float64</span></li><li data-jstree='{\"type\": \"Array\"}' class=''><span>bbb (100, 100) int32</span></li></ul></li><li data-jstree='{\"type\": \"Array\"}' class=''><span>xxx (100,) float64</span></li><li data-jstree='{\"type\": \"Array\"}' class=''><span>yyy (100, 100) int32</span></li><li data-jstree='{\"type\": \"Group\"}' class=''><span>zoo</span></li></ul></li><li data-jstree='{\"type\": \"Group\"}' class='jstree-open'><span>foo</span></li></ul></li></ul></div>\n",
       "<script>\n",
       "    if (!require.defined('jquery')) {\n",
       "        require.config({\n",
       "            paths: {\n",
       "                jquery: '//cdnjs.cloudflare.com/ajax/libs/jquery/1.12.1/jquery.min'\n",
       "            },\n",
       "        });\n",
       "    }\n",
       "    if (!require.defined('jstree')) {\n",
       "        require.config({\n",
       "            paths: {\n",
       "                jstree: '//cdnjs.cloudflare.com/ajax/libs/jstree/3.3.3/jstree.min'\n",
       "            },\n",
       "        });\n",
       "    }\n",
       "    require(['jstree'], function() {\n",
       "        $('#67944974-e23a-40f6-b33c-174e3253101d').jstree({\n",
       "            types: {\n",
       "                Group: {\n",
       "                    icon: \"fa fa-folder\"\n",
       "                },\n",
       "                Array: {\n",
       "                    icon: \"fa fa-table\"\n",
       "                }\n",
       "            },\n",
       "            plugins: [\"types\"]\n",
       "        });\n",
       "    });\n",
       "</script>\n"
      ],
      "text/plain": [
       "/\n",
       " ├── bar\n",
       " │   ├── baz\n",
       " │   ├── quux\n",
       " │   │   ├── aaa (100,) float64\n",
       " │   │   └── bbb (100, 100) int32\n",
       " │   ├── xxx (100,) float64\n",
       " │   ├── yyy (100, 100) int32\n",
       " │   └── zoo\n",
       " └── foo"
      ]
     },
     "execution_count": 12,
     "metadata": {},
     "output_type": "execute_result"
    }
   ],
   "source": [
    "g1.tree(expand=2)"
   ]
  },
  {
   "cell_type": "code",
   "execution_count": 13,
   "metadata": {},
   "outputs": [
    {
     "data": {
      "text/html": [
       "<link rel=\"stylesheet\" href=\"//cdnjs.cloudflare.com/ajax/libs/jstree/3.3.3/themes/default/style.min.css\"/><div id=\"3e1bdd6d-b61f-4508-a4f8-af5b45e91556\" class=\"zarr-tree\"><ul><li data-jstree='{\"type\": \"Group\"}' class='jstree-open'><span>/</span><ul><li data-jstree='{\"type\": \"Group\"}' class='jstree-open'><span>bar</span><ul><li data-jstree='{\"type\": \"Group\"}' class='jstree-open'><span>baz</span></li><li data-jstree='{\"type\": \"Group\"}' class='jstree-open'><span>quux</span><ul><li data-jstree='{\"type\": \"Array\"}' class=''><span>aaa (100,) float64</span></li><li data-jstree='{\"type\": \"Array\"}' class=''><span>bbb (100, 100) int32</span></li></ul></li><li data-jstree='{\"type\": \"Array\"}' class='jstree-open'><span>xxx (100,) float64</span></li><li data-jstree='{\"type\": \"Array\"}' class='jstree-open'><span>yyy (100, 100) int32</span></li><li data-jstree='{\"type\": \"Group\"}' class='jstree-open'><span>zoo</span></li></ul></li><li data-jstree='{\"type\": \"Group\"}' class='jstree-open'><span>foo</span></li></ul></li></ul></div>\n",
       "<script>\n",
       "    if (!require.defined('jquery')) {\n",
       "        require.config({\n",
       "            paths: {\n",
       "                jquery: '//cdnjs.cloudflare.com/ajax/libs/jquery/1.12.1/jquery.min'\n",
       "            },\n",
       "        });\n",
       "    }\n",
       "    if (!require.defined('jstree')) {\n",
       "        require.config({\n",
       "            paths: {\n",
       "                jstree: '//cdnjs.cloudflare.com/ajax/libs/jstree/3.3.3/jstree.min'\n",
       "            },\n",
       "        });\n",
       "    }\n",
       "    require(['jstree'], function() {\n",
       "        $('#3e1bdd6d-b61f-4508-a4f8-af5b45e91556').jstree({\n",
       "            types: {\n",
       "                Group: {\n",
       "                    icon: \"fa fa-folder\"\n",
       "                },\n",
       "                Array: {\n",
       "                    icon: \"fa fa-table\"\n",
       "                }\n",
       "            },\n",
       "            plugins: [\"types\"]\n",
       "        });\n",
       "    });\n",
       "</script>\n"
      ],
      "text/plain": [
       "/\n",
       " ├── bar\n",
       " │   ├── baz\n",
       " │   ├── quux\n",
       " │   │   ├── aaa (100,) float64\n",
       " │   │   └── bbb (100, 100) int32\n",
       " │   ├── xxx (100,) float64\n",
       " │   ├── yyy (100, 100) int32\n",
       " │   └── zoo\n",
       " └── foo"
      ]
     },
     "execution_count": 13,
     "metadata": {},
     "output_type": "execute_result"
    }
   ],
   "source": [
    "g1.tree(expand=3)"
   ]
  },
  {
   "cell_type": "markdown",
   "metadata": {},
   "source": [
    "Change default icons, use icons from jstree default theme:"
   ]
  },
  {
   "cell_type": "code",
   "execution_count": 14,
   "metadata": {},
   "outputs": [],
   "source": [
    "zarr.util.tree_array_icon = 'jstree-file'\n",
    "zarr.util.tree_group_icon = 'jstree-folder'"
   ]
  },
  {
   "cell_type": "code",
   "execution_count": 15,
   "metadata": {},
   "outputs": [
    {
     "data": {
      "text/html": [
       "<link rel=\"stylesheet\" href=\"//cdnjs.cloudflare.com/ajax/libs/jstree/3.3.3/themes/default/style.min.css\"/><div id=\"7ebbd81a-85bd-4b43-a2cf-d60ada34440a\" class=\"zarr-tree\"><ul><li data-jstree='{\"type\": \"Group\"}' class='jstree-open'><span>/</span><ul><li data-jstree='{\"type\": \"Group\"}' class='jstree-open'><span>bar</span><ul><li data-jstree='{\"type\": \"Group\"}' class='jstree-open'><span>baz</span></li><li data-jstree='{\"type\": \"Group\"}' class='jstree-open'><span>quux</span><ul><li data-jstree='{\"type\": \"Array\"}' class='jstree-open'><span>aaa (100,) float64</span></li><li data-jstree='{\"type\": \"Array\"}' class='jstree-open'><span>bbb (100, 100) int32</span></li></ul></li><li data-jstree='{\"type\": \"Array\"}' class='jstree-open'><span>xxx (100,) float64</span></li><li data-jstree='{\"type\": \"Array\"}' class='jstree-open'><span>yyy (100, 100) int32</span></li><li data-jstree='{\"type\": \"Group\"}' class='jstree-open'><span>zoo</span></li></ul></li><li data-jstree='{\"type\": \"Group\"}' class='jstree-open'><span>foo</span></li></ul></li></ul></div>\n",
       "<script>\n",
       "    if (!require.defined('jquery')) {\n",
       "        require.config({\n",
       "            paths: {\n",
       "                jquery: '//cdnjs.cloudflare.com/ajax/libs/jquery/1.12.1/jquery.min'\n",
       "            },\n",
       "        });\n",
       "    }\n",
       "    if (!require.defined('jstree')) {\n",
       "        require.config({\n",
       "            paths: {\n",
       "                jstree: '//cdnjs.cloudflare.com/ajax/libs/jstree/3.3.3/jstree.min'\n",
       "            },\n",
       "        });\n",
       "    }\n",
       "    require(['jstree'], function() {\n",
       "        $('#7ebbd81a-85bd-4b43-a2cf-d60ada34440a').jstree({\n",
       "            types: {\n",
       "                Group: {\n",
       "                    icon: \"jstree-folder\"\n",
       "                },\n",
       "                Array: {\n",
       "                    icon: \"jstree-file\"\n",
       "                }\n",
       "            },\n",
       "            plugins: [\"types\"]\n",
       "        });\n",
       "    });\n",
       "</script>\n"
      ],
      "text/plain": [
       "/\n",
       " ├── bar\n",
       " │   ├── baz\n",
       " │   ├── quux\n",
       " │   │   ├── aaa (100,) float64\n",
       " │   │   └── bbb (100, 100) int32\n",
       " │   ├── xxx (100,) float64\n",
       " │   ├── yyy (100, 100) int32\n",
       " │   └── zoo\n",
       " └── foo"
      ]
     },
     "execution_count": 15,
     "metadata": {},
     "output_type": "execute_result"
    }
   ],
   "source": [
    "g1.tree(expand=True)"
   ]
  },
  {
   "cell_type": "markdown",
   "metadata": {},
   "source": [
    "Change default icons, use font awesome icons."
   ]
  },
  {
   "cell_type": "code",
   "execution_count": 16,
   "metadata": {},
   "outputs": [],
   "source": [
    "zarr.util.tree_array_icon = 'fa fa-space-shuttle'\n",
    "zarr.util.tree_group_icon = 'fa fa-star-o'"
   ]
  },
  {
   "cell_type": "code",
   "execution_count": 17,
   "metadata": {},
   "outputs": [
    {
     "data": {
      "text/html": [
       "<link rel=\"stylesheet\" href=\"//cdnjs.cloudflare.com/ajax/libs/jstree/3.3.3/themes/default/style.min.css\"/><div id=\"6eed02c5-813f-44d9-b2f3-0831b7f20747\" class=\"zarr-tree\"><ul><li data-jstree='{\"type\": \"Group\"}' class='jstree-open'><span>/</span><ul><li data-jstree='{\"type\": \"Group\"}' class='jstree-open'><span>bar</span><ul><li data-jstree='{\"type\": \"Group\"}' class='jstree-open'><span>baz</span></li><li data-jstree='{\"type\": \"Group\"}' class='jstree-open'><span>quux</span><ul><li data-jstree='{\"type\": \"Array\"}' class='jstree-open'><span>aaa (100,) float64</span></li><li data-jstree='{\"type\": \"Array\"}' class='jstree-open'><span>bbb (100, 100) int32</span></li></ul></li><li data-jstree='{\"type\": \"Array\"}' class='jstree-open'><span>xxx (100,) float64</span></li><li data-jstree='{\"type\": \"Array\"}' class='jstree-open'><span>yyy (100, 100) int32</span></li><li data-jstree='{\"type\": \"Group\"}' class='jstree-open'><span>zoo</span></li></ul></li><li data-jstree='{\"type\": \"Group\"}' class='jstree-open'><span>foo</span></li></ul></li></ul></div>\n",
       "<script>\n",
       "    if (!require.defined('jquery')) {\n",
       "        require.config({\n",
       "            paths: {\n",
       "                jquery: '//cdnjs.cloudflare.com/ajax/libs/jquery/1.12.1/jquery.min'\n",
       "            },\n",
       "        });\n",
       "    }\n",
       "    if (!require.defined('jstree')) {\n",
       "        require.config({\n",
       "            paths: {\n",
       "                jstree: '//cdnjs.cloudflare.com/ajax/libs/jstree/3.3.3/jstree.min'\n",
       "            },\n",
       "        });\n",
       "    }\n",
       "    require(['jstree'], function() {\n",
       "        $('#6eed02c5-813f-44d9-b2f3-0831b7f20747').jstree({\n",
       "            types: {\n",
       "                Group: {\n",
       "                    icon: \"fa fa-star-o\"\n",
       "                },\n",
       "                Array: {\n",
       "                    icon: \"fa fa-space-shuttle\"\n",
       "                }\n",
       "            },\n",
       "            plugins: [\"types\"]\n",
       "        });\n",
       "    });\n",
       "</script>\n"
      ],
      "text/plain": [
       "/\n",
       " ├── bar\n",
       " │   ├── baz\n",
       " │   ├── quux\n",
       " │   │   ├── aaa (100,) float64\n",
       " │   │   └── bbb (100, 100) int32\n",
       " │   ├── xxx (100,) float64\n",
       " │   ├── yyy (100, 100) int32\n",
       " │   └── zoo\n",
       " └── foo"
      ]
     },
     "execution_count": 17,
     "metadata": {},
     "output_type": "execute_result"
    }
   ],
   "source": [
    "g1.tree(expand=True)"
   ]
  },
  {
   "cell_type": "code",
   "execution_count": null,
   "metadata": {},
   "outputs": [],
   "source": []
  }
 ],
 "metadata": {
  "kernelspec": {
   "display_name": "Python 3",
   "language": "python",
   "name": "python3"
  },
  "language_info": {
   "codemirror_mode": {
    "name": "ipython",
    "version": 3
   },
   "file_extension": ".py",
   "mimetype": "text/x-python",
   "name": "python",
   "nbconvert_exporter": "python",
   "pygments_lexer": "ipython3",
   "version": "3.6.1"
  }
 },
 "nbformat": 4,
 "nbformat_minor": 2
}
