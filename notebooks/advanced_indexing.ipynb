{
 "cells": [
  {
   "cell_type": "markdown",
   "metadata": {},
   "source": [
    "# Advanced indexing"
   ]
  },
  {
   "cell_type": "code",
   "execution_count": 1,
   "metadata": {},
   "outputs": [
    {
     "data": {
      "text/plain": [
       "'2.1.5.dev113'"
      ]
     },
     "execution_count": 1,
     "metadata": {},
     "output_type": "execute_result"
    }
   ],
   "source": [
    "import sys\n",
    "sys.path.insert(0, '..')\n",
    "import zarr\n",
    "import numpy as np\n",
    "np.random.seed(42)\n",
    "import cProfile\n",
    "zarr.__version__"
   ]
  },
  {
   "cell_type": "markdown",
   "metadata": {},
   "source": [
    "## Functionality and API"
   ]
  },
  {
   "cell_type": "markdown",
   "metadata": {},
   "source": [
    "### Indexing a 1D array with a Boolean array\n",
    "\n",
    "Supported via ``__getitem__`` and ``__setitem__`` just like numpy array."
   ]
  },
  {
   "cell_type": "code",
   "execution_count": 3,
   "metadata": {},
   "outputs": [],
   "source": [
    "a = np.arange(10)\n",
    "za = zarr.array(a, chunks=2)\n",
    "ix = [False,  True,  False,  True, False, True, False,  True,  False,  True]"
   ]
  },
  {
   "cell_type": "code",
   "execution_count": 4,
   "metadata": {},
   "outputs": [
    {
     "data": {
      "text/plain": [
       "array([1, 3, 5, 7, 9])"
      ]
     },
     "execution_count": 4,
     "metadata": {},
     "output_type": "execute_result"
    }
   ],
   "source": [
    "# get items\n",
    "za[ix]"
   ]
  },
  {
   "cell_type": "code",
   "execution_count": 5,
   "metadata": {},
   "outputs": [
    {
     "data": {
      "text/plain": [
       "array([ 0, 10,  2, 30,  4, 50,  6, 70,  8, 90])"
      ]
     },
     "execution_count": 5,
     "metadata": {},
     "output_type": "execute_result"
    }
   ],
   "source": [
    "# set items\n",
    "za[ix] = a[ix] * 10\n",
    "za[:]"
   ]
  },
  {
   "cell_type": "code",
   "execution_count": 6,
   "metadata": {},
   "outputs": [
    {
     "data": {
      "text/plain": [
       "array([1, 3, 5, 7, 9])"
      ]
     },
     "execution_count": 6,
     "metadata": {},
     "output_type": "execute_result"
    }
   ],
   "source": [
    "# indexing array can be any array-like, e.g., Zarr array\n",
    "zix = zarr.array(ix, chunks=2)\n",
    "za = zarr.array(a, chunks=2)\n",
    "za[zix]  # will not load all zix into memory"
   ]
  },
  {
   "cell_type": "markdown",
   "metadata": {},
   "source": [
    "### Indexing a 1D array with an integer array\n",
    "\n",
    "Supported via ``__getitem__`` and ``__setitem__`` just like numpy array."
   ]
  },
  {
   "cell_type": "code",
   "execution_count": 7,
   "metadata": {},
   "outputs": [],
   "source": [
    "a = np.arange(10)\n",
    "za = zarr.array(a, chunks=2)\n",
    "ix = [1, 3, 5, 7, 9]"
   ]
  },
  {
   "cell_type": "code",
   "execution_count": 8,
   "metadata": {},
   "outputs": [
    {
     "data": {
      "text/plain": [
       "array([1, 3, 5, 7, 9])"
      ]
     },
     "execution_count": 8,
     "metadata": {},
     "output_type": "execute_result"
    }
   ],
   "source": [
    "# get items\n",
    "za[ix]"
   ]
  },
  {
   "cell_type": "code",
   "execution_count": 9,
   "metadata": {},
   "outputs": [
    {
     "data": {
      "text/plain": [
       "array([ 0, 10,  2, 30,  4, 50,  6, 70,  8, 90])"
      ]
     },
     "execution_count": 9,
     "metadata": {},
     "output_type": "execute_result"
    }
   ],
   "source": [
    "# set items\n",
    "za[ix] = a[ix] * 10\n",
    "za[:]"
   ]
  },
  {
   "cell_type": "markdown",
   "metadata": {},
   "source": [
    "### Slicing a 1D array with step > 1\n",
    "\n",
    "Slices with step > 1 are supported. Internally these are converted to an integer array via ``np.arange``."
   ]
  },
  {
   "cell_type": "code",
   "execution_count": 10,
   "metadata": {},
   "outputs": [],
   "source": [
    "a = np.arange(10)\n",
    "za = zarr.array(a, chunks=2)"
   ]
  },
  {
   "cell_type": "code",
   "execution_count": 11,
   "metadata": {},
   "outputs": [
    {
     "data": {
      "text/plain": [
       "array([1, 3, 5, 7, 9])"
      ]
     },
     "execution_count": 11,
     "metadata": {},
     "output_type": "execute_result"
    }
   ],
   "source": [
    "# get items\n",
    "za[1::2]"
   ]
  },
  {
   "cell_type": "code",
   "execution_count": 12,
   "metadata": {},
   "outputs": [
    {
     "data": {
      "text/plain": [
       "array([ 0, 10,  2, 30,  4, 50,  6, 70,  8, 90])"
      ]
     },
     "execution_count": 12,
     "metadata": {},
     "output_type": "execute_result"
    }
   ],
   "source": [
    "# set items\n",
    "za[1::2] = a[1::2] * 10\n",
    "za[:]"
   ]
  },
  {
   "cell_type": "markdown",
   "metadata": {},
   "source": [
    "### Orthogonal (outer) indexing of multi-dimensional arrays\n",
    "\n",
    "Orthogonal (a.k.a. outer) indexing is supported with either Boolean or integer arrays. This functionality is provided via the ``get/set_orthogonal_selection()`` methods. For convenience, this functionality is also available via the ``oindex[]`` property as has been proposed for numpy."
   ]
  },
  {
   "cell_type": "code",
   "execution_count": 13,
   "metadata": {},
   "outputs": [
    {
     "data": {
      "text/plain": [
       "array([[ 0,  1,  2],\n",
       "       [ 3,  4,  5],\n",
       "       [ 6,  7,  8],\n",
       "       [ 9, 10, 11],\n",
       "       [12, 13, 14]])"
      ]
     },
     "execution_count": 13,
     "metadata": {},
     "output_type": "execute_result"
    }
   ],
   "source": [
    "a = np.arange(15).reshape(5, 3)\n",
    "za = zarr.array(a, chunks=(3, 2))\n",
    "za[:]"
   ]
  },
  {
   "cell_type": "code",
   "execution_count": 14,
   "metadata": {},
   "outputs": [
    {
     "data": {
      "text/plain": [
       "array([[ 3,  5],\n",
       "       [ 9, 11]])"
      ]
     },
     "execution_count": 14,
     "metadata": {},
     "output_type": "execute_result"
    }
   ],
   "source": [
    "# orthogonal indexing with Boolean arrays\n",
    "ix0 = [False, True, False, True, False]\n",
    "ix1 = [True, False, True]\n",
    "za.get_orthogonal_selection((ix0, ix1))"
   ]
  },
  {
   "cell_type": "code",
   "execution_count": 15,
   "metadata": {},
   "outputs": [
    {
     "data": {
      "text/plain": [
       "array([[ 3,  5],\n",
       "       [ 9, 11]])"
      ]
     },
     "execution_count": 15,
     "metadata": {},
     "output_type": "execute_result"
    }
   ],
   "source": [
    "# alternative API\n",
    "za.oindex[ix0, ix1]"
   ]
  },
  {
   "cell_type": "code",
   "execution_count": 16,
   "metadata": {},
   "outputs": [
    {
     "data": {
      "text/plain": [
       "array([[ 3,  5],\n",
       "       [ 9, 11]])"
      ]
     },
     "execution_count": 16,
     "metadata": {},
     "output_type": "execute_result"
    }
   ],
   "source": [
    "# orthogonal indexing with integer arrays\n",
    "ix0 = [1, 3]\n",
    "ix1 = [0, 2]\n",
    "za.get_orthogonal_selection((ix0, ix1))"
   ]
  },
  {
   "cell_type": "code",
   "execution_count": 17,
   "metadata": {},
   "outputs": [
    {
     "data": {
      "text/plain": [
       "array([[ 3,  5],\n",
       "       [ 9, 11]])"
      ]
     },
     "execution_count": 17,
     "metadata": {},
     "output_type": "execute_result"
    }
   ],
   "source": [
    "# alternative API\n",
    "za.oindex[ix0, ix1]"
   ]
  },
  {
   "cell_type": "code",
   "execution_count": 18,
   "metadata": {},
   "outputs": [
    {
     "data": {
      "text/plain": [
       "array([[ 3,  4,  5],\n",
       "       [ 9, 10, 11]])"
      ]
     },
     "execution_count": 18,
     "metadata": {},
     "output_type": "execute_result"
    }
   ],
   "source": [
    "# combine with slice\n",
    "za.oindex[[1,  3], :]"
   ]
  },
  {
   "cell_type": "code",
   "execution_count": 19,
   "metadata": {},
   "outputs": [
    {
     "data": {
      "text/plain": [
       "array([[ 0,  2],\n",
       "       [ 3,  5],\n",
       "       [ 6,  8],\n",
       "       [ 9, 11],\n",
       "       [12, 14]])"
      ]
     },
     "execution_count": 19,
     "metadata": {},
     "output_type": "execute_result"
    }
   ],
   "source": [
    "# combine with slice\n",
    "za.oindex[:, [0, 2]]"
   ]
  },
  {
   "cell_type": "code",
   "execution_count": 20,
   "metadata": {},
   "outputs": [
    {
     "data": {
      "text/plain": [
       "array([[ 0,  1,  2],\n",
       "       [42,  4, 42],\n",
       "       [ 6,  7,  8],\n",
       "       [42, 10, 42],\n",
       "       [12, 13, 14]])"
      ]
     },
     "execution_count": 20,
     "metadata": {},
     "output_type": "execute_result"
    }
   ],
   "source": [
    "# set items via Boolean selection\n",
    "ix0 = [False, True, False, True, False]\n",
    "ix1 = [True, False, True]\n",
    "selection = ix0, ix1\n",
    "value = 42\n",
    "za.set_orthogonal_selection(selection, value)\n",
    "za[:]"
   ]
  },
  {
   "cell_type": "code",
   "execution_count": 21,
   "metadata": {},
   "outputs": [
    {
     "data": {
      "text/plain": [
       "array([[ 0,  1,  2],\n",
       "       [44,  4, 44],\n",
       "       [ 6,  7,  8],\n",
       "       [44, 10, 44],\n",
       "       [12, 13, 14]])"
      ]
     },
     "execution_count": 21,
     "metadata": {},
     "output_type": "execute_result"
    }
   ],
   "source": [
    "# alternative API\n",
    "za.oindex[ix0, ix1] = 44\n",
    "za[:]"
   ]
  },
  {
   "cell_type": "code",
   "execution_count": 22,
   "metadata": {},
   "outputs": [
    {
     "data": {
      "text/plain": [
       "array([[ 0,  1,  2],\n",
       "       [46,  4, 46],\n",
       "       [ 6,  7,  8],\n",
       "       [46, 10, 46],\n",
       "       [12, 13, 14]])"
      ]
     },
     "execution_count": 22,
     "metadata": {},
     "output_type": "execute_result"
    }
   ],
   "source": [
    "# set items via integer selection\n",
    "ix0 = [1, 3]\n",
    "ix1 = [0, 2]\n",
    "selection = ix0, ix1\n",
    "value = 46\n",
    "za.set_orthogonal_selection(selection, value)\n",
    "za[:]"
   ]
  },
  {
   "cell_type": "code",
   "execution_count": 23,
   "metadata": {},
   "outputs": [
    {
     "data": {
      "text/plain": [
       "array([[ 0,  1,  2],\n",
       "       [48,  4, 48],\n",
       "       [ 6,  7,  8],\n",
       "       [48, 10, 48],\n",
       "       [12, 13, 14]])"
      ]
     },
     "execution_count": 23,
     "metadata": {},
     "output_type": "execute_result"
    }
   ],
   "source": [
    "# alternative API\n",
    "za.oindex[ix0, ix1] = 48\n",
    "za[:]"
   ]
  },
  {
   "cell_type": "markdown",
   "metadata": {},
   "source": [
    "### Coordinate indexing of multi-dimensional arrays\n",
    "\n",
    "Selecting arbitrary points from a multi-dimensional array by indexing with integer (coordinate) arrays is supported. This functionality is provided via the ``get/set_coordinate_selection()`` methods. For convenience, this functionality is also available via the ``vindex[]`` property as has been proposed for numpy."
   ]
  },
  {
   "cell_type": "code",
   "execution_count": 24,
   "metadata": {},
   "outputs": [
    {
     "data": {
      "text/plain": [
       "array([[ 0,  1,  2],\n",
       "       [ 3,  4,  5],\n",
       "       [ 6,  7,  8],\n",
       "       [ 9, 10, 11],\n",
       "       [12, 13, 14]])"
      ]
     },
     "execution_count": 24,
     "metadata": {},
     "output_type": "execute_result"
    }
   ],
   "source": [
    "a = np.arange(15).reshape(5, 3)\n",
    "za = zarr.array(a, chunks=(3, 2))\n",
    "za[:]"
   ]
  },
  {
   "cell_type": "code",
   "execution_count": 25,
   "metadata": {},
   "outputs": [
    {
     "data": {
      "text/plain": [
       "array([ 3, 11])"
      ]
     },
     "execution_count": 25,
     "metadata": {},
     "output_type": "execute_result"
    }
   ],
   "source": [
    "# get items\n",
    "ix0 = [1, 3]\n",
    "ix1 = [0, 2]\n",
    "za.get_coordinate_selection((ix0, ix1))"
   ]
  },
  {
   "cell_type": "code",
   "execution_count": 26,
   "metadata": {},
   "outputs": [
    {
     "data": {
      "text/plain": [
       "array([ 3, 11])"
      ]
     },
     "execution_count": 26,
     "metadata": {},
     "output_type": "execute_result"
    }
   ],
   "source": [
    "# alternative API\n",
    "za.vindex[ix0, ix1]"
   ]
  },
  {
   "cell_type": "code",
   "execution_count": 27,
   "metadata": {},
   "outputs": [
    {
     "data": {
      "text/plain": [
       "array([[ 0,  1,  2],\n",
       "       [42,  4,  5],\n",
       "       [ 6,  7,  8],\n",
       "       [ 9, 10, 42],\n",
       "       [12, 13, 14]])"
      ]
     },
     "execution_count": 27,
     "metadata": {},
     "output_type": "execute_result"
    }
   ],
   "source": [
    "# set items\n",
    "za.set_coordinate_selection((ix0, ix1), 42)\n",
    "za[:]"
   ]
  },
  {
   "cell_type": "code",
   "execution_count": 28,
   "metadata": {},
   "outputs": [
    {
     "data": {
      "text/plain": [
       "array([[ 0,  1,  2],\n",
       "       [44,  4,  5],\n",
       "       [ 6,  7,  8],\n",
       "       [ 9, 10, 44],\n",
       "       [12, 13, 14]])"
      ]
     },
     "execution_count": 28,
     "metadata": {},
     "output_type": "execute_result"
    }
   ],
   "source": [
    "# alternative API\n",
    "za.vindex[ix0, ix1] = 44\n",
    "za[:]"
   ]
  },
  {
   "cell_type": "markdown",
   "metadata": {},
   "source": [
    "### Mask indexing of multi-dimensional arrays\n",
    "\n",
    "Selecting arbitrary points from a multi-dimensional array by a Boolean array is supported. This functionality is provided via the ``get/set_mask_selection()`` methods. For convenience, this functionality is also available via the ``vindex[]`` property as has been proposed for numpy."
   ]
  },
  {
   "cell_type": "code",
   "execution_count": 31,
   "metadata": {},
   "outputs": [
    {
     "data": {
      "text/plain": [
       "array([[ 0,  1,  2],\n",
       "       [ 3,  4,  5],\n",
       "       [ 6,  7,  8],\n",
       "       [ 9, 10, 11],\n",
       "       [12, 13, 14]])"
      ]
     },
     "execution_count": 31,
     "metadata": {},
     "output_type": "execute_result"
    }
   ],
   "source": [
    "a = np.arange(15).reshape(5, 3)\n",
    "za = zarr.array(a, chunks=(3, 2))\n",
    "za[:]"
   ]
  },
  {
   "cell_type": "code",
   "execution_count": 33,
   "metadata": {},
   "outputs": [
    {
     "data": {
      "text/plain": [
       "array([ 3, 11])"
      ]
     },
     "execution_count": 33,
     "metadata": {},
     "output_type": "execute_result"
    }
   ],
   "source": [
    "ix = np.zeros_like(a, dtype=bool)\n",
    "ix[1, 0] = True\n",
    "ix[3, 2] = True\n",
    "za.get_mask_selection(ix)"
   ]
  },
  {
   "cell_type": "code",
   "execution_count": 34,
   "metadata": {},
   "outputs": [
    {
     "data": {
      "text/plain": [
       "array([ 3, 11])"
      ]
     },
     "execution_count": 34,
     "metadata": {},
     "output_type": "execute_result"
    }
   ],
   "source": [
    "za.vindex[ix]"
   ]
  },
  {
   "cell_type": "code",
   "execution_count": 35,
   "metadata": {},
   "outputs": [
    {
     "data": {
      "text/plain": [
       "array([[ 0,  1,  2],\n",
       "       [42,  4,  5],\n",
       "       [ 6,  7,  8],\n",
       "       [ 9, 10, 42],\n",
       "       [12, 13, 14]])"
      ]
     },
     "execution_count": 35,
     "metadata": {},
     "output_type": "execute_result"
    }
   ],
   "source": [
    "za.set_mask_selection(ix, 42)\n",
    "za[:]"
   ]
  },
  {
   "cell_type": "code",
   "execution_count": 36,
   "metadata": {},
   "outputs": [
    {
     "data": {
      "text/plain": [
       "array([[ 0,  1,  2],\n",
       "       [44,  4,  5],\n",
       "       [ 6,  7,  8],\n",
       "       [ 9, 10, 44],\n",
       "       [12, 13, 14]])"
      ]
     },
     "execution_count": 36,
     "metadata": {},
     "output_type": "execute_result"
    }
   ],
   "source": [
    "za.vindex[ix] = 44\n",
    "za[:]"
   ]
  },
  {
   "cell_type": "markdown",
   "metadata": {},
   "source": [
    "## 1D Benchmarking"
   ]
  },
  {
   "cell_type": "code",
   "execution_count": 37,
   "metadata": {},
   "outputs": [
    {
     "data": {
      "text/plain": [
       "800000000"
      ]
     },
     "execution_count": 37,
     "metadata": {},
     "output_type": "execute_result"
    }
   ],
   "source": [
    "c = np.arange(100000000)\n",
    "c.nbytes"
   ]
  },
  {
   "cell_type": "code",
   "execution_count": 38,
   "metadata": {},
   "outputs": [
    {
     "name": "stdout",
     "output_type": "stream",
     "text": [
      "CPU times: user 520 ms, sys: 44 ms, total: 564 ms\n",
      "Wall time: 171 ms\n"
     ]
    },
    {
     "data": {
      "text/html": [
       "<table class=\"zarr-info\"><tbody><tr><th style=\"text-align: left\">Type</th><td style=\"text-align: left\">zarr.core.Array</td></tr><tr><th style=\"text-align: left\">Data type</th><td style=\"text-align: left\">int64</td></tr><tr><th style=\"text-align: left\">Shape</th><td style=\"text-align: left\">(100000000,)</td></tr><tr><th style=\"text-align: left\">Chunk shape</th><td style=\"text-align: left\">(97657,)</td></tr><tr><th style=\"text-align: left\">Order</th><td style=\"text-align: left\">C</td></tr><tr><th style=\"text-align: left\">Read-only</th><td style=\"text-align: left\">False</td></tr><tr><th style=\"text-align: left\">Compressor</th><td style=\"text-align: left\">Blosc(cname='lz4', clevel=5, shuffle=SHUFFLE, blocksize=0)</td></tr><tr><th style=\"text-align: left\">Store type</th><td style=\"text-align: left\">builtins.dict</td></tr><tr><th style=\"text-align: left\">No. bytes</th><td style=\"text-align: left\">800000000 (762.9M)</td></tr><tr><th style=\"text-align: left\">No. bytes stored</th><td style=\"text-align: left\">11854081 (11.3M)</td></tr><tr><th style=\"text-align: left\">Storage ratio</th><td style=\"text-align: left\">67.5</td></tr><tr><th style=\"text-align: left\">Chunks initialized</th><td style=\"text-align: left\">1024/1024</td></tr></tbody></table>"
      ],
      "text/plain": [
       "Type               : zarr.core.Array\n",
       "Data type          : int64\n",
       "Shape              : (100000000,)\n",
       "Chunk shape        : (97657,)\n",
       "Order              : C\n",
       "Read-only          : False\n",
       "Compressor         : Blosc(cname='lz4', clevel=5, shuffle=SHUFFLE, blocksize=0)\n",
       "Store type         : builtins.dict\n",
       "No. bytes          : 800000000 (762.9M)\n",
       "No. bytes stored   : 11854081 (11.3M)\n",
       "Storage ratio      : 67.5\n",
       "Chunks initialized : 1024/1024"
      ]
     },
     "execution_count": 38,
     "metadata": {},
     "output_type": "execute_result"
    }
   ],
   "source": [
    "%time zc = zarr.array(c)\n",
    "zc.info"
   ]
  },
  {
   "cell_type": "code",
   "execution_count": 39,
   "metadata": {},
   "outputs": [
    {
     "name": "stdout",
     "output_type": "stream",
     "text": [
      "CPU times: user 116 ms, sys: 60 ms, total: 176 ms\n",
      "Wall time: 177 ms\n"
     ]
    },
    {
     "data": {
      "text/plain": [
       "array([       0,        1,        2, ..., 99999997, 99999998, 99999999])"
      ]
     },
     "execution_count": 39,
     "metadata": {},
     "output_type": "execute_result"
    }
   ],
   "source": [
    "%time c.copy()"
   ]
  },
  {
   "cell_type": "code",
   "execution_count": 40,
   "metadata": {},
   "outputs": [
    {
     "name": "stdout",
     "output_type": "stream",
     "text": [
      "CPU times: user 492 ms, sys: 80 ms, total: 572 ms\n",
      "Wall time: 282 ms\n"
     ]
    },
    {
     "data": {
      "text/plain": [
       "array([       0,        1,        2, ..., 99999997, 99999998, 99999999])"
      ]
     },
     "execution_count": 40,
     "metadata": {},
     "output_type": "execute_result"
    }
   ],
   "source": [
    "%time zc[:]"
   ]
  },
  {
   "cell_type": "markdown",
   "metadata": {},
   "source": [
    "### bool dense selection"
   ]
  },
  {
   "cell_type": "code",
   "execution_count": 44,
   "metadata": {},
   "outputs": [
    {
     "data": {
      "text/plain": [
       "9995616"
      ]
     },
     "execution_count": 44,
     "metadata": {},
     "output_type": "execute_result"
    }
   ],
   "source": [
    "# relatively dense selection - 10%\n",
    "ix_dense_bool = np.random.binomial(1, 0.1, size=c.shape[0]).astype(bool)\n",
    "np.count_nonzero(ix_dense_bool)"
   ]
  },
  {
   "cell_type": "code",
   "execution_count": 45,
   "metadata": {},
   "outputs": [
    {
     "name": "stdout",
     "output_type": "stream",
     "text": [
      "CPU times: user 348 ms, sys: 8 ms, total: 356 ms\n",
      "Wall time: 355 ms\n"
     ]
    },
    {
     "data": {
      "text/plain": [
       "array([      25,       30,       31, ..., 99999973, 99999982, 99999986])"
      ]
     },
     "execution_count": 45,
     "metadata": {},
     "output_type": "execute_result"
    }
   ],
   "source": [
    "%time c[ix_dense_bool]"
   ]
  },
  {
   "cell_type": "code",
   "execution_count": 46,
   "metadata": {},
   "outputs": [
    {
     "name": "stdout",
     "output_type": "stream",
     "text": [
      "CPU times: user 908 ms, sys: 68 ms, total: 976 ms\n",
      "Wall time: 474 ms\n"
     ]
    },
    {
     "data": {
      "text/plain": [
       "array([      25,       30,       31, ..., 99999973, 99999982, 99999986])"
      ]
     },
     "execution_count": 46,
     "metadata": {},
     "output_type": "execute_result"
    }
   ],
   "source": [
    "%time zc[ix_dense_bool]"
   ]
  },
  {
   "cell_type": "code",
   "execution_count": 47,
   "metadata": {},
   "outputs": [
    {
     "name": "stdout",
     "output_type": "stream",
     "text": [
      "         58428 function calls in 0.492 seconds\n",
      "\n",
      "   Ordered by: internal time\n",
      "\n",
      "   ncalls  tottime  percall  cumtime  percall filename:lineno(function)\n",
      "     1025    0.203    0.000    0.203    0.000 {method 'nonzero' of 'numpy.ndarray' objects}\n",
      "     1024    0.158    0.000    0.168    0.000 core.py:964(_decode_chunk)\n",
      "     1024    0.051    0.000    0.240    0.000 core.py:802(_chunk_getitem)\n",
      "     1024    0.014    0.000    0.014    0.000 {built-in method numpy.core.multiarray.count_nonzero}\n",
      "     1025    0.008    0.000    0.232    0.000 indexing.py:486(__iter__)\n",
      "     1024    0.006    0.000    0.214    0.000 index_tricks.py:26(ix_)\n",
      "     2048    0.006    0.000    0.006    0.000 core.py:324(<genexpr>)\n",
      "     2048    0.005    0.000    0.005    0.000 {method 'reshape' of 'numpy.ndarray' objects}\n",
      "     1024    0.004    0.000    0.004    0.000 {built-in method numpy.core.multiarray.frombuffer}\n",
      "        1    0.004    0.004    0.475    0.475 core.py:563(_get_selection)\n",
      "     1024    0.003    0.000    0.006    0.000 arrayprint.py:381(wrapper)\n",
      "     1024    0.003    0.000    0.008    0.000 core.py:319(_cdata_shape)\n",
      "     1024    0.002    0.000    0.010    0.000 {method 'join' of 'str' objects}\n",
      "     1025    0.002    0.000    0.003    0.000 indexing.py:296(__iter__)\n",
      "        1    0.002    0.002    0.016    0.016 indexing.py:269(__init__)\n",
      "     6152    0.002    0.000    0.002    0.000 {built-in method builtins.isinstance}\n",
      "     1024    0.002    0.000    0.002    0.000 arrayprint.py:399(array2string)\n",
      "     1024    0.002    0.000    0.217    0.000 indexing.py:398(ix_)\n",
      "     1024    0.001    0.000    0.011    0.000 core.py:961(_chunk_key)\n",
      "     1024    0.001    0.000    0.002    0.000 numerictypes.py:728(issubdtype)\n",
      "     1024    0.001    0.000    0.007    0.000 numeric.py:1905(array_str)\n",
      "     1024    0.001    0.000    0.001    0.000 indexing.py:403(<listcomp>)\n",
      "     2048    0.001    0.000    0.001    0.000 indexing.py:489(<genexpr>)\n",
      "     1024    0.001    0.000    0.001    0.000 indexing.py:501(<listcomp>)\n",
      "     2048    0.001    0.000    0.001    0.000 {built-in method __new__ of type object at 0x5642b95ef480}\n",
      "     1024    0.001    0.000    0.001    0.000 threading.py:1230(current_thread)\n",
      "     1024    0.001    0.000    0.001    0.000 {built-in method numpy.core.multiarray.array}\n",
      "     2048    0.001    0.000    0.001    0.000 indexing.py:491(<genexpr>)\n",
      "     1024    0.001    0.000    0.001    0.000 <string>:12(__new__)\n",
      "     3081    0.001    0.000    0.001    0.000 {built-in method builtins.len}\n",
      "     2048    0.000    0.000    0.000    0.000 {built-in method _thread.get_ident}\n",
      "     1024    0.000    0.000    0.014    0.000 numeric.py:380(count_nonzero)\n",
      "     1024    0.000    0.000    0.001    0.000 numeric.py:463(asarray)\n",
      "     2048    0.000    0.000    0.000    0.000 {built-in method builtins.issubclass}\n",
      "     1024    0.000    0.000    0.000    0.000 core.py:205(chunk_store)\n",
      "     1024    0.000    0.000    0.001    0.000 numerictypes.py:660(issubclass_)\n",
      "     2048    0.000    0.000    0.000    0.000 indexing.py:490(<genexpr>)\n",
      "     1024    0.000    0.000    0.000    0.000 {method 'item' of 'numpy.ndarray' objects}\n",
      "     1025    0.000    0.000    0.000    0.000 {built-in method builtins.any}\n",
      "        1    0.000    0.000    0.492    0.492 <string>:1(<module>)\n",
      "     1024    0.000    0.000    0.000    0.000 {method 'discard' of 'set' objects}\n",
      "     1024    0.000    0.000    0.000    0.000 {method 'add' of 'set' objects}\n",
      "     1024    0.000    0.000    0.000    0.000 threading.py:1304(main_thread)\n",
      "     1025    0.000    0.000    0.000    0.000 {method 'append' of 'list' objects}\n",
      "     1024    0.000    0.000    0.000    0.000 {built-in method builtins.id}\n",
      "        1    0.000    0.000    0.492    0.492 {built-in method builtins.exec}\n",
      "        1    0.000    0.000    0.016    0.016 indexing.py:425(__init__)\n",
      "        2    0.000    0.000    0.000    0.000 {built-in method numpy.core.multiarray.zeros}\n",
      "        1    0.000    0.000    0.000    0.000 {built-in method numpy.core.multiarray.empty}\n",
      "        1    0.000    0.000    0.000    0.000 {method 'cumsum' of 'numpy.ndarray' objects}\n",
      "        1    0.000    0.000    0.000    0.000 indexing.py:159(replace_ellipsis)\n",
      "        2    0.000    0.000    0.000    0.000 fromnumeric.py:55(_wrapfunc)\n",
      "        1    0.000    0.000    0.492    0.492 core.py:527(get_orthogonal_selection)\n",
      "        1    0.000    0.000    0.492    0.492 core.py:392(__getitem__)\n",
      "        1    0.000    0.000    0.000    0.000 abc.py:178(__instancecheck__)\n",
      "        1    0.000    0.000    0.000    0.000 indexing.py:15(is_integer_array)\n",
      "        1    0.000    0.000    0.000    0.000 indexing.py:481(<listcomp>)\n",
      "        1    0.000    0.000    0.000    0.000 {built-in method builtins.sum}\n",
      "        1    0.000    0.000    0.000    0.000 indexing.py:164(<genexpr>)\n",
      "        2    0.000    0.000    0.000    0.000 indexing.py:194(ensure_tuple)\n",
      "        1    0.000    0.000    0.000    0.000 indexing.py:537(replace_lists)\n",
      "        1    0.000    0.000    0.000    0.000 fromnumeric.py:2053(cumsum)\n",
      "        2    0.000    0.000    0.000    0.000 _weakrefset.py:70(__contains__)\n",
      "        1    0.000    0.000    0.000    0.000 indexing.py:19(is_bool_array)\n",
      "        2    0.000    0.000    0.000    0.000 indexing.py:539(<genexpr>)\n",
      "        2    0.000    0.000    0.000    0.000 indexing.py:476(<genexpr>)\n",
      "        1    0.000    0.000    0.000    0.000 indexing.py:478(<listcomp>)\n",
      "        2    0.000    0.000    0.000    0.000 {built-in method builtins.getattr}\n",
      "        2    0.000    0.000    0.000    0.000 {built-in method builtins.hasattr}\n",
      "        1    0.000    0.000    0.000    0.000 indexing.py:11(is_integer)\n",
      "        1    0.000    0.000    0.000    0.000 fromnumeric.py:1487(nonzero)\n",
      "        1    0.000    0.000    0.000    0.000 {method 'disable' of '_lsprof.Profiler' objects}\n",
      "\n",
      "\n"
     ]
    }
   ],
   "source": [
    "cProfile.run('zc[ix_dense_bool]', sort='time')"
   ]
  },
  {
   "cell_type": "markdown",
   "metadata": {},
   "source": [
    "Method ``nonzero`` is being called internally within numpy to convert bool to int selections, no way to avoid."
   ]
  },
  {
   "cell_type": "markdown",
   "metadata": {},
   "source": [
    "### int dense selection"
   ]
  },
  {
   "cell_type": "code",
   "execution_count": 48,
   "metadata": {},
   "outputs": [
    {
     "data": {
      "text/plain": [
       "10000000"
      ]
     },
     "execution_count": 48,
     "metadata": {},
     "output_type": "execute_result"
    }
   ],
   "source": [
    "ix_dense_int = np.random.choice(c.shape[0], size=c.shape[0]//10, replace=True)\n",
    "ix_dense_int_sorted = ix_dense_int.copy()\n",
    "ix_dense_int_sorted.sort()\n",
    "len(ix_dense_int)"
   ]
  },
  {
   "cell_type": "code",
   "execution_count": 49,
   "metadata": {},
   "outputs": [
    {
     "name": "stdout",
     "output_type": "stream",
     "text": [
      "CPU times: user 60 ms, sys: 4 ms, total: 64 ms\n",
      "Wall time: 64.1 ms\n"
     ]
    },
    {
     "data": {
      "text/plain": [
       "array([       6,       23,       34, ..., 99999974, 99999986, 99999992])"
      ]
     },
     "execution_count": 49,
     "metadata": {},
     "output_type": "execute_result"
    }
   ],
   "source": [
    "%time c[ix_dense_int_sorted]"
   ]
  },
  {
   "cell_type": "code",
   "execution_count": 50,
   "metadata": {},
   "outputs": [
    {
     "name": "stdout",
     "output_type": "stream",
     "text": [
      "CPU times: user 560 ms, sys: 100 ms, total: 660 ms\n",
      "Wall time: 386 ms\n"
     ]
    },
    {
     "data": {
      "text/plain": [
       "array([       6,       23,       34, ..., 99999974, 99999986, 99999992])"
      ]
     },
     "execution_count": 50,
     "metadata": {},
     "output_type": "execute_result"
    }
   ],
   "source": [
    "%time zc[ix_dense_int_sorted]"
   ]
  },
  {
   "cell_type": "code",
   "execution_count": 51,
   "metadata": {},
   "outputs": [
    {
     "name": "stdout",
     "output_type": "stream",
     "text": [
      "CPU times: user 108 ms, sys: 28 ms, total: 136 ms\n",
      "Wall time: 135 ms\n"
     ]
    },
    {
     "data": {
      "text/plain": [
       "array([95165047, 93422705,  3887249, ..., 41392662, 20111139, 95001327])"
      ]
     },
     "execution_count": 51,
     "metadata": {},
     "output_type": "execute_result"
    }
   ],
   "source": [
    "%time c[ix_dense_int]"
   ]
  },
  {
   "cell_type": "code",
   "execution_count": 52,
   "metadata": {},
   "outputs": [
    {
     "name": "stdout",
     "output_type": "stream",
     "text": [
      "CPU times: user 2.11 s, sys: 84 ms, total: 2.19 s\n",
      "Wall time: 1.86 s\n"
     ]
    },
    {
     "data": {
      "text/plain": [
       "array([95165047, 93422705,  3887249, ..., 41392662, 20111139, 95001327])"
      ]
     },
     "execution_count": 52,
     "metadata": {},
     "output_type": "execute_result"
    }
   ],
   "source": [
    "%time zc[ix_dense_int]"
   ]
  },
  {
   "cell_type": "code",
   "execution_count": 53,
   "metadata": {},
   "outputs": [
    {
     "name": "stdout",
     "output_type": "stream",
     "text": [
      "         55382 function calls in 0.415 seconds\n",
      "\n",
      "   Ordered by: internal time\n",
      "\n",
      "   ncalls  tottime  percall  cumtime  percall filename:lineno(function)\n",
      "        1    0.158    0.158    0.216    0.216 indexing.py:325(__init__)\n",
      "     1024    0.085    0.000    0.089    0.000 core.py:964(_decode_chunk)\n",
      "     1024    0.042    0.000    0.145    0.000 core.py:802(_chunk_getitem)\n",
      "     1025    0.031    0.000    0.031    0.000 indexing.py:372(__iter__)\n",
      "        1    0.029    0.029    0.029    0.029 {built-in method numpy.core.multiarray.bincount}\n",
      "        1    0.025    0.025    0.025    0.025 function_base.py:1848(diff)\n",
      "     1025    0.005    0.000    0.049    0.000 indexing.py:486(__iter__)\n",
      "     2048    0.004    0.000    0.004    0.000 core.py:324(<genexpr>)\n",
      "        1    0.003    0.003    0.415    0.415 core.py:527(get_orthogonal_selection)\n",
      "     1024    0.003    0.000    0.007    0.000 index_tricks.py:26(ix_)\n",
      "        4    0.003    0.001    0.003    0.001 {method 'reduce' of 'numpy.ufunc' objects}\n",
      "     2048    0.002    0.000    0.002    0.000 {method 'reshape' of 'numpy.ndarray' objects}\n",
      "     1024    0.002    0.000    0.004    0.000 arrayprint.py:381(wrapper)\n",
      "        1    0.002    0.002    0.195    0.195 core.py:563(_get_selection)\n",
      "     1024    0.002    0.000    0.005    0.000 core.py:319(_cdata_shape)\n",
      "     1024    0.002    0.000    0.007    0.000 {method 'join' of 'str' objects}\n",
      "     6152    0.001    0.000    0.001    0.000 {built-in method builtins.isinstance}\n",
      "     1024    0.001    0.000    0.001    0.000 {built-in method numpy.core.multiarray.frombuffer}\n",
      "     1024    0.001    0.000    0.002    0.000 arrayprint.py:399(array2string)\n",
      "     1024    0.001    0.000    0.009    0.000 indexing.py:398(ix_)\n",
      "     1024    0.001    0.000    0.002    0.000 numerictypes.py:728(issubdtype)\n",
      "     1024    0.001    0.000    0.007    0.000 core.py:961(_chunk_key)\n",
      "     1024    0.001    0.000    0.001    0.000 indexing.py:403(<listcomp>)\n",
      "     1024    0.001    0.000    0.005    0.000 numeric.py:1905(array_str)\n",
      "     2048    0.001    0.000    0.001    0.000 {built-in method __new__ of type object at 0x5642b95ef480}\n",
      "     2048    0.001    0.000    0.001    0.000 indexing.py:489(<genexpr>)\n",
      "     1024    0.001    0.000    0.001    0.000 indexing.py:501(<listcomp>)\n",
      "     1024    0.000    0.000    0.001    0.000 threading.py:1230(current_thread)\n",
      "     2048    0.000    0.000    0.000    0.000 indexing.py:491(<genexpr>)\n",
      "        1    0.000    0.000    0.216    0.216 indexing.py:425(__init__)\n",
      "     3081    0.000    0.000    0.000    0.000 {built-in method builtins.len}\n",
      "     1024    0.000    0.000    0.001    0.000 <string>:12(__new__)\n",
      "     1030    0.000    0.000    0.000    0.000 {built-in method numpy.core.multiarray.array}\n",
      "     2048    0.000    0.000    0.000    0.000 {built-in method builtins.issubclass}\n",
      "     2048    0.000    0.000    0.000    0.000 {built-in method _thread.get_ident}\n",
      "     2048    0.000    0.000    0.000    0.000 indexing.py:490(<genexpr>)\n",
      "     1024    0.000    0.000    0.001    0.000 numeric.py:463(asarray)\n",
      "     1024    0.000    0.000    0.001    0.000 numerictypes.py:660(issubclass_)\n",
      "     1025    0.000    0.000    0.000    0.000 {built-in method builtins.any}\n",
      "     1024    0.000    0.000    0.000    0.000 {method 'item' of 'numpy.ndarray' objects}\n",
      "     1024    0.000    0.000    0.000    0.000 core.py:205(chunk_store)\n",
      "        1    0.000    0.000    0.415    0.415 <string>:1(<module>)\n",
      "     1024    0.000    0.000    0.000    0.000 threading.py:1304(main_thread)\n",
      "     1024    0.000    0.000    0.000    0.000 {method 'discard' of 'set' objects}\n",
      "     1024    0.000    0.000    0.000    0.000 {method 'add' of 'set' objects}\n",
      "     1024    0.000    0.000    0.000    0.000 {built-in method builtins.id}\n",
      "     1025    0.000    0.000    0.000    0.000 {method 'append' of 'list' objects}\n",
      "        4    0.000    0.000    0.003    0.001 fromnumeric.py:1886(any)\n",
      "        1    0.000    0.000    0.415    0.415 {built-in method builtins.exec}\n",
      "        1    0.000    0.000    0.415    0.415 core.py:392(__getitem__)\n",
      "        1    0.000    0.000    0.000    0.000 {method 'cumsum' of 'numpy.ndarray' objects}\n",
      "        1    0.000    0.000    0.000    0.000 {built-in method numpy.core.multiarray.empty}\n",
      "        4    0.000    0.000    0.003    0.001 {method 'any' of 'numpy.ndarray' objects}\n",
      "        6    0.000    0.000    0.000    0.000 numeric.py:534(asanyarray)\n",
      "        2    0.000    0.000    0.000    0.000 fromnumeric.py:55(_wrapfunc)\n",
      "        1    0.000    0.000    0.000    0.000 {method 'nonzero' of 'numpy.ndarray' objects}\n",
      "        1    0.000    0.000    0.000    0.000 indexing.py:15(is_integer_array)\n",
      "        1    0.000    0.000    0.000    0.000 indexing.py:537(replace_lists)\n",
      "        4    0.000    0.000    0.003    0.001 _methods.py:37(_any)\n",
      "        1    0.000    0.000    0.000    0.000 abc.py:178(__instancecheck__)\n",
      "        1    0.000    0.000    0.000    0.000 indexing.py:159(replace_ellipsis)\n",
      "        2    0.000    0.000    0.000    0.000 indexing.py:476(<genexpr>)\n",
      "        1    0.000    0.000    0.000    0.000 fromnumeric.py:2053(cumsum)\n",
      "        1    0.000    0.000    0.000    0.000 {built-in method builtins.sum}\n",
      "        2    0.000    0.000    0.000    0.000 indexing.py:194(ensure_tuple)\n",
      "        2    0.000    0.000    0.000    0.000 _weakrefset.py:70(__contains__)\n",
      "        2    0.000    0.000    0.000    0.000 {built-in method builtins.getattr}\n",
      "        1    0.000    0.000    0.000    0.000 indexing.py:11(is_integer)\n",
      "        1    0.000    0.000    0.000    0.000 indexing.py:478(<listcomp>)\n",
      "        1    0.000    0.000    0.000    0.000 fromnumeric.py:1487(nonzero)\n",
      "        1    0.000    0.000    0.000    0.000 {built-in method builtins.hasattr}\n",
      "        1    0.000    0.000    0.000    0.000 indexing.py:164(<genexpr>)\n",
      "        2    0.000    0.000    0.000    0.000 indexing.py:539(<genexpr>)\n",
      "        1    0.000    0.000    0.000    0.000 indexing.py:481(<listcomp>)\n",
      "        1    0.000    0.000    0.000    0.000 {method 'disable' of '_lsprof.Profiler' objects}\n",
      "\n",
      "\n"
     ]
    }
   ],
   "source": [
    "cProfile.run('zc[ix_dense_int_sorted]', sort='time')"
   ]
  },
  {
   "cell_type": "code",
   "execution_count": 54,
   "metadata": {},
   "outputs": [
    {
     "name": "stdout",
     "output_type": "stream",
     "text": [
      "         69726 function calls in 1.841 seconds\n",
      "\n",
      "   Ordered by: internal time\n",
      "\n",
      "   ncalls  tottime  percall  cumtime  percall filename:lineno(function)\n",
      "        1    1.160    1.160    1.160    1.160 {method 'argsort' of 'numpy.ndarray' objects}\n",
      "        1    0.164    0.164    1.490    1.490 indexing.py:325(__init__)\n",
      "     1024    0.150    0.000    0.285    0.000 core.py:802(_chunk_getitem)\n",
      "        1    0.128    0.128    0.128    0.128 {method 'take' of 'numpy.ndarray' objects}\n",
      "     1024    0.113    0.000    0.120    0.000 core.py:964(_decode_chunk)\n",
      "     1025    0.033    0.000    0.034    0.000 indexing.py:372(__iter__)\n",
      "        1    0.024    0.024    0.024    0.024 {built-in method numpy.core.multiarray.bincount}\n",
      "        1    0.012    0.012    0.012    0.012 function_base.py:1848(diff)\n",
      "     1025    0.006    0.000    0.059    0.000 indexing.py:486(__iter__)\n",
      "     2048    0.006    0.000    0.012    0.000 index_tricks.py:26(ix_)\n",
      "     3072    0.004    0.000    0.004    0.000 {method 'reshape' of 'numpy.ndarray' objects}\n",
      "     2048    0.004    0.000    0.004    0.000 core.py:324(<genexpr>)\n",
      "        1    0.003    0.003    1.840    1.840 core.py:527(get_orthogonal_selection)\n",
      "     1024    0.003    0.000    0.003    0.000 {built-in method numpy.core.multiarray.frombuffer}\n",
      "        4    0.003    0.001    0.003    0.001 {method 'reduce' of 'numpy.ufunc' objects}\n",
      "        1    0.003    0.003    0.346    0.346 core.py:563(_get_selection)\n",
      "     1024    0.002    0.000    0.005    0.000 arrayprint.py:381(wrapper)\n",
      "     2048    0.002    0.000    0.015    0.000 indexing.py:398(ix_)\n",
      "     8200    0.002    0.000    0.002    0.000 {built-in method builtins.isinstance}\n",
      "     1024    0.002    0.000    0.006    0.000 core.py:319(_cdata_shape)\n",
      "     1024    0.002    0.000    0.007    0.000 {method 'join' of 'str' objects}\n",
      "     2048    0.001    0.000    0.003    0.000 numerictypes.py:728(issubdtype)\n",
      "     1024    0.001    0.000    0.002    0.000 arrayprint.py:399(array2string)\n",
      "     2048    0.001    0.000    0.002    0.000 indexing.py:403(<listcomp>)\n",
      "     1024    0.001    0.000    0.008    0.000 core.py:961(_chunk_key)\n",
      "     1024    0.001    0.000    0.005    0.000 numeric.py:1905(array_str)\n",
      "     2048    0.001    0.000    0.001    0.000 {built-in method __new__ of type object at 0x5642b95ef480}\n",
      "     2054    0.001    0.000    0.001    0.000 {built-in method numpy.core.multiarray.array}\n",
      "     4096    0.001    0.000    0.001    0.000 {built-in method builtins.issubclass}\n",
      "     2048    0.001    0.000    0.001    0.000 indexing.py:489(<genexpr>)\n",
      "     2048    0.001    0.000    0.001    0.000 numeric.py:463(asarray)\n",
      "     4105    0.001    0.000    0.001    0.000 {built-in method builtins.len}\n",
      "     2048    0.001    0.000    0.001    0.000 numerictypes.py:660(issubclass_)\n",
      "        1    0.001    0.001    1.491    1.491 indexing.py:425(__init__)\n",
      "     1024    0.001    0.000    0.001    0.000 indexing.py:501(<listcomp>)\n",
      "     2048    0.000    0.000    0.000    0.000 indexing.py:491(<genexpr>)\n",
      "     1024    0.000    0.000    0.001    0.000 threading.py:1230(current_thread)\n",
      "        1    0.000    0.000    1.841    1.841 core.py:392(__getitem__)\n",
      "     1024    0.000    0.000    0.001    0.000 <string>:12(__new__)\n",
      "     2048    0.000    0.000    0.000    0.000 {built-in method _thread.get_ident}\n",
      "     2048    0.000    0.000    0.000    0.000 indexing.py:490(<genexpr>)\n",
      "     2049    0.000    0.000    0.000    0.000 {method 'append' of 'list' objects}\n",
      "     1024    0.000    0.000    0.000    0.000 {method 'item' of 'numpy.ndarray' objects}\n",
      "     1025    0.000    0.000    0.000    0.000 {built-in method builtins.any}\n",
      "     1024    0.000    0.000    0.000    0.000 core.py:205(chunk_store)\n",
      "        1    0.000    0.000    1.841    1.841 <string>:1(<module>)\n",
      "     1024    0.000    0.000    0.000    0.000 threading.py:1304(main_thread)\n",
      "     1024    0.000    0.000    0.000    0.000 {method 'discard' of 'set' objects}\n",
      "     1024    0.000    0.000    0.000    0.000 {method 'add' of 'set' objects}\n",
      "     1024    0.000    0.000    0.000    0.000 {built-in method builtins.id}\n",
      "        1    0.000    0.000    1.841    1.841 {built-in method builtins.exec}\n",
      "        4    0.000    0.000    0.003    0.001 fromnumeric.py:1886(any)\n",
      "        4    0.000    0.000    1.288    0.322 fromnumeric.py:55(_wrapfunc)\n",
      "        1    0.000    0.000    0.000    0.000 {method 'cumsum' of 'numpy.ndarray' objects}\n",
      "        1    0.000    0.000    0.000    0.000 {built-in method numpy.core.multiarray.empty}\n",
      "        4    0.000    0.000    0.003    0.001 {method 'any' of 'numpy.ndarray' objects}\n",
      "        1    0.000    0.000    0.000    0.000 {method 'nonzero' of 'numpy.ndarray' objects}\n",
      "        1    0.000    0.000    0.128    0.128 fromnumeric.py:70(take)\n",
      "        6    0.000    0.000    0.000    0.000 numeric.py:534(asanyarray)\n",
      "        4    0.000    0.000    0.000    0.000 {built-in method builtins.getattr}\n",
      "        1    0.000    0.000    1.160    1.160 fromnumeric.py:826(argsort)\n",
      "        1    0.000    0.000    0.000    0.000 indexing.py:15(is_integer_array)\n",
      "        4    0.000    0.000    0.003    0.001 _methods.py:37(_any)\n",
      "        1    0.000    0.000    0.000    0.000 abc.py:178(__instancecheck__)\n",
      "        1    0.000    0.000    0.000    0.000 indexing.py:159(replace_ellipsis)\n",
      "        2    0.000    0.000    0.000    0.000 indexing.py:194(ensure_tuple)\n",
      "        2    0.000    0.000    0.000    0.000 indexing.py:476(<genexpr>)\n",
      "        1    0.000    0.000    0.000    0.000 {built-in method builtins.sum}\n",
      "        1    0.000    0.000    0.000    0.000 indexing.py:11(is_integer)\n",
      "        2    0.000    0.000    0.000    0.000 indexing.py:539(<genexpr>)\n",
      "        1    0.000    0.000    0.000    0.000 indexing.py:537(replace_lists)\n",
      "        1    0.000    0.000    0.000    0.000 fromnumeric.py:2053(cumsum)\n",
      "        2    0.000    0.000    0.000    0.000 _weakrefset.py:70(__contains__)\n",
      "        1    0.000    0.000    0.000    0.000 {built-in method builtins.hasattr}\n",
      "        1    0.000    0.000    0.000    0.000 indexing.py:478(<listcomp>)\n",
      "        1    0.000    0.000    0.000    0.000 fromnumeric.py:1487(nonzero)\n",
      "        1    0.000    0.000    0.000    0.000 {method 'disable' of '_lsprof.Profiler' objects}\n",
      "        1    0.000    0.000    0.000    0.000 indexing.py:164(<genexpr>)\n",
      "        1    0.000    0.000    0.000    0.000 indexing.py:481(<listcomp>)\n",
      "\n",
      "\n"
     ]
    }
   ],
   "source": [
    "cProfile.run('zc[ix_dense_int]', sort='time')"
   ]
  },
  {
   "cell_type": "markdown",
   "metadata": {},
   "source": [
    "When indices are not sorted, zarr needs to partially sort them so the occur in chunk order, so we only have to visit each chunk once. This sorting dominates the processing time and is unavoidable AFAIK."
   ]
  },
  {
   "cell_type": "markdown",
   "metadata": {},
   "source": [
    "### bool sparse selection"
   ]
  },
  {
   "cell_type": "code",
   "execution_count": 55,
   "metadata": {},
   "outputs": [
    {
     "data": {
      "text/plain": [
       "9985"
      ]
     },
     "execution_count": 55,
     "metadata": {},
     "output_type": "execute_result"
    }
   ],
   "source": [
    "# relatively sparse selection\n",
    "ix_sparse_bool = np.random.binomial(1, 0.0001, size=c.shape[0]).astype(bool)\n",
    "np.count_nonzero(ix_sparse_bool)"
   ]
  },
  {
   "cell_type": "code",
   "execution_count": 56,
   "metadata": {},
   "outputs": [
    {
     "name": "stdout",
     "output_type": "stream",
     "text": [
      "CPU times: user 20 ms, sys: 0 ns, total: 20 ms\n",
      "Wall time: 21.3 ms\n"
     ]
    },
    {
     "data": {
      "text/plain": [
       "array([    4039,     4499,     7512, ..., 99943621, 99959317, 99987208])"
      ]
     },
     "execution_count": 56,
     "metadata": {},
     "output_type": "execute_result"
    }
   ],
   "source": [
    "%time c[ix_sparse_bool]"
   ]
  },
  {
   "cell_type": "code",
   "execution_count": 57,
   "metadata": {},
   "outputs": [
    {
     "name": "stdout",
     "output_type": "stream",
     "text": [
      "CPU times: user 436 ms, sys: 56 ms, total: 492 ms\n",
      "Wall time: 210 ms\n"
     ]
    },
    {
     "data": {
      "text/plain": [
       "array([    4039,     4499,     7512, ..., 99943621, 99959317, 99987208])"
      ]
     },
     "execution_count": 57,
     "metadata": {},
     "output_type": "execute_result"
    }
   ],
   "source": [
    "%time zc[ix_sparse_bool]"
   ]
  },
  {
   "cell_type": "code",
   "execution_count": 58,
   "metadata": {},
   "outputs": [
    {
     "name": "stdout",
     "output_type": "stream",
     "text": [
      "         58373 function calls in 0.243 seconds\n",
      "\n",
      "   Ordered by: internal time\n",
      "\n",
      "   ncalls  tottime  percall  cumtime  percall filename:lineno(function)\n",
      "     1023    0.140    0.000    0.148    0.000 core.py:964(_decode_chunk)\n",
      "     1024    0.024    0.000    0.024    0.000 {method 'nonzero' of 'numpy.ndarray' objects}\n",
      "     1024    0.009    0.000    0.009    0.000 {built-in method numpy.core.multiarray.count_nonzero}\n",
      "     1023    0.007    0.000    0.177    0.000 core.py:802(_chunk_getitem)\n",
      "     1024    0.007    0.000    0.052    0.000 indexing.py:486(__iter__)\n",
      "     1023    0.006    0.000    0.034    0.000 index_tricks.py:26(ix_)\n",
      "     2046    0.006    0.000    0.006    0.000 core.py:324(<genexpr>)\n",
      "     2046    0.004    0.000    0.004    0.000 {method 'reshape' of 'numpy.ndarray' objects}\n",
      "     1023    0.004    0.000    0.004    0.000 {built-in method numpy.core.multiarray.frombuffer}\n",
      "        1    0.003    0.003    0.232    0.232 core.py:563(_get_selection)\n",
      "     1023    0.003    0.000    0.006    0.000 arrayprint.py:381(wrapper)\n",
      "     1023    0.003    0.000    0.010    0.000 {method 'join' of 'str' objects}\n",
      "     1023    0.003    0.000    0.008    0.000 core.py:319(_cdata_shape)\n",
      "     1024    0.002    0.000    0.003    0.000 indexing.py:296(__iter__)\n",
      "     1023    0.002    0.000    0.002    0.000 arrayprint.py:399(array2string)\n",
      "     6146    0.002    0.000    0.002    0.000 {built-in method builtins.isinstance}\n",
      "     1023    0.002    0.000    0.038    0.000 indexing.py:398(ix_)\n",
      "     1023    0.001    0.000    0.011    0.000 core.py:961(_chunk_key)\n",
      "     1023    0.001    0.000    0.002    0.000 numerictypes.py:728(issubdtype)\n",
      "        1    0.001    0.001    0.011    0.011 indexing.py:269(__init__)\n",
      "     1023    0.001    0.000    0.008    0.000 numeric.py:1905(array_str)\n",
      "     1023    0.001    0.000    0.001    0.000 indexing.py:403(<listcomp>)\n",
      "     2046    0.001    0.000    0.001    0.000 {built-in method __new__ of type object at 0x5642b95ef480}\n",
      "     1023    0.001    0.000    0.001    0.000 indexing.py:501(<listcomp>)\n",
      "     2046    0.001    0.000    0.001    0.000 indexing.py:489(<genexpr>)\n",
      "     1023    0.001    0.000    0.001    0.000 threading.py:1230(current_thread)\n",
      "     1023    0.001    0.000    0.001    0.000 <string>:12(__new__)\n",
      "     3078    0.001    0.000    0.001    0.000 {built-in method builtins.len}\n",
      "     2046    0.001    0.000    0.001    0.000 indexing.py:491(<genexpr>)\n",
      "     2046    0.001    0.000    0.001    0.000 {built-in method _thread.get_ident}\n",
      "     1023    0.001    0.000    0.001    0.000 {built-in method numpy.core.multiarray.array}\n",
      "     1023    0.000    0.000    0.001    0.000 numeric.py:463(asarray)\n",
      "     2046    0.000    0.000    0.000    0.000 {built-in method builtins.issubclass}\n",
      "     1023    0.000    0.000    0.001    0.000 numerictypes.py:660(issubclass_)\n",
      "     2046    0.000    0.000    0.000    0.000 indexing.py:490(<genexpr>)\n",
      "     1023    0.000    0.000    0.000    0.000 {method 'item' of 'numpy.ndarray' objects}\n",
      "     1023    0.000    0.000    0.000    0.000 core.py:205(chunk_store)\n",
      "     1024    0.000    0.000    0.000    0.000 {built-in method builtins.any}\n",
      "     1024    0.000    0.000    0.010    0.000 numeric.py:380(count_nonzero)\n",
      "     1023    0.000    0.000    0.000    0.000 threading.py:1304(main_thread)\n",
      "     1023    0.000    0.000    0.000    0.000 {method 'discard' of 'set' objects}\n",
      "     1024    0.000    0.000    0.000    0.000 {method 'append' of 'list' objects}\n",
      "     1023    0.000    0.000    0.000    0.000 {method 'add' of 'set' objects}\n",
      "     1023    0.000    0.000    0.000    0.000 {built-in method builtins.id}\n",
      "        1    0.000    0.000    0.011    0.011 indexing.py:425(__init__)\n",
      "        2    0.000    0.000    0.000    0.000 {built-in method numpy.core.multiarray.zeros}\n",
      "        1    0.000    0.000    0.243    0.243 {built-in method builtins.exec}\n",
      "        1    0.000    0.000    0.000    0.000 {method 'cumsum' of 'numpy.ndarray' objects}\n",
      "        2    0.000    0.000    0.000    0.000 fromnumeric.py:55(_wrapfunc)\n",
      "        1    0.000    0.000    0.000    0.000 abc.py:178(__instancecheck__)\n",
      "        1    0.000    0.000    0.243    0.243 core.py:392(__getitem__)\n",
      "        1    0.000    0.000    0.000    0.000 {built-in method numpy.core.multiarray.empty}\n",
      "        1    0.000    0.000    0.243    0.243 core.py:527(get_orthogonal_selection)\n",
      "        1    0.000    0.000    0.000    0.000 indexing.py:15(is_integer_array)\n",
      "        1    0.000    0.000    0.000    0.000 indexing.py:159(replace_ellipsis)\n",
      "        2    0.000    0.000    0.000    0.000 indexing.py:194(ensure_tuple)\n",
      "        1    0.000    0.000    0.243    0.243 <string>:1(<module>)\n",
      "        1    0.000    0.000    0.000    0.000 fromnumeric.py:2053(cumsum)\n",
      "        1    0.000    0.000    0.000    0.000 indexing.py:19(is_bool_array)\n",
      "        2    0.000    0.000    0.000    0.000 indexing.py:476(<genexpr>)\n",
      "        1    0.000    0.000    0.000    0.000 indexing.py:478(<listcomp>)\n",
      "        2    0.000    0.000    0.000    0.000 indexing.py:539(<genexpr>)\n",
      "        1    0.000    0.000    0.000    0.000 fromnumeric.py:1487(nonzero)\n",
      "        2    0.000    0.000    0.000    0.000 _weakrefset.py:70(__contains__)\n",
      "        2    0.000    0.000    0.000    0.000 {built-in method builtins.getattr}\n",
      "        2    0.000    0.000    0.000    0.000 {built-in method builtins.hasattr}\n",
      "        1    0.000    0.000    0.000    0.000 {built-in method builtins.sum}\n",
      "        1    0.000    0.000    0.000    0.000 indexing.py:11(is_integer)\n",
      "        1    0.000    0.000    0.000    0.000 indexing.py:164(<genexpr>)\n",
      "        1    0.000    0.000    0.000    0.000 indexing.py:537(replace_lists)\n",
      "        1    0.000    0.000    0.000    0.000 indexing.py:481(<listcomp>)\n",
      "        1    0.000    0.000    0.000    0.000 {method 'disable' of '_lsprof.Profiler' objects}\n",
      "\n",
      "\n"
     ]
    }
   ],
   "source": [
    "cProfile.run('zc[ix_sparse_bool]', sort='time')"
   ]
  },
  {
   "cell_type": "markdown",
   "metadata": {},
   "source": [
    "### int sparse selection"
   ]
  },
  {
   "cell_type": "code",
   "execution_count": 60,
   "metadata": {},
   "outputs": [
    {
     "data": {
      "text/plain": [
       "10000"
      ]
     },
     "execution_count": 60,
     "metadata": {},
     "output_type": "execute_result"
    }
   ],
   "source": [
    "ix_sparse_int = np.random.choice(c.shape[0], size=c.shape[0]//10000, replace=True)\n",
    "ix_sparse_int_sorted = ix_sparse_int.copy()\n",
    "ix_sparse_int_sorted.sort()\n",
    "len(ix_sparse_int)"
   ]
  },
  {
   "cell_type": "code",
   "execution_count": 61,
   "metadata": {},
   "outputs": [
    {
     "name": "stdout",
     "output_type": "stream",
     "text": [
      "CPU times: user 0 ns, sys: 0 ns, total: 0 ns\n",
      "Wall time: 136 µs\n"
     ]
    },
    {
     "data": {
      "text/plain": [
       "array([    7736,    25765,    27155, ..., 99982813, 99983779, 99986450])"
      ]
     },
     "execution_count": 61,
     "metadata": {},
     "output_type": "execute_result"
    }
   ],
   "source": [
    "%time c[ix_sparse_int_sorted]"
   ]
  },
  {
   "cell_type": "code",
   "execution_count": 62,
   "metadata": {},
   "outputs": [
    {
     "name": "stdout",
     "output_type": "stream",
     "text": [
      "CPU times: user 0 ns, sys: 0 ns, total: 0 ns\n",
      "Wall time: 597 µs\n"
     ]
    },
    {
     "data": {
      "text/plain": [
       "array([11023673, 52339189, 27001951, ..., 37185717,  7541357, 28437835])"
      ]
     },
     "execution_count": 62,
     "metadata": {},
     "output_type": "execute_result"
    }
   ],
   "source": [
    "%time c[ix_sparse_int]"
   ]
  },
  {
   "cell_type": "code",
   "execution_count": 63,
   "metadata": {},
   "outputs": [
    {
     "name": "stdout",
     "output_type": "stream",
     "text": [
      "CPU times: user 412 ms, sys: 40 ms, total: 452 ms\n",
      "Wall time: 171 ms\n"
     ]
    },
    {
     "data": {
      "text/plain": [
       "array([    7736,    25765,    27155, ..., 99982813, 99983779, 99986450])"
      ]
     },
     "execution_count": 63,
     "metadata": {},
     "output_type": "execute_result"
    }
   ],
   "source": [
    "%time zc[ix_sparse_int_sorted]"
   ]
  },
  {
   "cell_type": "code",
   "execution_count": 64,
   "metadata": {},
   "outputs": [
    {
     "name": "stdout",
     "output_type": "stream",
     "text": [
      "CPU times: user 384 ms, sys: 64 ms, total: 448 ms\n",
      "Wall time: 172 ms\n"
     ]
    },
    {
     "data": {
      "text/plain": [
       "array([11023673, 52339189, 27001951, ..., 37185717,  7541357, 28437835])"
      ]
     },
     "execution_count": 64,
     "metadata": {},
     "output_type": "execute_result"
    }
   ],
   "source": [
    "%time zc[ix_sparse_int]"
   ]
  },
  {
   "cell_type": "code",
   "execution_count": 65,
   "metadata": {},
   "outputs": [
    {
     "name": "stdout",
     "output_type": "stream",
     "text": [
      "         69726 function calls in 0.218 seconds\n",
      "\n",
      "   Ordered by: internal time\n",
      "\n",
      "   ncalls  tottime  percall  cumtime  percall filename:lineno(function)\n",
      "     1024    0.141    0.000    0.149    0.000 core.py:964(_decode_chunk)\n",
      "     1025    0.008    0.000    0.038    0.000 indexing.py:486(__iter__)\n",
      "     2048    0.008    0.000    0.015    0.000 index_tricks.py:26(ix_)\n",
      "     1024    0.006    0.000    0.176    0.000 core.py:802(_chunk_getitem)\n",
      "     2048    0.006    0.000    0.006    0.000 core.py:324(<genexpr>)\n",
      "     3072    0.004    0.000    0.004    0.000 {method 'reshape' of 'numpy.ndarray' objects}\n",
      "     1025    0.004    0.000    0.005    0.000 indexing.py:372(__iter__)\n",
      "        1    0.003    0.003    0.217    0.217 core.py:563(_get_selection)\n",
      "     1024    0.003    0.000    0.006    0.000 arrayprint.py:381(wrapper)\n",
      "     2048    0.003    0.000    0.020    0.000 indexing.py:398(ix_)\n",
      "     1024    0.003    0.000    0.008    0.000 core.py:319(_cdata_shape)\n",
      "     1024    0.003    0.000    0.010    0.000 {method 'join' of 'str' objects}\n",
      "     8200    0.002    0.000    0.002    0.000 {built-in method builtins.isinstance}\n",
      "     1024    0.002    0.000    0.002    0.000 {built-in method numpy.core.multiarray.frombuffer}\n",
      "     1024    0.002    0.000    0.002    0.000 arrayprint.py:399(array2string)\n",
      "     2048    0.002    0.000    0.004    0.000 numerictypes.py:728(issubdtype)\n",
      "     2048    0.002    0.000    0.002    0.000 indexing.py:403(<listcomp>)\n",
      "     1024    0.001    0.000    0.011    0.000 core.py:961(_chunk_key)\n",
      "     1024    0.001    0.000    0.008    0.000 numeric.py:1905(array_str)\n",
      "     2054    0.001    0.000    0.001    0.000 {built-in method numpy.core.multiarray.array}\n",
      "     2048    0.001    0.000    0.001    0.000 indexing.py:489(<genexpr>)\n",
      "     4096    0.001    0.000    0.001    0.000 {built-in method builtins.issubclass}\n",
      "     2048    0.001    0.000    0.002    0.000 numeric.py:463(asarray)\n",
      "     2048    0.001    0.000    0.001    0.000 {built-in method __new__ of type object at 0x5642b95ef480}\n",
      "     4105    0.001    0.000    0.001    0.000 {built-in method builtins.len}\n",
      "     1024    0.001    0.000    0.001    0.000 threading.py:1230(current_thread)\n",
      "     2048    0.001    0.000    0.001    0.000 numerictypes.py:660(issubclass_)\n",
      "     1024    0.001    0.000    0.001    0.000 indexing.py:501(<listcomp>)\n",
      "        1    0.001    0.001    0.001    0.001 {method 'argsort' of 'numpy.ndarray' objects}\n",
      "     2048    0.001    0.000    0.001    0.000 indexing.py:491(<genexpr>)\n",
      "     1024    0.001    0.000    0.001    0.000 <string>:12(__new__)\n",
      "     2048    0.001    0.000    0.001    0.000 {built-in method _thread.get_ident}\n",
      "     2048    0.000    0.000    0.000    0.000 indexing.py:490(<genexpr>)\n",
      "        1    0.000    0.000    0.001    0.001 indexing.py:325(__init__)\n",
      "     1025    0.000    0.000    0.000    0.000 {built-in method builtins.any}\n",
      "     1024    0.000    0.000    0.000    0.000 core.py:205(chunk_store)\n",
      "     1024    0.000    0.000    0.000    0.000 {method 'item' of 'numpy.ndarray' objects}\n",
      "     2049    0.000    0.000    0.000    0.000 {method 'append' of 'list' objects}\n",
      "     1024    0.000    0.000    0.000    0.000 threading.py:1304(main_thread)\n",
      "     1024    0.000    0.000    0.000    0.000 {method 'discard' of 'set' objects}\n",
      "     1024    0.000    0.000    0.000    0.000 {method 'add' of 'set' objects}\n",
      "     1024    0.000    0.000    0.000    0.000 {built-in method builtins.id}\n",
      "        1    0.000    0.000    0.218    0.218 core.py:392(__getitem__)\n",
      "        4    0.000    0.000    0.000    0.000 {method 'reduce' of 'numpy.ufunc' objects}\n",
      "        1    0.000    0.000    0.001    0.001 indexing.py:425(__init__)\n",
      "        1    0.000    0.000    0.000    0.000 {method 'take' of 'numpy.ndarray' objects}\n",
      "        1    0.000    0.000    0.000    0.000 function_base.py:1848(diff)\n",
      "        1    0.000    0.000    0.000    0.000 {built-in method numpy.core.multiarray.bincount}\n",
      "        1    0.000    0.000    0.218    0.218 {built-in method builtins.exec}\n",
      "        4    0.000    0.000    0.000    0.000 fromnumeric.py:1886(any)\n",
      "        1    0.000    0.000    0.218    0.218 core.py:527(get_orthogonal_selection)\n",
      "        1    0.000    0.000    0.000    0.000 {method 'cumsum' of 'numpy.ndarray' objects}\n",
      "        4    0.000    0.000    0.001    0.000 fromnumeric.py:55(_wrapfunc)\n",
      "        1    0.000    0.000    0.000    0.000 indexing.py:159(replace_ellipsis)\n",
      "        4    0.000    0.000    0.000    0.000 {method 'any' of 'numpy.ndarray' objects}\n",
      "        1    0.000    0.000    0.000    0.000 {method 'nonzero' of 'numpy.ndarray' objects}\n",
      "        1    0.000    0.000    0.000    0.000 {built-in method numpy.core.multiarray.empty}\n",
      "        4    0.000    0.000    0.000    0.000 {built-in method builtins.getattr}\n",
      "        1    0.000    0.000    0.218    0.218 <string>:1(<module>)\n",
      "        6    0.000    0.000    0.000    0.000 numeric.py:534(asanyarray)\n",
      "        1    0.000    0.000    0.000    0.000 indexing.py:15(is_integer_array)\n",
      "        2    0.000    0.000    0.000    0.000 indexing.py:194(ensure_tuple)\n",
      "        1    0.000    0.000    0.000    0.000 indexing.py:537(replace_lists)\n",
      "        1    0.000    0.000    0.000    0.000 fromnumeric.py:70(take)\n",
      "        1    0.000    0.000    0.001    0.001 fromnumeric.py:826(argsort)\n",
      "        4    0.000    0.000    0.000    0.000 _methods.py:37(_any)\n",
      "        2    0.000    0.000    0.000    0.000 _weakrefset.py:70(__contains__)\n",
      "        1    0.000    0.000    0.000    0.000 abc.py:178(__instancecheck__)\n",
      "        1    0.000    0.000    0.000    0.000 {built-in method builtins.hasattr}\n",
      "        1    0.000    0.000    0.000    0.000 {built-in method builtins.sum}\n",
      "        1    0.000    0.000    0.000    0.000 indexing.py:164(<genexpr>)\n",
      "        2    0.000    0.000    0.000    0.000 indexing.py:539(<genexpr>)\n",
      "        1    0.000    0.000    0.000    0.000 indexing.py:478(<listcomp>)\n",
      "        1    0.000    0.000    0.000    0.000 indexing.py:481(<listcomp>)\n",
      "        1    0.000    0.000    0.000    0.000 fromnumeric.py:1487(nonzero)\n",
      "        1    0.000    0.000    0.000    0.000 fromnumeric.py:2053(cumsum)\n",
      "        1    0.000    0.000    0.000    0.000 indexing.py:11(is_integer)\n",
      "        2    0.000    0.000    0.000    0.000 indexing.py:476(<genexpr>)\n",
      "        1    0.000    0.000    0.000    0.000 {method 'disable' of '_lsprof.Profiler' objects}\n",
      "\n",
      "\n"
     ]
    }
   ],
   "source": [
    "cProfile.run('zc[ix_sparse_int]', sort='time')"
   ]
  },
  {
   "cell_type": "markdown",
   "metadata": {},
   "source": [
    "For sparse selections, processing time is dominated by decompression, so we can't do any better."
   ]
  },
  {
   "cell_type": "markdown",
   "metadata": {},
   "source": [
    "### sparse bool selection as zarr array"
   ]
  },
  {
   "cell_type": "code",
   "execution_count": 66,
   "metadata": {},
   "outputs": [
    {
     "data": {
      "text/html": [
       "<table class=\"zarr-info\"><tbody><tr><th style=\"text-align: left\">Type</th><td style=\"text-align: left\">zarr.core.Array</td></tr><tr><th style=\"text-align: left\">Data type</th><td style=\"text-align: left\">bool</td></tr><tr><th style=\"text-align: left\">Shape</th><td style=\"text-align: left\">(100000000,)</td></tr><tr><th style=\"text-align: left\">Chunk shape</th><td style=\"text-align: left\">(390625,)</td></tr><tr><th style=\"text-align: left\">Order</th><td style=\"text-align: left\">C</td></tr><tr><th style=\"text-align: left\">Read-only</th><td style=\"text-align: left\">False</td></tr><tr><th style=\"text-align: left\">Compressor</th><td style=\"text-align: left\">Blosc(cname='lz4', clevel=5, shuffle=SHUFFLE, blocksize=0)</td></tr><tr><th style=\"text-align: left\">Store type</th><td style=\"text-align: left\">builtins.dict</td></tr><tr><th style=\"text-align: left\">No. bytes</th><td style=\"text-align: left\">100000000 (95.4M)</td></tr><tr><th style=\"text-align: left\">No. bytes stored</th><td style=\"text-align: left\">507490 (495.6K)</td></tr><tr><th style=\"text-align: left\">Storage ratio</th><td style=\"text-align: left\">197.0</td></tr><tr><th style=\"text-align: left\">Chunks initialized</th><td style=\"text-align: left\">256/256</td></tr></tbody></table>"
      ],
      "text/plain": [
       "Type               : zarr.core.Array\n",
       "Data type          : bool\n",
       "Shape              : (100000000,)\n",
       "Chunk shape        : (390625,)\n",
       "Order              : C\n",
       "Read-only          : False\n",
       "Compressor         : Blosc(cname='lz4', clevel=5, shuffle=SHUFFLE, blocksize=0)\n",
       "Store type         : builtins.dict\n",
       "No. bytes          : 100000000 (95.4M)\n",
       "No. bytes stored   : 507490 (495.6K)\n",
       "Storage ratio      : 197.0\n",
       "Chunks initialized : 256/256"
      ]
     },
     "execution_count": 66,
     "metadata": {},
     "output_type": "execute_result"
    }
   ],
   "source": [
    "zix_sparse_bool = zarr.array(ix_sparse_bool)\n",
    "zix_sparse_bool.info"
   ]
  },
  {
   "cell_type": "code",
   "execution_count": 67,
   "metadata": {},
   "outputs": [
    {
     "name": "stdout",
     "output_type": "stream",
     "text": [
      "CPU times: user 920 ms, sys: 136 ms, total: 1.06 s\n",
      "Wall time: 503 ms\n"
     ]
    },
    {
     "data": {
      "text/plain": [
       "array([    4039,     4499,     7512, ..., 99943621, 99959317, 99987208])"
      ]
     },
     "execution_count": 67,
     "metadata": {},
     "output_type": "execute_result"
    }
   ],
   "source": [
    "%time zc[zix_sparse_bool]"
   ]
  },
  {
   "cell_type": "markdown",
   "metadata": {},
   "source": [
    "### slice with step"
   ]
  },
  {
   "cell_type": "code",
   "execution_count": 68,
   "metadata": {},
   "outputs": [
    {
     "name": "stdout",
     "output_type": "stream",
     "text": [
      "CPU times: user 68 ms, sys: 24 ms, total: 92 ms\n",
      "Wall time: 90.4 ms\n"
     ]
    },
    {
     "data": {
      "text/plain": [
       "array([       0,        2,        4, ..., 99999994, 99999996, 99999998])"
      ]
     },
     "execution_count": 68,
     "metadata": {},
     "output_type": "execute_result"
    }
   ],
   "source": [
    "%time np.array(c[::2])"
   ]
  },
  {
   "cell_type": "code",
   "execution_count": 69,
   "metadata": {},
   "outputs": [
    {
     "name": "stdout",
     "output_type": "stream",
     "text": [
      "CPU times: user 1.34 s, sys: 236 ms, total: 1.57 s\n",
      "Wall time: 1.29 s\n"
     ]
    },
    {
     "data": {
      "text/plain": [
       "array([       0,        2,        4, ..., 99999994, 99999996, 99999998])"
      ]
     },
     "execution_count": 69,
     "metadata": {},
     "output_type": "execute_result"
    }
   ],
   "source": [
    "%time zc[::2]"
   ]
  },
  {
   "cell_type": "code",
   "execution_count": 70,
   "metadata": {},
   "outputs": [
    {
     "name": "stdout",
     "output_type": "stream",
     "text": [
      "CPU times: user 548 ms, sys: 116 ms, total: 664 ms\n",
      "Wall time: 400 ms\n"
     ]
    },
    {
     "data": {
      "text/plain": [
       "array([       0,       10,       20, ..., 99999970, 99999980, 99999990])"
      ]
     },
     "execution_count": 70,
     "metadata": {},
     "output_type": "execute_result"
    }
   ],
   "source": [
    "%time zc[::10]"
   ]
  },
  {
   "cell_type": "code",
   "execution_count": 71,
   "metadata": {},
   "outputs": [
    {
     "name": "stdout",
     "output_type": "stream",
     "text": [
      "CPU times: user 456 ms, sys: 40 ms, total: 496 ms\n",
      "Wall time: 214 ms\n"
     ]
    },
    {
     "data": {
      "text/plain": [
       "array([       0,      100,      200, ..., 99999700, 99999800, 99999900])"
      ]
     },
     "execution_count": 71,
     "metadata": {},
     "output_type": "execute_result"
    }
   ],
   "source": [
    "%time zc[::100]"
   ]
  },
  {
   "cell_type": "code",
   "execution_count": 72,
   "metadata": {},
   "outputs": [
    {
     "name": "stdout",
     "output_type": "stream",
     "text": [
      "CPU times: user 440 ms, sys: 36 ms, total: 476 ms\n",
      "Wall time: 179 ms\n"
     ]
    },
    {
     "data": {
      "text/plain": [
       "array([       0,     1000,     2000, ..., 99997000, 99998000, 99999000])"
      ]
     },
     "execution_count": 72,
     "metadata": {},
     "output_type": "execute_result"
    }
   ],
   "source": [
    "%time zc[::1000]"
   ]
  },
  {
   "cell_type": "code",
   "execution_count": 73,
   "metadata": {},
   "outputs": [
    {
     "name": "stdout",
     "output_type": "stream",
     "text": [
      "         55382 function calls in 1.351 seconds\n",
      "\n",
      "   Ordered by: internal time\n",
      "\n",
      "   ncalls  tottime  percall  cumtime  percall filename:lineno(function)\n",
      "        1    0.620    0.620    0.815    0.815 indexing.py:325(__init__)\n",
      "     1024    0.130    0.000    0.135    0.000 core.py:964(_decode_chunk)\n",
      "     1025    0.127    0.000    0.128    0.000 indexing.py:372(__iter__)\n",
      "     1024    0.123    0.000    0.275    0.000 core.py:802(_chunk_getitem)\n",
      "        1    0.121    0.121    0.121    0.121 {built-in method numpy.core.multiarray.bincount}\n",
      "        1    0.087    0.087    0.087    0.087 {built-in method numpy.core.multiarray.arange}\n",
      "        1    0.054    0.054    0.054    0.054 function_base.py:1848(diff)\n",
      "        1    0.020    0.020    1.350    1.350 core.py:527(get_orthogonal_selection)\n",
      "        4    0.020    0.005    0.020    0.005 {method 'reduce' of 'numpy.ufunc' objects}\n",
      "     1025    0.007    0.000    0.149    0.000 indexing.py:486(__iter__)\n",
      "     2048    0.005    0.000    0.005    0.000 core.py:324(<genexpr>)\n",
      "     1024    0.004    0.000    0.008    0.000 index_tricks.py:26(ix_)\n",
      "     2048    0.003    0.000    0.003    0.000 {method 'reshape' of 'numpy.ndarray' objects}\n",
      "        1    0.003    0.003    0.427    0.427 core.py:563(_get_selection)\n",
      "     1024    0.002    0.000    0.005    0.000 arrayprint.py:381(wrapper)\n",
      "     1024    0.002    0.000    0.002    0.000 {built-in method numpy.core.multiarray.frombuffer}\n",
      "     1024    0.002    0.000    0.008    0.000 {method 'join' of 'str' objects}\n",
      "     1024    0.002    0.000    0.006    0.000 core.py:319(_cdata_shape)\n",
      "     6152    0.002    0.000    0.002    0.000 {built-in method builtins.isinstance}\n",
      "     1024    0.002    0.000    0.002    0.000 arrayprint.py:399(array2string)\n",
      "     1024    0.001    0.000    0.011    0.000 indexing.py:398(ix_)\n",
      "     1024    0.001    0.000    0.009    0.000 core.py:961(_chunk_key)\n",
      "     1024    0.001    0.000    0.002    0.000 numerictypes.py:728(issubdtype)\n",
      "        1    0.001    0.001    0.902    0.902 indexing.py:425(__init__)\n",
      "     1024    0.001    0.000    0.001    0.000 indexing.py:403(<listcomp>)\n",
      "     1024    0.001    0.000    0.006    0.000 numeric.py:1905(array_str)\n",
      "        1    0.001    0.001    1.350    1.350 core.py:392(__getitem__)\n",
      "        1    0.001    0.001    1.351    1.351 <string>:1(<module>)\n",
      "     2048    0.001    0.000    0.001    0.000 {built-in method __new__ of type object at 0x5642b95ef480}\n",
      "     2048    0.001    0.000    0.001    0.000 indexing.py:489(<genexpr>)\n",
      "     1024    0.001    0.000    0.001    0.000 indexing.py:501(<listcomp>)\n",
      "     2048    0.001    0.000    0.001    0.000 indexing.py:491(<genexpr>)\n",
      "     1024    0.001    0.000    0.001    0.000 threading.py:1230(current_thread)\n",
      "     3081    0.001    0.000    0.001    0.000 {built-in method builtins.len}\n",
      "     1030    0.001    0.000    0.001    0.000 {built-in method numpy.core.multiarray.array}\n",
      "     1024    0.000    0.000    0.001    0.000 <string>:12(__new__)\n",
      "     1024    0.000    0.000    0.001    0.000 numeric.py:463(asarray)\n",
      "     2048    0.000    0.000    0.000    0.000 indexing.py:490(<genexpr>)\n",
      "     2048    0.000    0.000    0.000    0.000 {built-in method builtins.issubclass}\n",
      "     2048    0.000    0.000    0.000    0.000 {built-in method _thread.get_ident}\n",
      "     1024    0.000    0.000    0.001    0.000 numerictypes.py:660(issubclass_)\n",
      "     1024    0.000    0.000    0.000    0.000 {method 'item' of 'numpy.ndarray' objects}\n",
      "     1025    0.000    0.000    0.000    0.000 {built-in method builtins.any}\n",
      "     1024    0.000    0.000    0.000    0.000 core.py:205(chunk_store)\n",
      "     1024    0.000    0.000    0.000    0.000 {method 'discard' of 'set' objects}\n",
      "     1024    0.000    0.000    0.000    0.000 threading.py:1304(main_thread)\n",
      "     1025    0.000    0.000    0.000    0.000 {method 'append' of 'list' objects}\n",
      "     1024    0.000    0.000    0.000    0.000 {method 'add' of 'set' objects}\n",
      "     1024    0.000    0.000    0.000    0.000 {built-in method builtins.id}\n",
      "        1    0.000    0.000    1.351    1.351 {built-in method builtins.exec}\n",
      "        4    0.000    0.000    0.020    0.005 fromnumeric.py:1886(any)\n",
      "        6    0.000    0.000    0.000    0.000 numeric.py:534(asanyarray)\n",
      "        1    0.000    0.000    0.000    0.000 {method 'cumsum' of 'numpy.ndarray' objects}\n",
      "        1    0.000    0.000    0.000    0.000 {built-in method numpy.core.multiarray.empty}\n",
      "        4    0.000    0.000    0.020    0.005 {method 'any' of 'numpy.ndarray' objects}\n",
      "        2    0.000    0.000    0.000    0.000 fromnumeric.py:55(_wrapfunc)\n",
      "        1    0.000    0.000    0.000    0.000 indexing.py:11(is_integer)\n",
      "        1    0.000    0.000    0.000    0.000 indexing.py:159(replace_ellipsis)\n",
      "        1    0.000    0.000    0.000    0.000 indexing.py:537(replace_lists)\n",
      "        4    0.000    0.000    0.020    0.005 _methods.py:37(_any)\n",
      "        1    0.000    0.000    0.000    0.000 abc.py:178(__instancecheck__)\n",
      "        2    0.000    0.000    0.000    0.000 indexing.py:194(ensure_tuple)\n",
      "        1    0.000    0.000    0.000    0.000 indexing.py:80(normalize_slice_selection)\n",
      "        1    0.000    0.000    0.000    0.000 {method 'nonzero' of 'numpy.ndarray' objects}\n",
      "        2    0.000    0.000    0.000    0.000 _weakrefset.py:70(__contains__)\n",
      "        1    0.000    0.000    0.000    0.000 {built-in method builtins.sum}\n",
      "        1    0.000    0.000    0.000    0.000 fromnumeric.py:2053(cumsum)\n",
      "        1    0.000    0.000    0.000    0.000 indexing.py:164(<genexpr>)\n",
      "        2    0.000    0.000    0.000    0.000 indexing.py:539(<genexpr>)\n",
      "        1    0.000    0.000    0.000    0.000 indexing.py:478(<listcomp>)\n",
      "        2    0.000    0.000    0.000    0.000 {built-in method builtins.getattr}\n",
      "        2    0.000    0.000    0.000    0.000 indexing.py:476(<genexpr>)\n",
      "        1    0.000    0.000    0.000    0.000 indexing.py:481(<listcomp>)\n",
      "        1    0.000    0.000    0.000    0.000 fromnumeric.py:1487(nonzero)\n",
      "        1    0.000    0.000    0.000    0.000 {method 'disable' of '_lsprof.Profiler' objects}\n",
      "\n",
      "\n"
     ]
    }
   ],
   "source": [
    "cProfile.run('zc[::2]', sort='time')"
   ]
  },
  {
   "cell_type": "markdown",
   "metadata": {},
   "source": [
    "Here there are various setup operations that need to be done on the integer array, can't see way to avoid ATM."
   ]
  },
  {
   "cell_type": "markdown",
   "metadata": {},
   "source": [
    "## 2D Benchmarking"
   ]
  },
  {
   "cell_type": "code",
   "execution_count": 74,
   "metadata": {},
   "outputs": [
    {
     "data": {
      "text/plain": [
       "(100000000,)"
      ]
     },
     "execution_count": 74,
     "metadata": {},
     "output_type": "execute_result"
    }
   ],
   "source": [
    "c.shape"
   ]
  },
  {
   "cell_type": "code",
   "execution_count": 75,
   "metadata": {},
   "outputs": [
    {
     "data": {
      "text/plain": [
       "(100000, 1000)"
      ]
     },
     "execution_count": 75,
     "metadata": {},
     "output_type": "execute_result"
    }
   ],
   "source": [
    "d = c.reshape(-1, 1000)\n",
    "d.shape"
   ]
  },
  {
   "cell_type": "code",
   "execution_count": 76,
   "metadata": {},
   "outputs": [
    {
     "data": {
      "text/html": [
       "<table class=\"zarr-info\"><tbody><tr><th style=\"text-align: left\">Type</th><td style=\"text-align: left\">zarr.core.Array</td></tr><tr><th style=\"text-align: left\">Data type</th><td style=\"text-align: left\">int64</td></tr><tr><th style=\"text-align: left\">Shape</th><td style=\"text-align: left\">(100000, 1000)</td></tr><tr><th style=\"text-align: left\">Chunk shape</th><td style=\"text-align: left\">(3125, 32)</td></tr><tr><th style=\"text-align: left\">Order</th><td style=\"text-align: left\">C</td></tr><tr><th style=\"text-align: left\">Read-only</th><td style=\"text-align: left\">False</td></tr><tr><th style=\"text-align: left\">Compressor</th><td style=\"text-align: left\">Blosc(cname='lz4', clevel=5, shuffle=SHUFFLE, blocksize=0)</td></tr><tr><th style=\"text-align: left\">Store type</th><td style=\"text-align: left\">builtins.dict</td></tr><tr><th style=\"text-align: left\">No. bytes</th><td style=\"text-align: left\">800000000 (762.9M)</td></tr><tr><th style=\"text-align: left\">No. bytes stored</th><td style=\"text-align: left\">39228864 (37.4M)</td></tr><tr><th style=\"text-align: left\">Storage ratio</th><td style=\"text-align: left\">20.4</td></tr><tr><th style=\"text-align: left\">Chunks initialized</th><td style=\"text-align: left\">1024/1024</td></tr></tbody></table>"
      ],
      "text/plain": [
       "Type               : zarr.core.Array\n",
       "Data type          : int64\n",
       "Shape              : (100000, 1000)\n",
       "Chunk shape        : (3125, 32)\n",
       "Order              : C\n",
       "Read-only          : False\n",
       "Compressor         : Blosc(cname='lz4', clevel=5, shuffle=SHUFFLE, blocksize=0)\n",
       "Store type         : builtins.dict\n",
       "No. bytes          : 800000000 (762.9M)\n",
       "No. bytes stored   : 39228864 (37.4M)\n",
       "Storage ratio      : 20.4\n",
       "Chunks initialized : 1024/1024"
      ]
     },
     "execution_count": 76,
     "metadata": {},
     "output_type": "execute_result"
    }
   ],
   "source": [
    "zd = zarr.array(d)\n",
    "zd.info"
   ]
  },
  {
   "cell_type": "markdown",
   "metadata": {},
   "source": [
    "### bool orthogonal selection"
   ]
  },
  {
   "cell_type": "code",
   "execution_count": 77,
   "metadata": {},
   "outputs": [],
   "source": [
    "ix0 = np.random.binomial(1, 0.5, size=d.shape[0]).astype(bool)\n",
    "ix1 = np.random.binomial(1, 0.5, size=d.shape[1]).astype(bool)"
   ]
  },
  {
   "cell_type": "code",
   "execution_count": 78,
   "metadata": {},
   "outputs": [
    {
     "name": "stdout",
     "output_type": "stream",
     "text": [
      "CPU times: user 140 ms, sys: 8 ms, total: 148 ms\n",
      "Wall time: 146 ms\n"
     ]
    },
    {
     "data": {
      "text/plain": [
       "array([[       2,        4,        6, ...,      993,      994,      999],\n",
       "       [    9002,     9004,     9006, ...,     9993,     9994,     9999],\n",
       "       [   10002,    10004,    10006, ...,    10993,    10994,    10999],\n",
       "       ..., \n",
       "       [99997002, 99997004, 99997006, ..., 99997993, 99997994, 99997999],\n",
       "       [99998002, 99998004, 99998006, ..., 99998993, 99998994, 99998999],\n",
       "       [99999002, 99999004, 99999006, ..., 99999993, 99999994, 99999999]])"
      ]
     },
     "execution_count": 78,
     "metadata": {},
     "output_type": "execute_result"
    }
   ],
   "source": [
    "%time d[np.ix_(ix0, ix1)]"
   ]
  },
  {
   "cell_type": "code",
   "execution_count": 79,
   "metadata": {},
   "outputs": [
    {
     "name": "stdout",
     "output_type": "stream",
     "text": [
      "CPU times: user 748 ms, sys: 56 ms, total: 804 ms\n",
      "Wall time: 409 ms\n"
     ]
    },
    {
     "data": {
      "text/plain": [
       "array([[       2,        4,        6, ...,      993,      994,      999],\n",
       "       [    9002,     9004,     9006, ...,     9993,     9994,     9999],\n",
       "       [   10002,    10004,    10006, ...,    10993,    10994,    10999],\n",
       "       ..., \n",
       "       [99997002, 99997004, 99997006, ..., 99997993, 99997994, 99997999],\n",
       "       [99998002, 99998004, 99998006, ..., 99998993, 99998994, 99998999],\n",
       "       [99999002, 99999004, 99999006, ..., 99999993, 99999994, 99999999]])"
      ]
     },
     "execution_count": 79,
     "metadata": {},
     "output_type": "execute_result"
    }
   ],
   "source": [
    "%time zd.oindex[ix0, ix1]"
   ]
  },
  {
   "cell_type": "markdown",
   "metadata": {},
   "source": [
    "### int orthogonal selection"
   ]
  },
  {
   "cell_type": "code",
   "execution_count": 80,
   "metadata": {},
   "outputs": [],
   "source": [
    "ix0 = np.random.choice(d.shape[0], size=int(d.shape[0] * .5), replace=True)\n",
    "ix1 = np.random.choice(d.shape[1], size=int(d.shape[1] * .5), replace=True)"
   ]
  },
  {
   "cell_type": "code",
   "execution_count": 81,
   "metadata": {},
   "outputs": [
    {
     "name": "stdout",
     "output_type": "stream",
     "text": [
      "CPU times: user 196 ms, sys: 24 ms, total: 220 ms\n",
      "Wall time: 219 ms\n"
     ]
    },
    {
     "data": {
      "text/plain": [
       "array([[90796980, 90796608, 90796172, ..., 90796527, 90796979, 90796445],\n",
       "       [50263980, 50263608, 50263172, ..., 50263527, 50263979, 50263445],\n",
       "       [47678980, 47678608, 47678172, ..., 47678527, 47678979, 47678445],\n",
       "       ..., \n",
       "       [34172980, 34172608, 34172172, ..., 34172527, 34172979, 34172445],\n",
       "       [56793980, 56793608, 56793172, ..., 56793527, 56793979, 56793445],\n",
       "       [12456980, 12456608, 12456172, ..., 12456527, 12456979, 12456445]])"
      ]
     },
     "execution_count": 81,
     "metadata": {},
     "output_type": "execute_result"
    }
   ],
   "source": [
    "%time d[np.ix_(ix0, ix1)]"
   ]
  },
  {
   "cell_type": "code",
   "execution_count": 82,
   "metadata": {},
   "outputs": [
    {
     "name": "stdout",
     "output_type": "stream",
     "text": [
      "CPU times: user 1.11 s, sys: 68 ms, total: 1.18 s\n",
      "Wall time: 604 ms\n"
     ]
    },
    {
     "data": {
      "text/plain": [
       "array([[90796980, 90796608, 90796172, ..., 90796527, 90796979, 90796445],\n",
       "       [50263980, 50263608, 50263172, ..., 50263527, 50263979, 50263445],\n",
       "       [47678980, 47678608, 47678172, ..., 47678527, 47678979, 47678445],\n",
       "       ..., \n",
       "       [34172980, 34172608, 34172172, ..., 34172527, 34172979, 34172445],\n",
       "       [56793980, 56793608, 56793172, ..., 56793527, 56793979, 56793445],\n",
       "       [12456980, 12456608, 12456172, ..., 12456527, 12456979, 12456445]])"
      ]
     },
     "execution_count": 82,
     "metadata": {},
     "output_type": "execute_result"
    }
   ],
   "source": [
    "%time zd.oindex[ix0, ix1]"
   ]
  },
  {
   "cell_type": "markdown",
   "metadata": {},
   "source": [
    "### coordinate (point) selection"
   ]
  },
  {
   "cell_type": "code",
   "execution_count": 83,
   "metadata": {},
   "outputs": [
    {
     "data": {
      "text/plain": [
       "10000000"
      ]
     },
     "execution_count": 83,
     "metadata": {},
     "output_type": "execute_result"
    }
   ],
   "source": [
    "n = int(d.size * .1)\n",
    "ix0 = np.random.choice(d.shape[0], size=n, replace=True)\n",
    "ix1 = np.random.choice(d.shape[1], size=n, replace=True)\n",
    "n"
   ]
  },
  {
   "cell_type": "code",
   "execution_count": 84,
   "metadata": {},
   "outputs": [
    {
     "name": "stdout",
     "output_type": "stream",
     "text": [
      "CPU times: user 256 ms, sys: 12 ms, total: 268 ms\n",
      "Wall time: 265 ms\n"
     ]
    },
    {
     "data": {
      "text/plain": [
       "array([ 6452573, 65841096, 70323990, ..., 44175624, 34778721, 67807976])"
      ]
     },
     "execution_count": 84,
     "metadata": {},
     "output_type": "execute_result"
    }
   ],
   "source": [
    "%time d[ix0, ix1]"
   ]
  },
  {
   "cell_type": "code",
   "execution_count": 85,
   "metadata": {},
   "outputs": [
    {
     "name": "stdout",
     "output_type": "stream",
     "text": [
      "CPU times: user 2.62 s, sys: 116 ms, total: 2.73 s\n",
      "Wall time: 2.29 s\n"
     ]
    },
    {
     "data": {
      "text/plain": [
       "array([ 6452573, 65841096, 70323990, ..., 44175624, 34778721, 67807976])"
      ]
     },
     "execution_count": 85,
     "metadata": {},
     "output_type": "execute_result"
    }
   ],
   "source": [
    "%time zd.vindex[ix0, ix1]"
   ]
  },
  {
   "cell_type": "code",
   "execution_count": 86,
   "metadata": {},
   "outputs": [
    {
     "name": "stdout",
     "output_type": "stream",
     "text": [
      "         48293 function calls in 2.312 seconds\n",
      "\n",
      "   Ordered by: internal time\n",
      "\n",
      "   ncalls  tottime  percall  cumtime  percall filename:lineno(function)\n",
      "        1    1.161    1.161    1.161    1.161 {method 'argsort' of 'numpy.ndarray' objects}\n",
      "        3    0.275    0.092    0.275    0.092 indexing.py:590(<genexpr>)\n",
      "        3    0.223    0.074    0.223    0.074 indexing.py:581(<genexpr>)\n",
      "     1024    0.174    0.000    0.358    0.000 core.py:802(_chunk_getitem)\n",
      "        1    0.167    0.167    1.914    1.914 indexing.py:547(__init__)\n",
      "     1024    0.155    0.000    0.164    0.000 core.py:964(_decode_chunk)\n",
      "        1    0.044    0.044    0.044    0.044 {built-in method numpy.core.multiarray.ravel_multi_index}\n",
      "        1    0.039    0.039    0.039    0.039 {built-in method numpy.core.multiarray.bincount}\n",
      "     3072    0.022    0.000    0.022    0.000 indexing.py:625(<genexpr>)\n",
      "     1025    0.009    0.000    0.034    0.000 indexing.py:607(__iter__)\n",
      "        6    0.005    0.001    0.005    0.001 {method 'reduce' of 'numpy.ufunc' objects}\n",
      "     3081    0.005    0.000    0.005    0.000 core.py:324(<genexpr>)\n",
      "     1024    0.004    0.000    0.004    0.000 {method 'reshape' of 'numpy.ndarray' objects}\n",
      "     2048    0.003    0.000    0.007    0.000 arrayprint.py:381(wrapper)\n",
      "     1024    0.003    0.000    0.003    0.000 {built-in method numpy.core.multiarray.frombuffer}\n",
      "        1    0.003    0.003    0.396    0.396 core.py:563(_get_selection)\n",
      "     1024    0.003    0.000    0.012    0.000 {method 'join' of 'str' objects}\n",
      "     2048    0.002    0.000    0.003    0.000 arrayprint.py:399(array2string)\n",
      "     1027    0.002    0.000    0.006    0.000 core.py:319(_cdata_shape)\n",
      "     2048    0.001    0.000    0.009    0.000 numeric.py:1905(array_str)\n",
      "     3084    0.001    0.000    0.001    0.000 {built-in method builtins.isinstance}\n",
      "        1    0.001    0.001    2.312    2.312 core.py:539(get_coordinate_selection)\n",
      "     1024    0.001    0.000    0.013    0.000 core.py:961(_chunk_key)\n",
      "     3072    0.001    0.000    0.001    0.000 indexing.py:621(<genexpr>)\n",
      "     3072    0.001    0.000    0.001    0.000 indexing.py:612(<genexpr>)\n",
      "        1    0.001    0.001    2.312    2.312 indexing.py:658(__getitem__)\n",
      "     1024    0.001    0.000    0.001    0.000 <string>:12(__new__)\n",
      "     1024    0.001    0.000    0.001    0.000 threading.py:1230(current_thread)\n",
      "     3072    0.001    0.000    0.001    0.000 {built-in method _thread.get_ident}\n",
      "     1024    0.000    0.000    0.000    0.000 {built-in method __new__ of type object at 0x5642b95ef480}\n",
      "     2048    0.000    0.000    0.000    0.000 {method 'item' of 'numpy.ndarray' objects}\n",
      "     2055    0.000    0.000    0.000    0.000 {built-in method builtins.len}\n",
      "     2048    0.000    0.000    0.000    0.000 {method 'discard' of 'set' objects}\n",
      "     1024    0.000    0.000    0.000    0.000 core.py:205(chunk_store)\n",
      "     2048    0.000    0.000    0.000    0.000 {method 'add' of 'set' objects}\n",
      "        1    0.000    0.000    2.312    2.312 <string>:1(<module>)\n",
      "     2048    0.000    0.000    0.000    0.000 {built-in method builtins.id}\n",
      "     1024    0.000    0.000    0.000    0.000 threading.py:1304(main_thread)\n",
      "        1    0.000    0.000    0.000    0.000 {built-in method numpy.core.multiarray.unravel_index}\n",
      "        6    0.000    0.000    0.005    0.001 fromnumeric.py:1886(any)\n",
      "        1    0.000    0.000    2.312    2.312 {built-in method builtins.exec}\n",
      "        1    0.000    0.000    0.000    0.000 {method 'cumsum' of 'numpy.ndarray' objects}\n",
      "        3    0.000    0.000    1.161    0.387 fromnumeric.py:55(_wrapfunc)\n",
      "        1    0.000    0.000    0.000    0.000 core.py:334(_nchunks)\n",
      "        6    0.000    0.000    0.005    0.001 {method 'any' of 'numpy.ndarray' objects}\n",
      "        8    0.000    0.000    0.000    0.000 {built-in method numpy.core.multiarray.array}\n",
      "        1    0.000    0.000    0.000    0.000 {built-in method numpy.core.multiarray.empty}\n",
      "        6    0.000    0.000    0.000    0.000 numeric.py:534(asanyarray)\n",
      "        6    0.000    0.000    0.005    0.001 _methods.py:37(_any)\n",
      "       12    0.000    0.000    0.000    0.000 _weakrefset.py:70(__contains__)\n",
      "        1    0.000    0.000    0.000    0.000 stride_tricks.py:195(broadcast_arrays)\n",
      "        1    0.000    0.000    0.000    0.000 {method 'nonzero' of 'numpy.ndarray' objects}\n",
      "        2    0.000    0.000    0.000    0.000 indexing.py:519(is_coordinate_selection)\n",
      "        1    0.000    0.000    0.000    0.000 stride_tricks.py:176(_broadcast_shape)\n",
      "        1    0.000    0.000    1.161    1.161 fromnumeric.py:826(argsort)\n",
      "        3    0.000    0.000    0.000    0.000 {built-in method builtins.getattr}\n",
      "        4    0.000    0.000    0.000    0.000 indexing.py:15(is_integer_array)\n",
      "        1    0.000    0.000    0.000    0.000 core.py:338(nchunks)\n",
      "        6    0.000    0.000    0.000    0.000 abc.py:178(__instancecheck__)\n",
      "        1    0.000    0.000    0.000    0.000 {built-in method _functools.reduce}\n",
      "        1    0.000    0.000    0.000    0.000 fromnumeric.py:2053(cumsum)\n",
      "        3    0.000    0.000    0.000    0.000 {built-in method builtins.all}\n",
      "        2    0.000    0.000    0.000    0.000 indexing.py:537(replace_lists)\n",
      "        4    0.000    0.000    0.000    0.000 {built-in method builtins.hasattr}\n",
      "        6    0.000    0.000    0.000    0.000 indexing.py:11(is_integer)\n",
      "        2    0.000    0.000    0.000    0.000 indexing.py:194(ensure_tuple)\n",
      "        2    0.000    0.000    0.000    0.000 indexing.py:523(<listcomp>)\n",
      "        6    0.000    0.000    0.000    0.000 indexing.py:539(<genexpr>)\n",
      "        3    0.000    0.000    0.000    0.000 indexing.py:551(<genexpr>)\n",
      "        1    0.000    0.000    0.000    0.000 stride_tricks.py:247(<listcomp>)\n",
      "        1    0.000    0.000    0.000    0.000 fromnumeric.py:1487(nonzero)\n",
      "        1    0.000    0.000    0.000    0.000 core.py:213(shape)\n",
      "        1    0.000    0.000    0.000    0.000 {method 'pop' of 'dict' objects}\n",
      "        3    0.000    0.000    0.000    0.000 stride_tricks.py:251(<genexpr>)\n",
      "        1    0.000    0.000    0.000    0.000 core.py:364(vindex)\n",
      "        2    0.000    0.000    0.000    0.000 core.py:153(_refresh_metadata)\n",
      "        1    0.000    0.000    0.000    0.000 {method 'disable' of '_lsprof.Profiler' objects}\n",
      "\n",
      "\n"
     ]
    }
   ],
   "source": [
    "cProfile.run('zd.vindex[ix0, ix1]', sort='time')"
   ]
  },
  {
   "cell_type": "markdown",
   "metadata": {},
   "source": [
    "Points need to be partially sorted so all points in the same chunk are grouped and processed together. This requires ``argsort`` which dominates time."
   ]
  },
  {
   "cell_type": "markdown",
   "metadata": {},
   "source": [
    "## h5py comparison\n",
    "\n",
    "N.B., not really fair because using slower compressor, but for interest..."
   ]
  },
  {
   "cell_type": "code",
   "execution_count": 65,
   "metadata": {},
   "outputs": [],
   "source": [
    "import h5py\n",
    "import tempfile"
   ]
  },
  {
   "cell_type": "code",
   "execution_count": 78,
   "metadata": {},
   "outputs": [],
   "source": [
    "h5f = h5py.File(tempfile.mktemp(), driver='core', backing_store=False)"
   ]
  },
  {
   "cell_type": "code",
   "execution_count": 79,
   "metadata": {},
   "outputs": [
    {
     "data": {
      "text/plain": [
       "<HDF5 dataset \"c\": shape (100000000,), type \"<i8\">"
      ]
     },
     "execution_count": 79,
     "metadata": {},
     "output_type": "execute_result"
    }
   ],
   "source": [
    "hc = h5f.create_dataset('c', data=c, compression='gzip', compression_opts=1, chunks=zc.chunks, shuffle=True)\n",
    "hc"
   ]
  },
  {
   "cell_type": "code",
   "execution_count": 80,
   "metadata": {},
   "outputs": [
    {
     "name": "stdout",
     "output_type": "stream",
     "text": [
      "CPU times: user 1.16 s, sys: 172 ms, total: 1.33 s\n",
      "Wall time: 1.32 s\n"
     ]
    },
    {
     "data": {
      "text/plain": [
       "array([       0,        1,        2, ..., 99999997, 99999998, 99999999])"
      ]
     },
     "execution_count": 80,
     "metadata": {},
     "output_type": "execute_result"
    }
   ],
   "source": [
    "%time hc[:]"
   ]
  },
  {
   "cell_type": "code",
   "execution_count": 81,
   "metadata": {},
   "outputs": [
    {
     "name": "stdout",
     "output_type": "stream",
     "text": [
      "CPU times: user 1.11 s, sys: 0 ns, total: 1.11 s\n",
      "Wall time: 1.11 s\n"
     ]
    },
    {
     "data": {
      "text/plain": [
       "array([    1063,    28396,    37229, ..., 99955875, 99979354, 99995791])"
      ]
     },
     "execution_count": 81,
     "metadata": {},
     "output_type": "execute_result"
    }
   ],
   "source": [
    "%time hc[ix_sparse_bool]"
   ]
  },
  {
   "cell_type": "code",
   "execution_count": 82,
   "metadata": {},
   "outputs": [],
   "source": [
    "# # this is pathological, takes minutes \n",
    "# %time hc[ix_dense_bool]"
   ]
  },
  {
   "cell_type": "code",
   "execution_count": 83,
   "metadata": {},
   "outputs": [
    {
     "name": "stdout",
     "output_type": "stream",
     "text": [
      "CPU times: user 38.3 s, sys: 136 ms, total: 38.4 s\n",
      "Wall time: 38.1 s\n"
     ]
    },
    {
     "data": {
      "text/plain": [
       "array([       0,     1000,     2000, ..., 99997000, 99998000, 99999000])"
      ]
     },
     "execution_count": 83,
     "metadata": {},
     "output_type": "execute_result"
    }
   ],
   "source": [
    "# this is pretty slow\n",
    "%time hc[::1000]"
   ]
  },
  {
   "cell_type": "code",
   "execution_count": null,
   "metadata": {},
   "outputs": [],
   "source": []
  }
 ],
 "metadata": {
  "kernelspec": {
   "display_name": "Python 3",
   "language": "python",
   "name": "python3"
  },
  "language_info": {
   "codemirror_mode": {
    "name": "ipython",
    "version": 3
   },
   "file_extension": ".py",
   "mimetype": "text/x-python",
   "name": "python",
   "nbconvert_exporter": "python",
   "pygments_lexer": "ipython3",
   "version": "3.6.1"
  }
 },
 "nbformat": 4,
 "nbformat_minor": 2
}
