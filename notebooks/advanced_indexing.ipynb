{
 "cells": [
  {
   "cell_type": "code",
   "execution_count": 1,
   "metadata": {},
   "outputs": [],
   "source": [
    "import sys\n",
    "sys.path.insert(0, '..')\n",
    "import zarr\n",
    "import numpy as np\n",
    "np.random.seed(42)\n",
    "import cProfile"
   ]
  },
  {
   "cell_type": "markdown",
   "metadata": {},
   "source": [
    "## Demonstrate advanced indexing"
   ]
  },
  {
   "cell_type": "markdown",
   "metadata": {},
   "source": [
    "### Indexing with Boolean arrays"
   ]
  },
  {
   "cell_type": "code",
   "execution_count": 2,
   "metadata": {},
   "outputs": [],
   "source": [
    "a = np.arange(10)"
   ]
  },
  {
   "cell_type": "code",
   "execution_count": 3,
   "metadata": {},
   "outputs": [
    {
     "data": {
      "text/plain": [
       "array([False,  True,  True,  True, False, False, False,  True,  True,  True], dtype=bool)"
      ]
     },
     "execution_count": 3,
     "metadata": {},
     "output_type": "execute_result"
    }
   ],
   "source": [
    "ix = np.random.binomial(1, 0.5, size=a.shape[0]).astype(bool)\n",
    "ix"
   ]
  },
  {
   "cell_type": "code",
   "execution_count": 4,
   "metadata": {},
   "outputs": [
    {
     "data": {
      "text/plain": [
       "array([1, 2, 3, 7, 8, 9])"
      ]
     },
     "execution_count": 4,
     "metadata": {},
     "output_type": "execute_result"
    }
   ],
   "source": [
    "a[ix]"
   ]
  },
  {
   "cell_type": "code",
   "execution_count": 5,
   "metadata": {},
   "outputs": [
    {
     "data": {
      "text/plain": [
       "array([1, 2, 3, 7, 8, 9])"
      ]
     },
     "execution_count": 5,
     "metadata": {},
     "output_type": "execute_result"
    }
   ],
   "source": [
    "za = zarr.array(a, chunks=2)\n",
    "za[ix]"
   ]
  },
  {
   "cell_type": "code",
   "execution_count": 6,
   "metadata": {},
   "outputs": [
    {
     "data": {
      "text/plain": [
       "array([ 0, 10, 20, 30,  4,  5,  6, 70, 80, 90])"
      ]
     },
     "execution_count": 6,
     "metadata": {},
     "output_type": "execute_result"
    }
   ],
   "source": [
    "za[ix] = a[ix] * 10\n",
    "za[:]"
   ]
  },
  {
   "cell_type": "markdown",
   "metadata": {},
   "source": [
    "### Indexing with integer arrays"
   ]
  },
  {
   "cell_type": "code",
   "execution_count": 7,
   "metadata": {},
   "outputs": [
    {
     "data": {
      "text/plain": [
       "array([5, 4, 1, 7, 5])"
      ]
     },
     "execution_count": 7,
     "metadata": {},
     "output_type": "execute_result"
    }
   ],
   "source": [
    "ix = np.random.choice(a.shape[0], size=a.shape[0]//2)\n",
    "ix"
   ]
  },
  {
   "cell_type": "code",
   "execution_count": 8,
   "metadata": {},
   "outputs": [
    {
     "data": {
      "text/plain": [
       "array([5, 4, 1, 7, 5])"
      ]
     },
     "execution_count": 8,
     "metadata": {},
     "output_type": "execute_result"
    }
   ],
   "source": [
    "a[ix]"
   ]
  },
  {
   "cell_type": "code",
   "execution_count": 9,
   "metadata": {},
   "outputs": [
    {
     "data": {
      "text/plain": [
       "array([5, 4, 1, 7, 5])"
      ]
     },
     "execution_count": 9,
     "metadata": {},
     "output_type": "execute_result"
    }
   ],
   "source": [
    "za = zarr.array(a, chunks=2)\n",
    "za[ix]"
   ]
  },
  {
   "cell_type": "code",
   "execution_count": 10,
   "metadata": {},
   "outputs": [
    {
     "data": {
      "text/plain": [
       "array([ 0, 10,  2,  3, 40, 50,  6, 70,  8,  9])"
      ]
     },
     "execution_count": 10,
     "metadata": {},
     "output_type": "execute_result"
    }
   ],
   "source": [
    "za[ix] = a[ix] * 10\n",
    "za[:]"
   ]
  },
  {
   "cell_type": "markdown",
   "metadata": {},
   "source": [
    "### Multidimensional indexing\n",
    "\n",
    "N.B., orthogonal indexing is available. This is different from numpy fancy indexing if more than one dimension is indexed with an array."
   ]
  },
  {
   "cell_type": "code",
   "execution_count": 11,
   "metadata": {},
   "outputs": [],
   "source": [
    "b = np.arange(100).reshape(10, 10)"
   ]
  },
  {
   "cell_type": "code",
   "execution_count": 12,
   "metadata": {},
   "outputs": [
    {
     "data": {
      "text/plain": [
       "array([False,  True,  True,  True, False, False,  True, False, False,  True], dtype=bool)"
      ]
     },
     "execution_count": 12,
     "metadata": {},
     "output_type": "execute_result"
    }
   ],
   "source": [
    "ix0 = np.random.binomial(1, 0.5, size=b.shape[0]).astype(bool)\n",
    "ix0"
   ]
  },
  {
   "cell_type": "code",
   "execution_count": 13,
   "metadata": {},
   "outputs": [
    {
     "data": {
      "text/plain": [
       "array([False, False,  True, False,  True, False,  True,  True, False, False], dtype=bool)"
      ]
     },
     "execution_count": 13,
     "metadata": {},
     "output_type": "execute_result"
    }
   ],
   "source": [
    "ix1 = np.random.binomial(1, 0.5, size=b.shape[1]).astype(bool)\n",
    "ix1"
   ]
  },
  {
   "cell_type": "code",
   "execution_count": 14,
   "metadata": {},
   "outputs": [
    {
     "data": {
      "text/plain": [
       "array([[12, 14, 16, 17],\n",
       "       [22, 24, 26, 27],\n",
       "       [32, 34, 36, 37],\n",
       "       [62, 64, 66, 67],\n",
       "       [92, 94, 96, 97]])"
      ]
     },
     "execution_count": 14,
     "metadata": {},
     "output_type": "execute_result"
    }
   ],
   "source": [
    "b[np.ix_(ix0, ix1)]"
   ]
  },
  {
   "cell_type": "code",
   "execution_count": 15,
   "metadata": {},
   "outputs": [
    {
     "data": {
      "text/plain": [
       "array([[12, 14, 16, 17],\n",
       "       [22, 24, 26, 27],\n",
       "       [32, 34, 36, 37],\n",
       "       [62, 64, 66, 67],\n",
       "       [92, 94, 96, 97]])"
      ]
     },
     "execution_count": 15,
     "metadata": {},
     "output_type": "execute_result"
    }
   ],
   "source": [
    "zb = zarr.array(b, chunks=(2, 2))\n",
    "zb.oindex[ix0, ix1]"
   ]
  },
  {
   "cell_type": "code",
   "execution_count": 16,
   "metadata": {},
   "outputs": [
    {
     "data": {
      "text/plain": [
       "array([[ 0,  1,  2,  3,  4,  5,  6,  7,  8,  9],\n",
       "       [10, 11, -1, 13, -1, 15, -1, -1, 18, 19],\n",
       "       [20, 21, -1, 23, -1, 25, -1, -1, 28, 29],\n",
       "       [30, 31, -1, 33, -1, 35, -1, -1, 38, 39],\n",
       "       [40, 41, 42, 43, 44, 45, 46, 47, 48, 49],\n",
       "       [50, 51, 52, 53, 54, 55, 56, 57, 58, 59],\n",
       "       [60, 61, -1, 63, -1, 65, -1, -1, 68, 69],\n",
       "       [70, 71, 72, 73, 74, 75, 76, 77, 78, 79],\n",
       "       [80, 81, 82, 83, 84, 85, 86, 87, 88, 89],\n",
       "       [90, 91, -1, 93, -1, 95, -1, -1, 98, 99]])"
      ]
     },
     "execution_count": 16,
     "metadata": {},
     "output_type": "execute_result"
    }
   ],
   "source": [
    "zb.oindex[ix0, ix1] = -1\n",
    "zb[:]"
   ]
  },
  {
   "cell_type": "code",
   "execution_count": 17,
   "metadata": {},
   "outputs": [
    {
     "data": {
      "text/plain": [
       "array([8, 1, 9, 8, 9])"
      ]
     },
     "execution_count": 17,
     "metadata": {},
     "output_type": "execute_result"
    }
   ],
   "source": [
    "ix0 = np.random.choice(b.shape[0], size=b.shape[0]//2)\n",
    "ix0"
   ]
  },
  {
   "cell_type": "code",
   "execution_count": 18,
   "metadata": {},
   "outputs": [
    {
     "data": {
      "text/plain": [
       "array([4, 1, 3, 6, 7])"
      ]
     },
     "execution_count": 18,
     "metadata": {},
     "output_type": "execute_result"
    }
   ],
   "source": [
    "ix1 = np.random.choice(b.shape[1], size=b.shape[1]//2)\n",
    "ix1"
   ]
  },
  {
   "cell_type": "code",
   "execution_count": 19,
   "metadata": {},
   "outputs": [
    {
     "data": {
      "text/plain": [
       "array([[84, 81, 83, 86, 87],\n",
       "       [14, 11, 13, 16, 17],\n",
       "       [94, 91, 93, 96, 97],\n",
       "       [84, 81, 83, 86, 87],\n",
       "       [94, 91, 93, 96, 97]])"
      ]
     },
     "execution_count": 19,
     "metadata": {},
     "output_type": "execute_result"
    }
   ],
   "source": [
    "b[np.ix_(ix0, ix1)]"
   ]
  },
  {
   "cell_type": "code",
   "execution_count": 20,
   "metadata": {},
   "outputs": [
    {
     "data": {
      "text/plain": [
       "array([[84, 81, 83, 86, 87],\n",
       "       [14, 11, 13, 16, 17],\n",
       "       [94, 91, 93, 96, 97],\n",
       "       [84, 81, 83, 86, 87],\n",
       "       [94, 91, 93, 96, 97]])"
      ]
     },
     "execution_count": 20,
     "metadata": {},
     "output_type": "execute_result"
    }
   ],
   "source": [
    "zb = zarr.array(b, chunks=(2, 2))\n",
    "zb.oindex[ix0, ix1]"
   ]
  },
  {
   "cell_type": "code",
   "execution_count": 21,
   "metadata": {},
   "outputs": [
    {
     "data": {
      "text/plain": [
       "array([[ 0,  1,  2,  3,  4,  5,  6,  7,  8,  9],\n",
       "       [10, -1, 12, -1, -1, 15, -1, -1, 18, 19],\n",
       "       [20, 21, 22, 23, 24, 25, 26, 27, 28, 29],\n",
       "       [30, 31, 32, 33, 34, 35, 36, 37, 38, 39],\n",
       "       [40, 41, 42, 43, 44, 45, 46, 47, 48, 49],\n",
       "       [50, 51, 52, 53, 54, 55, 56, 57, 58, 59],\n",
       "       [60, 61, 62, 63, 64, 65, 66, 67, 68, 69],\n",
       "       [70, 71, 72, 73, 74, 75, 76, 77, 78, 79],\n",
       "       [80, -1, 82, -1, -1, 85, -1, -1, 88, 89],\n",
       "       [90, -1, 92, -1, -1, 95, -1, -1, 98, 99]])"
      ]
     },
     "execution_count": 21,
     "metadata": {},
     "output_type": "execute_result"
    }
   ],
   "source": [
    "zb.oindex[ix0, ix1] = -1\n",
    "zb[:]"
   ]
  },
  {
   "cell_type": "markdown",
   "metadata": {},
   "source": [
    "### Indexing with zarr bool arrays"
   ]
  },
  {
   "cell_type": "code",
   "execution_count": 22,
   "metadata": {},
   "outputs": [],
   "source": [
    "ix = np.random.binomial(1, 0.5, size=a.shape[0]).astype(bool)\n",
    "zix = zarr.array(ix, chunks=2)"
   ]
  },
  {
   "cell_type": "code",
   "execution_count": 23,
   "metadata": {},
   "outputs": [
    {
     "data": {
      "text/plain": [
       "array([1, 3, 5, 6, 8, 9])"
      ]
     },
     "execution_count": 23,
     "metadata": {},
     "output_type": "execute_result"
    }
   ],
   "source": [
    "za = zarr.array(a, chunks=2)\n",
    "za[ix]"
   ]
  },
  {
   "cell_type": "code",
   "execution_count": 24,
   "metadata": {},
   "outputs": [
    {
     "data": {
      "text/plain": [
       "array([1, 3, 5, 6, 8, 9])"
      ]
     },
     "execution_count": 24,
     "metadata": {},
     "output_type": "execute_result"
    }
   ],
   "source": [
    "# will not load all zix into memory\n",
    "za[zix]"
   ]
  },
  {
   "cell_type": "markdown",
   "metadata": {},
   "source": [
    "## 1D Benchmarking"
   ]
  },
  {
   "cell_type": "code",
   "execution_count": 25,
   "metadata": {},
   "outputs": [
    {
     "data": {
      "text/plain": [
       "800000000"
      ]
     },
     "execution_count": 25,
     "metadata": {},
     "output_type": "execute_result"
    }
   ],
   "source": [
    "c = np.arange(100000000)\n",
    "c.nbytes"
   ]
  },
  {
   "cell_type": "code",
   "execution_count": 26,
   "metadata": {},
   "outputs": [
    {
     "name": "stdout",
     "output_type": "stream",
     "text": [
      "CPU times: user 524 ms, sys: 124 ms, total: 648 ms\n",
      "Wall time: 226 ms\n"
     ]
    },
    {
     "data": {
      "text/html": [
       "<table class=\"zarr-info\"><tbody><tr><th style=\"text-align: left\">Type</th><td style=\"text-align: left\">zarr.core.Array</td></tr><tr><th style=\"text-align: left\">Data type</th><td style=\"text-align: left\">int64</td></tr><tr><th style=\"text-align: left\">Shape</th><td style=\"text-align: left\">(100000000,)</td></tr><tr><th style=\"text-align: left\">Chunk shape</th><td style=\"text-align: left\">(48829,)</td></tr><tr><th style=\"text-align: left\">Order</th><td style=\"text-align: left\">C</td></tr><tr><th style=\"text-align: left\">Read-only</th><td style=\"text-align: left\">False</td></tr><tr><th style=\"text-align: left\">Compressor</th><td style=\"text-align: left\">Blosc(cname='lz4', clevel=5, shuffle=SHUFFLE, blocksize=0)</td></tr><tr><th style=\"text-align: left\">Store type</th><td style=\"text-align: left\">builtins.dict</td></tr><tr><th style=\"text-align: left\">No. bytes</th><td style=\"text-align: left\">800000000 (762.9M)</td></tr><tr><th style=\"text-align: left\">No. bytes stored</th><td style=\"text-align: left\">11870277 (11.3M)</td></tr><tr><th style=\"text-align: left\">Storage ratio</th><td style=\"text-align: left\">67.4</td></tr><tr><th style=\"text-align: left\">Chunks initialized</th><td style=\"text-align: left\">2048/2048</td></tr></tbody></table>"
      ],
      "text/plain": [
       "Type               : zarr.core.Array\n",
       "Data type          : int64\n",
       "Shape              : (100000000,)\n",
       "Chunk shape        : (48829,)\n",
       "Order              : C\n",
       "Read-only          : False\n",
       "Compressor         : Blosc(cname='lz4', clevel=5, shuffle=SHUFFLE, blocksize=0)\n",
       "Store type         : builtins.dict\n",
       "No. bytes          : 800000000 (762.9M)\n",
       "No. bytes stored   : 11870277 (11.3M)\n",
       "Storage ratio      : 67.4\n",
       "Chunks initialized : 2048/2048"
      ]
     },
     "execution_count": 26,
     "metadata": {},
     "output_type": "execute_result"
    }
   ],
   "source": [
    "%time zc = zarr.array(c)\n",
    "zc.info"
   ]
  },
  {
   "cell_type": "code",
   "execution_count": 27,
   "metadata": {},
   "outputs": [
    {
     "name": "stdout",
     "output_type": "stream",
     "text": [
      "CPU times: user 124 ms, sys: 52 ms, total: 176 ms\n",
      "Wall time: 173 ms\n"
     ]
    },
    {
     "data": {
      "text/plain": [
       "array([       0,        1,        2, ..., 99999997, 99999998, 99999999])"
      ]
     },
     "execution_count": 27,
     "metadata": {},
     "output_type": "execute_result"
    }
   ],
   "source": [
    "%time c.copy()"
   ]
  },
  {
   "cell_type": "code",
   "execution_count": 28,
   "metadata": {},
   "outputs": [
    {
     "name": "stdout",
     "output_type": "stream",
     "text": [
      "CPU times: user 512 ms, sys: 108 ms, total: 620 ms\n",
      "Wall time: 312 ms\n"
     ]
    },
    {
     "data": {
      "text/plain": [
       "array([       0,        1,        2, ..., 99999997, 99999998, 99999999])"
      ]
     },
     "execution_count": 28,
     "metadata": {},
     "output_type": "execute_result"
    }
   ],
   "source": [
    "%time zc[:]"
   ]
  },
  {
   "cell_type": "markdown",
   "metadata": {},
   "source": [
    "### bool dense selection"
   ]
  },
  {
   "cell_type": "code",
   "execution_count": 29,
   "metadata": {},
   "outputs": [
    {
     "data": {
      "text/plain": [
       "49994863"
      ]
     },
     "execution_count": 29,
     "metadata": {},
     "output_type": "execute_result"
    }
   ],
   "source": [
    "# relatively dense selection\n",
    "ix_dense_bool = np.random.binomial(1, 0.5, size=c.shape[0]).astype(bool)\n",
    "np.count_nonzero(ix_dense_bool)"
   ]
  },
  {
   "cell_type": "code",
   "execution_count": 30,
   "metadata": {},
   "outputs": [
    {
     "name": "stdout",
     "output_type": "stream",
     "text": [
      "CPU times: user 612 ms, sys: 8 ms, total: 620 ms\n",
      "Wall time: 621 ms\n"
     ]
    },
    {
     "data": {
      "text/plain": [
       "array([       0,        1,        2, ..., 99999994, 99999995, 99999996])"
      ]
     },
     "execution_count": 30,
     "metadata": {},
     "output_type": "execute_result"
    }
   ],
   "source": [
    "%time c[ix_dense_bool]"
   ]
  },
  {
   "cell_type": "code",
   "execution_count": 31,
   "metadata": {},
   "outputs": [
    {
     "name": "stdout",
     "output_type": "stream",
     "text": [
      "CPU times: user 1.47 s, sys: 124 ms, total: 1.6 s\n",
      "Wall time: 922 ms\n"
     ]
    },
    {
     "data": {
      "text/plain": [
       "array([       0,        1,        2, ..., 99999994, 99999995, 99999996])"
      ]
     },
     "execution_count": 31,
     "metadata": {},
     "output_type": "execute_result"
    }
   ],
   "source": [
    "%time zc[ix_dense_bool]"
   ]
  },
  {
   "cell_type": "code",
   "execution_count": 32,
   "metadata": {},
   "outputs": [
    {
     "name": "stdout",
     "output_type": "stream",
     "text": [
      "         116791 function calls in 0.943 seconds\n",
      "\n",
      "   Ordered by: internal time\n",
      "\n",
      "   ncalls  tottime  percall  cumtime  percall filename:lineno(function)\n",
      "     2049    0.445    0.000    0.445    0.000 {method 'nonzero' of 'numpy.ndarray' objects}\n",
      "     2048    0.234    0.000    0.250    0.000 core.py:931(_decode_chunk)\n",
      "     2048    0.140    0.000    0.425    0.000 core.py:769(_chunk_getitem)\n",
      "     2049    0.013    0.000    0.497    0.000 new_indexing.py:547(__iter__)\n",
      "     2048    0.011    0.000    0.011    0.000 {built-in method numpy.core.multiarray.count_nonzero}\n",
      "     2048    0.011    0.000    0.465    0.000 index_tricks.py:26(ix_)\n",
      "     4096    0.010    0.000    0.010    0.000 core.py:324(<genexpr>)\n",
      "     4096    0.009    0.000    0.009    0.000 {method 'reshape' of 'numpy.ndarray' objects}\n",
      "        1    0.006    0.006    0.928    0.928 core.py:549(_get_selection)\n",
      "     2048    0.006    0.000    0.006    0.000 {built-in method numpy.core.multiarray.frombuffer}\n",
      "     2048    0.005    0.000    0.010    0.000 arrayprint.py:381(wrapper)\n",
      "     2049    0.005    0.000    0.006    0.000 new_indexing.py:281(__iter__)\n",
      "     2048    0.004    0.000    0.017    0.000 {method 'join' of 'str' objects}\n",
      "     2048    0.004    0.000    0.014    0.000 core.py:319(_cdata_shape)\n",
      "     2048    0.003    0.000    0.004    0.000 arrayprint.py:399(array2string)\n",
      "    12295    0.003    0.000    0.003    0.000 {built-in method builtins.isinstance}\n",
      "     2048    0.003    0.000    0.470    0.000 new_indexing.py:466(ix_)\n",
      "        1    0.003    0.003    0.014    0.014 new_indexing.py:255(__init__)\n",
      "     2048    0.002    0.000    0.004    0.000 numerictypes.py:728(issubdtype)\n",
      "     2048    0.002    0.000    0.019    0.000 core.py:928(_chunk_key)\n",
      "     2048    0.002    0.000    0.013    0.000 numeric.py:1905(array_str)\n",
      "     2048    0.002    0.000    0.003    0.000 new_indexing.py:471(<listcomp>)\n",
      "     4096    0.001    0.000    0.001    0.000 {built-in method __new__ of type object at 0x5616c71ce480}\n",
      "     2048    0.001    0.000    0.002    0.000 new_indexing.py:562(<listcomp>)\n",
      "     4096    0.001    0.000    0.001    0.000 new_indexing.py:550(<genexpr>)\n",
      "     2048    0.001    0.000    0.002    0.000 threading.py:1230(current_thread)\n",
      "     2048    0.001    0.000    0.001    0.000 {built-in method numpy.core.multiarray.array}\n",
      "     4096    0.001    0.000    0.001    0.000 new_indexing.py:552(<genexpr>)\n",
      "     6153    0.001    0.000    0.001    0.000 {built-in method builtins.len}\n",
      "     2048    0.001    0.000    0.002    0.000 <string>:12(__new__)\n",
      "     4096    0.001    0.000    0.001    0.000 {built-in method _thread.get_ident}\n",
      "     2048    0.001    0.000    0.002    0.000 numeric.py:463(asarray)\n",
      "     4096    0.001    0.000    0.001    0.000 {built-in method builtins.issubclass}\n",
      "     4096    0.001    0.000    0.001    0.000 new_indexing.py:551(<genexpr>)\n",
      "     2048    0.001    0.000    0.001    0.000 numerictypes.py:660(issubclass_)\n",
      "     2048    0.001    0.000    0.001    0.000 core.py:205(chunk_store)\n",
      "        1    0.001    0.001    0.943    0.943 <string>:1(<module>)\n",
      "     2048    0.001    0.000    0.012    0.000 numeric.py:380(count_nonzero)\n",
      "     2049    0.001    0.000    0.001    0.000 {built-in method builtins.any}\n",
      "     2048    0.001    0.000    0.001    0.000 {method 'item' of 'numpy.ndarray' objects}\n",
      "     2048    0.000    0.000    0.000    0.000 threading.py:1304(main_thread)\n",
      "     2048    0.000    0.000    0.000    0.000 {method 'add' of 'set' objects}\n",
      "     2049    0.000    0.000    0.000    0.000 {method 'append' of 'list' objects}\n",
      "     2048    0.000    0.000    0.000    0.000 {method 'discard' of 'set' objects}\n",
      "     2048    0.000    0.000    0.000    0.000 {built-in method builtins.id}\n",
      "        1    0.000    0.000    0.015    0.015 new_indexing.py:483(__init__)\n",
      "        2    0.000    0.000    0.000    0.000 {built-in method numpy.core.multiarray.zeros}\n",
      "        1    0.000    0.000    0.943    0.943 {built-in method builtins.exec}\n",
      "        1    0.000    0.000    0.000    0.000 {method 'cumsum' of 'numpy.ndarray' objects}\n",
      "        1    0.000    0.000    0.000    0.000 {built-in method numpy.core.multiarray.empty}\n",
      "        2    0.000    0.000    0.000    0.000 fromnumeric.py:55(_wrapfunc)\n",
      "        1    0.000    0.000    0.942    0.942 core.py:392(__getitem__)\n",
      "        1    0.000    0.000    0.942    0.942 core.py:527(get_orthogonal_selection)\n",
      "        2    0.000    0.000    0.000    0.000 {built-in method builtins.hasattr}\n",
      "        1    0.000    0.000    0.000    0.000 new_indexing.py:147(replace_ellipsis)\n",
      "        1    0.000    0.000    0.000    0.000 new_indexing.py:539(<listcomp>)\n",
      "        1    0.000    0.000    0.000    0.000 fromnumeric.py:2053(cumsum)\n",
      "        1    0.000    0.000    0.000    0.000 abc.py:178(__instancecheck__)\n",
      "        2    0.000    0.000    0.000    0.000 _weakrefset.py:70(__contains__)\n",
      "        2    0.000    0.000    0.000    0.000 {built-in method builtins.getattr}\n",
      "        1    0.000    0.000    0.000    0.000 new_indexing.py:180(ensure_tuple)\n",
      "        1    0.000    0.000    0.000    0.000 new_indexing.py:600(replace_lists)\n",
      "        1    0.000    0.000    0.000    0.000 fromnumeric.py:1487(nonzero)\n",
      "        1    0.000    0.000    0.000    0.000 {built-in method builtins.sum}\n",
      "        1    0.000    0.000    0.000    0.000 new_indexing.py:150(<genexpr>)\n",
      "        2    0.000    0.000    0.000    0.000 new_indexing.py:537(<genexpr>)\n",
      "        1    0.000    0.000    0.000    0.000 new_indexing.py:542(<listcomp>)\n",
      "        2    0.000    0.000    0.000    0.000 new_indexing.py:602(<genexpr>)\n",
      "        1    0.000    0.000    0.000    0.000 {method 'disable' of '_lsprof.Profiler' objects}\n",
      "\n",
      "\n"
     ]
    }
   ],
   "source": [
    "cProfile.run('zc[ix_dense_bool]', sort='time')"
   ]
  },
  {
   "cell_type": "markdown",
   "metadata": {},
   "source": [
    "### int dense selection"
   ]
  },
  {
   "cell_type": "code",
   "execution_count": 33,
   "metadata": {},
   "outputs": [
    {
     "data": {
      "text/plain": [
       "(50000000,\n",
       " array([86098038, 51488465,  9242439, ..., 31235734, 20293124, 13824417]))"
      ]
     },
     "execution_count": 33,
     "metadata": {},
     "output_type": "execute_result"
    }
   ],
   "source": [
    "ix_dense_int = np.random.choice(c.shape[0], size=c.shape[0]//2, replace=True)\n",
    "ix_dense_int_sorted = ix_dense_int.copy()\n",
    "ix_dense_int_sorted.sort()\n",
    "len(ix_dense_int), ix_dense_int"
   ]
  },
  {
   "cell_type": "code",
   "execution_count": 34,
   "metadata": {},
   "outputs": [
    {
     "name": "stdout",
     "output_type": "stream",
     "text": [
      "CPU times: user 10.6 s, sys: 0 ns, total: 10.6 s\n",
      "Wall time: 10.6 s\n"
     ]
    },
    {
     "data": {
      "text/plain": [
       "array([35886154,  6592339, 23747762, ..., 26251840, 48664862,  3479456])"
      ]
     },
     "execution_count": 34,
     "metadata": {},
     "output_type": "execute_result"
    }
   ],
   "source": [
    "%time np.argsort(ix_dense_int, kind='quicksort')"
   ]
  },
  {
   "cell_type": "code",
   "execution_count": 36,
   "metadata": {},
   "outputs": [
    {
     "name": "stdout",
     "output_type": "stream",
     "text": [
      "CPU times: user 152 ms, sys: 0 ns, total: 152 ms\n",
      "Wall time: 152 ms\n"
     ]
    },
    {
     "data": {
      "text/plain": [
       "array([       0,        0,        1, ..., 99999994, 99999999, 99999999])"
      ]
     },
     "execution_count": 36,
     "metadata": {},
     "output_type": "execute_result"
    }
   ],
   "source": [
    "%time c[ix_dense_int_sorted]"
   ]
  },
  {
   "cell_type": "code",
   "execution_count": 37,
   "metadata": {},
   "outputs": [
    {
     "name": "stdout",
     "output_type": "stream",
     "text": [
      "CPU times: user 1.39 s, sys: 188 ms, total: 1.58 s\n",
      "Wall time: 1.29 s\n"
     ]
    },
    {
     "data": {
      "text/plain": [
       "array([       0,        0,        1, ..., 99999994, 99999999, 99999999])"
      ]
     },
     "execution_count": 37,
     "metadata": {},
     "output_type": "execute_result"
    }
   ],
   "source": [
    "%time zc[ix_dense_int_sorted]"
   ]
  },
  {
   "cell_type": "code",
   "execution_count": 38,
   "metadata": {},
   "outputs": [
    {
     "name": "stdout",
     "output_type": "stream",
     "text": [
      "CPU times: user 684 ms, sys: 36 ms, total: 720 ms\n",
      "Wall time: 718 ms\n"
     ]
    },
    {
     "data": {
      "text/plain": [
       "array([86098038, 51488465,  9242439, ..., 31235734, 20293124, 13824417])"
      ]
     },
     "execution_count": 38,
     "metadata": {},
     "output_type": "execute_result"
    }
   ],
   "source": [
    "%time c[ix_dense_int]"
   ]
  },
  {
   "cell_type": "code",
   "execution_count": 39,
   "metadata": {},
   "outputs": [
    {
     "name": "stdout",
     "output_type": "stream",
     "text": [
      "CPU times: user 14.8 s, sys: 716 ms, total: 15.5 s\n",
      "Wall time: 14.7 s\n"
     ]
    },
    {
     "data": {
      "text/plain": [
       "array([86098038, 51488465,  9242439, ..., 31235734, 20293124, 13824417])"
      ]
     },
     "execution_count": 39,
     "metadata": {},
     "output_type": "execute_result"
    }
   ],
   "source": [
    "%time zc[ix_dense_int]"
   ]
  },
  {
   "cell_type": "code",
   "execution_count": 40,
   "metadata": {},
   "outputs": [
    {
     "name": "stdout",
     "output_type": "stream",
     "text": [
      "         110675 function calls in 1.659 seconds\n",
      "\n",
      "   Ordered by: internal time\n",
      "\n",
      "   ncalls  tottime  percall  cumtime  percall filename:lineno(function)\n",
      "        1    0.781    0.781    1.051    1.051 new_indexing.py:393(__init__)\n",
      "     2048    0.209    0.000    0.380    0.000 core.py:769(_chunk_getitem)\n",
      "     2049    0.148    0.000    0.150    0.000 new_indexing.py:440(__iter__)\n",
      "        1    0.132    0.132    0.132    0.132 function_base.py:1848(diff)\n",
      "     2048    0.130    0.000    0.141    0.000 core.py:931(_decode_chunk)\n",
      "        1    0.120    0.120    0.120    0.120 {built-in method numpy.core.multiarray.bincount}\n",
      "        1    0.018    0.018    1.642    1.642 core.py:527(get_orthogonal_selection)\n",
      "        1    0.018    0.018    1.659    1.659 <string>:1(<module>)\n",
      "        4    0.017    0.004    0.017    0.004 {method 'reduce' of 'numpy.ufunc' objects}\n",
      "     2049    0.012    0.000    0.188    0.000 new_indexing.py:547(__iter__)\n",
      "     4096    0.008    0.000    0.008    0.000 core.py:324(<genexpr>)\n",
      "     2048    0.008    0.000    0.015    0.000 index_tricks.py:26(ix_)\n",
      "     4096    0.007    0.000    0.007    0.000 {method 'reshape' of 'numpy.ndarray' objects}\n",
      "        1    0.004    0.004    0.572    0.572 core.py:549(_get_selection)\n",
      "     2048    0.004    0.000    0.009    0.000 arrayprint.py:381(wrapper)\n",
      "     2048    0.004    0.000    0.004    0.000 {built-in method numpy.core.multiarray.frombuffer}\n",
      "     2048    0.004    0.000    0.014    0.000 {method 'join' of 'str' objects}\n",
      "     2048    0.003    0.000    0.011    0.000 core.py:319(_cdata_shape)\n",
      "    12295    0.003    0.000    0.003    0.000 {built-in method builtins.isinstance}\n",
      "     2048    0.003    0.000    0.003    0.000 arrayprint.py:399(array2string)\n",
      "     2048    0.002    0.000    0.020    0.000 new_indexing.py:466(ix_)\n",
      "     2048    0.002    0.000    0.003    0.000 numerictypes.py:728(issubdtype)\n",
      "     2048    0.002    0.000    0.016    0.000 core.py:928(_chunk_key)\n",
      "     2048    0.002    0.000    0.011    0.000 numeric.py:1905(array_str)\n",
      "     4096    0.002    0.000    0.002    0.000 {built-in method __new__ of type object at 0x5616c71ce480}\n",
      "     2048    0.001    0.000    0.002    0.000 new_indexing.py:471(<listcomp>)\n",
      "     4096    0.001    0.000    0.001    0.000 new_indexing.py:550(<genexpr>)\n",
      "     2048    0.001    0.000    0.001    0.000 threading.py:1230(current_thread)\n",
      "     2048    0.001    0.000    0.002    0.000 new_indexing.py:562(<listcomp>)\n",
      "     6153    0.001    0.000    0.001    0.000 {built-in method builtins.len}\n",
      "     4096    0.001    0.000    0.001    0.000 new_indexing.py:552(<genexpr>)\n",
      "     2054    0.001    0.000    0.001    0.000 {built-in method numpy.core.multiarray.array}\n",
      "     2048    0.001    0.000    0.001    0.000 <string>:12(__new__)\n",
      "     2048    0.001    0.000    0.002    0.000 numeric.py:463(asarray)\n",
      "     4096    0.001    0.000    0.001    0.000 {built-in method _thread.get_ident}\n",
      "     4096    0.001    0.000    0.001    0.000 {built-in method builtins.issubclass}\n",
      "     4096    0.001    0.000    0.001    0.000 new_indexing.py:551(<genexpr>)\n",
      "     2048    0.001    0.000    0.001    0.000 numerictypes.py:660(issubclass_)\n",
      "     2048    0.001    0.000    0.001    0.000 core.py:205(chunk_store)\n",
      "     2049    0.001    0.000    0.001    0.000 {built-in method builtins.any}\n",
      "     2048    0.000    0.000    0.000    0.000 {method 'item' of 'numpy.ndarray' objects}\n",
      "     2048    0.000    0.000    0.000    0.000 threading.py:1304(main_thread)\n",
      "     2048    0.000    0.000    0.000    0.000 {method 'discard' of 'set' objects}\n",
      "     2048    0.000    0.000    0.000    0.000 {method 'add' of 'set' objects}\n",
      "        1    0.000    0.000    1.052    1.052 new_indexing.py:483(__init__)\n",
      "     2049    0.000    0.000    0.000    0.000 {method 'append' of 'list' objects}\n",
      "     2048    0.000    0.000    0.000    0.000 {built-in method builtins.id}\n",
      "        4    0.000    0.000    0.017    0.004 fromnumeric.py:1886(any)\n",
      "        1    0.000    0.000    1.659    1.659 {built-in method builtins.exec}\n",
      "        1    0.000    0.000    0.000    0.000 {method 'cumsum' of 'numpy.ndarray' objects}\n",
      "        1    0.000    0.000    1.642    1.642 core.py:392(__getitem__)\n",
      "        1    0.000    0.000    0.000    0.000 {built-in method numpy.core.multiarray.empty}\n",
      "        4    0.000    0.000    0.017    0.004 {method 'any' of 'numpy.ndarray' objects}\n",
      "        1    0.000    0.000    0.000    0.000 {method 'nonzero' of 'numpy.ndarray' objects}\n",
      "        2    0.000    0.000    0.000    0.000 fromnumeric.py:55(_wrapfunc)\n",
      "        6    0.000    0.000    0.000    0.000 numeric.py:534(asanyarray)\n",
      "        4    0.000    0.000    0.017    0.004 _methods.py:37(_any)\n",
      "        1    0.000    0.000    0.000    0.000 new_indexing.py:147(replace_ellipsis)\n",
      "        1    0.000    0.000    0.000    0.000 fromnumeric.py:2053(cumsum)\n",
      "        1    0.000    0.000    0.000    0.000 abc.py:178(__instancecheck__)\n",
      "        2    0.000    0.000    0.000    0.000 {built-in method builtins.getattr}\n",
      "        1    0.000    0.000    0.000    0.000 new_indexing.py:180(ensure_tuple)\n",
      "        1    0.000    0.000    0.000    0.000 new_indexing.py:600(replace_lists)\n",
      "        2    0.000    0.000    0.000    0.000 _weakrefset.py:70(__contains__)\n",
      "        2    0.000    0.000    0.000    0.000 {built-in method builtins.hasattr}\n",
      "        1    0.000    0.000    0.000    0.000 {built-in method builtins.sum}\n",
      "        1    0.000    0.000    0.000    0.000 new_indexing.py:539(<listcomp>)\n",
      "        1    0.000    0.000    0.000    0.000 new_indexing.py:150(<genexpr>)\n",
      "        2    0.000    0.000    0.000    0.000 new_indexing.py:537(<genexpr>)\n",
      "        2    0.000    0.000    0.000    0.000 new_indexing.py:602(<genexpr>)\n",
      "        1    0.000    0.000    0.000    0.000 fromnumeric.py:1487(nonzero)\n",
      "        1    0.000    0.000    0.000    0.000 new_indexing.py:542(<listcomp>)\n",
      "        1    0.000    0.000    0.000    0.000 {method 'disable' of '_lsprof.Profiler' objects}\n",
      "\n",
      "\n"
     ]
    }
   ],
   "source": [
    "cProfile.run('zc[ix_dense_int_sorted]', sort='time')"
   ]
  },
  {
   "cell_type": "code",
   "execution_count": 41,
   "metadata": {},
   "outputs": [
    {
     "name": "stdout",
     "output_type": "stream",
     "text": [
      "         139355 function calls in 16.778 seconds\n",
      "\n",
      "   Ordered by: internal time\n",
      "\n",
      "   ncalls  tottime  percall  cumtime  percall filename:lineno(function)\n",
      "        1   13.664   13.664   13.664   13.664 {method 'argsort' of 'numpy.ndarray' objects}\n",
      "        1    0.787    0.787   15.497   15.497 new_indexing.py:393(__init__)\n",
      "        1    0.776    0.776    0.776    0.776 {method 'take' of 'numpy.ndarray' objects}\n",
      "     2048    0.741    0.000    1.006    0.000 core.py:769(_chunk_getitem)\n",
      "     2048    0.220    0.000    0.235    0.000 core.py:931(_decode_chunk)\n",
      "     2049    0.140    0.000    0.141    0.000 new_indexing.py:440(__iter__)\n",
      "        1    0.130    0.130    0.130    0.130 function_base.py:1848(diff)\n",
      "        1    0.121    0.121    0.121    0.121 {built-in method numpy.core.multiarray.bincount}\n",
      "        1    0.040    0.040   16.760   16.760 core.py:392(__getitem__)\n",
      "        4    0.019    0.005    0.019    0.005 {method 'reduce' of 'numpy.ufunc' objects}\n",
      "        1    0.018    0.018   16.778   16.778 <string>:1(<module>)\n",
      "        1    0.018    0.018   16.720   16.720 core.py:527(get_orthogonal_selection)\n",
      "     2049    0.013    0.000    0.193    0.000 new_indexing.py:547(__iter__)\n",
      "     4096    0.012    0.000    0.024    0.000 index_tricks.py:26(ix_)\n",
      "     6144    0.010    0.000    0.010    0.000 {method 'reshape' of 'numpy.ndarray' objects}\n",
      "     4096    0.008    0.000    0.008    0.000 core.py:324(<genexpr>)\n",
      "        1    0.005    0.005    1.205    1.205 core.py:549(_get_selection)\n",
      "     2048    0.005    0.000    0.005    0.000 {built-in method numpy.core.multiarray.frombuffer}\n",
      "     2048    0.004    0.000    0.009    0.000 arrayprint.py:381(wrapper)\n",
      "     4096    0.004    0.000    0.032    0.000 new_indexing.py:466(ix_)\n",
      "     2048    0.004    0.000    0.015    0.000 {method 'join' of 'str' objects}\n",
      "    16391    0.004    0.000    0.004    0.000 {built-in method builtins.isinstance}\n",
      "     2048    0.003    0.000    0.012    0.000 core.py:319(_cdata_shape)\n",
      "     4096    0.003    0.000    0.006    0.000 numerictypes.py:728(issubdtype)\n",
      "     2048    0.003    0.000    0.004    0.000 arrayprint.py:399(array2string)\n",
      "     4096    0.002    0.000    0.004    0.000 new_indexing.py:471(<listcomp>)\n",
      "     2048    0.002    0.000    0.017    0.000 core.py:928(_chunk_key)\n",
      "     2048    0.002    0.000    0.011    0.000 numeric.py:1905(array_str)\n",
      "     4102    0.002    0.000    0.002    0.000 {built-in method numpy.core.multiarray.array}\n",
      "     4096    0.002    0.000    0.002    0.000 {built-in method __new__ of type object at 0x5616c71ce480}\n",
      "     4096    0.001    0.000    0.001    0.000 new_indexing.py:550(<genexpr>)\n",
      "     8192    0.001    0.000    0.001    0.000 {built-in method builtins.issubclass}\n",
      "     4096    0.001    0.000    0.003    0.000 numeric.py:463(asarray)\n",
      "     8201    0.001    0.000    0.001    0.000 {built-in method builtins.len}\n",
      "     4096    0.001    0.000    0.002    0.000 numerictypes.py:660(issubclass_)\n",
      "     2048    0.001    0.000    0.002    0.000 new_indexing.py:562(<listcomp>)\n",
      "     2048    0.001    0.000    0.001    0.000 threading.py:1230(current_thread)\n",
      "     4096    0.001    0.000    0.001    0.000 {built-in method _thread.get_ident}\n",
      "     2048    0.001    0.000    0.002    0.000 <string>:12(__new__)\n",
      "     4096    0.001    0.000    0.001    0.000 new_indexing.py:552(<genexpr>)\n",
      "     4096    0.001    0.000    0.001    0.000 new_indexing.py:551(<genexpr>)\n",
      "     2048    0.001    0.000    0.001    0.000 core.py:205(chunk_store)\n",
      "     4097    0.001    0.000    0.001    0.000 {method 'append' of 'list' objects}\n",
      "     2049    0.001    0.000    0.001    0.000 {built-in method builtins.any}\n",
      "     2048    0.000    0.000    0.000    0.000 {method 'item' of 'numpy.ndarray' objects}\n",
      "     2048    0.000    0.000    0.000    0.000 {method 'add' of 'set' objects}\n",
      "     2048    0.000    0.000    0.000    0.000 threading.py:1304(main_thread)\n",
      "     2048    0.000    0.000    0.000    0.000 {method 'discard' of 'set' objects}\n",
      "        1    0.000    0.000   15.498   15.498 new_indexing.py:483(__init__)\n",
      "     2048    0.000    0.000    0.000    0.000 {built-in method builtins.id}\n",
      "        4    0.000    0.000    0.019    0.005 fromnumeric.py:1886(any)\n",
      "        4    0.000    0.000   14.441    3.610 fromnumeric.py:55(_wrapfunc)\n",
      "        1    0.000    0.000   16.778   16.778 {built-in method builtins.exec}\n",
      "        4    0.000    0.000    0.019    0.005 {method 'any' of 'numpy.ndarray' objects}\n",
      "        1    0.000    0.000    0.000    0.000 {method 'cumsum' of 'numpy.ndarray' objects}\n",
      "        1    0.000    0.000    0.000    0.000 {built-in method numpy.core.multiarray.empty}\n",
      "        1    0.000    0.000    0.000    0.000 {method 'nonzero' of 'numpy.ndarray' objects}\n",
      "        4    0.000    0.000    0.019    0.005 _methods.py:37(_any)\n",
      "        6    0.000    0.000    0.000    0.000 numeric.py:534(asanyarray)\n",
      "        1    0.000    0.000    0.776    0.776 fromnumeric.py:70(take)\n",
      "        4    0.000    0.000    0.000    0.000 {built-in method builtins.getattr}\n",
      "        1    0.000    0.000   13.664   13.664 fromnumeric.py:826(argsort)\n",
      "        1    0.000    0.000    0.000    0.000 fromnumeric.py:2053(cumsum)\n",
      "        1    0.000    0.000    0.000    0.000 new_indexing.py:147(replace_ellipsis)\n",
      "        2    0.000    0.000    0.000    0.000 new_indexing.py:537(<genexpr>)\n",
      "        1    0.000    0.000    0.000    0.000 new_indexing.py:539(<listcomp>)\n",
      "        1    0.000    0.000    0.000    0.000 new_indexing.py:600(replace_lists)\n",
      "        2    0.000    0.000    0.000    0.000 _weakrefset.py:70(__contains__)\n",
      "        2    0.000    0.000    0.000    0.000 {built-in method builtins.hasattr}\n",
      "        1    0.000    0.000    0.000    0.000 new_indexing.py:180(ensure_tuple)\n",
      "        1    0.000    0.000    0.000    0.000 abc.py:178(__instancecheck__)\n",
      "        1    0.000    0.000    0.000    0.000 {built-in method builtins.sum}\n",
      "        1    0.000    0.000    0.000    0.000 new_indexing.py:150(<genexpr>)\n",
      "        1    0.000    0.000    0.000    0.000 new_indexing.py:542(<listcomp>)\n",
      "        2    0.000    0.000    0.000    0.000 new_indexing.py:602(<genexpr>)\n",
      "        1    0.000    0.000    0.000    0.000 fromnumeric.py:1487(nonzero)\n",
      "        1    0.000    0.000    0.000    0.000 {method 'disable' of '_lsprof.Profiler' objects}\n",
      "\n",
      "\n"
     ]
    }
   ],
   "source": [
    "cProfile.run('zc[ix_dense_int]', sort='time')"
   ]
  },
  {
   "cell_type": "markdown",
   "metadata": {},
   "source": [
    "### bool sparse selection"
   ]
  },
  {
   "cell_type": "code",
   "execution_count": 42,
   "metadata": {},
   "outputs": [
    {
     "data": {
      "text/plain": [
       "9958"
      ]
     },
     "execution_count": 42,
     "metadata": {},
     "output_type": "execute_result"
    }
   ],
   "source": [
    "# relatively sparse selection\n",
    "ix_sparse_bool = np.random.binomial(1, 0.0001, size=c.shape[0]).astype(bool)\n",
    "np.count_nonzero(ix_sparse_bool)"
   ]
  },
  {
   "cell_type": "code",
   "execution_count": 43,
   "metadata": {},
   "outputs": [
    {
     "name": "stdout",
     "output_type": "stream",
     "text": [
      "CPU times: user 24 ms, sys: 0 ns, total: 24 ms\n",
      "Wall time: 21.6 ms\n"
     ]
    },
    {
     "data": {
      "text/plain": [
       "array([    1063,    28396,    37229, ..., 99955875, 99979354, 99995791])"
      ]
     },
     "execution_count": 43,
     "metadata": {},
     "output_type": "execute_result"
    }
   ],
   "source": [
    "%time c[ix_sparse_bool]"
   ]
  },
  {
   "cell_type": "code",
   "execution_count": 44,
   "metadata": {},
   "outputs": [
    {
     "name": "stdout",
     "output_type": "stream",
     "text": [
      "CPU times: user 508 ms, sys: 72 ms, total: 580 ms\n",
      "Wall time: 288 ms\n"
     ]
    },
    {
     "data": {
      "text/plain": [
       "array([    1063,    28396,    37229, ..., 99955875, 99979354, 99995791])"
      ]
     },
     "execution_count": 44,
     "metadata": {},
     "output_type": "execute_result"
    }
   ],
   "source": [
    "%time zc[ix_sparse_bool]"
   ]
  },
  {
   "cell_type": "code",
   "execution_count": 45,
   "metadata": {},
   "outputs": [
    {
     "name": "stdout",
     "output_type": "stream",
     "text": [
      "         116461 function calls in 0.300 seconds\n",
      "\n",
      "   Ordered by: internal time\n",
      "\n",
      "   ncalls  tottime  percall  cumtime  percall filename:lineno(function)\n",
      "     2042    0.145    0.000    0.158    0.000 core.py:931(_decode_chunk)\n",
      "     2043    0.023    0.000    0.023    0.000 {method 'nonzero' of 'numpy.ndarray' objects}\n",
      "     2043    0.013    0.000    0.074    0.000 new_indexing.py:547(__iter__)\n",
      "     2042    0.013    0.000    0.206    0.000 core.py:769(_chunk_getitem)\n",
      "     2048    0.011    0.000    0.011    0.000 {built-in method numpy.core.multiarray.count_nonzero}\n",
      "     2042    0.011    0.000    0.042    0.000 index_tricks.py:26(ix_)\n",
      "     4084    0.010    0.000    0.010    0.000 core.py:324(<genexpr>)\n",
      "     4084    0.007    0.000    0.007    0.000 {method 'reshape' of 'numpy.ndarray' objects}\n",
      "        1    0.005    0.005    0.286    0.286 core.py:549(_get_selection)\n",
      "     2042    0.005    0.000    0.011    0.000 arrayprint.py:381(wrapper)\n",
      "     2043    0.005    0.000    0.006    0.000 new_indexing.py:281(__iter__)\n",
      "     2042    0.004    0.000    0.018    0.000 {method 'join' of 'str' objects}\n",
      "     2042    0.004    0.000    0.014    0.000 core.py:319(_cdata_shape)\n",
      "     2042    0.004    0.000    0.004    0.000 {built-in method numpy.core.multiarray.frombuffer}\n",
      "     2042    0.004    0.000    0.004    0.000 arrayprint.py:399(array2string)\n",
      "    12259    0.003    0.000    0.003    0.000 {built-in method builtins.isinstance}\n",
      "     2042    0.003    0.000    0.048    0.000 new_indexing.py:466(ix_)\n",
      "        1    0.002    0.002    0.014    0.014 new_indexing.py:255(__init__)\n",
      "     2042    0.002    0.000    0.020    0.000 core.py:928(_chunk_key)\n",
      "     2042    0.002    0.000    0.004    0.000 numerictypes.py:728(issubdtype)\n",
      "     2042    0.002    0.000    0.013    0.000 numeric.py:1905(array_str)\n",
      "     2042    0.002    0.000    0.003    0.000 new_indexing.py:471(<listcomp>)\n",
      "     4084    0.001    0.000    0.001    0.000 {built-in method __new__ of type object at 0x5616c71ce480}\n",
      "     2042    0.001    0.000    0.002    0.000 new_indexing.py:562(<listcomp>)\n",
      "     4084    0.001    0.000    0.001    0.000 new_indexing.py:550(<genexpr>)\n",
      "     2042    0.001    0.000    0.002    0.000 threading.py:1230(current_thread)\n",
      "     6135    0.001    0.000    0.001    0.000 {built-in method builtins.len}\n",
      "     4084    0.001    0.000    0.001    0.000 new_indexing.py:552(<genexpr>)\n",
      "     2042    0.001    0.000    0.002    0.000 <string>:12(__new__)\n",
      "     2042    0.001    0.000    0.001    0.000 {built-in method numpy.core.multiarray.array}\n",
      "     4084    0.001    0.000    0.001    0.000 {built-in method _thread.get_ident}\n",
      "     2042    0.001    0.000    0.002    0.000 numeric.py:463(asarray)\n",
      "     4084    0.001    0.000    0.001    0.000 {built-in method builtins.issubclass}\n",
      "     2042    0.001    0.000    0.001    0.000 numerictypes.py:660(issubclass_)\n",
      "     4084    0.001    0.000    0.001    0.000 new_indexing.py:551(<genexpr>)\n",
      "     2042    0.001    0.000    0.001    0.000 core.py:205(chunk_store)\n",
      "     2043    0.001    0.000    0.001    0.000 {built-in method builtins.any}\n",
      "     2048    0.001    0.000    0.012    0.000 numeric.py:380(count_nonzero)\n",
      "     2042    0.001    0.000    0.001    0.000 {method 'item' of 'numpy.ndarray' objects}\n",
      "     2042    0.000    0.000    0.000    0.000 threading.py:1304(main_thread)\n",
      "     2042    0.000    0.000    0.000    0.000 {method 'discard' of 'set' objects}\n",
      "     2042    0.000    0.000    0.000    0.000 {method 'add' of 'set' objects}\n",
      "     2043    0.000    0.000    0.000    0.000 {method 'append' of 'list' objects}\n",
      "     2042    0.000    0.000    0.000    0.000 {built-in method builtins.id}\n",
      "        1    0.000    0.000    0.014    0.014 new_indexing.py:483(__init__)\n",
      "        2    0.000    0.000    0.000    0.000 {built-in method numpy.core.multiarray.zeros}\n",
      "        1    0.000    0.000    0.300    0.300 {built-in method builtins.exec}\n",
      "        1    0.000    0.000    0.000    0.000 {method 'cumsum' of 'numpy.ndarray' objects}\n",
      "        2    0.000    0.000    0.000    0.000 fromnumeric.py:55(_wrapfunc)\n",
      "        1    0.000    0.000    0.300    0.300 core.py:392(__getitem__)\n",
      "        1    0.000    0.000    0.000    0.000 {built-in method numpy.core.multiarray.empty}\n",
      "        1    0.000    0.000    0.300    0.300 core.py:527(get_orthogonal_selection)\n",
      "        1    0.000    0.000    0.000    0.000 new_indexing.py:147(replace_ellipsis)\n",
      "        1    0.000    0.000    0.000    0.000 abc.py:178(__instancecheck__)\n",
      "        1    0.000    0.000    0.000    0.000 fromnumeric.py:2053(cumsum)\n",
      "        2    0.000    0.000    0.000    0.000 {built-in method builtins.getattr}\n",
      "        2    0.000    0.000    0.000    0.000 {built-in method builtins.hasattr}\n",
      "        1    0.000    0.000    0.000    0.000 new_indexing.py:180(ensure_tuple)\n",
      "        1    0.000    0.000    0.000    0.000 new_indexing.py:600(replace_lists)\n",
      "        1    0.000    0.000    0.300    0.300 <string>:1(<module>)\n",
      "        1    0.000    0.000    0.000    0.000 fromnumeric.py:1487(nonzero)\n",
      "        2    0.000    0.000    0.000    0.000 _weakrefset.py:70(__contains__)\n",
      "        1    0.000    0.000    0.000    0.000 new_indexing.py:150(<genexpr>)\n",
      "        2    0.000    0.000    0.000    0.000 new_indexing.py:537(<genexpr>)\n",
      "        1    0.000    0.000    0.000    0.000 new_indexing.py:539(<listcomp>)\n",
      "        1    0.000    0.000    0.000    0.000 new_indexing.py:542(<listcomp>)\n",
      "        2    0.000    0.000    0.000    0.000 new_indexing.py:602(<genexpr>)\n",
      "        1    0.000    0.000    0.000    0.000 {built-in method builtins.sum}\n",
      "        1    0.000    0.000    0.000    0.000 {method 'disable' of '_lsprof.Profiler' objects}\n",
      "\n",
      "\n"
     ]
    }
   ],
   "source": [
    "cProfile.run('zc[ix_sparse_bool]', sort='time')"
   ]
  },
  {
   "cell_type": "markdown",
   "metadata": {},
   "source": [
    "### int sparse selection"
   ]
  },
  {
   "cell_type": "code",
   "execution_count": 52,
   "metadata": {},
   "outputs": [
    {
     "data": {
      "text/plain": [
       "(10000,\n",
       " array([94979430, 11935675, 63597355, ..., 91349759, 40936288, 76612910]))"
      ]
     },
     "execution_count": 52,
     "metadata": {},
     "output_type": "execute_result"
    }
   ],
   "source": [
    "ix_sparse_int = np.random.choice(c.shape[0], size=c.shape[0]//10000, replace=True)\n",
    "ix_sparse_int_sorted = ix_sparse_int.copy()\n",
    "ix_sparse_int_sorted.sort()\n",
    "len(ix_sparse_int), ix_sparse_int"
   ]
  },
  {
   "cell_type": "code",
   "execution_count": 53,
   "metadata": {},
   "outputs": [
    {
     "name": "stdout",
     "output_type": "stream",
     "text": [
      "CPU times: user 0 ns, sys: 0 ns, total: 0 ns\n",
      "Wall time: 279 µs\n"
     ]
    },
    {
     "data": {
      "text/plain": [
       "array([   11962,    27590,    30701, ..., 99968761, 99977334, 99990442])"
      ]
     },
     "execution_count": 53,
     "metadata": {},
     "output_type": "execute_result"
    }
   ],
   "source": [
    "%time c[ix_sparse_int_sorted]"
   ]
  },
  {
   "cell_type": "code",
   "execution_count": 54,
   "metadata": {},
   "outputs": [
    {
     "name": "stdout",
     "output_type": "stream",
     "text": [
      "CPU times: user 0 ns, sys: 0 ns, total: 0 ns\n",
      "Wall time: 362 µs\n"
     ]
    },
    {
     "data": {
      "text/plain": [
       "array([94979430, 11935675, 63597355, ..., 91349759, 40936288, 76612910])"
      ]
     },
     "execution_count": 54,
     "metadata": {},
     "output_type": "execute_result"
    }
   ],
   "source": [
    "%time c[ix_sparse_int]"
   ]
  },
  {
   "cell_type": "code",
   "execution_count": 55,
   "metadata": {},
   "outputs": [
    {
     "name": "stdout",
     "output_type": "stream",
     "text": [
      "CPU times: user 472 ms, sys: 52 ms, total: 524 ms\n",
      "Wall time: 243 ms\n"
     ]
    },
    {
     "data": {
      "text/plain": [
       "array([   11962,    27590,    30701, ..., 99968761, 99977334, 99990442])"
      ]
     },
     "execution_count": 55,
     "metadata": {},
     "output_type": "execute_result"
    }
   ],
   "source": [
    "%time zc[ix_sparse_int_sorted]"
   ]
  },
  {
   "cell_type": "code",
   "execution_count": 56,
   "metadata": {},
   "outputs": [
    {
     "name": "stdout",
     "output_type": "stream",
     "text": [
      "CPU times: user 448 ms, sys: 104 ms, total: 552 ms\n",
      "Wall time: 255 ms\n"
     ]
    },
    {
     "data": {
      "text/plain": [
       "array([94979430, 11935675, 63597355, ..., 91349759, 40936288, 76612910])"
      ]
     },
     "execution_count": 56,
     "metadata": {},
     "output_type": "execute_result"
    }
   ],
   "source": [
    "%time zc[ix_sparse_int]"
   ]
  },
  {
   "cell_type": "code",
   "execution_count": 57,
   "metadata": {},
   "outputs": [
    {
     "name": "stdout",
     "output_type": "stream",
     "text": [
      "         138743 function calls in 0.280 seconds\n",
      "\n",
      "   Ordered by: internal time\n",
      "\n",
      "   ncalls  tottime  percall  cumtime  percall filename:lineno(function)\n",
      "     2039    0.156    0.000    0.167    0.000 core.py:931(_decode_chunk)\n",
      "     2040    0.013    0.000    0.064    0.000 new_indexing.py:547(__iter__)\n",
      "     4078    0.012    0.000    0.025    0.000 index_tricks.py:26(ix_)\n",
      "     2039    0.009    0.000    0.210    0.000 core.py:769(_chunk_getitem)\n",
      "     4078    0.009    0.000    0.009    0.000 core.py:324(<genexpr>)\n",
      "     2040    0.009    0.000    0.010    0.000 new_indexing.py:440(__iter__)\n",
      "     6117    0.008    0.000    0.008    0.000 {method 'reshape' of 'numpy.ndarray' objects}\n",
      "        1    0.005    0.005    0.279    0.279 core.py:549(_get_selection)\n",
      "     2039    0.005    0.000    0.010    0.000 arrayprint.py:381(wrapper)\n",
      "     4078    0.004    0.000    0.034    0.000 new_indexing.py:466(ix_)\n",
      "     2039    0.004    0.000    0.013    0.000 core.py:319(_cdata_shape)\n",
      "     2039    0.004    0.000    0.016    0.000 {method 'join' of 'str' objects}\n",
      "    16319    0.004    0.000    0.004    0.000 {built-in method builtins.isinstance}\n",
      "     2039    0.003    0.000    0.003    0.000 {built-in method numpy.core.multiarray.frombuffer}\n",
      "     2039    0.003    0.000    0.004    0.000 arrayprint.py:399(array2string)\n",
      "     4078    0.003    0.000    0.006    0.000 numerictypes.py:728(issubdtype)\n",
      "     4078    0.003    0.000    0.004    0.000 new_indexing.py:471(<listcomp>)\n",
      "     2039    0.002    0.000    0.018    0.000 core.py:928(_chunk_key)\n",
      "     2039    0.002    0.000    0.012    0.000 numeric.py:1905(array_str)\n",
      "     4078    0.002    0.000    0.002    0.000 {built-in method __new__ of type object at 0x5616c71ce480}\n",
      "     4084    0.002    0.000    0.002    0.000 {built-in method numpy.core.multiarray.array}\n",
      "     8156    0.001    0.000    0.001    0.000 {built-in method builtins.issubclass}\n",
      "     8165    0.001    0.000    0.001    0.000 {built-in method builtins.len}\n",
      "     4078    0.001    0.000    0.002    0.000 numerictypes.py:660(issubclass_)\n",
      "     4078    0.001    0.000    0.003    0.000 numeric.py:463(asarray)\n",
      "     2039    0.001    0.000    0.002    0.000 threading.py:1230(current_thread)\n",
      "     4078    0.001    0.000    0.001    0.000 new_indexing.py:550(<genexpr>)\n",
      "     2039    0.001    0.000    0.002    0.000 new_indexing.py:562(<listcomp>)\n",
      "     4078    0.001    0.000    0.001    0.000 new_indexing.py:552(<genexpr>)\n",
      "     2039    0.001    0.000    0.002    0.000 <string>:12(__new__)\n",
      "     4078    0.001    0.000    0.001    0.000 {built-in method _thread.get_ident}\n",
      "     4078    0.001    0.000    0.001    0.000 new_indexing.py:551(<genexpr>)\n",
      "        1    0.001    0.001    0.001    0.001 {method 'argsort' of 'numpy.ndarray' objects}\n",
      "     2039    0.001    0.000    0.001    0.000 core.py:205(chunk_store)\n",
      "     4079    0.001    0.000    0.001    0.000 {method 'append' of 'list' objects}\n",
      "     2040    0.001    0.000    0.001    0.000 {built-in method builtins.any}\n",
      "     2039    0.000    0.000    0.000    0.000 {method 'item' of 'numpy.ndarray' objects}\n",
      "     2039    0.000    0.000    0.000    0.000 {method 'add' of 'set' objects}\n",
      "     2039    0.000    0.000    0.000    0.000 threading.py:1304(main_thread)\n",
      "     2039    0.000    0.000    0.000    0.000 {method 'discard' of 'set' objects}\n",
      "     2039    0.000    0.000    0.000    0.000 {built-in method builtins.id}\n",
      "        1    0.000    0.000    0.001    0.001 new_indexing.py:393(__init__)\n",
      "        1    0.000    0.000    0.000    0.000 function_base.py:1848(diff)\n",
      "        1    0.000    0.000    0.280    0.280 core.py:392(__getitem__)\n",
      "        4    0.000    0.000    0.000    0.000 {method 'reduce' of 'numpy.ufunc' objects}\n",
      "        1    0.000    0.000    0.001    0.001 new_indexing.py:483(__init__)\n",
      "        1    0.000    0.000    0.000    0.000 {method 'take' of 'numpy.ndarray' objects}\n",
      "        1    0.000    0.000    0.000    0.000 {built-in method numpy.core.multiarray.bincount}\n",
      "        1    0.000    0.000    0.280    0.280 {built-in method builtins.exec}\n",
      "        4    0.000    0.000    0.001    0.000 fromnumeric.py:55(_wrapfunc)\n",
      "        1    0.000    0.000    0.000    0.000 {method 'cumsum' of 'numpy.ndarray' objects}\n",
      "        4    0.000    0.000    0.000    0.000 fromnumeric.py:1886(any)\n",
      "        1    0.000    0.000    0.000    0.000 {method 'nonzero' of 'numpy.ndarray' objects}\n",
      "        4    0.000    0.000    0.000    0.000 {method 'any' of 'numpy.ndarray' objects}\n",
      "        6    0.000    0.000    0.000    0.000 numeric.py:534(asanyarray)\n",
      "        1    0.000    0.000    0.280    0.280 core.py:527(get_orthogonal_selection)\n",
      "        1    0.000    0.000    0.000    0.000 {built-in method numpy.core.multiarray.empty}\n",
      "        4    0.000    0.000    0.000    0.000 _methods.py:37(_any)\n",
      "        2    0.000    0.000    0.000    0.000 {built-in method builtins.hasattr}\n",
      "        1    0.000    0.000    0.280    0.280 <string>:1(<module>)\n",
      "        1    0.000    0.000    0.000    0.000 new_indexing.py:147(replace_ellipsis)\n",
      "        1    0.000    0.000    0.000    0.000 new_indexing.py:600(replace_lists)\n",
      "        1    0.000    0.000    0.001    0.001 fromnumeric.py:826(argsort)\n",
      "        1    0.000    0.000    0.000    0.000 abc.py:178(__instancecheck__)\n",
      "        2    0.000    0.000    0.000    0.000 _weakrefset.py:70(__contains__)\n",
      "        1    0.000    0.000    0.000    0.000 {built-in method builtins.sum}\n",
      "        2    0.000    0.000    0.000    0.000 new_indexing.py:537(<genexpr>)\n",
      "        1    0.000    0.000    0.000    0.000 new_indexing.py:539(<listcomp>)\n",
      "        1    0.000    0.000    0.000    0.000 fromnumeric.py:70(take)\n",
      "        4    0.000    0.000    0.000    0.000 {built-in method builtins.getattr}\n",
      "        1    0.000    0.000    0.000    0.000 new_indexing.py:180(ensure_tuple)\n",
      "        1    0.000    0.000    0.000    0.000 new_indexing.py:542(<listcomp>)\n",
      "        2    0.000    0.000    0.000    0.000 new_indexing.py:602(<genexpr>)\n",
      "        1    0.000    0.000    0.000    0.000 fromnumeric.py:1487(nonzero)\n",
      "        1    0.000    0.000    0.000    0.000 fromnumeric.py:2053(cumsum)\n",
      "        1    0.000    0.000    0.000    0.000 new_indexing.py:150(<genexpr>)\n",
      "        1    0.000    0.000    0.000    0.000 {method 'disable' of '_lsprof.Profiler' objects}\n",
      "\n",
      "\n"
     ]
    }
   ],
   "source": [
    "cProfile.run('zc[ix_sparse_int]', sort='time')"
   ]
  },
  {
   "cell_type": "markdown",
   "metadata": {},
   "source": [
    "### sparse bool selection as zarr array"
   ]
  },
  {
   "cell_type": "code",
   "execution_count": 58,
   "metadata": {},
   "outputs": [
    {
     "data": {
      "text/html": [
       "<table class=\"zarr-info\"><tbody><tr><th style=\"text-align: left\">Type</th><td style=\"text-align: left\">zarr.core.Array</td></tr><tr><th style=\"text-align: left\">Data type</th><td style=\"text-align: left\">bool</td></tr><tr><th style=\"text-align: left\">Shape</th><td style=\"text-align: left\">(100000000,)</td></tr><tr><th style=\"text-align: left\">Chunk shape</th><td style=\"text-align: left\">(195313,)</td></tr><tr><th style=\"text-align: left\">Order</th><td style=\"text-align: left\">C</td></tr><tr><th style=\"text-align: left\">Read-only</th><td style=\"text-align: left\">False</td></tr><tr><th style=\"text-align: left\">Compressor</th><td style=\"text-align: left\">Blosc(cname='lz4', clevel=5, shuffle=SHUFFLE, blocksize=0)</td></tr><tr><th style=\"text-align: left\">Store type</th><td style=\"text-align: left\">builtins.dict</td></tr><tr><th style=\"text-align: left\">No. bytes</th><td style=\"text-align: left\">100000000 (95.4M)</td></tr><tr><th style=\"text-align: left\">No. bytes stored</th><td style=\"text-align: left\">511297 (499.3K)</td></tr><tr><th style=\"text-align: left\">Storage ratio</th><td style=\"text-align: left\">195.6</td></tr><tr><th style=\"text-align: left\">Chunks initialized</th><td style=\"text-align: left\">512/512</td></tr></tbody></table>"
      ],
      "text/plain": [
       "Type               : zarr.core.Array\n",
       "Data type          : bool\n",
       "Shape              : (100000000,)\n",
       "Chunk shape        : (195313,)\n",
       "Order              : C\n",
       "Read-only          : False\n",
       "Compressor         : Blosc(cname='lz4', clevel=5, shuffle=SHUFFLE, blocksize=0)\n",
       "Store type         : builtins.dict\n",
       "No. bytes          : 100000000 (95.4M)\n",
       "No. bytes stored   : 511297 (499.3K)\n",
       "Storage ratio      : 195.6\n",
       "Chunks initialized : 512/512"
      ]
     },
     "execution_count": 58,
     "metadata": {},
     "output_type": "execute_result"
    }
   ],
   "source": [
    "zix_sparse_bool = zarr.array(ix_sparse_bool)\n",
    "zix_sparse_bool.info"
   ]
  },
  {
   "cell_type": "code",
   "execution_count": 59,
   "metadata": {},
   "outputs": [
    {
     "name": "stdout",
     "output_type": "stream",
     "text": [
      "CPU times: user 1.01 s, sys: 228 ms, total: 1.24 s\n",
      "Wall time: 640 ms\n"
     ]
    },
    {
     "data": {
      "text/plain": [
       "array([    1063,    28396,    37229, ..., 99955875, 99979354, 99995791])"
      ]
     },
     "execution_count": 59,
     "metadata": {},
     "output_type": "execute_result"
    }
   ],
   "source": [
    "%time zc[zix_sparse_bool]"
   ]
  },
  {
   "cell_type": "markdown",
   "metadata": {},
   "source": [
    "### slice with step"
   ]
  },
  {
   "cell_type": "code",
   "execution_count": 60,
   "metadata": {},
   "outputs": [
    {
     "name": "stdout",
     "output_type": "stream",
     "text": [
      "CPU times: user 80 ms, sys: 24 ms, total: 104 ms\n",
      "Wall time: 101 ms\n"
     ]
    },
    {
     "data": {
      "text/plain": [
       "array([       0,        2,        4, ..., 99999994, 99999996, 99999998])"
      ]
     },
     "execution_count": 60,
     "metadata": {},
     "output_type": "execute_result"
    }
   ],
   "source": [
    "%time np.array(c[::2])"
   ]
  },
  {
   "cell_type": "code",
   "execution_count": 61,
   "metadata": {},
   "outputs": [
    {
     "name": "stdout",
     "output_type": "stream",
     "text": [
      "CPU times: user 1.45 s, sys: 664 ms, total: 2.12 s\n",
      "Wall time: 1.78 s\n"
     ]
    },
    {
     "data": {
      "text/plain": [
       "array([       0,        2,        4, ..., 99999994, 99999996, 99999998])"
      ]
     },
     "execution_count": 61,
     "metadata": {},
     "output_type": "execute_result"
    }
   ],
   "source": [
    "%time zc[::2]"
   ]
  },
  {
   "cell_type": "code",
   "execution_count": 62,
   "metadata": {},
   "outputs": [
    {
     "name": "stdout",
     "output_type": "stream",
     "text": [
      "CPU times: user 572 ms, sys: 224 ms, total: 796 ms\n",
      "Wall time: 513 ms\n"
     ]
    },
    {
     "data": {
      "text/plain": [
       "array([       0,       10,       20, ..., 99999970, 99999980, 99999990])"
      ]
     },
     "execution_count": 62,
     "metadata": {},
     "output_type": "execute_result"
    }
   ],
   "source": [
    "%time zc[::10]"
   ]
  },
  {
   "cell_type": "code",
   "execution_count": 63,
   "metadata": {},
   "outputs": [
    {
     "name": "stdout",
     "output_type": "stream",
     "text": [
      "CPU times: user 488 ms, sys: 88 ms, total: 576 ms\n",
      "Wall time: 273 ms\n"
     ]
    },
    {
     "data": {
      "text/plain": [
       "array([       0,      100,      200, ..., 99999700, 99999800, 99999900])"
      ]
     },
     "execution_count": 63,
     "metadata": {},
     "output_type": "execute_result"
    }
   ],
   "source": [
    "%time zc[::100]"
   ]
  },
  {
   "cell_type": "code",
   "execution_count": 64,
   "metadata": {},
   "outputs": [
    {
     "name": "stdout",
     "output_type": "stream",
     "text": [
      "CPU times: user 472 ms, sys: 64 ms, total: 536 ms\n",
      "Wall time: 225 ms\n"
     ]
    },
    {
     "data": {
      "text/plain": [
       "array([       0,     1000,     2000, ..., 99997000, 99998000, 99999000])"
      ]
     },
     "execution_count": 64,
     "metadata": {},
     "output_type": "execute_result"
    }
   ],
   "source": [
    "%time zc[::1000]"
   ]
  },
  {
   "cell_type": "markdown",
   "metadata": {},
   "source": [
    "## 2D Benchmarking"
   ]
  },
  {
   "cell_type": "code",
   "execution_count": 89,
   "metadata": {},
   "outputs": [
    {
     "data": {
      "text/plain": [
       "(100000000,)"
      ]
     },
     "execution_count": 89,
     "metadata": {},
     "output_type": "execute_result"
    }
   ],
   "source": [
    "c.shape"
   ]
  },
  {
   "cell_type": "code",
   "execution_count": 90,
   "metadata": {},
   "outputs": [
    {
     "data": {
      "text/plain": [
       "(100000, 1000)"
      ]
     },
     "execution_count": 90,
     "metadata": {},
     "output_type": "execute_result"
    }
   ],
   "source": [
    "d = c.reshape(-1, 1000)\n",
    "d.shape"
   ]
  },
  {
   "cell_type": "code",
   "execution_count": 91,
   "metadata": {},
   "outputs": [
    {
     "data": {
      "text/html": [
       "<table class=\"zarr-info\"><tbody><tr><th style=\"text-align: left\">Type</th><td style=\"text-align: left\">zarr.core.Array</td></tr><tr><th style=\"text-align: left\">Data type</th><td style=\"text-align: left\">int64</td></tr><tr><th style=\"text-align: left\">Shape</th><td style=\"text-align: left\">(100000, 1000)</td></tr><tr><th style=\"text-align: left\">Chunk shape</th><td style=\"text-align: left\">(1563, 32)</td></tr><tr><th style=\"text-align: left\">Order</th><td style=\"text-align: left\">C</td></tr><tr><th style=\"text-align: left\">Read-only</th><td style=\"text-align: left\">False</td></tr><tr><th style=\"text-align: left\">Compressor</th><td style=\"text-align: left\">Blosc(cname='lz4', clevel=5, shuffle=SHUFFLE, blocksize=0)</td></tr><tr><th style=\"text-align: left\">Store type</th><td style=\"text-align: left\">builtins.dict</td></tr><tr><th style=\"text-align: left\">No. bytes</th><td style=\"text-align: left\">800000000 (762.9M)</td></tr><tr><th style=\"text-align: left\">No. bytes stored</th><td style=\"text-align: left\">39862349 (38.0M)</td></tr><tr><th style=\"text-align: left\">Storage ratio</th><td style=\"text-align: left\">20.1</td></tr><tr><th style=\"text-align: left\">Chunks initialized</th><td style=\"text-align: left\">2048/2048</td></tr></tbody></table>"
      ],
      "text/plain": [
       "Type               : zarr.core.Array\n",
       "Data type          : int64\n",
       "Shape              : (100000, 1000)\n",
       "Chunk shape        : (1563, 32)\n",
       "Order              : C\n",
       "Read-only          : False\n",
       "Compressor         : Blosc(cname='lz4', clevel=5, shuffle=SHUFFLE, blocksize=0)\n",
       "Store type         : builtins.dict\n",
       "No. bytes          : 800000000 (762.9M)\n",
       "No. bytes stored   : 39862349 (38.0M)\n",
       "Storage ratio      : 20.1\n",
       "Chunks initialized : 2048/2048"
      ]
     },
     "execution_count": 91,
     "metadata": {},
     "output_type": "execute_result"
    }
   ],
   "source": [
    "zd = zarr.array(d)\n",
    "zd.info"
   ]
  },
  {
   "cell_type": "markdown",
   "metadata": {},
   "source": [
    "### bool orthogonal selection"
   ]
  },
  {
   "cell_type": "code",
   "execution_count": 92,
   "metadata": {},
   "outputs": [],
   "source": [
    "ix0 = np.random.binomial(1, 0.5, size=d.shape[0]).astype(bool)\n",
    "ix1 = np.random.binomial(1, 0.5, size=d.shape[1]).astype(bool)\n"
   ]
  },
  {
   "cell_type": "code",
   "execution_count": 93,
   "metadata": {},
   "outputs": [
    {
     "name": "stdout",
     "output_type": "stream",
     "text": [
      "CPU times: user 124 ms, sys: 40 ms, total: 164 ms\n",
      "Wall time: 164 ms\n"
     ]
    },
    {
     "data": {
      "text/plain": [
       "array([[       3,        5,        6, ...,      994,      995,      997],\n",
       "       [    2003,     2005,     2006, ...,     2994,     2995,     2997],\n",
       "       [    3003,     3005,     3006, ...,     3994,     3995,     3997],\n",
       "       ..., \n",
       "       [99995003, 99995005, 99995006, ..., 99995994, 99995995, 99995997],\n",
       "       [99997003, 99997005, 99997006, ..., 99997994, 99997995, 99997997],\n",
       "       [99999003, 99999005, 99999006, ..., 99999994, 99999995, 99999997]])"
      ]
     },
     "execution_count": 93,
     "metadata": {},
     "output_type": "execute_result"
    }
   ],
   "source": [
    "%time d[np.ix_(ix0, ix1)]"
   ]
  },
  {
   "cell_type": "code",
   "execution_count": 94,
   "metadata": {},
   "outputs": [
    {
     "name": "stdout",
     "output_type": "stream",
     "text": [
      "CPU times: user 832 ms, sys: 84 ms, total: 916 ms\n",
      "Wall time: 533 ms\n"
     ]
    },
    {
     "data": {
      "text/plain": [
       "array([[       3,        5,        6, ...,      994,      995,      997],\n",
       "       [    2003,     2005,     2006, ...,     2994,     2995,     2997],\n",
       "       [    3003,     3005,     3006, ...,     3994,     3995,     3997],\n",
       "       ..., \n",
       "       [99995003, 99995005, 99995006, ..., 99995994, 99995995, 99995997],\n",
       "       [99997003, 99997005, 99997006, ..., 99997994, 99997995, 99997997],\n",
       "       [99999003, 99999005, 99999006, ..., 99999994, 99999995, 99999997]])"
      ]
     },
     "execution_count": 94,
     "metadata": {},
     "output_type": "execute_result"
    }
   ],
   "source": [
    "%time zd.oindex[ix0, ix1]"
   ]
  },
  {
   "cell_type": "markdown",
   "metadata": {},
   "source": [
    "### int orthogonal selection"
   ]
  },
  {
   "cell_type": "code",
   "execution_count": 95,
   "metadata": {},
   "outputs": [],
   "source": [
    "ix0 = np.random.choice(d.shape[0], size=int(d.shape[0] * .5), replace=True)\n",
    "ix1 = np.random.choice(d.shape[1], size=int(d.shape[1] * .5), replace=True)"
   ]
  },
  {
   "cell_type": "code",
   "execution_count": 96,
   "metadata": {},
   "outputs": [
    {
     "name": "stdout",
     "output_type": "stream",
     "text": [
      "CPU times: user 224 ms, sys: 56 ms, total: 280 ms\n",
      "Wall time: 277 ms\n"
     ]
    },
    {
     "data": {
      "text/plain": [
       "array([[16704459, 16704351, 16704547, ..., 16704405, 16704425, 16704805],\n",
       "       [10766459, 10766351, 10766547, ..., 10766405, 10766425, 10766805],\n",
       "       [64625459, 64625351, 64625547, ..., 64625405, 64625425, 64625805],\n",
       "       ..., \n",
       "       [12875459, 12875351, 12875547, ..., 12875405, 12875425, 12875805],\n",
       "       [58689459, 58689351, 58689547, ..., 58689405, 58689425, 58689805],\n",
       "       [18138459, 18138351, 18138547, ..., 18138405, 18138425, 18138805]])"
      ]
     },
     "execution_count": 96,
     "metadata": {},
     "output_type": "execute_result"
    }
   ],
   "source": [
    "%time d[np.ix_(ix0, ix1)]"
   ]
  },
  {
   "cell_type": "code",
   "execution_count": 97,
   "metadata": {},
   "outputs": [
    {
     "name": "stdout",
     "output_type": "stream",
     "text": [
      "CPU times: user 1.06 s, sys: 120 ms, total: 1.18 s\n",
      "Wall time: 675 ms\n"
     ]
    },
    {
     "data": {
      "text/plain": [
       "array([[16704459, 16704351, 16704547, ..., 16704405, 16704425, 16704805],\n",
       "       [10766459, 10766351, 10766547, ..., 10766405, 10766425, 10766805],\n",
       "       [64625459, 64625351, 64625547, ..., 64625405, 64625425, 64625805],\n",
       "       ..., \n",
       "       [12875459, 12875351, 12875547, ..., 12875405, 12875425, 12875805],\n",
       "       [58689459, 58689351, 58689547, ..., 58689405, 58689425, 58689805],\n",
       "       [18138459, 18138351, 18138547, ..., 18138405, 18138425, 18138805]])"
      ]
     },
     "execution_count": 97,
     "metadata": {},
     "output_type": "execute_result"
    }
   ],
   "source": [
    "%time zd.oindex[ix0, ix1]"
   ]
  },
  {
   "cell_type": "markdown",
   "metadata": {},
   "source": [
    "### coordinate (point) selection"
   ]
  },
  {
   "cell_type": "code",
   "execution_count": 120,
   "metadata": {},
   "outputs": [
    {
     "data": {
      "text/plain": [
       "500000"
      ]
     },
     "execution_count": 120,
     "metadata": {},
     "output_type": "execute_result"
    }
   ],
   "source": [
    "n = int(d.size * .005)\n",
    "ix0 = np.random.choice(d.shape[0], size=n, replace=True)\n",
    "ix1 = np.random.choice(d.shape[1], size=n, replace=True)\n",
    "n"
   ]
  },
  {
   "cell_type": "code",
   "execution_count": 121,
   "metadata": {},
   "outputs": [
    {
     "name": "stdout",
     "output_type": "stream",
     "text": [
      "CPU times: user 228 ms, sys: 0 ns, total: 228 ms\n",
      "Wall time: 228 ms\n"
     ]
    },
    {
     "data": {
      "text/plain": [
       "array([235092, 460446, 351446, ...,  66295,  90139, 174162])"
      ]
     },
     "execution_count": 121,
     "metadata": {},
     "output_type": "execute_result"
    }
   ],
   "source": [
    "%time np.lexsort((ix0, ix1))"
   ]
  },
  {
   "cell_type": "code",
   "execution_count": 122,
   "metadata": {},
   "outputs": [
    {
     "name": "stdout",
     "output_type": "stream",
     "text": [
      "CPU times: user 48 ms, sys: 0 ns, total: 48 ms\n",
      "Wall time: 46.8 ms\n"
     ]
    },
    {
     "data": {
      "text/plain": [
       "array([     0,      1,      2, ..., 499997, 499998, 499999])"
      ]
     },
     "execution_count": 122,
     "metadata": {},
     "output_type": "execute_result"
    }
   ],
   "source": [
    "ix0_sorted = np.sort(ix0)\n",
    "ix1_sorted = np.sort(ix1)\n",
    "%time np.lexsort((ix0_sorted, ix1_sorted))"
   ]
  },
  {
   "cell_type": "code",
   "execution_count": 113,
   "metadata": {},
   "outputs": [
    {
     "name": "stdout",
     "output_type": "stream",
     "text": [
      "CPU times: user 0 ns, sys: 0 ns, total: 0 ns\n",
      "Wall time: 1.29 ms\n"
     ]
    },
    {
     "data": {
      "text/plain": [
       "array([15735056, 50367996, 82690284, ..., 79292255, 83283781, 38856303])"
      ]
     },
     "execution_count": 113,
     "metadata": {},
     "output_type": "execute_result"
    }
   ],
   "source": [
    "%time d[ix0, ix1]"
   ]
  },
  {
   "cell_type": "code",
   "execution_count": 114,
   "metadata": {},
   "outputs": [
    {
     "name": "stdout",
     "output_type": "stream",
     "text": [
      "CPU times: user 13.5 s, sys: 1.7 s, total: 15.2 s\n",
      "Wall time: 6.33 s\n"
     ]
    },
    {
     "data": {
      "text/plain": [
       "array([15735056, 50367996, 82690284, ..., 79292255, 83283781, 38856303])"
      ]
     },
     "execution_count": 114,
     "metadata": {},
     "output_type": "execute_result"
    }
   ],
   "source": [
    "%time zd.vindex[ix0, ix1]"
   ]
  },
  {
   "cell_type": "code",
   "execution_count": 116,
   "metadata": {},
   "outputs": [
    {
     "data": {
      "text/plain": [
       "2048"
      ]
     },
     "execution_count": 116,
     "metadata": {},
     "output_type": "execute_result"
    }
   ],
   "source": [
    "zd.nchunks"
   ]
  },
  {
   "cell_type": "code",
   "execution_count": 115,
   "metadata": {},
   "outputs": [
    {
     "name": "stdout",
     "output_type": "stream",
     "text": [
      "         2698965 function calls in 5.459 seconds\n",
      "\n",
      "   Ordered by: internal time\n",
      "\n",
      "   ncalls  tottime  percall  cumtime  percall filename:lineno(function)\n",
      "    49978    2.866    0.000    3.116    0.000 core.py:931(_decode_chunk)\n",
      "    49978    0.411    0.000    4.602    0.000 core.py:769(_chunk_getitem)\n",
      "    49979    0.316    0.000    0.752    0.000 new_indexing.py:660(__iter__)\n",
      "   149934    0.296    0.000    0.296    0.000 new_indexing.py:677(<genexpr>)\n",
      "   149940    0.202    0.000    0.202    0.000 core.py:324(<genexpr>)\n",
      "    99956    0.162    0.000    0.343    0.000 arrayprint.py:381(wrapper)\n",
      "    49978    0.129    0.000    0.533    0.000 {method 'join' of 'str' objects}\n",
      "    49978    0.115    0.000    0.115    0.000 {method 'reshape' of 'numpy.ndarray' objects}\n",
      "    99956    0.105    0.000    0.123    0.000 arrayprint.py:399(array2string)\n",
      "        1    0.099    0.099    5.454    5.454 core.py:549(_get_selection)\n",
      "    49978    0.097    0.000    0.169    0.000 util.py:113(is_total_slice)\n",
      "    49980    0.077    0.000    0.279    0.000 core.py:319(_cdata_shape)\n",
      "    49978    0.072    0.000    0.072    0.000 {built-in method numpy.core.multiarray.frombuffer}\n",
      "    99956    0.061    0.000    0.404    0.000 numeric.py:1905(array_str)\n",
      "   299881    0.060    0.000    0.060    0.000 {built-in method builtins.isinstance}\n",
      "   149934    0.053    0.000    0.053    0.000 new_indexing.py:672(<genexpr>)\n",
      "    49978    0.046    0.000    0.579    0.000 core.py:928(_chunk_key)\n",
      "   149934    0.041    0.000    0.041    0.000 new_indexing.py:665(<genexpr>)\n",
      "    99956    0.034    0.000    0.042    0.000 util.py:128(<genexpr>)\n",
      "    49978    0.028    0.000    0.037    0.000 threading.py:1230(current_thread)\n",
      "   149934    0.025    0.000    0.025    0.000 {built-in method _thread.get_ident}\n",
      "    49978    0.023    0.000    0.045    0.000 <string>:12(__new__)\n",
      "    49978    0.022    0.000    0.022    0.000 {built-in method __new__ of type object at 0x5616c71ce480}\n",
      "    99956    0.018    0.000    0.018    0.000 {method 'item' of 'numpy.ndarray' objects}\n",
      "    99965    0.016    0.000    0.016    0.000 {built-in method builtins.len}\n",
      "    99956    0.014    0.000    0.014    0.000 {method 'add' of 'set' objects}\n",
      "    49981    0.014    0.000    0.042    0.000 {built-in method builtins.all}\n",
      "    99956    0.014    0.000    0.014    0.000 {method 'discard' of 'set' objects}\n",
      "    49978    0.014    0.000    0.014    0.000 core.py:205(chunk_store)\n",
      "    99956    0.013    0.000    0.013    0.000 {built-in method builtins.id}\n",
      "    49978    0.009    0.000    0.009    0.000 threading.py:1304(main_thread)\n",
      "        1    0.003    0.003    0.003    0.003 {built-in method numpy.core.multiarray.unravel_index}\n",
      "        3    0.001    0.000    0.001    0.000 new_indexing.py:649(<genexpr>)\n",
      "        1    0.001    0.001    0.005    0.005 new_indexing.py:610(__init__)\n",
      "        1    0.000    0.000    0.000    0.000 {built-in method numpy.core.multiarray.ravel_multi_index}\n",
      "        1    0.000    0.000    0.000    0.000 new_indexing.py:307(find_runs)\n",
      "        6    0.000    0.000    0.000    0.000 {method 'reduce' of 'numpy.ufunc' objects}\n",
      "        1    0.000    0.000    0.000    0.000 {method 'nonzero' of 'numpy.ndarray' objects}\n",
      "        1    0.000    0.000    0.000    0.000 function_base.py:1848(diff)\n",
      "        1    0.000    0.000    5.459    5.459 {built-in method builtins.exec}\n",
      "        1    0.000    0.000    0.000    0.000 {built-in method numpy.core.multiarray.concatenate}\n",
      "        6    0.000    0.000    0.000    0.000 fromnumeric.py:1886(any)\n",
      "        2    0.000    0.000    0.000    0.000 {built-in method numpy.core.multiarray.empty}\n",
      "       12    0.000    0.000    0.000    0.000 {built-in method numpy.core.multiarray.array}\n",
      "        1    0.000    0.000    5.459    5.459 core.py:538(get_coordinate_selection)\n",
      "        1    0.000    0.000    5.459    5.459 <string>:1(<module>)\n",
      "        6    0.000    0.000    0.000    0.000 abc.py:178(__instancecheck__)\n",
      "        1    0.000    0.000    5.459    5.459 new_indexing.py:689(__getitem__)\n",
      "       10    0.000    0.000    0.000    0.000 numeric.py:534(asanyarray)\n",
      "        1    0.000    0.000    0.000    0.000 stride_tricks.py:176(_broadcast_shape)\n",
      "        2    0.000    0.000    0.000    0.000 new_indexing.py:584(<listcomp>)\n",
      "        6    0.000    0.000    0.000    0.000 {method 'any' of 'numpy.ndarray' objects}\n",
      "        1    0.000    0.000    0.000    0.000 stride_tricks.py:195(broadcast_arrays)\n",
      "        2    0.000    0.000    0.000    0.000 new_indexing.py:600(replace_lists)\n",
      "        1    0.000    0.000    0.000    0.000 function_base.py:5100(append)\n",
      "        6    0.000    0.000    0.000    0.000 _methods.py:37(_any)\n",
      "        2    0.000    0.000    0.000    0.000 new_indexing.py:180(ensure_tuple)\n",
      "        2    0.000    0.000    0.000    0.000 new_indexing.py:580(is_coordinate_selection)\n",
      "        1    0.000    0.000    0.000    0.000 fromnumeric.py:55(_wrapfunc)\n",
      "        1    0.000    0.000    0.000    0.000 core.py:364(vindex)\n",
      "        1    0.000    0.000    0.000    0.000 stride_tricks.py:247(<listcomp>)\n",
      "        1    0.000    0.000    0.000    0.000 fromnumeric.py:1380(ravel)\n",
      "        6    0.000    0.000    0.000    0.000 new_indexing.py:602(<genexpr>)\n",
      "        3    0.000    0.000    0.000    0.000 new_indexing.py:614(<genexpr>)\n",
      "        1    0.000    0.000    0.000    0.000 {method 'ravel' of 'numpy.ndarray' objects}\n",
      "        1    0.000    0.000    0.000    0.000 fromnumeric.py:1487(nonzero)\n",
      "        1    0.000    0.000    0.000    0.000 core.py:213(shape)\n",
      "       12    0.000    0.000    0.000    0.000 _weakrefset.py:70(__contains__)\n",
      "        1    0.000    0.000    0.000    0.000 {method 'pop' of 'dict' objects}\n",
      "        1    0.000    0.000    0.000    0.000 {built-in method builtins.getattr}\n",
      "        4    0.000    0.000    0.000    0.000 {built-in method builtins.hasattr}\n",
      "        3    0.000    0.000    0.000    0.000 stride_tricks.py:251(<genexpr>)\n",
      "        1    0.000    0.000    0.000    0.000 {method 'disable' of '_lsprof.Profiler' objects}\n",
      "        1    0.000    0.000    0.000    0.000 core.py:153(_refresh_metadata)\n",
      "\n",
      "\n"
     ]
    }
   ],
   "source": [
    "cProfile.run('zd.vindex[ix0, ix1]', sort='time')"
   ]
  },
  {
   "cell_type": "markdown",
   "metadata": {},
   "source": [
    "## h5py comparison\n",
    "\n",
    "N.B., not really fair because using slower compressor, but for interest..."
   ]
  },
  {
   "cell_type": "code",
   "execution_count": 65,
   "metadata": {},
   "outputs": [],
   "source": [
    "import h5py\n",
    "import tempfile"
   ]
  },
  {
   "cell_type": "code",
   "execution_count": 78,
   "metadata": {},
   "outputs": [],
   "source": [
    "h5f = h5py.File(tempfile.mktemp(), driver='core', backing_store=False)"
   ]
  },
  {
   "cell_type": "code",
   "execution_count": 79,
   "metadata": {},
   "outputs": [
    {
     "data": {
      "text/plain": [
       "<HDF5 dataset \"c\": shape (100000000,), type \"<i8\">"
      ]
     },
     "execution_count": 79,
     "metadata": {},
     "output_type": "execute_result"
    }
   ],
   "source": [
    "hc = h5f.create_dataset('c', data=c, compression='gzip', compression_opts=1, chunks=zc.chunks, shuffle=True)\n",
    "hc"
   ]
  },
  {
   "cell_type": "code",
   "execution_count": 80,
   "metadata": {},
   "outputs": [
    {
     "name": "stdout",
     "output_type": "stream",
     "text": [
      "CPU times: user 1.16 s, sys: 172 ms, total: 1.33 s\n",
      "Wall time: 1.32 s\n"
     ]
    },
    {
     "data": {
      "text/plain": [
       "array([       0,        1,        2, ..., 99999997, 99999998, 99999999])"
      ]
     },
     "execution_count": 80,
     "metadata": {},
     "output_type": "execute_result"
    }
   ],
   "source": [
    "%time hc[:]"
   ]
  },
  {
   "cell_type": "code",
   "execution_count": 81,
   "metadata": {},
   "outputs": [
    {
     "name": "stdout",
     "output_type": "stream",
     "text": [
      "CPU times: user 1.11 s, sys: 0 ns, total: 1.11 s\n",
      "Wall time: 1.11 s\n"
     ]
    },
    {
     "data": {
      "text/plain": [
       "array([    1063,    28396,    37229, ..., 99955875, 99979354, 99995791])"
      ]
     },
     "execution_count": 81,
     "metadata": {},
     "output_type": "execute_result"
    }
   ],
   "source": [
    "%time hc[ix_sparse_bool]"
   ]
  },
  {
   "cell_type": "code",
   "execution_count": 82,
   "metadata": {},
   "outputs": [],
   "source": [
    "# # this is pathological, takes > 1 minute \n",
    "# %time hc[ix_dense_bool]"
   ]
  },
  {
   "cell_type": "code",
   "execution_count": 83,
   "metadata": {},
   "outputs": [
    {
     "name": "stdout",
     "output_type": "stream",
     "text": [
      "CPU times: user 38.3 s, sys: 136 ms, total: 38.4 s\n",
      "Wall time: 38.1 s\n"
     ]
    },
    {
     "data": {
      "text/plain": [
       "array([       0,     1000,     2000, ..., 99997000, 99998000, 99999000])"
      ]
     },
     "execution_count": 83,
     "metadata": {},
     "output_type": "execute_result"
    }
   ],
   "source": [
    "# this is pretty slow\n",
    "%time hc[::1000]"
   ]
  },
  {
   "cell_type": "code",
   "execution_count": null,
   "metadata": {},
   "outputs": [],
   "source": []
  }
 ],
 "metadata": {
  "kernelspec": {
   "display_name": "Python 3",
   "language": "python",
   "name": "python3"
  },
  "language_info": {
   "codemirror_mode": {
    "name": "ipython",
    "version": 3
   },
   "file_extension": ".py",
   "mimetype": "text/x-python",
   "name": "python",
   "nbconvert_exporter": "python",
   "pygments_lexer": "ipython3",
   "version": "3.6.1"
  }
 },
 "nbformat": 4,
 "nbformat_minor": 2
}
