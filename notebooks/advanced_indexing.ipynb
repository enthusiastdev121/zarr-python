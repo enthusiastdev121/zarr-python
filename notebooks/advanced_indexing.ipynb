{
 "cells": [
  {
   "cell_type": "code",
   "execution_count": 1,
   "metadata": {},
   "outputs": [],
   "source": [
    "import sys\n",
    "sys.path.insert(0, '..')\n",
    "import zarr\n",
    "import numpy as np\n",
    "np.random.seed(42)\n",
    "import cProfile"
   ]
  },
  {
   "cell_type": "markdown",
   "metadata": {},
   "source": [
    "## Demonstrate advanced indexing"
   ]
  },
  {
   "cell_type": "markdown",
   "metadata": {},
   "source": [
    "### Indexing with Boolean arrays"
   ]
  },
  {
   "cell_type": "code",
   "execution_count": 2,
   "metadata": {},
   "outputs": [],
   "source": [
    "a = np.arange(10)"
   ]
  },
  {
   "cell_type": "code",
   "execution_count": 3,
   "metadata": {},
   "outputs": [
    {
     "data": {
      "text/plain": [
       "array([False,  True,  True,  True, False, False, False,  True,  True,  True], dtype=bool)"
      ]
     },
     "execution_count": 3,
     "metadata": {},
     "output_type": "execute_result"
    }
   ],
   "source": [
    "ix = np.random.binomial(1, 0.5, size=a.shape[0]).astype(bool)\n",
    "ix"
   ]
  },
  {
   "cell_type": "code",
   "execution_count": 4,
   "metadata": {},
   "outputs": [
    {
     "data": {
      "text/plain": [
       "array([1, 2, 3, 7, 8, 9])"
      ]
     },
     "execution_count": 4,
     "metadata": {},
     "output_type": "execute_result"
    }
   ],
   "source": [
    "a[ix]"
   ]
  },
  {
   "cell_type": "code",
   "execution_count": 5,
   "metadata": {},
   "outputs": [
    {
     "data": {
      "text/plain": [
       "array([1, 2, 3, 7, 8, 9])"
      ]
     },
     "execution_count": 5,
     "metadata": {},
     "output_type": "execute_result"
    }
   ],
   "source": [
    "za = zarr.array(a, chunks=2)\n",
    "za[ix]"
   ]
  },
  {
   "cell_type": "code",
   "execution_count": 6,
   "metadata": {},
   "outputs": [
    {
     "data": {
      "text/plain": [
       "array([ 0, 10, 20, 30,  4,  5,  6, 70, 80, 90])"
      ]
     },
     "execution_count": 6,
     "metadata": {},
     "output_type": "execute_result"
    }
   ],
   "source": [
    "za[ix] = a[ix] * 10\n",
    "za[:]"
   ]
  },
  {
   "cell_type": "markdown",
   "metadata": {},
   "source": [
    "### Indexing with integer arrays"
   ]
  },
  {
   "cell_type": "code",
   "execution_count": 7,
   "metadata": {},
   "outputs": [
    {
     "data": {
      "text/plain": [
       "array([1, 4, 5, 5, 7])"
      ]
     },
     "execution_count": 7,
     "metadata": {},
     "output_type": "execute_result"
    }
   ],
   "source": [
    "ix = np.random.choice(a.shape[0], size=a.shape[0]//2)\n",
    "ix.sort()  # only monotonically increasing indices are supported\n",
    "ix"
   ]
  },
  {
   "cell_type": "code",
   "execution_count": 8,
   "metadata": {},
   "outputs": [
    {
     "data": {
      "text/plain": [
       "array([1, 4, 5, 5, 7])"
      ]
     },
     "execution_count": 8,
     "metadata": {},
     "output_type": "execute_result"
    }
   ],
   "source": [
    "a[ix]"
   ]
  },
  {
   "cell_type": "code",
   "execution_count": 9,
   "metadata": {},
   "outputs": [
    {
     "data": {
      "text/plain": [
       "array([1, 4, 5, 5, 7])"
      ]
     },
     "execution_count": 9,
     "metadata": {},
     "output_type": "execute_result"
    }
   ],
   "source": [
    "za = zarr.array(a, chunks=2)\n",
    "za[ix]"
   ]
  },
  {
   "cell_type": "code",
   "execution_count": 10,
   "metadata": {},
   "outputs": [
    {
     "data": {
      "text/plain": [
       "array([ 0, 10,  2,  3, 40, 50,  6, 70,  8,  9])"
      ]
     },
     "execution_count": 10,
     "metadata": {},
     "output_type": "execute_result"
    }
   ],
   "source": [
    "za[ix] = a[ix] * 10\n",
    "za[:]"
   ]
  },
  {
   "cell_type": "markdown",
   "metadata": {},
   "source": [
    "### Multidimensional indexing\n",
    "\n",
    "N.B., orthogonaly indexing is implemented. This is different from numpy fancy indexing if more than one dimension is indexed with an array."
   ]
  },
  {
   "cell_type": "code",
   "execution_count": 11,
   "metadata": {},
   "outputs": [],
   "source": [
    "b = np.arange(100).reshape(10, 10)"
   ]
  },
  {
   "cell_type": "code",
   "execution_count": 12,
   "metadata": {},
   "outputs": [
    {
     "data": {
      "text/plain": [
       "array([False,  True,  True,  True, False, False,  True, False, False,  True], dtype=bool)"
      ]
     },
     "execution_count": 12,
     "metadata": {},
     "output_type": "execute_result"
    }
   ],
   "source": [
    "ix0 = np.random.binomial(1, 0.5, size=b.shape[0]).astype(bool)\n",
    "ix0"
   ]
  },
  {
   "cell_type": "code",
   "execution_count": 13,
   "metadata": {},
   "outputs": [
    {
     "data": {
      "text/plain": [
       "array([False, False,  True, False,  True, False,  True,  True, False, False], dtype=bool)"
      ]
     },
     "execution_count": 13,
     "metadata": {},
     "output_type": "execute_result"
    }
   ],
   "source": [
    "ix1 = np.random.binomial(1, 0.5, size=b.shape[1]).astype(bool)\n",
    "ix1"
   ]
  },
  {
   "cell_type": "code",
   "execution_count": 14,
   "metadata": {},
   "outputs": [
    {
     "data": {
      "text/plain": [
       "array([[12, 14, 16, 17],\n",
       "       [22, 24, 26, 27],\n",
       "       [32, 34, 36, 37],\n",
       "       [62, 64, 66, 67],\n",
       "       [92, 94, 96, 97]])"
      ]
     },
     "execution_count": 14,
     "metadata": {},
     "output_type": "execute_result"
    }
   ],
   "source": [
    "b[np.ix_(ix0, ix1)]"
   ]
  },
  {
   "cell_type": "code",
   "execution_count": 15,
   "metadata": {},
   "outputs": [
    {
     "data": {
      "text/plain": [
       "array([[12, 14, 16, 17],\n",
       "       [22, 24, 26, 27],\n",
       "       [32, 34, 36, 37],\n",
       "       [62, 64, 66, 67],\n",
       "       [92, 94, 96, 97]])"
      ]
     },
     "execution_count": 15,
     "metadata": {},
     "output_type": "execute_result"
    }
   ],
   "source": [
    "zb = zarr.array(b, chunks=(2, 2))\n",
    "zb[ix0, ix1]"
   ]
  },
  {
   "cell_type": "code",
   "execution_count": 16,
   "metadata": {},
   "outputs": [
    {
     "data": {
      "text/plain": [
       "array([[ 0,  1,  2,  3,  4,  5,  6,  7,  8,  9],\n",
       "       [10, 11, -1, 13, -1, 15, -1, -1, 18, 19],\n",
       "       [20, 21, -1, 23, -1, 25, -1, -1, 28, 29],\n",
       "       [30, 31, -1, 33, -1, 35, -1, -1, 38, 39],\n",
       "       [40, 41, 42, 43, 44, 45, 46, 47, 48, 49],\n",
       "       [50, 51, 52, 53, 54, 55, 56, 57, 58, 59],\n",
       "       [60, 61, -1, 63, -1, 65, -1, -1, 68, 69],\n",
       "       [70, 71, 72, 73, 74, 75, 76, 77, 78, 79],\n",
       "       [80, 81, 82, 83, 84, 85, 86, 87, 88, 89],\n",
       "       [90, 91, -1, 93, -1, 95, -1, -1, 98, 99]])"
      ]
     },
     "execution_count": 16,
     "metadata": {},
     "output_type": "execute_result"
    }
   ],
   "source": [
    "zb[ix0, ix1] = -1\n",
    "zb[:]"
   ]
  },
  {
   "cell_type": "code",
   "execution_count": 17,
   "metadata": {},
   "outputs": [
    {
     "data": {
      "text/plain": [
       "array([1, 8, 8, 9, 9])"
      ]
     },
     "execution_count": 17,
     "metadata": {},
     "output_type": "execute_result"
    }
   ],
   "source": [
    "ix0 = np.random.choice(b.shape[0], size=b.shape[0]//2)\n",
    "ix0.sort()  # only monotonically increasing indices are supported\n",
    "ix0"
   ]
  },
  {
   "cell_type": "code",
   "execution_count": 18,
   "metadata": {},
   "outputs": [
    {
     "data": {
      "text/plain": [
       "array([1, 3, 4, 6, 7])"
      ]
     },
     "execution_count": 18,
     "metadata": {},
     "output_type": "execute_result"
    }
   ],
   "source": [
    "ix1 = np.random.choice(b.shape[1], size=b.shape[1]//2)\n",
    "ix1.sort()  # only monotonically increasing indices are supported\n",
    "ix1"
   ]
  },
  {
   "cell_type": "code",
   "execution_count": 19,
   "metadata": {},
   "outputs": [
    {
     "data": {
      "text/plain": [
       "array([[11, 13, 14, 16, 17],\n",
       "       [81, 83, 84, 86, 87],\n",
       "       [81, 83, 84, 86, 87],\n",
       "       [91, 93, 94, 96, 97],\n",
       "       [91, 93, 94, 96, 97]])"
      ]
     },
     "execution_count": 19,
     "metadata": {},
     "output_type": "execute_result"
    }
   ],
   "source": [
    "b[np.ix_(ix0, ix1)]"
   ]
  },
  {
   "cell_type": "code",
   "execution_count": 20,
   "metadata": {},
   "outputs": [
    {
     "data": {
      "text/plain": [
       "array([[11, 13, 14, 16, 17],\n",
       "       [81, 83, 84, 86, 87],\n",
       "       [81, 83, 84, 86, 87],\n",
       "       [91, 93, 94, 96, 97],\n",
       "       [91, 93, 94, 96, 97]])"
      ]
     },
     "execution_count": 20,
     "metadata": {},
     "output_type": "execute_result"
    }
   ],
   "source": [
    "zb = zarr.array(b, chunks=(2, 2))\n",
    "zb[ix0, ix1]"
   ]
  },
  {
   "cell_type": "code",
   "execution_count": 21,
   "metadata": {},
   "outputs": [
    {
     "data": {
      "text/plain": [
       "array([[ 0,  1,  2,  3,  4,  5,  6,  7,  8,  9],\n",
       "       [10, -1, 12, -1, -1, 15, -1, -1, 18, 19],\n",
       "       [20, 21, 22, 23, 24, 25, 26, 27, 28, 29],\n",
       "       [30, 31, 32, 33, 34, 35, 36, 37, 38, 39],\n",
       "       [40, 41, 42, 43, 44, 45, 46, 47, 48, 49],\n",
       "       [50, 51, 52, 53, 54, 55, 56, 57, 58, 59],\n",
       "       [60, 61, 62, 63, 64, 65, 66, 67, 68, 69],\n",
       "       [70, 71, 72, 73, 74, 75, 76, 77, 78, 79],\n",
       "       [80, -1, 82, -1, -1, 85, -1, -1, 88, 89],\n",
       "       [90, -1, 92, -1, -1, 95, -1, -1, 98, 99]])"
      ]
     },
     "execution_count": 21,
     "metadata": {},
     "output_type": "execute_result"
    }
   ],
   "source": [
    "zb[ix0, ix1] = -1\n",
    "zb[:]"
   ]
  },
  {
   "cell_type": "markdown",
   "metadata": {},
   "source": [
    "### Indexing with zarr bool arrays"
   ]
  },
  {
   "cell_type": "code",
   "execution_count": 22,
   "metadata": {},
   "outputs": [],
   "source": [
    "ix = np.random.binomial(1, 0.5, size=a.shape[0]).astype(bool)\n",
    "zix = zarr.array(ix, chunks=2)"
   ]
  },
  {
   "cell_type": "code",
   "execution_count": 23,
   "metadata": {},
   "outputs": [
    {
     "data": {
      "text/plain": [
       "array([1, 3, 5, 6, 8, 9])"
      ]
     },
     "execution_count": 23,
     "metadata": {},
     "output_type": "execute_result"
    }
   ],
   "source": [
    "za = zarr.array(a, chunks=2)\n",
    "za[ix]"
   ]
  },
  {
   "cell_type": "code",
   "execution_count": 24,
   "metadata": {},
   "outputs": [
    {
     "data": {
      "text/plain": [
       "array([1, 3, 5, 6, 8, 9])"
      ]
     },
     "execution_count": 24,
     "metadata": {},
     "output_type": "execute_result"
    }
   ],
   "source": [
    "# will not load all zix into memory\n",
    "za[zix]"
   ]
  },
  {
   "cell_type": "markdown",
   "metadata": {},
   "source": [
    "## Benchmarking"
   ]
  },
  {
   "cell_type": "code",
   "execution_count": 25,
   "metadata": {},
   "outputs": [
    {
     "data": {
      "text/plain": [
       "800000000"
      ]
     },
     "execution_count": 25,
     "metadata": {},
     "output_type": "execute_result"
    }
   ],
   "source": [
    "c = np.arange(100000000)\n",
    "c.nbytes"
   ]
  },
  {
   "cell_type": "code",
   "execution_count": 26,
   "metadata": {},
   "outputs": [
    {
     "data": {
      "text/html": [
       "<table class=\"zarr-info\"><tbody><tr><th style=\"text-align: left\">Type</th><td style=\"text-align: left\">zarr.core.Array</td></tr><tr><th style=\"text-align: left\">Data type</th><td style=\"text-align: left\">int64</td></tr><tr><th style=\"text-align: left\">Shape</th><td style=\"text-align: left\">(100000000,)</td></tr><tr><th style=\"text-align: left\">Chunk shape</th><td style=\"text-align: left\">(48829,)</td></tr><tr><th style=\"text-align: left\">Order</th><td style=\"text-align: left\">C</td></tr><tr><th style=\"text-align: left\">Read-only</th><td style=\"text-align: left\">False</td></tr><tr><th style=\"text-align: left\">Compressor</th><td style=\"text-align: left\">Blosc(cname='lz4', clevel=5, shuffle=SHUFFLE, blocksize=0)</td></tr><tr><th style=\"text-align: left\">Store type</th><td style=\"text-align: left\">builtins.dict</td></tr><tr><th style=\"text-align: left\">No. bytes</th><td style=\"text-align: left\">800000000 (762.9M)</td></tr><tr><th style=\"text-align: left\">No. bytes stored</th><td style=\"text-align: left\">11870277 (11.3M)</td></tr><tr><th style=\"text-align: left\">Storage ratio</th><td style=\"text-align: left\">67.4</td></tr><tr><th style=\"text-align: left\">Chunks initialized</th><td style=\"text-align: left\">2048/2048</td></tr></tbody></table>"
      ],
      "text/plain": [
       "Type               : zarr.core.Array\n",
       "Data type          : int64\n",
       "Shape              : (100000000,)\n",
       "Chunk shape        : (48829,)\n",
       "Order              : C\n",
       "Read-only          : False\n",
       "Compressor         : Blosc(cname='lz4', clevel=5, shuffle=SHUFFLE, blocksize=0)\n",
       "Store type         : builtins.dict\n",
       "No. bytes          : 800000000 (762.9M)\n",
       "No. bytes stored   : 11870277 (11.3M)\n",
       "Storage ratio      : 67.4\n",
       "Chunks initialized : 2048/2048"
      ]
     },
     "execution_count": 26,
     "metadata": {},
     "output_type": "execute_result"
    }
   ],
   "source": [
    "zc = zarr.array(c)\n",
    "zc.info"
   ]
  },
  {
   "cell_type": "code",
   "execution_count": 27,
   "metadata": {},
   "outputs": [
    {
     "name": "stdout",
     "output_type": "stream",
     "text": [
      "CPU times: user 148 ms, sys: 52 ms, total: 200 ms\n",
      "Wall time: 200 ms\n"
     ]
    },
    {
     "data": {
      "text/plain": [
       "array([       0,        1,        2, ..., 99999997, 99999998, 99999999])"
      ]
     },
     "execution_count": 27,
     "metadata": {},
     "output_type": "execute_result"
    }
   ],
   "source": [
    "%time c.copy()"
   ]
  },
  {
   "cell_type": "code",
   "execution_count": 28,
   "metadata": {},
   "outputs": [
    {
     "name": "stdout",
     "output_type": "stream",
     "text": [
      "CPU times: user 480 ms, sys: 420 ms, total: 900 ms\n",
      "Wall time: 308 ms\n"
     ]
    },
    {
     "data": {
      "text/plain": [
       "array([       0,        1,        2, ..., 99999997, 99999998, 99999999])"
      ]
     },
     "execution_count": 28,
     "metadata": {},
     "output_type": "execute_result"
    }
   ],
   "source": [
    "%time zc[:]"
   ]
  },
  {
   "cell_type": "markdown",
   "metadata": {},
   "source": [
    "### bool dense selection"
   ]
  },
  {
   "cell_type": "code",
   "execution_count": 29,
   "metadata": {},
   "outputs": [
    {
     "data": {
      "text/plain": [
       "49994863"
      ]
     },
     "execution_count": 29,
     "metadata": {},
     "output_type": "execute_result"
    }
   ],
   "source": [
    "# relatively dense selection\n",
    "ix_dense_bool = np.random.binomial(1, 0.5, size=c.shape[0]).astype(bool)\n",
    "np.count_nonzero(ix_dense_bool)"
   ]
  },
  {
   "cell_type": "code",
   "execution_count": 30,
   "metadata": {},
   "outputs": [
    {
     "name": "stdout",
     "output_type": "stream",
     "text": [
      "CPU times: user 612 ms, sys: 20 ms, total: 632 ms\n",
      "Wall time: 628 ms\n"
     ]
    },
    {
     "data": {
      "text/plain": [
       "array([       0,        1,        2, ..., 99999994, 99999995, 99999996])"
      ]
     },
     "execution_count": 30,
     "metadata": {},
     "output_type": "execute_result"
    }
   ],
   "source": [
    "%time c[ix_dense_bool]"
   ]
  },
  {
   "cell_type": "code",
   "execution_count": 31,
   "metadata": {},
   "outputs": [
    {
     "name": "stdout",
     "output_type": "stream",
     "text": [
      "CPU times: user 1.5 s, sys: 208 ms, total: 1.71 s\n",
      "Wall time: 983 ms\n"
     ]
    },
    {
     "data": {
      "text/plain": [
       "array([       0,        1,        2, ..., 99999994, 99999995, 99999996])"
      ]
     },
     "execution_count": 31,
     "metadata": {},
     "output_type": "execute_result"
    }
   ],
   "source": [
    "%time zc[ix_dense_bool]"
   ]
  },
  {
   "cell_type": "code",
   "execution_count": 32,
   "metadata": {},
   "outputs": [
    {
     "name": "stdout",
     "output_type": "stream",
     "text": [
      "         73776 function calls in 1.005 seconds\n",
      "\n",
      "   Ordered by: internal time\n",
      "\n",
      "   ncalls  tottime  percall  cumtime  percall filename:lineno(function)\n",
      "     2048    0.666    0.000    0.967    0.000 core.py:679(_chunk_getitem)\n",
      "     2048    0.255    0.000    0.274    0.000 core.py:839(_decode_chunk)\n",
      "     2048    0.010    0.000    0.019    0.000 util.py:418(get_chunk_selections)\n",
      "     2048    0.009    0.000    0.009    0.000 {built-in method numpy.core.multiarray.count_nonzero}\n",
      "     2048    0.008    0.000    0.008    0.000 {built-in method numpy.core.multiarray.frombuffer}\n",
      "     2048    0.008    0.000    0.008    0.000 {method 'reshape' of 'numpy.ndarray' objects}\n",
      "        1    0.006    0.006    1.004    1.004 core.py:484(_getitem_nd)\n",
      "     2048    0.005    0.000    0.009    0.000 util.py:114(is_total_slice)\n",
      "     2048    0.005    0.000    0.010    0.000 arrayprint.py:381(wrapper)\n",
      "     2048    0.004    0.000    0.016    0.000 {method 'join' of 'str' objects}\n",
      "     2048    0.004    0.000    0.004    0.000 util.py:167(get_chunk_sel)\n",
      "    14344    0.003    0.000    0.004    0.000 {built-in method builtins.isinstance}\n",
      "     2048    0.003    0.000    0.003    0.000 util.py:177(get_out_sel)\n",
      "     2048    0.003    0.000    0.004    0.000 arrayprint.py:399(array2string)\n",
      "     2048    0.002    0.000    0.018    0.000 core.py:836(_chunk_key)\n",
      "     2048    0.002    0.000    0.012    0.000 numeric.py:1905(array_str)\n",
      "        1    0.002    0.002    0.011    0.011 util.py:140(__init__)\n",
      "     4096    0.001    0.000    0.002    0.000 util.py:129(<genexpr>)\n",
      "     2048    0.001    0.000    0.002    0.000 threading.py:1230(current_thread)\n",
      "     4096    0.001    0.000    0.001    0.000 {built-in method _thread.get_ident}\n",
      "        1    0.001    0.001    1.005    1.005 <string>:1(<module>)\n",
      "     4098    0.001    0.000    0.001    0.000 {method 'append' of 'list' objects}\n",
      "     2048    0.001    0.000    0.002    0.000 {built-in method builtins.all}\n",
      "     2048    0.001    0.000    0.010    0.000 numeric.py:380(count_nonzero)\n",
      "     2048    0.001    0.000    0.001    0.000 core.py:200(chunk_store)\n",
      "     2048    0.001    0.000    0.001    0.000 {method 'item' of 'numpy.ndarray' objects}\n",
      "     2048    0.000    0.000    0.000    0.000 threading.py:1304(main_thread)\n",
      "     2048    0.000    0.000    0.000    0.000 {method 'discard' of 'set' objects}\n",
      "     2048    0.000    0.000    0.000    0.000 {method 'add' of 'set' objects}\n",
      "     2048    0.000    0.000    0.000    0.000 {built-in method builtins.id}\n",
      "        1    0.000    0.000    1.005    1.005 {built-in method builtins.exec}\n",
      "        1    0.000    0.000    0.000    0.000 {method 'cumsum' of 'numpy.ndarray' objects}\n",
      "        1    0.000    0.000    0.000    0.000 {built-in method numpy.core.multiarray.empty}\n",
      "        2    0.000    0.000    0.000    0.000 {built-in method numpy.core.multiarray.zeros}\n",
      "        1    0.000    0.000    0.011    0.011 util.py:323(normalize_array_selection)\n",
      "        2    0.000    0.000    0.000    0.000 fromnumeric.py:55(_wrapfunc)\n",
      "        1    0.000    0.000    0.000    0.000 {method 'nonzero' of 'numpy.ndarray' objects}\n",
      "        1    0.000    0.000    0.011    0.011 util.py:250(normalize_dim_selection)\n",
      "        1    0.000    0.000    0.000    0.000 util.py:363(get_chunks_for_selection)\n",
      "        1    0.000    0.000    1.004    1.004 core.py:377(__getitem__)\n",
      "        2    0.000    0.000    0.000    0.000 {built-in method builtins.sum}\n",
      "        1    0.000    0.000    0.000    0.000 fromnumeric.py:2053(cumsum)\n",
      "        1    0.000    0.000    0.000    0.000 abc.py:178(__instancecheck__)\n",
      "        2    0.000    0.000    0.000    0.000 {built-in method builtins.hasattr}\n",
      "        1    0.000    0.000    0.000    0.000 util.py:185(get_chunk_ranges)\n",
      "        2    0.000    0.000    0.000    0.000 _weakrefset.py:70(__contains__)\n",
      "        2    0.000    0.000    0.000    0.000 {built-in method builtins.getattr}\n",
      "        5    0.000    0.000    0.000    0.000 {built-in method builtins.len}\n",
      "        2    0.000    0.000    0.011    0.006 util.py:354(<genexpr>)\n",
      "        1    0.000    0.000    0.000    0.000 fromnumeric.py:1487(nonzero)\n",
      "        2    0.000    0.000    0.000    0.000 core.py:500(<genexpr>)\n",
      "        1    0.000    0.000    0.000    0.000 util.py:332(<genexpr>)\n",
      "        1    0.000    0.000    0.000    0.000 {method 'disable' of '_lsprof.Profiler' objects}\n",
      "\n",
      "\n"
     ]
    }
   ],
   "source": [
    "cProfile.run('zc[ix_dense_bool]', sort='time')"
   ]
  },
  {
   "cell_type": "markdown",
   "metadata": {},
   "source": [
    "### int dense selection"
   ]
  },
  {
   "cell_type": "code",
   "execution_count": 33,
   "metadata": {},
   "outputs": [
    {
     "data": {
      "text/plain": [
       "49994863"
      ]
     },
     "execution_count": 33,
     "metadata": {},
     "output_type": "execute_result"
    }
   ],
   "source": [
    "ix_dense_int = np.nonzero(ix_dense_bool)[0]\n",
    "len(ix_dense_int)"
   ]
  },
  {
   "cell_type": "code",
   "execution_count": 34,
   "metadata": {},
   "outputs": [
    {
     "name": "stdout",
     "output_type": "stream",
     "text": [
      "CPU times: user 144 ms, sys: 20 ms, total: 164 ms\n",
      "Wall time: 160 ms\n"
     ]
    },
    {
     "data": {
      "text/plain": [
       "array([       0,        1,        2, ..., 99999994, 99999995, 99999996])"
      ]
     },
     "execution_count": 34,
     "metadata": {},
     "output_type": "execute_result"
    }
   ],
   "source": [
    "%time c[ix_dense_int]"
   ]
  },
  {
   "cell_type": "code",
   "execution_count": 35,
   "metadata": {},
   "outputs": [
    {
     "name": "stdout",
     "output_type": "stream",
     "text": [
      "CPU times: user 1.3 s, sys: 152 ms, total: 1.45 s\n",
      "Wall time: 1.16 s\n"
     ]
    },
    {
     "data": {
      "text/plain": [
       "array([       0,        1,        2, ..., 99999994, 99999995, 99999996])"
      ]
     },
     "execution_count": 35,
     "metadata": {},
     "output_type": "execute_result"
    }
   ],
   "source": [
    "%time zc[ix_dense_int]"
   ]
  },
  {
   "cell_type": "code",
   "execution_count": 36,
   "metadata": {},
   "outputs": [
    {
     "name": "stdout",
     "output_type": "stream",
     "text": [
      "         71758 function calls in 1.208 seconds\n",
      "\n",
      "   Ordered by: internal time\n",
      "\n",
      "   ncalls  tottime  percall  cumtime  percall filename:lineno(function)\n",
      "        1    0.662    0.662    0.864    0.864 util.py:191(__init__)\n",
      "     2048    0.129    0.000    0.139    0.000 core.py:839(_decode_chunk)\n",
      "        1    0.119    0.119    0.119    0.119 {built-in method numpy.core.multiarray.bincount}\n",
      "     2048    0.116    0.000    0.278    0.000 core.py:679(_chunk_getitem)\n",
      "        1    0.063    0.063    0.063    0.063 function_base.py:1848(diff)\n",
      "     2048    0.042    0.000    0.045    0.000 util.py:225(get_chunk_sel)\n",
      "        4    0.020    0.005    0.020    0.005 {method 'reduce' of 'numpy.ufunc' objects}\n",
      "     2048    0.010    0.000    0.059    0.000 util.py:418(get_chunk_selections)\n",
      "        1    0.006    0.006    1.207    1.207 core.py:484(_getitem_nd)\n",
      "     4096    0.005    0.000    0.005    0.000 util.py:235(get_out_sel)\n",
      "     2048    0.005    0.000    0.007    0.000 util.py:114(is_total_slice)\n",
      "     2048    0.004    0.000    0.004    0.000 {method 'reshape' of 'numpy.ndarray' objects}\n",
      "     2048    0.004    0.000    0.009    0.000 arrayprint.py:381(wrapper)\n",
      "     2048    0.004    0.000    0.004    0.000 {built-in method numpy.core.multiarray.frombuffer}\n",
      "     2048    0.003    0.000    0.013    0.000 {method 'join' of 'str' objects}\n",
      "    14345    0.003    0.000    0.003    0.000 {built-in method builtins.isinstance}\n",
      "     2048    0.003    0.000    0.003    0.000 arrayprint.py:399(array2string)\n",
      "     2048    0.002    0.000    0.015    0.000 core.py:836(_chunk_key)\n",
      "     2048    0.001    0.000    0.010    0.000 numeric.py:1905(array_str)\n",
      "     4096    0.001    0.000    0.002    0.000 util.py:129(<genexpr>)\n",
      "     2048    0.001    0.000    0.001    0.000 threading.py:1230(current_thread)\n",
      "        1    0.001    0.001    1.208    1.208 <string>:1(<module>)\n",
      "     4096    0.001    0.000    0.001    0.000 {built-in method _thread.get_ident}\n",
      "     4098    0.001    0.000    0.001    0.000 {method 'append' of 'list' objects}\n",
      "     2048    0.001    0.000    0.002    0.000 {built-in method builtins.all}\n",
      "     2048    0.001    0.000    0.001    0.000 {method 'item' of 'numpy.ndarray' objects}\n",
      "     2048    0.000    0.000    0.000    0.000 core.py:200(chunk_store)\n",
      "     2048    0.000    0.000    0.000    0.000 {method 'discard' of 'set' objects}\n",
      "     2048    0.000    0.000    0.000    0.000 {method 'add' of 'set' objects}\n",
      "     2048    0.000    0.000    0.000    0.000 threading.py:1304(main_thread)\n",
      "     2048    0.000    0.000    0.000    0.000 {built-in method builtins.id}\n",
      "        1    0.000    0.000    0.864    0.864 util.py:250(normalize_dim_selection)\n",
      "        4    0.000    0.000    0.020    0.005 fromnumeric.py:1886(any)\n",
      "        1    0.000    0.000    1.208    1.208 {built-in method builtins.exec}\n",
      "        6    0.000    0.000    0.000    0.000 {built-in method numpy.core.multiarray.array}\n",
      "        1    0.000    0.000    0.864    0.864 util.py:323(normalize_array_selection)\n",
      "        4    0.000    0.000    0.020    0.005 {method 'any' of 'numpy.ndarray' objects}\n",
      "        1    0.000    0.000    0.000    0.000 {method 'cumsum' of 'numpy.ndarray' objects}\n",
      "        4    0.000    0.000    0.020    0.005 _methods.py:37(_any)\n",
      "        1    0.000    0.000    0.000    0.000 {method 'nonzero' of 'numpy.ndarray' objects}\n",
      "        1    0.000    0.000    0.000    0.000 {built-in method numpy.core.multiarray.empty}\n",
      "        2    0.000    0.000    0.000    0.000 fromnumeric.py:55(_wrapfunc)\n",
      "        6    0.000    0.000    0.000    0.000 numeric.py:534(asanyarray)\n",
      "        1    0.000    0.000    0.000    0.000 util.py:363(get_chunks_for_selection)\n",
      "        1    0.000    0.000    1.207    1.207 core.py:377(__getitem__)\n",
      "        1    0.000    0.000    0.000    0.000 fromnumeric.py:2053(cumsum)\n",
      "        1    0.000    0.000    0.000    0.000 abc.py:178(__instancecheck__)\n",
      "        2    0.000    0.000    0.000    0.000 {built-in method builtins.sum}\n",
      "        2    0.000    0.000    0.864    0.432 util.py:354(<genexpr>)\n",
      "        1    0.000    0.000    0.000    0.000 fromnumeric.py:1487(nonzero)\n",
      "        6    0.000    0.000    0.000    0.000 {built-in method builtins.len}\n",
      "        2    0.000    0.000    0.000    0.000 _weakrefset.py:70(__contains__)\n",
      "        2    0.000    0.000    0.000    0.000 {built-in method builtins.getattr}\n",
      "        2    0.000    0.000    0.000    0.000 {built-in method builtins.hasattr}\n",
      "        1    0.000    0.000    0.000    0.000 util.py:243(get_chunk_ranges)\n",
      "        1    0.000    0.000    0.000    0.000 util.py:332(<genexpr>)\n",
      "        1    0.000    0.000    0.000    0.000 {method 'disable' of '_lsprof.Profiler' objects}\n",
      "        2    0.000    0.000    0.000    0.000 core.py:500(<genexpr>)\n",
      "\n",
      "\n"
     ]
    }
   ],
   "source": [
    "cProfile.run('zc[ix_dense_int]', sort='time')"
   ]
  },
  {
   "cell_type": "markdown",
   "metadata": {},
   "source": [
    "### bool sparse selection"
   ]
  },
  {
   "cell_type": "code",
   "execution_count": 37,
   "metadata": {},
   "outputs": [
    {
     "data": {
      "text/plain": [
       "9950"
      ]
     },
     "execution_count": 37,
     "metadata": {},
     "output_type": "execute_result"
    }
   ],
   "source": [
    "# relatively sparse selection\n",
    "ix_sparse_bool = np.random.binomial(1, 0.0001, size=c.shape[0]).astype(bool)\n",
    "np.count_nonzero(ix_sparse_bool)"
   ]
  },
  {
   "cell_type": "code",
   "execution_count": 38,
   "metadata": {},
   "outputs": [
    {
     "name": "stdout",
     "output_type": "stream",
     "text": [
      "CPU times: user 20 ms, sys: 0 ns, total: 20 ms\n",
      "Wall time: 17.8 ms\n"
     ]
    },
    {
     "data": {
      "text/plain": [
       "array([   12643,    15188,    16392, ..., 99989960, 99995101, 99999097])"
      ]
     },
     "execution_count": 38,
     "metadata": {},
     "output_type": "execute_result"
    }
   ],
   "source": [
    "%time c[ix_sparse_bool]"
   ]
  },
  {
   "cell_type": "code",
   "execution_count": 39,
   "metadata": {},
   "outputs": [
    {
     "name": "stdout",
     "output_type": "stream",
     "text": [
      "CPU times: user 472 ms, sys: 88 ms, total: 560 ms\n",
      "Wall time: 262 ms\n"
     ]
    },
    {
     "data": {
      "text/plain": [
       "array([   12643,    15188,    16392, ..., 99989960, 99995101, 99999097])"
      ]
     },
     "execution_count": 39,
     "metadata": {},
     "output_type": "execute_result"
    }
   ],
   "source": [
    "%time zc[ix_sparse_bool]"
   ]
  },
  {
   "cell_type": "code",
   "execution_count": 40,
   "metadata": {},
   "outputs": [
    {
     "name": "stdout",
     "output_type": "stream",
     "text": [
      "         73436 function calls in 0.289 seconds\n",
      "\n",
      "   Ordered by: internal time\n",
      "\n",
      "   ncalls  tottime  percall  cumtime  percall filename:lineno(function)\n",
      "     2038    0.172    0.000    0.184    0.000 core.py:839(_decode_chunk)\n",
      "     2038    0.035    0.000    0.248    0.000 core.py:679(_chunk_getitem)\n",
      "     2048    0.013    0.000    0.013    0.000 {built-in method numpy.core.multiarray.count_nonzero}\n",
      "     2038    0.011    0.000    0.020    0.000 util.py:418(get_chunk_selections)\n",
      "        1    0.006    0.006    0.289    0.289 core.py:484(_getitem_nd)\n",
      "     2038    0.006    0.000    0.009    0.000 util.py:114(is_total_slice)\n",
      "     2038    0.005    0.000    0.011    0.000 arrayprint.py:381(wrapper)\n",
      "     2038    0.005    0.000    0.005    0.000 {method 'reshape' of 'numpy.ndarray' objects}\n",
      "     2038    0.005    0.000    0.017    0.000 {method 'join' of 'str' objects}\n",
      "     2038    0.004    0.000    0.004    0.000 {built-in method numpy.core.multiarray.frombuffer}\n",
      "     2038    0.004    0.000    0.004    0.000 util.py:167(get_chunk_sel)\n",
      "     2038    0.003    0.000    0.003    0.000 util.py:177(get_out_sel)\n",
      "    14274    0.003    0.000    0.003    0.000 {built-in method builtins.isinstance}\n",
      "     2038    0.003    0.000    0.004    0.000 arrayprint.py:399(array2string)\n",
      "        1    0.002    0.002    0.016    0.016 util.py:140(__init__)\n",
      "     2038    0.002    0.000    0.019    0.000 core.py:836(_chunk_key)\n",
      "     2038    0.002    0.000    0.012    0.000 numeric.py:1905(array_str)\n",
      "     4076    0.002    0.000    0.002    0.000 util.py:129(<genexpr>)\n",
      "     2038    0.001    0.000    0.002    0.000 threading.py:1230(current_thread)\n",
      "     4076    0.001    0.000    0.001    0.000 {built-in method _thread.get_ident}\n",
      "     2038    0.001    0.000    0.002    0.000 {built-in method builtins.all}\n",
      "     4078    0.001    0.000    0.001    0.000 {method 'append' of 'list' objects}\n",
      "     2038    0.001    0.000    0.001    0.000 {method 'item' of 'numpy.ndarray' objects}\n",
      "     2038    0.001    0.000    0.001    0.000 core.py:200(chunk_store)\n",
      "     2048    0.001    0.000    0.013    0.000 numeric.py:380(count_nonzero)\n",
      "     2038    0.000    0.000    0.000    0.000 threading.py:1304(main_thread)\n",
      "     2038    0.000    0.000    0.000    0.000 {method 'add' of 'set' objects}\n",
      "     2038    0.000    0.000    0.000    0.000 {method 'discard' of 'set' objects}\n",
      "     2038    0.000    0.000    0.000    0.000 {built-in method builtins.id}\n",
      "        2    0.000    0.000    0.000    0.000 {built-in method numpy.core.multiarray.zeros}\n",
      "        1    0.000    0.000    0.000    0.000 {method 'cumsum' of 'numpy.ndarray' objects}\n",
      "        1    0.000    0.000    0.289    0.289 {built-in method builtins.exec}\n",
      "        1    0.000    0.000    0.016    0.016 util.py:323(normalize_array_selection)\n",
      "        1    0.000    0.000    0.000    0.000 {method 'nonzero' of 'numpy.ndarray' objects}\n",
      "        2    0.000    0.000    0.000    0.000 fromnumeric.py:55(_wrapfunc)\n",
      "        1    0.000    0.000    0.000    0.000 util.py:363(get_chunks_for_selection)\n",
      "        1    0.000    0.000    0.289    0.289 core.py:377(__getitem__)\n",
      "        1    0.000    0.000    0.016    0.016 util.py:250(normalize_dim_selection)\n",
      "        1    0.000    0.000    0.000    0.000 {built-in method numpy.core.multiarray.empty}\n",
      "        2    0.000    0.000    0.000    0.000 {built-in method builtins.sum}\n",
      "        1    0.000    0.000    0.289    0.289 <string>:1(<module>)\n",
      "        1    0.000    0.000    0.000    0.000 abc.py:178(__instancecheck__)\n",
      "        2    0.000    0.000    0.016    0.008 util.py:354(<genexpr>)\n",
      "        2    0.000    0.000    0.000    0.000 {built-in method builtins.getattr}\n",
      "        2    0.000    0.000    0.000    0.000 {built-in method builtins.hasattr}\n",
      "        1    0.000    0.000    0.000    0.000 fromnumeric.py:1487(nonzero)\n",
      "        1    0.000    0.000    0.000    0.000 fromnumeric.py:2053(cumsum)\n",
      "        2    0.000    0.000    0.000    0.000 _weakrefset.py:70(__contains__)\n",
      "        5    0.000    0.000    0.000    0.000 {built-in method builtins.len}\n",
      "        1    0.000    0.000    0.000    0.000 util.py:185(get_chunk_ranges)\n",
      "        2    0.000    0.000    0.000    0.000 core.py:500(<genexpr>)\n",
      "        1    0.000    0.000    0.000    0.000 util.py:332(<genexpr>)\n",
      "        1    0.000    0.000    0.000    0.000 {method 'disable' of '_lsprof.Profiler' objects}\n",
      "\n",
      "\n"
     ]
    }
   ],
   "source": [
    "cProfile.run('zc[ix_sparse_bool]', sort='time')"
   ]
  },
  {
   "cell_type": "markdown",
   "metadata": {},
   "source": [
    "### int sparse selection"
   ]
  },
  {
   "cell_type": "code",
   "execution_count": 41,
   "metadata": {},
   "outputs": [
    {
     "data": {
      "text/plain": [
       "9950"
      ]
     },
     "execution_count": 41,
     "metadata": {},
     "output_type": "execute_result"
    }
   ],
   "source": [
    "ix_sparse_int = np.nonzero(ix_sparse_bool)[0]\n",
    "len(ix_sparse_int)"
   ]
  },
  {
   "cell_type": "code",
   "execution_count": 42,
   "metadata": {},
   "outputs": [
    {
     "name": "stdout",
     "output_type": "stream",
     "text": [
      "CPU times: user 4 ms, sys: 0 ns, total: 4 ms\n",
      "Wall time: 169 µs\n"
     ]
    },
    {
     "data": {
      "text/plain": [
       "array([   12643,    15188,    16392, ..., 99989960, 99995101, 99999097])"
      ]
     },
     "execution_count": 42,
     "metadata": {},
     "output_type": "execute_result"
    }
   ],
   "source": [
    "%time c[ix_sparse_int]"
   ]
  },
  {
   "cell_type": "code",
   "execution_count": 43,
   "metadata": {},
   "outputs": [
    {
     "name": "stdout",
     "output_type": "stream",
     "text": [
      "CPU times: user 504 ms, sys: 68 ms, total: 572 ms\n",
      "Wall time: 262 ms\n"
     ]
    },
    {
     "data": {
      "text/plain": [
       "array([   12643,    15188,    16392, ..., 99989960, 99995101, 99999097])"
      ]
     },
     "execution_count": 43,
     "metadata": {},
     "output_type": "execute_result"
    }
   ],
   "source": [
    "%time zc[ix_sparse_int]"
   ]
  },
  {
   "cell_type": "code",
   "execution_count": 44,
   "metadata": {},
   "outputs": [
    {
     "name": "stdout",
     "output_type": "stream",
     "text": [
      "         71408 function calls in 0.241 seconds\n",
      "\n",
      "   Ordered by: internal time\n",
      "\n",
      "   ncalls  tottime  percall  cumtime  percall filename:lineno(function)\n",
      "     2038    0.158    0.000    0.169    0.000 core.py:839(_decode_chunk)\n",
      "     2038    0.011    0.000    0.014    0.000 util.py:225(get_chunk_sel)\n",
      "     2038    0.010    0.000    0.028    0.000 util.py:418(get_chunk_selections)\n",
      "     2038    0.010    0.000    0.207    0.000 core.py:679(_chunk_getitem)\n",
      "        1    0.006    0.006    0.241    0.241 core.py:484(_getitem_nd)\n",
      "     2038    0.005    0.000    0.009    0.000 util.py:114(is_total_slice)\n",
      "     4076    0.005    0.000    0.005    0.000 util.py:235(get_out_sel)\n",
      "     2038    0.005    0.000    0.010    0.000 arrayprint.py:381(wrapper)\n",
      "     2038    0.005    0.000    0.005    0.000 {method 'reshape' of 'numpy.ndarray' objects}\n",
      "     2038    0.004    0.000    0.016    0.000 {method 'join' of 'str' objects}\n",
      "     2038    0.003    0.000    0.003    0.000 {built-in method numpy.core.multiarray.frombuffer}\n",
      "     2038    0.003    0.000    0.004    0.000 arrayprint.py:399(array2string)\n",
      "    14275    0.003    0.000    0.003    0.000 {built-in method builtins.isinstance}\n",
      "     2038    0.002    0.000    0.018    0.000 core.py:836(_chunk_key)\n",
      "     2038    0.002    0.000    0.012    0.000 numeric.py:1905(array_str)\n",
      "     4076    0.001    0.000    0.002    0.000 util.py:129(<genexpr>)\n",
      "     2038    0.001    0.000    0.002    0.000 threading.py:1230(current_thread)\n",
      "     4076    0.001    0.000    0.001    0.000 {built-in method _thread.get_ident}\n",
      "     2038    0.001    0.000    0.002    0.000 {built-in method builtins.all}\n",
      "     4078    0.001    0.000    0.001    0.000 {method 'append' of 'list' objects}\n",
      "     2038    0.001    0.000    0.001    0.000 {method 'item' of 'numpy.ndarray' objects}\n",
      "     2038    0.001    0.000    0.001    0.000 core.py:200(chunk_store)\n",
      "     2038    0.000    0.000    0.000    0.000 threading.py:1304(main_thread)\n",
      "        1    0.000    0.000    0.001    0.001 util.py:191(__init__)\n",
      "     2038    0.000    0.000    0.000    0.000 {method 'discard' of 'set' objects}\n",
      "     2038    0.000    0.000    0.000    0.000 {method 'add' of 'set' objects}\n",
      "     2038    0.000    0.000    0.000    0.000 {built-in method builtins.id}\n",
      "        1    0.000    0.000    0.000    0.000 function_base.py:1848(diff)\n",
      "        4    0.000    0.000    0.000    0.000 {method 'reduce' of 'numpy.ufunc' objects}\n",
      "        1    0.000    0.000    0.000    0.000 {built-in method numpy.core.multiarray.bincount}\n",
      "        1    0.000    0.000    0.241    0.241 {built-in method builtins.exec}\n",
      "        1    0.000    0.000    0.001    0.001 util.py:323(normalize_array_selection)\n",
      "        1    0.000    0.000    0.000    0.000 {method 'nonzero' of 'numpy.ndarray' objects}\n",
      "        1    0.000    0.000    0.000    0.000 {method 'cumsum' of 'numpy.ndarray' objects}\n",
      "        4    0.000    0.000    0.000    0.000 fromnumeric.py:1886(any)\n",
      "        1    0.000    0.000    0.001    0.001 util.py:250(normalize_dim_selection)\n",
      "        2    0.000    0.000    0.000    0.000 fromnumeric.py:55(_wrapfunc)\n",
      "        1    0.000    0.000    0.000    0.000 util.py:363(get_chunks_for_selection)\n",
      "        6    0.000    0.000    0.000    0.000 {built-in method numpy.core.multiarray.array}\n",
      "        1    0.000    0.000    0.241    0.241 core.py:377(__getitem__)\n",
      "        4    0.000    0.000    0.000    0.000 _methods.py:37(_any)\n",
      "        4    0.000    0.000    0.000    0.000 {method 'any' of 'numpy.ndarray' objects}\n",
      "        1    0.000    0.000    0.000    0.000 {built-in method numpy.core.multiarray.empty}\n",
      "        1    0.000    0.000    0.000    0.000 abc.py:178(__instancecheck__)\n",
      "        2    0.000    0.000    0.000    0.000 {built-in method builtins.sum}\n",
      "        1    0.000    0.000    0.000    0.000 util.py:243(get_chunk_ranges)\n",
      "        1    0.000    0.000    0.241    0.241 <string>:1(<module>)\n",
      "        2    0.000    0.000    0.001    0.000 util.py:354(<genexpr>)\n",
      "        1    0.000    0.000    0.000    0.000 fromnumeric.py:2053(cumsum)\n",
      "        6    0.000    0.000    0.000    0.000 numeric.py:534(asanyarray)\n",
      "        2    0.000    0.000    0.000    0.000 {built-in method builtins.hasattr}\n",
      "        2    0.000    0.000    0.000    0.000 core.py:500(<genexpr>)\n",
      "        2    0.000    0.000    0.000    0.000 _weakrefset.py:70(__contains__)\n",
      "        6    0.000    0.000    0.000    0.000 {built-in method builtins.len}\n",
      "        1    0.000    0.000    0.000    0.000 util.py:332(<genexpr>)\n",
      "        2    0.000    0.000    0.000    0.000 {built-in method builtins.getattr}\n",
      "        1    0.000    0.000    0.000    0.000 fromnumeric.py:1487(nonzero)\n",
      "        1    0.000    0.000    0.000    0.000 {method 'disable' of '_lsprof.Profiler' objects}\n",
      "\n",
      "\n"
     ]
    }
   ],
   "source": [
    "cProfile.run('zc[ix_sparse_int]', sort='time')"
   ]
  },
  {
   "cell_type": "markdown",
   "metadata": {},
   "source": [
    "### sparse bool selection as zarr array"
   ]
  },
  {
   "cell_type": "code",
   "execution_count": 45,
   "metadata": {},
   "outputs": [
    {
     "data": {
      "text/html": [
       "<table class=\"zarr-info\"><tbody><tr><th style=\"text-align: left\">Type</th><td style=\"text-align: left\">zarr.core.Array</td></tr><tr><th style=\"text-align: left\">Data type</th><td style=\"text-align: left\">bool</td></tr><tr><th style=\"text-align: left\">Shape</th><td style=\"text-align: left\">(100000000,)</td></tr><tr><th style=\"text-align: left\">Chunk shape</th><td style=\"text-align: left\">(195313,)</td></tr><tr><th style=\"text-align: left\">Order</th><td style=\"text-align: left\">C</td></tr><tr><th style=\"text-align: left\">Read-only</th><td style=\"text-align: left\">False</td></tr><tr><th style=\"text-align: left\">Compressor</th><td style=\"text-align: left\">Blosc(cname='lz4', clevel=5, shuffle=SHUFFLE, blocksize=0)</td></tr><tr><th style=\"text-align: left\">Store type</th><td style=\"text-align: left\">builtins.dict</td></tr><tr><th style=\"text-align: left\">No. bytes</th><td style=\"text-align: left\">100000000 (95.4M)</td></tr><tr><th style=\"text-align: left\">No. bytes stored</th><td style=\"text-align: left\">511163 (499.2K)</td></tr><tr><th style=\"text-align: left\">Storage ratio</th><td style=\"text-align: left\">195.6</td></tr><tr><th style=\"text-align: left\">Chunks initialized</th><td style=\"text-align: left\">512/512</td></tr></tbody></table>"
      ],
      "text/plain": [
       "Type               : zarr.core.Array\n",
       "Data type          : bool\n",
       "Shape              : (100000000,)\n",
       "Chunk shape        : (195313,)\n",
       "Order              : C\n",
       "Read-only          : False\n",
       "Compressor         : Blosc(cname='lz4', clevel=5, shuffle=SHUFFLE, blocksize=0)\n",
       "Store type         : builtins.dict\n",
       "No. bytes          : 100000000 (95.4M)\n",
       "No. bytes stored   : 511163 (499.2K)\n",
       "Storage ratio      : 195.6\n",
       "Chunks initialized : 512/512"
      ]
     },
     "execution_count": 45,
     "metadata": {},
     "output_type": "execute_result"
    }
   ],
   "source": [
    "zix_sparse_bool = zarr.array(ix_sparse_bool)\n",
    "zix_sparse_bool.info"
   ]
  },
  {
   "cell_type": "code",
   "execution_count": 46,
   "metadata": {},
   "outputs": [
    {
     "name": "stdout",
     "output_type": "stream",
     "text": [
      "CPU times: user 932 ms, sys: 180 ms, total: 1.11 s\n",
      "Wall time: 570 ms\n"
     ]
    },
    {
     "data": {
      "text/plain": [
       "array([   12643,    15188,    16392, ..., 99989960, 99995101, 99999097])"
      ]
     },
     "execution_count": 46,
     "metadata": {},
     "output_type": "execute_result"
    }
   ],
   "source": [
    "%time zc[zix_sparse_bool]"
   ]
  },
  {
   "cell_type": "markdown",
   "metadata": {},
   "source": [
    "### h5py comparison\n",
    "\n",
    "N.B., not really fair because using slower compressor, but for interest..."
   ]
  },
  {
   "cell_type": "code",
   "execution_count": 47,
   "metadata": {},
   "outputs": [],
   "source": [
    "import h5py\n",
    "import tempfile"
   ]
  },
  {
   "cell_type": "code",
   "execution_count": 48,
   "metadata": {},
   "outputs": [],
   "source": [
    "h5f = h5py.File(tempfile.mktemp(), driver='core', backing_store=False)"
   ]
  },
  {
   "cell_type": "code",
   "execution_count": 49,
   "metadata": {},
   "outputs": [
    {
     "data": {
      "text/plain": [
       "<HDF5 dataset \"c\": shape (100000000,), type \"<i8\">"
      ]
     },
     "execution_count": 49,
     "metadata": {},
     "output_type": "execute_result"
    }
   ],
   "source": [
    "hc = h5f.create_dataset('c', data=c, compression='gzip', compression_opts=1, chunks=zc.chunks, shuffle=True)\n",
    "hc"
   ]
  },
  {
   "cell_type": "code",
   "execution_count": 50,
   "metadata": {},
   "outputs": [
    {
     "name": "stdout",
     "output_type": "stream",
     "text": [
      "CPU times: user 1.14 s, sys: 40 ms, total: 1.18 s\n",
      "Wall time: 1.17 s\n"
     ]
    },
    {
     "data": {
      "text/plain": [
       "array([       0,        1,        2, ..., 99999997, 99999998, 99999999])"
      ]
     },
     "execution_count": 50,
     "metadata": {},
     "output_type": "execute_result"
    }
   ],
   "source": [
    "%time hc[:]"
   ]
  },
  {
   "cell_type": "code",
   "execution_count": null,
   "metadata": {},
   "outputs": [
    {
     "name": "stdout",
     "output_type": "stream",
     "text": [
      "CPU times: user 1.1 s, sys: 0 ns, total: 1.1 s\n",
      "Wall time: 1.1 s\n"
     ]
    },
    {
     "data": {
      "text/plain": [
       "array([   12643,    15188,    16392, ..., 99989960, 99995101, 99999097])"
      ]
     },
     "execution_count": 51,
     "metadata": {},
     "output_type": "execute_result"
    }
   ],
   "source": [
    "%time hc[ix_sparse_bool]"
   ]
  },
  {
   "cell_type": "code",
   "execution_count": null,
   "metadata": {},
   "outputs": [],
   "source": [
    "# this is pathological, takes > 1 minute \n",
    "%time hc[ix_dense_bool]"
   ]
  },
  {
   "cell_type": "code",
   "execution_count": null,
   "metadata": {},
   "outputs": [],
   "source": []
  }
 ],
 "metadata": {
  "kernelspec": {
   "display_name": "Python 3",
   "language": "python",
   "name": "python3"
  },
  "language_info": {
   "codemirror_mode": {
    "name": "ipython",
    "version": 3
   },
   "file_extension": ".py",
   "mimetype": "text/x-python",
   "name": "python",
   "nbconvert_exporter": "python",
   "pygments_lexer": "ipython3",
   "version": "3.6.1"
  }
 },
 "nbformat": 4,
 "nbformat_minor": 2
}
