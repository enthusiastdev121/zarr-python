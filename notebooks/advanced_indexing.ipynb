{
 "cells": [
  {
   "cell_type": "markdown",
   "metadata": {},
   "source": [
    "# Advanced indexing"
   ]
  },
  {
   "cell_type": "code",
   "execution_count": 1,
   "metadata": {},
   "outputs": [
    {
     "data": {
      "text/plain": [
       "'2.1.5.dev113'"
      ]
     },
     "execution_count": 1,
     "metadata": {},
     "output_type": "execute_result"
    }
   ],
   "source": [
    "import sys\n",
    "sys.path.insert(0, '..')\n",
    "import zarr\n",
    "import numpy as np\n",
    "np.random.seed(42)\n",
    "import cProfile\n",
    "zarr.__version__"
   ]
  },
  {
   "cell_type": "markdown",
   "metadata": {},
   "source": [
    "## Functionality and API"
   ]
  },
  {
   "cell_type": "markdown",
   "metadata": {},
   "source": [
    "### Indexing a 1D array with a Boolean (mask) array\n",
    "\n",
    "Supported via ``get/set_mask_selection()`` and ``.vindex[]``. Also supported via ``get/set_orthogonal_selection()`` and ``.oindex[]``."
   ]
  },
  {
   "cell_type": "code",
   "execution_count": 2,
   "metadata": {},
   "outputs": [],
   "source": [
    "a = np.arange(10)\n",
    "za = zarr.array(a, chunks=2)\n",
    "ix = [False,  True,  False,  True, False, True, False,  True,  False,  True]"
   ]
  },
  {
   "cell_type": "code",
   "execution_count": 3,
   "metadata": {},
   "outputs": [
    {
     "data": {
      "text/plain": [
       "array([1, 3, 5, 7, 9])"
      ]
     },
     "execution_count": 3,
     "metadata": {},
     "output_type": "execute_result"
    }
   ],
   "source": [
    "# get items\n",
    "za.vindex[ix]"
   ]
  },
  {
   "cell_type": "code",
   "execution_count": 4,
   "metadata": {},
   "outputs": [
    {
     "data": {
      "text/plain": [
       "array([1, 3, 5, 7, 9])"
      ]
     },
     "execution_count": 4,
     "metadata": {},
     "output_type": "execute_result"
    }
   ],
   "source": [
    "# get items\n",
    "za.oindex[ix]"
   ]
  },
  {
   "cell_type": "code",
   "execution_count": 5,
   "metadata": {},
   "outputs": [
    {
     "data": {
      "text/plain": [
       "array([ 0, 10,  2, 30,  4, 50,  6, 70,  8, 90])"
      ]
     },
     "execution_count": 5,
     "metadata": {},
     "output_type": "execute_result"
    }
   ],
   "source": [
    "# set items\n",
    "za.vindex[ix] = a[ix] * 10\n",
    "za[:]"
   ]
  },
  {
   "cell_type": "code",
   "execution_count": 6,
   "metadata": {},
   "outputs": [
    {
     "data": {
      "text/plain": [
       "array([  0, 100,   2, 300,   4, 500,   6, 700,   8, 900])"
      ]
     },
     "execution_count": 6,
     "metadata": {},
     "output_type": "execute_result"
    }
   ],
   "source": [
    "# set items\n",
    "za.oindex[ix] = a[ix] * 100\n",
    "za[:]"
   ]
  },
  {
   "cell_type": "code",
   "execution_count": 7,
   "metadata": {},
   "outputs": [
    {
     "data": {
      "text/plain": [
       "array([1, 3, 5, 7, 9])"
      ]
     },
     "execution_count": 7,
     "metadata": {},
     "output_type": "execute_result"
    }
   ],
   "source": [
    "# if using .oindex, indexing array can be any array-like, e.g., Zarr array\n",
    "zix = zarr.array(ix, chunks=2)\n",
    "za = zarr.array(a, chunks=2)\n",
    "za.oindex[zix]  # will not load all zix into memory"
   ]
  },
  {
   "cell_type": "markdown",
   "metadata": {},
   "source": [
    "### Indexing a 1D array with a 1D integer (coordinate) array\n",
    "\n",
    "Supported via ``get/set_coordinate_selection()`` and ``.vindex[]``. Also supported via ``get/set_orthogonal_selection()`` and ``.oindex[]``."
   ]
  },
  {
   "cell_type": "code",
   "execution_count": 8,
   "metadata": {},
   "outputs": [],
   "source": [
    "a = np.arange(10)\n",
    "za = zarr.array(a, chunks=2)\n",
    "ix = [1, 3, 5, 7, 9]"
   ]
  },
  {
   "cell_type": "code",
   "execution_count": 9,
   "metadata": {},
   "outputs": [
    {
     "data": {
      "text/plain": [
       "array([1, 3, 5, 7, 9])"
      ]
     },
     "execution_count": 9,
     "metadata": {},
     "output_type": "execute_result"
    }
   ],
   "source": [
    "# get items\n",
    "za.vindex[ix]"
   ]
  },
  {
   "cell_type": "code",
   "execution_count": 10,
   "metadata": {},
   "outputs": [
    {
     "data": {
      "text/plain": [
       "array([1, 3, 5, 7, 9])"
      ]
     },
     "execution_count": 10,
     "metadata": {},
     "output_type": "execute_result"
    }
   ],
   "source": [
    "# get items\n",
    "za.oindex[ix]"
   ]
  },
  {
   "cell_type": "code",
   "execution_count": 11,
   "metadata": {},
   "outputs": [
    {
     "data": {
      "text/plain": [
       "array([ 0, 10,  2, 30,  4, 50,  6, 70,  8, 90])"
      ]
     },
     "execution_count": 11,
     "metadata": {},
     "output_type": "execute_result"
    }
   ],
   "source": [
    "# set items\n",
    "za.vindex[ix] = a[ix] * 10\n",
    "za[:]"
   ]
  },
  {
   "cell_type": "code",
   "execution_count": 12,
   "metadata": {},
   "outputs": [
    {
     "data": {
      "text/plain": [
       "array([  0, 100,   2, 300,   4, 500,   6, 700,   8, 900])"
      ]
     },
     "execution_count": 12,
     "metadata": {},
     "output_type": "execute_result"
    }
   ],
   "source": [
    "# set items\n",
    "za.oindex[ix] = a[ix] * 100\n",
    "za[:]"
   ]
  },
  {
   "cell_type": "markdown",
   "metadata": {},
   "source": [
    "### Indexing a 1D array with a multi-dimensional integer (coordinate) array\n",
    "\n",
    "Supported via ``get/set_coordinate_selection()`` and ``.vindex[]``."
   ]
  },
  {
   "cell_type": "code",
   "execution_count": 13,
   "metadata": {},
   "outputs": [],
   "source": [
    "a = np.arange(10)\n",
    "za = zarr.array(a, chunks=2)\n",
    "ix = np.array([[1, 3, 5], [2, 4, 6]])"
   ]
  },
  {
   "cell_type": "code",
   "execution_count": 14,
   "metadata": {},
   "outputs": [
    {
     "data": {
      "text/plain": [
       "array([[1, 3, 5],\n",
       "       [2, 4, 6]])"
      ]
     },
     "execution_count": 14,
     "metadata": {},
     "output_type": "execute_result"
    }
   ],
   "source": [
    "# get items\n",
    "za.vindex[ix]"
   ]
  },
  {
   "cell_type": "code",
   "execution_count": 15,
   "metadata": {},
   "outputs": [
    {
     "data": {
      "text/plain": [
       "array([ 0, 10, 20, 30, 40, 50, 60,  7,  8,  9])"
      ]
     },
     "execution_count": 15,
     "metadata": {},
     "output_type": "execute_result"
    }
   ],
   "source": [
    "# set items\n",
    "za.vindex[ix] = a[ix] * 10\n",
    "za[:]"
   ]
  },
  {
   "cell_type": "markdown",
   "metadata": {},
   "source": [
    "### Slicing a 1D array with step > 1\n",
    "\n",
    "Slices with step > 1 are supported via ``get/set_orthogonal_selection()`` and ``.oindex[]``. Internally these are converted to an integer array via ``np.arange``."
   ]
  },
  {
   "cell_type": "code",
   "execution_count": 16,
   "metadata": {},
   "outputs": [],
   "source": [
    "a = np.arange(10)\n",
    "za = zarr.array(a, chunks=2)"
   ]
  },
  {
   "cell_type": "code",
   "execution_count": 17,
   "metadata": {},
   "outputs": [
    {
     "data": {
      "text/plain": [
       "array([1, 3, 5, 7, 9])"
      ]
     },
     "execution_count": 17,
     "metadata": {},
     "output_type": "execute_result"
    }
   ],
   "source": [
    "# get items\n",
    "za.oindex[1::2]"
   ]
  },
  {
   "cell_type": "code",
   "execution_count": 18,
   "metadata": {},
   "outputs": [
    {
     "data": {
      "text/plain": [
       "array([9, 7, 5, 3, 1])"
      ]
     },
     "execution_count": 18,
     "metadata": {},
     "output_type": "execute_result"
    }
   ],
   "source": [
    "# get items with negative step\n",
    "za.oindex[-1::-2]"
   ]
  },
  {
   "cell_type": "code",
   "execution_count": 19,
   "metadata": {},
   "outputs": [
    {
     "data": {
      "text/plain": [
       "array([ 0, 10,  2, 30,  4, 50,  6, 70,  8, 90])"
      ]
     },
     "execution_count": 19,
     "metadata": {},
     "output_type": "execute_result"
    }
   ],
   "source": [
    "# set items\n",
    "za.oindex[1::2] = a[1::2] * 10\n",
    "za[:]"
   ]
  },
  {
   "cell_type": "markdown",
   "metadata": {},
   "source": [
    "### Orthogonal (outer) indexing of multi-dimensional arrays\n",
    "\n",
    "Orthogonal (a.k.a. outer) indexing is supported with either Boolean or integer arrays, in combination with integers and slices. This functionality is provided via the ``get/set_orthogonal_selection()`` methods. For convenience, this functionality is also available via the ``.oindex[]`` property."
   ]
  },
  {
   "cell_type": "code",
   "execution_count": 20,
   "metadata": {},
   "outputs": [
    {
     "data": {
      "text/plain": [
       "array([[ 0,  1,  2],\n",
       "       [ 3,  4,  5],\n",
       "       [ 6,  7,  8],\n",
       "       [ 9, 10, 11],\n",
       "       [12, 13, 14]])"
      ]
     },
     "execution_count": 20,
     "metadata": {},
     "output_type": "execute_result"
    }
   ],
   "source": [
    "a = np.arange(15).reshape(5, 3)\n",
    "za = zarr.array(a, chunks=(3, 2))\n",
    "za[:]"
   ]
  },
  {
   "cell_type": "code",
   "execution_count": 21,
   "metadata": {},
   "outputs": [
    {
     "data": {
      "text/plain": [
       "array([[ 3,  5],\n",
       "       [ 9, 11]])"
      ]
     },
     "execution_count": 21,
     "metadata": {},
     "output_type": "execute_result"
    }
   ],
   "source": [
    "# orthogonal indexing with Boolean arrays\n",
    "ix0 = [False, True, False, True, False]\n",
    "ix1 = [True, False, True]\n",
    "za.get_orthogonal_selection((ix0, ix1))"
   ]
  },
  {
   "cell_type": "code",
   "execution_count": 22,
   "metadata": {},
   "outputs": [
    {
     "data": {
      "text/plain": [
       "array([[ 3,  5],\n",
       "       [ 9, 11]])"
      ]
     },
     "execution_count": 22,
     "metadata": {},
     "output_type": "execute_result"
    }
   ],
   "source": [
    "# alternative API\n",
    "za.oindex[ix0, ix1]"
   ]
  },
  {
   "cell_type": "code",
   "execution_count": 23,
   "metadata": {},
   "outputs": [
    {
     "data": {
      "text/plain": [
       "array([[ 3,  5],\n",
       "       [ 9, 11]])"
      ]
     },
     "execution_count": 23,
     "metadata": {},
     "output_type": "execute_result"
    }
   ],
   "source": [
    "# orthogonal indexing with integer arrays\n",
    "ix0 = [1, 3]\n",
    "ix1 = [0, 2]\n",
    "za.get_orthogonal_selection((ix0, ix1))"
   ]
  },
  {
   "cell_type": "code",
   "execution_count": 24,
   "metadata": {},
   "outputs": [
    {
     "data": {
      "text/plain": [
       "array([[ 3,  5],\n",
       "       [ 9, 11]])"
      ]
     },
     "execution_count": 24,
     "metadata": {},
     "output_type": "execute_result"
    }
   ],
   "source": [
    "# alternative API\n",
    "za.oindex[ix0, ix1]"
   ]
  },
  {
   "cell_type": "code",
   "execution_count": 25,
   "metadata": {},
   "outputs": [
    {
     "data": {
      "text/plain": [
       "array([[ 3,  4,  5],\n",
       "       [ 9, 10, 11]])"
      ]
     },
     "execution_count": 25,
     "metadata": {},
     "output_type": "execute_result"
    }
   ],
   "source": [
    "# combine with slice\n",
    "za.oindex[[1,  3], :]"
   ]
  },
  {
   "cell_type": "code",
   "execution_count": 26,
   "metadata": {},
   "outputs": [
    {
     "data": {
      "text/plain": [
       "array([[ 0,  2],\n",
       "       [ 3,  5],\n",
       "       [ 6,  8],\n",
       "       [ 9, 11],\n",
       "       [12, 14]])"
      ]
     },
     "execution_count": 26,
     "metadata": {},
     "output_type": "execute_result"
    }
   ],
   "source": [
    "# combine with slice\n",
    "za.oindex[:, [0, 2]]"
   ]
  },
  {
   "cell_type": "code",
   "execution_count": 27,
   "metadata": {},
   "outputs": [
    {
     "data": {
      "text/plain": [
       "array([[ 0,  1,  2],\n",
       "       [42,  4, 42],\n",
       "       [ 6,  7,  8],\n",
       "       [42, 10, 42],\n",
       "       [12, 13, 14]])"
      ]
     },
     "execution_count": 27,
     "metadata": {},
     "output_type": "execute_result"
    }
   ],
   "source": [
    "# set items via Boolean selection\n",
    "ix0 = [False, True, False, True, False]\n",
    "ix1 = [True, False, True]\n",
    "selection = ix0, ix1\n",
    "value = 42\n",
    "za.set_orthogonal_selection(selection, value)\n",
    "za[:]"
   ]
  },
  {
   "cell_type": "code",
   "execution_count": 28,
   "metadata": {},
   "outputs": [
    {
     "data": {
      "text/plain": [
       "array([[ 0,  1,  2],\n",
       "       [44,  4, 44],\n",
       "       [ 6,  7,  8],\n",
       "       [44, 10, 44],\n",
       "       [12, 13, 14]])"
      ]
     },
     "execution_count": 28,
     "metadata": {},
     "output_type": "execute_result"
    }
   ],
   "source": [
    "# alternative API\n",
    "za.oindex[ix0, ix1] = 44\n",
    "za[:]"
   ]
  },
  {
   "cell_type": "code",
   "execution_count": 29,
   "metadata": {},
   "outputs": [
    {
     "data": {
      "text/plain": [
       "array([[ 0,  1,  2],\n",
       "       [46,  4, 46],\n",
       "       [ 6,  7,  8],\n",
       "       [46, 10, 46],\n",
       "       [12, 13, 14]])"
      ]
     },
     "execution_count": 29,
     "metadata": {},
     "output_type": "execute_result"
    }
   ],
   "source": [
    "# set items via integer selection\n",
    "ix0 = [1, 3]\n",
    "ix1 = [0, 2]\n",
    "selection = ix0, ix1\n",
    "value = 46\n",
    "za.set_orthogonal_selection(selection, value)\n",
    "za[:]"
   ]
  },
  {
   "cell_type": "code",
   "execution_count": 30,
   "metadata": {},
   "outputs": [
    {
     "data": {
      "text/plain": [
       "array([[ 0,  1,  2],\n",
       "       [48,  4, 48],\n",
       "       [ 6,  7,  8],\n",
       "       [48, 10, 48],\n",
       "       [12, 13, 14]])"
      ]
     },
     "execution_count": 30,
     "metadata": {},
     "output_type": "execute_result"
    }
   ],
   "source": [
    "# alternative API\n",
    "za.oindex[ix0, ix1] = 48\n",
    "za[:]"
   ]
  },
  {
   "cell_type": "markdown",
   "metadata": {},
   "source": [
    "### Coordinate indexing of multi-dimensional arrays\n",
    "\n",
    "Selecting arbitrary points from a multi-dimensional array by indexing with integer (coordinate) arrays is supported. This functionality is provided via the ``get/set_coordinate_selection()`` methods. For convenience, this functionality is also available via the ``.vindex[]`` property."
   ]
  },
  {
   "cell_type": "code",
   "execution_count": 31,
   "metadata": {},
   "outputs": [
    {
     "data": {
      "text/plain": [
       "array([[ 0,  1,  2],\n",
       "       [ 3,  4,  5],\n",
       "       [ 6,  7,  8],\n",
       "       [ 9, 10, 11],\n",
       "       [12, 13, 14]])"
      ]
     },
     "execution_count": 31,
     "metadata": {},
     "output_type": "execute_result"
    }
   ],
   "source": [
    "a = np.arange(15).reshape(5, 3)\n",
    "za = zarr.array(a, chunks=(3, 2))\n",
    "za[:]"
   ]
  },
  {
   "cell_type": "code",
   "execution_count": 32,
   "metadata": {},
   "outputs": [
    {
     "data": {
      "text/plain": [
       "array([ 3, 11])"
      ]
     },
     "execution_count": 32,
     "metadata": {},
     "output_type": "execute_result"
    }
   ],
   "source": [
    "# get items\n",
    "ix0 = [1, 3]\n",
    "ix1 = [0, 2]\n",
    "za.get_coordinate_selection((ix0, ix1))"
   ]
  },
  {
   "cell_type": "code",
   "execution_count": 33,
   "metadata": {},
   "outputs": [
    {
     "data": {
      "text/plain": [
       "array([ 3, 11])"
      ]
     },
     "execution_count": 33,
     "metadata": {},
     "output_type": "execute_result"
    }
   ],
   "source": [
    "# alternative API\n",
    "za.vindex[ix0, ix1]"
   ]
  },
  {
   "cell_type": "code",
   "execution_count": 34,
   "metadata": {},
   "outputs": [
    {
     "data": {
      "text/plain": [
       "array([[ 0,  1,  2],\n",
       "       [42,  4,  5],\n",
       "       [ 6,  7,  8],\n",
       "       [ 9, 10, 42],\n",
       "       [12, 13, 14]])"
      ]
     },
     "execution_count": 34,
     "metadata": {},
     "output_type": "execute_result"
    }
   ],
   "source": [
    "# set items\n",
    "za.set_coordinate_selection((ix0, ix1), 42)\n",
    "za[:]"
   ]
  },
  {
   "cell_type": "code",
   "execution_count": 35,
   "metadata": {},
   "outputs": [
    {
     "data": {
      "text/plain": [
       "array([[ 0,  1,  2],\n",
       "       [44,  4,  5],\n",
       "       [ 6,  7,  8],\n",
       "       [ 9, 10, 44],\n",
       "       [12, 13, 14]])"
      ]
     },
     "execution_count": 35,
     "metadata": {},
     "output_type": "execute_result"
    }
   ],
   "source": [
    "# alternative API\n",
    "za.vindex[ix0, ix1] = 44\n",
    "za[:]"
   ]
  },
  {
   "cell_type": "markdown",
   "metadata": {},
   "source": [
    "### Mask indexing of multi-dimensional arrays\n",
    "\n",
    "Selecting arbitrary points from a multi-dimensional array by a Boolean array is supported. This functionality is provided via the ``get/set_mask_selection()`` methods. For convenience, this functionality is also available via the ``.vindex[]`` property."
   ]
  },
  {
   "cell_type": "code",
   "execution_count": 36,
   "metadata": {},
   "outputs": [
    {
     "data": {
      "text/plain": [
       "array([[ 0,  1,  2],\n",
       "       [ 3,  4,  5],\n",
       "       [ 6,  7,  8],\n",
       "       [ 9, 10, 11],\n",
       "       [12, 13, 14]])"
      ]
     },
     "execution_count": 36,
     "metadata": {},
     "output_type": "execute_result"
    }
   ],
   "source": [
    "a = np.arange(15).reshape(5, 3)\n",
    "za = zarr.array(a, chunks=(3, 2))\n",
    "za[:]"
   ]
  },
  {
   "cell_type": "code",
   "execution_count": 37,
   "metadata": {},
   "outputs": [
    {
     "data": {
      "text/plain": [
       "array([ 3, 11])"
      ]
     },
     "execution_count": 37,
     "metadata": {},
     "output_type": "execute_result"
    }
   ],
   "source": [
    "ix = np.zeros_like(a, dtype=bool)\n",
    "ix[1, 0] = True\n",
    "ix[3, 2] = True\n",
    "za.get_mask_selection(ix)"
   ]
  },
  {
   "cell_type": "code",
   "execution_count": 38,
   "metadata": {},
   "outputs": [
    {
     "data": {
      "text/plain": [
       "array([ 3, 11])"
      ]
     },
     "execution_count": 38,
     "metadata": {},
     "output_type": "execute_result"
    }
   ],
   "source": [
    "za.vindex[ix]"
   ]
  },
  {
   "cell_type": "code",
   "execution_count": 39,
   "metadata": {},
   "outputs": [
    {
     "data": {
      "text/plain": [
       "array([[ 0,  1,  2],\n",
       "       [42,  4,  5],\n",
       "       [ 6,  7,  8],\n",
       "       [ 9, 10, 42],\n",
       "       [12, 13, 14]])"
      ]
     },
     "execution_count": 39,
     "metadata": {},
     "output_type": "execute_result"
    }
   ],
   "source": [
    "za.set_mask_selection(ix, 42)\n",
    "za[:]"
   ]
  },
  {
   "cell_type": "code",
   "execution_count": 40,
   "metadata": {},
   "outputs": [
    {
     "data": {
      "text/plain": [
       "array([[ 0,  1,  2],\n",
       "       [44,  4,  5],\n",
       "       [ 6,  7,  8],\n",
       "       [ 9, 10, 44],\n",
       "       [12, 13, 14]])"
      ]
     },
     "execution_count": 40,
     "metadata": {},
     "output_type": "execute_result"
    }
   ],
   "source": [
    "za.vindex[ix] = 44\n",
    "za[:]"
   ]
  },
  {
   "cell_type": "markdown",
   "metadata": {},
   "source": [
    "## 1D Benchmarking"
   ]
  },
  {
   "cell_type": "code",
   "execution_count": 41,
   "metadata": {},
   "outputs": [
    {
     "data": {
      "text/plain": [
       "800000000"
      ]
     },
     "execution_count": 41,
     "metadata": {},
     "output_type": "execute_result"
    }
   ],
   "source": [
    "c = np.arange(100000000)\n",
    "c.nbytes"
   ]
  },
  {
   "cell_type": "code",
   "execution_count": 42,
   "metadata": {},
   "outputs": [
    {
     "name": "stdout",
     "output_type": "stream",
     "text": [
      "CPU times: user 392 ms, sys: 84 ms, total: 476 ms\n",
      "Wall time: 124 ms\n"
     ]
    },
    {
     "data": {
      "text/html": [
       "<table class=\"zarr-info\"><tbody><tr><th style=\"text-align: left\">Type</th><td style=\"text-align: left\">zarr.core.Array</td></tr><tr><th style=\"text-align: left\">Data type</th><td style=\"text-align: left\">int64</td></tr><tr><th style=\"text-align: left\">Shape</th><td style=\"text-align: left\">(100000000,)</td></tr><tr><th style=\"text-align: left\">Chunk shape</th><td style=\"text-align: left\">(97657,)</td></tr><tr><th style=\"text-align: left\">Order</th><td style=\"text-align: left\">C</td></tr><tr><th style=\"text-align: left\">Read-only</th><td style=\"text-align: left\">False</td></tr><tr><th style=\"text-align: left\">Compressor</th><td style=\"text-align: left\">Blosc(cname='lz4', clevel=5, shuffle=SHUFFLE, blocksize=0)</td></tr><tr><th style=\"text-align: left\">Store type</th><td style=\"text-align: left\">builtins.dict</td></tr><tr><th style=\"text-align: left\">No. bytes</th><td style=\"text-align: left\">800000000 (762.9M)</td></tr><tr><th style=\"text-align: left\">No. bytes stored</th><td style=\"text-align: left\">11854081 (11.3M)</td></tr><tr><th style=\"text-align: left\">Storage ratio</th><td style=\"text-align: left\">67.5</td></tr><tr><th style=\"text-align: left\">Chunks initialized</th><td style=\"text-align: left\">1024/1024</td></tr></tbody></table>"
      ],
      "text/plain": [
       "Type               : zarr.core.Array\n",
       "Data type          : int64\n",
       "Shape              : (100000000,)\n",
       "Chunk shape        : (97657,)\n",
       "Order              : C\n",
       "Read-only          : False\n",
       "Compressor         : Blosc(cname='lz4', clevel=5, shuffle=SHUFFLE, blocksize=0)\n",
       "Store type         : builtins.dict\n",
       "No. bytes          : 800000000 (762.9M)\n",
       "No. bytes stored   : 11854081 (11.3M)\n",
       "Storage ratio      : 67.5\n",
       "Chunks initialized : 1024/1024"
      ]
     },
     "execution_count": 42,
     "metadata": {},
     "output_type": "execute_result"
    }
   ],
   "source": [
    "%time zc = zarr.array(c)\n",
    "zc.info"
   ]
  },
  {
   "cell_type": "code",
   "execution_count": 43,
   "metadata": {},
   "outputs": [
    {
     "name": "stdout",
     "output_type": "stream",
     "text": [
      "CPU times: user 88 ms, sys: 52 ms, total: 140 ms\n",
      "Wall time: 143 ms\n"
     ]
    },
    {
     "data": {
      "text/plain": [
       "array([       0,        1,        2, ..., 99999997, 99999998, 99999999])"
      ]
     },
     "execution_count": 43,
     "metadata": {},
     "output_type": "execute_result"
    }
   ],
   "source": [
    "%time c.copy()"
   ]
  },
  {
   "cell_type": "code",
   "execution_count": 44,
   "metadata": {},
   "outputs": [
    {
     "name": "stdout",
     "output_type": "stream",
     "text": [
      "CPU times: user 408 ms, sys: 88 ms, total: 496 ms\n",
      "Wall time: 213 ms\n"
     ]
    },
    {
     "data": {
      "text/plain": [
       "array([       0,        1,        2, ..., 99999997, 99999998, 99999999])"
      ]
     },
     "execution_count": 44,
     "metadata": {},
     "output_type": "execute_result"
    }
   ],
   "source": [
    "%time zc[:]"
   ]
  },
  {
   "cell_type": "markdown",
   "metadata": {},
   "source": [
    "### bool dense selection"
   ]
  },
  {
   "cell_type": "code",
   "execution_count": 45,
   "metadata": {},
   "outputs": [
    {
     "data": {
      "text/plain": [
       "9997476"
      ]
     },
     "execution_count": 45,
     "metadata": {},
     "output_type": "execute_result"
    }
   ],
   "source": [
    "# relatively dense selection - 10%\n",
    "ix_dense_bool = np.random.binomial(1, 0.1, size=c.shape[0]).astype(bool)\n",
    "np.count_nonzero(ix_dense_bool)"
   ]
  },
  {
   "cell_type": "code",
   "execution_count": 46,
   "metadata": {},
   "outputs": [
    {
     "name": "stdout",
     "output_type": "stream",
     "text": [
      "CPU times: user 256 ms, sys: 4 ms, total: 260 ms\n",
      "Wall time: 258 ms\n"
     ]
    },
    {
     "data": {
      "text/plain": [
       "array([       1,       11,       33, ..., 99999988, 99999989, 99999990])"
      ]
     },
     "execution_count": 46,
     "metadata": {},
     "output_type": "execute_result"
    }
   ],
   "source": [
    "%time c[ix_dense_bool]"
   ]
  },
  {
   "cell_type": "code",
   "execution_count": 47,
   "metadata": {},
   "outputs": [
    {
     "name": "stdout",
     "output_type": "stream",
     "text": [
      "CPU times: user 864 ms, sys: 108 ms, total: 972 ms\n",
      "Wall time: 439 ms\n"
     ]
    },
    {
     "data": {
      "text/plain": [
       "array([       1,       11,       33, ..., 99999988, 99999989, 99999990])"
      ]
     },
     "execution_count": 47,
     "metadata": {},
     "output_type": "execute_result"
    }
   ],
   "source": [
    "%time zc.oindex[ix_dense_bool]"
   ]
  },
  {
   "cell_type": "code",
   "execution_count": 48,
   "metadata": {},
   "outputs": [
    {
     "name": "stdout",
     "output_type": "stream",
     "text": [
      "CPU times: user 808 ms, sys: 32 ms, total: 840 ms\n",
      "Wall time: 564 ms\n"
     ]
    },
    {
     "data": {
      "text/plain": [
       "array([       1,       11,       33, ..., 99999988, 99999989, 99999990])"
      ]
     },
     "execution_count": 48,
     "metadata": {},
     "output_type": "execute_result"
    }
   ],
   "source": [
    "%time zc.vindex[ix_dense_bool]"
   ]
  },
  {
   "cell_type": "code",
   "execution_count": 49,
   "metadata": {},
   "outputs": [
    {
     "name": "stdout",
     "output_type": "stream",
     "text": [
      "         67653 function calls in 0.490 seconds\n",
      "\n",
      "   Ordered by: internal time\n",
      "\n",
      "   ncalls  tottime  percall  cumtime  percall filename:lineno(function)\n",
      "     1025    0.201    0.000    0.201    0.000 {method 'nonzero' of 'numpy.ndarray' objects}\n",
      "     1024    0.158    0.000    0.167    0.000 core.py:997(_decode_chunk)\n",
      "     1024    0.047    0.000    0.234    0.000 core.py:822(_chunk_getitem)\n",
      "     1024    0.012    0.000    0.012    0.000 {built-in method numpy.core.multiarray.count_nonzero}\n",
      "     1025    0.007    0.000    0.238    0.000 indexing.py:484(__iter__)\n",
      "     1024    0.006    0.000    0.212    0.000 index_tricks.py:26(ix_)\n",
      "     2048    0.005    0.000    0.005    0.000 core.py:332(<genexpr>)\n",
      "     2048    0.005    0.000    0.005    0.000 {method 'reshape' of 'numpy.ndarray' objects}\n",
      "     7180    0.004    0.000    0.009    0.000 {built-in method builtins.isinstance}\n",
      "        1    0.004    0.004    0.476    0.476 core.py:576(_get_selection)\n",
      "     1024    0.004    0.000    0.004    0.000 {built-in method numpy.core.multiarray.frombuffer}\n",
      "     2049    0.003    0.000    0.005    0.000 abc.py:178(__instancecheck__)\n",
      "     1024    0.003    0.000    0.006    0.000 arrayprint.py:381(wrapper)\n",
      "     1024    0.003    0.000    0.009    0.000 {method 'join' of 'str' objects}\n",
      "     1024    0.002    0.000    0.221    0.000 indexing.py:377(ix_)\n",
      "     1025    0.002    0.000    0.003    0.000 indexing.py:275(__iter__)\n",
      "     1024    0.002    0.000    0.007    0.000 core.py:327(_cdata_shape)\n",
      "     4098    0.002    0.000    0.002    0.000 _weakrefset.py:70(__contains__)\n",
      "     1024    0.002    0.000    0.002    0.000 arrayprint.py:399(array2string)\n",
      "        1    0.002    0.002    0.014    0.014 indexing.py:248(__init__)\n",
      "     1024    0.001    0.000    0.002    0.000 numerictypes.py:728(issubdtype)\n",
      "     1024    0.001    0.000    0.011    0.000 core.py:994(_chunk_key)\n",
      "     1024    0.001    0.000    0.007    0.000 numeric.py:1905(array_str)\n",
      "     1024    0.001    0.000    0.006    0.000 indexing.py:384(<listcomp>)\n",
      "     1024    0.001    0.000    0.004    0.000 indexing.py:501(<listcomp>)\n",
      "     2048    0.001    0.000    0.001    0.000 {built-in method __new__ of type object at 0x55f19771c480}\n",
      "     2048    0.001    0.000    0.001    0.000 indexing.py:487(<genexpr>)\n",
      "     1024    0.001    0.000    0.001    0.000 threading.py:1230(current_thread)\n",
      "     1024    0.001    0.000    0.001    0.000 {built-in method numpy.core.multiarray.array}\n",
      "     1025    0.001    0.000    0.004    0.000 indexing.py:11(is_integer)\n",
      "     3079    0.001    0.000    0.001    0.000 {built-in method builtins.len}\n",
      "     2048    0.001    0.000    0.001    0.000 indexing.py:489(<genexpr>)\n",
      "     1024    0.001    0.000    0.001    0.000 <string>:12(__new__)\n",
      "     1027    0.000    0.000    0.001    0.000 indexing.py:165(ensure_tuple)\n",
      "     1024    0.000    0.000    0.001    0.000 numerictypes.py:660(issubclass_)\n",
      "     2048    0.000    0.000    0.000    0.000 {built-in method _thread.get_ident}\n",
      "     2048    0.000    0.000    0.000    0.000 {built-in method builtins.issubclass}\n",
      "     1024    0.000    0.000    0.012    0.000 numeric.py:380(count_nonzero)\n",
      "     1024    0.000    0.000    0.001    0.000 numeric.py:463(asarray)\n",
      "     1024    0.000    0.000    0.000    0.000 core.py:213(chunk_store)\n",
      "     2048    0.000    0.000    0.000    0.000 indexing.py:488(<genexpr>)\n",
      "     1024    0.000    0.000    0.000    0.000 {method 'item' of 'numpy.ndarray' objects}\n",
      "     1025    0.000    0.000    0.000    0.000 {built-in method builtins.any}\n",
      "        1    0.000    0.000    0.491    0.491 <string>:1(<module>)\n",
      "     1024    0.000    0.000    0.000    0.000 {method 'add' of 'set' objects}\n",
      "     1024    0.000    0.000    0.000    0.000 {method 'discard' of 'set' objects}\n",
      "     1024    0.000    0.000    0.000    0.000 threading.py:1304(main_thread)\n",
      "     1025    0.000    0.000    0.000    0.000 {method 'append' of 'list' objects}\n",
      "     1024    0.000    0.000    0.000    0.000 {built-in method builtins.id}\n",
      "        1    0.000    0.000    0.491    0.491 {built-in method builtins.exec}\n",
      "        1    0.000    0.000    0.014    0.014 indexing.py:420(__init__)\n",
      "        2    0.000    0.000    0.000    0.000 {built-in method numpy.core.multiarray.zeros}\n",
      "        1    0.000    0.000    0.000    0.000 {method 'cumsum' of 'numpy.ndarray' objects}\n",
      "        1    0.000    0.000    0.000    0.000 {built-in method numpy.core.multiarray.empty}\n",
      "        1    0.000    0.000    0.490    0.490 indexing.py:512(__getitem__)\n",
      "        2    0.000    0.000    0.000    0.000 indexing.py:543(replace_lists)\n",
      "        1    0.000    0.000    0.000    0.000 indexing.py:130(replace_ellipsis)\n",
      "        2    0.000    0.000    0.000    0.000 fromnumeric.py:55(_wrapfunc)\n",
      "        1    0.000    0.000    0.000    0.000 indexing.py:721(pop_fields)\n",
      "        1    0.000    0.000    0.490    0.490 core.py:531(get_orthogonal_selection)\n",
      "        1    0.000    0.000    0.000    0.000 indexing.py:15(is_integer_array)\n",
      "        1    0.000    0.000    0.000    0.000 indexing.py:19(is_bool_array)\n",
      "        4    0.000    0.000    0.000    0.000 indexing.py:545(<genexpr>)\n",
      "        2    0.000    0.000    0.000    0.000 {built-in method builtins.getattr}\n",
      "        1    0.000    0.000    0.000    0.000 fromnumeric.py:2053(cumsum)\n",
      "        2    0.000    0.000    0.000    0.000 {built-in method builtins.hasattr}\n",
      "        1    0.000    0.000    0.000    0.000 {built-in method builtins.sum}\n",
      "        2    0.000    0.000    0.000    0.000 indexing.py:474(<genexpr>)\n",
      "        1    0.000    0.000    0.000    0.000 indexing.py:476(<listcomp>)\n",
      "        1    0.000    0.000    0.000    0.000 core.py:367(oindex)\n",
      "        1    0.000    0.000    0.000    0.000 indexing.py:135(<genexpr>)\n",
      "        1    0.000    0.000    0.000    0.000 indexing.py:701(check_fields)\n",
      "        1    0.000    0.000    0.000    0.000 fromnumeric.py:1487(nonzero)\n",
      "        1    0.000    0.000    0.000    0.000 {method 'disable' of '_lsprof.Profiler' objects}\n",
      "        1    0.000    0.000    0.000    0.000 indexing.py:479(<listcomp>)\n",
      "\n",
      "\n"
     ]
    }
   ],
   "source": [
    "cProfile.run('zc.oindex[ix_dense_bool]', sort='time')"
   ]
  },
  {
   "cell_type": "markdown",
   "metadata": {},
   "source": [
    "Method ``nonzero`` is being called internally within numpy to convert bool to int selections, no way to avoid."
   ]
  },
  {
   "cell_type": "code",
   "execution_count": 50,
   "metadata": {},
   "outputs": [
    {
     "name": "stdout",
     "output_type": "stream",
     "text": [
      "         43161 function calls in 0.575 seconds\n",
      "\n",
      "   Ordered by: internal time\n",
      "\n",
      "   ncalls  tottime  percall  cumtime  percall filename:lineno(function)\n",
      "        2    0.215    0.108    0.215    0.108 {method 'nonzero' of 'numpy.ndarray' objects}\n",
      "        2    0.094    0.047    0.094    0.047 indexing.py:580(<genexpr>)\n",
      "     1024    0.093    0.000    0.098    0.000 core.py:997(_decode_chunk)\n",
      "     1024    0.042    0.000    0.157    0.000 core.py:822(_chunk_getitem)\n",
      "        1    0.028    0.028    0.028    0.028 {built-in method numpy.core.multiarray.ravel_multi_index}\n",
      "        1    0.023    0.023    0.023    0.023 {built-in method numpy.core.multiarray.bincount}\n",
      "        1    0.021    0.021    0.179    0.179 indexing.py:553(__init__)\n",
      "     2048    0.011    0.000    0.011    0.000 indexing.py:645(<genexpr>)\n",
      "        1    0.010    0.010    0.010    0.010 function_base.py:1848(diff)\n",
      "     1025    0.008    0.000    0.021    0.000 indexing.py:624(__iter__)\n",
      "     2054    0.003    0.000    0.003    0.000 core.py:332(<genexpr>)\n",
      "        4    0.003    0.001    0.003    0.001 {method 'reduce' of 'numpy.ufunc' objects}\n",
      "        1    0.002    0.002    0.180    0.180 core.py:576(_get_selection)\n",
      "     1024    0.002    0.000    0.005    0.000 arrayprint.py:381(wrapper)\n",
      "     1026    0.002    0.000    0.002    0.000 {method 'reshape' of 'numpy.ndarray' objects}\n",
      "     1024    0.002    0.000    0.003    0.000 util.py:113(is_total_slice)\n",
      "     1024    0.002    0.000    0.007    0.000 {method 'join' of 'str' objects}\n",
      "     1024    0.002    0.000    0.002    0.000 {built-in method numpy.core.multiarray.frombuffer}\n",
      "     1027    0.002    0.000    0.005    0.000 core.py:327(_cdata_shape)\n",
      "     1024    0.001    0.000    0.002    0.000 arrayprint.py:399(array2string)\n",
      "     6155    0.001    0.000    0.001    0.000 {built-in method builtins.isinstance}\n",
      "     1024    0.001    0.000    0.005    0.000 numeric.py:1905(array_str)\n",
      "     1024    0.001    0.000    0.008    0.000 core.py:994(_chunk_key)\n",
      "     2048    0.001    0.000    0.001    0.000 util.py:128(<genexpr>)\n",
      "        1    0.001    0.001    0.395    0.395 indexing.py:655(__init__)\n",
      "     2048    0.001    0.000    0.001    0.000 indexing.py:629(<genexpr>)\n",
      "     2048    0.001    0.000    0.001    0.000 indexing.py:641(<genexpr>)\n",
      "     1024    0.001    0.000    0.001    0.000 threading.py:1230(current_thread)\n",
      "     1024    0.000    0.000    0.000    0.000 {built-in method __new__ of type object at 0x55f19771c480}\n",
      "     1024    0.000    0.000    0.001    0.000 <string>:12(__new__)\n",
      "     2048    0.000    0.000    0.000    0.000 {built-in method _thread.get_ident}\n",
      "     2056    0.000    0.000    0.000    0.000 {built-in method builtins.len}\n",
      "     1028    0.000    0.000    0.001    0.000 {built-in method builtins.all}\n",
      "     1024    0.000    0.000    0.000    0.000 core.py:213(chunk_store)\n",
      "     1024    0.000    0.000    0.000    0.000 {method 'item' of 'numpy.ndarray' objects}\n",
      "        1    0.000    0.000    0.575    0.575 indexing.py:678(__getitem__)\n",
      "     1024    0.000    0.000    0.000    0.000 {method 'add' of 'set' objects}\n",
      "        1    0.000    0.000    0.575    0.575 <string>:1(<module>)\n",
      "     1024    0.000    0.000    0.000    0.000 threading.py:1304(main_thread)\n",
      "     1024    0.000    0.000    0.000    0.000 {method 'discard' of 'set' objects}\n",
      "     1024    0.000    0.000    0.000    0.000 {built-in method builtins.id}\n",
      "        4    0.000    0.000    0.003    0.001 fromnumeric.py:1886(any)\n",
      "        1    0.000    0.000    0.575    0.575 {built-in method builtins.exec}\n",
      "        1    0.000    0.000    0.000    0.000 {built-in method numpy.core.multiarray.unravel_index}\n",
      "        2    0.000    0.000    0.000    0.000 stride_tricks.py:195(broadcast_arrays)\n",
      "        2    0.000    0.000    0.000    0.000 stride_tricks.py:176(_broadcast_shape)\n",
      "        4    0.000    0.000    0.003    0.001 {method 'any' of 'numpy.ndarray' objects}\n",
      "        7    0.000    0.000    0.000    0.000 {built-in method numpy.core.multiarray.array}\n",
      "        1    0.000    0.000    0.000    0.000 {built-in method numpy.core.multiarray.empty}\n",
      "        3    0.000    0.000    0.000    0.000 abc.py:178(__instancecheck__)\n",
      "        1    0.000    0.000    0.000    0.000 {method 'cumsum' of 'numpy.ndarray' objects}\n",
      "        3    0.000    0.000    0.215    0.072 fromnumeric.py:55(_wrapfunc)\n",
      "        5    0.000    0.000    0.000    0.000 numeric.py:534(asanyarray)\n",
      "        1    0.000    0.000    0.575    0.575 core.py:564(get_mask_selection)\n",
      "        2    0.000    0.000    0.000    0.000 indexing.py:526(is_coordinate_selection)\n",
      "        1    0.000    0.000    0.000    0.000 core.py:342(_nchunks)\n",
      "        3    0.000    0.000    0.000    0.000 indexing.py:543(replace_lists)\n",
      "        4    0.000    0.000    0.003    0.001 _methods.py:37(_any)\n",
      "        2    0.000    0.000    0.000    0.000 core.py:161(_refresh_metadata)\n",
      "        2    0.000    0.000    0.000    0.000 indexing.py:529(<listcomp>)\n",
      "        2    0.000    0.000    0.215    0.108 fromnumeric.py:1487(nonzero)\n",
      "        6    0.000    0.000    0.000    0.000 _weakrefset.py:70(__contains__)\n",
      "        2    0.000    0.000    0.000    0.000 indexing.py:15(is_integer_array)\n",
      "        3    0.000    0.000    0.000    0.000 indexing.py:11(is_integer)\n",
      "        2    0.000    0.000    0.000    0.000 indexing.py:535(is_mask_selection)\n",
      "        2    0.000    0.000    0.000    0.000 indexing.py:19(is_bool_array)\n",
      "        3    0.000    0.000    0.000    0.000 indexing.py:165(ensure_tuple)\n",
      "        1    0.000    0.000    0.000    0.000 indexing.py:721(pop_fields)\n",
      "        1    0.000    0.000    0.000    0.000 core.py:346(nchunks)\n",
      "        3    0.000    0.000    0.000    0.000 {built-in method builtins.getattr}\n",
      "        4    0.000    0.000    0.000    0.000 {built-in method builtins.hasattr}\n",
      "        1    0.000    0.000    0.000    0.000 indexing.py:592(<listcomp>)\n",
      "        1    0.000    0.000    0.000    0.000 indexing.py:593(<listcomp>)\n",
      "        2    0.000    0.000    0.000    0.000 stride_tricks.py:247(<listcomp>)\n",
      "        4    0.000    0.000    0.000    0.000 stride_tricks.py:251(<genexpr>)\n",
      "        1    0.000    0.000    0.000    0.000 fromnumeric.py:2053(cumsum)\n",
      "        1    0.000    0.000    0.000    0.000 core.py:221(shape)\n",
      "        1    0.000    0.000    0.000    0.000 {built-in method _functools.reduce}\n",
      "        6    0.000    0.000    0.000    0.000 indexing.py:545(<genexpr>)\n",
      "        2    0.000    0.000    0.000    0.000 indexing.py:557(<genexpr>)\n",
      "        2    0.000    0.000    0.000    0.000 {method 'pop' of 'dict' objects}\n",
      "        1    0.000    0.000    0.000    0.000 indexing.py:701(check_fields)\n",
      "        1    0.000    0.000    0.000    0.000 core.py:372(vindex)\n",
      "        1    0.000    0.000    0.000    0.000 {method 'disable' of '_lsprof.Profiler' objects}\n",
      "\n",
      "\n"
     ]
    }
   ],
   "source": [
    "cProfile.run('zc.vindex[ix_dense_bool]', sort='time')"
   ]
  },
  {
   "cell_type": "markdown",
   "metadata": {},
   "source": [
    "``.vindex[]`` is a bit slower, possibly because internally it converts to a coordinate array first."
   ]
  },
  {
   "cell_type": "markdown",
   "metadata": {},
   "source": [
    "### int dense selection"
   ]
  },
  {
   "cell_type": "code",
   "execution_count": 51,
   "metadata": {},
   "outputs": [
    {
     "data": {
      "text/plain": [
       "10000000"
      ]
     },
     "execution_count": 51,
     "metadata": {},
     "output_type": "execute_result"
    }
   ],
   "source": [
    "ix_dense_int = np.random.choice(c.shape[0], size=c.shape[0]//10, replace=True)\n",
    "ix_dense_int_sorted = ix_dense_int.copy()\n",
    "ix_dense_int_sorted.sort()\n",
    "len(ix_dense_int)"
   ]
  },
  {
   "cell_type": "code",
   "execution_count": 52,
   "metadata": {},
   "outputs": [
    {
     "name": "stdout",
     "output_type": "stream",
     "text": [
      "CPU times: user 64 ms, sys: 4 ms, total: 68 ms\n",
      "Wall time: 64.4 ms\n"
     ]
    },
    {
     "data": {
      "text/plain": [
       "array([       0,       33,       42, ..., 99999987, 99999994, 99999999])"
      ]
     },
     "execution_count": 52,
     "metadata": {},
     "output_type": "execute_result"
    }
   ],
   "source": [
    "%time c[ix_dense_int_sorted]"
   ]
  },
  {
   "cell_type": "code",
   "execution_count": 53,
   "metadata": {},
   "outputs": [
    {
     "name": "stdout",
     "output_type": "stream",
     "text": [
      "CPU times: user 560 ms, sys: 52 ms, total: 612 ms\n",
      "Wall time: 354 ms\n"
     ]
    },
    {
     "data": {
      "text/plain": [
       "array([       0,       33,       42, ..., 99999987, 99999994, 99999999])"
      ]
     },
     "execution_count": 53,
     "metadata": {},
     "output_type": "execute_result"
    }
   ],
   "source": [
    "%time zc.oindex[ix_dense_int_sorted]"
   ]
  },
  {
   "cell_type": "code",
   "execution_count": 54,
   "metadata": {},
   "outputs": [
    {
     "name": "stdout",
     "output_type": "stream",
     "text": [
      "CPU times: user 588 ms, sys: 60 ms, total: 648 ms\n",
      "Wall time: 367 ms\n"
     ]
    },
    {
     "data": {
      "text/plain": [
       "array([       0,       33,       42, ..., 99999987, 99999994, 99999999])"
      ]
     },
     "execution_count": 54,
     "metadata": {},
     "output_type": "execute_result"
    }
   ],
   "source": [
    "%time zc.vindex[ix_dense_int_sorted]"
   ]
  },
  {
   "cell_type": "code",
   "execution_count": 55,
   "metadata": {},
   "outputs": [
    {
     "name": "stdout",
     "output_type": "stream",
     "text": [
      "CPU times: user 124 ms, sys: 0 ns, total: 124 ms\n",
      "Wall time: 123 ms\n"
     ]
    },
    {
     "data": {
      "text/plain": [
       "array([23268249, 15578653,     7864, ..., 68558269,  7682216, 66838288])"
      ]
     },
     "execution_count": 55,
     "metadata": {},
     "output_type": "execute_result"
    }
   ],
   "source": [
    "%time c[ix_dense_int]"
   ]
  },
  {
   "cell_type": "code",
   "execution_count": 56,
   "metadata": {},
   "outputs": [
    {
     "name": "stdout",
     "output_type": "stream",
     "text": [
      "CPU times: user 1.94 s, sys: 68 ms, total: 2.01 s\n",
      "Wall time: 1.71 s\n"
     ]
    },
    {
     "data": {
      "text/plain": [
       "array([23268249, 15578653,     7864, ..., 68558269,  7682216, 66838288])"
      ]
     },
     "execution_count": 56,
     "metadata": {},
     "output_type": "execute_result"
    }
   ],
   "source": [
    "%time zc.oindex[ix_dense_int]"
   ]
  },
  {
   "cell_type": "code",
   "execution_count": 57,
   "metadata": {},
   "outputs": [
    {
     "name": "stdout",
     "output_type": "stream",
     "text": [
      "CPU times: user 1.99 s, sys: 76 ms, total: 2.06 s\n",
      "Wall time: 1.71 s\n"
     ]
    },
    {
     "data": {
      "text/plain": [
       "array([23268249, 15578653,     7864, ..., 68558269,  7682216, 66838288])"
      ]
     },
     "execution_count": 57,
     "metadata": {},
     "output_type": "execute_result"
    }
   ],
   "source": [
    "%time zc.vindex[ix_dense_int]"
   ]
  },
  {
   "cell_type": "code",
   "execution_count": 58,
   "metadata": {},
   "outputs": [
    {
     "name": "stdout",
     "output_type": "stream",
     "text": [
      "         64607 function calls in 0.380 seconds\n",
      "\n",
      "   Ordered by: internal time\n",
      "\n",
      "   ncalls  tottime  percall  cumtime  percall filename:lineno(function)\n",
      "        1    0.135    0.135    0.172    0.172 indexing.py:304(__init__)\n",
      "     1024    0.090    0.000    0.095    0.000 core.py:997(_decode_chunk)\n",
      "     1024    0.043    0.000    0.152    0.000 core.py:822(_chunk_getitem)\n",
      "     1025    0.026    0.000    0.027    0.000 indexing.py:351(__iter__)\n",
      "        1    0.023    0.023    0.023    0.023 {built-in method numpy.core.multiarray.bincount}\n",
      "        1    0.011    0.011    0.011    0.011 function_base.py:1848(diff)\n",
      "     1025    0.006    0.000    0.052    0.000 indexing.py:484(__iter__)\n",
      "     1024    0.004    0.000    0.007    0.000 index_tricks.py:26(ix_)\n",
      "     2048    0.004    0.000    0.004    0.000 core.py:332(<genexpr>)\n",
      "        1    0.003    0.003    0.381    0.381 core.py:531(get_orthogonal_selection)\n",
      "     2048    0.003    0.000    0.003    0.000 {method 'reshape' of 'numpy.ndarray' objects}\n",
      "        4    0.003    0.001    0.003    0.001 {method 'reduce' of 'numpy.ufunc' objects}\n",
      "     7180    0.003    0.000    0.006    0.000 {built-in method builtins.isinstance}\n",
      "     2049    0.002    0.000    0.004    0.000 abc.py:178(__instancecheck__)\n",
      "        1    0.002    0.002    0.206    0.206 core.py:576(_get_selection)\n",
      "     1024    0.002    0.000    0.004    0.000 arrayprint.py:381(wrapper)\n",
      "     1024    0.002    0.000    0.014    0.000 indexing.py:377(ix_)\n",
      "     1024    0.002    0.000    0.007    0.000 {method 'join' of 'str' objects}\n",
      "     1024    0.002    0.000    0.002    0.000 {built-in method numpy.core.multiarray.frombuffer}\n",
      "     1024    0.002    0.000    0.005    0.000 core.py:327(_cdata_shape)\n",
      "     4098    0.002    0.000    0.002    0.000 _weakrefset.py:70(__contains__)\n",
      "     1024    0.001    0.000    0.002    0.000 arrayprint.py:399(array2string)\n",
      "     1024    0.001    0.000    0.002    0.000 numerictypes.py:728(issubdtype)\n",
      "     1024    0.001    0.000    0.008    0.000 core.py:994(_chunk_key)\n",
      "     1024    0.001    0.000    0.004    0.000 indexing.py:384(<listcomp>)\n",
      "     1024    0.001    0.000    0.005    0.000 numeric.py:1905(array_str)\n",
      "     2048    0.001    0.000    0.001    0.000 {built-in method __new__ of type object at 0x55f19771c480}\n",
      "     1024    0.001    0.000    0.003    0.000 indexing.py:501(<listcomp>)\n",
      "     2048    0.001    0.000    0.001    0.000 indexing.py:487(<genexpr>)\n",
      "     1024    0.001    0.000    0.001    0.000 threading.py:1230(current_thread)\n",
      "     3079    0.001    0.000    0.001    0.000 {built-in method builtins.len}\n",
      "     1030    0.000    0.000    0.000    0.000 {built-in method numpy.core.multiarray.array}\n",
      "        1    0.000    0.000    0.172    0.172 indexing.py:420(__init__)\n",
      "     1025    0.000    0.000    0.003    0.000 indexing.py:11(is_integer)\n",
      "     2048    0.000    0.000    0.000    0.000 indexing.py:489(<genexpr>)\n",
      "     1027    0.000    0.000    0.001    0.000 indexing.py:165(ensure_tuple)\n",
      "     1024    0.000    0.000    0.001    0.000 <string>:12(__new__)\n",
      "     2048    0.000    0.000    0.000    0.000 indexing.py:488(<genexpr>)\n",
      "     2048    0.000    0.000    0.000    0.000 {built-in method _thread.get_ident}\n",
      "     1024    0.000    0.000    0.001    0.000 numerictypes.py:660(issubclass_)\n",
      "     2048    0.000    0.000    0.000    0.000 {built-in method builtins.issubclass}\n",
      "     1024    0.000    0.000    0.001    0.000 numeric.py:463(asarray)\n",
      "     1025    0.000    0.000    0.000    0.000 {built-in method builtins.any}\n",
      "     1024    0.000    0.000    0.000    0.000 core.py:213(chunk_store)\n",
      "     1024    0.000    0.000    0.000    0.000 {method 'item' of 'numpy.ndarray' objects}\n",
      "     1024    0.000    0.000    0.000    0.000 {method 'add' of 'set' objects}\n",
      "        1    0.000    0.000    0.381    0.381 <string>:1(<module>)\n",
      "     1024    0.000    0.000    0.000    0.000 {method 'discard' of 'set' objects}\n",
      "     1024    0.000    0.000    0.000    0.000 threading.py:1304(main_thread)\n",
      "     1025    0.000    0.000    0.000    0.000 {method 'append' of 'list' objects}\n",
      "     1024    0.000    0.000    0.000    0.000 {built-in method builtins.id}\n",
      "        4    0.000    0.000    0.003    0.001 fromnumeric.py:1886(any)\n",
      "        1    0.000    0.000    0.381    0.381 {built-in method builtins.exec}\n",
      "        1    0.000    0.000    0.000    0.000 {method 'cumsum' of 'numpy.ndarray' objects}\n",
      "        1    0.000    0.000    0.000    0.000 {built-in method numpy.core.multiarray.empty}\n",
      "        6    0.000    0.000    0.000    0.000 numeric.py:534(asanyarray)\n",
      "        1    0.000    0.000    0.381    0.381 indexing.py:512(__getitem__)\n",
      "        4    0.000    0.000    0.003    0.001 {method 'any' of 'numpy.ndarray' objects}\n",
      "        4    0.000    0.000    0.003    0.001 _methods.py:37(_any)\n",
      "        2    0.000    0.000    0.000    0.000 fromnumeric.py:55(_wrapfunc)\n",
      "        1    0.000    0.000    0.000    0.000 indexing.py:130(replace_ellipsis)\n",
      "        1    0.000    0.000    0.000    0.000 {method 'nonzero' of 'numpy.ndarray' objects}\n",
      "        2    0.000    0.000    0.000    0.000 indexing.py:543(replace_lists)\n",
      "        1    0.000    0.000    0.000    0.000 indexing.py:721(pop_fields)\n",
      "        2    0.000    0.000    0.000    0.000 {built-in method builtins.getattr}\n",
      "        1    0.000    0.000    0.000    0.000 indexing.py:15(is_integer_array)\n",
      "        2    0.000    0.000    0.000    0.000 indexing.py:474(<genexpr>)\n",
      "        1    0.000    0.000    0.000    0.000 indexing.py:476(<listcomp>)\n",
      "        4    0.000    0.000    0.000    0.000 indexing.py:545(<genexpr>)\n",
      "        1    0.000    0.000    0.000    0.000 fromnumeric.py:2053(cumsum)\n",
      "        1    0.000    0.000    0.000    0.000 {built-in method builtins.hasattr}\n",
      "        1    0.000    0.000    0.000    0.000 indexing.py:135(<genexpr>)\n",
      "        1    0.000    0.000    0.000    0.000 indexing.py:479(<listcomp>)\n",
      "        1    0.000    0.000    0.000    0.000 fromnumeric.py:1487(nonzero)\n",
      "        1    0.000    0.000    0.000    0.000 core.py:367(oindex)\n",
      "        1    0.000    0.000    0.000    0.000 {method 'disable' of '_lsprof.Profiler' objects}\n",
      "        1    0.000    0.000    0.000    0.000 {built-in method builtins.sum}\n",
      "        1    0.000    0.000    0.000    0.000 indexing.py:701(check_fields)\n",
      "\n",
      "\n"
     ]
    }
   ],
   "source": [
    "cProfile.run('zc.oindex[ix_dense_int_sorted]', sort='time')"
   ]
  },
  {
   "cell_type": "code",
   "execution_count": 59,
   "metadata": {},
   "outputs": [
    {
     "name": "stdout",
     "output_type": "stream",
     "text": [
      "         43143 function calls in 0.372 seconds\n",
      "\n",
      "   Ordered by: internal time\n",
      "\n",
      "   ncalls  tottime  percall  cumtime  percall filename:lineno(function)\n",
      "        2    0.104    0.052    0.104    0.052 indexing.py:580(<genexpr>)\n",
      "     1024    0.090    0.000    0.095    0.000 core.py:997(_decode_chunk)\n",
      "     1024    0.042    0.000    0.154    0.000 core.py:822(_chunk_getitem)\n",
      "        1    0.028    0.028    0.028    0.028 {built-in method numpy.core.multiarray.ravel_multi_index}\n",
      "        1    0.026    0.026    0.194    0.194 indexing.py:553(__init__)\n",
      "        1    0.023    0.023    0.023    0.023 {built-in method numpy.core.multiarray.bincount}\n",
      "     2048    0.011    0.000    0.011    0.000 indexing.py:645(<genexpr>)\n",
      "        1    0.010    0.010    0.010    0.010 function_base.py:1848(diff)\n",
      "     1025    0.008    0.000    0.021    0.000 indexing.py:624(__iter__)\n",
      "     2054    0.003    0.000    0.003    0.000 core.py:332(<genexpr>)\n",
      "        4    0.003    0.001    0.003    0.001 {method 'reduce' of 'numpy.ufunc' objects}\n",
      "        1    0.002    0.002    0.177    0.177 core.py:576(_get_selection)\n",
      "     1027    0.002    0.000    0.002    0.000 {method 'reshape' of 'numpy.ndarray' objects}\n",
      "     1024    0.002    0.000    0.005    0.000 arrayprint.py:381(wrapper)\n",
      "     1024    0.002    0.000    0.007    0.000 {method 'join' of 'str' objects}\n",
      "     1024    0.002    0.000    0.003    0.000 util.py:113(is_total_slice)\n",
      "     1024    0.002    0.000    0.002    0.000 arrayprint.py:399(array2string)\n",
      "     1024    0.002    0.000    0.002    0.000 {built-in method numpy.core.multiarray.frombuffer}\n",
      "     1027    0.001    0.000    0.005    0.000 core.py:327(_cdata_shape)\n",
      "     6153    0.001    0.000    0.001    0.000 {built-in method builtins.isinstance}\n",
      "     1024    0.001    0.000    0.008    0.000 core.py:994(_chunk_key)\n",
      "     1024    0.001    0.000    0.005    0.000 numeric.py:1905(array_str)\n",
      "     2048    0.001    0.000    0.001    0.000 indexing.py:629(<genexpr>)\n",
      "     2048    0.001    0.000    0.001    0.000 util.py:128(<genexpr>)\n",
      "        1    0.001    0.001    0.372    0.372 core.py:543(get_coordinate_selection)\n",
      "     2048    0.001    0.000    0.001    0.000 indexing.py:641(<genexpr>)\n",
      "     1024    0.001    0.000    0.001    0.000 threading.py:1230(current_thread)\n",
      "     1024    0.000    0.000    0.000    0.000 {built-in method __new__ of type object at 0x55f19771c480}\n",
      "     1024    0.000    0.000    0.001    0.000 <string>:12(__new__)\n",
      "     2048    0.000    0.000    0.000    0.000 {built-in method _thread.get_ident}\n",
      "     2054    0.000    0.000    0.000    0.000 {built-in method builtins.len}\n",
      "     1028    0.000    0.000    0.001    0.000 {built-in method builtins.all}\n",
      "     1024    0.000    0.000    0.000    0.000 core.py:213(chunk_store)\n",
      "     1024    0.000    0.000    0.000    0.000 {method 'item' of 'numpy.ndarray' objects}\n",
      "        1    0.000    0.000    0.372    0.372 <string>:1(<module>)\n",
      "     1024    0.000    0.000    0.000    0.000 {method 'add' of 'set' objects}\n",
      "     1024    0.000    0.000    0.000    0.000 {method 'discard' of 'set' objects}\n",
      "     1024    0.000    0.000    0.000    0.000 threading.py:1304(main_thread)\n",
      "     1024    0.000    0.000    0.000    0.000 {built-in method builtins.id}\n",
      "        4    0.000    0.000    0.003    0.001 fromnumeric.py:1886(any)\n",
      "        1    0.000    0.000    0.000    0.000 {built-in method numpy.core.multiarray.unravel_index}\n",
      "        1    0.000    0.000    0.372    0.372 {built-in method builtins.exec}\n",
      "        7    0.000    0.000    0.000    0.000 {built-in method numpy.core.multiarray.array}\n",
      "        2    0.000    0.000    0.000    0.000 stride_tricks.py:195(broadcast_arrays)\n",
      "        2    0.000    0.000    0.000    0.000 stride_tricks.py:176(_broadcast_shape)\n",
      "        1    0.000    0.000    0.000    0.000 {built-in method numpy.core.multiarray.empty}\n",
      "        5    0.000    0.000    0.000    0.000 numeric.py:534(asanyarray)\n",
      "        4    0.000    0.000    0.003    0.001 {method 'any' of 'numpy.ndarray' objects}\n",
      "        1    0.000    0.000    0.000    0.000 {method 'cumsum' of 'numpy.ndarray' objects}\n",
      "        1    0.000    0.000    0.372    0.372 indexing.py:678(__getitem__)\n",
      "        2    0.000    0.000    0.000    0.000 fromnumeric.py:55(_wrapfunc)\n",
      "        6    0.000    0.000    0.000    0.000 _weakrefset.py:70(__contains__)\n",
      "        1    0.000    0.000    0.000    0.000 {method 'nonzero' of 'numpy.ndarray' objects}\n",
      "        4    0.000    0.000    0.003    0.001 _methods.py:37(_any)\n",
      "        1    0.000    0.000    0.000    0.000 core.py:342(_nchunks)\n",
      "        2    0.000    0.000    0.000    0.000 indexing.py:526(is_coordinate_selection)\n",
      "        2    0.000    0.000    0.000    0.000 indexing.py:529(<listcomp>)\n",
      "        3    0.000    0.000    0.000    0.000 abc.py:178(__instancecheck__)\n",
      "        2    0.000    0.000    0.000    0.000 indexing.py:543(replace_lists)\n",
      "        1    0.000    0.000    0.000    0.000 indexing.py:592(<listcomp>)\n",
      "        1    0.000    0.000    0.000    0.000 fromnumeric.py:2053(cumsum)\n",
      "        1    0.000    0.000    0.000    0.000 core.py:346(nchunks)\n",
      "        2    0.000    0.000    0.000    0.000 {built-in method builtins.getattr}\n",
      "        1    0.000    0.000    0.000    0.000 {built-in method _functools.reduce}\n",
      "        2    0.000    0.000    0.000    0.000 indexing.py:15(is_integer_array)\n",
      "        2    0.000    0.000    0.000    0.000 indexing.py:557(<genexpr>)\n",
      "        1    0.000    0.000    0.000    0.000 indexing.py:721(pop_fields)\n",
      "        2    0.000    0.000    0.000    0.000 stride_tricks.py:247(<listcomp>)\n",
      "        4    0.000    0.000    0.000    0.000 stride_tricks.py:251(<genexpr>)\n",
      "        2    0.000    0.000    0.000    0.000 core.py:161(_refresh_metadata)\n",
      "        2    0.000    0.000    0.000    0.000 {method 'pop' of 'dict' objects}\n",
      "        2    0.000    0.000    0.000    0.000 {built-in method builtins.hasattr}\n",
      "        3    0.000    0.000    0.000    0.000 indexing.py:11(is_integer)\n",
      "        2    0.000    0.000    0.000    0.000 indexing.py:165(ensure_tuple)\n",
      "        4    0.000    0.000    0.000    0.000 indexing.py:545(<genexpr>)\n",
      "        1    0.000    0.000    0.000    0.000 fromnumeric.py:1487(nonzero)\n",
      "        1    0.000    0.000    0.000    0.000 indexing.py:593(<listcomp>)\n",
      "        1    0.000    0.000    0.000    0.000 indexing.py:701(check_fields)\n",
      "        1    0.000    0.000    0.000    0.000 core.py:221(shape)\n",
      "        1    0.000    0.000    0.000    0.000 core.py:372(vindex)\n",
      "        1    0.000    0.000    0.000    0.000 {method 'disable' of '_lsprof.Profiler' objects}\n",
      "\n",
      "\n"
     ]
    }
   ],
   "source": [
    "cProfile.run('zc.vindex[ix_dense_int_sorted]', sort='time')"
   ]
  },
  {
   "cell_type": "code",
   "execution_count": 60,
   "metadata": {},
   "outputs": [
    {
     "name": "stdout",
     "output_type": "stream",
     "text": [
      "         85095 function calls in 1.770 seconds\n",
      "\n",
      "   Ordered by: internal time\n",
      "\n",
      "   ncalls  tottime  percall  cumtime  percall filename:lineno(function)\n",
      "        1    1.123    1.123    1.123    1.123 {method 'argsort' of 'numpy.ndarray' objects}\n",
      "        1    0.134    0.134    1.417    1.417 indexing.py:304(__init__)\n",
      "     1024    0.134    0.000    0.273    0.000 core.py:822(_chunk_getitem)\n",
      "        1    0.122    0.122    0.122    0.122 {method 'take' of 'numpy.ndarray' objects}\n",
      "     1024    0.117    0.000    0.123    0.000 core.py:997(_decode_chunk)\n",
      "     1025    0.032    0.000    0.033    0.000 indexing.py:351(__iter__)\n",
      "        1    0.025    0.025    0.025    0.025 {built-in method numpy.core.multiarray.bincount}\n",
      "        1    0.010    0.010    0.010    0.010 function_base.py:1848(diff)\n",
      "     1025    0.007    0.000    0.073    0.000 indexing.py:484(__iter__)\n",
      "     2048    0.007    0.000    0.014    0.000 index_tricks.py:26(ix_)\n",
      "     2048    0.005    0.000    0.005    0.000 core.py:332(<genexpr>)\n",
      "     3072    0.004    0.000    0.004    0.000 {method 'reshape' of 'numpy.ndarray' objects}\n",
      "    10252    0.004    0.000    0.010    0.000 {built-in method builtins.isinstance}\n",
      "     3073    0.004    0.000    0.006    0.000 abc.py:178(__instancecheck__)\n",
      "     2048    0.004    0.000    0.027    0.000 indexing.py:377(ix_)\n",
      "        1    0.003    0.003    0.350    0.350 core.py:576(_get_selection)\n",
      "        1    0.003    0.003    1.770    1.770 core.py:531(get_orthogonal_selection)\n",
      "     1024    0.002    0.000    0.005    0.000 arrayprint.py:381(wrapper)\n",
      "        4    0.002    0.001    0.002    0.001 {method 'reduce' of 'numpy.ufunc' objects}\n",
      "     6146    0.002    0.000    0.002    0.000 _weakrefset.py:70(__contains__)\n",
      "     1024    0.002    0.000    0.008    0.000 {method 'join' of 'str' objects}\n",
      "     1024    0.002    0.000    0.002    0.000 {built-in method numpy.core.multiarray.frombuffer}\n",
      "     2048    0.002    0.000    0.003    0.000 numerictypes.py:728(issubdtype)\n",
      "     1024    0.002    0.000    0.006    0.000 core.py:327(_cdata_shape)\n",
      "     1024    0.002    0.000    0.002    0.000 arrayprint.py:399(array2string)\n",
      "     2048    0.002    0.000    0.008    0.000 indexing.py:384(<listcomp>)\n",
      "     1024    0.001    0.000    0.009    0.000 core.py:994(_chunk_key)\n",
      "     2048    0.001    0.000    0.001    0.000 {built-in method __new__ of type object at 0x55f19771c480}\n",
      "     2054    0.001    0.000    0.001    0.000 {built-in method numpy.core.multiarray.array}\n",
      "     2049    0.001    0.000    0.007    0.000 indexing.py:11(is_integer)\n",
      "     1024    0.001    0.000    0.006    0.000 numeric.py:1905(array_str)\n",
      "     2051    0.001    0.000    0.001    0.000 indexing.py:165(ensure_tuple)\n",
      "     4096    0.001    0.000    0.001    0.000 {built-in method builtins.issubclass}\n",
      "     2048    0.001    0.000    0.001    0.000 indexing.py:487(<genexpr>)\n",
      "     1024    0.001    0.000    0.003    0.000 indexing.py:501(<listcomp>)\n",
      "     2048    0.001    0.000    0.001    0.000 numerictypes.py:660(issubclass_)\n",
      "     4103    0.001    0.000    0.001    0.000 {built-in method builtins.len}\n",
      "     2048    0.001    0.000    0.002    0.000 numeric.py:463(asarray)\n",
      "     1024    0.001    0.000    0.001    0.000 threading.py:1230(current_thread)\n",
      "        1    0.001    0.001    1.418    1.418 indexing.py:420(__init__)\n",
      "     2048    0.001    0.000    0.001    0.000 indexing.py:489(<genexpr>)\n",
      "     1024    0.000    0.000    0.001    0.000 <string>:12(__new__)\n",
      "     2048    0.000    0.000    0.000    0.000 {built-in method _thread.get_ident}\n",
      "     2048    0.000    0.000    0.000    0.000 indexing.py:488(<genexpr>)\n",
      "        1    0.000    0.000    1.770    1.770 indexing.py:512(__getitem__)\n",
      "     2049    0.000    0.000    0.000    0.000 {method 'append' of 'list' objects}\n",
      "     1024    0.000    0.000    0.000    0.000 core.py:213(chunk_store)\n",
      "     1024    0.000    0.000    0.000    0.000 {method 'item' of 'numpy.ndarray' objects}\n",
      "     1025    0.000    0.000    0.000    0.000 {built-in method builtins.any}\n",
      "     1024    0.000    0.000    0.000    0.000 {method 'add' of 'set' objects}\n",
      "     1024    0.000    0.000    0.000    0.000 {method 'discard' of 'set' objects}\n",
      "        1    0.000    0.000    1.771    1.771 <string>:1(<module>)\n",
      "     1024    0.000    0.000    0.000    0.000 threading.py:1304(main_thread)\n",
      "     1024    0.000    0.000    0.000    0.000 {built-in method builtins.id}\n",
      "        4    0.000    0.000    0.002    0.001 fromnumeric.py:1886(any)\n",
      "        4    0.000    0.000    1.245    0.311 fromnumeric.py:55(_wrapfunc)\n",
      "        1    0.000    0.000    1.771    1.771 {built-in method builtins.exec}\n",
      "        1    0.000    0.000    0.000    0.000 {method 'cumsum' of 'numpy.ndarray' objects}\n",
      "        1    0.000    0.000    0.000    0.000 {built-in method numpy.core.multiarray.empty}\n",
      "        6    0.000    0.000    0.000    0.000 numeric.py:534(asanyarray)\n",
      "        1    0.000    0.000    0.000    0.000 {method 'nonzero' of 'numpy.ndarray' objects}\n",
      "        4    0.000    0.000    0.002    0.001 _methods.py:37(_any)\n",
      "        4    0.000    0.000    0.002    0.001 {method 'any' of 'numpy.ndarray' objects}\n",
      "        4    0.000    0.000    0.000    0.000 {built-in method builtins.getattr}\n",
      "        1    0.000    0.000    0.122    0.122 fromnumeric.py:70(take)\n",
      "        1    0.000    0.000    0.000    0.000 indexing.py:130(replace_ellipsis)\n",
      "        2    0.000    0.000    0.000    0.000 indexing.py:543(replace_lists)\n",
      "        2    0.000    0.000    0.000    0.000 indexing.py:474(<genexpr>)\n",
      "        1    0.000    0.000    0.000    0.000 fromnumeric.py:2053(cumsum)\n",
      "        1    0.000    0.000    0.000    0.000 indexing.py:15(is_integer_array)\n",
      "        1    0.000    0.000    0.000    0.000 indexing.py:721(pop_fields)\n",
      "        1    0.000    0.000    1.123    1.123 fromnumeric.py:826(argsort)\n",
      "        1    0.000    0.000    0.000    0.000 indexing.py:476(<listcomp>)\n",
      "        1    0.000    0.000    0.000    0.000 indexing.py:479(<listcomp>)\n",
      "        1    0.000    0.000    0.000    0.000 fromnumeric.py:1487(nonzero)\n",
      "        1    0.000    0.000    0.000    0.000 {built-in method builtins.hasattr}\n",
      "        1    0.000    0.000    0.000    0.000 indexing.py:135(<genexpr>)\n",
      "        4    0.000    0.000    0.000    0.000 indexing.py:545(<genexpr>)\n",
      "        1    0.000    0.000    0.000    0.000 {built-in method builtins.sum}\n",
      "        1    0.000    0.000    0.000    0.000 indexing.py:701(check_fields)\n",
      "        1    0.000    0.000    0.000    0.000 core.py:367(oindex)\n",
      "        1    0.000    0.000    0.000    0.000 {method 'disable' of '_lsprof.Profiler' objects}\n",
      "\n",
      "\n"
     ]
    }
   ],
   "source": [
    "cProfile.run('zc.oindex[ix_dense_int]', sort='time')"
   ]
  },
  {
   "cell_type": "code",
   "execution_count": 61,
   "metadata": {},
   "outputs": [
    {
     "name": "stdout",
     "output_type": "stream",
     "text": [
      "         35981 function calls in 1.735 seconds\n",
      "\n",
      "   Ordered by: internal time\n",
      "\n",
      "   ncalls  tottime  percall  cumtime  percall filename:lineno(function)\n",
      "        1    1.117    1.117    1.117    1.117 {method 'argsort' of 'numpy.ndarray' objects}\n",
      "     1024    0.132    0.000    0.269    0.000 core.py:822(_chunk_getitem)\n",
      "        2    0.121    0.061    0.121    0.061 indexing.py:604(<genexpr>)\n",
      "     1024    0.116    0.000    0.122    0.000 core.py:997(_decode_chunk)\n",
      "        2    0.108    0.054    0.108    0.054 indexing.py:580(<genexpr>)\n",
      "        1    0.028    0.028    0.028    0.028 {built-in method numpy.core.multiarray.ravel_multi_index}\n",
      "        1    0.026    0.026    1.437    1.437 indexing.py:553(__init__)\n",
      "        1    0.024    0.024    0.024    0.024 {built-in method numpy.core.multiarray.bincount}\n",
      "     2048    0.012    0.000    0.012    0.000 indexing.py:645(<genexpr>)\n",
      "        1    0.010    0.010    0.010    0.010 function_base.py:1848(diff)\n",
      "     1025    0.009    0.000    0.024    0.000 indexing.py:624(__iter__)\n",
      "     2054    0.004    0.000    0.004    0.000 core.py:332(<genexpr>)\n",
      "        1    0.003    0.003    0.296    0.296 core.py:576(_get_selection)\n",
      "     1024    0.002    0.000    0.005    0.000 arrayprint.py:381(wrapper)\n",
      "     1027    0.002    0.000    0.002    0.000 {method 'reshape' of 'numpy.ndarray' objects}\n",
      "        4    0.002    0.001    0.002    0.001 {method 'reduce' of 'numpy.ufunc' objects}\n",
      "     1024    0.002    0.000    0.002    0.000 {built-in method numpy.core.multiarray.frombuffer}\n",
      "     1024    0.002    0.000    0.008    0.000 {method 'join' of 'str' objects}\n",
      "     1024    0.002    0.000    0.002    0.000 arrayprint.py:399(array2string)\n",
      "     1027    0.002    0.000    0.005    0.000 core.py:327(_cdata_shape)\n",
      "     3081    0.001    0.000    0.001    0.000 {built-in method builtins.isinstance}\n",
      "     1024    0.001    0.000    0.009    0.000 core.py:994(_chunk_key)\n",
      "     1024    0.001    0.000    0.006    0.000 numeric.py:1905(array_str)\n",
      "        1    0.001    0.001    1.734    1.734 core.py:543(get_coordinate_selection)\n",
      "     2048    0.001    0.000    0.001    0.000 indexing.py:641(<genexpr>)\n",
      "     2048    0.001    0.000    0.001    0.000 indexing.py:629(<genexpr>)\n",
      "     1024    0.001    0.000    0.001    0.000 threading.py:1230(current_thread)\n",
      "     1024    0.001    0.000    0.001    0.000 <string>:12(__new__)\n",
      "     1024    0.000    0.000    0.000    0.000 {built-in method __new__ of type object at 0x55f19771c480}\n",
      "     2048    0.000    0.000    0.000    0.000 {built-in method _thread.get_ident}\n",
      "     2054    0.000    0.000    0.000    0.000 {built-in method builtins.len}\n",
      "        1    0.000    0.000    1.734    1.734 indexing.py:678(__getitem__)\n",
      "     1024    0.000    0.000    0.000    0.000 core.py:213(chunk_store)\n",
      "     1024    0.000    0.000    0.000    0.000 {method 'item' of 'numpy.ndarray' objects}\n",
      "        1    0.000    0.000    1.734    1.734 <string>:1(<module>)\n",
      "     1024    0.000    0.000    0.000    0.000 {method 'add' of 'set' objects}\n",
      "     1024    0.000    0.000    0.000    0.000 {method 'discard' of 'set' objects}\n",
      "     1024    0.000    0.000    0.000    0.000 threading.py:1304(main_thread)\n",
      "     1024    0.000    0.000    0.000    0.000 {built-in method builtins.id}\n",
      "        1    0.000    0.000    1.735    1.735 {built-in method builtins.exec}\n",
      "        4    0.000    0.000    0.002    0.001 fromnumeric.py:1886(any)\n",
      "        1    0.000    0.000    0.000    0.000 {built-in method numpy.core.multiarray.unravel_index}\n",
      "        3    0.000    0.000    1.117    0.372 fromnumeric.py:55(_wrapfunc)\n",
      "        1    0.000    0.000    0.000    0.000 {method 'cumsum' of 'numpy.ndarray' objects}\n",
      "        3    0.000    0.000    0.000    0.000 abc.py:178(__instancecheck__)\n",
      "        1    0.000    0.000    0.000    0.000 core.py:342(_nchunks)\n",
      "        2    0.000    0.000    0.000    0.000 indexing.py:526(is_coordinate_selection)\n",
      "        1    0.000    0.000    0.000    0.000 {built-in method numpy.core.multiarray.empty}\n",
      "        2    0.000    0.000    0.000    0.000 stride_tricks.py:195(broadcast_arrays)\n",
      "        2    0.000    0.000    0.000    0.000 indexing.py:543(replace_lists)\n",
      "        6    0.000    0.000    0.000    0.000 _weakrefset.py:70(__contains__)\n",
      "        2    0.000    0.000    0.000    0.000 stride_tricks.py:176(_broadcast_shape)\n",
      "        5    0.000    0.000    0.000    0.000 numeric.py:534(asanyarray)\n",
      "        2    0.000    0.000    0.000    0.000 indexing.py:15(is_integer_array)\n",
      "        1    0.000    0.000    0.000    0.000 {method 'nonzero' of 'numpy.ndarray' objects}\n",
      "        7    0.000    0.000    0.000    0.000 {built-in method numpy.core.multiarray.array}\n",
      "        4    0.000    0.000    0.002    0.001 {method 'any' of 'numpy.ndarray' objects}\n",
      "        2    0.000    0.000    0.000    0.000 indexing.py:529(<listcomp>)\n",
      "        1    0.000    0.000    0.000    0.000 indexing.py:721(pop_fields)\n",
      "        4    0.000    0.000    0.002    0.001 _methods.py:37(_any)\n",
      "        4    0.000    0.000    0.000    0.000 {built-in method builtins.all}\n",
      "        1    0.000    0.000    0.000    0.000 core.py:346(nchunks)\n",
      "        3    0.000    0.000    0.000    0.000 {built-in method builtins.getattr}\n",
      "        2    0.000    0.000    0.000    0.000 indexing.py:165(ensure_tuple)\n",
      "        4    0.000    0.000    0.000    0.000 indexing.py:545(<genexpr>)\n",
      "        1    0.000    0.000    1.117    1.117 fromnumeric.py:826(argsort)\n",
      "        3    0.000    0.000    0.000    0.000 indexing.py:11(is_integer)\n",
      "        1    0.000    0.000    0.000    0.000 fromnumeric.py:2053(cumsum)\n",
      "        1    0.000    0.000    0.000    0.000 {built-in method _functools.reduce}\n",
      "        2    0.000    0.000    0.000    0.000 stride_tricks.py:247(<listcomp>)\n",
      "        1    0.000    0.000    0.000    0.000 core.py:221(shape)\n",
      "        2    0.000    0.000    0.000    0.000 {built-in method builtins.hasattr}\n",
      "        2    0.000    0.000    0.000    0.000 indexing.py:557(<genexpr>)\n",
      "        1    0.000    0.000    0.000    0.000 indexing.py:592(<listcomp>)\n",
      "        1    0.000    0.000    0.000    0.000 core.py:372(vindex)\n",
      "        2    0.000    0.000    0.000    0.000 core.py:161(_refresh_metadata)\n",
      "        1    0.000    0.000    0.000    0.000 indexing.py:701(check_fields)\n",
      "        4    0.000    0.000    0.000    0.000 stride_tricks.py:251(<genexpr>)\n",
      "        1    0.000    0.000    0.000    0.000 fromnumeric.py:1487(nonzero)\n",
      "        2    0.000    0.000    0.000    0.000 {method 'pop' of 'dict' objects}\n",
      "        1    0.000    0.000    0.000    0.000 indexing.py:593(<listcomp>)\n",
      "        1    0.000    0.000    0.000    0.000 {method 'disable' of '_lsprof.Profiler' objects}\n",
      "\n",
      "\n"
     ]
    }
   ],
   "source": [
    "cProfile.run('zc.vindex[ix_dense_int]', sort='time')"
   ]
  },
  {
   "cell_type": "markdown",
   "metadata": {},
   "source": [
    "When indices are not sorted, zarr needs to partially sort them so the occur in chunk order, so we only have to visit each chunk once. This sorting dominates the processing time and is unavoidable AFAIK."
   ]
  },
  {
   "cell_type": "markdown",
   "metadata": {},
   "source": [
    "### bool sparse selection"
   ]
  },
  {
   "cell_type": "code",
   "execution_count": 62,
   "metadata": {},
   "outputs": [
    {
     "data": {
      "text/plain": [
       "9932"
      ]
     },
     "execution_count": 62,
     "metadata": {},
     "output_type": "execute_result"
    }
   ],
   "source": [
    "# relatively sparse selection\n",
    "ix_sparse_bool = np.random.binomial(1, 0.0001, size=c.shape[0]).astype(bool)\n",
    "np.count_nonzero(ix_sparse_bool)"
   ]
  },
  {
   "cell_type": "code",
   "execution_count": 63,
   "metadata": {},
   "outputs": [
    {
     "name": "stdout",
     "output_type": "stream",
     "text": [
      "CPU times: user 20 ms, sys: 0 ns, total: 20 ms\n",
      "Wall time: 20 ms\n"
     ]
    },
    {
     "data": {
      "text/plain": [
       "array([     888,     9941,    15901, ..., 99988491, 99988714, 99995248])"
      ]
     },
     "execution_count": 63,
     "metadata": {},
     "output_type": "execute_result"
    }
   ],
   "source": [
    "%time c[ix_sparse_bool]"
   ]
  },
  {
   "cell_type": "code",
   "execution_count": 64,
   "metadata": {},
   "outputs": [
    {
     "name": "stdout",
     "output_type": "stream",
     "text": [
      "CPU times: user 408 ms, sys: 28 ms, total: 436 ms\n",
      "Wall time: 182 ms\n"
     ]
    },
    {
     "data": {
      "text/plain": [
       "array([     888,     9941,    15901, ..., 99988491, 99988714, 99995248])"
      ]
     },
     "execution_count": 64,
     "metadata": {},
     "output_type": "execute_result"
    }
   ],
   "source": [
    "%time zc.oindex[ix_sparse_bool]"
   ]
  },
  {
   "cell_type": "code",
   "execution_count": 65,
   "metadata": {},
   "outputs": [
    {
     "name": "stdout",
     "output_type": "stream",
     "text": [
      "CPU times: user 372 ms, sys: 36 ms, total: 408 ms\n",
      "Wall time: 149 ms\n"
     ]
    },
    {
     "data": {
      "text/plain": [
       "array([     888,     9941,    15901, ..., 99988491, 99988714, 99995248])"
      ]
     },
     "execution_count": 65,
     "metadata": {},
     "output_type": "execute_result"
    }
   ],
   "source": [
    "%time zc.vindex[ix_sparse_bool]"
   ]
  },
  {
   "cell_type": "code",
   "execution_count": 66,
   "metadata": {},
   "outputs": [
    {
     "name": "stdout",
     "output_type": "stream",
     "text": [
      "         67653 function calls in 0.186 seconds\n",
      "\n",
      "   Ordered by: internal time\n",
      "\n",
      "   ncalls  tottime  percall  cumtime  percall filename:lineno(function)\n",
      "     1024    0.097    0.000    0.103    0.000 core.py:997(_decode_chunk)\n",
      "     1025    0.018    0.000    0.018    0.000 {method 'nonzero' of 'numpy.ndarray' objects}\n",
      "     1024    0.009    0.000    0.009    0.000 {built-in method numpy.core.multiarray.count_nonzero}\n",
      "     1024    0.006    0.000    0.124    0.000 core.py:822(_chunk_getitem)\n",
      "     1025    0.006    0.000    0.049    0.000 indexing.py:484(__iter__)\n",
      "     1024    0.005    0.000    0.027    0.000 index_tricks.py:26(ix_)\n",
      "     2048    0.004    0.000    0.004    0.000 core.py:332(<genexpr>)\n",
      "     2048    0.003    0.000    0.003    0.000 {method 'reshape' of 'numpy.ndarray' objects}\n",
      "     7180    0.003    0.000    0.007    0.000 {built-in method builtins.isinstance}\n",
      "     2049    0.003    0.000    0.004    0.000 abc.py:178(__instancecheck__)\n",
      "        1    0.003    0.003    0.176    0.176 core.py:576(_get_selection)\n",
      "     1025    0.002    0.000    0.003    0.000 indexing.py:275(__iter__)\n",
      "     1024    0.002    0.000    0.005    0.000 arrayprint.py:381(wrapper)\n",
      "     1024    0.002    0.000    0.034    0.000 indexing.py:377(ix_)\n",
      "     1024    0.002    0.000    0.008    0.000 {method 'join' of 'str' objects}\n",
      "     1024    0.002    0.000    0.006    0.000 core.py:327(_cdata_shape)\n",
      "     1024    0.002    0.000    0.002    0.000 {built-in method numpy.core.multiarray.frombuffer}\n",
      "     4098    0.002    0.000    0.002    0.000 _weakrefset.py:70(__contains__)\n",
      "     1024    0.002    0.000    0.002    0.000 arrayprint.py:399(array2string)\n",
      "        1    0.001    0.001    0.011    0.011 indexing.py:248(__init__)\n",
      "     1024    0.001    0.000    0.002    0.000 numerictypes.py:728(issubdtype)\n",
      "     1024    0.001    0.000    0.009    0.000 core.py:994(_chunk_key)\n",
      "     1024    0.001    0.000    0.005    0.000 indexing.py:384(<listcomp>)\n",
      "     1024    0.001    0.000    0.006    0.000 numeric.py:1905(array_str)\n",
      "     2048    0.001    0.000    0.001    0.000 {built-in method __new__ of type object at 0x55f19771c480}\n",
      "     1024    0.001    0.000    0.003    0.000 indexing.py:501(<listcomp>)\n",
      "     2048    0.001    0.000    0.001    0.000 indexing.py:487(<genexpr>)\n",
      "     1024    0.001    0.000    0.001    0.000 threading.py:1230(current_thread)\n",
      "     3079    0.001    0.000    0.001    0.000 {built-in method builtins.len}\n",
      "     2048    0.000    0.000    0.000    0.000 indexing.py:489(<genexpr>)\n",
      "     1024    0.000    0.000    0.000    0.000 {built-in method numpy.core.multiarray.array}\n",
      "     1025    0.000    0.000    0.004    0.000 indexing.py:11(is_integer)\n",
      "     1024    0.000    0.000    0.001    0.000 <string>:12(__new__)\n",
      "     1027    0.000    0.000    0.001    0.000 indexing.py:165(ensure_tuple)\n",
      "     2048    0.000    0.000    0.000    0.000 {built-in method _thread.get_ident}\n",
      "     2048    0.000    0.000    0.000    0.000 indexing.py:488(<genexpr>)\n",
      "     1024    0.000    0.000    0.001    0.000 numerictypes.py:660(issubclass_)\n",
      "     1024    0.000    0.000    0.001    0.000 numeric.py:463(asarray)\n",
      "     2048    0.000    0.000    0.000    0.000 {built-in method builtins.issubclass}\n",
      "     1024    0.000    0.000    0.000    0.000 core.py:213(chunk_store)\n",
      "     1024    0.000    0.000    0.009    0.000 numeric.py:380(count_nonzero)\n",
      "     1025    0.000    0.000    0.000    0.000 {built-in method builtins.any}\n",
      "     1024    0.000    0.000    0.000    0.000 {method 'item' of 'numpy.ndarray' objects}\n",
      "     1024    0.000    0.000    0.000    0.000 {method 'add' of 'set' objects}\n",
      "     1024    0.000    0.000    0.000    0.000 {method 'discard' of 'set' objects}\n",
      "     1025    0.000    0.000    0.000    0.000 {method 'append' of 'list' objects}\n",
      "     1024    0.000    0.000    0.000    0.000 threading.py:1304(main_thread)\n",
      "     1024    0.000    0.000    0.000    0.000 {built-in method builtins.id}\n",
      "        1    0.000    0.000    0.011    0.011 indexing.py:420(__init__)\n",
      "        2    0.000    0.000    0.000    0.000 {built-in method numpy.core.multiarray.zeros}\n",
      "        1    0.000    0.000    0.187    0.187 {built-in method builtins.exec}\n",
      "        1    0.000    0.000    0.000    0.000 {method 'cumsum' of 'numpy.ndarray' objects}\n",
      "        2    0.000    0.000    0.000    0.000 fromnumeric.py:55(_wrapfunc)\n",
      "        1    0.000    0.000    0.187    0.187 indexing.py:512(__getitem__)\n",
      "        1    0.000    0.000    0.000    0.000 fromnumeric.py:2053(cumsum)\n",
      "        1    0.000    0.000    0.000    0.000 {built-in method numpy.core.multiarray.empty}\n",
      "        1    0.000    0.000    0.000    0.000 indexing.py:130(replace_ellipsis)\n",
      "        2    0.000    0.000    0.000    0.000 indexing.py:543(replace_lists)\n",
      "        1    0.000    0.000    0.187    0.187 <string>:1(<module>)\n",
      "        1    0.000    0.000    0.187    0.187 core.py:531(get_orthogonal_selection)\n",
      "        2    0.000    0.000    0.000    0.000 {built-in method builtins.getattr}\n",
      "        2    0.000    0.000    0.000    0.000 indexing.py:474(<genexpr>)\n",
      "        1    0.000    0.000    0.000    0.000 indexing.py:721(pop_fields)\n",
      "        1    0.000    0.000    0.000    0.000 indexing.py:15(is_integer_array)\n",
      "        1    0.000    0.000    0.000    0.000 indexing.py:19(is_bool_array)\n",
      "        1    0.000    0.000    0.000    0.000 indexing.py:476(<listcomp>)\n",
      "        4    0.000    0.000    0.000    0.000 indexing.py:545(<genexpr>)\n",
      "        2    0.000    0.000    0.000    0.000 {built-in method builtins.hasattr}\n",
      "        1    0.000    0.000    0.000    0.000 indexing.py:135(<genexpr>)\n",
      "        1    0.000    0.000    0.000    0.000 indexing.py:479(<listcomp>)\n",
      "        1    0.000    0.000    0.000    0.000 fromnumeric.py:1487(nonzero)\n",
      "        1    0.000    0.000    0.000    0.000 {built-in method builtins.sum}\n",
      "        1    0.000    0.000    0.000    0.000 indexing.py:701(check_fields)\n",
      "        1    0.000    0.000    0.000    0.000 core.py:367(oindex)\n",
      "        1    0.000    0.000    0.000    0.000 {method 'disable' of '_lsprof.Profiler' objects}\n",
      "\n",
      "\n"
     ]
    }
   ],
   "source": [
    "cProfile.run('zc.oindex[ix_sparse_bool]', sort='time')"
   ]
  },
  {
   "cell_type": "code",
   "execution_count": 67,
   "metadata": {},
   "outputs": [
    {
     "name": "stdout",
     "output_type": "stream",
     "text": [
      "         43161 function calls in 0.159 seconds\n",
      "\n",
      "   Ordered by: internal time\n",
      "\n",
      "   ncalls  tottime  percall  cumtime  percall filename:lineno(function)\n",
      "     1024    0.093    0.000    0.098    0.000 core.py:997(_decode_chunk)\n",
      "        2    0.020    0.010    0.020    0.010 {method 'nonzero' of 'numpy.ndarray' objects}\n",
      "     1025    0.008    0.000    0.015    0.000 indexing.py:624(__iter__)\n",
      "     1024    0.006    0.000    0.122    0.000 core.py:822(_chunk_getitem)\n",
      "     2048    0.005    0.000    0.005    0.000 indexing.py:645(<genexpr>)\n",
      "     2054    0.003    0.000    0.003    0.000 core.py:332(<genexpr>)\n",
      "        1    0.002    0.002    0.139    0.139 core.py:576(_get_selection)\n",
      "     1024    0.002    0.000    0.005    0.000 arrayprint.py:381(wrapper)\n",
      "     1026    0.002    0.000    0.002    0.000 {method 'reshape' of 'numpy.ndarray' objects}\n",
      "     1024    0.002    0.000    0.003    0.000 util.py:113(is_total_slice)\n",
      "     1024    0.002    0.000    0.008    0.000 {method 'join' of 'str' objects}\n",
      "     1024    0.002    0.000    0.002    0.000 arrayprint.py:399(array2string)\n",
      "     1024    0.002    0.000    0.002    0.000 {built-in method numpy.core.multiarray.frombuffer}\n",
      "     1027    0.001    0.000    0.005    0.000 core.py:327(_cdata_shape)\n",
      "     6155    0.001    0.000    0.001    0.000 {built-in method builtins.isinstance}\n",
      "     1024    0.001    0.000    0.009    0.000 core.py:994(_chunk_key)\n",
      "     1024    0.001    0.000    0.006    0.000 numeric.py:1905(array_str)\n",
      "     2048    0.001    0.000    0.001    0.000 util.py:128(<genexpr>)\n",
      "     2048    0.001    0.000    0.001    0.000 indexing.py:641(<genexpr>)\n",
      "     2048    0.001    0.000    0.001    0.000 indexing.py:629(<genexpr>)\n",
      "     1024    0.001    0.000    0.001    0.000 threading.py:1230(current_thread)\n",
      "     1024    0.000    0.000    0.001    0.000 <string>:12(__new__)\n",
      "     1024    0.000    0.000    0.000    0.000 {built-in method __new__ of type object at 0x55f19771c480}\n",
      "     2048    0.000    0.000    0.000    0.000 {built-in method _thread.get_ident}\n",
      "     2056    0.000    0.000    0.000    0.000 {built-in method builtins.len}\n",
      "     1028    0.000    0.000    0.001    0.000 {built-in method builtins.all}\n",
      "     1024    0.000    0.000    0.000    0.000 core.py:213(chunk_store)\n",
      "     1024    0.000    0.000    0.000    0.000 {method 'add' of 'set' objects}\n",
      "     1024    0.000    0.000    0.000    0.000 {method 'item' of 'numpy.ndarray' objects}\n",
      "     1024    0.000    0.000    0.000    0.000 {method 'discard' of 'set' objects}\n",
      "     1024    0.000    0.000    0.000    0.000 threading.py:1304(main_thread)\n",
      "     1024    0.000    0.000    0.000    0.000 {built-in method builtins.id}\n",
      "        2    0.000    0.000    0.000    0.000 indexing.py:580(<genexpr>)\n",
      "        1    0.000    0.000    0.000    0.000 indexing.py:553(__init__)\n",
      "        1    0.000    0.000    0.000    0.000 {built-in method numpy.core.multiarray.ravel_multi_index}\n",
      "        4    0.000    0.000    0.000    0.000 {method 'reduce' of 'numpy.ufunc' objects}\n",
      "        1    0.000    0.000    0.000    0.000 {built-in method numpy.core.multiarray.unravel_index}\n",
      "        1    0.000    0.000    0.000    0.000 {built-in method numpy.core.multiarray.bincount}\n",
      "        1    0.000    0.000    0.159    0.159 {built-in method builtins.exec}\n",
      "        1    0.000    0.000    0.000    0.000 function_base.py:1848(diff)\n",
      "        1    0.000    0.000    0.000    0.000 {method 'cumsum' of 'numpy.ndarray' objects}\n",
      "        4    0.000    0.000    0.000    0.000 fromnumeric.py:1886(any)\n",
      "        1    0.000    0.000    0.159    0.159 indexing.py:678(__getitem__)\n",
      "        3    0.000    0.000    0.000    0.000 abc.py:178(__instancecheck__)\n",
      "        1    0.000    0.000    0.020    0.020 indexing.py:655(__init__)\n",
      "        1    0.000    0.000    0.000    0.000 core.py:221(shape)\n",
      "        2    0.000    0.000    0.000    0.000 stride_tricks.py:176(_broadcast_shape)\n",
      "        2    0.000    0.000    0.000    0.000 stride_tricks.py:195(broadcast_arrays)\n",
      "        3    0.000    0.000    0.020    0.007 fromnumeric.py:55(_wrapfunc)\n",
      "        2    0.000    0.000    0.000    0.000 indexing.py:526(is_coordinate_selection)\n",
      "        3    0.000    0.000    0.000    0.000 indexing.py:543(replace_lists)\n",
      "        1    0.000    0.000    0.159    0.159 core.py:564(get_mask_selection)\n",
      "        6    0.000    0.000    0.000    0.000 _weakrefset.py:70(__contains__)\n",
      "        1    0.000    0.000    0.159    0.159 <string>:1(<module>)\n",
      "        5    0.000    0.000    0.000    0.000 numeric.py:534(asanyarray)\n",
      "        2    0.000    0.000    0.000    0.000 indexing.py:15(is_integer_array)\n",
      "        3    0.000    0.000    0.000    0.000 indexing.py:11(is_integer)\n",
      "        2    0.000    0.000    0.000    0.000 indexing.py:529(<listcomp>)\n",
      "        2    0.000    0.000    0.000    0.000 indexing.py:535(is_mask_selection)\n",
      "        7    0.000    0.000    0.000    0.000 {built-in method numpy.core.multiarray.array}\n",
      "        2    0.000    0.000    0.020    0.010 fromnumeric.py:1487(nonzero)\n",
      "        4    0.000    0.000    0.000    0.000 _methods.py:37(_any)\n",
      "        3    0.000    0.000    0.000    0.000 indexing.py:165(ensure_tuple)\n",
      "        1    0.000    0.000    0.000    0.000 indexing.py:721(pop_fields)\n",
      "        4    0.000    0.000    0.000    0.000 {method 'any' of 'numpy.ndarray' objects}\n",
      "        1    0.000    0.000    0.000    0.000 {built-in method numpy.core.multiarray.empty}\n",
      "        2    0.000    0.000    0.000    0.000 stride_tricks.py:247(<listcomp>)\n",
      "        1    0.000    0.000    0.000    0.000 core.py:342(_nchunks)\n",
      "        1    0.000    0.000    0.000    0.000 core.py:346(nchunks)\n",
      "        3    0.000    0.000    0.000    0.000 {built-in method builtins.getattr}\n",
      "        4    0.000    0.000    0.000    0.000 {built-in method builtins.hasattr}\n",
      "        2    0.000    0.000    0.000    0.000 indexing.py:19(is_bool_array)\n",
      "        6    0.000    0.000    0.000    0.000 indexing.py:545(<genexpr>)\n",
      "        2    0.000    0.000    0.000    0.000 core.py:161(_refresh_metadata)\n",
      "        2    0.000    0.000    0.000    0.000 {method 'pop' of 'dict' objects}\n",
      "        1    0.000    0.000    0.000    0.000 {built-in method _functools.reduce}\n",
      "        2    0.000    0.000    0.000    0.000 indexing.py:557(<genexpr>)\n",
      "        1    0.000    0.000    0.000    0.000 indexing.py:592(<listcomp>)\n",
      "        1    0.000    0.000    0.000    0.000 indexing.py:593(<listcomp>)\n",
      "        1    0.000    0.000    0.000    0.000 indexing.py:701(check_fields)\n",
      "        4    0.000    0.000    0.000    0.000 stride_tricks.py:251(<genexpr>)\n",
      "        1    0.000    0.000    0.000    0.000 fromnumeric.py:2053(cumsum)\n",
      "        1    0.000    0.000    0.000    0.000 core.py:372(vindex)\n",
      "        1    0.000    0.000    0.000    0.000 {method 'disable' of '_lsprof.Profiler' objects}\n",
      "\n",
      "\n"
     ]
    }
   ],
   "source": [
    "cProfile.run('zc.vindex[ix_sparse_bool]', sort='time')"
   ]
  },
  {
   "cell_type": "markdown",
   "metadata": {},
   "source": [
    "### int sparse selection"
   ]
  },
  {
   "cell_type": "code",
   "execution_count": 68,
   "metadata": {},
   "outputs": [
    {
     "data": {
      "text/plain": [
       "10000"
      ]
     },
     "execution_count": 68,
     "metadata": {},
     "output_type": "execute_result"
    }
   ],
   "source": [
    "ix_sparse_int = np.random.choice(c.shape[0], size=c.shape[0]//10000, replace=True)\n",
    "ix_sparse_int_sorted = ix_sparse_int.copy()\n",
    "ix_sparse_int_sorted.sort()\n",
    "len(ix_sparse_int)"
   ]
  },
  {
   "cell_type": "code",
   "execution_count": 69,
   "metadata": {},
   "outputs": [
    {
     "name": "stdout",
     "output_type": "stream",
     "text": [
      "CPU times: user 0 ns, sys: 0 ns, total: 0 ns\n",
      "Wall time: 183 µs\n"
     ]
    },
    {
     "data": {
      "text/plain": [
       "array([   26607,    37803,    43822, ..., 99980305, 99994438, 99995776])"
      ]
     },
     "execution_count": 69,
     "metadata": {},
     "output_type": "execute_result"
    }
   ],
   "source": [
    "%time c[ix_sparse_int_sorted]"
   ]
  },
  {
   "cell_type": "code",
   "execution_count": 70,
   "metadata": {},
   "outputs": [
    {
     "name": "stdout",
     "output_type": "stream",
     "text": [
      "CPU times: user 0 ns, sys: 0 ns, total: 0 ns\n",
      "Wall time: 189 µs\n"
     ]
    },
    {
     "data": {
      "text/plain": [
       "array([89501247, 55878596, 46320615, ..., 57048243,  1027560, 66644274])"
      ]
     },
     "execution_count": 70,
     "metadata": {},
     "output_type": "execute_result"
    }
   ],
   "source": [
    "%time c[ix_sparse_int]"
   ]
  },
  {
   "cell_type": "code",
   "execution_count": 71,
   "metadata": {},
   "outputs": [
    {
     "name": "stdout",
     "output_type": "stream",
     "text": [
      "CPU times: user 384 ms, sys: 44 ms, total: 428 ms\n",
      "Wall time: 166 ms\n"
     ]
    },
    {
     "data": {
      "text/plain": [
       "array([   26607,    37803,    43822, ..., 99980305, 99994438, 99995776])"
      ]
     },
     "execution_count": 71,
     "metadata": {},
     "output_type": "execute_result"
    }
   ],
   "source": [
    "%time zc.oindex[ix_sparse_int_sorted]"
   ]
  },
  {
   "cell_type": "code",
   "execution_count": 72,
   "metadata": {},
   "outputs": [
    {
     "name": "stdout",
     "output_type": "stream",
     "text": [
      "CPU times: user 376 ms, sys: 32 ms, total: 408 ms\n",
      "Wall time: 137 ms\n"
     ]
    },
    {
     "data": {
      "text/plain": [
       "array([   26607,    37803,    43822, ..., 99980305, 99994438, 99995776])"
      ]
     },
     "execution_count": 72,
     "metadata": {},
     "output_type": "execute_result"
    }
   ],
   "source": [
    "%time zc.vindex[ix_sparse_int_sorted]"
   ]
  },
  {
   "cell_type": "code",
   "execution_count": 73,
   "metadata": {},
   "outputs": [
    {
     "name": "stdout",
     "output_type": "stream",
     "text": [
      "CPU times: user 412 ms, sys: 20 ms, total: 432 ms\n",
      "Wall time: 174 ms\n"
     ]
    },
    {
     "data": {
      "text/plain": [
       "array([89501247, 55878596, 46320615, ..., 57048243,  1027560, 66644274])"
      ]
     },
     "execution_count": 73,
     "metadata": {},
     "output_type": "execute_result"
    }
   ],
   "source": [
    "%time zc.oindex[ix_sparse_int]"
   ]
  },
  {
   "cell_type": "code",
   "execution_count": 74,
   "metadata": {},
   "outputs": [
    {
     "name": "stdout",
     "output_type": "stream",
     "text": [
      "CPU times: user 360 ms, sys: 36 ms, total: 396 ms\n",
      "Wall time: 134 ms\n"
     ]
    },
    {
     "data": {
      "text/plain": [
       "array([89501247, 55878596, 46320615, ..., 57048243,  1027560, 66644274])"
      ]
     },
     "execution_count": 74,
     "metadata": {},
     "output_type": "execute_result"
    }
   ],
   "source": [
    "%time zc.vindex[ix_sparse_int]"
   ]
  },
  {
   "cell_type": "code",
   "execution_count": 75,
   "metadata": {},
   "outputs": [
    {
     "name": "stdout",
     "output_type": "stream",
     "text": [
      "         85095 function calls in 0.170 seconds\n",
      "\n",
      "   Ordered by: internal time\n",
      "\n",
      "   ncalls  tottime  percall  cumtime  percall filename:lineno(function)\n",
      "     1024    0.097    0.000    0.102    0.000 core.py:997(_decode_chunk)\n",
      "     1025    0.006    0.000    0.044    0.000 indexing.py:484(__iter__)\n",
      "     2048    0.006    0.000    0.013    0.000 index_tricks.py:26(ix_)\n",
      "     1025    0.005    0.000    0.006    0.000 indexing.py:351(__iter__)\n",
      "     1024    0.005    0.000    0.122    0.000 core.py:822(_chunk_getitem)\n",
      "     2048    0.004    0.000    0.004    0.000 core.py:332(<genexpr>)\n",
      "     3072    0.004    0.000    0.004    0.000 {method 'reshape' of 'numpy.ndarray' objects}\n",
      "    10252    0.004    0.000    0.009    0.000 {built-in method builtins.isinstance}\n",
      "     3073    0.004    0.000    0.006    0.000 abc.py:178(__instancecheck__)\n",
      "     2048    0.003    0.000    0.025    0.000 indexing.py:377(ix_)\n",
      "        1    0.003    0.003    0.169    0.169 core.py:576(_get_selection)\n",
      "     1024    0.002    0.000    0.005    0.000 arrayprint.py:381(wrapper)\n",
      "     6146    0.002    0.000    0.002    0.000 _weakrefset.py:70(__contains__)\n",
      "     1024    0.002    0.000    0.008    0.000 {method 'join' of 'str' objects}\n",
      "     1024    0.002    0.000    0.006    0.000 core.py:327(_cdata_shape)\n",
      "     2048    0.002    0.000    0.003    0.000 numerictypes.py:728(issubdtype)\n",
      "     1024    0.002    0.000    0.002    0.000 {built-in method numpy.core.multiarray.frombuffer}\n",
      "     2048    0.002    0.000    0.008    0.000 indexing.py:384(<listcomp>)\n",
      "     1024    0.002    0.000    0.002    0.000 arrayprint.py:399(array2string)\n",
      "     1024    0.001    0.000    0.009    0.000 core.py:994(_chunk_key)\n",
      "        1    0.001    0.001    0.001    0.001 {method 'argsort' of 'numpy.ndarray' objects}\n",
      "     1024    0.001    0.000    0.006    0.000 numeric.py:1905(array_str)\n",
      "     2049    0.001    0.000    0.006    0.000 indexing.py:11(is_integer)\n",
      "     2054    0.001    0.000    0.001    0.000 {built-in method numpy.core.multiarray.array}\n",
      "     2048    0.001    0.000    0.001    0.000 {built-in method __new__ of type object at 0x55f19771c480}\n",
      "     2048    0.001    0.000    0.001    0.000 indexing.py:487(<genexpr>)\n",
      "     2051    0.001    0.000    0.001    0.000 indexing.py:165(ensure_tuple)\n",
      "     2048    0.001    0.000    0.001    0.000 numerictypes.py:660(issubclass_)\n",
      "     1024    0.001    0.000    0.003    0.000 indexing.py:501(<listcomp>)\n",
      "     4103    0.001    0.000    0.001    0.000 {built-in method builtins.len}\n",
      "     4096    0.001    0.000    0.001    0.000 {built-in method builtins.issubclass}\n",
      "     2048    0.001    0.000    0.001    0.000 numeric.py:463(asarray)\n",
      "     1024    0.001    0.000    0.001    0.000 threading.py:1230(current_thread)\n",
      "     1024    0.001    0.000    0.001    0.000 <string>:12(__new__)\n",
      "     2048    0.001    0.000    0.001    0.000 indexing.py:489(<genexpr>)\n",
      "     2048    0.000    0.000    0.000    0.000 {built-in method _thread.get_ident}\n",
      "        1    0.000    0.000    0.002    0.002 indexing.py:304(__init__)\n",
      "     2048    0.000    0.000    0.000    0.000 indexing.py:488(<genexpr>)\n",
      "     1024    0.000    0.000    0.000    0.000 core.py:213(chunk_store)\n",
      "     2049    0.000    0.000    0.000    0.000 {method 'append' of 'list' objects}\n",
      "     1024    0.000    0.000    0.000    0.000 {method 'item' of 'numpy.ndarray' objects}\n",
      "     1024    0.000    0.000    0.000    0.000 {method 'add' of 'set' objects}\n",
      "     1025    0.000    0.000    0.000    0.000 {built-in method builtins.any}\n",
      "     1024    0.000    0.000    0.000    0.000 threading.py:1304(main_thread)\n",
      "     1024    0.000    0.000    0.000    0.000 {method 'discard' of 'set' objects}\n",
      "     1024    0.000    0.000    0.000    0.000 {built-in method builtins.id}\n",
      "        4    0.000    0.000    0.000    0.000 {method 'reduce' of 'numpy.ufunc' objects}\n",
      "        1    0.000    0.000    0.171    0.171 indexing.py:512(__getitem__)\n",
      "        1    0.000    0.000    0.000    0.000 {method 'take' of 'numpy.ndarray' objects}\n",
      "        1    0.000    0.000    0.002    0.002 indexing.py:420(__init__)\n",
      "        1    0.000    0.000    0.000    0.000 {built-in method numpy.core.multiarray.bincount}\n",
      "        1    0.000    0.000    0.000    0.000 function_base.py:1848(diff)\n",
      "        1    0.000    0.000    0.171    0.171 {built-in method builtins.exec}\n",
      "        4    0.000    0.000    0.001    0.000 fromnumeric.py:55(_wrapfunc)\n",
      "        4    0.000    0.000    0.000    0.000 fromnumeric.py:1886(any)\n",
      "        1    0.000    0.000    0.000    0.000 {method 'cumsum' of 'numpy.ndarray' objects}\n",
      "        1    0.000    0.000    0.000    0.000 {method 'nonzero' of 'numpy.ndarray' objects}\n",
      "        1    0.000    0.000    0.171    0.171 <string>:1(<module>)\n",
      "        1    0.000    0.000    0.000    0.000 {built-in method numpy.core.multiarray.empty}\n",
      "        1    0.000    0.000    0.000    0.000 fromnumeric.py:70(take)\n",
      "        4    0.000    0.000    0.000    0.000 _methods.py:37(_any)\n",
      "        1    0.000    0.000    0.170    0.170 core.py:531(get_orthogonal_selection)\n",
      "        1    0.000    0.000    0.000    0.000 indexing.py:130(replace_ellipsis)\n",
      "        4    0.000    0.000    0.000    0.000 {built-in method builtins.getattr}\n",
      "        2    0.000    0.000    0.000    0.000 indexing.py:543(replace_lists)\n",
      "        1    0.000    0.000    0.000    0.000 indexing.py:721(pop_fields)\n",
      "        4    0.000    0.000    0.000    0.000 {method 'any' of 'numpy.ndarray' objects}\n",
      "        1    0.000    0.000    0.001    0.001 fromnumeric.py:826(argsort)\n",
      "        2    0.000    0.000    0.000    0.000 indexing.py:474(<genexpr>)\n",
      "        6    0.000    0.000    0.000    0.000 numeric.py:534(asanyarray)\n",
      "        1    0.000    0.000    0.000    0.000 indexing.py:15(is_integer_array)\n",
      "        1    0.000    0.000    0.000    0.000 indexing.py:476(<listcomp>)\n",
      "        4    0.000    0.000    0.000    0.000 indexing.py:545(<genexpr>)\n",
      "        1    0.000    0.000    0.000    0.000 fromnumeric.py:1487(nonzero)\n",
      "        1    0.000    0.000    0.000    0.000 fromnumeric.py:2053(cumsum)\n",
      "        1    0.000    0.000    0.000    0.000 {built-in method builtins.hasattr}\n",
      "        1    0.000    0.000    0.000    0.000 indexing.py:135(<genexpr>)\n",
      "        1    0.000    0.000    0.000    0.000 core.py:367(oindex)\n",
      "        1    0.000    0.000    0.000    0.000 {built-in method builtins.sum}\n",
      "        1    0.000    0.000    0.000    0.000 indexing.py:479(<listcomp>)\n",
      "        1    0.000    0.000    0.000    0.000 indexing.py:701(check_fields)\n",
      "        1    0.000    0.000    0.000    0.000 {method 'disable' of '_lsprof.Profiler' objects}\n",
      "\n",
      "\n"
     ]
    }
   ],
   "source": [
    "cProfile.run('zc.oindex[ix_sparse_int]', sort='time')"
   ]
  },
  {
   "cell_type": "code",
   "execution_count": 76,
   "metadata": {},
   "outputs": [
    {
     "name": "stdout",
     "output_type": "stream",
     "text": [
      "         35981 function calls in 0.136 seconds\n",
      "\n",
      "   Ordered by: internal time\n",
      "\n",
      "   ncalls  tottime  percall  cumtime  percall filename:lineno(function)\n",
      "     1024    0.093    0.000    0.098    0.000 core.py:997(_decode_chunk)\n",
      "     1025    0.008    0.000    0.015    0.000 indexing.py:624(__iter__)\n",
      "     1024    0.005    0.000    0.117    0.000 core.py:822(_chunk_getitem)\n",
      "     2048    0.004    0.000    0.004    0.000 indexing.py:645(<genexpr>)\n",
      "     2054    0.003    0.000    0.003    0.000 core.py:332(<genexpr>)\n",
      "        1    0.002    0.002    0.135    0.135 core.py:576(_get_selection)\n",
      "     1024    0.002    0.000    0.005    0.000 arrayprint.py:381(wrapper)\n",
      "     1027    0.002    0.000    0.002    0.000 {method 'reshape' of 'numpy.ndarray' objects}\n",
      "     1024    0.002    0.000    0.008    0.000 {method 'join' of 'str' objects}\n",
      "     1024    0.002    0.000    0.002    0.000 {built-in method numpy.core.multiarray.frombuffer}\n",
      "     1024    0.002    0.000    0.002    0.000 arrayprint.py:399(array2string)\n",
      "     1027    0.002    0.000    0.005    0.000 core.py:327(_cdata_shape)\n",
      "     3081    0.001    0.000    0.001    0.000 {built-in method builtins.isinstance}\n",
      "     1024    0.001    0.000    0.009    0.000 core.py:994(_chunk_key)\n",
      "     1024    0.001    0.000    0.006    0.000 numeric.py:1905(array_str)\n",
      "        1    0.001    0.001    0.001    0.001 {method 'argsort' of 'numpy.ndarray' objects}\n",
      "     2048    0.001    0.000    0.001    0.000 indexing.py:641(<genexpr>)\n",
      "     2048    0.001    0.000    0.001    0.000 indexing.py:629(<genexpr>)\n",
      "     1024    0.001    0.000    0.001    0.000 threading.py:1230(current_thread)\n",
      "     1024    0.000    0.000    0.001    0.000 <string>:12(__new__)\n",
      "     1024    0.000    0.000    0.000    0.000 {built-in method __new__ of type object at 0x55f19771c480}\n",
      "     2048    0.000    0.000    0.000    0.000 {built-in method _thread.get_ident}\n",
      "     2054    0.000    0.000    0.000    0.000 {built-in method builtins.len}\n",
      "        1    0.000    0.000    0.002    0.002 indexing.py:553(__init__)\n",
      "     1024    0.000    0.000    0.000    0.000 core.py:213(chunk_store)\n",
      "     1024    0.000    0.000    0.000    0.000 {method 'item' of 'numpy.ndarray' objects}\n",
      "     1024    0.000    0.000    0.000    0.000 threading.py:1304(main_thread)\n",
      "     1024    0.000    0.000    0.000    0.000 {method 'add' of 'set' objects}\n",
      "     1024    0.000    0.000    0.000    0.000 {built-in method builtins.id}\n",
      "     1024    0.000    0.000    0.000    0.000 {method 'discard' of 'set' objects}\n",
      "        2    0.000    0.000    0.000    0.000 indexing.py:580(<genexpr>)\n",
      "        1    0.000    0.000    0.000    0.000 function_base.py:1848(diff)\n",
      "        1    0.000    0.000    0.136    0.136 {built-in method builtins.exec}\n",
      "        4    0.000    0.000    0.000    0.000 {method 'reduce' of 'numpy.ufunc' objects}\n",
      "        1    0.000    0.000    0.000    0.000 {built-in method numpy.core.multiarray.ravel_multi_index}\n",
      "        1    0.000    0.000    0.000    0.000 {built-in method numpy.core.multiarray.unravel_index}\n",
      "        2    0.000    0.000    0.000    0.000 indexing.py:604(<genexpr>)\n",
      "        1    0.000    0.000    0.000    0.000 {built-in method numpy.core.multiarray.bincount}\n",
      "        2    0.000    0.000    0.000    0.000 indexing.py:543(replace_lists)\n",
      "        4    0.000    0.000    0.000    0.000 fromnumeric.py:1886(any)\n",
      "        1    0.000    0.000    0.136    0.136 indexing.py:678(__getitem__)\n",
      "        2    0.000    0.000    0.000    0.000 stride_tricks.py:195(broadcast_arrays)\n",
      "        1    0.000    0.000    0.136    0.136 <string>:1(<module>)\n",
      "        1    0.000    0.000    0.000    0.000 {method 'cumsum' of 'numpy.ndarray' objects}\n",
      "        3    0.000    0.000    0.001    0.000 fromnumeric.py:55(_wrapfunc)\n",
      "        1    0.000    0.000    0.000    0.000 indexing.py:721(pop_fields)\n",
      "        2    0.000    0.000    0.000    0.000 stride_tricks.py:176(_broadcast_shape)\n",
      "        3    0.000    0.000    0.000    0.000 abc.py:178(__instancecheck__)\n",
      "        4    0.000    0.000    0.000    0.000 {method 'any' of 'numpy.ndarray' objects}\n",
      "        1    0.000    0.000    0.000    0.000 {method 'nonzero' of 'numpy.ndarray' objects}\n",
      "        7    0.000    0.000    0.000    0.000 {built-in method numpy.core.multiarray.array}\n",
      "        1    0.000    0.000    0.136    0.136 core.py:543(get_coordinate_selection)\n",
      "        3    0.000    0.000    0.000    0.000 {built-in method builtins.getattr}\n",
      "        2    0.000    0.000    0.000    0.000 indexing.py:526(is_coordinate_selection)\n",
      "        4    0.000    0.000    0.000    0.000 _methods.py:37(_any)\n",
      "        5    0.000    0.000    0.000    0.000 numeric.py:534(asanyarray)\n",
      "        2    0.000    0.000    0.000    0.000 indexing.py:165(ensure_tuple)\n",
      "        1    0.000    0.000    0.000    0.000 core.py:342(_nchunks)\n",
      "        3    0.000    0.000    0.000    0.000 indexing.py:11(is_integer)\n",
      "        4    0.000    0.000    0.000    0.000 indexing.py:545(<genexpr>)\n",
      "        1    0.000    0.000    0.000    0.000 indexing.py:592(<listcomp>)\n",
      "        1    0.000    0.000    0.000    0.000 {built-in method numpy.core.multiarray.empty}\n",
      "        2    0.000    0.000    0.000    0.000 stride_tricks.py:247(<listcomp>)\n",
      "        4    0.000    0.000    0.000    0.000 stride_tricks.py:251(<genexpr>)\n",
      "        1    0.000    0.000    0.001    0.001 fromnumeric.py:826(argsort)\n",
      "        6    0.000    0.000    0.000    0.000 _weakrefset.py:70(__contains__)\n",
      "        2    0.000    0.000    0.000    0.000 {built-in method builtins.hasattr}\n",
      "        1    0.000    0.000    0.000    0.000 {built-in method _functools.reduce}\n",
      "        2    0.000    0.000    0.000    0.000 indexing.py:15(is_integer_array)\n",
      "        2    0.000    0.000    0.000    0.000 indexing.py:529(<listcomp>)\n",
      "        1    0.000    0.000    0.000    0.000 fromnumeric.py:1487(nonzero)\n",
      "        1    0.000    0.000    0.000    0.000 fromnumeric.py:2053(cumsum)\n",
      "        1    0.000    0.000    0.000    0.000 core.py:221(shape)\n",
      "        1    0.000    0.000    0.000    0.000 core.py:346(nchunks)\n",
      "        4    0.000    0.000    0.000    0.000 {built-in method builtins.all}\n",
      "        1    0.000    0.000    0.000    0.000 indexing.py:593(<listcomp>)\n",
      "        1    0.000    0.000    0.000    0.000 core.py:372(vindex)\n",
      "        2    0.000    0.000    0.000    0.000 core.py:161(_refresh_metadata)\n",
      "        2    0.000    0.000    0.000    0.000 {method 'pop' of 'dict' objects}\n",
      "        2    0.000    0.000    0.000    0.000 indexing.py:557(<genexpr>)\n",
      "        1    0.000    0.000    0.000    0.000 indexing.py:701(check_fields)\n",
      "        1    0.000    0.000    0.000    0.000 {method 'disable' of '_lsprof.Profiler' objects}\n",
      "\n",
      "\n"
     ]
    }
   ],
   "source": [
    "cProfile.run('zc.vindex[ix_sparse_int]', sort='time')"
   ]
  },
  {
   "cell_type": "markdown",
   "metadata": {},
   "source": [
    "For sparse selections, processing time is dominated by decompression, so we can't do any better."
   ]
  },
  {
   "cell_type": "markdown",
   "metadata": {},
   "source": [
    "### sparse bool selection as zarr array"
   ]
  },
  {
   "cell_type": "code",
   "execution_count": 77,
   "metadata": {},
   "outputs": [
    {
     "data": {
      "text/html": [
       "<table class=\"zarr-info\"><tbody><tr><th style=\"text-align: left\">Type</th><td style=\"text-align: left\">zarr.core.Array</td></tr><tr><th style=\"text-align: left\">Data type</th><td style=\"text-align: left\">bool</td></tr><tr><th style=\"text-align: left\">Shape</th><td style=\"text-align: left\">(100000000,)</td></tr><tr><th style=\"text-align: left\">Chunk shape</th><td style=\"text-align: left\">(390625,)</td></tr><tr><th style=\"text-align: left\">Order</th><td style=\"text-align: left\">C</td></tr><tr><th style=\"text-align: left\">Read-only</th><td style=\"text-align: left\">False</td></tr><tr><th style=\"text-align: left\">Compressor</th><td style=\"text-align: left\">Blosc(cname='lz4', clevel=5, shuffle=SHUFFLE, blocksize=0)</td></tr><tr><th style=\"text-align: left\">Store type</th><td style=\"text-align: left\">builtins.dict</td></tr><tr><th style=\"text-align: left\">No. bytes</th><td style=\"text-align: left\">100000000 (95.4M)</td></tr><tr><th style=\"text-align: left\">No. bytes stored</th><td style=\"text-align: left\">507131 (495.2K)</td></tr><tr><th style=\"text-align: left\">Storage ratio</th><td style=\"text-align: left\">197.2</td></tr><tr><th style=\"text-align: left\">Chunks initialized</th><td style=\"text-align: left\">256/256</td></tr></tbody></table>"
      ],
      "text/plain": [
       "Type               : zarr.core.Array\n",
       "Data type          : bool\n",
       "Shape              : (100000000,)\n",
       "Chunk shape        : (390625,)\n",
       "Order              : C\n",
       "Read-only          : False\n",
       "Compressor         : Blosc(cname='lz4', clevel=5, shuffle=SHUFFLE, blocksize=0)\n",
       "Store type         : builtins.dict\n",
       "No. bytes          : 100000000 (95.4M)\n",
       "No. bytes stored   : 507131 (495.2K)\n",
       "Storage ratio      : 197.2\n",
       "Chunks initialized : 256/256"
      ]
     },
     "execution_count": 77,
     "metadata": {},
     "output_type": "execute_result"
    }
   ],
   "source": [
    "zix_sparse_bool = zarr.array(ix_sparse_bool)\n",
    "zix_sparse_bool.info"
   ]
  },
  {
   "cell_type": "code",
   "execution_count": 78,
   "metadata": {},
   "outputs": [
    {
     "name": "stdout",
     "output_type": "stream",
     "text": [
      "CPU times: user 744 ms, sys: 120 ms, total: 864 ms\n",
      "Wall time: 384 ms\n"
     ]
    },
    {
     "data": {
      "text/plain": [
       "array([     888,     9941,    15901, ..., 99988491, 99988714, 99995248])"
      ]
     },
     "execution_count": 78,
     "metadata": {},
     "output_type": "execute_result"
    }
   ],
   "source": [
    "%time zc.oindex[zix_sparse_bool]"
   ]
  },
  {
   "cell_type": "markdown",
   "metadata": {},
   "source": [
    "### slice with step"
   ]
  },
  {
   "cell_type": "code",
   "execution_count": 79,
   "metadata": {},
   "outputs": [
    {
     "name": "stdout",
     "output_type": "stream",
     "text": [
      "CPU times: user 40 ms, sys: 52 ms, total: 92 ms\n",
      "Wall time: 89.5 ms\n"
     ]
    },
    {
     "data": {
      "text/plain": [
       "array([       0,        2,        4, ..., 99999994, 99999996, 99999998])"
      ]
     },
     "execution_count": 79,
     "metadata": {},
     "output_type": "execute_result"
    }
   ],
   "source": [
    "%time np.array(c[::2])"
   ]
  },
  {
   "cell_type": "code",
   "execution_count": 80,
   "metadata": {},
   "outputs": [
    {
     "name": "stdout",
     "output_type": "stream",
     "text": [
      "CPU times: user 1.29 s, sys: 240 ms, total: 1.53 s\n",
      "Wall time: 1.24 s\n"
     ]
    },
    {
     "data": {
      "text/plain": [
       "array([       0,        2,        4, ..., 99999994, 99999996, 99999998])"
      ]
     },
     "execution_count": 80,
     "metadata": {},
     "output_type": "execute_result"
    }
   ],
   "source": [
    "%time zc.oindex[::2]"
   ]
  },
  {
   "cell_type": "code",
   "execution_count": 81,
   "metadata": {},
   "outputs": [
    {
     "name": "stdout",
     "output_type": "stream",
     "text": [
      "CPU times: user 588 ms, sys: 88 ms, total: 676 ms\n",
      "Wall time: 411 ms\n"
     ]
    },
    {
     "data": {
      "text/plain": [
       "array([       0,       10,       20, ..., 99999970, 99999980, 99999990])"
      ]
     },
     "execution_count": 81,
     "metadata": {},
     "output_type": "execute_result"
    }
   ],
   "source": [
    "%time zc.oindex[::10]"
   ]
  },
  {
   "cell_type": "code",
   "execution_count": 82,
   "metadata": {},
   "outputs": [
    {
     "name": "stdout",
     "output_type": "stream",
     "text": [
      "CPU times: user 400 ms, sys: 28 ms, total: 428 ms\n",
      "Wall time: 184 ms\n"
     ]
    },
    {
     "data": {
      "text/plain": [
       "array([       0,      100,      200, ..., 99999700, 99999800, 99999900])"
      ]
     },
     "execution_count": 82,
     "metadata": {},
     "output_type": "execute_result"
    }
   ],
   "source": [
    "%time zc.oindex[::100]"
   ]
  },
  {
   "cell_type": "code",
   "execution_count": 83,
   "metadata": {},
   "outputs": [
    {
     "name": "stdout",
     "output_type": "stream",
     "text": [
      "CPU times: user 368 ms, sys: 52 ms, total: 420 ms\n",
      "Wall time: 167 ms\n"
     ]
    },
    {
     "data": {
      "text/plain": [
       "array([       0,     1000,     2000, ..., 99997000, 99998000, 99999000])"
      ]
     },
     "execution_count": 83,
     "metadata": {},
     "output_type": "execute_result"
    }
   ],
   "source": [
    "%time zc.oindex[::1000]"
   ]
  },
  {
   "cell_type": "code",
   "execution_count": 84,
   "metadata": {},
   "outputs": [
    {
     "name": "stdout",
     "output_type": "stream",
     "text": [
      "         64607 function calls in 1.249 seconds\n",
      "\n",
      "   Ordered by: internal time\n",
      "\n",
      "   ncalls  tottime  percall  cumtime  percall filename:lineno(function)\n",
      "        1    0.593    0.593    0.776    0.776 indexing.py:304(__init__)\n",
      "        1    0.119    0.119    0.119    0.119 {built-in method numpy.core.multiarray.bincount}\n",
      "     1024    0.115    0.000    0.247    0.000 core.py:822(_chunk_getitem)\n",
      "     1024    0.110    0.000    0.116    0.000 core.py:997(_decode_chunk)\n",
      "     1025    0.106    0.000    0.107    0.000 indexing.py:351(__iter__)\n",
      "        1    0.074    0.074    0.074    0.074 {built-in method numpy.core.multiarray.arange}\n",
      "        1    0.051    0.051    0.051    0.051 function_base.py:1848(diff)\n",
      "        1    0.014    0.014    1.248    1.248 core.py:531(get_orthogonal_selection)\n",
      "        4    0.013    0.003    0.013    0.003 {method 'reduce' of 'numpy.ufunc' objects}\n",
      "     1025    0.006    0.000    0.134    0.000 indexing.py:484(__iter__)\n",
      "     1024    0.004    0.000    0.008    0.000 index_tricks.py:26(ix_)\n",
      "     2048    0.004    0.000    0.004    0.000 core.py:332(<genexpr>)\n",
      "     2048    0.003    0.000    0.003    0.000 {method 'reshape' of 'numpy.ndarray' objects}\n",
      "     7180    0.003    0.000    0.007    0.000 {built-in method builtins.isinstance}\n",
      "        1    0.003    0.003    0.383    0.383 core.py:576(_get_selection)\n",
      "     2049    0.002    0.000    0.004    0.000 abc.py:178(__instancecheck__)\n",
      "     1024    0.002    0.000    0.005    0.000 arrayprint.py:381(wrapper)\n",
      "     1024    0.002    0.000    0.002    0.000 {built-in method numpy.core.multiarray.frombuffer}\n",
      "     1024    0.002    0.000    0.008    0.000 {method 'join' of 'str' objects}\n",
      "     1024    0.002    0.000    0.016    0.000 indexing.py:377(ix_)\n",
      "     1024    0.002    0.000    0.006    0.000 core.py:327(_cdata_shape)\n",
      "     4098    0.002    0.000    0.002    0.000 _weakrefset.py:70(__contains__)\n",
      "     1024    0.002    0.000    0.002    0.000 arrayprint.py:399(array2string)\n",
      "     1024    0.001    0.000    0.002    0.000 numerictypes.py:728(issubdtype)\n",
      "        1    0.001    0.001    0.851    0.851 indexing.py:420(__init__)\n",
      "     1024    0.001    0.000    0.009    0.000 core.py:994(_chunk_key)\n",
      "     1024    0.001    0.000    0.005    0.000 indexing.py:384(<listcomp>)\n",
      "     2048    0.001    0.000    0.001    0.000 {built-in method __new__ of type object at 0x55f19771c480}\n",
      "     1024    0.001    0.000    0.006    0.000 numeric.py:1905(array_str)\n",
      "        1    0.001    0.001    1.250    1.250 <string>:1(<module>)\n",
      "        1    0.001    0.001    1.249    1.249 indexing.py:512(__getitem__)\n",
      "     2048    0.001    0.000    0.001    0.000 indexing.py:487(<genexpr>)\n",
      "     1024    0.001    0.000    0.003    0.000 indexing.py:501(<listcomp>)\n",
      "     1024    0.001    0.000    0.001    0.000 threading.py:1230(current_thread)\n",
      "     3079    0.001    0.000    0.001    0.000 {built-in method builtins.len}\n",
      "     1030    0.001    0.000    0.001    0.000 {built-in method numpy.core.multiarray.array}\n",
      "     1025    0.000    0.000    0.004    0.000 indexing.py:11(is_integer)\n",
      "     2048    0.000    0.000    0.000    0.000 indexing.py:489(<genexpr>)\n",
      "     1024    0.000    0.000    0.001    0.000 <string>:12(__new__)\n",
      "     1027    0.000    0.000    0.001    0.000 indexing.py:165(ensure_tuple)\n",
      "     2048    0.000    0.000    0.000    0.000 {built-in method builtins.issubclass}\n",
      "     2048    0.000    0.000    0.000    0.000 {built-in method _thread.get_ident}\n",
      "     1024    0.000    0.000    0.001    0.000 numerictypes.py:660(issubclass_)\n",
      "     1024    0.000    0.000    0.001    0.000 numeric.py:463(asarray)\n",
      "     2048    0.000    0.000    0.000    0.000 indexing.py:488(<genexpr>)\n",
      "     1024    0.000    0.000    0.000    0.000 core.py:213(chunk_store)\n",
      "     1025    0.000    0.000    0.000    0.000 {built-in method builtins.any}\n",
      "     1024    0.000    0.000    0.000    0.000 {method 'item' of 'numpy.ndarray' objects}\n",
      "     1024    0.000    0.000    0.000    0.000 {method 'add' of 'set' objects}\n",
      "     1024    0.000    0.000    0.000    0.000 {method 'discard' of 'set' objects}\n",
      "     1024    0.000    0.000    0.000    0.000 threading.py:1304(main_thread)\n",
      "     1025    0.000    0.000    0.000    0.000 {method 'append' of 'list' objects}\n",
      "     1024    0.000    0.000    0.000    0.000 {built-in method builtins.id}\n",
      "        1    0.000    0.000    1.250    1.250 {built-in method builtins.exec}\n",
      "        4    0.000    0.000    0.014    0.003 fromnumeric.py:1886(any)\n",
      "        2    0.000    0.000    0.000    0.000 indexing.py:543(replace_lists)\n",
      "        1    0.000    0.000    0.000    0.000 indexing.py:130(replace_ellipsis)\n",
      "        1    0.000    0.000    0.000    0.000 {method 'cumsum' of 'numpy.ndarray' objects}\n",
      "        6    0.000    0.000    0.000    0.000 numeric.py:534(asanyarray)\n",
      "        1    0.000    0.000    0.000    0.000 {built-in method numpy.core.multiarray.empty}\n",
      "        1    0.000    0.000    0.000    0.000 indexing.py:721(pop_fields)\n",
      "        2    0.000    0.000    0.000    0.000 fromnumeric.py:55(_wrapfunc)\n",
      "        4    0.000    0.000    0.000    0.000 indexing.py:545(<genexpr>)\n",
      "        4    0.000    0.000    0.013    0.003 {method 'any' of 'numpy.ndarray' objects}\n",
      "        1    0.000    0.000    0.000    0.000 {method 'nonzero' of 'numpy.ndarray' objects}\n",
      "        4    0.000    0.000    0.013    0.003 _methods.py:37(_any)\n",
      "        1    0.000    0.000    0.000    0.000 fromnumeric.py:2053(cumsum)\n",
      "        1    0.000    0.000    0.000    0.000 {built-in method builtins.sum}\n",
      "        1    0.000    0.000    0.000    0.000 {method 'indices' of 'slice' objects}\n",
      "        2    0.000    0.000    0.000    0.000 {built-in method builtins.getattr}\n",
      "        1    0.000    0.000    0.000    0.000 indexing.py:135(<genexpr>)\n",
      "        2    0.000    0.000    0.000    0.000 indexing.py:474(<genexpr>)\n",
      "        1    0.000    0.000    0.000    0.000 indexing.py:476(<listcomp>)\n",
      "        1    0.000    0.000    0.000    0.000 core.py:367(oindex)\n",
      "        1    0.000    0.000    0.000    0.000 indexing.py:479(<listcomp>)\n",
      "        1    0.000    0.000    0.000    0.000 indexing.py:701(check_fields)\n",
      "        1    0.000    0.000    0.000    0.000 fromnumeric.py:1487(nonzero)\n",
      "        1    0.000    0.000    0.000    0.000 {method 'disable' of '_lsprof.Profiler' objects}\n",
      "\n",
      "\n"
     ]
    }
   ],
   "source": [
    "cProfile.run('zc.oindex[::2]', sort='time')"
   ]
  },
  {
   "cell_type": "markdown",
   "metadata": {},
   "source": [
    "Here there are various setup operations that need to be done on the integer array, can't see way to avoid ATM."
   ]
  },
  {
   "cell_type": "markdown",
   "metadata": {},
   "source": [
    "## 2D Benchmarking"
   ]
  },
  {
   "cell_type": "code",
   "execution_count": 85,
   "metadata": {},
   "outputs": [
    {
     "data": {
      "text/plain": [
       "(100000000,)"
      ]
     },
     "execution_count": 85,
     "metadata": {},
     "output_type": "execute_result"
    }
   ],
   "source": [
    "c.shape"
   ]
  },
  {
   "cell_type": "code",
   "execution_count": 86,
   "metadata": {},
   "outputs": [
    {
     "data": {
      "text/plain": [
       "(100000, 1000)"
      ]
     },
     "execution_count": 86,
     "metadata": {},
     "output_type": "execute_result"
    }
   ],
   "source": [
    "d = c.reshape(-1, 1000)\n",
    "d.shape"
   ]
  },
  {
   "cell_type": "code",
   "execution_count": 87,
   "metadata": {},
   "outputs": [
    {
     "data": {
      "text/html": [
       "<table class=\"zarr-info\"><tbody><tr><th style=\"text-align: left\">Type</th><td style=\"text-align: left\">zarr.core.Array</td></tr><tr><th style=\"text-align: left\">Data type</th><td style=\"text-align: left\">int64</td></tr><tr><th style=\"text-align: left\">Shape</th><td style=\"text-align: left\">(100000, 1000)</td></tr><tr><th style=\"text-align: left\">Chunk shape</th><td style=\"text-align: left\">(3125, 32)</td></tr><tr><th style=\"text-align: left\">Order</th><td style=\"text-align: left\">C</td></tr><tr><th style=\"text-align: left\">Read-only</th><td style=\"text-align: left\">False</td></tr><tr><th style=\"text-align: left\">Compressor</th><td style=\"text-align: left\">Blosc(cname='lz4', clevel=5, shuffle=SHUFFLE, blocksize=0)</td></tr><tr><th style=\"text-align: left\">Store type</th><td style=\"text-align: left\">builtins.dict</td></tr><tr><th style=\"text-align: left\">No. bytes</th><td style=\"text-align: left\">800000000 (762.9M)</td></tr><tr><th style=\"text-align: left\">No. bytes stored</th><td style=\"text-align: left\">39228864 (37.4M)</td></tr><tr><th style=\"text-align: left\">Storage ratio</th><td style=\"text-align: left\">20.4</td></tr><tr><th style=\"text-align: left\">Chunks initialized</th><td style=\"text-align: left\">1024/1024</td></tr></tbody></table>"
      ],
      "text/plain": [
       "Type               : zarr.core.Array\n",
       "Data type          : int64\n",
       "Shape              : (100000, 1000)\n",
       "Chunk shape        : (3125, 32)\n",
       "Order              : C\n",
       "Read-only          : False\n",
       "Compressor         : Blosc(cname='lz4', clevel=5, shuffle=SHUFFLE, blocksize=0)\n",
       "Store type         : builtins.dict\n",
       "No. bytes          : 800000000 (762.9M)\n",
       "No. bytes stored   : 39228864 (37.4M)\n",
       "Storage ratio      : 20.4\n",
       "Chunks initialized : 1024/1024"
      ]
     },
     "execution_count": 87,
     "metadata": {},
     "output_type": "execute_result"
    }
   ],
   "source": [
    "zd = zarr.array(d)\n",
    "zd.info"
   ]
  },
  {
   "cell_type": "markdown",
   "metadata": {},
   "source": [
    "### bool orthogonal selection"
   ]
  },
  {
   "cell_type": "code",
   "execution_count": 88,
   "metadata": {},
   "outputs": [],
   "source": [
    "ix0 = np.random.binomial(1, 0.5, size=d.shape[0]).astype(bool)\n",
    "ix1 = np.random.binomial(1, 0.5, size=d.shape[1]).astype(bool)"
   ]
  },
  {
   "cell_type": "code",
   "execution_count": 89,
   "metadata": {},
   "outputs": [
    {
     "name": "stdout",
     "output_type": "stream",
     "text": [
      "CPU times: user 116 ms, sys: 16 ms, total: 132 ms\n",
      "Wall time: 129 ms\n"
     ]
    },
    {
     "data": {
      "text/plain": [
       "array([[    1000,     1001,     1003, ...,     1994,     1995,     1999],\n",
       "       [    6000,     6001,     6003, ...,     6994,     6995,     6999],\n",
       "       [    8000,     8001,     8003, ...,     8994,     8995,     8999],\n",
       "       ..., \n",
       "       [99991000, 99991001, 99991003, ..., 99991994, 99991995, 99991999],\n",
       "       [99997000, 99997001, 99997003, ..., 99997994, 99997995, 99997999],\n",
       "       [99998000, 99998001, 99998003, ..., 99998994, 99998995, 99998999]])"
      ]
     },
     "execution_count": 89,
     "metadata": {},
     "output_type": "execute_result"
    }
   ],
   "source": [
    "%time d[np.ix_(ix0, ix1)]"
   ]
  },
  {
   "cell_type": "code",
   "execution_count": 90,
   "metadata": {},
   "outputs": [
    {
     "name": "stdout",
     "output_type": "stream",
     "text": [
      "CPU times: user 780 ms, sys: 40 ms, total: 820 ms\n",
      "Wall time: 387 ms\n"
     ]
    },
    {
     "data": {
      "text/plain": [
       "array([[    1000,     1001,     1003, ...,     1994,     1995,     1999],\n",
       "       [    6000,     6001,     6003, ...,     6994,     6995,     6999],\n",
       "       [    8000,     8001,     8003, ...,     8994,     8995,     8999],\n",
       "       ..., \n",
       "       [99991000, 99991001, 99991003, ..., 99991994, 99991995, 99991999],\n",
       "       [99997000, 99997001, 99997003, ..., 99997994, 99997995, 99997999],\n",
       "       [99998000, 99998001, 99998003, ..., 99998994, 99998995, 99998999]])"
      ]
     },
     "execution_count": 90,
     "metadata": {},
     "output_type": "execute_result"
    }
   ],
   "source": [
    "%time zd.oindex[ix0, ix1]"
   ]
  },
  {
   "cell_type": "markdown",
   "metadata": {},
   "source": [
    "### int orthogonal selection"
   ]
  },
  {
   "cell_type": "code",
   "execution_count": 91,
   "metadata": {},
   "outputs": [],
   "source": [
    "ix0 = np.random.choice(d.shape[0], size=int(d.shape[0] * .5), replace=True)\n",
    "ix1 = np.random.choice(d.shape[1], size=int(d.shape[1] * .5), replace=True)"
   ]
  },
  {
   "cell_type": "code",
   "execution_count": 92,
   "metadata": {},
   "outputs": [
    {
     "name": "stdout",
     "output_type": "stream",
     "text": [
      "CPU times: user 156 ms, sys: 28 ms, total: 184 ms\n",
      "Wall time: 184 ms\n"
     ]
    },
    {
     "data": {
      "text/plain": [
       "array([[38408139, 38408374, 38408509, ..., 38408966, 38408223, 38408367],\n",
       "       [29895139, 29895374, 29895509, ..., 29895966, 29895223, 29895367],\n",
       "       [79133139, 79133374, 79133509, ..., 79133966, 79133223, 79133367],\n",
       "       ..., \n",
       "       [95689139, 95689374, 95689509, ..., 95689966, 95689223, 95689367],\n",
       "       [47381139, 47381374, 47381509, ..., 47381966, 47381223, 47381367],\n",
       "       [20741139, 20741374, 20741509, ..., 20741966, 20741223, 20741367]])"
      ]
     },
     "execution_count": 92,
     "metadata": {},
     "output_type": "execute_result"
    }
   ],
   "source": [
    "%time d[np.ix_(ix0, ix1)]"
   ]
  },
  {
   "cell_type": "code",
   "execution_count": 93,
   "metadata": {},
   "outputs": [
    {
     "name": "stdout",
     "output_type": "stream",
     "text": [
      "CPU times: user 1.08 s, sys: 120 ms, total: 1.2 s\n",
      "Wall time: 586 ms\n"
     ]
    },
    {
     "data": {
      "text/plain": [
       "array([[38408139, 38408374, 38408509, ..., 38408966, 38408223, 38408367],\n",
       "       [29895139, 29895374, 29895509, ..., 29895966, 29895223, 29895367],\n",
       "       [79133139, 79133374, 79133509, ..., 79133966, 79133223, 79133367],\n",
       "       ..., \n",
       "       [95689139, 95689374, 95689509, ..., 95689966, 95689223, 95689367],\n",
       "       [47381139, 47381374, 47381509, ..., 47381966, 47381223, 47381367],\n",
       "       [20741139, 20741374, 20741509, ..., 20741966, 20741223, 20741367]])"
      ]
     },
     "execution_count": 93,
     "metadata": {},
     "output_type": "execute_result"
    }
   ],
   "source": [
    "%time zd.oindex[ix0, ix1]"
   ]
  },
  {
   "cell_type": "markdown",
   "metadata": {},
   "source": [
    "### coordinate (point) selection"
   ]
  },
  {
   "cell_type": "code",
   "execution_count": 94,
   "metadata": {},
   "outputs": [
    {
     "data": {
      "text/plain": [
       "10000000"
      ]
     },
     "execution_count": 94,
     "metadata": {},
     "output_type": "execute_result"
    }
   ],
   "source": [
    "n = int(d.size * .1)\n",
    "ix0 = np.random.choice(d.shape[0], size=n, replace=True)\n",
    "ix1 = np.random.choice(d.shape[1], size=n, replace=True)\n",
    "n"
   ]
  },
  {
   "cell_type": "code",
   "execution_count": 84,
   "metadata": {},
   "outputs": [
    {
     "name": "stdout",
     "output_type": "stream",
     "text": [
      "CPU times: user 256 ms, sys: 12 ms, total: 268 ms\n",
      "Wall time: 265 ms\n"
     ]
    },
    {
     "data": {
      "text/plain": [
       "array([ 6452573, 65841096, 70323990, ..., 44175624, 34778721, 67807976])"
      ]
     },
     "execution_count": 84,
     "metadata": {},
     "output_type": "execute_result"
    }
   ],
   "source": [
    "%time d[ix0, ix1]"
   ]
  },
  {
   "cell_type": "code",
   "execution_count": 95,
   "metadata": {},
   "outputs": [
    {
     "name": "stdout",
     "output_type": "stream",
     "text": [
      "CPU times: user 2.43 s, sys: 148 ms, total: 2.58 s\n",
      "Wall time: 2.09 s\n"
     ]
    },
    {
     "data": {
      "text/plain": [
       "array([55010547, 87536917, 88871707, ..., 73879431, 32878018, 25168834])"
      ]
     },
     "execution_count": 95,
     "metadata": {},
     "output_type": "execute_result"
    }
   ],
   "source": [
    "%time zd.vindex[ix0, ix1]"
   ]
  },
  {
   "cell_type": "code",
   "execution_count": 96,
   "metadata": {},
   "outputs": [
    {
     "name": "stdout",
     "output_type": "stream",
     "text": [
      "         48332 function calls in 2.050 seconds\n",
      "\n",
      "   Ordered by: internal time\n",
      "\n",
      "   ncalls  tottime  percall  cumtime  percall filename:lineno(function)\n",
      "        1    1.107    1.107    1.107    1.107 {method 'argsort' of 'numpy.ndarray' objects}\n",
      "        3    0.255    0.085    0.255    0.085 indexing.py:604(<genexpr>)\n",
      "        3    0.193    0.064    0.193    0.064 indexing.py:580(<genexpr>)\n",
      "     1024    0.164    0.000    0.328    0.000 core.py:822(_chunk_getitem)\n",
      "     1024    0.137    0.000    0.144    0.000 core.py:997(_decode_chunk)\n",
      "        1    0.045    0.045    0.045    0.045 {built-in method numpy.core.multiarray.ravel_multi_index}\n",
      "        1    0.044    0.044    1.683    1.683 indexing.py:553(__init__)\n",
      "        1    0.024    0.024    0.024    0.024 {built-in method numpy.core.multiarray.bincount}\n",
      "     3072    0.021    0.000    0.021    0.000 indexing.py:645(<genexpr>)\n",
      "        1    0.010    0.010    0.010    0.010 function_base.py:1848(diff)\n",
      "     1025    0.010    0.000    0.034    0.000 indexing.py:624(__iter__)\n",
      "        7    0.005    0.001    0.005    0.001 {method 'reduce' of 'numpy.ufunc' objects}\n",
      "     3081    0.005    0.000    0.005    0.000 core.py:332(<genexpr>)\n",
      "     2048    0.003    0.000    0.007    0.000 arrayprint.py:381(wrapper)\n",
      "        1    0.003    0.003    0.365    0.365 core.py:576(_get_selection)\n",
      "     1029    0.003    0.000    0.003    0.000 {method 'reshape' of 'numpy.ndarray' objects}\n",
      "     1024    0.003    0.000    0.011    0.000 {method 'join' of 'str' objects}\n",
      "     1024    0.003    0.000    0.003    0.000 {built-in method numpy.core.multiarray.frombuffer}\n",
      "     2048    0.002    0.000    0.003    0.000 arrayprint.py:399(array2string)\n",
      "     1027    0.002    0.000    0.006    0.000 core.py:327(_cdata_shape)\n",
      "     3090    0.001    0.000    0.001    0.000 {built-in method builtins.isinstance}\n",
      "     2048    0.001    0.000    0.009    0.000 numeric.py:1905(array_str)\n",
      "     1024    0.001    0.000    0.012    0.000 core.py:994(_chunk_key)\n",
      "     3072    0.001    0.000    0.001    0.000 indexing.py:641(<genexpr>)\n",
      "     3072    0.001    0.000    0.001    0.000 indexing.py:629(<genexpr>)\n",
      "        1    0.001    0.001    2.049    2.049 core.py:543(get_coordinate_selection)\n",
      "        1    0.001    0.001    2.049    2.049 indexing.py:678(__getitem__)\n",
      "     1024    0.001    0.000    0.001    0.000 threading.py:1230(current_thread)\n",
      "     1024    0.001    0.000    0.001    0.000 {built-in method __new__ of type object at 0x55f19771c480}\n",
      "     1024    0.001    0.000    0.001    0.000 <string>:12(__new__)\n",
      "     3072    0.001    0.000    0.001    0.000 {built-in method _thread.get_ident}\n",
      "     2048    0.000    0.000    0.000    0.000 {method 'item' of 'numpy.ndarray' objects}\n",
      "     2056    0.000    0.000    0.000    0.000 {built-in method builtins.len}\n",
      "     2048    0.000    0.000    0.000    0.000 {method 'add' of 'set' objects}\n",
      "     2048    0.000    0.000    0.000    0.000 {method 'discard' of 'set' objects}\n",
      "     1024    0.000    0.000    0.000    0.000 core.py:213(chunk_store)\n",
      "     2048    0.000    0.000    0.000    0.000 {built-in method builtins.id}\n",
      "     1024    0.000    0.000    0.000    0.000 threading.py:1304(main_thread)\n",
      "        1    0.000    0.000    2.050    2.050 <string>:1(<module>)\n",
      "        1    0.000    0.000    0.000    0.000 {built-in method numpy.core.multiarray.unravel_index}\n",
      "        7    0.000    0.000    0.005    0.001 fromnumeric.py:1886(any)\n",
      "        1    0.000    0.000    2.050    2.050 {built-in method builtins.exec}\n",
      "        3    0.000    0.000    1.107    0.369 fromnumeric.py:55(_wrapfunc)\n",
      "        1    0.000    0.000    0.000    0.000 {method 'cumsum' of 'numpy.ndarray' objects}\n",
      "       12    0.000    0.000    0.000    0.000 {built-in method numpy.core.multiarray.array}\n",
      "        8    0.000    0.000    0.000    0.000 numeric.py:534(asanyarray)\n",
      "        1    0.000    0.000    0.000    0.000 {method 'nonzero' of 'numpy.ndarray' objects}\n",
      "        7    0.000    0.000    0.005    0.001 {method 'any' of 'numpy.ndarray' objects}\n",
      "        1    0.000    0.000    0.000    0.000 {built-in method numpy.core.multiarray.empty}\n",
      "        2    0.000    0.000    0.000    0.000 stride_tricks.py:176(_broadcast_shape)\n",
      "        2    0.000    0.000    0.000    0.000 stride_tricks.py:195(broadcast_arrays)\n",
      "        1    0.000    0.000    0.000    0.000 core.py:342(_nchunks)\n",
      "        7    0.000    0.000    0.005    0.001 _methods.py:37(_any)\n",
      "        1    0.000    0.000    0.000    0.000 indexing.py:721(pop_fields)\n",
      "       12    0.000    0.000    0.000    0.000 _weakrefset.py:70(__contains__)\n",
      "        1    0.000    0.000    0.000    0.000 core.py:346(nchunks)\n",
      "        2    0.000    0.000    0.000    0.000 indexing.py:526(is_coordinate_selection)\n",
      "        6    0.000    0.000    0.000    0.000 abc.py:178(__instancecheck__)\n",
      "        3    0.000    0.000    0.000    0.000 {built-in method builtins.getattr}\n",
      "        1    0.000    0.000    0.000    0.000 {built-in method _functools.reduce}\n",
      "        6    0.000    0.000    0.000    0.000 indexing.py:11(is_integer)\n",
      "        1    0.000    0.000    0.000    0.000 indexing.py:592(<listcomp>)\n",
      "        1    0.000    0.000    1.107    1.107 fromnumeric.py:826(argsort)\n",
      "        4    0.000    0.000    0.000    0.000 {built-in method builtins.all}\n",
      "        4    0.000    0.000    0.000    0.000 indexing.py:15(is_integer_array)\n",
      "        2    0.000    0.000    0.000    0.000 indexing.py:543(replace_lists)\n",
      "        2    0.000    0.000    0.000    0.000 stride_tricks.py:247(<listcomp>)\n",
      "        6    0.000    0.000    0.000    0.000 stride_tricks.py:251(<genexpr>)\n",
      "        1    0.000    0.000    0.000    0.000 fromnumeric.py:2053(cumsum)\n",
      "        2    0.000    0.000    0.000    0.000 core.py:161(_refresh_metadata)\n",
      "        2    0.000    0.000    0.000    0.000 {method 'pop' of 'dict' objects}\n",
      "        4    0.000    0.000    0.000    0.000 {built-in method builtins.hasattr}\n",
      "        3    0.000    0.000    0.000    0.000 indexing.py:734(<genexpr>)\n",
      "        3    0.000    0.000    0.000    0.000 indexing.py:557(<genexpr>)\n",
      "        1    0.000    0.000    0.000    0.000 indexing.py:701(check_fields)\n",
      "        1    0.000    0.000    0.000    0.000 indexing.py:732(<listcomp>)\n",
      "        1    0.000    0.000    0.000    0.000 fromnumeric.py:1487(nonzero)\n",
      "        1    0.000    0.000    0.000    0.000 core.py:221(shape)\n",
      "        1    0.000    0.000    0.000    0.000 {method 'disable' of '_lsprof.Profiler' objects}\n",
      "        2    0.000    0.000    0.000    0.000 indexing.py:165(ensure_tuple)\n",
      "        2    0.000    0.000    0.000    0.000 indexing.py:529(<listcomp>)\n",
      "        6    0.000    0.000    0.000    0.000 indexing.py:545(<genexpr>)\n",
      "        1    0.000    0.000    0.000    0.000 indexing.py:593(<listcomp>)\n",
      "        1    0.000    0.000    0.000    0.000 core.py:372(vindex)\n",
      "\n",
      "\n"
     ]
    }
   ],
   "source": [
    "cProfile.run('zd.vindex[ix0, ix1]', sort='time')"
   ]
  },
  {
   "cell_type": "markdown",
   "metadata": {},
   "source": [
    "Points need to be partially sorted so all points in the same chunk are grouped and processed together. This requires ``argsort`` which dominates time."
   ]
  },
  {
   "cell_type": "markdown",
   "metadata": {},
   "source": [
    "## h5py comparison\n",
    "\n",
    "N.B., not really fair because using slower compressor, but for interest..."
   ]
  },
  {
   "cell_type": "code",
   "execution_count": 65,
   "metadata": {},
   "outputs": [],
   "source": [
    "import h5py\n",
    "import tempfile"
   ]
  },
  {
   "cell_type": "code",
   "execution_count": 78,
   "metadata": {},
   "outputs": [],
   "source": [
    "h5f = h5py.File(tempfile.mktemp(), driver='core', backing_store=False)"
   ]
  },
  {
   "cell_type": "code",
   "execution_count": 79,
   "metadata": {},
   "outputs": [
    {
     "data": {
      "text/plain": [
       "<HDF5 dataset \"c\": shape (100000000,), type \"<i8\">"
      ]
     },
     "execution_count": 79,
     "metadata": {},
     "output_type": "execute_result"
    }
   ],
   "source": [
    "hc = h5f.create_dataset('c', data=c, compression='gzip', compression_opts=1, chunks=zc.chunks, shuffle=True)\n",
    "hc"
   ]
  },
  {
   "cell_type": "code",
   "execution_count": 80,
   "metadata": {},
   "outputs": [
    {
     "name": "stdout",
     "output_type": "stream",
     "text": [
      "CPU times: user 1.16 s, sys: 172 ms, total: 1.33 s\n",
      "Wall time: 1.32 s\n"
     ]
    },
    {
     "data": {
      "text/plain": [
       "array([       0,        1,        2, ..., 99999997, 99999998, 99999999])"
      ]
     },
     "execution_count": 80,
     "metadata": {},
     "output_type": "execute_result"
    }
   ],
   "source": [
    "%time hc[:]"
   ]
  },
  {
   "cell_type": "code",
   "execution_count": 81,
   "metadata": {},
   "outputs": [
    {
     "name": "stdout",
     "output_type": "stream",
     "text": [
      "CPU times: user 1.11 s, sys: 0 ns, total: 1.11 s\n",
      "Wall time: 1.11 s\n"
     ]
    },
    {
     "data": {
      "text/plain": [
       "array([    1063,    28396,    37229, ..., 99955875, 99979354, 99995791])"
      ]
     },
     "execution_count": 81,
     "metadata": {},
     "output_type": "execute_result"
    }
   ],
   "source": [
    "%time hc[ix_sparse_bool]"
   ]
  },
  {
   "cell_type": "code",
   "execution_count": 82,
   "metadata": {},
   "outputs": [],
   "source": [
    "# # this is pathological, takes minutes \n",
    "# %time hc[ix_dense_bool]"
   ]
  },
  {
   "cell_type": "code",
   "execution_count": 83,
   "metadata": {},
   "outputs": [
    {
     "name": "stdout",
     "output_type": "stream",
     "text": [
      "CPU times: user 38.3 s, sys: 136 ms, total: 38.4 s\n",
      "Wall time: 38.1 s\n"
     ]
    },
    {
     "data": {
      "text/plain": [
       "array([       0,     1000,     2000, ..., 99997000, 99998000, 99999000])"
      ]
     },
     "execution_count": 83,
     "metadata": {},
     "output_type": "execute_result"
    }
   ],
   "source": [
    "# this is pretty slow\n",
    "%time hc[::1000]"
   ]
  },
  {
   "cell_type": "code",
   "execution_count": null,
   "metadata": {},
   "outputs": [],
   "source": []
  }
 ],
 "metadata": {
  "kernelspec": {
   "display_name": "Python 3",
   "language": "python",
   "name": "python3"
  },
  "language_info": {
   "codemirror_mode": {
    "name": "ipython",
    "version": 3
   },
   "file_extension": ".py",
   "mimetype": "text/x-python",
   "name": "python",
   "nbconvert_exporter": "python",
   "pygments_lexer": "ipython3",
   "version": "3.6.1"
  }
 },
 "nbformat": 4,
 "nbformat_minor": 2
}
