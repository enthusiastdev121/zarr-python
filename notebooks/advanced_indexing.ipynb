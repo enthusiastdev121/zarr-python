{
 "cells": [
  {
   "cell_type": "markdown",
   "metadata": {},
   "source": [
    "# Advanced indexing"
   ]
  },
  {
   "cell_type": "code",
   "execution_count": 2,
   "metadata": {},
   "outputs": [
    {
     "data": {
      "text/plain": [
       "'2.1.5.dev83'"
      ]
     },
     "execution_count": 2,
     "metadata": {},
     "output_type": "execute_result"
    }
   ],
   "source": [
    "import sys\n",
    "sys.path.insert(0, '..')\n",
    "import zarr\n",
    "import numpy as np\n",
    "np.random.seed(42)\n",
    "import cProfile\n",
    "zarr.__version__"
   ]
  },
  {
   "cell_type": "markdown",
   "metadata": {},
   "source": [
    "## Functionality and API"
   ]
  },
  {
   "cell_type": "markdown",
   "metadata": {},
   "source": [
    "### Indexing a 1D array with a Boolean array"
   ]
  },
  {
   "cell_type": "code",
   "execution_count": 47,
   "metadata": {},
   "outputs": [],
   "source": [
    "a = np.arange(10)\n",
    "za = zarr.array(a, chunks=2)\n",
    "ix = [False,  True,  False,  True, False, True, False,  True,  False,  True]"
   ]
  },
  {
   "cell_type": "code",
   "execution_count": 48,
   "metadata": {},
   "outputs": [
    {
     "data": {
      "text/plain": [
       "array([1, 3, 5, 7, 9])"
      ]
     },
     "execution_count": 48,
     "metadata": {},
     "output_type": "execute_result"
    }
   ],
   "source": [
    "# get items\n",
    "za[ix]"
   ]
  },
  {
   "cell_type": "code",
   "execution_count": 49,
   "metadata": {},
   "outputs": [
    {
     "data": {
      "text/plain": [
       "array([ 0, 10,  2, 30,  4, 50,  6, 70,  8, 90])"
      ]
     },
     "execution_count": 49,
     "metadata": {},
     "output_type": "execute_result"
    }
   ],
   "source": [
    "# set items\n",
    "za[ix] = a[ix] * 10\n",
    "za[:]"
   ]
  },
  {
   "cell_type": "code",
   "execution_count": 50,
   "metadata": {},
   "outputs": [
    {
     "data": {
      "text/plain": [
       "array([1, 3, 5, 7, 9])"
      ]
     },
     "execution_count": 50,
     "metadata": {},
     "output_type": "execute_result"
    }
   ],
   "source": [
    "# indexing array can be any array-like, e.g., Zarr array\n",
    "zix = zarr.array(ix, chunks=2)\n",
    "za = zarr.array(a, chunks=2)\n",
    "za[zix]  # will not load all zix into memory"
   ]
  },
  {
   "cell_type": "markdown",
   "metadata": {},
   "source": [
    "### Indexing a 1D array with an integer array"
   ]
  },
  {
   "cell_type": "code",
   "execution_count": 9,
   "metadata": {},
   "outputs": [],
   "source": [
    "a = np.arange(10)\n",
    "za = zarr.array(a, chunks=2)\n",
    "ix = [1, 3, 5, 7, 9]"
   ]
  },
  {
   "cell_type": "code",
   "execution_count": 19,
   "metadata": {},
   "outputs": [
    {
     "data": {
      "text/plain": [
       "array([10, 30, 50, 70, 90])"
      ]
     },
     "execution_count": 19,
     "metadata": {},
     "output_type": "execute_result"
    }
   ],
   "source": [
    "# get items\n",
    "za[ix]"
   ]
  },
  {
   "cell_type": "code",
   "execution_count": 20,
   "metadata": {},
   "outputs": [
    {
     "data": {
      "text/plain": [
       "array([ 0, 10,  2, 30,  4, 50,  6, 70,  8, 90])"
      ]
     },
     "execution_count": 20,
     "metadata": {},
     "output_type": "execute_result"
    }
   ],
   "source": [
    "# set items\n",
    "za[ix] = a[ix] * 10\n",
    "za[:]"
   ]
  },
  {
   "cell_type": "markdown",
   "metadata": {},
   "source": [
    "### Slicing a 1D array with step > 1\n",
    "\n",
    "Slices with step > 1 are supported. Internally these are converted to an integer array via ``np.arange``."
   ]
  },
  {
   "cell_type": "code",
   "execution_count": null,
   "metadata": {},
   "outputs": [],
   "source": [
    "a = np.arange(10)\n",
    "za = zarr.array(a, chunks=2)"
   ]
  },
  {
   "cell_type": "code",
   "execution_count": 21,
   "metadata": {},
   "outputs": [
    {
     "data": {
      "text/plain": [
       "array([10, 30, 50, 70, 90])"
      ]
     },
     "execution_count": 21,
     "metadata": {},
     "output_type": "execute_result"
    }
   ],
   "source": [
    "# get items\n",
    "za[1::2]"
   ]
  },
  {
   "cell_type": "code",
   "execution_count": 22,
   "metadata": {},
   "outputs": [
    {
     "data": {
      "text/plain": [
       "array([ 0, 10,  2, 30,  4, 50,  6, 70,  8, 90])"
      ]
     },
     "execution_count": 22,
     "metadata": {},
     "output_type": "execute_result"
    }
   ],
   "source": [
    "# set items\n",
    "za[1::2] = a[1::2] * 10\n",
    "za[:]"
   ]
  },
  {
   "cell_type": "markdown",
   "metadata": {},
   "source": [
    "### Orthogonal (outer) indexing of multi-dimensional arrays\n",
    "\n",
    "Orthogonal (a.k.a. outer) indexing is supported with either Boolean or integer arrays. This functionality is provided via the ``get/set_orthogonal_selection()`` methods. For convenience, this functionality is also available via the ``oindex[]`` property as has been proposed for numpy."
   ]
  },
  {
   "cell_type": "code",
   "execution_count": 51,
   "metadata": {},
   "outputs": [
    {
     "data": {
      "text/plain": [
       "array([[ 0,  1,  2],\n",
       "       [ 3,  4,  5],\n",
       "       [ 6,  7,  8],\n",
       "       [ 9, 10, 11],\n",
       "       [12, 13, 14]])"
      ]
     },
     "execution_count": 51,
     "metadata": {},
     "output_type": "execute_result"
    }
   ],
   "source": [
    "a = np.arange(15).reshape(5, 3)\n",
    "za = zarr.array(a, chunks=(3, 2))\n",
    "za[:]"
   ]
  },
  {
   "cell_type": "code",
   "execution_count": 30,
   "metadata": {},
   "outputs": [
    {
     "data": {
      "text/plain": [
       "array([[ 3,  5],\n",
       "       [ 9, 11]])"
      ]
     },
     "execution_count": 30,
     "metadata": {},
     "output_type": "execute_result"
    }
   ],
   "source": [
    "# orthogonal indexing with Boolean arrays\n",
    "ix0 = [False, True, False, True, False]\n",
    "ix1 = [True, False, True]\n",
    "za.get_orthogonal_selection((ix0, ix1))"
   ]
  },
  {
   "cell_type": "code",
   "execution_count": 31,
   "metadata": {},
   "outputs": [
    {
     "data": {
      "text/plain": [
       "array([[ 3,  5],\n",
       "       [ 9, 11]])"
      ]
     },
     "execution_count": 31,
     "metadata": {},
     "output_type": "execute_result"
    }
   ],
   "source": [
    "# alternative API\n",
    "za.oindex[ix0, ix1]"
   ]
  },
  {
   "cell_type": "code",
   "execution_count": 32,
   "metadata": {},
   "outputs": [
    {
     "data": {
      "text/plain": [
       "array([[ 3,  5],\n",
       "       [ 9, 11]])"
      ]
     },
     "execution_count": 32,
     "metadata": {},
     "output_type": "execute_result"
    }
   ],
   "source": [
    "# orthogonal indexing with integer arrays\n",
    "ix0 = [1, 3]\n",
    "ix1 = [0, 2]\n",
    "za.get_orthogonal_selection((ix0, ix1))"
   ]
  },
  {
   "cell_type": "code",
   "execution_count": 33,
   "metadata": {},
   "outputs": [
    {
     "data": {
      "text/plain": [
       "array([[ 3,  5],\n",
       "       [ 9, 11]])"
      ]
     },
     "execution_count": 33,
     "metadata": {},
     "output_type": "execute_result"
    }
   ],
   "source": [
    "# alternative API\n",
    "za.oindex[ix0, ix1]"
   ]
  },
  {
   "cell_type": "code",
   "execution_count": 38,
   "metadata": {},
   "outputs": [
    {
     "data": {
      "text/plain": [
       "array([[ 3,  4,  5],\n",
       "       [ 9, 10, 11]])"
      ]
     },
     "execution_count": 38,
     "metadata": {},
     "output_type": "execute_result"
    }
   ],
   "source": [
    "# combine with slice\n",
    "za.oindex[[1,  3], :]"
   ]
  },
  {
   "cell_type": "code",
   "execution_count": 39,
   "metadata": {},
   "outputs": [
    {
     "data": {
      "text/plain": [
       "array([[ 0,  2],\n",
       "       [ 3,  5],\n",
       "       [ 6,  8],\n",
       "       [ 9, 11],\n",
       "       [12, 14]])"
      ]
     },
     "execution_count": 39,
     "metadata": {},
     "output_type": "execute_result"
    }
   ],
   "source": [
    "# combine with slice\n",
    "za.oindex[:, [0, 2]]"
   ]
  },
  {
   "cell_type": "code",
   "execution_count": 41,
   "metadata": {},
   "outputs": [
    {
     "data": {
      "text/plain": [
       "array([[ 0,  1,  2],\n",
       "       [42,  4, 42],\n",
       "       [ 6,  7,  8],\n",
       "       [42, 10, 42],\n",
       "       [12, 13, 14]])"
      ]
     },
     "execution_count": 41,
     "metadata": {},
     "output_type": "execute_result"
    }
   ],
   "source": [
    "# set items via Boolean selection\n",
    "ix0 = [False, True, False, True, False]\n",
    "ix1 = [True, False, True]\n",
    "selection = ix0, ix1\n",
    "value = 42\n",
    "za.set_orthogonal_selection(selection, value)\n",
    "za[:]"
   ]
  },
  {
   "cell_type": "code",
   "execution_count": 43,
   "metadata": {},
   "outputs": [
    {
     "data": {
      "text/plain": [
       "array([[ 0,  1,  2],\n",
       "       [44,  4, 44],\n",
       "       [ 6,  7,  8],\n",
       "       [44, 10, 44],\n",
       "       [12, 13, 14]])"
      ]
     },
     "execution_count": 43,
     "metadata": {},
     "output_type": "execute_result"
    }
   ],
   "source": [
    "# alternative API\n",
    "za.oindex[ix0, ix1] = 44\n",
    "za[:]"
   ]
  },
  {
   "cell_type": "code",
   "execution_count": 44,
   "metadata": {},
   "outputs": [
    {
     "data": {
      "text/plain": [
       "array([[ 0,  1,  2],\n",
       "       [46,  4, 46],\n",
       "       [ 6,  7,  8],\n",
       "       [46, 10, 46],\n",
       "       [12, 13, 14]])"
      ]
     },
     "execution_count": 44,
     "metadata": {},
     "output_type": "execute_result"
    }
   ],
   "source": [
    "# set items via integer selection\n",
    "ix0 = [1, 3]\n",
    "ix1 = [0, 2]\n",
    "selection = ix0, ix1\n",
    "value = 46\n",
    "za.set_orthogonal_selection(selection, value)\n",
    "za[:]"
   ]
  },
  {
   "cell_type": "code",
   "execution_count": 45,
   "metadata": {},
   "outputs": [
    {
     "data": {
      "text/plain": [
       "array([[ 0,  1,  2],\n",
       "       [48,  4, 48],\n",
       "       [ 6,  7,  8],\n",
       "       [48, 10, 48],\n",
       "       [12, 13, 14]])"
      ]
     },
     "execution_count": 45,
     "metadata": {},
     "output_type": "execute_result"
    }
   ],
   "source": [
    "# alternative API\n",
    "za.oindex[ix0, ix1] = 48\n",
    "za[:]"
   ]
  },
  {
   "cell_type": "markdown",
   "metadata": {},
   "source": [
    "## Coordinate indexing of multi-dimensional arrays\n",
    "\n",
    "Selecting arbitrary points from a multi-dimensional array by indexing with integer (coordinate) arrays is supported. This functionality is provided via the ``get/set_coordinate_selection()`` methods. For convenience, this functionality is also available via the ``vindex[]`` property as has been proposed for numpy."
   ]
  },
  {
   "cell_type": "code",
   "execution_count": 52,
   "metadata": {},
   "outputs": [
    {
     "data": {
      "text/plain": [
       "array([[ 0,  1,  2],\n",
       "       [ 3,  4,  5],\n",
       "       [ 6,  7,  8],\n",
       "       [ 9, 10, 11],\n",
       "       [12, 13, 14]])"
      ]
     },
     "execution_count": 52,
     "metadata": {},
     "output_type": "execute_result"
    }
   ],
   "source": [
    "a = np.arange(15).reshape(5, 3)\n",
    "za = zarr.array(a, chunks=(3, 2))\n",
    "za[:]"
   ]
  },
  {
   "cell_type": "code",
   "execution_count": 57,
   "metadata": {},
   "outputs": [
    {
     "data": {
      "text/plain": [
       "array([ 3, 11])"
      ]
     },
     "execution_count": 57,
     "metadata": {},
     "output_type": "execute_result"
    }
   ],
   "source": [
    "# get items\n",
    "ix0 = [1, 3]\n",
    "ix1 = [0, 2]\n",
    "za.get_coordinate_selection((ix0, ix1))"
   ]
  },
  {
   "cell_type": "code",
   "execution_count": 56,
   "metadata": {},
   "outputs": [
    {
     "data": {
      "text/plain": [
       "array([ 3, 11])"
      ]
     },
     "execution_count": 56,
     "metadata": {},
     "output_type": "execute_result"
    }
   ],
   "source": [
    "# alternative API\n",
    "za.vindex[ix0, ix1]"
   ]
  },
  {
   "cell_type": "code",
   "execution_count": 58,
   "metadata": {},
   "outputs": [
    {
     "data": {
      "text/plain": [
       "array([[ 0,  1,  2],\n",
       "       [42,  4,  5],\n",
       "       [ 6,  7,  8],\n",
       "       [ 9, 10, 42],\n",
       "       [12, 13, 14]])"
      ]
     },
     "execution_count": 58,
     "metadata": {},
     "output_type": "execute_result"
    }
   ],
   "source": [
    "# set items\n",
    "za.set_coordinate_selection((ix0, ix1), 42)\n",
    "za[:]"
   ]
  },
  {
   "cell_type": "code",
   "execution_count": 59,
   "metadata": {},
   "outputs": [
    {
     "data": {
      "text/plain": [
       "array([[ 0,  1,  2],\n",
       "       [44,  4, 44],\n",
       "       [ 6,  7,  8],\n",
       "       [44, 10, 44],\n",
       "       [12, 13, 14]])"
      ]
     },
     "execution_count": 59,
     "metadata": {},
     "output_type": "execute_result"
    }
   ],
   "source": [
    "# alternative API\n",
    "za.vindex[ix0, ix1] = 44\n",
    "za[:]"
   ]
  },
  {
   "cell_type": "code",
   "execution_count": null,
   "metadata": {},
   "outputs": [],
   "source": []
  },
  {
   "cell_type": "markdown",
   "metadata": {},
   "source": [
    "## 1D Benchmarking"
   ]
  },
  {
   "cell_type": "code",
   "execution_count": 25,
   "metadata": {},
   "outputs": [
    {
     "data": {
      "text/plain": [
       "800000000"
      ]
     },
     "execution_count": 25,
     "metadata": {},
     "output_type": "execute_result"
    }
   ],
   "source": [
    "c = np.arange(100000000)\n",
    "c.nbytes"
   ]
  },
  {
   "cell_type": "code",
   "execution_count": 26,
   "metadata": {},
   "outputs": [
    {
     "name": "stdout",
     "output_type": "stream",
     "text": [
      "CPU times: user 508 ms, sys: 28 ms, total: 536 ms\n",
      "Wall time: 162 ms\n"
     ]
    },
    {
     "data": {
      "text/html": [
       "<table class=\"zarr-info\"><tbody><tr><th style=\"text-align: left\">Type</th><td style=\"text-align: left\">zarr.core.Array</td></tr><tr><th style=\"text-align: left\">Data type</th><td style=\"text-align: left\">int64</td></tr><tr><th style=\"text-align: left\">Shape</th><td style=\"text-align: left\">(100000000,)</td></tr><tr><th style=\"text-align: left\">Chunk shape</th><td style=\"text-align: left\">(97657,)</td></tr><tr><th style=\"text-align: left\">Order</th><td style=\"text-align: left\">C</td></tr><tr><th style=\"text-align: left\">Read-only</th><td style=\"text-align: left\">False</td></tr><tr><th style=\"text-align: left\">Compressor</th><td style=\"text-align: left\">Blosc(cname='lz4', clevel=5, shuffle=SHUFFLE, blocksize=0)</td></tr><tr><th style=\"text-align: left\">Store type</th><td style=\"text-align: left\">builtins.dict</td></tr><tr><th style=\"text-align: left\">No. bytes</th><td style=\"text-align: left\">800000000 (762.9M)</td></tr><tr><th style=\"text-align: left\">No. bytes stored</th><td style=\"text-align: left\">11854081 (11.3M)</td></tr><tr><th style=\"text-align: left\">Storage ratio</th><td style=\"text-align: left\">67.5</td></tr><tr><th style=\"text-align: left\">Chunks initialized</th><td style=\"text-align: left\">1024/1024</td></tr></tbody></table>"
      ],
      "text/plain": [
       "Type               : zarr.core.Array\n",
       "Data type          : int64\n",
       "Shape              : (100000000,)\n",
       "Chunk shape        : (97657,)\n",
       "Order              : C\n",
       "Read-only          : False\n",
       "Compressor         : Blosc(cname='lz4', clevel=5, shuffle=SHUFFLE, blocksize=0)\n",
       "Store type         : builtins.dict\n",
       "No. bytes          : 800000000 (762.9M)\n",
       "No. bytes stored   : 11854081 (11.3M)\n",
       "Storage ratio      : 67.5\n",
       "Chunks initialized : 1024/1024"
      ]
     },
     "execution_count": 26,
     "metadata": {},
     "output_type": "execute_result"
    }
   ],
   "source": [
    "%time zc = zarr.array(c)\n",
    "zc.info"
   ]
  },
  {
   "cell_type": "code",
   "execution_count": 27,
   "metadata": {},
   "outputs": [
    {
     "name": "stdout",
     "output_type": "stream",
     "text": [
      "CPU times: user 120 ms, sys: 60 ms, total: 180 ms\n",
      "Wall time: 178 ms\n"
     ]
    },
    {
     "data": {
      "text/plain": [
       "array([       0,        1,        2, ..., 99999997, 99999998, 99999999])"
      ]
     },
     "execution_count": 27,
     "metadata": {},
     "output_type": "execute_result"
    }
   ],
   "source": [
    "%time c.copy()"
   ]
  },
  {
   "cell_type": "code",
   "execution_count": 29,
   "metadata": {},
   "outputs": [
    {
     "name": "stdout",
     "output_type": "stream",
     "text": [
      "CPU times: user 520 ms, sys: 32 ms, total: 552 ms\n",
      "Wall time: 261 ms\n"
     ]
    },
    {
     "data": {
      "text/plain": [
       "array([       0,        1,        2, ..., 99999997, 99999998, 99999999])"
      ]
     },
     "execution_count": 29,
     "metadata": {},
     "output_type": "execute_result"
    }
   ],
   "source": [
    "%time zc[:]"
   ]
  },
  {
   "cell_type": "markdown",
   "metadata": {},
   "source": [
    "### bool dense selection"
   ]
  },
  {
   "cell_type": "code",
   "execution_count": 82,
   "metadata": {},
   "outputs": [
    {
     "data": {
      "text/plain": [
       "9998583"
      ]
     },
     "execution_count": 82,
     "metadata": {},
     "output_type": "execute_result"
    }
   ],
   "source": [
    "# relatively dense selection - 10%\n",
    "ix_dense_bool = np.random.binomial(1, 0.1, size=c.shape[0]).astype(bool)\n",
    "np.count_nonzero(ix_dense_bool)"
   ]
  },
  {
   "cell_type": "code",
   "execution_count": 83,
   "metadata": {},
   "outputs": [
    {
     "name": "stdout",
     "output_type": "stream",
     "text": [
      "CPU times: user 312 ms, sys: 0 ns, total: 312 ms\n",
      "Wall time: 311 ms\n"
     ]
    },
    {
     "data": {
      "text/plain": [
       "array([      23,       24,       39, ..., 99999967, 99999978, 99999995])"
      ]
     },
     "execution_count": 83,
     "metadata": {},
     "output_type": "execute_result"
    }
   ],
   "source": [
    "%time c[ix_dense_bool]"
   ]
  },
  {
   "cell_type": "code",
   "execution_count": 84,
   "metadata": {},
   "outputs": [
    {
     "name": "stdout",
     "output_type": "stream",
     "text": [
      "CPU times: user 888 ms, sys: 52 ms, total: 940 ms\n",
      "Wall time: 459 ms\n"
     ]
    },
    {
     "data": {
      "text/plain": [
       "array([      23,       24,       39, ..., 99999967, 99999978, 99999995])"
      ]
     },
     "execution_count": 84,
     "metadata": {},
     "output_type": "execute_result"
    }
   ],
   "source": [
    "%time zc[ix_dense_bool]"
   ]
  },
  {
   "cell_type": "code",
   "execution_count": 85,
   "metadata": {},
   "outputs": [
    {
     "name": "stdout",
     "output_type": "stream",
     "text": [
      "         58423 function calls in 0.514 seconds\n",
      "\n",
      "   Ordered by: internal time\n",
      "\n",
      "   ncalls  tottime  percall  cumtime  percall filename:lineno(function)\n",
      "     1025    0.205    0.000    0.205    0.000 {method 'nonzero' of 'numpy.ndarray' objects}\n",
      "     1024    0.169    0.000    0.179    0.000 core.py:930(_decode_chunk)\n",
      "     1024    0.062    0.000    0.261    0.000 core.py:768(_chunk_getitem)\n",
      "     1024    0.011    0.000    0.011    0.000 {built-in method numpy.core.multiarray.count_nonzero}\n",
      "     1025    0.008    0.000    0.234    0.000 new_indexing.py:494(__iter__)\n",
      "     1024    0.006    0.000    0.216    0.000 index_tricks.py:26(ix_)\n",
      "     2048    0.006    0.000    0.006    0.000 core.py:323(<genexpr>)\n",
      "     2048    0.005    0.000    0.005    0.000 {method 'reshape' of 'numpy.ndarray' objects}\n",
      "     1024    0.004    0.000    0.004    0.000 {built-in method numpy.core.multiarray.frombuffer}\n",
      "        1    0.004    0.004    0.499    0.499 core.py:548(_get_selection)\n",
      "     1024    0.003    0.000    0.006    0.000 arrayprint.py:381(wrapper)\n",
      "     1024    0.002    0.000    0.010    0.000 {method 'join' of 'str' objects}\n",
      "     1025    0.002    0.000    0.003    0.000 new_indexing.py:282(__iter__)\n",
      "     1024    0.002    0.000    0.008    0.000 core.py:318(_cdata_shape)\n",
      "        1    0.002    0.002    0.514    0.514 <string>:1(<module>)\n",
      "     1024    0.002    0.000    0.002    0.000 arrayprint.py:399(array2string)\n",
      "     6151    0.002    0.000    0.002    0.000 {built-in method builtins.isinstance}\n",
      "     1024    0.002    0.000    0.219    0.000 new_indexing.py:413(ix_)\n",
      "        1    0.001    0.001    0.013    0.013 new_indexing.py:255(__init__)\n",
      "     1024    0.001    0.000    0.002    0.000 numerictypes.py:728(issubdtype)\n",
      "     1024    0.001    0.000    0.011    0.000 core.py:927(_chunk_key)\n",
      "     1024    0.001    0.000    0.007    0.000 numeric.py:1905(array_str)\n",
      "     1024    0.001    0.000    0.001    0.000 new_indexing.py:418(<listcomp>)\n",
      "     1024    0.001    0.000    0.001    0.000 new_indexing.py:509(<listcomp>)\n",
      "     2048    0.001    0.000    0.001    0.000 new_indexing.py:497(<genexpr>)\n",
      "     1024    0.001    0.000    0.001    0.000 threading.py:1230(current_thread)\n",
      "     2048    0.001    0.000    0.001    0.000 {built-in method __new__ of type object at 0x55c5e1118480}\n",
      "     1024    0.001    0.000    0.001    0.000 <string>:12(__new__)\n",
      "     1024    0.001    0.000    0.001    0.000 {built-in method numpy.core.multiarray.array}\n",
      "     2048    0.001    0.000    0.001    0.000 new_indexing.py:499(<genexpr>)\n",
      "     3081    0.001    0.000    0.001    0.000 {built-in method builtins.len}\n",
      "     2048    0.001    0.000    0.001    0.000 {built-in method _thread.get_ident}\n",
      "     2048    0.000    0.000    0.000    0.000 {built-in method builtins.issubclass}\n",
      "     1024    0.000    0.000    0.001    0.000 numerictypes.py:660(issubclass_)\n",
      "     1024    0.000    0.000    0.001    0.000 numeric.py:463(asarray)\n",
      "     2048    0.000    0.000    0.000    0.000 new_indexing.py:498(<genexpr>)\n",
      "     1024    0.000    0.000    0.000    0.000 core.py:204(chunk_store)\n",
      "     1024    0.000    0.000    0.011    0.000 numeric.py:380(count_nonzero)\n",
      "     1024    0.000    0.000    0.000    0.000 {method 'item' of 'numpy.ndarray' objects}\n",
      "     1025    0.000    0.000    0.000    0.000 {built-in method builtins.any}\n",
      "     1024    0.000    0.000    0.000    0.000 threading.py:1304(main_thread)\n",
      "     1025    0.000    0.000    0.000    0.000 {method 'append' of 'list' objects}\n",
      "     1024    0.000    0.000    0.000    0.000 {method 'discard' of 'set' objects}\n",
      "     1024    0.000    0.000    0.000    0.000 {method 'add' of 'set' objects}\n",
      "     1024    0.000    0.000    0.000    0.000 {built-in method builtins.id}\n",
      "        1    0.000    0.000    0.013    0.013 new_indexing.py:430(__init__)\n",
      "        2    0.000    0.000    0.000    0.000 {built-in method numpy.core.multiarray.zeros}\n",
      "        1    0.000    0.000    0.514    0.514 {built-in method builtins.exec}\n",
      "        1    0.000    0.000    0.000    0.000 {built-in method numpy.core.multiarray.empty}\n",
      "        1    0.000    0.000    0.000    0.000 {method 'cumsum' of 'numpy.ndarray' objects}\n",
      "        2    0.000    0.000    0.000    0.000 fromnumeric.py:55(_wrapfunc)\n",
      "        1    0.000    0.000    0.512    0.512 core.py:391(__getitem__)\n",
      "        1    0.000    0.000    0.000    0.000 fromnumeric.py:2053(cumsum)\n",
      "        1    0.000    0.000    0.512    0.512 core.py:526(get_orthogonal_selection)\n",
      "        1    0.000    0.000    0.000    0.000 abc.py:178(__instancecheck__)\n",
      "        1    0.000    0.000    0.000    0.000 new_indexing.py:147(replace_ellipsis)\n",
      "        1    0.000    0.000    0.000    0.000 new_indexing.py:547(replace_lists)\n",
      "        2    0.000    0.000    0.000    0.000 {built-in method builtins.getattr}\n",
      "        2    0.000    0.000    0.000    0.000 {built-in method builtins.hasattr}\n",
      "        1    0.000    0.000    0.000    0.000 {built-in method builtins.sum}\n",
      "        1    0.000    0.000    0.000    0.000 new_indexing.py:180(ensure_tuple)\n",
      "        1    0.000    0.000    0.000    0.000 new_indexing.py:486(<listcomp>)\n",
      "        2    0.000    0.000    0.000    0.000 _weakrefset.py:70(__contains__)\n",
      "        2    0.000    0.000    0.000    0.000 new_indexing.py:484(<genexpr>)\n",
      "        2    0.000    0.000    0.000    0.000 new_indexing.py:549(<genexpr>)\n",
      "        1    0.000    0.000    0.000    0.000 fromnumeric.py:1487(nonzero)\n",
      "        1    0.000    0.000    0.000    0.000 {method 'disable' of '_lsprof.Profiler' objects}\n",
      "        1    0.000    0.000    0.000    0.000 new_indexing.py:150(<genexpr>)\n",
      "        1    0.000    0.000    0.000    0.000 new_indexing.py:489(<listcomp>)\n",
      "\n",
      "\n"
     ]
    }
   ],
   "source": [
    "cProfile.run('zc[ix_dense_bool]', sort='time')"
   ]
  },
  {
   "cell_type": "markdown",
   "metadata": {},
   "source": [
    "### int dense selection"
   ]
  },
  {
   "cell_type": "code",
   "execution_count": 86,
   "metadata": {},
   "outputs": [
    {
     "data": {
      "text/plain": [
       "(10000000,\n",
       " array([38852033, 29570639,  6153807, ..., 51604068, 33056119, 29899374]))"
      ]
     },
     "execution_count": 86,
     "metadata": {},
     "output_type": "execute_result"
    }
   ],
   "source": [
    "ix_dense_int = np.random.choice(c.shape[0], size=c.shape[0]//10, replace=True)\n",
    "ix_dense_int_sorted = ix_dense_int.copy()\n",
    "ix_dense_int_sorted.sort()\n",
    "len(ix_dense_int), ix_dense_int"
   ]
  },
  {
   "cell_type": "code",
   "execution_count": 87,
   "metadata": {},
   "outputs": [
    {
     "name": "stdout",
     "output_type": "stream",
     "text": [
      "CPU times: user 60 ms, sys: 32 ms, total: 92 ms\n",
      "Wall time: 91 ms\n"
     ]
    },
    {
     "data": {
      "text/plain": [
       "array([       6,        9,       15, ..., 99999956, 99999964, 99999985])"
      ]
     },
     "execution_count": 87,
     "metadata": {},
     "output_type": "execute_result"
    }
   ],
   "source": [
    "%time c[ix_dense_int_sorted]"
   ]
  },
  {
   "cell_type": "code",
   "execution_count": 88,
   "metadata": {},
   "outputs": [
    {
     "name": "stdout",
     "output_type": "stream",
     "text": [
      "CPU times: user 576 ms, sys: 104 ms, total: 680 ms\n",
      "Wall time: 428 ms\n"
     ]
    },
    {
     "data": {
      "text/plain": [
       "array([       6,        9,       15, ..., 99999956, 99999964, 99999985])"
      ]
     },
     "execution_count": 88,
     "metadata": {},
     "output_type": "execute_result"
    }
   ],
   "source": [
    "%time zc[ix_dense_int_sorted]"
   ]
  },
  {
   "cell_type": "code",
   "execution_count": 89,
   "metadata": {},
   "outputs": [
    {
     "name": "stdout",
     "output_type": "stream",
     "text": [
      "CPU times: user 144 ms, sys: 20 ms, total: 164 ms\n",
      "Wall time: 162 ms\n"
     ]
    },
    {
     "data": {
      "text/plain": [
       "array([38852033, 29570639,  6153807, ..., 51604068, 33056119, 29899374])"
      ]
     },
     "execution_count": 89,
     "metadata": {},
     "output_type": "execute_result"
    }
   ],
   "source": [
    "%time c[ix_dense_int]"
   ]
  },
  {
   "cell_type": "code",
   "execution_count": 90,
   "metadata": {},
   "outputs": [
    {
     "name": "stdout",
     "output_type": "stream",
     "text": [
      "CPU times: user 2.34 s, sys: 156 ms, total: 2.49 s\n",
      "Wall time: 2.18 s\n"
     ]
    },
    {
     "data": {
      "text/plain": [
       "array([38852033, 29570639,  6153807, ..., 51604068, 33056119, 29899374])"
      ]
     },
     "execution_count": 90,
     "metadata": {},
     "output_type": "execute_result"
    }
   ],
   "source": [
    "%time zc[ix_dense_int]"
   ]
  },
  {
   "cell_type": "code",
   "execution_count": 91,
   "metadata": {},
   "outputs": [
    {
     "name": "stdout",
     "output_type": "stream",
     "text": [
      "         55379 function calls in 0.491 seconds\n",
      "\n",
      "   Ordered by: internal time\n",
      "\n",
      "   ncalls  tottime  percall  cumtime  percall filename:lineno(function)\n",
      "        1    0.183    0.183    0.237    0.237 new_indexing.py:340(__init__)\n",
      "     1024    0.099    0.000    0.107    0.000 core.py:930(_decode_chunk)\n",
      "     1024    0.065    0.000    0.191    0.000 core.py:768(_chunk_getitem)\n",
      "        1    0.026    0.026    0.026    0.026 {built-in method numpy.core.multiarray.bincount}\n",
      "     1025    0.025    0.000    0.025    0.000 new_indexing.py:387(__iter__)\n",
      "        1    0.024    0.024    0.024    0.024 function_base.py:1848(diff)\n",
      "        1    0.007    0.007    0.245    0.245 core.py:548(_get_selection)\n",
      "     2048    0.006    0.000    0.006    0.000 core.py:323(<genexpr>)\n",
      "     1025    0.006    0.000    0.046    0.000 new_indexing.py:494(__iter__)\n",
      "     2048    0.004    0.000    0.004    0.000 {method 'reshape' of 'numpy.ndarray' objects}\n",
      "     1024    0.004    0.000    0.008    0.000 index_tricks.py:26(ix_)\n",
      "     1024    0.004    0.000    0.004    0.000 {built-in method numpy.core.multiarray.frombuffer}\n",
      "        1    0.004    0.004    0.241    0.241 new_indexing.py:430(__init__)\n",
      "        1    0.004    0.004    0.491    0.491 <string>:1(<module>)\n",
      "     1024    0.003    0.000    0.009    0.000 {method 'join' of 'str' objects}\n",
      "        4    0.003    0.001    0.003    0.001 {method 'reduce' of 'numpy.ufunc' objects}\n",
      "        1    0.003    0.003    0.488    0.488 core.py:526(get_orthogonal_selection)\n",
      "     1024    0.002    0.000    0.005    0.000 arrayprint.py:381(wrapper)\n",
      "     1024    0.002    0.000    0.008    0.000 core.py:318(_cdata_shape)\n",
      "     6151    0.002    0.000    0.002    0.000 {built-in method builtins.isinstance}\n",
      "     1024    0.001    0.000    0.002    0.000 arrayprint.py:399(array2string)\n",
      "     1024    0.001    0.000    0.011    0.000 new_indexing.py:413(ix_)\n",
      "     1024    0.001    0.000    0.010    0.000 core.py:927(_chunk_key)\n",
      "     1024    0.001    0.000    0.002    0.000 numerictypes.py:728(issubdtype)\n",
      "     1024    0.001    0.000    0.005    0.000 numeric.py:1905(array_str)\n",
      "     1024    0.001    0.000    0.001    0.000 new_indexing.py:418(<listcomp>)\n",
      "     2048    0.001    0.000    0.001    0.000 {built-in method __new__ of type object at 0x55c5e1118480}\n",
      "     2048    0.001    0.000    0.001    0.000 new_indexing.py:497(<genexpr>)\n",
      "     3081    0.001    0.000    0.001    0.000 {built-in method builtins.len}\n",
      "     1024    0.001    0.000    0.001    0.000 new_indexing.py:509(<listcomp>)\n",
      "     1024    0.001    0.000    0.001    0.000 threading.py:1230(current_thread)\n",
      "     2048    0.000    0.000    0.000    0.000 new_indexing.py:499(<genexpr>)\n",
      "     1024    0.000    0.000    0.001    0.000 <string>:12(__new__)\n",
      "     1030    0.000    0.000    0.000    0.000 {built-in method numpy.core.multiarray.array}\n",
      "     2048    0.000    0.000    0.000    0.000 {built-in method _thread.get_ident}\n",
      "     2048    0.000    0.000    0.000    0.000 {built-in method builtins.issubclass}\n",
      "     1024    0.000    0.000    0.001    0.000 numerictypes.py:660(issubclass_)\n",
      "     1024    0.000    0.000    0.001    0.000 numeric.py:463(asarray)\n",
      "     2048    0.000    0.000    0.000    0.000 new_indexing.py:498(<genexpr>)\n",
      "     1024    0.000    0.000    0.000    0.000 {method 'item' of 'numpy.ndarray' objects}\n",
      "     1025    0.000    0.000    0.000    0.000 {built-in method builtins.any}\n",
      "     1024    0.000    0.000    0.000    0.000 core.py:204(chunk_store)\n",
      "     1025    0.000    0.000    0.000    0.000 {method 'append' of 'list' objects}\n",
      "     1024    0.000    0.000    0.000    0.000 {method 'discard' of 'set' objects}\n",
      "     1024    0.000    0.000    0.000    0.000 threading.py:1304(main_thread)\n",
      "     1024    0.000    0.000    0.000    0.000 {method 'add' of 'set' objects}\n",
      "     1024    0.000    0.000    0.000    0.000 {built-in method builtins.id}\n",
      "        4    0.000    0.000    0.003    0.001 fromnumeric.py:1886(any)\n",
      "        1    0.000    0.000    0.491    0.491 {built-in method builtins.exec}\n",
      "        1    0.000    0.000    0.000    0.000 {built-in method numpy.core.multiarray.empty}\n",
      "        1    0.000    0.000    0.000    0.000 {method 'cumsum' of 'numpy.ndarray' objects}\n",
      "        4    0.000    0.000    0.003    0.001 {method 'any' of 'numpy.ndarray' objects}\n",
      "        6    0.000    0.000    0.000    0.000 numeric.py:534(asanyarray)\n",
      "        1    0.000    0.000    0.488    0.488 core.py:391(__getitem__)\n",
      "        2    0.000    0.000    0.000    0.000 fromnumeric.py:55(_wrapfunc)\n",
      "        1    0.000    0.000    0.000    0.000 {method 'nonzero' of 'numpy.ndarray' objects}\n",
      "        1    0.000    0.000    0.000    0.000 abc.py:178(__instancecheck__)\n",
      "        1    0.000    0.000    0.000    0.000 new_indexing.py:147(replace_ellipsis)\n",
      "        4    0.000    0.000    0.003    0.001 _methods.py:37(_any)\n",
      "        1    0.000    0.000    0.000    0.000 new_indexing.py:547(replace_lists)\n",
      "        2    0.000    0.000    0.000    0.000 {built-in method builtins.hasattr}\n",
      "        1    0.000    0.000    0.000    0.000 new_indexing.py:180(ensure_tuple)\n",
      "        2    0.000    0.000    0.000    0.000 new_indexing.py:484(<genexpr>)\n",
      "        1    0.000    0.000    0.000    0.000 new_indexing.py:486(<listcomp>)\n",
      "        2    0.000    0.000    0.000    0.000 new_indexing.py:549(<genexpr>)\n",
      "        1    0.000    0.000    0.000    0.000 fromnumeric.py:2053(cumsum)\n",
      "        2    0.000    0.000    0.000    0.000 _weakrefset.py:70(__contains__)\n",
      "        2    0.000    0.000    0.000    0.000 {built-in method builtins.getattr}\n",
      "        1    0.000    0.000    0.000    0.000 {built-in method builtins.sum}\n",
      "        1    0.000    0.000    0.000    0.000 new_indexing.py:150(<genexpr>)\n",
      "        1    0.000    0.000    0.000    0.000 new_indexing.py:489(<listcomp>)\n",
      "        1    0.000    0.000    0.000    0.000 fromnumeric.py:1487(nonzero)\n",
      "        1    0.000    0.000    0.000    0.000 {method 'disable' of '_lsprof.Profiler' objects}\n",
      "\n",
      "\n"
     ]
    }
   ],
   "source": [
    "cProfile.run('zc[ix_dense_int_sorted]', sort='time')"
   ]
  },
  {
   "cell_type": "code",
   "execution_count": 92,
   "metadata": {},
   "outputs": [
    {
     "name": "stdout",
     "output_type": "stream",
     "text": [
      "         69723 function calls in 2.217 seconds\n",
      "\n",
      "   Ordered by: internal time\n",
      "\n",
      "   ncalls  tottime  percall  cumtime  percall filename:lineno(function)\n",
      "        1    1.417    1.417    1.417    1.417 {method 'argsort' of 'numpy.ndarray' objects}\n",
      "        1    0.198    0.198    1.834    1.834 new_indexing.py:340(__init__)\n",
      "        1    0.169    0.169    0.169    0.169 {method 'take' of 'numpy.ndarray' objects}\n",
      "     1024    0.167    0.000    0.306    0.000 core.py:768(_chunk_getitem)\n",
      "     1024    0.116    0.000    0.122    0.000 core.py:930(_decode_chunk)\n",
      "     1025    0.026    0.000    0.027    0.000 new_indexing.py:387(__iter__)\n",
      "        1    0.024    0.024    0.024    0.024 function_base.py:1848(diff)\n",
      "        1    0.023    0.023    0.023    0.023 {built-in method numpy.core.multiarray.bincount}\n",
      "     1025    0.008    0.000    0.056    0.000 new_indexing.py:494(__iter__)\n",
      "        1    0.007    0.007    2.213    2.213 core.py:391(__getitem__)\n",
      "     2048    0.007    0.000    0.013    0.000 index_tricks.py:26(ix_)\n",
      "     2048    0.005    0.000    0.005    0.000 core.py:323(<genexpr>)\n",
      "        1    0.004    0.004    1.839    1.839 new_indexing.py:430(__init__)\n",
      "        1    0.004    0.004    2.217    2.217 <string>:1(<module>)\n",
      "     3072    0.004    0.000    0.004    0.000 {method 'reshape' of 'numpy.ndarray' objects}\n",
      "        1    0.003    0.003    0.365    0.365 core.py:548(_get_selection)\n",
      "        4    0.003    0.001    0.003    0.001 {method 'reduce' of 'numpy.ufunc' objects}\n",
      "        1    0.003    0.003    2.206    2.206 core.py:526(get_orthogonal_selection)\n",
      "     1024    0.002    0.000    0.005    0.000 arrayprint.py:381(wrapper)\n",
      "     2048    0.002    0.000    0.018    0.000 new_indexing.py:413(ix_)\n",
      "     1024    0.002    0.000    0.002    0.000 {built-in method numpy.core.multiarray.frombuffer}\n",
      "     1024    0.002    0.000    0.008    0.000 {method 'join' of 'str' objects}\n",
      "     1024    0.002    0.000    0.007    0.000 core.py:318(_cdata_shape)\n",
      "     8199    0.002    0.000    0.002    0.000 {built-in method builtins.isinstance}\n",
      "     2048    0.002    0.000    0.003    0.000 numerictypes.py:728(issubdtype)\n",
      "     1024    0.002    0.000    0.002    0.000 arrayprint.py:399(array2string)\n",
      "     2048    0.001    0.000    0.002    0.000 new_indexing.py:418(<listcomp>)\n",
      "     1024    0.001    0.000    0.009    0.000 core.py:927(_chunk_key)\n",
      "     1024    0.001    0.000    0.006    0.000 numeric.py:1905(array_str)\n",
      "     2054    0.001    0.000    0.001    0.000 {built-in method numpy.core.multiarray.array}\n",
      "     2048    0.001    0.000    0.001    0.000 {built-in method __new__ of type object at 0x55c5e1118480}\n",
      "     2048    0.001    0.000    0.001    0.000 new_indexing.py:497(<genexpr>)\n",
      "     4096    0.001    0.000    0.001    0.000 {built-in method builtins.issubclass}\n",
      "     2048    0.001    0.000    0.001    0.000 numeric.py:463(asarray)\n",
      "     4105    0.001    0.000    0.001    0.000 {built-in method builtins.len}\n",
      "     1024    0.001    0.000    0.001    0.000 new_indexing.py:509(<listcomp>)\n",
      "     2048    0.001    0.000    0.001    0.000 numerictypes.py:660(issubclass_)\n",
      "     1024    0.001    0.000    0.001    0.000 threading.py:1230(current_thread)\n",
      "     1024    0.001    0.000    0.001    0.000 <string>:12(__new__)\n",
      "     2048    0.000    0.000    0.000    0.000 new_indexing.py:499(<genexpr>)\n",
      "     2048    0.000    0.000    0.000    0.000 {built-in method _thread.get_ident}\n",
      "     2048    0.000    0.000    0.000    0.000 new_indexing.py:498(<genexpr>)\n",
      "     1024    0.000    0.000    0.000    0.000 core.py:204(chunk_store)\n",
      "     1025    0.000    0.000    0.000    0.000 {built-in method builtins.any}\n",
      "     2049    0.000    0.000    0.000    0.000 {method 'append' of 'list' objects}\n",
      "     1024    0.000    0.000    0.000    0.000 {method 'item' of 'numpy.ndarray' objects}\n",
      "     1024    0.000    0.000    0.000    0.000 {method 'discard' of 'set' objects}\n",
      "     1024    0.000    0.000    0.000    0.000 {method 'add' of 'set' objects}\n",
      "     1024    0.000    0.000    0.000    0.000 threading.py:1304(main_thread)\n",
      "     1024    0.000    0.000    0.000    0.000 {built-in method builtins.id}\n",
      "        1    0.000    0.000    2.217    2.217 {built-in method builtins.exec}\n",
      "        4    0.000    0.000    0.003    0.001 fromnumeric.py:1886(any)\n",
      "        4    0.000    0.000    1.587    0.397 fromnumeric.py:55(_wrapfunc)\n",
      "        6    0.000    0.000    0.000    0.000 numeric.py:534(asanyarray)\n",
      "        4    0.000    0.000    0.003    0.001 {method 'any' of 'numpy.ndarray' objects}\n",
      "        1    0.000    0.000    0.000    0.000 {built-in method numpy.core.multiarray.empty}\n",
      "        1    0.000    0.000    0.000    0.000 {method 'cumsum' of 'numpy.ndarray' objects}\n",
      "        1    0.000    0.000    0.000    0.000 abc.py:178(__instancecheck__)\n",
      "        1    0.000    0.000    0.000    0.000 new_indexing.py:147(replace_ellipsis)\n",
      "        1    0.000    0.000    0.000    0.000 new_indexing.py:547(replace_lists)\n",
      "        4    0.000    0.000    0.003    0.001 _methods.py:37(_any)\n",
      "        2    0.000    0.000    0.000    0.000 _weakrefset.py:70(__contains__)\n",
      "        1    0.000    0.000    0.000    0.000 new_indexing.py:180(ensure_tuple)\n",
      "        1    0.000    0.000    0.000    0.000 {method 'nonzero' of 'numpy.ndarray' objects}\n",
      "        4    0.000    0.000    0.000    0.000 {built-in method builtins.getattr}\n",
      "        1    0.000    0.000    0.169    0.169 fromnumeric.py:70(take)\n",
      "        2    0.000    0.000    0.000    0.000 {built-in method builtins.hasattr}\n",
      "        1    0.000    0.000    0.000    0.000 {built-in method builtins.sum}\n",
      "        2    0.000    0.000    0.000    0.000 new_indexing.py:549(<genexpr>)\n",
      "        1    0.000    0.000    1.417    1.417 fromnumeric.py:826(argsort)\n",
      "        1    0.000    0.000    0.000    0.000 new_indexing.py:150(<genexpr>)\n",
      "        2    0.000    0.000    0.000    0.000 new_indexing.py:484(<genexpr>)\n",
      "        1    0.000    0.000    0.000    0.000 new_indexing.py:486(<listcomp>)\n",
      "        1    0.000    0.000    0.000    0.000 fromnumeric.py:2053(cumsum)\n",
      "        1    0.000    0.000    0.000    0.000 new_indexing.py:489(<listcomp>)\n",
      "        1    0.000    0.000    0.000    0.000 {method 'disable' of '_lsprof.Profiler' objects}\n",
      "        1    0.000    0.000    0.000    0.000 fromnumeric.py:1487(nonzero)\n",
      "\n",
      "\n"
     ]
    }
   ],
   "source": [
    "cProfile.run('zc[ix_dense_int]', sort='time')"
   ]
  },
  {
   "cell_type": "markdown",
   "metadata": {},
   "source": [
    "### bool sparse selection"
   ]
  },
  {
   "cell_type": "code",
   "execution_count": 94,
   "metadata": {},
   "outputs": [
    {
     "data": {
      "text/plain": [
       "10033"
      ]
     },
     "execution_count": 94,
     "metadata": {},
     "output_type": "execute_result"
    }
   ],
   "source": [
    "# relatively sparse selection\n",
    "ix_sparse_bool = np.random.binomial(1, 0.0001, size=c.shape[0]).astype(bool)\n",
    "np.count_nonzero(ix_sparse_bool)"
   ]
  },
  {
   "cell_type": "code",
   "execution_count": 95,
   "metadata": {},
   "outputs": [
    {
     "name": "stdout",
     "output_type": "stream",
     "text": [
      "CPU times: user 20 ms, sys: 0 ns, total: 20 ms\n",
      "Wall time: 21.6 ms\n"
     ]
    },
    {
     "data": {
      "text/plain": [
       "array([   35449,    41893,    45592, ..., 99987487, 99990184, 99993538])"
      ]
     },
     "execution_count": 95,
     "metadata": {},
     "output_type": "execute_result"
    }
   ],
   "source": [
    "%time c[ix_sparse_bool]"
   ]
  },
  {
   "cell_type": "code",
   "execution_count": 96,
   "metadata": {},
   "outputs": [
    {
     "name": "stdout",
     "output_type": "stream",
     "text": [
      "CPU times: user 440 ms, sys: 56 ms, total: 496 ms\n",
      "Wall time: 222 ms\n"
     ]
    },
    {
     "data": {
      "text/plain": [
       "array([   35449,    41893,    45592, ..., 99987487, 99990184, 99993538])"
      ]
     },
     "execution_count": 96,
     "metadata": {},
     "output_type": "execute_result"
    }
   ],
   "source": [
    "%time zc[ix_sparse_bool]"
   ]
  },
  {
   "cell_type": "code",
   "execution_count": 97,
   "metadata": {},
   "outputs": [
    {
     "name": "stdout",
     "output_type": "stream",
     "text": [
      "         58423 function calls in 0.259 seconds\n",
      "\n",
      "   Ordered by: internal time\n",
      "\n",
      "   ncalls  tottime  percall  cumtime  percall filename:lineno(function)\n",
      "     1024    0.137    0.000    0.144    0.000 core.py:930(_decode_chunk)\n",
      "     1024    0.026    0.000    0.026    0.000 {built-in method numpy.core.multiarray.count_nonzero}\n",
      "     1025    0.023    0.000    0.023    0.000 {method 'nonzero' of 'numpy.ndarray' objects}\n",
      "     1024    0.008    0.000    0.172    0.000 core.py:768(_chunk_getitem)\n",
      "     1025    0.007    0.000    0.052    0.000 new_indexing.py:494(__iter__)\n",
      "     1024    0.006    0.000    0.034    0.000 index_tricks.py:26(ix_)\n",
      "     2048    0.006    0.000    0.006    0.000 core.py:323(<genexpr>)\n",
      "        1    0.005    0.005    0.032    0.032 new_indexing.py:255(__init__)\n",
      "     2048    0.004    0.000    0.004    0.000 {method 'reshape' of 'numpy.ndarray' objects}\n",
      "        1    0.003    0.003    0.227    0.227 core.py:548(_get_selection)\n",
      "     1025    0.003    0.000    0.003    0.000 new_indexing.py:282(__iter__)\n",
      "     1024    0.003    0.000    0.006    0.000 arrayprint.py:381(wrapper)\n",
      "     1024    0.002    0.000    0.010    0.000 {method 'join' of 'str' objects}\n",
      "     1024    0.002    0.000    0.008    0.000 core.py:318(_cdata_shape)\n",
      "     1024    0.002    0.000    0.002    0.000 {built-in method numpy.core.multiarray.frombuffer}\n",
      "     1024    0.002    0.000    0.002    0.000 arrayprint.py:399(array2string)\n",
      "     6151    0.002    0.000    0.002    0.000 {built-in method builtins.isinstance}\n",
      "     1024    0.002    0.000    0.037    0.000 new_indexing.py:413(ix_)\n",
      "     1024    0.001    0.000    0.002    0.000 numerictypes.py:728(issubdtype)\n",
      "     1024    0.001    0.000    0.011    0.000 core.py:927(_chunk_key)\n",
      "     1024    0.001    0.000    0.007    0.000 numeric.py:1905(array_str)\n",
      "     1024    0.001    0.000    0.027    0.000 numeric.py:380(count_nonzero)\n",
      "     1024    0.001    0.000    0.001    0.000 new_indexing.py:418(<listcomp>)\n",
      "     1024    0.001    0.000    0.001    0.000 new_indexing.py:509(<listcomp>)\n",
      "     2048    0.001    0.000    0.001    0.000 new_indexing.py:497(<genexpr>)\n",
      "     1024    0.001    0.000    0.001    0.000 threading.py:1230(current_thread)\n",
      "     2048    0.001    0.000    0.001    0.000 {built-in method __new__ of type object at 0x55c5e1118480}\n",
      "     1024    0.001    0.000    0.001    0.000 <string>:12(__new__)\n",
      "     3081    0.001    0.000    0.001    0.000 {built-in method builtins.len}\n",
      "     2048    0.001    0.000    0.001    0.000 new_indexing.py:499(<genexpr>)\n",
      "     1024    0.000    0.000    0.000    0.000 {built-in method numpy.core.multiarray.array}\n",
      "     1024    0.000    0.000    0.001    0.000 numeric.py:463(asarray)\n",
      "     2048    0.000    0.000    0.000    0.000 {built-in method _thread.get_ident}\n",
      "     1024    0.000    0.000    0.001    0.000 numerictypes.py:660(issubclass_)\n",
      "     2048    0.000    0.000    0.000    0.000 new_indexing.py:498(<genexpr>)\n",
      "     2048    0.000    0.000    0.000    0.000 {built-in method builtins.issubclass}\n",
      "     1024    0.000    0.000    0.000    0.000 core.py:204(chunk_store)\n",
      "     1025    0.000    0.000    0.000    0.000 {built-in method builtins.any}\n",
      "     1024    0.000    0.000    0.000    0.000 {method 'item' of 'numpy.ndarray' objects}\n",
      "     1024    0.000    0.000    0.000    0.000 {method 'add' of 'set' objects}\n",
      "     1024    0.000    0.000    0.000    0.000 threading.py:1304(main_thread)\n",
      "     1024    0.000    0.000    0.000    0.000 {method 'discard' of 'set' objects}\n",
      "     1025    0.000    0.000    0.000    0.000 {method 'append' of 'list' objects}\n",
      "     1024    0.000    0.000    0.000    0.000 {built-in method builtins.id}\n",
      "        1    0.000    0.000    0.260    0.260 {built-in method builtins.exec}\n",
      "        1    0.000    0.000    0.032    0.032 new_indexing.py:430(__init__)\n",
      "        2    0.000    0.000    0.000    0.000 {built-in method numpy.core.multiarray.zeros}\n",
      "        1    0.000    0.000    0.000    0.000 {method 'cumsum' of 'numpy.ndarray' objects}\n",
      "        1    0.000    0.000    0.259    0.259 core.py:526(get_orthogonal_selection)\n",
      "        2    0.000    0.000    0.000    0.000 fromnumeric.py:55(_wrapfunc)\n",
      "        1    0.000    0.000    0.259    0.259 core.py:391(__getitem__)\n",
      "        1    0.000    0.000    0.000    0.000 new_indexing.py:147(replace_ellipsis)\n",
      "        1    0.000    0.000    0.000    0.000 abc.py:178(__instancecheck__)\n",
      "        1    0.000    0.000    0.000    0.000 new_indexing.py:547(replace_lists)\n",
      "        1    0.000    0.000    0.000    0.000 new_indexing.py:180(ensure_tuple)\n",
      "        1    0.000    0.000    0.259    0.259 <string>:1(<module>)\n",
      "        2    0.000    0.000    0.000    0.000 _weakrefset.py:70(__contains__)\n",
      "        1    0.000    0.000    0.000    0.000 {built-in method numpy.core.multiarray.empty}\n",
      "        2    0.000    0.000    0.000    0.000 {built-in method builtins.hasattr}\n",
      "        1    0.000    0.000    0.000    0.000 fromnumeric.py:2053(cumsum)\n",
      "        2    0.000    0.000    0.000    0.000 new_indexing.py:549(<genexpr>)\n",
      "        1    0.000    0.000    0.000    0.000 {built-in method builtins.sum}\n",
      "        1    0.000    0.000    0.000    0.000 new_indexing.py:150(<genexpr>)\n",
      "        2    0.000    0.000    0.000    0.000 new_indexing.py:484(<genexpr>)\n",
      "        1    0.000    0.000    0.000    0.000 new_indexing.py:486(<listcomp>)\n",
      "        1    0.000    0.000    0.000    0.000 new_indexing.py:489(<listcomp>)\n",
      "        2    0.000    0.000    0.000    0.000 {built-in method builtins.getattr}\n",
      "        1    0.000    0.000    0.000    0.000 fromnumeric.py:1487(nonzero)\n",
      "        1    0.000    0.000    0.000    0.000 {method 'disable' of '_lsprof.Profiler' objects}\n",
      "\n",
      "\n"
     ]
    }
   ],
   "source": [
    "cProfile.run('zc[ix_sparse_bool]', sort='time')"
   ]
  },
  {
   "cell_type": "markdown",
   "metadata": {},
   "source": [
    "### int sparse selection"
   ]
  },
  {
   "cell_type": "code",
   "execution_count": 98,
   "metadata": {},
   "outputs": [
    {
     "data": {
      "text/plain": [
       "(10000,\n",
       " array([49021295, 65674535, 71257616, ..., 12130114, 48117886, 98926729]))"
      ]
     },
     "execution_count": 98,
     "metadata": {},
     "output_type": "execute_result"
    }
   ],
   "source": [
    "ix_sparse_int = np.random.choice(c.shape[0], size=c.shape[0]//10000, replace=True)\n",
    "ix_sparse_int_sorted = ix_sparse_int.copy()\n",
    "ix_sparse_int_sorted.sort()\n",
    "len(ix_sparse_int), ix_sparse_int"
   ]
  },
  {
   "cell_type": "code",
   "execution_count": 99,
   "metadata": {},
   "outputs": [
    {
     "name": "stdout",
     "output_type": "stream",
     "text": [
      "CPU times: user 0 ns, sys: 0 ns, total: 0 ns\n",
      "Wall time: 245 µs\n"
     ]
    },
    {
     "data": {
      "text/plain": [
       "array([   14556,    48679,    54538, ..., 99958362, 99994365, 99999645])"
      ]
     },
     "execution_count": 99,
     "metadata": {},
     "output_type": "execute_result"
    }
   ],
   "source": [
    "%time c[ix_sparse_int_sorted]"
   ]
  },
  {
   "cell_type": "code",
   "execution_count": 100,
   "metadata": {},
   "outputs": [
    {
     "name": "stdout",
     "output_type": "stream",
     "text": [
      "CPU times: user 0 ns, sys: 0 ns, total: 0 ns\n",
      "Wall time: 233 µs\n"
     ]
    },
    {
     "data": {
      "text/plain": [
       "array([49021295, 65674535, 71257616, ..., 12130114, 48117886, 98926729])"
      ]
     },
     "execution_count": 100,
     "metadata": {},
     "output_type": "execute_result"
    }
   ],
   "source": [
    "%time c[ix_sparse_int]"
   ]
  },
  {
   "cell_type": "code",
   "execution_count": 101,
   "metadata": {},
   "outputs": [
    {
     "name": "stdout",
     "output_type": "stream",
     "text": [
      "CPU times: user 388 ms, sys: 60 ms, total: 448 ms\n",
      "Wall time: 172 ms\n"
     ]
    },
    {
     "data": {
      "text/plain": [
       "array([   14556,    48679,    54538, ..., 99958362, 99994365, 99999645])"
      ]
     },
     "execution_count": 101,
     "metadata": {},
     "output_type": "execute_result"
    }
   ],
   "source": [
    "%time zc[ix_sparse_int_sorted]"
   ]
  },
  {
   "cell_type": "code",
   "execution_count": 102,
   "metadata": {},
   "outputs": [
    {
     "name": "stdout",
     "output_type": "stream",
     "text": [
      "CPU times: user 456 ms, sys: 32 ms, total: 488 ms\n",
      "Wall time: 182 ms\n"
     ]
    },
    {
     "data": {
      "text/plain": [
       "array([49021295, 65674535, 71257616, ..., 12130114, 48117886, 98926729])"
      ]
     },
     "execution_count": 102,
     "metadata": {},
     "output_type": "execute_result"
    }
   ],
   "source": [
    "%time zc[ix_sparse_int]"
   ]
  },
  {
   "cell_type": "code",
   "execution_count": 103,
   "metadata": {},
   "outputs": [
    {
     "name": "stdout",
     "output_type": "stream",
     "text": [
      "         69723 function calls in 0.224 seconds\n",
      "\n",
      "   Ordered by: internal time\n",
      "\n",
      "   ncalls  tottime  percall  cumtime  percall filename:lineno(function)\n",
      "     1024    0.148    0.000    0.155    0.000 core.py:930(_decode_chunk)\n",
      "     1025    0.008    0.000    0.038    0.000 new_indexing.py:494(__iter__)\n",
      "     2048    0.008    0.000    0.015    0.000 index_tricks.py:26(ix_)\n",
      "     1024    0.006    0.000    0.182    0.000 core.py:768(_chunk_getitem)\n",
      "     2048    0.006    0.000    0.006    0.000 core.py:323(<genexpr>)\n",
      "     3072    0.004    0.000    0.004    0.000 {method 'reshape' of 'numpy.ndarray' objects}\n",
      "     1025    0.004    0.000    0.005    0.000 new_indexing.py:387(__iter__)\n",
      "        1    0.003    0.003    0.223    0.223 core.py:548(_get_selection)\n",
      "     1024    0.003    0.000    0.006    0.000 arrayprint.py:381(wrapper)\n",
      "     2048    0.003    0.000    0.020    0.000 new_indexing.py:413(ix_)\n",
      "     1024    0.003    0.000    0.010    0.000 {method 'join' of 'str' objects}\n",
      "     1024    0.003    0.000    0.003    0.000 {built-in method numpy.core.multiarray.frombuffer}\n",
      "     1024    0.002    0.000    0.008    0.000 core.py:318(_cdata_shape)\n",
      "     8199    0.002    0.000    0.002    0.000 {built-in method builtins.isinstance}\n",
      "     2048    0.002    0.000    0.004    0.000 numerictypes.py:728(issubdtype)\n",
      "     1024    0.002    0.000    0.002    0.000 arrayprint.py:399(array2string)\n",
      "     2048    0.002    0.000    0.002    0.000 new_indexing.py:418(<listcomp>)\n",
      "     1024    0.001    0.000    0.011    0.000 core.py:927(_chunk_key)\n",
      "     1024    0.001    0.000    0.007    0.000 numeric.py:1905(array_str)\n",
      "     2054    0.001    0.000    0.001    0.000 {built-in method numpy.core.multiarray.array}\n",
      "     4096    0.001    0.000    0.001    0.000 {built-in method builtins.issubclass}\n",
      "     2048    0.001    0.000    0.001    0.000 new_indexing.py:497(<genexpr>)\n",
      "     2048    0.001    0.000    0.001    0.000 {built-in method __new__ of type object at 0x55c5e1118480}\n",
      "     1024    0.001    0.000    0.001    0.000 new_indexing.py:509(<listcomp>)\n",
      "     2048    0.001    0.000    0.002    0.000 numeric.py:463(asarray)\n",
      "     1024    0.001    0.000    0.001    0.000 threading.py:1230(current_thread)\n",
      "     2048    0.001    0.000    0.001    0.000 numerictypes.py:660(issubclass_)\n",
      "     4105    0.001    0.000    0.001    0.000 {built-in method builtins.len}\n",
      "        1    0.001    0.001    0.001    0.001 {method 'argsort' of 'numpy.ndarray' objects}\n",
      "     1024    0.001    0.000    0.001    0.000 <string>:12(__new__)\n",
      "     2048    0.001    0.000    0.001    0.000 new_indexing.py:499(<genexpr>)\n",
      "     2048    0.000    0.000    0.000    0.000 {built-in method _thread.get_ident}\n",
      "     2048    0.000    0.000    0.000    0.000 new_indexing.py:498(<genexpr>)\n",
      "     1024    0.000    0.000    0.000    0.000 core.py:204(chunk_store)\n",
      "        1    0.000    0.000    0.001    0.001 new_indexing.py:340(__init__)\n",
      "     2049    0.000    0.000    0.000    0.000 {method 'append' of 'list' objects}\n",
      "     1025    0.000    0.000    0.000    0.000 {built-in method builtins.any}\n",
      "     1024    0.000    0.000    0.000    0.000 {method 'item' of 'numpy.ndarray' objects}\n",
      "     1024    0.000    0.000    0.000    0.000 {method 'add' of 'set' objects}\n",
      "     1024    0.000    0.000    0.000    0.000 threading.py:1304(main_thread)\n",
      "     1024    0.000    0.000    0.000    0.000 {method 'discard' of 'set' objects}\n",
      "     1024    0.000    0.000    0.000    0.000 {built-in method builtins.id}\n",
      "        1    0.000    0.000    0.224    0.224 core.py:391(__getitem__)\n",
      "        4    0.000    0.000    0.000    0.000 {method 'reduce' of 'numpy.ufunc' objects}\n",
      "        1    0.000    0.000    0.001    0.001 new_indexing.py:430(__init__)\n",
      "        1    0.000    0.000    0.000    0.000 {method 'take' of 'numpy.ndarray' objects}\n",
      "        1    0.000    0.000    0.000    0.000 {built-in method numpy.core.multiarray.bincount}\n",
      "        1    0.000    0.000    0.000    0.000 function_base.py:1848(diff)\n",
      "        1    0.000    0.000    0.224    0.224 {built-in method builtins.exec}\n",
      "        4    0.000    0.000    0.000    0.000 fromnumeric.py:1886(any)\n",
      "        4    0.000    0.000    0.001    0.000 fromnumeric.py:55(_wrapfunc)\n",
      "        1    0.000    0.000    0.000    0.000 abc.py:178(__instancecheck__)\n",
      "        1    0.000    0.000    0.000    0.000 {method 'cumsum' of 'numpy.ndarray' objects}\n",
      "        1    0.000    0.000    0.000    0.000 {method 'nonzero' of 'numpy.ndarray' objects}\n",
      "        6    0.000    0.000    0.000    0.000 numeric.py:534(asanyarray)\n",
      "        4    0.000    0.000    0.000    0.000 {method 'any' of 'numpy.ndarray' objects}\n",
      "        1    0.000    0.000    0.000    0.000 {built-in method numpy.core.multiarray.empty}\n",
      "        2    0.000    0.000    0.000    0.000 _weakrefset.py:70(__contains__)\n",
      "        1    0.000    0.000    0.224    0.224 core.py:526(get_orthogonal_selection)\n",
      "        4    0.000    0.000    0.000    0.000 {built-in method builtins.getattr}\n",
      "        1    0.000    0.000    0.000    0.000 new_indexing.py:147(replace_ellipsis)\n",
      "        1    0.000    0.000    0.000    0.000 new_indexing.py:547(replace_lists)\n",
      "        1    0.000    0.000    0.224    0.224 <string>:1(<module>)\n",
      "        2    0.000    0.000    0.000    0.000 {built-in method builtins.hasattr}\n",
      "        1    0.000    0.000    0.000    0.000 new_indexing.py:180(ensure_tuple)\n",
      "        1    0.000    0.000    0.001    0.001 fromnumeric.py:826(argsort)\n",
      "        4    0.000    0.000    0.000    0.000 _methods.py:37(_any)\n",
      "        1    0.000    0.000    0.000    0.000 {built-in method builtins.sum}\n",
      "        1    0.000    0.000    0.000    0.000 new_indexing.py:150(<genexpr>)\n",
      "        2    0.000    0.000    0.000    0.000 new_indexing.py:484(<genexpr>)\n",
      "        1    0.000    0.000    0.000    0.000 new_indexing.py:486(<listcomp>)\n",
      "        1    0.000    0.000    0.000    0.000 new_indexing.py:489(<listcomp>)\n",
      "        1    0.000    0.000    0.000    0.000 fromnumeric.py:70(take)\n",
      "        1    0.000    0.000    0.000    0.000 fromnumeric.py:1487(nonzero)\n",
      "        1    0.000    0.000    0.000    0.000 fromnumeric.py:2053(cumsum)\n",
      "        2    0.000    0.000    0.000    0.000 new_indexing.py:549(<genexpr>)\n",
      "        1    0.000    0.000    0.000    0.000 {method 'disable' of '_lsprof.Profiler' objects}\n",
      "\n",
      "\n"
     ]
    }
   ],
   "source": [
    "cProfile.run('zc[ix_sparse_int]', sort='time')"
   ]
  },
  {
   "cell_type": "markdown",
   "metadata": {},
   "source": [
    "### sparse bool selection as zarr array"
   ]
  },
  {
   "cell_type": "code",
   "execution_count": 104,
   "metadata": {},
   "outputs": [
    {
     "data": {
      "text/html": [
       "<table class=\"zarr-info\"><tbody><tr><th style=\"text-align: left\">Type</th><td style=\"text-align: left\">zarr.core.Array</td></tr><tr><th style=\"text-align: left\">Data type</th><td style=\"text-align: left\">bool</td></tr><tr><th style=\"text-align: left\">Shape</th><td style=\"text-align: left\">(100000000,)</td></tr><tr><th style=\"text-align: left\">Chunk shape</th><td style=\"text-align: left\">(390625,)</td></tr><tr><th style=\"text-align: left\">Order</th><td style=\"text-align: left\">C</td></tr><tr><th style=\"text-align: left\">Read-only</th><td style=\"text-align: left\">False</td></tr><tr><th style=\"text-align: left\">Compressor</th><td style=\"text-align: left\">Blosc(cname='lz4', clevel=5, shuffle=SHUFFLE, blocksize=0)</td></tr><tr><th style=\"text-align: left\">Store type</th><td style=\"text-align: left\">builtins.dict</td></tr><tr><th style=\"text-align: left\">No. bytes</th><td style=\"text-align: left\">100000000 (95.4M)</td></tr><tr><th style=\"text-align: left\">No. bytes stored</th><td style=\"text-align: left\">507558 (495.7K)</td></tr><tr><th style=\"text-align: left\">Storage ratio</th><td style=\"text-align: left\">197.0</td></tr><tr><th style=\"text-align: left\">Chunks initialized</th><td style=\"text-align: left\">256/256</td></tr></tbody></table>"
      ],
      "text/plain": [
       "Type               : zarr.core.Array\n",
       "Data type          : bool\n",
       "Shape              : (100000000,)\n",
       "Chunk shape        : (390625,)\n",
       "Order              : C\n",
       "Read-only          : False\n",
       "Compressor         : Blosc(cname='lz4', clevel=5, shuffle=SHUFFLE, blocksize=0)\n",
       "Store type         : builtins.dict\n",
       "No. bytes          : 100000000 (95.4M)\n",
       "No. bytes stored   : 507558 (495.7K)\n",
       "Storage ratio      : 197.0\n",
       "Chunks initialized : 256/256"
      ]
     },
     "execution_count": 104,
     "metadata": {},
     "output_type": "execute_result"
    }
   ],
   "source": [
    "zix_sparse_bool = zarr.array(ix_sparse_bool)\n",
    "zix_sparse_bool.info"
   ]
  },
  {
   "cell_type": "code",
   "execution_count": 105,
   "metadata": {},
   "outputs": [
    {
     "name": "stdout",
     "output_type": "stream",
     "text": [
      "CPU times: user 852 ms, sys: 140 ms, total: 992 ms\n",
      "Wall time: 450 ms\n"
     ]
    },
    {
     "data": {
      "text/plain": [
       "array([   35449,    41893,    45592, ..., 99987487, 99990184, 99993538])"
      ]
     },
     "execution_count": 105,
     "metadata": {},
     "output_type": "execute_result"
    }
   ],
   "source": [
    "%time zc[zix_sparse_bool]"
   ]
  },
  {
   "cell_type": "markdown",
   "metadata": {},
   "source": [
    "### slice with step"
   ]
  },
  {
   "cell_type": "code",
   "execution_count": 53,
   "metadata": {},
   "outputs": [
    {
     "name": "stdout",
     "output_type": "stream",
     "text": [
      "CPU times: user 68 ms, sys: 28 ms, total: 96 ms\n",
      "Wall time: 92.7 ms\n"
     ]
    },
    {
     "data": {
      "text/plain": [
       "array([       0,        2,        4, ..., 99999994, 99999996, 99999998])"
      ]
     },
     "execution_count": 53,
     "metadata": {},
     "output_type": "execute_result"
    }
   ],
   "source": [
    "%time np.array(c[::2])"
   ]
  },
  {
   "cell_type": "code",
   "execution_count": 54,
   "metadata": {},
   "outputs": [
    {
     "name": "stdout",
     "output_type": "stream",
     "text": [
      "CPU times: user 1.3 s, sys: 268 ms, total: 1.57 s\n",
      "Wall time: 1.3 s\n"
     ]
    },
    {
     "data": {
      "text/plain": [
       "array([       0,        2,        4, ..., 99999994, 99999996, 99999998])"
      ]
     },
     "execution_count": 54,
     "metadata": {},
     "output_type": "execute_result"
    }
   ],
   "source": [
    "%time zc[::2]"
   ]
  },
  {
   "cell_type": "code",
   "execution_count": 55,
   "metadata": {},
   "outputs": [
    {
     "name": "stdout",
     "output_type": "stream",
     "text": [
      "CPU times: user 564 ms, sys: 84 ms, total: 648 ms\n",
      "Wall time: 396 ms\n"
     ]
    },
    {
     "data": {
      "text/plain": [
       "array([       0,       10,       20, ..., 99999970, 99999980, 99999990])"
      ]
     },
     "execution_count": 55,
     "metadata": {},
     "output_type": "execute_result"
    }
   ],
   "source": [
    "%time zc[::10]"
   ]
  },
  {
   "cell_type": "code",
   "execution_count": 56,
   "metadata": {},
   "outputs": [
    {
     "name": "stdout",
     "output_type": "stream",
     "text": [
      "CPU times: user 472 ms, sys: 40 ms, total: 512 ms\n",
      "Wall time: 213 ms\n"
     ]
    },
    {
     "data": {
      "text/plain": [
       "array([       0,      100,      200, ..., 99999700, 99999800, 99999900])"
      ]
     },
     "execution_count": 56,
     "metadata": {},
     "output_type": "execute_result"
    }
   ],
   "source": [
    "%time zc[::100]"
   ]
  },
  {
   "cell_type": "code",
   "execution_count": 57,
   "metadata": {},
   "outputs": [
    {
     "name": "stdout",
     "output_type": "stream",
     "text": [
      "CPU times: user 432 ms, sys: 48 ms, total: 480 ms\n",
      "Wall time: 192 ms\n"
     ]
    },
    {
     "data": {
      "text/plain": [
       "array([       0,     1000,     2000, ..., 99997000, 99998000, 99999000])"
      ]
     },
     "execution_count": 57,
     "metadata": {},
     "output_type": "execute_result"
    }
   ],
   "source": [
    "%time zc[::1000]"
   ]
  },
  {
   "cell_type": "markdown",
   "metadata": {},
   "source": [
    "## 2D Benchmarking"
   ]
  },
  {
   "cell_type": "code",
   "execution_count": 106,
   "metadata": {},
   "outputs": [
    {
     "data": {
      "text/plain": [
       "(100000000,)"
      ]
     },
     "execution_count": 106,
     "metadata": {},
     "output_type": "execute_result"
    }
   ],
   "source": [
    "c.shape"
   ]
  },
  {
   "cell_type": "code",
   "execution_count": 107,
   "metadata": {},
   "outputs": [
    {
     "data": {
      "text/plain": [
       "(100000, 1000)"
      ]
     },
     "execution_count": 107,
     "metadata": {},
     "output_type": "execute_result"
    }
   ],
   "source": [
    "d = c.reshape(-1, 1000)\n",
    "d.shape"
   ]
  },
  {
   "cell_type": "code",
   "execution_count": 108,
   "metadata": {},
   "outputs": [
    {
     "data": {
      "text/html": [
       "<table class=\"zarr-info\"><tbody><tr><th style=\"text-align: left\">Type</th><td style=\"text-align: left\">zarr.core.Array</td></tr><tr><th style=\"text-align: left\">Data type</th><td style=\"text-align: left\">int64</td></tr><tr><th style=\"text-align: left\">Shape</th><td style=\"text-align: left\">(100000, 1000)</td></tr><tr><th style=\"text-align: left\">Chunk shape</th><td style=\"text-align: left\">(3125, 32)</td></tr><tr><th style=\"text-align: left\">Order</th><td style=\"text-align: left\">C</td></tr><tr><th style=\"text-align: left\">Read-only</th><td style=\"text-align: left\">False</td></tr><tr><th style=\"text-align: left\">Compressor</th><td style=\"text-align: left\">Blosc(cname='lz4', clevel=5, shuffle=SHUFFLE, blocksize=0)</td></tr><tr><th style=\"text-align: left\">Store type</th><td style=\"text-align: left\">builtins.dict</td></tr><tr><th style=\"text-align: left\">No. bytes</th><td style=\"text-align: left\">800000000 (762.9M)</td></tr><tr><th style=\"text-align: left\">No. bytes stored</th><td style=\"text-align: left\">39228864 (37.4M)</td></tr><tr><th style=\"text-align: left\">Storage ratio</th><td style=\"text-align: left\">20.4</td></tr><tr><th style=\"text-align: left\">Chunks initialized</th><td style=\"text-align: left\">1024/1024</td></tr></tbody></table>"
      ],
      "text/plain": [
       "Type               : zarr.core.Array\n",
       "Data type          : int64\n",
       "Shape              : (100000, 1000)\n",
       "Chunk shape        : (3125, 32)\n",
       "Order              : C\n",
       "Read-only          : False\n",
       "Compressor         : Blosc(cname='lz4', clevel=5, shuffle=SHUFFLE, blocksize=0)\n",
       "Store type         : builtins.dict\n",
       "No. bytes          : 800000000 (762.9M)\n",
       "No. bytes stored   : 39228864 (37.4M)\n",
       "Storage ratio      : 20.4\n",
       "Chunks initialized : 1024/1024"
      ]
     },
     "execution_count": 108,
     "metadata": {},
     "output_type": "execute_result"
    }
   ],
   "source": [
    "zd = zarr.array(d)\n",
    "zd.info"
   ]
  },
  {
   "cell_type": "markdown",
   "metadata": {},
   "source": [
    "### bool orthogonal selection"
   ]
  },
  {
   "cell_type": "code",
   "execution_count": 109,
   "metadata": {},
   "outputs": [],
   "source": [
    "ix0 = np.random.binomial(1, 0.5, size=d.shape[0]).astype(bool)\n",
    "ix1 = np.random.binomial(1, 0.5, size=d.shape[1]).astype(bool)"
   ]
  },
  {
   "cell_type": "code",
   "execution_count": 110,
   "metadata": {},
   "outputs": [
    {
     "name": "stdout",
     "output_type": "stream",
     "text": [
      "CPU times: user 140 ms, sys: 24 ms, total: 164 ms\n",
      "Wall time: 165 ms\n"
     ]
    },
    {
     "data": {
      "text/plain": [
       "array([[       0,        1,        3, ...,      995,      998,      999],\n",
       "       [    2000,     2001,     2003, ...,     2995,     2998,     2999],\n",
       "       [    4000,     4001,     4003, ...,     4995,     4998,     4999],\n",
       "       ..., \n",
       "       [99992000, 99992001, 99992003, ..., 99992995, 99992998, 99992999],\n",
       "       [99997000, 99997001, 99997003, ..., 99997995, 99997998, 99997999],\n",
       "       [99999000, 99999001, 99999003, ..., 99999995, 99999998, 99999999]])"
      ]
     },
     "execution_count": 110,
     "metadata": {},
     "output_type": "execute_result"
    }
   ],
   "source": [
    "%time d[np.ix_(ix0, ix1)]"
   ]
  },
  {
   "cell_type": "code",
   "execution_count": 111,
   "metadata": {},
   "outputs": [
    {
     "name": "stdout",
     "output_type": "stream",
     "text": [
      "CPU times: user 860 ms, sys: 84 ms, total: 944 ms\n",
      "Wall time: 468 ms\n"
     ]
    },
    {
     "data": {
      "text/plain": [
       "array([[       0,        1,        3, ...,      995,      998,      999],\n",
       "       [    2000,     2001,     2003, ...,     2995,     2998,     2999],\n",
       "       [    4000,     4001,     4003, ...,     4995,     4998,     4999],\n",
       "       ..., \n",
       "       [99992000, 99992001, 99992003, ..., 99992995, 99992998, 99992999],\n",
       "       [99997000, 99997001, 99997003, ..., 99997995, 99997998, 99997999],\n",
       "       [99999000, 99999001, 99999003, ..., 99999995, 99999998, 99999999]])"
      ]
     },
     "execution_count": 111,
     "metadata": {},
     "output_type": "execute_result"
    }
   ],
   "source": [
    "%time zd.oindex[ix0, ix1]"
   ]
  },
  {
   "cell_type": "markdown",
   "metadata": {},
   "source": [
    "### int orthogonal selection"
   ]
  },
  {
   "cell_type": "code",
   "execution_count": 112,
   "metadata": {},
   "outputs": [],
   "source": [
    "ix0 = np.random.choice(d.shape[0], size=int(d.shape[0] * .5), replace=True)\n",
    "ix1 = np.random.choice(d.shape[1], size=int(d.shape[1] * .5), replace=True)"
   ]
  },
  {
   "cell_type": "code",
   "execution_count": 113,
   "metadata": {},
   "outputs": [
    {
     "name": "stdout",
     "output_type": "stream",
     "text": [
      "CPU times: user 196 ms, sys: 56 ms, total: 252 ms\n",
      "Wall time: 250 ms\n"
     ]
    },
    {
     "data": {
      "text/plain": [
       "array([[50767038, 50767472, 50767242, ..., 50767418, 50767445, 50767947],\n",
       "       [28829038, 28829472, 28829242, ..., 28829418, 28829445, 28829947],\n",
       "       [17474038, 17474472, 17474242, ..., 17474418, 17474445, 17474947],\n",
       "       ..., \n",
       "       [ 5185038,  5185472,  5185242, ...,  5185418,  5185445,  5185947],\n",
       "       [27248038, 27248472, 27248242, ..., 27248418, 27248445, 27248947],\n",
       "       [72575038, 72575472, 72575242, ..., 72575418, 72575445, 72575947]])"
      ]
     },
     "execution_count": 113,
     "metadata": {},
     "output_type": "execute_result"
    }
   ],
   "source": [
    "%time d[np.ix_(ix0, ix1)]"
   ]
  },
  {
   "cell_type": "code",
   "execution_count": 114,
   "metadata": {},
   "outputs": [
    {
     "name": "stdout",
     "output_type": "stream",
     "text": [
      "CPU times: user 1.17 s, sys: 128 ms, total: 1.3 s\n",
      "Wall time: 682 ms\n"
     ]
    },
    {
     "data": {
      "text/plain": [
       "array([[50767038, 50767472, 50767242, ..., 50767418, 50767445, 50767947],\n",
       "       [28829038, 28829472, 28829242, ..., 28829418, 28829445, 28829947],\n",
       "       [17474038, 17474472, 17474242, ..., 17474418, 17474445, 17474947],\n",
       "       ..., \n",
       "       [ 5185038,  5185472,  5185242, ...,  5185418,  5185445,  5185947],\n",
       "       [27248038, 27248472, 27248242, ..., 27248418, 27248445, 27248947],\n",
       "       [72575038, 72575472, 72575242, ..., 72575418, 72575445, 72575947]])"
      ]
     },
     "execution_count": 114,
     "metadata": {},
     "output_type": "execute_result"
    }
   ],
   "source": [
    "%time zd.oindex[ix0, ix1]"
   ]
  },
  {
   "cell_type": "markdown",
   "metadata": {},
   "source": [
    "### coordinate (point) selection"
   ]
  },
  {
   "cell_type": "code",
   "execution_count": 115,
   "metadata": {},
   "outputs": [
    {
     "data": {
      "text/plain": [
       "10000000"
      ]
     },
     "execution_count": 115,
     "metadata": {},
     "output_type": "execute_result"
    }
   ],
   "source": [
    "n = int(d.size * .1)\n",
    "ix0 = np.random.choice(d.shape[0], size=n, replace=True)\n",
    "ix1 = np.random.choice(d.shape[1], size=n, replace=True)\n",
    "n"
   ]
  },
  {
   "cell_type": "code",
   "execution_count": 116,
   "metadata": {},
   "outputs": [
    {
     "name": "stdout",
     "output_type": "stream",
     "text": [
      "CPU times: user 236 ms, sys: 56 ms, total: 292 ms\n",
      "Wall time: 289 ms\n"
     ]
    },
    {
     "data": {
      "text/plain": [
       "array([71132822, 44407411, 66463897, ..., 16188129, 30562595,  3115554])"
      ]
     },
     "execution_count": 116,
     "metadata": {},
     "output_type": "execute_result"
    }
   ],
   "source": [
    "%time d[ix0, ix1]"
   ]
  },
  {
   "cell_type": "code",
   "execution_count": 117,
   "metadata": {},
   "outputs": [
    {
     "name": "stdout",
     "output_type": "stream",
     "text": [
      "CPU times: user 3.06 s, sys: 296 ms, total: 3.36 s\n",
      "Wall time: 2.83 s\n"
     ]
    },
    {
     "data": {
      "text/plain": [
       "array([71132822, 44407411, 66463897, ..., 16188129, 30562595,  3115554])"
      ]
     },
     "execution_count": 117,
     "metadata": {},
     "output_type": "execute_result"
    }
   ],
   "source": [
    "%time zd.vindex[ix0, ix1]"
   ]
  },
  {
   "cell_type": "code",
   "execution_count": 118,
   "metadata": {},
   "outputs": [
    {
     "name": "stdout",
     "output_type": "stream",
     "text": [
      "         48284 function calls in 2.856 seconds\n",
      "\n",
      "   Ordered by: internal time\n",
      "\n",
      "   ncalls  tottime  percall  cumtime  percall filename:lineno(function)\n",
      "        1    1.401    1.401    1.401    1.401 {method 'argsort' of 'numpy.ndarray' objects}\n",
      "        3    0.412    0.137    0.412    0.137 new_indexing.py:601(<genexpr>)\n",
      "        3    0.259    0.086    0.259    0.086 new_indexing.py:592(<genexpr>)\n",
      "        1    0.242    0.242    2.414    2.414 new_indexing.py:557(__init__)\n",
      "     1024    0.196    0.000    0.377    0.000 core.py:768(_chunk_getitem)\n",
      "     1024    0.151    0.000    0.160    0.000 core.py:930(_decode_chunk)\n",
      "        1    0.056    0.056    0.056    0.056 {built-in method numpy.core.multiarray.ravel_multi_index}\n",
      "        1    0.038    0.038    0.038    0.038 {built-in method numpy.core.multiarray.bincount}\n",
      "     3072    0.023    0.000    0.023    0.000 new_indexing.py:636(<genexpr>)\n",
      "        1    0.012    0.012    2.843    2.843 core.py:537(get_coordinate_selection)\n",
      "     1025    0.010    0.000    0.036    0.000 new_indexing.py:618(__iter__)\n",
      "        1    0.010    0.010    2.853    2.853 new_indexing.py:648(__getitem__)\n",
      "        6    0.006    0.001    0.006    0.001 {method 'reduce' of 'numpy.ufunc' objects}\n",
      "     3081    0.005    0.000    0.005    0.000 core.py:323(<genexpr>)\n",
      "     1024    0.004    0.000    0.004    0.000 {built-in method numpy.core.multiarray.frombuffer}\n",
      "     1024    0.004    0.000    0.004    0.000 {method 'reshape' of 'numpy.ndarray' objects}\n",
      "     2048    0.004    0.000    0.008    0.000 arrayprint.py:381(wrapper)\n",
      "        1    0.004    0.004    0.417    0.417 core.py:548(_get_selection)\n",
      "        1    0.003    0.003    2.856    2.856 <string>:1(<module>)\n",
      "     1024    0.003    0.000    0.012    0.000 {method 'join' of 'str' objects}\n",
      "     2048    0.002    0.000    0.003    0.000 arrayprint.py:399(array2string)\n",
      "     1027    0.002    0.000    0.007    0.000 core.py:318(_cdata_shape)\n",
      "     2048    0.002    0.000    0.009    0.000 numeric.py:1905(array_str)\n",
      "     3084    0.001    0.000    0.001    0.000 {built-in method builtins.isinstance}\n",
      "     1024    0.001    0.000    0.013    0.000 core.py:927(_chunk_key)\n",
      "     3072    0.001    0.000    0.001    0.000 new_indexing.py:632(<genexpr>)\n",
      "     3072    0.001    0.000    0.001    0.000 new_indexing.py:623(<genexpr>)\n",
      "     1024    0.001    0.000    0.001    0.000 threading.py:1230(current_thread)\n",
      "     1024    0.001    0.000    0.001    0.000 <string>:12(__new__)\n",
      "     3072    0.001    0.000    0.001    0.000 {built-in method _thread.get_ident}\n",
      "     1024    0.000    0.000    0.000    0.000 {built-in method __new__ of type object at 0x55c5e1118480}\n",
      "     2048    0.000    0.000    0.000    0.000 {method 'item' of 'numpy.ndarray' objects}\n",
      "     2056    0.000    0.000    0.000    0.000 {built-in method builtins.len}\n",
      "     1024    0.000    0.000    0.000    0.000 core.py:204(chunk_store)\n",
      "     2048    0.000    0.000    0.000    0.000 {method 'add' of 'set' objects}\n",
      "     2048    0.000    0.000    0.000    0.000 {method 'discard' of 'set' objects}\n",
      "     2048    0.000    0.000    0.000    0.000 {built-in method builtins.id}\n",
      "     1024    0.000    0.000    0.000    0.000 threading.py:1304(main_thread)\n",
      "        1    0.000    0.000    0.000    0.000 {built-in method numpy.core.multiarray.unravel_index}\n",
      "        6    0.000    0.000    0.006    0.001 fromnumeric.py:1886(any)\n",
      "        1    0.000    0.000    2.856    2.856 {built-in method builtins.exec}\n",
      "        1    0.000    0.000    0.000    0.000 {built-in method numpy.core.multiarray.empty}\n",
      "        3    0.000    0.000    1.401    0.467 fromnumeric.py:55(_wrapfunc)\n",
      "        6    0.000    0.000    0.006    0.001 {method 'any' of 'numpy.ndarray' objects}\n",
      "        1    0.000    0.000    0.000    0.000 {method 'cumsum' of 'numpy.ndarray' objects}\n",
      "        8    0.000    0.000    0.000    0.000 {built-in method numpy.core.multiarray.array}\n",
      "        1    0.000    0.000    0.000    0.000 core.py:333(_nchunks)\n",
      "        6    0.000    0.000    0.000    0.000 abc.py:178(__instancecheck__)\n",
      "        6    0.000    0.000    0.000    0.000 numeric.py:534(asanyarray)\n",
      "        2    0.000    0.000    0.000    0.000 new_indexing.py:527(is_coordinate_selection)\n",
      "        1    0.000    0.000    0.000    0.000 {method 'nonzero' of 'numpy.ndarray' objects}\n",
      "        1    0.000    0.000    0.000    0.000 stride_tricks.py:176(_broadcast_shape)\n",
      "        6    0.000    0.000    0.006    0.001 _methods.py:37(_any)\n",
      "        2    0.000    0.000    0.000    0.000 new_indexing.py:531(<listcomp>)\n",
      "        2    0.000    0.000    0.000    0.000 new_indexing.py:547(replace_lists)\n",
      "        1    0.000    0.000    0.000    0.000 stride_tricks.py:195(broadcast_arrays)\n",
      "        1    0.000    0.000    1.401    1.401 fromnumeric.py:826(argsort)\n",
      "        1    0.000    0.000    0.000    0.000 core.py:337(nchunks)\n",
      "        3    0.000    0.000    0.000    0.000 {built-in method builtins.getattr}\n",
      "        1    0.000    0.000    0.000    0.000 {built-in method _functools.reduce}\n",
      "        1    0.000    0.000    0.000    0.000 stride_tricks.py:247(<listcomp>)\n",
      "        1    0.000    0.000    0.000    0.000 fromnumeric.py:2053(cumsum)\n",
      "       12    0.000    0.000    0.000    0.000 _weakrefset.py:70(__contains__)\n",
      "        2    0.000    0.000    0.000    0.000 new_indexing.py:180(ensure_tuple)\n",
      "        6    0.000    0.000    0.000    0.000 new_indexing.py:549(<genexpr>)\n",
      "        3    0.000    0.000    0.000    0.000 stride_tricks.py:251(<genexpr>)\n",
      "        2    0.000    0.000    0.000    0.000 core.py:152(_refresh_metadata)\n",
      "        1    0.000    0.000    0.000    0.000 {method 'pop' of 'dict' objects}\n",
      "        3    0.000    0.000    0.000    0.000 {built-in method builtins.all}\n",
      "        4    0.000    0.000    0.000    0.000 {built-in method builtins.hasattr}\n",
      "        1    0.000    0.000    0.000    0.000 fromnumeric.py:1487(nonzero)\n",
      "        1    0.000    0.000    0.000    0.000 core.py:363(vindex)\n",
      "        1    0.000    0.000    0.000    0.000 core.py:212(shape)\n",
      "        3    0.000    0.000    0.000    0.000 new_indexing.py:561(<genexpr>)\n",
      "        1    0.000    0.000    0.000    0.000 {method 'disable' of '_lsprof.Profiler' objects}\n",
      "\n",
      "\n"
     ]
    }
   ],
   "source": [
    "cProfile.run('zd.vindex[ix0, ix1]', sort='time')"
   ]
  },
  {
   "cell_type": "markdown",
   "metadata": {},
   "source": [
    "## h5py comparison\n",
    "\n",
    "N.B., not really fair because using slower compressor, but for interest..."
   ]
  },
  {
   "cell_type": "code",
   "execution_count": 65,
   "metadata": {},
   "outputs": [],
   "source": [
    "import h5py\n",
    "import tempfile"
   ]
  },
  {
   "cell_type": "code",
   "execution_count": 78,
   "metadata": {},
   "outputs": [],
   "source": [
    "h5f = h5py.File(tempfile.mktemp(), driver='core', backing_store=False)"
   ]
  },
  {
   "cell_type": "code",
   "execution_count": 79,
   "metadata": {},
   "outputs": [
    {
     "data": {
      "text/plain": [
       "<HDF5 dataset \"c\": shape (100000000,), type \"<i8\">"
      ]
     },
     "execution_count": 79,
     "metadata": {},
     "output_type": "execute_result"
    }
   ],
   "source": [
    "hc = h5f.create_dataset('c', data=c, compression='gzip', compression_opts=1, chunks=zc.chunks, shuffle=True)\n",
    "hc"
   ]
  },
  {
   "cell_type": "code",
   "execution_count": 80,
   "metadata": {},
   "outputs": [
    {
     "name": "stdout",
     "output_type": "stream",
     "text": [
      "CPU times: user 1.16 s, sys: 172 ms, total: 1.33 s\n",
      "Wall time: 1.32 s\n"
     ]
    },
    {
     "data": {
      "text/plain": [
       "array([       0,        1,        2, ..., 99999997, 99999998, 99999999])"
      ]
     },
     "execution_count": 80,
     "metadata": {},
     "output_type": "execute_result"
    }
   ],
   "source": [
    "%time hc[:]"
   ]
  },
  {
   "cell_type": "code",
   "execution_count": 81,
   "metadata": {},
   "outputs": [
    {
     "name": "stdout",
     "output_type": "stream",
     "text": [
      "CPU times: user 1.11 s, sys: 0 ns, total: 1.11 s\n",
      "Wall time: 1.11 s\n"
     ]
    },
    {
     "data": {
      "text/plain": [
       "array([    1063,    28396,    37229, ..., 99955875, 99979354, 99995791])"
      ]
     },
     "execution_count": 81,
     "metadata": {},
     "output_type": "execute_result"
    }
   ],
   "source": [
    "%time hc[ix_sparse_bool]"
   ]
  },
  {
   "cell_type": "code",
   "execution_count": 82,
   "metadata": {},
   "outputs": [],
   "source": [
    "# # this is pathological, takes > 1 minute \n",
    "# %time hc[ix_dense_bool]"
   ]
  },
  {
   "cell_type": "code",
   "execution_count": 83,
   "metadata": {},
   "outputs": [
    {
     "name": "stdout",
     "output_type": "stream",
     "text": [
      "CPU times: user 38.3 s, sys: 136 ms, total: 38.4 s\n",
      "Wall time: 38.1 s\n"
     ]
    },
    {
     "data": {
      "text/plain": [
       "array([       0,     1000,     2000, ..., 99997000, 99998000, 99999000])"
      ]
     },
     "execution_count": 83,
     "metadata": {},
     "output_type": "execute_result"
    }
   ],
   "source": [
    "# this is pretty slow\n",
    "%time hc[::1000]"
   ]
  },
  {
   "cell_type": "code",
   "execution_count": null,
   "metadata": {},
   "outputs": [],
   "source": []
  }
 ],
 "metadata": {
  "kernelspec": {
   "display_name": "Python 3",
   "language": "python",
   "name": "python3"
  },
  "language_info": {
   "codemirror_mode": {
    "name": "ipython",
    "version": 3
   },
   "file_extension": ".py",
   "mimetype": "text/x-python",
   "name": "python",
   "nbconvert_exporter": "python",
   "pygments_lexer": "ipython3",
   "version": "3.6.1"
  }
 },
 "nbformat": 4,
 "nbformat_minor": 2
}
