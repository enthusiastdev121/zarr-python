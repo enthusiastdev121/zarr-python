{
 "cells": [
  {
   "cell_type": "markdown",
   "metadata": {},
   "source": [
    "## Setup"
   ]
  },
  {
   "cell_type": "code",
   "execution_count": 1,
   "metadata": {},
   "outputs": [
    {
     "data": {
      "text/plain": [
       "'2.2.0a2.dev2+dirty'"
      ]
     },
     "execution_count": 1,
     "metadata": {},
     "output_type": "execute_result"
    }
   ],
   "source": [
    "import zarr\n",
    "zarr.__version__"
   ]
  },
  {
   "cell_type": "code",
   "execution_count": 2,
   "metadata": {},
   "outputs": [
    {
     "data": {
      "text/plain": [
       "'6.2.5'"
      ]
     },
     "execution_count": 2,
     "metadata": {},
     "output_type": "execute_result"
    }
   ],
   "source": [
    "import bsddb3\n",
    "bsddb3.__version__"
   ]
  },
  {
   "cell_type": "code",
   "execution_count": 3,
   "metadata": {},
   "outputs": [
    {
     "data": {
      "text/plain": [
       "'0.93'"
      ]
     },
     "execution_count": 3,
     "metadata": {},
     "output_type": "execute_result"
    }
   ],
   "source": [
    "import lmdb\n",
    "lmdb.__version__"
   ]
  },
  {
   "cell_type": "code",
   "execution_count": 4,
   "metadata": {},
   "outputs": [],
   "source": [
    "import numpy as np"
   ]
  },
  {
   "cell_type": "code",
   "execution_count": 5,
   "metadata": {},
   "outputs": [],
   "source": [
    "import os\n",
    "import shutil\n",
    "bench_dir = '../data/bench'\n",
    "if os.path.isdir(bench_dir):\n",
    "    shutil.rmtree(bench_dir)\n",
    "os.makedirs(bench_dir)"
   ]
  },
  {
   "cell_type": "code",
   "execution_count": 6,
   "metadata": {},
   "outputs": [],
   "source": [
    "mem_store = dict()\n",
    "lmdb_store = zarr.LMDBStore(os.path.join(bench_dir, 'lmdb'))\n",
    "bdb_store = zarr.DBMStore(os.path.join(bench_dir, 'bdb'), open=bsddb3.btopen)\n",
    "dir_store = zarr.DirectoryStore(os.path.join(bench_dir, 'dir'))"
   ]
  },
  {
   "cell_type": "code",
   "execution_count": 7,
   "metadata": {},
   "outputs": [],
   "source": [
    "def save(a, z):\n",
    "    z[:] = a\n",
    "    if hasattr(z.store, 'sync'):\n",
    "        z.store.sync()\n",
    "    \n",
    "    \n",
    "def load(z, a):\n",
    "    z.get_basic_selection(out=a)\n"
   ]
  },
  {
   "cell_type": "markdown",
   "metadata": {},
   "source": [
    "## arange"
   ]
  },
  {
   "cell_type": "code",
   "execution_count": 8,
   "metadata": {},
   "outputs": [
    {
     "data": {
      "text/html": [
       "<table class=\"zarr-info\"><tbody><tr><th style=\"text-align: left\">Type</th><td style=\"text-align: left\">zarr.core.Array</td></tr><tr><th style=\"text-align: left\">Data type</th><td style=\"text-align: left\">int64</td></tr><tr><th style=\"text-align: left\">Shape</th><td style=\"text-align: left\">(1000000000,)</td></tr><tr><th style=\"text-align: left\">Chunk shape</th><td style=\"text-align: left\">(244141,)</td></tr><tr><th style=\"text-align: left\">Order</th><td style=\"text-align: left\">C</td></tr><tr><th style=\"text-align: left\">Read-only</th><td style=\"text-align: left\">False</td></tr><tr><th style=\"text-align: left\">Compressor</th><td style=\"text-align: left\">Blosc(cname='lz4', clevel=5, shuffle=SHUFFLE, blocksize=0)</td></tr><tr><th style=\"text-align: left\">Store type</th><td style=\"text-align: left\">builtins.dict</td></tr><tr><th style=\"text-align: left\">No. bytes</th><td style=\"text-align: left\">8000000000 (7.5G)</td></tr><tr><th style=\"text-align: left\">No. bytes stored</th><td style=\"text-align: left\">118578855 (113.1M)</td></tr><tr><th style=\"text-align: left\">Storage ratio</th><td style=\"text-align: left\">67.5</td></tr><tr><th style=\"text-align: left\">Chunks initialized</th><td style=\"text-align: left\">4096/4096</td></tr></tbody></table>"
      ],
      "text/plain": [
       "Type               : zarr.core.Array\n",
       "Data type          : int64\n",
       "Shape              : (1000000000,)\n",
       "Chunk shape        : (244141,)\n",
       "Order              : C\n",
       "Read-only          : False\n",
       "Compressor         : Blosc(cname='lz4', clevel=5, shuffle=SHUFFLE, blocksize=0)\n",
       "Store type         : builtins.dict\n",
       "No. bytes          : 8000000000 (7.5G)\n",
       "No. bytes stored   : 118578855 (113.1M)\n",
       "Storage ratio      : 67.5\n",
       "Chunks initialized : 4096/4096"
      ]
     },
     "execution_count": 8,
     "metadata": {},
     "output_type": "execute_result"
    }
   ],
   "source": [
    "a = np.arange(1000000000)\n",
    "mem_z = zarr.empty_like(a, store=mem_store, overwrite=True)\n",
    "lmdb_z = zarr.empty_like(a, store=lmdb_store, overwrite=True)\n",
    "bdb_z = zarr.empty_like(a, store=bdb_store, overwrite=True)\n",
    "dir_z = zarr.empty_like(a, store=dir_store, overwrite=True)\n",
    "\n",
    "# check compression ratio\n",
    "mem_z[:] = a\n",
    "mem_z.info"
   ]
  },
  {
   "cell_type": "code",
   "execution_count": 9,
   "metadata": {},
   "outputs": [
    {
     "name": "stdout",
     "output_type": "stream",
     "text": [
      "768 ms ± 74.5 ms per loop (mean ± std. dev. of 7 runs, 1 loop each)\n"
     ]
    }
   ],
   "source": [
    "%timeit save(a, mem_z)"
   ]
  },
  {
   "cell_type": "code",
   "execution_count": 10,
   "metadata": {},
   "outputs": [
    {
     "name": "stdout",
     "output_type": "stream",
     "text": [
      "853 ms ± 58.7 ms per loop (mean ± std. dev. of 7 runs, 1 loop each)\n"
     ]
    }
   ],
   "source": [
    "%timeit save(a, lmdb_z)"
   ]
  },
  {
   "cell_type": "code",
   "execution_count": 11,
   "metadata": {},
   "outputs": [
    {
     "name": "stdout",
     "output_type": "stream",
     "text": [
      "1.29 s ± 78.9 ms per loop (mean ± std. dev. of 7 runs, 1 loop each)\n"
     ]
    }
   ],
   "source": [
    "%timeit save(a, bdb_z)"
   ]
  },
  {
   "cell_type": "code",
   "execution_count": 12,
   "metadata": {},
   "outputs": [
    {
     "name": "stdout",
     "output_type": "stream",
     "text": [
      "1.44 s ± 9.71 ms per loop (mean ± std. dev. of 7 runs, 1 loop each)\n"
     ]
    }
   ],
   "source": [
    "%timeit save(a, dir_z)"
   ]
  },
  {
   "cell_type": "code",
   "execution_count": 13,
   "metadata": {},
   "outputs": [
    {
     "name": "stdout",
     "output_type": "stream",
     "text": [
      "1.06 s ± 11 ms per loop (mean ± std. dev. of 7 runs, 1 loop each)\n"
     ]
    }
   ],
   "source": [
    "%timeit load(mem_z, a)"
   ]
  },
  {
   "cell_type": "code",
   "execution_count": 14,
   "metadata": {},
   "outputs": [
    {
     "name": "stdout",
     "output_type": "stream",
     "text": [
      "1.09 s ± 10 ms per loop (mean ± std. dev. of 7 runs, 1 loop each)\n"
     ]
    }
   ],
   "source": [
    "%timeit load(lmdb_z, a)"
   ]
  },
  {
   "cell_type": "code",
   "execution_count": 15,
   "metadata": {},
   "outputs": [
    {
     "name": "stdout",
     "output_type": "stream",
     "text": [
      "1.11 s ± 4.7 ms per loop (mean ± std. dev. of 7 runs, 1 loop each)\n"
     ]
    }
   ],
   "source": [
    "%timeit load(bdb_z, a)"
   ]
  },
  {
   "cell_type": "code",
   "execution_count": 16,
   "metadata": {},
   "outputs": [
    {
     "name": "stdout",
     "output_type": "stream",
     "text": [
      "1.26 s ± 16.4 ms per loop (mean ± std. dev. of 7 runs, 1 loop each)\n"
     ]
    }
   ],
   "source": [
    "%timeit load(dir_z, a)"
   ]
  },
  {
   "cell_type": "markdown",
   "metadata": {},
   "source": [
    "## randint"
   ]
  },
  {
   "cell_type": "code",
   "execution_count": 17,
   "metadata": {},
   "outputs": [
    {
     "data": {
      "text/html": [
       "<table class=\"zarr-info\"><tbody><tr><th style=\"text-align: left\">Type</th><td style=\"text-align: left\">zarr.core.Array</td></tr><tr><th style=\"text-align: left\">Data type</th><td style=\"text-align: left\">int64</td></tr><tr><th style=\"text-align: left\">Shape</th><td style=\"text-align: left\">(1000000000,)</td></tr><tr><th style=\"text-align: left\">Chunk shape</th><td style=\"text-align: left\">(244141,)</td></tr><tr><th style=\"text-align: left\">Order</th><td style=\"text-align: left\">C</td></tr><tr><th style=\"text-align: left\">Read-only</th><td style=\"text-align: left\">False</td></tr><tr><th style=\"text-align: left\">Compressor</th><td style=\"text-align: left\">Blosc(cname='lz4', clevel=5, shuffle=SHUFFLE, blocksize=0)</td></tr><tr><th style=\"text-align: left\">Store type</th><td style=\"text-align: left\">builtins.dict</td></tr><tr><th style=\"text-align: left\">No. bytes</th><td style=\"text-align: left\">8000000000 (7.5G)</td></tr><tr><th style=\"text-align: left\">No. bytes stored</th><td style=\"text-align: left\">4041602661 (3.8G)</td></tr><tr><th style=\"text-align: left\">Storage ratio</th><td style=\"text-align: left\">2.0</td></tr><tr><th style=\"text-align: left\">Chunks initialized</th><td style=\"text-align: left\">4096/4096</td></tr></tbody></table>"
      ],
      "text/plain": [
       "Type               : zarr.core.Array\n",
       "Data type          : int64\n",
       "Shape              : (1000000000,)\n",
       "Chunk shape        : (244141,)\n",
       "Order              : C\n",
       "Read-only          : False\n",
       "Compressor         : Blosc(cname='lz4', clevel=5, shuffle=SHUFFLE, blocksize=0)\n",
       "Store type         : builtins.dict\n",
       "No. bytes          : 8000000000 (7.5G)\n",
       "No. bytes stored   : 4041602661 (3.8G)\n",
       "Storage ratio      : 2.0\n",
       "Chunks initialized : 4096/4096"
      ]
     },
     "execution_count": 17,
     "metadata": {},
     "output_type": "execute_result"
    }
   ],
   "source": [
    "a = np.random.randint(0, 2**30, size=1000000000)\n",
    "mem_z = zarr.empty_like(a, store=mem_store, overwrite=True)\n",
    "lmdb_z = zarr.empty_like(a, store=lmdb_store, overwrite=True)\n",
    "bdb_z = zarr.empty_like(a, store=bdb_store, overwrite=True)\n",
    "dir_z = zarr.empty_like(a, store=dir_store, overwrite=True)\n",
    "\n",
    "# check compression ratio\n",
    "mem_z[:] = a\n",
    "mem_z.info"
   ]
  },
  {
   "cell_type": "code",
   "execution_count": 18,
   "metadata": {},
   "outputs": [
    {
     "name": "stdout",
     "output_type": "stream",
     "text": [
      "1.26 s ± 15.8 ms per loop (mean ± std. dev. of 7 runs, 1 loop each)\n"
     ]
    }
   ],
   "source": [
    "%timeit save(a, mem_z)"
   ]
  },
  {
   "cell_type": "code",
   "execution_count": 19,
   "metadata": {},
   "outputs": [
    {
     "name": "stdout",
     "output_type": "stream",
     "text": [
      "6 s ± 985 ms per loop (mean ± std. dev. of 7 runs, 1 loop each)\n"
     ]
    }
   ],
   "source": [
    "%timeit save(a, lmdb_z)"
   ]
  },
  {
   "cell_type": "code",
   "execution_count": 20,
   "metadata": {},
   "outputs": [
    {
     "name": "stdout",
     "output_type": "stream",
     "text": [
      "9.78 s ± 1.25 s per loop (mean ± std. dev. of 7 runs, 1 loop each)\n"
     ]
    }
   ],
   "source": [
    "%timeit save(a, bdb_z)"
   ]
  },
  {
   "cell_type": "code",
   "execution_count": 21,
   "metadata": {},
   "outputs": [
    {
     "name": "stdout",
     "output_type": "stream",
     "text": [
      "5.96 s ± 312 ms per loop (mean ± std. dev. of 7 runs, 1 loop each)\n"
     ]
    }
   ],
   "source": [
    "%timeit save(a, dir_z)"
   ]
  },
  {
   "cell_type": "code",
   "execution_count": 22,
   "metadata": {},
   "outputs": [
    {
     "name": "stdout",
     "output_type": "stream",
     "text": [
      "1.3 s ± 60.3 ms per loop (mean ± std. dev. of 7 runs, 1 loop each)\n"
     ]
    }
   ],
   "source": [
    "%timeit load(mem_z, a)"
   ]
  },
  {
   "cell_type": "code",
   "execution_count": 23,
   "metadata": {},
   "outputs": [
    {
     "name": "stdout",
     "output_type": "stream",
     "text": [
      "1.4 s ± 42.2 ms per loop (mean ± std. dev. of 7 runs, 1 loop each)\n"
     ]
    }
   ],
   "source": [
    "%timeit load(lmdb_z, a)"
   ]
  },
  {
   "cell_type": "code",
   "execution_count": 24,
   "metadata": {},
   "outputs": [
    {
     "name": "stdout",
     "output_type": "stream",
     "text": [
      "3.76 s ± 25.8 ms per loop (mean ± std. dev. of 7 runs, 1 loop each)\n"
     ]
    }
   ],
   "source": [
    "%timeit load(bdb_z, a)"
   ]
  },
  {
   "cell_type": "code",
   "execution_count": 25,
   "metadata": {},
   "outputs": [
    {
     "name": "stdout",
     "output_type": "stream",
     "text": [
      "1.81 s ± 64.1 ms per loop (mean ± std. dev. of 7 runs, 1 loop each)\n"
     ]
    }
   ],
   "source": [
    "%timeit load(dir_z, a)"
   ]
  },
  {
   "cell_type": "markdown",
   "metadata": {},
   "source": [
    "## dask"
   ]
  },
  {
   "cell_type": "code",
   "execution_count": 26,
   "metadata": {},
   "outputs": [],
   "source": [
    "import dask.array as da"
   ]
  },
  {
   "cell_type": "code",
   "execution_count": 27,
   "metadata": {},
   "outputs": [],
   "source": [
    "def dask_op(source, sink, chunks=None):\n",
    "    if chunks is None:\n",
    "        try:\n",
    "            chunks = sink.chunks\n",
    "        except AttributeError:\n",
    "            chunks = source.chunks\n",
    "    d = da.from_array(source, chunks=chunks, asarray=False, fancy=False, lock=False)\n",
    "    result = (d // 2) * 2\n",
    "    da.store(result, sink, lock=False)\n",
    "    if hasattr(sink, 'sync'):\n",
    "        sink.sync()\n",
    "    "
   ]
  },
  {
   "cell_type": "code",
   "execution_count": 28,
   "metadata": {},
   "outputs": [
    {
     "name": "stdout",
     "output_type": "stream",
     "text": [
      "CPU times: user 31.4 s, sys: 3.16 s, total: 34.6 s\n",
      "Wall time: 6.98 s\n"
     ]
    }
   ],
   "source": [
    "%time dask_op(mem_z, mem_z)"
   ]
  },
  {
   "cell_type": "code",
   "execution_count": 29,
   "metadata": {},
   "outputs": [
    {
     "name": "stdout",
     "output_type": "stream",
     "text": [
      "CPU times: user 34.3 s, sys: 3.24 s, total: 37.5 s\n",
      "Wall time: 7.92 s\n"
     ]
    }
   ],
   "source": [
    "%time dask_op(mem_z, lmdb_z)"
   ]
  },
  {
   "cell_type": "code",
   "execution_count": 30,
   "metadata": {},
   "outputs": [
    {
     "name": "stdout",
     "output_type": "stream",
     "text": [
      "CPU times: user 33.9 s, sys: 204 ms, total: 34.1 s\n",
      "Wall time: 6.23 s\n"
     ]
    }
   ],
   "source": [
    "%time dask_op(lmdb_z, mem_z)"
   ]
  },
  {
   "cell_type": "code",
   "execution_count": 31,
   "metadata": {},
   "outputs": [
    {
     "name": "stdout",
     "output_type": "stream",
     "text": [
      "CPU times: user 32.6 s, sys: 4.25 s, total: 36.8 s\n",
      "Wall time: 10 s\n"
     ]
    }
   ],
   "source": [
    "%time dask_op(mem_z, bdb_z)"
   ]
  },
  {
   "cell_type": "code",
   "execution_count": 32,
   "metadata": {},
   "outputs": [
    {
     "name": "stdout",
     "output_type": "stream",
     "text": [
      "CPU times: user 37.8 s, sys: 1.79 s, total: 39.6 s\n",
      "Wall time: 7.14 s\n"
     ]
    }
   ],
   "source": [
    "%time dask_op(bdb_z, mem_z)"
   ]
  },
  {
   "cell_type": "code",
   "execution_count": 33,
   "metadata": {},
   "outputs": [
    {
     "name": "stdout",
     "output_type": "stream",
     "text": [
      "CPU times: user 33.9 s, sys: 3.94 s, total: 37.8 s\n",
      "Wall time: 7.35 s\n"
     ]
    }
   ],
   "source": [
    "%time dask_op(mem_z, dir_z)"
   ]
  },
  {
   "cell_type": "code",
   "execution_count": 34,
   "metadata": {},
   "outputs": [
    {
     "name": "stdout",
     "output_type": "stream",
     "text": [
      "CPU times: user 34.8 s, sys: 1.66 s, total: 36.5 s\n",
      "Wall time: 6.85 s\n"
     ]
    }
   ],
   "source": [
    "%time dask_op(dir_z, mem_z)"
   ]
  },
  {
   "cell_type": "code",
   "execution_count": 35,
   "metadata": {},
   "outputs": [
    {
     "data": {
      "text/html": [
       "\n",
       "    <div class=\"bk-root\">\n",
       "        <a href=\"https://bokeh.pydata.org\" target=\"_blank\" class=\"bk-logo bk-logo-small bk-logo-notebook\"></a>\n",
       "        <span id=\"e1b5abff-12a5-4de5-a238-d9b27099ac23\">Loading BokehJS ...</span>\n",
       "    </div>"
      ]
     },
     "metadata": {},
     "output_type": "display_data"
    },
    {
     "data": {
      "application/javascript": [
       "\n",
       "(function(root) {\n",
       "  function now() {\n",
       "    return new Date();\n",
       "  }\n",
       "\n",
       "  var force = true;\n",
       "\n",
       "  if (typeof (root._bokeh_onload_callbacks) === \"undefined\" || force === true) {\n",
       "    root._bokeh_onload_callbacks = [];\n",
       "    root._bokeh_is_loading = undefined;\n",
       "  }\n",
       "\n",
       "  var JS_MIME_TYPE = 'application/javascript';\n",
       "  var HTML_MIME_TYPE = 'text/html';\n",
       "  var EXEC_MIME_TYPE = 'application/vnd.bokehjs_exec.v0+json';\n",
       "  var CLASS_NAME = 'output_bokeh rendered_html';\n",
       "\n",
       "  /**\n",
       "   * Render data to the DOM node\n",
       "   */\n",
       "  function render(props, node) {\n",
       "    var script = document.createElement(\"script\");\n",
       "    node.appendChild(script);\n",
       "  }\n",
       "\n",
       "  /**\n",
       "   * Handle when an output is cleared or removed\n",
       "   */\n",
       "  function handleClearOutput(event, handle) {\n",
       "    var cell = handle.cell;\n",
       "\n",
       "    var id = cell.output_area._bokeh_element_id;\n",
       "    var server_id = cell.output_area._bokeh_server_id;\n",
       "    // Clean up Bokeh references\n",
       "    if (id !== undefined) {\n",
       "      Bokeh.index[id].model.document.clear();\n",
       "      delete Bokeh.index[id];\n",
       "    }\n",
       "\n",
       "    if (server_id !== undefined) {\n",
       "      // Clean up Bokeh references\n",
       "      var cmd = \"from bokeh.io.state import curstate; print(curstate().uuid_to_server['\" + server_id + \"'].get_sessions()[0].document.roots[0]._id)\";\n",
       "      cell.notebook.kernel.execute(cmd, {\n",
       "        iopub: {\n",
       "          output: function(msg) {\n",
       "            var element_id = msg.content.text.trim();\n",
       "            Bokeh.index[element_id].model.document.clear();\n",
       "            delete Bokeh.index[element_id];\n",
       "          }\n",
       "        }\n",
       "      });\n",
       "      // Destroy server and session\n",
       "      var cmd = \"import bokeh.io.notebook as ion; ion.destroy_server('\" + server_id + \"')\";\n",
       "      cell.notebook.kernel.execute(cmd);\n",
       "    }\n",
       "  }\n",
       "\n",
       "  /**\n",
       "   * Handle when a new output is added\n",
       "   */\n",
       "  function handleAddOutput(event, handle) {\n",
       "    var output_area = handle.output_area;\n",
       "    var output = handle.output;\n",
       "\n",
       "    // limit handleAddOutput to display_data with EXEC_MIME_TYPE content only\n",
       "    if ((output.output_type != \"display_data\") || (!output.data.hasOwnProperty(EXEC_MIME_TYPE))) {\n",
       "      return\n",
       "    }\n",
       "\n",
       "    var toinsert = output_area.element.find(`.${CLASS_NAME.split(' ')[0]}`);\n",
       "\n",
       "    if (output.metadata[EXEC_MIME_TYPE][\"id\"] !== undefined) {\n",
       "      toinsert[0].firstChild.textContent = output.data[JS_MIME_TYPE];\n",
       "      // store reference to embed id on output_area\n",
       "      output_area._bokeh_element_id = output.metadata[EXEC_MIME_TYPE][\"id\"];\n",
       "    }\n",
       "    if (output.metadata[EXEC_MIME_TYPE][\"server_id\"] !== undefined) {\n",
       "      var bk_div = document.createElement(\"div\");\n",
       "      bk_div.innerHTML = output.data[HTML_MIME_TYPE];\n",
       "      var script_attrs = bk_div.children[0].attributes;\n",
       "      for (var i = 0; i < script_attrs.length; i++) {\n",
       "        toinsert[0].firstChild.setAttribute(script_attrs[i].name, script_attrs[i].value);\n",
       "      }\n",
       "      // store reference to server id on output_area\n",
       "      output_area._bokeh_server_id = output.metadata[EXEC_MIME_TYPE][\"server_id\"];\n",
       "    }\n",
       "  }\n",
       "\n",
       "  function register_renderer(events, OutputArea) {\n",
       "\n",
       "    function append_mime(data, metadata, element) {\n",
       "      // create a DOM node to render to\n",
       "      var toinsert = this.create_output_subarea(\n",
       "        metadata,\n",
       "        CLASS_NAME,\n",
       "        EXEC_MIME_TYPE\n",
       "      );\n",
       "      this.keyboard_manager.register_events(toinsert);\n",
       "      // Render to node\n",
       "      var props = {data: data, metadata: metadata[EXEC_MIME_TYPE]};\n",
       "      render(props, toinsert[0]);\n",
       "      element.append(toinsert);\n",
       "      return toinsert\n",
       "    }\n",
       "\n",
       "    /* Handle when an output is cleared or removed */\n",
       "    events.on('clear_output.CodeCell', handleClearOutput);\n",
       "    events.on('delete.Cell', handleClearOutput);\n",
       "\n",
       "    /* Handle when a new output is added */\n",
       "    events.on('output_added.OutputArea', handleAddOutput);\n",
       "\n",
       "    /**\n",
       "     * Register the mime type and append_mime function with output_area\n",
       "     */\n",
       "    OutputArea.prototype.register_mime_type(EXEC_MIME_TYPE, append_mime, {\n",
       "      /* Is output safe? */\n",
       "      safe: true,\n",
       "      /* Index of renderer in `output_area.display_order` */\n",
       "      index: 0\n",
       "    });\n",
       "  }\n",
       "\n",
       "  // register the mime type if in Jupyter Notebook environment and previously unregistered\n",
       "  if (root.Jupyter !== undefined) {\n",
       "    var events = require('base/js/events');\n",
       "    var OutputArea = require('notebook/js/outputarea').OutputArea;\n",
       "\n",
       "    if (OutputArea.prototype.mime_types().indexOf(EXEC_MIME_TYPE) == -1) {\n",
       "      register_renderer(events, OutputArea);\n",
       "    }\n",
       "  }\n",
       "\n",
       "  \n",
       "  if (typeof (root._bokeh_timeout) === \"undefined\" || force === true) {\n",
       "    root._bokeh_timeout = Date.now() + 5000;\n",
       "    root._bokeh_failed_load = false;\n",
       "  }\n",
       "\n",
       "  var NB_LOAD_WARNING = {'data': {'text/html':\n",
       "     \"<div style='background-color: #fdd'>\\n\"+\n",
       "     \"<p>\\n\"+\n",
       "     \"BokehJS does not appear to have successfully loaded. If loading BokehJS from CDN, this \\n\"+\n",
       "     \"may be due to a slow or bad network connection. Possible fixes:\\n\"+\n",
       "     \"</p>\\n\"+\n",
       "     \"<ul>\\n\"+\n",
       "     \"<li>re-rerun `output_notebook()` to attempt to load from CDN again, or</li>\\n\"+\n",
       "     \"<li>use INLINE resources instead, as so:</li>\\n\"+\n",
       "     \"</ul>\\n\"+\n",
       "     \"<code>\\n\"+\n",
       "     \"from bokeh.resources import INLINE\\n\"+\n",
       "     \"output_notebook(resources=INLINE)\\n\"+\n",
       "     \"</code>\\n\"+\n",
       "     \"</div>\"}};\n",
       "\n",
       "  function display_loaded() {\n",
       "    var el = document.getElementById(\"e1b5abff-12a5-4de5-a238-d9b27099ac23\");\n",
       "    if (el != null) {\n",
       "      el.textContent = \"BokehJS is loading...\";\n",
       "    }\n",
       "    if (root.Bokeh !== undefined) {\n",
       "      if (el != null) {\n",
       "        el.textContent = \"BokehJS \" + root.Bokeh.version + \" successfully loaded.\";\n",
       "      }\n",
       "    } else if (Date.now() < root._bokeh_timeout) {\n",
       "      setTimeout(display_loaded, 100)\n",
       "    }\n",
       "  }\n",
       "\n",
       "\n",
       "  function run_callbacks() {\n",
       "    try {\n",
       "      root._bokeh_onload_callbacks.forEach(function(callback) { callback() });\n",
       "    }\n",
       "    finally {\n",
       "      delete root._bokeh_onload_callbacks\n",
       "    }\n",
       "    console.info(\"Bokeh: all callbacks have finished\");\n",
       "  }\n",
       "\n",
       "  function load_libs(js_urls, callback) {\n",
       "    root._bokeh_onload_callbacks.push(callback);\n",
       "    if (root._bokeh_is_loading > 0) {\n",
       "      console.log(\"Bokeh: BokehJS is being loaded, scheduling callback at\", now());\n",
       "      return null;\n",
       "    }\n",
       "    if (js_urls == null || js_urls.length === 0) {\n",
       "      run_callbacks();\n",
       "      return null;\n",
       "    }\n",
       "    console.log(\"Bokeh: BokehJS not loaded, scheduling load and callback at\", now());\n",
       "    root._bokeh_is_loading = js_urls.length;\n",
       "    for (var i = 0; i < js_urls.length; i++) {\n",
       "      var url = js_urls[i];\n",
       "      var s = document.createElement('script');\n",
       "      s.src = url;\n",
       "      s.async = false;\n",
       "      s.onreadystatechange = s.onload = function() {\n",
       "        root._bokeh_is_loading--;\n",
       "        if (root._bokeh_is_loading === 0) {\n",
       "          console.log(\"Bokeh: all BokehJS libraries loaded\");\n",
       "          run_callbacks()\n",
       "        }\n",
       "      };\n",
       "      s.onerror = function() {\n",
       "        console.warn(\"failed to load library \" + url);\n",
       "      };\n",
       "      console.log(\"Bokeh: injecting script tag for BokehJS library: \", url);\n",
       "      document.getElementsByTagName(\"head\")[0].appendChild(s);\n",
       "    }\n",
       "  };var element = document.getElementById(\"e1b5abff-12a5-4de5-a238-d9b27099ac23\");\n",
       "  if (element == null) {\n",
       "    console.log(\"Bokeh: ERROR: autoload.js configured with elementid 'e1b5abff-12a5-4de5-a238-d9b27099ac23' but no matching script tag was found. \")\n",
       "    return false;\n",
       "  }\n",
       "\n",
       "  var js_urls = [\"https://cdn.pydata.org/bokeh/release/bokeh-0.12.10.min.js\", \"https://cdn.pydata.org/bokeh/release/bokeh-widgets-0.12.10.min.js\", \"https://cdn.pydata.org/bokeh/release/bokeh-tables-0.12.10.min.js\", \"https://cdn.pydata.org/bokeh/release/bokeh-gl-0.12.10.min.js\"];\n",
       "\n",
       "  var inline_js = [\n",
       "    function(Bokeh) {\n",
       "      Bokeh.set_log_level(\"info\");\n",
       "    },\n",
       "    \n",
       "    function(Bokeh) {\n",
       "      \n",
       "    },\n",
       "    function(Bokeh) {\n",
       "      console.log(\"Bokeh: injecting CSS: https://cdn.pydata.org/bokeh/release/bokeh-0.12.10.min.css\");\n",
       "      Bokeh.embed.inject_css(\"https://cdn.pydata.org/bokeh/release/bokeh-0.12.10.min.css\");\n",
       "      console.log(\"Bokeh: injecting CSS: https://cdn.pydata.org/bokeh/release/bokeh-widgets-0.12.10.min.css\");\n",
       "      Bokeh.embed.inject_css(\"https://cdn.pydata.org/bokeh/release/bokeh-widgets-0.12.10.min.css\");\n",
       "      console.log(\"Bokeh: injecting CSS: https://cdn.pydata.org/bokeh/release/bokeh-tables-0.12.10.min.css\");\n",
       "      Bokeh.embed.inject_css(\"https://cdn.pydata.org/bokeh/release/bokeh-tables-0.12.10.min.css\");\n",
       "    }\n",
       "  ];\n",
       "\n",
       "  function run_inline_js() {\n",
       "    \n",
       "    if ((root.Bokeh !== undefined) || (force === true)) {\n",
       "      for (var i = 0; i < inline_js.length; i++) {\n",
       "        inline_js[i].call(root, root.Bokeh);\n",
       "      }if (force === true) {\n",
       "        display_loaded();\n",
       "      }} else if (Date.now() < root._bokeh_timeout) {\n",
       "      setTimeout(run_inline_js, 100);\n",
       "    } else if (!root._bokeh_failed_load) {\n",
       "      console.log(\"Bokeh: BokehJS failed to load within specified timeout.\");\n",
       "      root._bokeh_failed_load = true;\n",
       "    } else if (force !== true) {\n",
       "      var cell = $(document.getElementById(\"e1b5abff-12a5-4de5-a238-d9b27099ac23\")).parents('.cell').data().cell;\n",
       "      cell.output_area.append_execute_result(NB_LOAD_WARNING)\n",
       "    }\n",
       "\n",
       "  }\n",
       "\n",
       "  if (root._bokeh_is_loading === 0) {\n",
       "    console.log(\"Bokeh: BokehJS loaded, going straight to plotting\");\n",
       "    run_inline_js();\n",
       "  } else {\n",
       "    load_libs(js_urls, function() {\n",
       "      console.log(\"Bokeh: BokehJS plotting callback run at\", now());\n",
       "      run_inline_js();\n",
       "    });\n",
       "  }\n",
       "}(window));"
      ],
      "application/vnd.bokehjs_load.v0+json": "\n(function(root) {\n  function now() {\n    return new Date();\n  }\n\n  var force = true;\n\n  if (typeof (root._bokeh_onload_callbacks) === \"undefined\" || force === true) {\n    root._bokeh_onload_callbacks = [];\n    root._bokeh_is_loading = undefined;\n  }\n\n  \n\n  \n  if (typeof (root._bokeh_timeout) === \"undefined\" || force === true) {\n    root._bokeh_timeout = Date.now() + 5000;\n    root._bokeh_failed_load = false;\n  }\n\n  var NB_LOAD_WARNING = {'data': {'text/html':\n     \"<div style='background-color: #fdd'>\\n\"+\n     \"<p>\\n\"+\n     \"BokehJS does not appear to have successfully loaded. If loading BokehJS from CDN, this \\n\"+\n     \"may be due to a slow or bad network connection. Possible fixes:\\n\"+\n     \"</p>\\n\"+\n     \"<ul>\\n\"+\n     \"<li>re-rerun `output_notebook()` to attempt to load from CDN again, or</li>\\n\"+\n     \"<li>use INLINE resources instead, as so:</li>\\n\"+\n     \"</ul>\\n\"+\n     \"<code>\\n\"+\n     \"from bokeh.resources import INLINE\\n\"+\n     \"output_notebook(resources=INLINE)\\n\"+\n     \"</code>\\n\"+\n     \"</div>\"}};\n\n  function display_loaded() {\n    var el = document.getElementById(\"e1b5abff-12a5-4de5-a238-d9b27099ac23\");\n    if (el != null) {\n      el.textContent = \"BokehJS is loading...\";\n    }\n    if (root.Bokeh !== undefined) {\n      if (el != null) {\n        el.textContent = \"BokehJS \" + root.Bokeh.version + \" successfully loaded.\";\n      }\n    } else if (Date.now() < root._bokeh_timeout) {\n      setTimeout(display_loaded, 100)\n    }\n  }\n\n\n  function run_callbacks() {\n    try {\n      root._bokeh_onload_callbacks.forEach(function(callback) { callback() });\n    }\n    finally {\n      delete root._bokeh_onload_callbacks\n    }\n    console.info(\"Bokeh: all callbacks have finished\");\n  }\n\n  function load_libs(js_urls, callback) {\n    root._bokeh_onload_callbacks.push(callback);\n    if (root._bokeh_is_loading > 0) {\n      console.log(\"Bokeh: BokehJS is being loaded, scheduling callback at\", now());\n      return null;\n    }\n    if (js_urls == null || js_urls.length === 0) {\n      run_callbacks();\n      return null;\n    }\n    console.log(\"Bokeh: BokehJS not loaded, scheduling load and callback at\", now());\n    root._bokeh_is_loading = js_urls.length;\n    for (var i = 0; i < js_urls.length; i++) {\n      var url = js_urls[i];\n      var s = document.createElement('script');\n      s.src = url;\n      s.async = false;\n      s.onreadystatechange = s.onload = function() {\n        root._bokeh_is_loading--;\n        if (root._bokeh_is_loading === 0) {\n          console.log(\"Bokeh: all BokehJS libraries loaded\");\n          run_callbacks()\n        }\n      };\n      s.onerror = function() {\n        console.warn(\"failed to load library \" + url);\n      };\n      console.log(\"Bokeh: injecting script tag for BokehJS library: \", url);\n      document.getElementsByTagName(\"head\")[0].appendChild(s);\n    }\n  };var element = document.getElementById(\"e1b5abff-12a5-4de5-a238-d9b27099ac23\");\n  if (element == null) {\n    console.log(\"Bokeh: ERROR: autoload.js configured with elementid 'e1b5abff-12a5-4de5-a238-d9b27099ac23' but no matching script tag was found. \")\n    return false;\n  }\n\n  var js_urls = [\"https://cdn.pydata.org/bokeh/release/bokeh-0.12.10.min.js\", \"https://cdn.pydata.org/bokeh/release/bokeh-widgets-0.12.10.min.js\", \"https://cdn.pydata.org/bokeh/release/bokeh-tables-0.12.10.min.js\", \"https://cdn.pydata.org/bokeh/release/bokeh-gl-0.12.10.min.js\"];\n\n  var inline_js = [\n    function(Bokeh) {\n      Bokeh.set_log_level(\"info\");\n    },\n    \n    function(Bokeh) {\n      \n    },\n    function(Bokeh) {\n      console.log(\"Bokeh: injecting CSS: https://cdn.pydata.org/bokeh/release/bokeh-0.12.10.min.css\");\n      Bokeh.embed.inject_css(\"https://cdn.pydata.org/bokeh/release/bokeh-0.12.10.min.css\");\n      console.log(\"Bokeh: injecting CSS: https://cdn.pydata.org/bokeh/release/bokeh-widgets-0.12.10.min.css\");\n      Bokeh.embed.inject_css(\"https://cdn.pydata.org/bokeh/release/bokeh-widgets-0.12.10.min.css\");\n      console.log(\"Bokeh: injecting CSS: https://cdn.pydata.org/bokeh/release/bokeh-tables-0.12.10.min.css\");\n      Bokeh.embed.inject_css(\"https://cdn.pydata.org/bokeh/release/bokeh-tables-0.12.10.min.css\");\n    }\n  ];\n\n  function run_inline_js() {\n    \n    if ((root.Bokeh !== undefined) || (force === true)) {\n      for (var i = 0; i < inline_js.length; i++) {\n        inline_js[i].call(root, root.Bokeh);\n      }if (force === true) {\n        display_loaded();\n      }} else if (Date.now() < root._bokeh_timeout) {\n      setTimeout(run_inline_js, 100);\n    } else if (!root._bokeh_failed_load) {\n      console.log(\"Bokeh: BokehJS failed to load within specified timeout.\");\n      root._bokeh_failed_load = true;\n    } else if (force !== true) {\n      var cell = $(document.getElementById(\"e1b5abff-12a5-4de5-a238-d9b27099ac23\")).parents('.cell').data().cell;\n      cell.output_area.append_execute_result(NB_LOAD_WARNING)\n    }\n\n  }\n\n  if (root._bokeh_is_loading === 0) {\n    console.log(\"Bokeh: BokehJS loaded, going straight to plotting\");\n    run_inline_js();\n  } else {\n    load_libs(js_urls, function() {\n      console.log(\"Bokeh: BokehJS plotting callback run at\", now());\n      run_inline_js();\n    });\n  }\n}(window));"
     },
     "metadata": {},
     "output_type": "display_data"
    }
   ],
   "source": [
    "from dask.diagnostics import Profiler, ResourceProfiler, CacheProfiler, visualize\n",
    "from bokeh.io import output_notebook\n",
    "output_notebook()"
   ]
  },
  {
   "cell_type": "code",
   "execution_count": 36,
   "metadata": {},
   "outputs": [
    {
     "data": {
      "text/html": [
       "\n",
       "<div class=\"bk-root\">\n",
       "    <div class=\"bk-plotdiv\" id=\"dd463d5b-8551-4bd4-8ea1-dfd559c70c7d\"></div>\n",
       "</div>"
      ]
     },
     "metadata": {},
     "output_type": "display_data"
    },
    {
     "data": {
      "application/javascript": [
       "(function(root) {\n",
       "  function embed_document(root) {\n",
       "    var docs_json = {\"bdb359c2-9e67-4f2e-bdf7-371056ded8ac\":{\"roots\":{\"references\":[{\"attributes\":{\"axis_label\":\"Memory (MB)\",\"formatter\":{\"id\":\"428720a3-0fdc-4507-99ae-d298b864ceec\",\"type\":\"BasicTickFormatter\"},\"plot\":{\"id\":\"f515741c-a160-4489-b11a-96473add718a\",\"subtype\":\"Figure\",\"type\":\"Plot\"},\"ticker\":{\"id\":\"f0a01990-0ef0-4f9a-b651-371dce62620a\",\"type\":\"BasicTicker\"},\"y_range_name\":\"memory\"},\"id\":\"be800890-f6ed-4f69-afa1-846ae5611568\",\"type\":\"LinearAxis\"},{\"attributes\":{},\"id\":\"f0a01990-0ef0-4f9a-b651-371dce62620a\",\"type\":\"BasicTicker\"},{\"attributes\":{},\"id\":\"428720a3-0fdc-4507-99ae-d298b864ceec\",\"type\":\"BasicTickFormatter\"},{\"attributes\":{},\"id\":\"739b2648-3d0b-4c7b-a5ee-0b4118abe19e\",\"type\":\"BasicTickFormatter\"},{\"attributes\":{\"data_source\":{\"id\":\"4c71e4a3-ccdc-4c7e-b1c8-31ef63909f55\",\"type\":\"ColumnDataSource\"},\"glyph\":{\"id\":\"53ba7bf9-a35b-44a4-b7b6-13c4ccaee3a3\",\"type\":\"Line\"},\"hover_glyph\":null,\"muted_glyph\":null,\"nonselection_glyph\":{\"id\":\"cd2f501e-4ea5-40f0-be2e-2d10645f5915\",\"type\":\"Line\"},\"selection_glyph\":null,\"view\":{\"id\":\"ead9e123-c9a2-482e-aed4-4cff1e28cabb\",\"type\":\"CDSView\"}},\"id\":\"23e79dfb-e5a3-42f4-a5bd-39d87f5161f4\",\"type\":\"GlyphRenderer\"},{\"attributes\":{\"callback\":null,\"column_names\":[\"x\",\"y\"],\"data\":{\"x\":[0.0,0.25061021698638797,0.5136287979839835,0.7641351939819288,1.0147730149910785,1.2655421789968386,1.5164541139965877,1.767218471999513,2.0179118019877933,2.2686329139978625,2.5194114049954806,2.7701855289924424,3.02081270198687,3.2713737489830237,3.5219748799863737,3.772692594997352,4.023322744993493,4.27393293500063,4.524594788992545,4.77533557699644,5.0261270820046775,5.276856438984396,5.527503668999998,5.778128584002843,6.028781579982024,6.279427247005515,6.530114975001197,6.7807857189909555,7.031513712980086,7.282293836993631,7.533196973003214,7.783729518007021,8.034437956986949,8.284994171001017,8.535689618991455],\"y\":[31300.517888,31304.978432,31307.85792,31312.216064,31312.2816,31312.2816,31304.429568,31304.429568,31304.429568,31304.429568,31304.429568,31304.429568,31304.429568,31304.429568,31304.429568,31304.429568,31304.429568,31304.429568,31304.429568,31304.429568,31304.429568,31299.555328,31299.555328,31299.555328,31299.555328,31299.571712,31299.571712,31299.571712,31299.571712,31299.571712,31299.571712,31299.571712,31299.571712,31178.371072,31059.738624]}},\"id\":\"2e6e6378-449f-449f-b901-bb9ff0ccd458\",\"type\":\"ColumnDataSource\"},{\"attributes\":{\"source\":{\"id\":\"2e6e6378-449f-449f-b901-bb9ff0ccd458\",\"type\":\"ColumnDataSource\"}},\"id\":\"1766f503-9a8e-4ae7-9de4-8e370a55b5fe\",\"type\":\"CDSView\"},{\"attributes\":{\"dimensions\":\"width\"},\"id\":\"f7471ac8-0500-4891-b994-799d1a8fac27\",\"type\":\"PanTool\"},{\"attributes\":{\"dimensions\":\"width\"},\"id\":\"2c8a735f-ddbb-4395-ae2a-da3d6f4eb302\",\"type\":\"WheelZoomTool\"},{\"attributes\":{},\"id\":\"ad631696-4755-4bc7-9c6c-f8f0085e9ef3\",\"type\":\"ResetTool\"},{\"attributes\":{\"line_color\":{\"value\":\"#29788E\"},\"line_width\":{\"value\":4},\"x\":{\"field\":\"x\"},\"y\":{\"field\":\"y\"}},\"id\":\"b7351fb3-d68b-4e2d-a8f2-4ab90c15eed1\",\"type\":\"Line\"},{\"attributes\":{\"label\":{\"value\":\"Memory\"},\"renderers\":[{\"id\":\"c809becb-b92c-4edc-b0a0-b7ef075e8280\",\"type\":\"GlyphRenderer\"}]},\"id\":\"fdb66214-d1ab-41e4-96f0-8a5eb62f8dbf\",\"type\":\"LegendItem\"},{\"attributes\":{\"line_color\":{\"value\":\"#440154\"},\"line_width\":{\"value\":4},\"x\":{\"field\":\"x\"},\"y\":{\"field\":\"y\"}},\"id\":\"53ba7bf9-a35b-44a4-b7b6-13c4ccaee3a3\",\"type\":\"Line\"},{\"attributes\":{\"label\":{\"value\":\"% CPU\"},\"renderers\":[{\"id\":\"23e79dfb-e5a3-42f4-a5bd-39d87f5161f4\",\"type\":\"GlyphRenderer\"}]},\"id\":\"661f95b9-3a0d-4a26-8deb-89e6762b5483\",\"type\":\"LegendItem\"},{\"attributes\":{\"line_alpha\":{\"value\":0.1},\"line_color\":{\"value\":\"#1f77b4\"},\"line_width\":{\"value\":4},\"x\":{\"field\":\"x\"},\"y\":{\"field\":\"y\"}},\"id\":\"96e08434-5dad-48e5-8d96-f20ff488ee9d\",\"type\":\"Line\"},{\"attributes\":{},\"id\":\"116ddb08-f9b7-4137-8339-011cc4311331\",\"type\":\"SaveTool\"},{\"attributes\":{\"dimension\":1,\"plot\":{\"id\":\"f515741c-a160-4489-b11a-96473add718a\",\"subtype\":\"Figure\",\"type\":\"Plot\"},\"ticker\":{\"id\":\"b913a06f-966c-4304-a931-86858ae50bb2\",\"type\":\"BasicTicker\"}},\"id\":\"75bb4110-e7d3-4905-b0d9-dab3f2eff107\",\"type\":\"Grid\"},{\"attributes\":{},\"id\":\"b913a06f-966c-4304-a931-86858ae50bb2\",\"type\":\"BasicTicker\"},{\"attributes\":{\"axis_label\":\"% CPU\",\"formatter\":{\"id\":\"4d7778eb-7e11-415c-825b-7a91e2a73c50\",\"type\":\"BasicTickFormatter\"},\"plot\":{\"id\":\"f515741c-a160-4489-b11a-96473add718a\",\"subtype\":\"Figure\",\"type\":\"Plot\"},\"ticker\":{\"id\":\"b913a06f-966c-4304-a931-86858ae50bb2\",\"type\":\"BasicTicker\"}},\"id\":\"8a815052-dc89-4dfb-b0e0-23b3f6ab2f2d\",\"type\":\"LinearAxis\"},{\"attributes\":{},\"id\":\"4d7778eb-7e11-415c-825b-7a91e2a73c50\",\"type\":\"BasicTickFormatter\"},{\"attributes\":{},\"id\":\"5515a136-6316-4b53-81b6-4ad0e4234d8e\",\"type\":\"BasicTicker\"},{\"attributes\":{\"data_source\":{\"id\":\"2e6e6378-449f-449f-b901-bb9ff0ccd458\",\"type\":\"ColumnDataSource\"},\"glyph\":{\"id\":\"b7351fb3-d68b-4e2d-a8f2-4ab90c15eed1\",\"type\":\"Line\"},\"hover_glyph\":null,\"muted_glyph\":null,\"nonselection_glyph\":{\"id\":\"96e08434-5dad-48e5-8d96-f20ff488ee9d\",\"type\":\"Line\"},\"selection_glyph\":null,\"view\":{\"id\":\"1766f503-9a8e-4ae7-9de4-8e370a55b5fe\",\"type\":\"CDSView\"},\"y_range_name\":\"memory\"},\"id\":\"c809becb-b92c-4edc-b0a0-b7ef075e8280\",\"type\":\"GlyphRenderer\"},{\"attributes\":{\"plot\":{\"id\":\"f515741c-a160-4489-b11a-96473add718a\",\"subtype\":\"Figure\",\"type\":\"Plot\"},\"ticker\":{\"id\":\"5515a136-6316-4b53-81b6-4ad0e4234d8e\",\"type\":\"BasicTicker\"}},\"id\":\"4a302ad2-363c-4544-9229-00542e0246cf\",\"type\":\"Grid\"},{\"attributes\":{\"axis_label\":\"Time (s)\",\"formatter\":{\"id\":\"739b2648-3d0b-4c7b-a5ee-0b4118abe19e\",\"type\":\"BasicTickFormatter\"},\"plot\":{\"id\":\"f515741c-a160-4489-b11a-96473add718a\",\"subtype\":\"Figure\",\"type\":\"Plot\"},\"ticker\":{\"id\":\"5515a136-6316-4b53-81b6-4ad0e4234d8e\",\"type\":\"BasicTicker\"}},\"id\":\"1a0b87b1-1653-490a-b95d-197b13865fa2\",\"type\":\"LinearAxis\"},{\"attributes\":{},\"id\":\"9f36be2e-a2e1-4900-a6a2-f73bb48aade6\",\"type\":\"LinearScale\"},{\"attributes\":{\"callback\":null,\"end\":507.0},\"id\":\"89de57db-0663-4c88-bc39-82a897232513\",\"type\":\"Range1d\"},{\"attributes\":{},\"id\":\"31f125b6-f8f5-4b00-aa19-83950091fa29\",\"type\":\"LinearScale\"},{\"attributes\":{\"callback\":null,\"column_names\":[\"x\",\"y\"],\"data\":{\"x\":[0.0,0.25061021698638797,0.5136287979839835,0.7641351939819288,1.0147730149910785,1.2655421789968386,1.5164541139965877,1.767218471999513,2.0179118019877933,2.2686329139978625,2.5194114049954806,2.7701855289924424,3.02081270198687,3.2713737489830237,3.5219748799863737,3.772692594997352,4.023322744993493,4.27393293500063,4.524594788992545,4.77533557699644,5.0261270820046775,5.276856438984396,5.527503668999998,5.778128584002843,6.028781579982024,6.279427247005515,6.530114975001197,6.7807857189909555,7.031513712980086,7.282293836993631,7.533196973003214,7.783729518007021,8.034437956986949,8.284994171001017,8.535689618991455],\"y\":[0.0,99.8,106.5,315.3,363.0,482.3,446.5,478.6,458.7,470.6,470.6,494.5,498.8,494.9,482.7,494.7,482.8,482.8,486.7,478.4,478.6,486.7,490.7,470.8,494.7,482.8,482.6,482.7,502.5,494.3,502.3,507.0,494.7,478.8,478.7]}},\"id\":\"4c71e4a3-ccdc-4c7e-b1c8-31ef63909f55\",\"type\":\"ColumnDataSource\"},{\"attributes\":{\"source\":{\"id\":\"4c71e4a3-ccdc-4c7e-b1c8-31ef63909f55\",\"type\":\"ColumnDataSource\"}},\"id\":\"ead9e123-c9a2-482e-aed4-4cff1e28cabb\",\"type\":\"CDSView\"},{\"attributes\":{\"items\":[{\"id\":\"661f95b9-3a0d-4a26-8deb-89e6762b5483\",\"type\":\"LegendItem\"},{\"id\":\"fdb66214-d1ab-41e4-96f0-8a5eb62f8dbf\",\"type\":\"LegendItem\"}],\"plot\":{\"id\":\"f515741c-a160-4489-b11a-96473add718a\",\"subtype\":\"Figure\",\"type\":\"Plot\"}},\"id\":\"9a4609ca-134c-4bce-a301-bc7099a647d6\",\"type\":\"Legend\"},{\"attributes\":{\"below\":[{\"id\":\"1a0b87b1-1653-490a-b95d-197b13865fa2\",\"type\":\"LinearAxis\"}],\"extra_y_ranges\":{\"memory\":{\"id\":\"10a37402-2a9e-4bca-a2b0-ae26a3937e83\",\"type\":\"Range1d\"}},\"left\":[{\"id\":\"8a815052-dc89-4dfb-b0e0-23b3f6ab2f2d\",\"type\":\"LinearAxis\"}],\"plot_height\":300,\"plot_width\":800,\"renderers\":[{\"id\":\"1a0b87b1-1653-490a-b95d-197b13865fa2\",\"type\":\"LinearAxis\"},{\"id\":\"4a302ad2-363c-4544-9229-00542e0246cf\",\"type\":\"Grid\"},{\"id\":\"8a815052-dc89-4dfb-b0e0-23b3f6ab2f2d\",\"type\":\"LinearAxis\"},{\"id\":\"75bb4110-e7d3-4905-b0d9-dab3f2eff107\",\"type\":\"Grid\"},{\"id\":\"9a4609ca-134c-4bce-a301-bc7099a647d6\",\"type\":\"Legend\"},{\"id\":\"23e79dfb-e5a3-42f4-a5bd-39d87f5161f4\",\"type\":\"GlyphRenderer\"},{\"id\":\"c809becb-b92c-4edc-b0a0-b7ef075e8280\",\"type\":\"GlyphRenderer\"},{\"id\":\"be800890-f6ed-4f69-afa1-846ae5611568\",\"type\":\"LinearAxis\"}],\"right\":[{\"id\":\"be800890-f6ed-4f69-afa1-846ae5611568\",\"type\":\"LinearAxis\"}],\"title\":{\"id\":\"84d104db-2842-468c-b453-8ab1c814360d\",\"type\":\"Title\"},\"toolbar\":{\"id\":\"663a2d4c-2c4f-45c8-b5b6-3817ea0f06a0\",\"type\":\"Toolbar\"},\"toolbar_location\":\"above\",\"x_range\":{\"id\":\"e0ce3b40-574b-4afe-b9b2-47e8ab1becda\",\"type\":\"Range1d\"},\"x_scale\":{\"id\":\"9f36be2e-a2e1-4900-a6a2-f73bb48aade6\",\"type\":\"LinearScale\"},\"y_range\":{\"id\":\"89de57db-0663-4c88-bc39-82a897232513\",\"type\":\"Range1d\"},\"y_scale\":{\"id\":\"31f125b6-f8f5-4b00-aa19-83950091fa29\",\"type\":\"LinearScale\"}},\"id\":\"f515741c-a160-4489-b11a-96473add718a\",\"subtype\":\"Figure\",\"type\":\"Plot\"},{\"attributes\":{\"active_drag\":\"auto\",\"active_inspect\":\"auto\",\"active_scroll\":\"auto\",\"active_tap\":\"auto\",\"tools\":[{\"id\":\"116ddb08-f9b7-4137-8339-011cc4311331\",\"type\":\"SaveTool\"},{\"id\":\"ad631696-4755-4bc7-9c6c-f8f0085e9ef3\",\"type\":\"ResetTool\"},{\"id\":\"2c8a735f-ddbb-4395-ae2a-da3d6f4eb302\",\"type\":\"WheelZoomTool\"},{\"id\":\"f7471ac8-0500-4891-b994-799d1a8fac27\",\"type\":\"PanTool\"}]},\"id\":\"663a2d4c-2c4f-45c8-b5b6-3817ea0f06a0\",\"type\":\"Toolbar\"},{\"attributes\":{\"line_alpha\":{\"value\":0.1},\"line_color\":{\"value\":\"#1f77b4\"},\"line_width\":{\"value\":4},\"x\":{\"field\":\"x\"},\"y\":{\"field\":\"y\"}},\"id\":\"cd2f501e-4ea5-40f0-be2e-2d10645f5915\",\"type\":\"Line\"},{\"attributes\":{\"callback\":null,\"end\":31312.2816,\"start\":31059.738624},\"id\":\"10a37402-2a9e-4bca-a2b0-ae26a3937e83\",\"type\":\"Range1d\"},{\"attributes\":{\"callback\":null,\"end\":8.535689618991455},\"id\":\"e0ce3b40-574b-4afe-b9b2-47e8ab1becda\",\"type\":\"Range1d\"},{\"attributes\":{\"plot\":null,\"text\":\"Profile Results\"},\"id\":\"84d104db-2842-468c-b453-8ab1c814360d\",\"type\":\"Title\"}],\"root_ids\":[\"f515741c-a160-4489-b11a-96473add718a\"]},\"title\":\"Bokeh Application\",\"version\":\"0.12.10\"}};\n",
       "    var render_items = [{\"docid\":\"bdb359c2-9e67-4f2e-bdf7-371056ded8ac\",\"elementid\":\"dd463d5b-8551-4bd4-8ea1-dfd559c70c7d\",\"modelid\":\"f515741c-a160-4489-b11a-96473add718a\"}];\n",
       "\n",
       "    root.Bokeh.embed.embed_items(docs_json, render_items);\n",
       "  }\n",
       "\n",
       "  if (root.Bokeh !== undefined) {\n",
       "    embed_document(root);\n",
       "  } else {\n",
       "    var attempts = 0;\n",
       "    var timer = setInterval(function(root) {\n",
       "      if (root.Bokeh !== undefined) {\n",
       "        embed_document(root);\n",
       "        clearInterval(timer);\n",
       "      }\n",
       "      attempts++;\n",
       "      if (attempts > 100) {\n",
       "        console.log(\"Bokeh: ERROR: Unable to embed document because BokehJS library is missing\")\n",
       "        clearInterval(timer);\n",
       "      }\n",
       "    }, 10, root)\n",
       "  }\n",
       "})(window);"
      ],
      "application/vnd.bokehjs_exec.v0+json": ""
     },
     "metadata": {
      "application/vnd.bokehjs_exec.v0+json": {
       "id": "f515741c-a160-4489-b11a-96473add718a"
      }
     },
     "output_type": "display_data"
    }
   ],
   "source": [
    "with ResourceProfiler(dt=0.25) as rprof:\n",
    "    dask_op(mem_z, mem_z)\n",
    "rprof.visualize();"
   ]
  },
  {
   "cell_type": "code",
   "execution_count": 37,
   "metadata": {},
   "outputs": [
    {
     "data": {
      "text/html": [
       "\n",
       "<div class=\"bk-root\">\n",
       "    <div class=\"bk-plotdiv\" id=\"11bc7f17-0f79-4509-8b2c-96a73ae3d5b9\"></div>\n",
       "</div>"
      ]
     },
     "metadata": {},
     "output_type": "display_data"
    },
    {
     "data": {
      "application/javascript": [
       "(function(root) {\n",
       "  function embed_document(root) {\n",
       "    var docs_json = {\"5d9c2d63-4ac1-40e3-8eab-5b363d691cee\":{\"roots\":{\"references\":[{\"attributes\":{\"below\":[{\"id\":\"06dd9557-5e04-43c0-9fbd-ce4d7781e948\",\"type\":\"LinearAxis\"}],\"extra_y_ranges\":{\"memory\":{\"id\":\"1a7daf54-21eb-447e-80c9-fdd360272103\",\"type\":\"Range1d\"}},\"left\":[{\"id\":\"961b0af8-333f-4ae7-bcf5-4c7bde2f53e0\",\"type\":\"LinearAxis\"}],\"plot_height\":300,\"plot_width\":800,\"renderers\":[{\"id\":\"06dd9557-5e04-43c0-9fbd-ce4d7781e948\",\"type\":\"LinearAxis\"},{\"id\":\"7706daf0-b040-4ca4-9a9c-563d650a4484\",\"type\":\"Grid\"},{\"id\":\"961b0af8-333f-4ae7-bcf5-4c7bde2f53e0\",\"type\":\"LinearAxis\"},{\"id\":\"4adb0251-0d37-47fd-ab71-cb92a37b06b9\",\"type\":\"Grid\"},{\"id\":\"099d8f46-ab9f-4819-ae0f-e6c4da2c8ee5\",\"type\":\"Legend\"},{\"id\":\"8bfa1ece-5972-4c10-b847-d8f6f2efbb1a\",\"type\":\"GlyphRenderer\"},{\"id\":\"2835f7b0-bb78-4389-b271-e1c4c178cd86\",\"type\":\"GlyphRenderer\"},{\"id\":\"2a4010cf-2619-46bc-8a8e-4c76d412951e\",\"type\":\"LinearAxis\"}],\"right\":[{\"id\":\"2a4010cf-2619-46bc-8a8e-4c76d412951e\",\"type\":\"LinearAxis\"}],\"title\":{\"id\":\"c3302e0d-0d87-4a15-931b-a3557691d80c\",\"type\":\"Title\"},\"toolbar\":{\"id\":\"aa04d6e7-e48b-4900-98ea-10edd0dd403b\",\"type\":\"Toolbar\"},\"toolbar_location\":\"above\",\"x_range\":{\"id\":\"fd9fed30-6626-4181-9ee4-1b4f8d07d0ea\",\"type\":\"Range1d\"},\"x_scale\":{\"id\":\"19babbb1-a2ef-4604-902e-3d962c003da9\",\"type\":\"LinearScale\"},\"y_range\":{\"id\":\"4f392931-83e3-477d-ab5c-fbe9c75a733e\",\"type\":\"Range1d\"},\"y_scale\":{\"id\":\"a5b3cc64-7d28-4de6-8885-da54ded641e1\",\"type\":\"LinearScale\"}},\"id\":\"e4608b5d-e114-43c3-9f46-b6401bbd2a30\",\"subtype\":\"Figure\",\"type\":\"Plot\"},{\"attributes\":{\"callback\":null,\"end\":9.294919144012965},\"id\":\"fd9fed30-6626-4181-9ee4-1b4f8d07d0ea\",\"type\":\"Range1d\"},{\"attributes\":{\"plot\":null,\"text\":\"Profile Results\"},\"id\":\"c3302e0d-0d87-4a15-931b-a3557691d80c\",\"type\":\"Title\"},{\"attributes\":{\"active_drag\":\"auto\",\"active_inspect\":\"auto\",\"active_scroll\":\"auto\",\"active_tap\":\"auto\",\"tools\":[{\"id\":\"caa8a39d-64c0-4c11-93af-d54aee3279db\",\"type\":\"SaveTool\"},{\"id\":\"c3da3a6d-93a6-4a4e-9940-5ec5c2b6cef1\",\"type\":\"ResetTool\"},{\"id\":\"57d76c5a-ea1c-453e-9838-2593c36dbd71\",\"type\":\"WheelZoomTool\"},{\"id\":\"ee0a2831-64b1-4d7c-8174-6b85e7a41be5\",\"type\":\"PanTool\"}]},\"id\":\"aa04d6e7-e48b-4900-98ea-10edd0dd403b\",\"type\":\"Toolbar\"},{\"attributes\":{},\"id\":\"19babbb1-a2ef-4604-902e-3d962c003da9\",\"type\":\"LinearScale\"},{\"attributes\":{\"callback\":null,\"end\":658.2},\"id\":\"4f392931-83e3-477d-ab5c-fbe9c75a733e\",\"type\":\"Range1d\"},{\"attributes\":{},\"id\":\"a5b3cc64-7d28-4de6-8885-da54ded641e1\",\"type\":\"LinearScale\"},{\"attributes\":{\"plot\":{\"id\":\"e4608b5d-e114-43c3-9f46-b6401bbd2a30\",\"subtype\":\"Figure\",\"type\":\"Plot\"},\"ticker\":{\"id\":\"94ed4f8f-6f34-430a-b3b3-baf207fb17fa\",\"type\":\"BasicTicker\"}},\"id\":\"7706daf0-b040-4ca4-9a9c-563d650a4484\",\"type\":\"Grid\"},{\"attributes\":{\"axis_label\":\"Time (s)\",\"formatter\":{\"id\":\"979e422f-1b0b-46a7-bee3-b00877952971\",\"type\":\"BasicTickFormatter\"},\"plot\":{\"id\":\"e4608b5d-e114-43c3-9f46-b6401bbd2a30\",\"subtype\":\"Figure\",\"type\":\"Plot\"},\"ticker\":{\"id\":\"94ed4f8f-6f34-430a-b3b3-baf207fb17fa\",\"type\":\"BasicTicker\"}},\"id\":\"06dd9557-5e04-43c0-9fbd-ce4d7781e948\",\"type\":\"LinearAxis\"},{\"attributes\":{},\"id\":\"94ed4f8f-6f34-430a-b3b3-baf207fb17fa\",\"type\":\"BasicTicker\"},{\"attributes\":{\"axis_label\":\"% CPU\",\"formatter\":{\"id\":\"fcff8dee-2f90-4d6c-b4da-568171f7cc06\",\"type\":\"BasicTickFormatter\"},\"plot\":{\"id\":\"e4608b5d-e114-43c3-9f46-b6401bbd2a30\",\"subtype\":\"Figure\",\"type\":\"Plot\"},\"ticker\":{\"id\":\"d45aace7-5cab-4f79-835f-ae9c2453c7af\",\"type\":\"BasicTicker\"}},\"id\":\"961b0af8-333f-4ae7-bcf5-4c7bde2f53e0\",\"type\":\"LinearAxis\"},{\"attributes\":{},\"id\":\"d45aace7-5cab-4f79-835f-ae9c2453c7af\",\"type\":\"BasicTicker\"},{\"attributes\":{\"dimension\":1,\"plot\":{\"id\":\"e4608b5d-e114-43c3-9f46-b6401bbd2a30\",\"subtype\":\"Figure\",\"type\":\"Plot\"},\"ticker\":{\"id\":\"d45aace7-5cab-4f79-835f-ae9c2453c7af\",\"type\":\"BasicTicker\"}},\"id\":\"4adb0251-0d37-47fd-ab71-cb92a37b06b9\",\"type\":\"Grid\"},{\"attributes\":{},\"id\":\"caa8a39d-64c0-4c11-93af-d54aee3279db\",\"type\":\"SaveTool\"},{\"attributes\":{},\"id\":\"c3da3a6d-93a6-4a4e-9940-5ec5c2b6cef1\",\"type\":\"ResetTool\"},{\"attributes\":{\"dimensions\":\"width\"},\"id\":\"57d76c5a-ea1c-453e-9838-2593c36dbd71\",\"type\":\"WheelZoomTool\"},{\"attributes\":{\"dimensions\":\"width\"},\"id\":\"ee0a2831-64b1-4d7c-8174-6b85e7a41be5\",\"type\":\"PanTool\"},{\"attributes\":{},\"id\":\"efd295ee-cec0-44a8-b8d3-679d6ba9d3be\",\"type\":\"BasicTickFormatter\"},{\"attributes\":{\"label\":{\"value\":\"Memory\"},\"renderers\":[{\"id\":\"2835f7b0-bb78-4389-b271-e1c4c178cd86\",\"type\":\"GlyphRenderer\"}]},\"id\":\"066cef47-afe4-49de-ba6b-5fe727f8e5a0\",\"type\":\"LegendItem\"},{\"attributes\":{\"axis_label\":\"Memory (MB)\",\"formatter\":{\"id\":\"efd295ee-cec0-44a8-b8d3-679d6ba9d3be\",\"type\":\"BasicTickFormatter\"},\"plot\":{\"id\":\"e4608b5d-e114-43c3-9f46-b6401bbd2a30\",\"subtype\":\"Figure\",\"type\":\"Plot\"},\"ticker\":{\"id\":\"912f6573-6fe3-4398-96ba-4ad77130f074\",\"type\":\"BasicTicker\"},\"y_range_name\":\"memory\"},\"id\":\"2a4010cf-2619-46bc-8a8e-4c76d412951e\",\"type\":\"LinearAxis\"},{\"attributes\":{\"source\":{\"id\":\"43d5419d-0a38-48ac-ab39-7481ba4af6dc\",\"type\":\"ColumnDataSource\"}},\"id\":\"023b69c7-c86f-4264-8f08-fec1c861b6aa\",\"type\":\"CDSView\"},{\"attributes\":{\"line_alpha\":{\"value\":0.1},\"line_color\":{\"value\":\"#1f77b4\"},\"line_width\":{\"value\":4},\"x\":{\"field\":\"x\"},\"y\":{\"field\":\"y\"}},\"id\":\"784e4a36-1067-48d9-b708-16d3f746fa62\",\"type\":\"Line\"},{\"attributes\":{\"callback\":null,\"end\":31288.578048,\"start\":30984.84736},\"id\":\"1a7daf54-21eb-447e-80c9-fdd360272103\",\"type\":\"Range1d\"},{\"attributes\":{\"data_source\":{\"id\":\"43d5419d-0a38-48ac-ab39-7481ba4af6dc\",\"type\":\"ColumnDataSource\"},\"glyph\":{\"id\":\"5fa1249d-7b7e-4aa5-8ef6-df414a2f5fca\",\"type\":\"Line\"},\"hover_glyph\":null,\"muted_glyph\":null,\"nonselection_glyph\":{\"id\":\"784e4a36-1067-48d9-b708-16d3f746fa62\",\"type\":\"Line\"},\"selection_glyph\":null,\"view\":{\"id\":\"023b69c7-c86f-4264-8f08-fec1c861b6aa\",\"type\":\"CDSView\"},\"y_range_name\":\"memory\"},\"id\":\"2835f7b0-bb78-4389-b271-e1c4c178cd86\",\"type\":\"GlyphRenderer\"},{\"attributes\":{\"label\":{\"value\":\"% CPU\"},\"renderers\":[{\"id\":\"8bfa1ece-5972-4c10-b847-d8f6f2efbb1a\",\"type\":\"GlyphRenderer\"}]},\"id\":\"b6e021b0-fcb6-44d9-819d-fc64ab801665\",\"type\":\"LegendItem\"},{\"attributes\":{\"callback\":null,\"column_names\":[\"x\",\"y\"],\"data\":{\"x\":[0.0,0.25080125499516726,0.5160553900059313,0.7665995660063345,1.0171681070060004,1.267712692002533,1.5184735660150182,1.7692573340027593,2.019975044997409,2.2706640289979987,2.521340820007026,2.7721259430109058,3.0250522260030266,3.275679784012027,3.526310774992453,3.776894378999714,4.027529434999451,4.27844976799679,4.529646662005689,4.780441483017057,5.031270120991394,5.2819924729992636,5.532681520009646,5.78332704200875,6.033973576006247,6.2848234710108954,6.536122994002653,6.787394201994175,7.038283260015305,7.288983915990684,7.539753526012646,7.790542722999817,8.041139428009046,8.29178757200134,8.542886025999906,8.793668614001945,9.044217645016033,9.294919144012965],\"y\":[30984.84736,30987.137024,30990.856192,30996.738048,31007.281152,31011.090432,31023.177728,31037.136896,31050.829824,31068.647424,31084.335104,31089.328128,31095.844864,31103.664128,31113.285632,31119.941632,31126.867968,31138.619392,31144.677376,31151.603712,31165.435904,31175.245824,31187.079168,31197.765632,31205.851136,31216.766976,31220.555776,31231.307776,31240.757248,31240.757248,31240.757248,31248.719872,31258.0096,31264.944128,31271.99744,31280.00512,31288.578048,31287.115776]}},\"id\":\"43d5419d-0a38-48ac-ab39-7481ba4af6dc\",\"type\":\"ColumnDataSource\"},{\"attributes\":{\"line_color\":{\"value\":\"#29788E\"},\"line_width\":{\"value\":4},\"x\":{\"field\":\"x\"},\"y\":{\"field\":\"y\"}},\"id\":\"5fa1249d-7b7e-4aa5-8ef6-df414a2f5fca\",\"type\":\"Line\"},{\"attributes\":{},\"id\":\"912f6573-6fe3-4398-96ba-4ad77130f074\",\"type\":\"BasicTicker\"},{\"attributes\":{},\"id\":\"fcff8dee-2f90-4d6c-b4da-568171f7cc06\",\"type\":\"BasicTickFormatter\"},{\"attributes\":{\"items\":[{\"id\":\"b6e021b0-fcb6-44d9-819d-fc64ab801665\",\"type\":\"LegendItem\"},{\"id\":\"066cef47-afe4-49de-ba6b-5fe727f8e5a0\",\"type\":\"LegendItem\"}],\"plot\":{\"id\":\"e4608b5d-e114-43c3-9f46-b6401bbd2a30\",\"subtype\":\"Figure\",\"type\":\"Plot\"}},\"id\":\"099d8f46-ab9f-4819-ae0f-e6c4da2c8ee5\",\"type\":\"Legend\"},{\"attributes\":{\"source\":{\"id\":\"6a5687e5-46ff-4c1d-a6c9-600bd56b393c\",\"type\":\"ColumnDataSource\"}},\"id\":\"58d7ee81-58c9-48e7-8e65-8cbcf005a906\",\"type\":\"CDSView\"},{\"attributes\":{\"data_source\":{\"id\":\"6a5687e5-46ff-4c1d-a6c9-600bd56b393c\",\"type\":\"ColumnDataSource\"},\"glyph\":{\"id\":\"4b7ee5d4-4649-49c6-b2d5-237939346f95\",\"type\":\"Line\"},\"hover_glyph\":null,\"muted_glyph\":null,\"nonselection_glyph\":{\"id\":\"1c5292fb-96ed-46d1-856a-557ba38ded11\",\"type\":\"Line\"},\"selection_glyph\":null,\"view\":{\"id\":\"58d7ee81-58c9-48e7-8e65-8cbcf005a906\",\"type\":\"CDSView\"}},\"id\":\"8bfa1ece-5972-4c10-b847-d8f6f2efbb1a\",\"type\":\"GlyphRenderer\"},{\"attributes\":{\"line_alpha\":{\"value\":0.1},\"line_color\":{\"value\":\"#1f77b4\"},\"line_width\":{\"value\":4},\"x\":{\"field\":\"x\"},\"y\":{\"field\":\"y\"}},\"id\":\"1c5292fb-96ed-46d1-856a-557ba38ded11\",\"type\":\"Line\"},{\"attributes\":{\"line_color\":{\"value\":\"#440154\"},\"line_width\":{\"value\":4},\"x\":{\"field\":\"x\"},\"y\":{\"field\":\"y\"}},\"id\":\"4b7ee5d4-4649-49c6-b2d5-237939346f95\",\"type\":\"Line\"},{\"attributes\":{},\"id\":\"979e422f-1b0b-46a7-bee3-b00877952971\",\"type\":\"BasicTickFormatter\"},{\"attributes\":{\"callback\":null,\"column_names\":[\"x\",\"y\"],\"data\":{\"x\":[0.0,0.25080125499516726,0.5160553900059313,0.7665995660063345,1.0171681070060004,1.267712692002533,1.5184735660150182,1.7692573340027593,2.019975044997409,2.2706640289979987,2.521340820007026,2.7721259430109058,3.0250522260030266,3.275679784012027,3.526310774992453,3.776894378999714,4.027529434999451,4.27844976799679,4.529646662005689,4.780441483017057,5.031270120991394,5.2819924729992636,5.532681520009646,5.78332704200875,6.033973576006247,6.2848234710108954,6.536122994002653,6.787394201994175,7.038283260015305,7.288983915990684,7.539753526012646,7.790542722999817,8.041139428009046,8.29178757200134,8.542886025999906,8.793668614001945,9.044217645016033,9.294919144012965],\"y\":[0.0,99.7,109.3,235.5,542.6,626.6,638.0,638.0,642.2,658.2,630.4,438.3,443.1,343.1,423.0,391.1,406.8,486.0,454.1,338.9,630.0,378.9,458.8,434.9,323.1,577.8,334.2,553.4,630.0,625.9,614.2,454.8,395.1,386.7,422.3,339.1,419.0,139.5]}},\"id\":\"6a5687e5-46ff-4c1d-a6c9-600bd56b393c\",\"type\":\"ColumnDataSource\"}],\"root_ids\":[\"e4608b5d-e114-43c3-9f46-b6401bbd2a30\"]},\"title\":\"Bokeh Application\",\"version\":\"0.12.10\"}};\n",
       "    var render_items = [{\"docid\":\"5d9c2d63-4ac1-40e3-8eab-5b363d691cee\",\"elementid\":\"11bc7f17-0f79-4509-8b2c-96a73ae3d5b9\",\"modelid\":\"e4608b5d-e114-43c3-9f46-b6401bbd2a30\"}];\n",
       "\n",
       "    root.Bokeh.embed.embed_items(docs_json, render_items);\n",
       "  }\n",
       "\n",
       "  if (root.Bokeh !== undefined) {\n",
       "    embed_document(root);\n",
       "  } else {\n",
       "    var attempts = 0;\n",
       "    var timer = setInterval(function(root) {\n",
       "      if (root.Bokeh !== undefined) {\n",
       "        embed_document(root);\n",
       "        clearInterval(timer);\n",
       "      }\n",
       "      attempts++;\n",
       "      if (attempts > 100) {\n",
       "        console.log(\"Bokeh: ERROR: Unable to embed document because BokehJS library is missing\")\n",
       "        clearInterval(timer);\n",
       "      }\n",
       "    }, 10, root)\n",
       "  }\n",
       "})(window);"
      ],
      "application/vnd.bokehjs_exec.v0+json": ""
     },
     "metadata": {
      "application/vnd.bokehjs_exec.v0+json": {
       "id": "e4608b5d-e114-43c3-9f46-b6401bbd2a30"
      }
     },
     "output_type": "display_data"
    }
   ],
   "source": [
    "with ResourceProfiler(dt=0.25) as rprof:\n",
    "    dask_op(mem_z, lmdb_z)\n",
    "rprof.visualize();"
   ]
  },
  {
   "cell_type": "code",
   "execution_count": 38,
   "metadata": {},
   "outputs": [
    {
     "data": {
      "text/html": [
       "\n",
       "<div class=\"bk-root\">\n",
       "    <div class=\"bk-plotdiv\" id=\"60a376c8-8af7-449b-827a-cb09d4432e66\"></div>\n",
       "</div>"
      ]
     },
     "metadata": {},
     "output_type": "display_data"
    },
    {
     "data": {
      "application/javascript": [
       "(function(root) {\n",
       "  function embed_document(root) {\n",
       "    var docs_json = {\"ca79c6be-f95f-4912-94ae-5400abdef7bf\":{\"roots\":{\"references\":[{\"attributes\":{\"dimensions\":\"width\"},\"id\":\"849d268d-1092-49ff-bffe-95a9b0a813ee\",\"type\":\"PanTool\"},{\"attributes\":{\"plot\":{\"id\":\"58cc3f19-483c-470f-9e91-76c01992998d\",\"subtype\":\"Figure\",\"type\":\"Plot\"},\"ticker\":{\"id\":\"450566ab-326d-4222-81ca-4f52a3a731ec\",\"type\":\"BasicTicker\"}},\"id\":\"f1f67a1b-aa00-4aa6-954b-851fd1aa4713\",\"type\":\"Grid\"},{\"attributes\":{\"data_source\":{\"id\":\"13e22705-66c0-4fb4-aebd-5496ad1ad311\",\"type\":\"ColumnDataSource\"},\"glyph\":{\"id\":\"48f63450-2926-47b2-918e-cc8482bf987d\",\"type\":\"Line\"},\"hover_glyph\":null,\"muted_glyph\":null,\"nonselection_glyph\":{\"id\":\"c7173393-817c-4276-b50e-88976d6537ad\",\"type\":\"Line\"},\"selection_glyph\":null,\"view\":{\"id\":\"c0fb1a28-5696-4f6b-8825-8e1f811cf2de\",\"type\":\"CDSView\"}},\"id\":\"2736155d-8e32-4526-99ab-62de09d1c292\",\"type\":\"GlyphRenderer\"},{\"attributes\":{\"line_alpha\":{\"value\":0.1},\"line_color\":{\"value\":\"#1f77b4\"},\"line_width\":{\"value\":4},\"x\":{\"field\":\"x\"},\"y\":{\"field\":\"y\"}},\"id\":\"c7173393-817c-4276-b50e-88976d6537ad\",\"type\":\"Line\"},{\"attributes\":{\"callback\":null,\"column_names\":[\"x\",\"y\"],\"data\":{\"x\":[0.0,0.2508153939852491,0.514795661001699,0.765262928995071,1.015843336994294,1.266465734981466,1.517020863975631,1.7677064539748244,2.018440448999172,2.268941341986647,2.5195692149864044,2.770271311979741,3.0209924899972975,3.271635871991748,3.5222845089738257,3.7728544299898203,4.023719082993921,4.274630626983708,4.525608475989429,4.7766215479932725,5.027521559997695,5.278145116986707,5.528954204986803,5.779600029985886,6.030217495979741,6.280814454978099,6.531471857975703,6.78212019597413,7.032727890997194,7.283479052974144,7.5340714729973115,7.784656156989513,8.035278324998217,8.285992058983538,8.536654174997238,8.787357586988946,9.037991185992723,9.288657112978399,9.539715701976093,9.79055898799561,10.041084119991865,10.292036617000122,10.542755753995152,10.793360367999412,11.044068311981391,11.294723217986757,11.545322236983338],\"y\":[0.0,99.7,106.1,255.5,395.0,399.0,399.1,394.8,398.8,407.3,395.0,398.8,398.9,398.9,411.0,395.0,207.3,47.8,322.7,0.0,215.3,402.9,398.8,395.0,391.1,402.9,391.1,395.0,399.0,394.8,403.1,395.1,403.0,394.9,390.9,394.9,415.0,203.3,0.0,299.1,67.8,394.5,391.0,403.0,398.9,391.0,411.0]}},\"id\":\"13e22705-66c0-4fb4-aebd-5496ad1ad311\",\"type\":\"ColumnDataSource\"},{\"attributes\":{},\"id\":\"43142bf0-a86c-4483-a402-d995b220afbe\",\"type\":\"BasicTickFormatter\"},{\"attributes\":{\"label\":{\"value\":\"Memory\"},\"renderers\":[{\"id\":\"6a19755c-c939-4593-ac42-a105d6a3f6f3\",\"type\":\"GlyphRenderer\"}]},\"id\":\"005269d3-b8a2-4bb3-a926-93b12c5ad074\",\"type\":\"LegendItem\"},{\"attributes\":{\"axis_label\":\"Memory (MB)\",\"formatter\":{\"id\":\"43142bf0-a86c-4483-a402-d995b220afbe\",\"type\":\"BasicTickFormatter\"},\"plot\":{\"id\":\"58cc3f19-483c-470f-9e91-76c01992998d\",\"subtype\":\"Figure\",\"type\":\"Plot\"},\"ticker\":{\"id\":\"403ddfaf-762d-4077-b706-c7fea7f1bac9\",\"type\":\"BasicTicker\"},\"y_range_name\":\"memory\"},\"id\":\"7f3f1f4b-c956-4329-8b5d-71df37c2005d\",\"type\":\"LinearAxis\"},{\"attributes\":{\"below\":[{\"id\":\"157465b3-40c2-4db6-9fe0-8f794324cb96\",\"type\":\"LinearAxis\"}],\"extra_y_ranges\":{\"memory\":{\"id\":\"46def31f-6814-4a8c-84d3-c2b3dce53621\",\"type\":\"Range1d\"}},\"left\":[{\"id\":\"59853324-307f-49cc-b49b-794ac7702950\",\"type\":\"LinearAxis\"}],\"plot_height\":300,\"plot_width\":800,\"renderers\":[{\"id\":\"157465b3-40c2-4db6-9fe0-8f794324cb96\",\"type\":\"LinearAxis\"},{\"id\":\"f1f67a1b-aa00-4aa6-954b-851fd1aa4713\",\"type\":\"Grid\"},{\"id\":\"59853324-307f-49cc-b49b-794ac7702950\",\"type\":\"LinearAxis\"},{\"id\":\"d88d2ca3-81ac-4f6e-9de2-46de225c8f12\",\"type\":\"Grid\"},{\"id\":\"e11b46ae-c2fc-4dfc-88c2-eb1829bfa763\",\"type\":\"Legend\"},{\"id\":\"2736155d-8e32-4526-99ab-62de09d1c292\",\"type\":\"GlyphRenderer\"},{\"id\":\"6a19755c-c939-4593-ac42-a105d6a3f6f3\",\"type\":\"GlyphRenderer\"},{\"id\":\"7f3f1f4b-c956-4329-8b5d-71df37c2005d\",\"type\":\"LinearAxis\"}],\"right\":[{\"id\":\"7f3f1f4b-c956-4329-8b5d-71df37c2005d\",\"type\":\"LinearAxis\"}],\"title\":{\"id\":\"71d5bbd5-24ad-421b-b380-814192e48b72\",\"type\":\"Title\"},\"toolbar\":{\"id\":\"a87772bb-6fbf-4b4c-a388-f25486cfbc82\",\"type\":\"Toolbar\"},\"toolbar_location\":\"above\",\"x_range\":{\"id\":\"a6cbf877-bcde-4d4b-9195-ebd0b92034ba\",\"type\":\"Range1d\"},\"x_scale\":{\"id\":\"ff781052-cd10-4d8c-b45c-8d52f7696b5c\",\"type\":\"LinearScale\"},\"y_range\":{\"id\":\"8efb30e4-0fc5-4f53-9c72-39700b18ab09\",\"type\":\"Range1d\"},\"y_scale\":{\"id\":\"ea8d9672-2fbf-4f78-b255-8415a063d519\",\"type\":\"LinearScale\"}},\"id\":\"58cc3f19-483c-470f-9e91-76c01992998d\",\"subtype\":\"Figure\",\"type\":\"Plot\"},{\"attributes\":{\"source\":{\"id\":\"c392ebe3-ff25-4dfa-90d1-62855983f137\",\"type\":\"ColumnDataSource\"}},\"id\":\"410a51e3-9e6a-4718-b16e-5aeed06b421d\",\"type\":\"CDSView\"},{\"attributes\":{\"line_alpha\":{\"value\":0.1},\"line_color\":{\"value\":\"#1f77b4\"},\"line_width\":{\"value\":4},\"x\":{\"field\":\"x\"},\"y\":{\"field\":\"y\"}},\"id\":\"132de743-1acd-490e-b5bd-973275a87e9a\",\"type\":\"Line\"},{\"attributes\":{\"callback\":null,\"end\":31386.956032,\"start\":31286.956032},\"id\":\"46def31f-6814-4a8c-84d3-c2b3dce53621\",\"type\":\"Range1d\"},{\"attributes\":{\"data_source\":{\"id\":\"c392ebe3-ff25-4dfa-90d1-62855983f137\",\"type\":\"ColumnDataSource\"},\"glyph\":{\"id\":\"49f0e082-8024-4ffe-a2c5-74d6cf98775f\",\"type\":\"Line\"},\"hover_glyph\":null,\"muted_glyph\":null,\"nonselection_glyph\":{\"id\":\"132de743-1acd-490e-b5bd-973275a87e9a\",\"type\":\"Line\"},\"selection_glyph\":null,\"view\":{\"id\":\"410a51e3-9e6a-4718-b16e-5aeed06b421d\",\"type\":\"CDSView\"},\"y_range_name\":\"memory\"},\"id\":\"6a19755c-c939-4593-ac42-a105d6a3f6f3\",\"type\":\"GlyphRenderer\"},{\"attributes\":{\"label\":{\"value\":\"% CPU\"},\"renderers\":[{\"id\":\"2736155d-8e32-4526-99ab-62de09d1c292\",\"type\":\"GlyphRenderer\"}]},\"id\":\"6cb61e01-e427-4344-9129-dec7e397454f\",\"type\":\"LegendItem\"},{\"attributes\":{},\"id\":\"450566ab-326d-4222-81ca-4f52a3a731ec\",\"type\":\"BasicTicker\"},{\"attributes\":{\"callback\":null,\"column_names\":[\"x\",\"y\"],\"data\":{\"x\":[0.0,0.2508153939852491,0.514795661001699,0.765262928995071,1.015843336994294,1.266465734981466,1.517020863975631,1.7677064539748244,2.018440448999172,2.268941341986647,2.5195692149864044,2.770271311979741,3.0209924899972975,3.271635871991748,3.5222845089738257,3.7728544299898203,4.023719082993921,4.274630626983708,4.525608475989429,4.7766215479932725,5.027521559997695,5.278145116986707,5.528954204986803,5.779600029985886,6.030217495979741,6.280814454978099,6.531471857975703,6.78212019597413,7.032727890997194,7.283479052974144,7.5340714729973115,7.784656156989513,8.035278324998217,8.285992058983538,8.536654174997238,8.787357586988946,9.037991185992723,9.288657112978399,9.539715701976093,9.79055898799561,10.041084119991865,10.292036617000122,10.542755753995152,10.793360367999412,11.044068311981391,11.294723217986757,11.545322236983338],\"y\":[31286.956032,31287.476224,31290.34752,31294.070784,31294.083072,31294.11584,31294.132224,31294.140416,31294.140416,31294.140416,31294.140416,31294.140416,31294.140416,31294.140416,31294.140416,31294.140416,31294.140416,31294.140416,31294.140416,31294.140416,31294.140416,31294.140416,31294.140416,31294.140416,31294.140416,31294.140416,31294.140416,31294.140416,31294.140416,31294.140416,31294.140416,31294.140416,31294.144512,31294.144512,31294.144512,31294.144512,31294.144512,31294.144512,31294.144512,31294.144512,31294.144512,31294.144512,31294.144512,31294.144512,31294.144512,31294.144512,31294.144512]}},\"id\":\"c392ebe3-ff25-4dfa-90d1-62855983f137\",\"type\":\"ColumnDataSource\"},{\"attributes\":{\"line_color\":{\"value\":\"#29788E\"},\"line_width\":{\"value\":4},\"x\":{\"field\":\"x\"},\"y\":{\"field\":\"y\"}},\"id\":\"49f0e082-8024-4ffe-a2c5-74d6cf98775f\",\"type\":\"Line\"},{\"attributes\":{},\"id\":\"403ddfaf-762d-4077-b706-c7fea7f1bac9\",\"type\":\"BasicTicker\"},{\"attributes\":{},\"id\":\"9989ffb0-1a86-42fe-991e-ae3bb3e1bf41\",\"type\":\"BasicTickFormatter\"},{\"attributes\":{\"items\":[{\"id\":\"6cb61e01-e427-4344-9129-dec7e397454f\",\"type\":\"LegendItem\"},{\"id\":\"005269d3-b8a2-4bb3-a926-93b12c5ad074\",\"type\":\"LegendItem\"}],\"plot\":{\"id\":\"58cc3f19-483c-470f-9e91-76c01992998d\",\"subtype\":\"Figure\",\"type\":\"Plot\"}},\"id\":\"e11b46ae-c2fc-4dfc-88c2-eb1829bfa763\",\"type\":\"Legend\"},{\"attributes\":{},\"id\":\"ad31deae-9d2c-4843-99dc-57f42c499bbc\",\"type\":\"BasicTicker\"},{\"attributes\":{},\"id\":\"3bc4dc92-9692-4714-bde9-2f992f442636\",\"type\":\"BasicTickFormatter\"},{\"attributes\":{\"dimensions\":\"width\"},\"id\":\"1a32b4db-4501-405b-888b-db191bd107fd\",\"type\":\"WheelZoomTool\"},{\"attributes\":{\"source\":{\"id\":\"13e22705-66c0-4fb4-aebd-5496ad1ad311\",\"type\":\"ColumnDataSource\"}},\"id\":\"c0fb1a28-5696-4f6b-8825-8e1f811cf2de\",\"type\":\"CDSView\"},{\"attributes\":{},\"id\":\"ff781052-cd10-4d8c-b45c-8d52f7696b5c\",\"type\":\"LinearScale\"},{\"attributes\":{\"line_color\":{\"value\":\"#440154\"},\"line_width\":{\"value\":4},\"x\":{\"field\":\"x\"},\"y\":{\"field\":\"y\"}},\"id\":\"48f63450-2926-47b2-918e-cc8482bf987d\",\"type\":\"Line\"},{\"attributes\":{\"callback\":null,\"end\":11.545322236983338},\"id\":\"a6cbf877-bcde-4d4b-9195-ebd0b92034ba\",\"type\":\"Range1d\"},{\"attributes\":{},\"id\":\"2ad8d2ff-5123-4a59-8923-c42a9925e8c1\",\"type\":\"ResetTool\"},{\"attributes\":{\"plot\":null,\"text\":\"Profile Results\"},\"id\":\"71d5bbd5-24ad-421b-b380-814192e48b72\",\"type\":\"Title\"},{\"attributes\":{\"callback\":null,\"end\":415.0},\"id\":\"8efb30e4-0fc5-4f53-9c72-39700b18ab09\",\"type\":\"Range1d\"},{\"attributes\":{\"axis_label\":\"% CPU\",\"formatter\":{\"id\":\"9989ffb0-1a86-42fe-991e-ae3bb3e1bf41\",\"type\":\"BasicTickFormatter\"},\"plot\":{\"id\":\"58cc3f19-483c-470f-9e91-76c01992998d\",\"subtype\":\"Figure\",\"type\":\"Plot\"},\"ticker\":{\"id\":\"ad31deae-9d2c-4843-99dc-57f42c499bbc\",\"type\":\"BasicTicker\"}},\"id\":\"59853324-307f-49cc-b49b-794ac7702950\",\"type\":\"LinearAxis\"},{\"attributes\":{\"active_drag\":\"auto\",\"active_inspect\":\"auto\",\"active_scroll\":\"auto\",\"active_tap\":\"auto\",\"tools\":[{\"id\":\"96bf49a8-d9f5-481e-b0ad-e154a581a3e7\",\"type\":\"SaveTool\"},{\"id\":\"2ad8d2ff-5123-4a59-8923-c42a9925e8c1\",\"type\":\"ResetTool\"},{\"id\":\"1a32b4db-4501-405b-888b-db191bd107fd\",\"type\":\"WheelZoomTool\"},{\"id\":\"849d268d-1092-49ff-bffe-95a9b0a813ee\",\"type\":\"PanTool\"}]},\"id\":\"a87772bb-6fbf-4b4c-a388-f25486cfbc82\",\"type\":\"Toolbar\"},{\"attributes\":{\"axis_label\":\"Time (s)\",\"formatter\":{\"id\":\"3bc4dc92-9692-4714-bde9-2f992f442636\",\"type\":\"BasicTickFormatter\"},\"plot\":{\"id\":\"58cc3f19-483c-470f-9e91-76c01992998d\",\"subtype\":\"Figure\",\"type\":\"Plot\"},\"ticker\":{\"id\":\"450566ab-326d-4222-81ca-4f52a3a731ec\",\"type\":\"BasicTicker\"}},\"id\":\"157465b3-40c2-4db6-9fe0-8f794324cb96\",\"type\":\"LinearAxis\"},{\"attributes\":{},\"id\":\"ea8d9672-2fbf-4f78-b255-8415a063d519\",\"type\":\"LinearScale\"},{\"attributes\":{\"dimension\":1,\"plot\":{\"id\":\"58cc3f19-483c-470f-9e91-76c01992998d\",\"subtype\":\"Figure\",\"type\":\"Plot\"},\"ticker\":{\"id\":\"ad31deae-9d2c-4843-99dc-57f42c499bbc\",\"type\":\"BasicTicker\"}},\"id\":\"d88d2ca3-81ac-4f6e-9de2-46de225c8f12\",\"type\":\"Grid\"},{\"attributes\":{},\"id\":\"96bf49a8-d9f5-481e-b0ad-e154a581a3e7\",\"type\":\"SaveTool\"}],\"root_ids\":[\"58cc3f19-483c-470f-9e91-76c01992998d\"]},\"title\":\"Bokeh Application\",\"version\":\"0.12.10\"}};\n",
       "    var render_items = [{\"docid\":\"ca79c6be-f95f-4912-94ae-5400abdef7bf\",\"elementid\":\"60a376c8-8af7-449b-827a-cb09d4432e66\",\"modelid\":\"58cc3f19-483c-470f-9e91-76c01992998d\"}];\n",
       "\n",
       "    root.Bokeh.embed.embed_items(docs_json, render_items);\n",
       "  }\n",
       "\n",
       "  if (root.Bokeh !== undefined) {\n",
       "    embed_document(root);\n",
       "  } else {\n",
       "    var attempts = 0;\n",
       "    var timer = setInterval(function(root) {\n",
       "      if (root.Bokeh !== undefined) {\n",
       "        embed_document(root);\n",
       "        clearInterval(timer);\n",
       "      }\n",
       "      attempts++;\n",
       "      if (attempts > 100) {\n",
       "        console.log(\"Bokeh: ERROR: Unable to embed document because BokehJS library is missing\")\n",
       "        clearInterval(timer);\n",
       "      }\n",
       "    }, 10, root)\n",
       "  }\n",
       "})(window);"
      ],
      "application/vnd.bokehjs_exec.v0+json": ""
     },
     "metadata": {
      "application/vnd.bokehjs_exec.v0+json": {
       "id": "58cc3f19-483c-470f-9e91-76c01992998d"
      }
     },
     "output_type": "display_data"
    }
   ],
   "source": [
    "with ResourceProfiler(dt=0.25) as rprof:\n",
    "    dask_op(mem_z, bdb_z)\n",
    "rprof.visualize();"
   ]
  },
  {
   "cell_type": "code",
   "execution_count": 39,
   "metadata": {},
   "outputs": [
    {
     "data": {
      "text/html": [
       "\n",
       "<div class=\"bk-root\">\n",
       "    <div class=\"bk-plotdiv\" id=\"e1031388-7a7b-488f-b552-57128217c12e\"></div>\n",
       "</div>"
      ]
     },
     "metadata": {},
     "output_type": "display_data"
    },
    {
     "data": {
      "application/javascript": [
       "(function(root) {\n",
       "  function embed_document(root) {\n",
       "    var docs_json = {\"ee7b2716-e3e6-433c-b541-53621bb17596\":{\"roots\":{\"references\":[{\"attributes\":{\"line_color\":{\"value\":\"#29788E\"},\"line_width\":{\"value\":4},\"x\":{\"field\":\"x\"},\"y\":{\"field\":\"y\"}},\"id\":\"24545d6d-1ccb-4509-bc66-887ebc1ac797\",\"type\":\"Line\"},{\"attributes\":{},\"id\":\"7debcc8e-e165-499f-b486-d6e12e410c0e\",\"type\":\"BasicTicker\"},{\"attributes\":{},\"id\":\"75553f05-cca0-4025-bdba-a5cef8321002\",\"type\":\"LinearScale\"},{\"attributes\":{},\"id\":\"e7c6f643-ed6f-46b3-82b7-3bb18a655970\",\"type\":\"BasicTickFormatter\"},{\"attributes\":{\"source\":{\"id\":\"5223c8b3-e1d3-492b-bd72-e41674a036bf\",\"type\":\"ColumnDataSource\"}},\"id\":\"d9b2edd2-0e2a-43c2-9d03-7da2ad2bbf3e\",\"type\":\"CDSView\"},{\"attributes\":{\"line_alpha\":{\"value\":0.1},\"line_color\":{\"value\":\"#1f77b4\"},\"line_width\":{\"value\":4},\"x\":{\"field\":\"x\"},\"y\":{\"field\":\"y\"}},\"id\":\"2faf5ae9-592b-4a19-b89d-1a04175c0b71\",\"type\":\"Line\"},{\"attributes\":{\"plot\":{\"id\":\"afd0391e-9f61-463c-8204-d0ccc4e2fa31\",\"subtype\":\"Figure\",\"type\":\"Plot\"},\"ticker\":{\"id\":\"feba5b41-542a-4975-afc6-3279d899606b\",\"type\":\"BasicTicker\"}},\"id\":\"3eded25f-a8d2-4814-8d48-1212e3f14b64\",\"type\":\"Grid\"},{\"attributes\":{\"axis_label\":\"Memory (MB)\",\"formatter\":{\"id\":\"e7c6f643-ed6f-46b3-82b7-3bb18a655970\",\"type\":\"BasicTickFormatter\"},\"plot\":{\"id\":\"afd0391e-9f61-463c-8204-d0ccc4e2fa31\",\"subtype\":\"Figure\",\"type\":\"Plot\"},\"ticker\":{\"id\":\"ae63652c-cf93-4bdc-81e2-fa8ec50610a6\",\"type\":\"BasicTicker\"},\"y_range_name\":\"memory\"},\"id\":\"bfa87b16-9ba0-4a39-94ce-29369b5d21d6\",\"type\":\"LinearAxis\"},{\"attributes\":{\"items\":[{\"id\":\"ef65d719-4406-44b6-86e6-7851cd94ff23\",\"type\":\"LegendItem\"},{\"id\":\"24dddff0-17d8-4f49-8a14-648c6168a85e\",\"type\":\"LegendItem\"}],\"plot\":{\"id\":\"afd0391e-9f61-463c-8204-d0ccc4e2fa31\",\"subtype\":\"Figure\",\"type\":\"Plot\"}},\"id\":\"e3720fb0-1930-4f1a-a6ba-7072e8a217bb\",\"type\":\"Legend\"},{\"attributes\":{\"dimension\":1,\"plot\":{\"id\":\"afd0391e-9f61-463c-8204-d0ccc4e2fa31\",\"subtype\":\"Figure\",\"type\":\"Plot\"},\"ticker\":{\"id\":\"7debcc8e-e165-499f-b486-d6e12e410c0e\",\"type\":\"BasicTicker\"}},\"id\":\"63b7a715-daf4-49c3-88c3-edd706994761\",\"type\":\"Grid\"},{\"attributes\":{\"callback\":null,\"end\":31386.607872,\"start\":31286.607872},\"id\":\"333ed7e2-6d73-4657-b9be-e4756bbb6730\",\"type\":\"Range1d\"},{\"attributes\":{\"line_color\":{\"value\":\"#440154\"},\"line_width\":{\"value\":4},\"x\":{\"field\":\"x\"},\"y\":{\"field\":\"y\"}},\"id\":\"5490d975-6ead-4f32-bd1d-bfbb9bde7dd7\",\"type\":\"Line\"},{\"attributes\":{},\"id\":\"2f00dc04-b634-47d5-b12d-58bd68dfc49c\",\"type\":\"SaveTool\"},{\"attributes\":{\"axis_label\":\"Time (s)\",\"formatter\":{\"id\":\"d9eadbae-a0ab-4bf9-8cad-e91015ce591d\",\"type\":\"BasicTickFormatter\"},\"plot\":{\"id\":\"afd0391e-9f61-463c-8204-d0ccc4e2fa31\",\"subtype\":\"Figure\",\"type\":\"Plot\"},\"ticker\":{\"id\":\"feba5b41-542a-4975-afc6-3279d899606b\",\"type\":\"BasicTicker\"}},\"id\":\"04e720d2-18f9-467f-9032-ee3781d36c82\",\"type\":\"LinearAxis\"},{\"attributes\":{\"below\":[{\"id\":\"04e720d2-18f9-467f-9032-ee3781d36c82\",\"type\":\"LinearAxis\"}],\"extra_y_ranges\":{\"memory\":{\"id\":\"333ed7e2-6d73-4657-b9be-e4756bbb6730\",\"type\":\"Range1d\"}},\"left\":[{\"id\":\"5c9523b6-65c3-4d07-83bd-00212834ad91\",\"type\":\"LinearAxis\"}],\"plot_height\":300,\"plot_width\":800,\"renderers\":[{\"id\":\"04e720d2-18f9-467f-9032-ee3781d36c82\",\"type\":\"LinearAxis\"},{\"id\":\"3eded25f-a8d2-4814-8d48-1212e3f14b64\",\"type\":\"Grid\"},{\"id\":\"5c9523b6-65c3-4d07-83bd-00212834ad91\",\"type\":\"LinearAxis\"},{\"id\":\"63b7a715-daf4-49c3-88c3-edd706994761\",\"type\":\"Grid\"},{\"id\":\"e3720fb0-1930-4f1a-a6ba-7072e8a217bb\",\"type\":\"Legend\"},{\"id\":\"2e181c9f-3826-4f7d-8b9e-c9aeffd86024\",\"type\":\"GlyphRenderer\"},{\"id\":\"d59ec374-2380-4036-b8c8-5b8da226c5e7\",\"type\":\"GlyphRenderer\"},{\"id\":\"bfa87b16-9ba0-4a39-94ce-29369b5d21d6\",\"type\":\"LinearAxis\"}],\"right\":[{\"id\":\"bfa87b16-9ba0-4a39-94ce-29369b5d21d6\",\"type\":\"LinearAxis\"}],\"title\":{\"id\":\"32e61e99-1c8a-4a8b-8375-723d367f33d3\",\"type\":\"Title\"},\"toolbar\":{\"id\":\"f170b0a8-7470-492d-be98-4df9f5fc5e25\",\"type\":\"Toolbar\"},\"toolbar_location\":\"above\",\"x_range\":{\"id\":\"31a970a0-cfe8-4ab1-a6d6-c9edd9218b3b\",\"type\":\"Range1d\"},\"x_scale\":{\"id\":\"75553f05-cca0-4025-bdba-a5cef8321002\",\"type\":\"LinearScale\"},\"y_range\":{\"id\":\"6637c661-08aa-4a76-97b6-de5e6afddeaa\",\"type\":\"Range1d\"},\"y_scale\":{\"id\":\"61dd0efb-146c-4d13-ab7e-8ee3f7296bdd\",\"type\":\"LinearScale\"}},\"id\":\"afd0391e-9f61-463c-8204-d0ccc4e2fa31\",\"subtype\":\"Figure\",\"type\":\"Plot\"},{\"attributes\":{\"callback\":null,\"end\":8.039070080994861},\"id\":\"31a970a0-cfe8-4ab1-a6d6-c9edd9218b3b\",\"type\":\"Range1d\"},{\"attributes\":{\"active_drag\":\"auto\",\"active_inspect\":\"auto\",\"active_scroll\":\"auto\",\"active_tap\":\"auto\",\"tools\":[{\"id\":\"2f00dc04-b634-47d5-b12d-58bd68dfc49c\",\"type\":\"SaveTool\"},{\"id\":\"07eddb56-690b-47d9-88fe-e944452be38a\",\"type\":\"ResetTool\"},{\"id\":\"d2ff0406-9bdb-4e76-8b34-360f529a1bab\",\"type\":\"WheelZoomTool\"},{\"id\":\"ff59779d-e50b-4dfe-a4c5-9fea1cb5c219\",\"type\":\"PanTool\"}]},\"id\":\"f170b0a8-7470-492d-be98-4df9f5fc5e25\",\"type\":\"Toolbar\"},{\"attributes\":{},\"id\":\"07eddb56-690b-47d9-88fe-e944452be38a\",\"type\":\"ResetTool\"},{\"attributes\":{\"plot\":null,\"text\":\"Profile Results\"},\"id\":\"32e61e99-1c8a-4a8b-8375-723d367f33d3\",\"type\":\"Title\"},{\"attributes\":{\"data_source\":{\"id\":\"5223c8b3-e1d3-492b-bd72-e41674a036bf\",\"type\":\"ColumnDataSource\"},\"glyph\":{\"id\":\"24545d6d-1ccb-4509-bc66-887ebc1ac797\",\"type\":\"Line\"},\"hover_glyph\":null,\"muted_glyph\":null,\"nonselection_glyph\":{\"id\":\"2faf5ae9-592b-4a19-b89d-1a04175c0b71\",\"type\":\"Line\"},\"selection_glyph\":null,\"view\":{\"id\":\"d9b2edd2-0e2a-43c2-9d03-7da2ad2bbf3e\",\"type\":\"CDSView\"},\"y_range_name\":\"memory\"},\"id\":\"d59ec374-2380-4036-b8c8-5b8da226c5e7\",\"type\":\"GlyphRenderer\"},{\"attributes\":{},\"id\":\"ae63652c-cf93-4bdc-81e2-fa8ec50610a6\",\"type\":\"BasicTicker\"},{\"attributes\":{\"callback\":null,\"end\":582.5},\"id\":\"6637c661-08aa-4a76-97b6-de5e6afddeaa\",\"type\":\"Range1d\"},{\"attributes\":{\"dimensions\":\"width\"},\"id\":\"d2ff0406-9bdb-4e76-8b34-360f529a1bab\",\"type\":\"WheelZoomTool\"},{\"attributes\":{\"source\":{\"id\":\"d810c559-7b37-47df-abfd-927bc449dd53\",\"type\":\"ColumnDataSource\"}},\"id\":\"1982fd66-2d56-4f6b-bf19-e9df64405f45\",\"type\":\"CDSView\"},{\"attributes\":{\"callback\":null,\"column_names\":[\"x\",\"y\"],\"data\":{\"x\":[0.0,0.25089479101006873,0.5157040449848864,0.7663794500112999,1.0180218220048118,1.2689812339958735,1.5198043239943217,1.7705067989882082,2.0213784920051694,2.272723606991349,2.5235982660087757,2.7745129439863376,3.0252838479937054,3.2759564440057147,3.5267119990021456,3.777406623994466,4.027875722997123,4.278586698987056,4.529318968998268,4.780130327009829,5.030856052995659,5.28164775899495,5.532505201001186,5.783130567986518,6.033812890003901,6.284457698988263,6.535087747994112,6.7857719250023365,7.036428638995858,7.287022072006948,7.5376812600006815,7.788322665001033,8.039070080994861],\"y\":[31286.607872,31287.13216,31289.171968,31288.17664,31293.751296,31293.751296,31293.751296,31293.751296,31293.751296,31293.751296,31293.751296,31293.751296,31293.751296,31293.751296,31293.751296,31293.751296,31293.751296,31293.751296,31293.751296,31293.751296,31293.751296,31293.751296,31293.751296,31293.751296,31293.751296,31293.751296,31293.751296,31293.751296,31293.751296,31293.751296,31293.751296,31293.751296,31293.751296]}},\"id\":\"5223c8b3-e1d3-492b-bd72-e41674a036bf\",\"type\":\"ColumnDataSource\"},{\"attributes\":{},\"id\":\"86fa639c-eb2f-4273-ab9b-70f3d813aaad\",\"type\":\"BasicTickFormatter\"},{\"attributes\":{},\"id\":\"d9eadbae-a0ab-4bf9-8cad-e91015ce591d\",\"type\":\"BasicTickFormatter\"},{\"attributes\":{\"dimensions\":\"width\"},\"id\":\"ff59779d-e50b-4dfe-a4c5-9fea1cb5c219\",\"type\":\"PanTool\"},{\"attributes\":{\"callback\":null,\"column_names\":[\"x\",\"y\"],\"data\":{\"x\":[0.0,0.25089479101006873,0.5157040449848864,0.7663794500112999,1.0180218220048118,1.2689812339958735,1.5198043239943217,1.7705067989882082,2.0213784920051694,2.272723606991349,2.5235982660087757,2.7745129439863376,3.0252838479937054,3.2759564440057147,3.5267119990021456,3.777406623994466,4.027875722997123,4.278586698987056,4.529318968998268,4.780130327009829,5.030856052995659,5.28164775899495,5.532505201001186,5.783130567986518,6.033812890003901,6.284457698988263,6.535087747994112,6.7857719250023365,7.036428638995858,7.287022072006948,7.5376812600006815,7.788322665001033,8.039070080994861],\"y\":[0.0,99.7,105.8,95.6,226.7,502.2,566.2,582.4,477.8,354.4,390.5,562.3,554.1,558.5,554.4,550.4,575.0,578.4,562.2,574.2,546.4,574.1,558.2,550.6,578.5,554.6,566.5,566.5,506.6,526.8,582.5,542.5,550.3]}},\"id\":\"d810c559-7b37-47df-abfd-927bc449dd53\",\"type\":\"ColumnDataSource\"},{\"attributes\":{\"axis_label\":\"% CPU\",\"formatter\":{\"id\":\"86fa639c-eb2f-4273-ab9b-70f3d813aaad\",\"type\":\"BasicTickFormatter\"},\"plot\":{\"id\":\"afd0391e-9f61-463c-8204-d0ccc4e2fa31\",\"subtype\":\"Figure\",\"type\":\"Plot\"},\"ticker\":{\"id\":\"7debcc8e-e165-499f-b486-d6e12e410c0e\",\"type\":\"BasicTicker\"}},\"id\":\"5c9523b6-65c3-4d07-83bd-00212834ad91\",\"type\":\"LinearAxis\"},{\"attributes\":{\"label\":{\"value\":\"% CPU\"},\"renderers\":[{\"id\":\"2e181c9f-3826-4f7d-8b9e-c9aeffd86024\",\"type\":\"GlyphRenderer\"}]},\"id\":\"ef65d719-4406-44b6-86e6-7851cd94ff23\",\"type\":\"LegendItem\"},{\"attributes\":{},\"id\":\"feba5b41-542a-4975-afc6-3279d899606b\",\"type\":\"BasicTicker\"},{\"attributes\":{},\"id\":\"61dd0efb-146c-4d13-ab7e-8ee3f7296bdd\",\"type\":\"LinearScale\"},{\"attributes\":{\"label\":{\"value\":\"Memory\"},\"renderers\":[{\"id\":\"d59ec374-2380-4036-b8c8-5b8da226c5e7\",\"type\":\"GlyphRenderer\"}]},\"id\":\"24dddff0-17d8-4f49-8a14-648c6168a85e\",\"type\":\"LegendItem\"},{\"attributes\":{\"data_source\":{\"id\":\"d810c559-7b37-47df-abfd-927bc449dd53\",\"type\":\"ColumnDataSource\"},\"glyph\":{\"id\":\"5490d975-6ead-4f32-bd1d-bfbb9bde7dd7\",\"type\":\"Line\"},\"hover_glyph\":null,\"muted_glyph\":null,\"nonselection_glyph\":{\"id\":\"3203fe6d-b553-4668-9c8d-9ebf73fb8c08\",\"type\":\"Line\"},\"selection_glyph\":null,\"view\":{\"id\":\"1982fd66-2d56-4f6b-bf19-e9df64405f45\",\"type\":\"CDSView\"}},\"id\":\"2e181c9f-3826-4f7d-8b9e-c9aeffd86024\",\"type\":\"GlyphRenderer\"},{\"attributes\":{\"line_alpha\":{\"value\":0.1},\"line_color\":{\"value\":\"#1f77b4\"},\"line_width\":{\"value\":4},\"x\":{\"field\":\"x\"},\"y\":{\"field\":\"y\"}},\"id\":\"3203fe6d-b553-4668-9c8d-9ebf73fb8c08\",\"type\":\"Line\"}],\"root_ids\":[\"afd0391e-9f61-463c-8204-d0ccc4e2fa31\"]},\"title\":\"Bokeh Application\",\"version\":\"0.12.10\"}};\n",
       "    var render_items = [{\"docid\":\"ee7b2716-e3e6-433c-b541-53621bb17596\",\"elementid\":\"e1031388-7a7b-488f-b552-57128217c12e\",\"modelid\":\"afd0391e-9f61-463c-8204-d0ccc4e2fa31\"}];\n",
       "\n",
       "    root.Bokeh.embed.embed_items(docs_json, render_items);\n",
       "  }\n",
       "\n",
       "  if (root.Bokeh !== undefined) {\n",
       "    embed_document(root);\n",
       "  } else {\n",
       "    var attempts = 0;\n",
       "    var timer = setInterval(function(root) {\n",
       "      if (root.Bokeh !== undefined) {\n",
       "        embed_document(root);\n",
       "        clearInterval(timer);\n",
       "      }\n",
       "      attempts++;\n",
       "      if (attempts > 100) {\n",
       "        console.log(\"Bokeh: ERROR: Unable to embed document because BokehJS library is missing\")\n",
       "        clearInterval(timer);\n",
       "      }\n",
       "    }, 10, root)\n",
       "  }\n",
       "})(window);"
      ],
      "application/vnd.bokehjs_exec.v0+json": ""
     },
     "metadata": {
      "application/vnd.bokehjs_exec.v0+json": {
       "id": "afd0391e-9f61-463c-8204-d0ccc4e2fa31"
      }
     },
     "output_type": "display_data"
    }
   ],
   "source": [
    "with ResourceProfiler(dt=0.25) as rprof:\n",
    "    dask_op(mem_z, dir_z)\n",
    "rprof.visualize();"
   ]
  },
  {
   "cell_type": "code",
   "execution_count": 40,
   "metadata": {},
   "outputs": [],
   "source": [
    "lmdb_store.close()\n",
    "bdb_store.close()"
   ]
  },
  {
   "cell_type": "code",
   "execution_count": null,
   "metadata": {},
   "outputs": [],
   "source": []
  }
 ],
 "metadata": {
  "kernelspec": {
   "display_name": "Python 3",
   "language": "python",
   "name": "python3"
  },
  "language_info": {
   "codemirror_mode": {
    "name": "ipython",
    "version": 3
   },
   "file_extension": ".py",
   "mimetype": "text/x-python",
   "name": "python",
   "nbconvert_exporter": "python",
   "pygments_lexer": "ipython3",
   "version": "3.6.1"
  }
 },
 "nbformat": 4,
 "nbformat_minor": 2
}
