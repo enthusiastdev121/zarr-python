{
 "cells": [
  {
   "cell_type": "code",
   "execution_count": 1,
   "metadata": {
    "collapsed": false
   },
   "outputs": [
    {
     "name": "stdout",
     "output_type": "stream",
     "text": [
      "numpy 1.11.0\n",
      "zarr 0.3.1.dev8 blosc 1.8.1 $Date:: 2016-04-08 #$\n",
      "bcolz 1.0.0 blosc 1.8.1 $Date:: 2016-04-08 #$\n"
     ]
    },
    {
     "data": {
      "text/plain": [
       "4"
      ]
     },
     "execution_count": 1,
     "metadata": {},
     "output_type": "execute_result"
    }
   ],
   "source": [
    "import sys\n",
    "sys.path.insert(0, '..')\n",
    "import cProfile\n",
    "import numpy as np; print('numpy', np.__version__)\n",
    "import zarr; print('zarr', zarr.__version__, 'blosc', ' '.join(zarr.blosc_version()))\n",
    "import bcolz; print('bcolz', bcolz.__version__, 'blosc', ' '.join(bcolz.blosc_version()))\n",
    "import line_profiler\n",
    "bcolz.blosc_set_nthreads(1)"
   ]
  },
  {
   "cell_type": "markdown",
   "metadata": {},
   "source": [
    "## 1D array creation"
   ]
  },
  {
   "cell_type": "code",
   "execution_count": 2,
   "metadata": {
    "collapsed": false
   },
   "outputs": [
    {
     "data": {
      "text/plain": [
       "array([       0,        1,        2, ..., 99999997, 99999998, 99999999], dtype=int32)"
      ]
     },
     "execution_count": 2,
     "metadata": {},
     "output_type": "execute_result"
    }
   ],
   "source": [
    "a = np.arange(1e8, dtype='i4')\n",
    "a"
   ]
  },
  {
   "cell_type": "code",
   "execution_count": 3,
   "metadata": {
    "collapsed": false
   },
   "outputs": [
    {
     "data": {
      "text/plain": [
       "carray((100000000,), int32)\n",
       "  nbytes: 381.47 MB; cbytes: 7.68 MB; ratio: 49.67\n",
       "  cparams := cparams(clevel=5, shuffle=1, cname='lz4')\n",
       "[       0        1        2 ..., 99999997 99999998 99999999]"
      ]
     },
     "execution_count": 3,
     "metadata": {},
     "output_type": "execute_result"
    }
   ],
   "source": [
    "c = bcolz.carray(a, cparams=bcolz.cparams(cname='lz4'))\n",
    "c"
   ]
  },
  {
   "cell_type": "code",
   "execution_count": 4,
   "metadata": {
    "collapsed": false
   },
   "outputs": [
    {
     "data": {
      "text/plain": [
       "zarr.ext.SynchronizedArray((100000000,), int32, chunks=(262144,))\n",
       "  cname: lz4; clevel: 5; shuffle: 1 (BYTESHUFFLE)\n",
       "  nbytes: 381.5M; cbytes: 6.6M; ratio: 57.4; initialized: 382/382"
      ]
     },
     "execution_count": 4,
     "metadata": {},
     "output_type": "execute_result"
    }
   ],
   "source": [
    "z = zarr.array(a, chunks=c.chunklen, cname='lz4')\n",
    "z"
   ]
  },
  {
   "cell_type": "code",
   "execution_count": 5,
   "metadata": {
    "collapsed": false
   },
   "outputs": [
    {
     "data": {
      "text/plain": [
       "zarr.ext.SynchronizedLazyArray((100000000,), int32, chunks=(262144,))\n",
       "  cname: lz4; clevel: 5; shuffle: 1 (BYTESHUFFLE)\n",
       "  nbytes: 381.5M; cbytes: 6.6M; ratio: 57.4; initialized: 382/382"
      ]
     },
     "execution_count": 5,
     "metadata": {},
     "output_type": "execute_result"
    }
   ],
   "source": [
    "zl = zarr.array(a, chunks=c.chunklen, cname='lz4', lazy=True)\n",
    "zl"
   ]
  },
  {
   "cell_type": "code",
   "execution_count": 6,
   "metadata": {
    "collapsed": false
   },
   "outputs": [
    {
     "name": "stdout",
     "output_type": "stream",
     "text": [
      "1 loops, best of 3: 154 ms per loop\n"
     ]
    }
   ],
   "source": [
    "%timeit bcolz.carray(a, cparams=bcolz.cparams(cname='lz4'))"
   ]
  },
  {
   "cell_type": "code",
   "execution_count": 7,
   "metadata": {
    "collapsed": false
   },
   "outputs": [
    {
     "name": "stdout",
     "output_type": "stream",
     "text": [
      "10 loops, best of 3: 134 ms per loop\n"
     ]
    }
   ],
   "source": [
    "%timeit zarr.array(a, chunks=c.chunklen, cname='lz4')"
   ]
  },
  {
   "cell_type": "code",
   "execution_count": 8,
   "metadata": {
    "collapsed": false
   },
   "outputs": [
    {
     "name": "stdout",
     "output_type": "stream",
     "text": [
      "10 loops, best of 3: 142 ms per loop\n"
     ]
    }
   ],
   "source": [
    "%timeit zarr.array(a, chunks=c.chunklen, cname='lz4', lazy=True)"
   ]
  },
  {
   "cell_type": "code",
   "execution_count": 9,
   "metadata": {
    "collapsed": false
   },
   "outputs": [
    {
     "name": "stdout",
     "output_type": "stream",
     "text": [
      "         8802 function calls (7271 primitive calls) in 0.185 seconds\n",
      "\n",
      "   Ordered by: internal time\n",
      "\n",
      "   ncalls  tottime  percall  cumtime  percall filename:lineno(function)\n",
      "      382    0.163    0.000    0.163    0.000 ext.pyx:400(put)\n",
      "  762/382    0.004    0.000    0.170    0.000 ext.pyx:318(__setitem__)\n",
      "  763/382    0.003    0.000    0.005    0.000 ext.pyx:1107(create_chunk)\n",
      "    381/0    0.002    0.000    0.000          ext.pyx:905(genexpr)\n",
      "      382    0.002    0.000    0.004    0.000 ext.pyx:245(__cinit__)\n",
      "    381/0    0.002    0.000    0.000          ext.pyx:919(genexpr)\n",
      "      763    0.001    0.000    0.002    0.000 numeric.py:2064(isscalar)\n",
      "      762    0.001    0.000    0.001    0.000 {built-in method array}\n",
      "  384/383    0.001    0.000    0.001    0.000 ext.pyx:143(_normalize_shape)\n",
      "      382    0.001    0.000    0.001    0.000 ext.pyx:152(_is_total_slice)\n",
      "      763    0.001    0.000    0.001    0.000 {built-in method isinstance}\n",
      "      381    0.001    0.000    0.002    0.000 numeric.py:535(ascontiguousarray)\n",
      "      383    0.001    0.000    0.001    0.000 ext.pyx:95(_normalize_cparams)\n",
      "      382    0.000    0.000    0.000    0.000 ext.pyx:1104(get_chunk)\n",
      "      381    0.000    0.000    0.000    0.000 numeric.py:414(asarray)\n",
      "      2/1    0.000    0.000    0.000    0.000 ext.pyx:1058(__cinit__)\n",
      "      382    0.000    0.000    0.000    0.000 ext.pyx:435(clear)\n",
      "      2/1    0.000    0.000    0.001    0.001 {built-in method exec}\n",
      "        1    0.000    0.000    0.184    0.184 ext.pyx:1069(genexpr)\n",
      "      382    0.000    0.000    0.000    0.000 ext.pyx:374(__cinit__)\n",
      "      2/1    0.000    0.000    0.000    0.000 core.py:208(array)\n",
      "      382    0.000    0.000    0.000    0.000 ext.pyx:431(free)\n",
      "      2/1    0.000    0.000    0.000    0.000 ext.pyx:595(_normalize_array_selection)\n",
      "        1    0.000    0.000    0.000    0.000 ext.pyx:655(_get_chunk_range)\n",
      "        1    0.000    0.000    0.184    0.184 ext.pyx:667(genexpr)\n",
      "      2/1    0.000    0.000    0.000    0.000 <string>:1(<module>)\n",
      "      2/1    0.000    0.000    0.000    0.000 ext.pyx:663(_normalize_chunks)\n",
      "        1    0.000    0.000    0.000    0.000 ext.pyx:296(__getitem__)\n",
      "      2/1    0.000    0.000    0.000    0.000 ext.pyx:886(__setitem__)\n",
      "        1    0.000    0.000    0.000    0.000 ext.pyx:624(_normalize_axis_selection)\n",
      "        2    0.000    0.000    0.000    0.000 {built-in method hasattr}\n",
      "        1    0.000    0.000    0.000    0.000 ext.pyx:766(__cinit__)\n",
      "        1    0.000    0.000    0.000    0.000 {method 'disable' of '_lsprof.Profiler' objects}\n",
      "        1    0.000    0.000    0.000    0.000 ext.pyx:382(__get__)\n",
      "\n",
      "\n"
     ]
    }
   ],
   "source": [
    "cProfile.run('zarr.array(a, chunks=c.chunklen, cname=\"lz4\")', sort='time')"
   ]
  },
  {
   "cell_type": "code",
   "execution_count": 10,
   "metadata": {
    "collapsed": false
   },
   "outputs": [
    {
     "name": "stdout",
     "output_type": "stream",
     "text": [
      "         10332 function calls (8800 primitive calls) in 0.185 seconds\n",
      "\n",
      "   Ordered by: internal time\n",
      "\n",
      "   ncalls  tottime  percall  cumtime  percall filename:lineno(function)\n",
      "      382    0.162    0.000    0.162    0.000 ext.pyx:400(put)\n",
      "      382    0.002    0.000    0.168    0.000 ext.pyx:318(__setitem__)\n",
      "  763/382    0.002    0.000    0.007    0.000 ext.pyx:1440(get_chunk)\n",
      "  763/382    0.002    0.000    0.169    0.000 ext.pyx:450(__setitem__)\n",
      "    381/0    0.002    0.000    0.000          ext.pyx:905(genexpr)\n",
      "    381/0    0.002    0.000    0.000          ext.pyx:919(genexpr)\n",
      "      382    0.001    0.000    0.003    0.000 ext.pyx:245(__cinit__)\n",
      "      763    0.001    0.000    0.002    0.000 numeric.py:2064(isscalar)\n",
      "      382    0.001    0.000    0.006    0.000 ext.pyx:1325(_lazy_get_chunk)\n",
      "      762    0.001    0.000    0.001    0.000 {built-in method array}\n",
      "      382    0.001    0.000    0.005    0.000 ext.pyx:1445(create_chunk)\n",
      "  384/383    0.001    0.000    0.001    0.000 ext.pyx:143(_normalize_shape)\n",
      "      382    0.001    0.000    0.001    0.000 ext.pyx:152(_is_total_slice)\n",
      "      763    0.001    0.000    0.001    0.000 {built-in method isinstance}\n",
      "      383    0.001    0.000    0.001    0.000 threading.py:75(RLock)\n",
      "      381    0.001    0.000    0.002    0.000 numeric.py:535(ascontiguousarray)\n",
      "      383    0.000    0.000    0.000    0.000 ext.pyx:95(_normalize_cparams)\n",
      "      382    0.000    0.000    0.001    0.000 ext.pyx:447(__cinit__)\n",
      "      381    0.000    0.000    0.000    0.000 numeric.py:414(asarray)\n",
      "      382    0.000    0.000    0.000    0.000 ext.pyx:435(clear)\n",
      "      2/1    0.000    0.000    0.000    0.000 {built-in method exec}\n",
      "      382    0.000    0.000    0.000    0.000 ext.pyx:374(__cinit__)\n",
      "      2/1    0.000    0.000    0.000    0.000 ext.pyx:1373(__cinit__)\n",
      "      382    0.000    0.000    0.000    0.000 ext.pyx:431(free)\n",
      "      2/1    0.000    0.000    0.000    0.000 ext.pyx:595(_normalize_array_selection)\n",
      "        1    0.000    0.000    0.184    0.184 ext.pyx:667(genexpr)\n",
      "      2/1    0.000    0.000    0.000    0.000 core.py:208(array)\n",
      "        1    0.000    0.000    0.000    0.000 ext.pyx:655(_get_chunk_range)\n",
      "      2/1    0.000    0.000    0.000    0.000 <string>:1(<module>)\n",
      "      2/1    0.000    0.000    0.000    0.000 ext.pyx:886(__setitem__)\n",
      "      2/1    0.000    0.000    0.000    0.000 ext.pyx:663(_normalize_chunks)\n",
      "        1    0.000    0.000    0.000    0.000 ext.pyx:296(__getitem__)\n",
      "        1    0.000    0.000    0.000    0.000 ext.pyx:624(_normalize_axis_selection)\n",
      "        2    0.000    0.000    0.000    0.000 {built-in method hasattr}\n",
      "        1    0.000    0.000    0.000    0.000 ext.pyx:1437(__cinit__)\n",
      "        1    0.000    0.000    0.000    0.000 {method 'disable' of '_lsprof.Profiler' objects}\n",
      "        1    0.000    0.000    0.000    0.000 ext.pyx:766(__cinit__)\n",
      "        1    0.000    0.000    0.000    0.000 ext.pyx:382(__get__)\n",
      "\n",
      "\n"
     ]
    }
   ],
   "source": [
    "cProfile.run('zarr.array(a, chunks=c.chunklen, cname=\"lz4\", lazy=True)', sort='time')"
   ]
  },
  {
   "cell_type": "markdown",
   "metadata": {},
   "source": [
    "## 1D array read"
   ]
  },
  {
   "cell_type": "code",
   "execution_count": 11,
   "metadata": {
    "collapsed": false
   },
   "outputs": [
    {
     "name": "stdout",
     "output_type": "stream",
     "text": [
      "1 loops, best of 3: 200 ms per loop\n"
     ]
    }
   ],
   "source": [
    "%timeit c[:]"
   ]
  },
  {
   "cell_type": "code",
   "execution_count": 12,
   "metadata": {
    "collapsed": false
   },
   "outputs": [
    {
     "name": "stdout",
     "output_type": "stream",
     "text": [
      "1 loops, best of 3: 164 ms per loop\n"
     ]
    }
   ],
   "source": [
    "%timeit z[:]"
   ]
  },
  {
   "cell_type": "code",
   "execution_count": 13,
   "metadata": {
    "collapsed": false
   },
   "outputs": [
    {
     "name": "stdout",
     "output_type": "stream",
     "text": [
      "1 loops, best of 3: 162 ms per loop\n"
     ]
    }
   ],
   "source": [
    "%timeit zl[:]"
   ]
  },
  {
   "cell_type": "code",
   "execution_count": 14,
   "metadata": {
    "collapsed": false
   },
   "outputs": [
    {
     "name": "stdout",
     "output_type": "stream",
     "text": [
      "         3067 function calls (1920 primitive calls) in 0.219 seconds\n",
      "\n",
      "   Ordered by: internal time\n",
      "\n",
      "   ncalls  tottime  percall  cumtime  percall filename:lineno(function)\n",
      "      382    0.193    0.001    0.193    0.001 ext.pyx:389(get)\n",
      "    381/0    0.017    0.000    0.000          ext.pyx:854(genexpr)\n",
      "  763/382    0.004    0.000    0.001    0.000 ext.pyx:152(_is_total_slice)\n",
      "    381/0    0.004    0.000    0.000          ext.pyx:860(genexpr)\n",
      "      2/1    0.001    0.000    0.001    0.001 <string>:1(<module>)\n",
      "      382    0.001    0.000    0.001    0.000 ext.pyx:1104(get_chunk)\n",
      "      2/1    0.000    0.000    0.001    0.001 ext.pyx:826(__getitem__)\n",
      "        1    0.000    0.000    0.219    0.219 ext.pyx:835(genexpr)\n",
      "      2/1    0.000    0.000    0.001    0.001 {built-in method exec}\n",
      "      383    0.000    0.000    0.000    0.000 ext.pyx:382(__get__)\n",
      "        1    0.000    0.000    0.000    0.000 ext.pyx:655(_get_chunk_range)\n",
      "      382    0.000    0.000    0.000    0.000 ext.pyx:265(__get__)\n",
      "      2/1    0.000    0.000    0.000    0.000 ext.pyx:595(_normalize_array_selection)\n",
      "        1    0.000    0.000    0.000    0.000 ext.pyx:296(__getitem__)\n",
      "        1    0.000    0.000    0.000    0.000 ext.pyx:624(_normalize_axis_selection)\n",
      "        1    0.000    0.000    0.000    0.000 {method 'disable' of '_lsprof.Profiler' objects}\n",
      "\n",
      "\n"
     ]
    }
   ],
   "source": [
    "cProfile.run('z[:]', sort='time')"
   ]
  },
  {
   "cell_type": "code",
   "execution_count": 15,
   "metadata": {
    "collapsed": false
   },
   "outputs": [
    {
     "name": "stdout",
     "output_type": "stream",
     "text": [
      "         3449 function calls (2302 primitive calls) in 0.190 seconds\n",
      "\n",
      "   Ordered by: internal time\n",
      "\n",
      "   ncalls  tottime  percall  cumtime  percall filename:lineno(function)\n",
      "      382    0.180    0.000    0.180    0.000 ext.pyx:389(get)\n",
      "  763/382    0.003    0.000    0.001    0.000 ext.pyx:152(_is_total_slice)\n",
      "    381/0    0.002    0.000    0.000          ext.pyx:860(genexpr)\n",
      "    381/0    0.002    0.000    0.000          ext.pyx:854(genexpr)\n",
      "      382    0.001    0.000    0.001    0.000 ext.pyx:1440(get_chunk)\n",
      "      2/1    0.001    0.000    0.001    0.001 <string>:1(<module>)\n",
      "      382    0.000    0.000    0.000    0.000 ext.pyx:1325(_lazy_get_chunk)\n",
      "      2/1    0.000    0.000    0.001    0.001 ext.pyx:826(__getitem__)\n",
      "        1    0.000    0.000    0.190    0.190 ext.pyx:835(genexpr)\n",
      "      382    0.000    0.000    0.000    0.000 ext.pyx:265(__get__)\n",
      "      2/1    0.000    0.000    0.001    0.001 {built-in method exec}\n",
      "      383    0.000    0.000    0.000    0.000 ext.pyx:382(__get__)\n",
      "        1    0.000    0.000    0.000    0.000 ext.pyx:655(_get_chunk_range)\n",
      "      2/1    0.000    0.000    0.000    0.000 ext.pyx:595(_normalize_array_selection)\n",
      "        1    0.000    0.000    0.000    0.000 ext.pyx:296(__getitem__)\n",
      "        1    0.000    0.000    0.000    0.000 ext.pyx:624(_normalize_axis_selection)\n",
      "        1    0.000    0.000    0.000    0.000 {method 'disable' of '_lsprof.Profiler' objects}\n",
      "\n",
      "\n"
     ]
    }
   ],
   "source": [
    "cProfile.run('zl[:]', sort='time')"
   ]
  },
  {
   "cell_type": "markdown",
   "metadata": {
    "collapsed": true
   },
   "source": [
    "## 2D array creation"
   ]
  },
  {
   "cell_type": "code",
   "execution_count": 16,
   "metadata": {
    "collapsed": false
   },
   "outputs": [
    {
     "data": {
      "text/plain": [
       "array([[       0,        1,        2, ...,     9997,     9998,     9999],\n",
       "       [   10000,    10001,    10002, ...,    19997,    19998,    19999],\n",
       "       [   20000,    20001,    20002, ...,    29997,    29998,    29999],\n",
       "       ..., \n",
       "       [99970000, 99970001, 99970002, ..., 99979997, 99979998, 99979999],\n",
       "       [99980000, 99980001, 99980002, ..., 99989997, 99989998, 99989999],\n",
       "       [99990000, 99990001, 99990002, ..., 99999997, 99999998, 99999999]], dtype=int32)"
      ]
     },
     "execution_count": 16,
     "metadata": {},
     "output_type": "execute_result"
    }
   ],
   "source": [
    "a = np.arange(1e8, dtype='i4').reshape((10000, 10000))\n",
    "a"
   ]
  },
  {
   "cell_type": "code",
   "execution_count": 17,
   "metadata": {
    "collapsed": false
   },
   "outputs": [
    {
     "data": {
      "text/plain": [
       "carray((10000, 10000), int32)\n",
       "  nbytes: 381.47 MB; cbytes: 7.75 MB; ratio: 49.25\n",
       "  cparams := cparams(clevel=5, shuffle=1, cname='lz4')\n",
       "[[       0        1        2 ...,     9997     9998     9999]\n",
       " [   10000    10001    10002 ...,    19997    19998    19999]\n",
       " [   20000    20001    20002 ...,    29997    29998    29999]\n",
       " ..., \n",
       " [99970000 99970001 99970002 ..., 99979997 99979998 99979999]\n",
       " [99980000 99980001 99980002 ..., 99989997 99989998 99989999]\n",
       " [99990000 99990001 99990002 ..., 99999997 99999998 99999999]]"
      ]
     },
     "execution_count": 17,
     "metadata": {},
     "output_type": "execute_result"
    }
   ],
   "source": [
    "c = bcolz.carray(a, cparams=bcolz.cparams(cname='lz4'))\n",
    "c"
   ]
  },
  {
   "cell_type": "code",
   "execution_count": 18,
   "metadata": {
    "collapsed": false
   },
   "outputs": [
    {
     "data": {
      "text/plain": [
       "26"
      ]
     },
     "execution_count": 18,
     "metadata": {},
     "output_type": "execute_result"
    }
   ],
   "source": [
    "c.chunklen"
   ]
  },
  {
   "cell_type": "code",
   "execution_count": 19,
   "metadata": {
    "collapsed": false
   },
   "outputs": [
    {
     "data": {
      "text/plain": [
       "zarr.ext.SynchronizedArray((10000, 10000), int32, chunks=(26, 10000))\n",
       "  cname: lz4; clevel: 5; shuffle: 1 (BYTESHUFFLE)\n",
       "  nbytes: 381.5M; cbytes: 6.7M; ratio: 56.8; initialized: 385/385"
      ]
     },
     "execution_count": 19,
     "metadata": {},
     "output_type": "execute_result"
    }
   ],
   "source": [
    "z = zarr.array(a, chunks=(c.chunklen, a.shape[1]), cname='lz4')\n",
    "z"
   ]
  },
  {
   "cell_type": "code",
   "execution_count": 20,
   "metadata": {
    "collapsed": false
   },
   "outputs": [
    {
     "data": {
      "text/plain": [
       "zarr.ext.SynchronizedLazyArray((10000, 10000), int32, chunks=(26, 10000))\n",
       "  cname: lz4; clevel: 5; shuffle: 1 (BYTESHUFFLE)\n",
       "  nbytes: 381.5M; cbytes: 6.7M; ratio: 56.8; initialized: 385/385"
      ]
     },
     "execution_count": 20,
     "metadata": {},
     "output_type": "execute_result"
    }
   ],
   "source": [
    "zl = zarr.array(a, chunks=(c.chunklen, a.shape[1]), cname='lz4', lazy=True)\n",
    "zl"
   ]
  },
  {
   "cell_type": "code",
   "execution_count": 21,
   "metadata": {
    "collapsed": false
   },
   "outputs": [
    {
     "name": "stdout",
     "output_type": "stream",
     "text": [
      "10 loops, best of 3: 154 ms per loop\n"
     ]
    }
   ],
   "source": [
    "%timeit bcolz.carray(a, cparams=bcolz.cparams(cname='lz4'))"
   ]
  },
  {
   "cell_type": "code",
   "execution_count": 22,
   "metadata": {
    "collapsed": false
   },
   "outputs": [
    {
     "name": "stdout",
     "output_type": "stream",
     "text": [
      "10 loops, best of 3: 135 ms per loop\n"
     ]
    }
   ],
   "source": [
    "%timeit zarr.array(a, chunks=(c.chunklen, a.shape[1]), cname='lz4')"
   ]
  },
  {
   "cell_type": "code",
   "execution_count": 23,
   "metadata": {
    "collapsed": false
   },
   "outputs": [
    {
     "name": "stdout",
     "output_type": "stream",
     "text": [
      "10 loops, best of 3: 149 ms per loop\n"
     ]
    }
   ],
   "source": [
    "%timeit zarr.array(a, chunks=(c.chunklen, a.shape[1]), cname='lz4', lazy=True)"
   ]
  },
  {
   "cell_type": "code",
   "execution_count": 24,
   "metadata": {
    "collapsed": false
   },
   "outputs": [
    {
     "name": "stdout",
     "output_type": "stream",
     "text": [
      "         8872 function calls (7329 primitive calls) in 0.177 seconds\n",
      "\n",
      "   Ordered by: internal time\n",
      "\n",
      "   ncalls  tottime  percall  cumtime  percall filename:lineno(function)\n",
      "      385    0.155    0.000    0.156    0.000 ext.pyx:400(put)\n",
      "  768/385    0.004    0.000    0.162    0.000 ext.pyx:318(__setitem__)\n",
      "    384/0    0.003    0.000    0.000          ext.pyx:905(genexpr)\n",
      "  769/385    0.002    0.000    0.004    0.000 ext.pyx:1107(create_chunk)\n",
      "      385    0.002    0.000    0.003    0.000 ext.pyx:245(__cinit__)\n",
      "    384/0    0.002    0.000    0.000          ext.pyx:919(genexpr)\n",
      "      769    0.001    0.000    0.002    0.000 numeric.py:2064(isscalar)\n",
      "      768    0.001    0.000    0.001    0.000 {built-in method array}\n",
      "  387/386    0.001    0.000    0.001    0.000 ext.pyx:143(_normalize_shape)\n",
      "      385    0.001    0.000    0.001    0.000 ext.pyx:152(_is_total_slice)\n",
      "      769    0.001    0.000    0.001    0.000 {built-in method isinstance}\n",
      "      384    0.001    0.000    0.002    0.000 numeric.py:535(ascontiguousarray)\n",
      "      386    0.000    0.000    0.000    0.000 ext.pyx:95(_normalize_cparams)\n",
      "      385    0.000    0.000    0.000    0.000 ext.pyx:1104(get_chunk)\n",
      "      384    0.000    0.000    0.000    0.000 numeric.py:414(asarray)\n",
      "      2/1    0.000    0.000    0.000    0.000 ext.pyx:1058(__cinit__)\n",
      "      385    0.000    0.000    0.000    0.000 ext.pyx:435(clear)\n",
      "      2/1    0.000    0.000    0.001    0.001 {built-in method exec}\n",
      "      385    0.000    0.000    0.000    0.000 ext.pyx:374(__cinit__)\n",
      "        1    0.000    0.000    0.176    0.176 ext.pyx:1069(genexpr)\n",
      "        1    0.000    0.000    0.171    0.171 ext.pyx:611(genexpr)\n",
      "        1    0.000    0.000    0.000    0.000 ext.pyx:655(_get_chunk_range)\n",
      "      385    0.000    0.000    0.000    0.000 ext.pyx:431(free)\n",
      "      2/1    0.000    0.000    0.000    0.000 core.py:208(array)\n",
      "      2/1    0.000    0.000    0.000    0.000 ext.pyx:595(_normalize_array_selection)\n",
      "      2/1    0.000    0.000    0.000    0.000 <string>:1(<module>)\n",
      "      2/1    0.000    0.000    0.000    0.000 ext.pyx:886(__setitem__)\n",
      "      2/1    0.000    0.000    0.000    0.000 ext.pyx:663(_normalize_chunks)\n",
      "        1    0.000    0.000    0.000    0.000 ext.pyx:296(__getitem__)\n",
      "        1    0.000    0.000    0.176    0.176 ext.pyx:667(genexpr)\n",
      "        1    0.000    0.000    0.000    0.000 ext.pyx:624(_normalize_axis_selection)\n",
      "        2    0.000    0.000    0.000    0.000 {built-in method hasattr}\n",
      "        1    0.000    0.000    0.000    0.000 {method 'disable' of '_lsprof.Profiler' objects}\n",
      "        1    0.000    0.000    0.000    0.000 ext.pyx:766(__cinit__)\n",
      "        1    0.000    0.000    0.000    0.000 ext.pyx:382(__get__)\n",
      "\n",
      "\n"
     ]
    }
   ],
   "source": [
    "cProfile.run('zarr.array(a, chunks=(c.chunklen, a.shape[1]), cname=\"lz4\")', sort='time')"
   ]
  },
  {
   "cell_type": "code",
   "execution_count": 25,
   "metadata": {
    "collapsed": false
   },
   "outputs": [
    {
     "name": "stdout",
     "output_type": "stream",
     "text": [
      "         10414 function calls (8870 primitive calls) in 0.202 seconds\n",
      "\n",
      "   Ordered by: internal time\n",
      "\n",
      "   ncalls  tottime  percall  cumtime  percall filename:lineno(function)\n",
      "      385    0.175    0.000    0.176    0.000 ext.pyx:400(put)\n",
      "      385    0.003    0.000    0.183    0.000 ext.pyx:318(__setitem__)\n",
      "  769/385    0.003    0.000    0.008    0.000 ext.pyx:1440(get_chunk)\n",
      "  769/385    0.003    0.000    0.184    0.000 ext.pyx:450(__setitem__)\n",
      "    384/0    0.003    0.000    0.000          ext.pyx:905(genexpr)\n",
      "    384/0    0.002    0.000    0.000          ext.pyx:919(genexpr)\n",
      "      385    0.002    0.000    0.003    0.000 ext.pyx:245(__cinit__)\n",
      "      769    0.002    0.000    0.002    0.000 numeric.py:2064(isscalar)\n",
      "      385    0.001    0.000    0.007    0.000 ext.pyx:1325(_lazy_get_chunk)\n",
      "      768    0.001    0.000    0.001    0.000 {built-in method array}\n",
      "      385    0.001    0.000    0.006    0.000 ext.pyx:1445(create_chunk)\n",
      "      385    0.001    0.000    0.001    0.000 ext.pyx:152(_is_total_slice)\n",
      "  387/386    0.001    0.000    0.001    0.000 ext.pyx:143(_normalize_shape)\n",
      "      769    0.001    0.000    0.001    0.000 {built-in method isinstance}\n",
      "      384    0.001    0.000    0.002    0.000 numeric.py:535(ascontiguousarray)\n",
      "      386    0.001    0.000    0.001    0.000 threading.py:75(RLock)\n",
      "      385    0.001    0.000    0.001    0.000 ext.pyx:447(__cinit__)\n",
      "      386    0.000    0.000    0.000    0.000 ext.pyx:95(_normalize_cparams)\n",
      "      384    0.000    0.000    0.000    0.000 numeric.py:414(asarray)\n",
      "      385    0.000    0.000    0.000    0.000 ext.pyx:435(clear)\n",
      "      2/1    0.000    0.000    0.000    0.000 {built-in method exec}\n",
      "      2/1    0.000    0.000    0.000    0.000 ext.pyx:1373(__cinit__)\n",
      "      385    0.000    0.000    0.000    0.000 ext.pyx:431(free)\n",
      "      385    0.000    0.000    0.000    0.000 ext.pyx:374(__cinit__)\n",
      "        1    0.000    0.000    0.202    0.202 ext.pyx:611(genexpr)\n",
      "        1    0.000    0.000    0.000    0.000 ext.pyx:655(_get_chunk_range)\n",
      "      2/1    0.000    0.000    0.000    0.000 core.py:208(array)\n",
      "      2/1    0.000    0.000    0.000    0.000 <string>:1(<module>)\n",
      "        1    0.000    0.000    0.202    0.202 ext.pyx:667(genexpr)\n",
      "      2/1    0.000    0.000    0.000    0.000 ext.pyx:886(__setitem__)\n",
      "      2/1    0.000    0.000    0.000    0.000 ext.pyx:595(_normalize_array_selection)\n",
      "      2/1    0.000    0.000    0.000    0.000 ext.pyx:663(_normalize_chunks)\n",
      "        1    0.000    0.000    0.000    0.000 ext.pyx:296(__getitem__)\n",
      "        1    0.000    0.000    0.000    0.000 ext.pyx:1437(__cinit__)\n",
      "        1    0.000    0.000    0.000    0.000 ext.pyx:624(_normalize_axis_selection)\n",
      "        2    0.000    0.000    0.000    0.000 {built-in method hasattr}\n",
      "        1    0.000    0.000    0.000    0.000 ext.pyx:766(__cinit__)\n",
      "        1    0.000    0.000    0.000    0.000 {method 'disable' of '_lsprof.Profiler' objects}\n",
      "        1    0.000    0.000    0.000    0.000 ext.pyx:382(__get__)\n",
      "\n",
      "\n"
     ]
    }
   ],
   "source": [
    "cProfile.run('zarr.array(a, chunks=(c.chunklen, a.shape[1]), cname=\"lz4\", lazy=True)', sort='time')"
   ]
  },
  {
   "cell_type": "code",
   "execution_count": 26,
   "metadata": {
    "collapsed": false
   },
   "outputs": [
    {
     "name": "stdout",
     "output_type": "stream",
     "text": [
      "1 loops, best of 3: 191 ms per loop\n"
     ]
    }
   ],
   "source": [
    "%timeit zarr.array(a, chunks=(c.chunklen*10, a.shape[1]//10), cname='lz4')"
   ]
  },
  {
   "cell_type": "code",
   "execution_count": 27,
   "metadata": {
    "collapsed": false
   },
   "outputs": [
    {
     "name": "stdout",
     "output_type": "stream",
     "text": [
      "1 loops, best of 3: 194 ms per loop\n"
     ]
    }
   ],
   "source": [
    "%timeit zarr.array(a, chunks=(c.chunklen*10, a.shape[1]//10), cname='lz4', lazy=True)"
   ]
  },
  {
   "cell_type": "code",
   "execution_count": 28,
   "metadata": {
    "collapsed": false
   },
   "outputs": [
    {
     "name": "stdout",
     "output_type": "stream",
     "text": [
      "         8951 function calls (7388 primitive calls) in 0.255 seconds\n",
      "\n",
      "   Ordered by: internal time\n",
      "\n",
      "   ncalls  tottime  percall  cumtime  percall filename:lineno(function)\n",
      "      390    0.174    0.000    0.174    0.000 ext.pyx:400(put)\n",
      "      760    0.057    0.000    0.057    0.000 {built-in method array}\n",
      "  778/390    0.007    0.000    0.239    0.001 ext.pyx:318(__setitem__)\n",
      "    389/0    0.003    0.000    0.000          ext.pyx:905(genexpr)\n",
      "  779/390    0.002    0.000    0.005    0.000 ext.pyx:1107(create_chunk)\n",
      "      390    0.002    0.000    0.004    0.000 ext.pyx:245(__cinit__)\n",
      "    389/0    0.002    0.000    0.000          ext.pyx:919(genexpr)\n",
      "      770    0.002    0.000    0.002    0.000 numeric.py:2064(isscalar)\n",
      "      390    0.001    0.000    0.001    0.000 ext.pyx:152(_is_total_slice)\n",
      "  392/391    0.001    0.000    0.001    0.000 ext.pyx:143(_normalize_shape)\n",
      "      770    0.001    0.000    0.001    0.000 {built-in method isinstance}\n",
      "      380    0.001    0.000    0.058    0.000 numeric.py:535(ascontiguousarray)\n",
      "      390    0.001    0.000    0.001    0.000 ext.pyx:1104(get_chunk)\n",
      "      391    0.001    0.000    0.001    0.000 ext.pyx:95(_normalize_cparams)\n",
      "      380    0.000    0.000    0.001    0.000 numeric.py:414(asarray)\n",
      "      390    0.000    0.000    0.000    0.000 ext.pyx:435(clear)\n",
      "      2/1    0.000    0.000    0.000    0.000 ext.pyx:1058(__cinit__)\n",
      "      2/1    0.000    0.000    0.001    0.001 {built-in method exec}\n",
      "        1    0.000    0.000    0.255    0.255 ext.pyx:1069(genexpr)\n",
      "      390    0.000    0.000    0.000    0.000 ext.pyx:374(__cinit__)\n",
      "      390    0.000    0.000    0.000    0.000 ext.pyx:431(free)\n",
      "       10    0.000    0.000    0.000    0.000 ext.pyx:296(__getitem__)\n",
      "        1    0.000    0.000    0.248    0.248 ext.pyx:611(genexpr)\n",
      "        1    0.000    0.000    0.000    0.000 ext.pyx:655(_get_chunk_range)\n",
      "      2/1    0.000    0.000    0.000    0.000 core.py:208(array)\n",
      "      2/1    0.000    0.000    0.000    0.000 <string>:1(<module>)\n",
      "      2/1    0.000    0.000    0.000    0.000 ext.pyx:595(_normalize_array_selection)\n",
      "      2/1    0.000    0.000    0.000    0.000 ext.pyx:663(_normalize_chunks)\n",
      "      2/1    0.000    0.000    0.000    0.000 ext.pyx:886(__setitem__)\n",
      "        1    0.000    0.000    0.255    0.255 ext.pyx:667(genexpr)\n",
      "        1    0.000    0.000    0.000    0.000 ext.pyx:624(_normalize_axis_selection)\n",
      "        2    0.000    0.000    0.000    0.000 {built-in method hasattr}\n",
      "       10    0.000    0.000    0.000    0.000 ext.pyx:382(__get__)\n",
      "        1    0.000    0.000    0.000    0.000 {method 'disable' of '_lsprof.Profiler' objects}\n",
      "        1    0.000    0.000    0.000    0.000 ext.pyx:766(__cinit__)\n",
      "\n",
      "\n"
     ]
    }
   ],
   "source": [
    "cProfile.run('zarr.array(a, chunks=(c.chunklen*10, a.shape[1]//10), cname=\"lz4\")', sort='time')"
   ]
  },
  {
   "cell_type": "code",
   "execution_count": 29,
   "metadata": {
    "collapsed": false
   },
   "outputs": [
    {
     "name": "stdout",
     "output_type": "stream",
     "text": [
      "         10513 function calls (8949 primitive calls) in 0.265 seconds\n",
      "\n",
      "   Ordered by: internal time\n",
      "\n",
      "   ncalls  tottime  percall  cumtime  percall filename:lineno(function)\n",
      "      390    0.181    0.000    0.181    0.000 ext.pyx:400(put)\n",
      "      760    0.056    0.000    0.056    0.000 {built-in method array}\n",
      "      390    0.004    0.000    0.245    0.001 ext.pyx:318(__setitem__)\n",
      "    389/0    0.003    0.000    0.000          ext.pyx:919(genexpr)\n",
      "  779/390    0.003    0.000    0.009    0.000 ext.pyx:1440(get_chunk)\n",
      "    389/0    0.003    0.000    0.000          ext.pyx:905(genexpr)\n",
      "  779/390    0.003    0.000    0.245    0.001 ext.pyx:450(__setitem__)\n",
      "      390    0.002    0.000    0.003    0.000 ext.pyx:245(__cinit__)\n",
      "      770    0.002    0.000    0.002    0.000 numeric.py:2064(isscalar)\n",
      "      390    0.002    0.000    0.007    0.000 ext.pyx:1325(_lazy_get_chunk)\n",
      "      390    0.001    0.000    0.006    0.000 ext.pyx:1445(create_chunk)\n",
      "      390    0.001    0.000    0.001    0.000 ext.pyx:152(_is_total_slice)\n",
      "  392/391    0.001    0.000    0.001    0.000 ext.pyx:143(_normalize_shape)\n",
      "      380    0.001    0.000    0.057    0.000 numeric.py:535(ascontiguousarray)\n",
      "      770    0.001    0.000    0.001    0.000 {built-in method isinstance}\n",
      "      390    0.001    0.000    0.001    0.000 ext.pyx:447(__cinit__)\n",
      "      391    0.001    0.000    0.001    0.000 threading.py:75(RLock)\n",
      "      391    0.001    0.000    0.001    0.000 ext.pyx:95(_normalize_cparams)\n",
      "      380    0.001    0.000    0.001    0.000 numeric.py:414(asarray)\n",
      "      390    0.000    0.000    0.000    0.000 ext.pyx:435(clear)\n",
      "      2/1    0.000    0.000    0.000    0.000 {built-in method exec}\n",
      "      2/1    0.000    0.000    0.000    0.000 ext.pyx:1373(__cinit__)\n",
      "      390    0.000    0.000    0.000    0.000 ext.pyx:374(__cinit__)\n",
      "      390    0.000    0.000    0.000    0.000 ext.pyx:431(free)\n",
      "       10    0.000    0.000    0.000    0.000 ext.pyx:296(__getitem__)\n",
      "        1    0.000    0.000    0.000    0.000 ext.pyx:655(_get_chunk_range)\n",
      "      2/1    0.000    0.000    0.000    0.000 core.py:208(array)\n",
      "        1    0.000    0.000    0.265    0.265 ext.pyx:611(genexpr)\n",
      "        1    0.000    0.000    0.265    0.265 ext.pyx:667(genexpr)\n",
      "      2/1    0.000    0.000    0.000    0.000 <string>:1(<module>)\n",
      "      2/1    0.000    0.000    0.000    0.000 ext.pyx:595(_normalize_array_selection)\n",
      "      2/1    0.000    0.000    0.000    0.000 ext.pyx:663(_normalize_chunks)\n",
      "      2/1    0.000    0.000    0.000    0.000 ext.pyx:886(__setitem__)\n",
      "        1    0.000    0.000    0.000    0.000 ext.pyx:624(_normalize_axis_selection)\n",
      "        1    0.000    0.000    0.000    0.000 ext.pyx:1437(__cinit__)\n",
      "        2    0.000    0.000    0.000    0.000 {built-in method hasattr}\n",
      "        1    0.000    0.000    0.000    0.000 {method 'disable' of '_lsprof.Profiler' objects}\n",
      "        1    0.000    0.000    0.000    0.000 ext.pyx:766(__cinit__)\n",
      "       10    0.000    0.000    0.000    0.000 ext.pyx:382(__get__)\n",
      "\n",
      "\n"
     ]
    }
   ],
   "source": [
    "cProfile.run('zarr.array(a, chunks=(c.chunklen*10, a.shape[1]//10), cname=\"lz4\", lazy=True)', sort='time')"
   ]
  },
  {
   "cell_type": "markdown",
   "metadata": {},
   "source": [
    "## 2D array read"
   ]
  },
  {
   "cell_type": "code",
   "execution_count": 30,
   "metadata": {
    "collapsed": false
   },
   "outputs": [
    {
     "name": "stdout",
     "output_type": "stream",
     "text": [
      "1 loops, best of 3: 200 ms per loop\n"
     ]
    }
   ],
   "source": [
    "%timeit c[:]"
   ]
  },
  {
   "cell_type": "code",
   "execution_count": 31,
   "metadata": {
    "collapsed": false
   },
   "outputs": [
    {
     "name": "stdout",
     "output_type": "stream",
     "text": [
      "10 loops, best of 3: 162 ms per loop\n"
     ]
    }
   ],
   "source": [
    "z = zarr.array(a, chunks=(c.chunklen, a.shape[1]), cname='lz4')\n",
    "%timeit z[:]"
   ]
  },
  {
   "cell_type": "code",
   "execution_count": 32,
   "metadata": {
    "collapsed": false
   },
   "outputs": [
    {
     "name": "stdout",
     "output_type": "stream",
     "text": [
      "10 loops, best of 3: 162 ms per loop\n"
     ]
    }
   ],
   "source": [
    "z = zarr.array(a, chunks=(c.chunklen, a.shape[1]), cname='lz4', lazy=True)\n",
    "%timeit z[:]"
   ]
  },
  {
   "cell_type": "code",
   "execution_count": 33,
   "metadata": {
    "collapsed": false
   },
   "outputs": [
    {
     "name": "stdout",
     "output_type": "stream",
     "text": [
      "1 loops, best of 3: 225 ms per loop\n"
     ]
    }
   ],
   "source": [
    "z = zarr.array(a, chunks=(c.chunklen*10, a.shape[1]//10), cname='lz4')\n",
    "%timeit z[:]"
   ]
  },
  {
   "cell_type": "code",
   "execution_count": 34,
   "metadata": {
    "collapsed": false
   },
   "outputs": [
    {
     "name": "stdout",
     "output_type": "stream",
     "text": [
      "1 loops, best of 3: 233 ms per loop\n"
     ]
    }
   ],
   "source": [
    "z = zarr.array(a, chunks=(c.chunklen*10, a.shape[1]//10), cname='lz4', lazy=True)\n",
    "%timeit z[:]"
   ]
  },
  {
   "cell_type": "markdown",
   "metadata": {},
   "source": [
    "## 2D array slices"
   ]
  },
  {
   "cell_type": "code",
   "execution_count": 35,
   "metadata": {
    "collapsed": false
   },
   "outputs": [
    {
     "name": "stdout",
     "output_type": "stream",
     "text": [
      "10 loops, best of 3: 20.4 ms per loop\n"
     ]
    }
   ],
   "source": [
    "%timeit c[1000:2000]"
   ]
  },
  {
   "cell_type": "code",
   "execution_count": 36,
   "metadata": {
    "collapsed": false
   },
   "outputs": [
    {
     "name": "stdout",
     "output_type": "stream",
     "text": [
      "100 loops, best of 3: 17 ms per loop\n"
     ]
    }
   ],
   "source": [
    "z = zarr.array(a, chunks=(c.chunklen, a.shape[1]), cname='lz4')\n",
    "%timeit z[1000:2000]"
   ]
  },
  {
   "cell_type": "code",
   "execution_count": 37,
   "metadata": {
    "collapsed": false
   },
   "outputs": [
    {
     "name": "stdout",
     "output_type": "stream",
     "text": [
      "100 loops, best of 3: 17.1 ms per loop\n"
     ]
    }
   ],
   "source": [
    "z = zarr.array(a, chunks=(c.chunklen, a.shape[1]), cname='lz4', lazy=True)\n",
    "%timeit z[1000:2000]"
   ]
  },
  {
   "cell_type": "code",
   "execution_count": 38,
   "metadata": {
    "collapsed": false
   },
   "outputs": [
    {
     "name": "stdout",
     "output_type": "stream",
     "text": [
      "10 loops, best of 3: 27.1 ms per loop\n"
     ]
    }
   ],
   "source": [
    "z = zarr.array(a, chunks=(c.chunklen*10, a.shape[1]//10), cname='lz4')\n",
    "%timeit z[1000:2000]"
   ]
  },
  {
   "cell_type": "code",
   "execution_count": 39,
   "metadata": {
    "collapsed": false
   },
   "outputs": [
    {
     "name": "stdout",
     "output_type": "stream",
     "text": [
      "10 loops, best of 3: 26.7 ms per loop\n"
     ]
    }
   ],
   "source": [
    "z = zarr.array(a, chunks=(c.chunklen*10, a.shape[1]//10), cname='lz4', lazy=True)\n",
    "%timeit z[1000:2000]"
   ]
  },
  {
   "cell_type": "code",
   "execution_count": 40,
   "metadata": {
    "collapsed": false
   },
   "outputs": [
    {
     "name": "stdout",
     "output_type": "stream",
     "text": [
      "1 loops, best of 3: 209 ms per loop\n"
     ]
    }
   ],
   "source": [
    "%timeit c[:, 1000:2000]"
   ]
  },
  {
   "cell_type": "code",
   "execution_count": 41,
   "metadata": {
    "collapsed": false
   },
   "outputs": [
    {
     "name": "stdout",
     "output_type": "stream",
     "text": [
      "10 loops, best of 3: 147 ms per loop\n"
     ]
    }
   ],
   "source": [
    "z = zarr.array(a, chunks=(c.chunklen, a.shape[1]), cname='lz4')\n",
    "%timeit z[:, 1000:2000]"
   ]
  },
  {
   "cell_type": "code",
   "execution_count": 42,
   "metadata": {
    "collapsed": false
   },
   "outputs": [
    {
     "name": "stdout",
     "output_type": "stream",
     "text": [
      "100 loops, best of 3: 17.6 ms per loop\n"
     ]
    }
   ],
   "source": [
    "z = zarr.array(a, chunks=(c.chunklen*10, a.shape[1]//10), cname='lz4')\n",
    "%timeit z[:, 1000:2000]"
   ]
  },
  {
   "cell_type": "code",
   "execution_count": null,
   "metadata": {
    "collapsed": true
   },
   "outputs": [],
   "source": []
  }
 ],
 "metadata": {
  "kernelspec": {
   "display_name": "Python 3",
   "language": "python",
   "name": "python3"
  },
  "language_info": {
   "codemirror_mode": {
    "name": "ipython",
    "version": 3
   },
   "file_extension": ".py",
   "mimetype": "text/x-python",
   "name": "python",
   "nbconvert_exporter": "python",
   "pygments_lexer": "ipython3",
   "version": "3.4.3+"
  }
 },
 "nbformat": 4,
 "nbformat_minor": 0
}
