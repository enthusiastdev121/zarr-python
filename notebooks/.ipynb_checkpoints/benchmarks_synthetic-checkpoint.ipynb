{
 "cells": [
  {
   "cell_type": "code",
   "execution_count": 1,
   "metadata": {
    "collapsed": false
   },
   "outputs": [
    {
     "name": "stdout",
     "output_type": "stream",
     "text": [
      "numpy 1.10.2\n",
      "zarr 0.1.1.dev6+dirty blosc 1.7.0 $Date:: 2015-07-05 #$\n",
      "bcolz 0.12.2.dev22+dirty blosc 1.7.0 $Date:: 2015-07-05 #$\n"
     ]
    },
    {
     "data": {
      "text/plain": [
       "4"
      ]
     },
     "execution_count": 1,
     "metadata": {},
     "output_type": "execute_result"
    }
   ],
   "source": [
    "import sys\n",
    "sys.path.insert(0, '..')\n",
    "import cProfile\n",
    "import numpy as np; print('numpy', np.__version__)\n",
    "import zarr; print('zarr', zarr.__version__, 'blosc', ' '.join(zarr.blosc_version()))\n",
    "import bcolz; print('bcolz', bcolz.__version__, 'blosc', ' '.join(bcolz.blosc_version()))\n",
    "bcolz.blosc_set_nthreads(1)"
   ]
  },
  {
   "cell_type": "markdown",
   "metadata": {},
   "source": [
    "## Array creation"
   ]
  },
  {
   "cell_type": "code",
   "execution_count": 2,
   "metadata": {
    "collapsed": false
   },
   "outputs": [
    {
     "data": {
      "text/plain": [
       "array([       0,        1,        2, ..., 99999997, 99999998, 99999999], dtype=int32)"
      ]
     },
     "execution_count": 2,
     "metadata": {},
     "output_type": "execute_result"
    }
   ],
   "source": [
    "a = np.arange(1e8, dtype='i4')\n",
    "a"
   ]
  },
  {
   "cell_type": "code",
   "execution_count": 3,
   "metadata": {
    "collapsed": false
   },
   "outputs": [
    {
     "data": {
      "text/plain": [
       "carray((100000000,), int32)\n",
       "  nbytes: 381.47 MB; cbytes: 7.68 MB; ratio: 49.67\n",
       "  cparams := cparams(clevel=5, shuffle=True, cname='lz4')\n",
       "[       0        1        2 ..., 99999997 99999998 99999999]"
      ]
     },
     "execution_count": 3,
     "metadata": {},
     "output_type": "execute_result"
    }
   ],
   "source": [
    "c = bcolz.carray(a, cparams=bcolz.cparams(cname='lz4'))\n",
    "c"
   ]
  },
  {
   "cell_type": "code",
   "execution_count": 4,
   "metadata": {
    "collapsed": false
   },
   "outputs": [
    {
     "data": {
      "text/plain": [
       "zarr.ext.Array((100000000,), int32, chunks=(262144,), nbytes=381.5M, cbytes=6.6M, cratio=57.4, cname=lz4, clevel=5, shuffle=1)"
      ]
     },
     "execution_count": 4,
     "metadata": {},
     "output_type": "execute_result"
    }
   ],
   "source": [
    "z = zarr.array(a, chunks=c.chunklen, cname='lz4', synchronized=False)\n",
    "z"
   ]
  },
  {
   "cell_type": "code",
   "execution_count": 5,
   "metadata": {
    "collapsed": false
   },
   "outputs": [
    {
     "name": "stdout",
     "output_type": "stream",
     "text": [
      "10 loops, best of 3: 132 ms per loop\n"
     ]
    }
   ],
   "source": [
    "%timeit bcolz.carray(a, cparams=bcolz.cparams(cname='lz4'))"
   ]
  },
  {
   "cell_type": "code",
   "execution_count": 6,
   "metadata": {
    "collapsed": false
   },
   "outputs": [
    {
     "name": "stdout",
     "output_type": "stream",
     "text": [
      "10 loops, best of 3: 137 ms per loop\n"
     ]
    }
   ],
   "source": [
    "%timeit zarr.array(a, chunks=c.chunklen, cname='lz4')"
   ]
  },
  {
   "cell_type": "code",
   "execution_count": null,
   "metadata": {
    "collapsed": false
   },
   "outputs": [
    {
     "name": "stdout",
     "output_type": "stream",
     "text": [
      "         8037 function calls (6888 primitive calls) in 0.146 seconds\n",
      "\n",
      "   Ordered by: internal time\n",
      "\n",
      "   ncalls  tottime  percall  cumtime  percall filename:lineno(function)\n",
      "      382    0.133    0.000    0.133    0.000 ext.pyx:181(compress)\n",
      "  762/382    0.003    0.000    0.137    0.000 ext.pyx:279(__setitem__)\n",
      "    381/0    0.002    0.000    0.000          ext.pyx:526(genexpr)\n",
      "      382    0.001    0.000    0.137    0.000 ext.pyx:154(__setitem__)\n",
      "    381/0    0.001    0.000    0.000          ext.pyx:540(genexpr)\n",
      "      763    0.001    0.000    0.002    0.000 numeric.py:1970(isscalar)\n",
      "      381    0.001    0.000    0.001    0.000 {built-in method array}\n",
      "      382    0.001    0.000    0.001    0.000 ext.pyx:109(is_total_slice)\n",
      "      763    0.001    0.000    0.001    0.000 {built-in method isinstance}\n",
      "      2/1    0.000    0.000    0.002    0.002 ext.pyx:432(__cinit__)\n",
      "      382    0.000    0.000    0.001    0.000 ext.pyx:468(create_chunk)\n",
      "      381    0.000    0.000    0.001    0.000 numeric.py:527(ascontiguousarray)\n",
      "      382    0.000    0.000    0.001    0.000 ext.pyx:130(__cinit__)\n",
      "      382    0.000    0.000    0.001    0.000 ext.pyx:271(__init__)\n",
      "      382    0.000    0.000    0.000    0.000 ext.pyx:258(clear)\n",
      "      382    0.000    0.000    0.000    0.000 threading.py:75(RLock)\n",
      "      383    0.000    0.000    0.000    0.000 ext.pyx:67(get_cparams)\n",
      "      382    0.000    0.000    0.000    0.000 ext.pyx:254(free)\n",
      "      383    0.000    0.000    0.000    0.000 ext.pyx:355(normalise_shape)\n",
      "      2/1    0.000    0.000    0.001    0.001 {built-in method exec}\n",
      "      2/1    0.000    0.000    0.000    0.000 ext.pyx:287(normalise_array_selection)\n",
      "      2/1    0.000    0.000    0.000    0.000 ext.pyx:364(normalise_chunks)\n",
      "        1    0.000    0.000    0.000    0.000 ext.pyx:347(get_chunk_range)\n",
      "      2/1    0.000    0.000    0.001    0.001 core.py:154(array)\n",
      "      2/1    0.000    0.000    0.001    0.001 <string>:1(<module>)\n",
      "      2/1    0.000    0.000    0.001    0.001 ext.pyx:507(__setitem__)\n",
      "        1    0.000    0.000    0.000    0.000 ext.pyx:221(__getitem__)\n",
      "        1    0.000    0.000    0.000    0.000 ext.pyx:316(normalise_axis_selection)\n",
      "        2    0.000    0.000    0.000    0.000 {built-in method hasattr}\n",
      "        1    0.000    0.000    0.000    0.000 carray_ext.pyx:932(__get__)\n",
      "        1    0.000    0.000    0.000    0.000 {method 'disable' of '_lsprof.Profiler' objects}\n",
      "\n",
      "\n"
     ]
    }
   ],
   "source": [
    "cProfile.run('zarr.array(a, chunks=c.chunklen, cname=\"lz4\")', sort='time')"
   ]
  },
  {
   "cell_type": "markdown",
   "metadata": {},
   "source": [
    "## Array read"
   ]
  },
  {
   "cell_type": "code",
   "execution_count": null,
   "metadata": {
    "collapsed": false
   },
   "outputs": [],
   "source": [
    "%timeit c[:]"
   ]
  },
  {
   "cell_type": "code",
   "execution_count": null,
   "metadata": {
    "collapsed": false
   },
   "outputs": [],
   "source": [
    "%timeit z[:]"
   ]
  },
  {
   "cell_type": "code",
   "execution_count": null,
   "metadata": {
    "collapsed": false
   },
   "outputs": [],
   "source": [
    "cProfile.run('z[:]', sort='time')"
   ]
  },
  {
   "cell_type": "code",
   "execution_count": null,
   "metadata": {
    "collapsed": true
   },
   "outputs": [],
   "source": [
    "import line_profiler"
   ]
  },
  {
   "cell_type": "code",
   "execution_count": null,
   "metadata": {
    "collapsed": false
   },
   "outputs": [],
   "source": [
    "profile = line_profiler.LineProfiler(zarr.ext.array_getitem)\n",
    "profile.run('z[:]')\n",
    "profile.print_stats()"
   ]
  },
  {
   "cell_type": "code",
   "execution_count": null,
   "metadata": {
    "collapsed": true
   },
   "outputs": [],
   "source": []
  }
 ],
 "metadata": {
  "kernelspec": {
   "display_name": "Python 3",
   "language": "python",
   "name": "python3"
  },
  "language_info": {
   "codemirror_mode": {
    "name": "ipython",
    "version": 3
   },
   "file_extension": ".py",
   "mimetype": "text/x-python",
   "name": "python",
   "nbconvert_exporter": "python",
   "pygments_lexer": "ipython3",
   "version": "3.4.3+"
  }
 },
 "nbformat": 4,
 "nbformat_minor": 0
}
