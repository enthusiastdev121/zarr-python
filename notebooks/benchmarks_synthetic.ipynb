{
 "cells": [
  {
   "cell_type": "code",
   "execution_count": 1,
   "metadata": {
    "collapsed": false
   },
   "outputs": [
    {
     "name": "stdout",
     "output_type": "stream",
     "text": [
      "numpy 1.10.2\n",
      "zarr 0.2.6.dev0+dirty blosc 1.7.0 $Date:: 2015-07-05 #$\n",
      "bcolz 0.12.2.dev22+dirty blosc 1.7.0 $Date:: 2015-07-05 #$\n"
     ]
    },
    {
     "data": {
      "text/plain": [
       "4"
      ]
     },
     "execution_count": 1,
     "metadata": {},
     "output_type": "execute_result"
    }
   ],
   "source": [
    "import sys\n",
    "sys.path.insert(0, '..')\n",
    "import cProfile\n",
    "import numpy as np; print('numpy', np.__version__)\n",
    "import zarr; print('zarr', zarr.__version__, 'blosc', ' '.join(zarr.blosc_version()))\n",
    "import bcolz; print('bcolz', bcolz.__version__, 'blosc', ' '.join(bcolz.blosc_version()))\n",
    "import line_profiler\n",
    "bcolz.blosc_set_nthreads(1)"
   ]
  },
  {
   "cell_type": "markdown",
   "metadata": {},
   "source": [
    "## 1D array creation"
   ]
  },
  {
   "cell_type": "code",
   "execution_count": 2,
   "metadata": {
    "collapsed": false
   },
   "outputs": [
    {
     "data": {
      "text/plain": [
       "array([       0,        1,        2, ..., 99999997, 99999998, 99999999], dtype=int32)"
      ]
     },
     "execution_count": 2,
     "metadata": {},
     "output_type": "execute_result"
    }
   ],
   "source": [
    "a = np.arange(1e8, dtype='i4')\n",
    "a"
   ]
  },
  {
   "cell_type": "code",
   "execution_count": 3,
   "metadata": {
    "collapsed": false
   },
   "outputs": [
    {
     "data": {
      "text/plain": [
       "carray((100000000,), int32)\n",
       "  nbytes: 381.47 MB; cbytes: 7.68 MB; ratio: 49.67\n",
       "  cparams := cparams(clevel=5, shuffle=True, cname='lz4')\n",
       "[       0        1        2 ..., 99999997 99999998 99999999]"
      ]
     },
     "execution_count": 3,
     "metadata": {},
     "output_type": "execute_result"
    }
   ],
   "source": [
    "c = bcolz.carray(a, cparams=bcolz.cparams(cname='lz4'))\n",
    "c"
   ]
  },
  {
   "cell_type": "code",
   "execution_count": 4,
   "metadata": {
    "collapsed": false
   },
   "outputs": [
    {
     "data": {
      "text/plain": [
       "zarr.ext.Array((100000000,), int32, chunks=(262144,), cname='lz4', clevel=5, shuffle=1)\n",
       "  nbytes: 381.5M; cbytes: 6.6M; ratio: 57.4"
      ]
     },
     "execution_count": 4,
     "metadata": {},
     "output_type": "execute_result"
    }
   ],
   "source": [
    "z = zarr.array(a, chunks=c.chunklen, cname='lz4')\n",
    "z"
   ]
  },
  {
   "cell_type": "code",
   "execution_count": 5,
   "metadata": {
    "collapsed": false
   },
   "outputs": [
    {
     "name": "stdout",
     "output_type": "stream",
     "text": [
      "10 loops, best of 3: 139 ms per loop\n"
     ]
    }
   ],
   "source": [
    "%timeit bcolz.carray(a, cparams=bcolz.cparams(cname='lz4'))"
   ]
  },
  {
   "cell_type": "code",
   "execution_count": 6,
   "metadata": {
    "collapsed": false
   },
   "outputs": [
    {
     "name": "stdout",
     "output_type": "stream",
     "text": [
      "10 loops, best of 3: 137 ms per loop\n"
     ]
    }
   ],
   "source": [
    "%timeit zarr.array(a, chunks=c.chunklen, cname='lz4')"
   ]
  },
  {
   "cell_type": "code",
   "execution_count": 7,
   "metadata": {
    "collapsed": false
   },
   "outputs": [
    {
     "name": "stdout",
     "output_type": "stream",
     "text": [
      "         8039 function calls (6890 primitive calls) in 0.146 seconds\n",
      "\n",
      "   Ordered by: internal time\n",
      "\n",
      "   ncalls  tottime  percall  cumtime  percall filename:lineno(function)\n",
      "      382    0.133    0.000    0.133    0.000 ext.pyx:209(compress)\n",
      "  762/382    0.003    0.000    0.138    0.000 ext.pyx:287(__setitem__)\n",
      "    381/0    0.002    0.000    0.000          ext.pyx:468(genexpr)\n",
      "      382    0.002    0.000    0.138    0.000 ext.pyx:127(chunk_setitem)\n",
      "    380/0    0.001    0.000    0.000          ext.pyx:482(genexpr)\n",
      "      763    0.001    0.000    0.002    0.000 numeric.py:1970(isscalar)\n",
      "      381    0.001    0.000    0.001    0.000 {built-in method array}\n",
      "      382    0.001    0.000    0.001    0.000 ext.pyx:109(is_total_slice)\n",
      "      2/1    0.001    0.000    0.001    0.001 ext.pyx:493(__cinit__)\n",
      "      763    0.000    0.000    0.000    0.000 {built-in method isinstance}\n",
      "      382    0.000    0.000    0.001    0.000 ext.pyx:182(__cinit__)\n",
      "      381    0.000    0.000    0.001    0.000 numeric.py:527(ascontiguousarray)\n",
      "      382    0.000    0.000    0.138    0.000 ext.pyx:206(__setitem__)\n",
      "      382    0.000    0.000    0.000    0.000 ext.pyx:271(clear)\n",
      "      382    0.000    0.000    0.000    0.000 threading.py:75(RLock)\n",
      "      383    0.000    0.000    0.000    0.000 ext.pyx:67(get_cparams)\n",
      "      382    0.000    0.000    0.000    0.000 ext.pyx:284(__cinit__)\n",
      "      2/1    0.000    0.000    0.001    0.001 {built-in method exec}\n",
      "      382    0.000    0.000    0.000    0.000 ext.pyx:267(free)\n",
      "      383    0.000    0.000    0.000    0.000 ext.pyx:360(normalise_shape)\n",
      "      2/1    0.000    0.000    0.000    0.000 ext.pyx:292(normalise_array_selection)\n",
      "      2/1    0.000    0.000    0.000    0.000 ext.pyx:369(normalise_chunks)\n",
      "      2/1    0.000    0.000    0.001    0.001 ext.pyx:567(__setitem__)\n",
      "        1    0.000    0.000    0.000    0.000 ext.pyx:352(get_chunk_range)\n",
      "      2/1    0.000    0.000    0.001    0.001 core.py:154(array)\n",
      "      2/1    0.000    0.000    0.001    0.001 <string>:1(<module>)\n",
      "      2/1    0.000    0.000    0.001    0.001 ext.pyx:447(array_setitem)\n",
      "        1    0.000    0.000    0.000    0.000 ext.pyx:157(chunk_getitem)\n",
      "        1    0.000    0.000    0.000    0.000 ext.pyx:249(__getitem__)\n",
      "        1    0.000    0.000    0.000    0.000 ext.pyx:321(normalise_axis_selection)\n",
      "        2    0.000    0.000    0.000    0.000 {built-in method hasattr}\n",
      "        1    0.000    0.000    0.000    0.000 carray_ext.pyx:932(__get__)\n",
      "        1    0.000    0.000    0.000    0.000 {method 'disable' of '_lsprof.Profiler' objects}\n",
      "\n",
      "\n"
     ]
    }
   ],
   "source": [
    "cProfile.run('zarr.array(a, chunks=c.chunklen, cname=\"lz4\")', sort='time')"
   ]
  },
  {
   "cell_type": "markdown",
   "metadata": {},
   "source": [
    "## 1D array read"
   ]
  },
  {
   "cell_type": "code",
   "execution_count": 8,
   "metadata": {
    "collapsed": false
   },
   "outputs": [
    {
     "name": "stdout",
     "output_type": "stream",
     "text": [
      "10 loops, best of 3: 169 ms per loop\n"
     ]
    }
   ],
   "source": [
    "%timeit c[:]"
   ]
  },
  {
   "cell_type": "code",
   "execution_count": 9,
   "metadata": {
    "collapsed": false
   },
   "outputs": [
    {
     "name": "stdout",
     "output_type": "stream",
     "text": [
      "10 loops, best of 3: 165 ms per loop\n"
     ]
    }
   ],
   "source": [
    "%timeit z[:]"
   ]
  },
  {
   "cell_type": "code",
   "execution_count": 10,
   "metadata": {
    "collapsed": false
   },
   "outputs": [
    {
     "name": "stdout",
     "output_type": "stream",
     "text": [
      "         2304 function calls (1157 primitive calls) in 0.173 seconds\n",
      "\n",
      "   Ordered by: internal time\n",
      "\n",
      "   ncalls  tottime  percall  cumtime  percall filename:lineno(function)\n",
      "      382    0.164    0.000    0.164    0.000 ext.pyx:255(decompress)\n",
      "  762/382    0.003    0.000    0.001    0.000 ext.pyx:109(is_total_slice)\n",
      "    381/0    0.002    0.000    0.000          ext.pyx:417(genexpr)\n",
      "    381/0    0.002    0.000    0.000          ext.pyx:423(genexpr)\n",
      "      2/1    0.001    0.001    0.002    0.002 <string>:1(<module>)\n",
      "      2/1    0.000    0.000    0.001    0.001 ext.pyx:387(array_getitem)\n",
      "      2/1    0.000    0.000    0.002    0.002 {built-in method exec}\n",
      "        1    0.000    0.000    0.172    0.172 ext.pyx:398(genexpr)\n",
      "      382    0.000    0.000    0.000    0.000 ext.pyx:203(__get__)\n",
      "        1    0.000    0.000    0.000    0.000 ext.pyx:352(get_chunk_range)\n",
      "        1    0.000    0.000    0.000    0.000 ext.pyx:157(chunk_getitem)\n",
      "      2/1    0.000    0.000    0.001    0.001 ext.pyx:561(__getitem__)\n",
      "      2/1    0.000    0.000    0.000    0.000 ext.pyx:292(normalise_array_selection)\n",
      "        1    0.000    0.000    0.000    0.000 ext.pyx:321(normalise_axis_selection)\n",
      "        1    0.000    0.000    0.000    0.000 ext.pyx:249(__getitem__)\n",
      "        1    0.000    0.000    0.000    0.000 {method 'disable' of '_lsprof.Profiler' objects}\n",
      "\n",
      "\n"
     ]
    }
   ],
   "source": [
    "cProfile.run('z[:]', sort='time')"
   ]
  },
  {
   "cell_type": "code",
   "execution_count": 11,
   "metadata": {
    "collapsed": false
   },
   "outputs": [
    {
     "name": "stdout",
     "output_type": "stream",
     "text": [
      "Timer unit: 1e-06 s\n",
      "\n",
      "Total time: 0.169746 s\n",
      "File: /media/aliman/SD1/src/github/alimanfoo/zarr/zarr/ext.pyx\n",
      "Function: array_getitem at line 387\n",
      "\n",
      "Line #      Hits         Time  Per Hit   % Time  Line Contents\n",
      "==============================================================\n",
      "   387                                           def array_getitem(Array self, item):\n",
      "   388                                               \"\"\"Array.__getitem__ broken out as separate function to enable line\n",
      "   389                                               profiling.\"\"\"\n",
      "   390                                           \n",
      "   391                                               cdef ndarray dest\n",
      "   392                                               cdef Chunk chunk\n",
      "   393                                           \n",
      "   394                                               # normalise selection\n",
      "   395         1           14     14.0      0.0      selection = normalise_array_selection(item, self.shape)\n",
      "   396                                           \n",
      "   397                                               # determine output array shape\n",
      "   398         1            4      4.0      0.0      out_shape = tuple(stop - start for start, stop in selection)\n",
      "   399                                           \n",
      "   400                                               # setup output array\n",
      "   401         1           28     28.0      0.0      out = np.empty(out_shape, dtype=self.dtype)\n",
      "   402                                           \n",
      "   403                                               # determine indices of overlapping chunks\n",
      "   404         1           23     23.0      0.0      chunk_range = get_chunk_range(selection, self.chunks)\n",
      "   405                                           \n",
      "   406                                               # iterate over chunks in range\n",
      "   407       383          525      1.4      0.3      for cidx in itertools.product(*chunk_range):\n",
      "   408                                           \n",
      "   409                                                   # access current chunk\n",
      "   410       382          496      1.3      0.3          chunk = self.cdata[cidx]\n",
      "   411                                           \n",
      "   412                                                   # determine chunk offset\n",
      "   413       382          801      2.1      0.5          offset = [i * c for i, c in zip(cidx, self.chunks)]\n",
      "   414                                           \n",
      "   415                                                   # determine index range within output array\n",
      "   416       382         1214      3.2      0.7          out_selection = tuple(\n",
      "   417       382          492      1.3      0.3              slice(max(0, o - start), min(o + c - start, stop - start))\n",
      "   418                                                       for (start, stop), o, c, in zip(selection, offset, self.chunks)\n",
      "   419                                                   )\n",
      "   420                                           \n",
      "   421                                                   # determine required index range within chunk\n",
      "   422       382          667      1.7      0.4          chunk_selection = tuple(\n",
      "   423       382          318      0.8      0.2              slice(max(0, start - o), min(c, stop - o))\n",
      "   424                                                       for (start, stop), o, c in zip(selection, offset, self.chunks)\n",
      "   425                                                   )\n",
      "   426                                           \n",
      "   427                                                   # obtain the destination array as a view of the output array\n",
      "   428       382          601      1.6      0.4          dest = out[out_selection]\n",
      "   429                                           \n",
      "   430       764          606      0.8      0.4          if chunk.is_initialised and \\\n",
      "   431       382         1585      4.1      0.9                  is_total_slice(chunk_selection, chunk.shape) and \\\n",
      "   432       381          334      0.9      0.2                  dest.flags.c_contiguous:\n",
      "   433                                           \n",
      "   434                                                       # optimisation, destination is C contiguous so we can decompress\n",
      "   435                                                       # directly from the chunk into the output array\n",
      "   436       381       161489    423.9     95.1              chunk.decompress(dest.data)\n",
      "   437                                           \n",
      "   438                                                   else:\n",
      "   439                                           \n",
      "   440                                                       # set data in output array\n",
      "   441         1          391    391.0      0.2              tmp = chunk[chunk_selection]\n",
      "   442         1          155    155.0      0.1              dest[:] = tmp\n",
      "   443                                           \n",
      "   444         1            3      3.0      0.0      return out\n",
      "\n"
     ]
    }
   ],
   "source": [
    "profile = line_profiler.LineProfiler(zarr.ext.array_getitem)\n",
    "profile.run('z[:]')\n",
    "profile.print_stats()"
   ]
  },
  {
   "cell_type": "markdown",
   "metadata": {
    "collapsed": true
   },
   "source": [
    "## 2D array creation"
   ]
  },
  {
   "cell_type": "code",
   "execution_count": 12,
   "metadata": {
    "collapsed": false
   },
   "outputs": [
    {
     "data": {
      "text/plain": [
       "array([[       0,        1,        2, ...,     9997,     9998,     9999],\n",
       "       [   10000,    10001,    10002, ...,    19997,    19998,    19999],\n",
       "       [   20000,    20001,    20002, ...,    29997,    29998,    29999],\n",
       "       ..., \n",
       "       [99970000, 99970001, 99970002, ..., 99979997, 99979998, 99979999],\n",
       "       [99980000, 99980001, 99980002, ..., 99989997, 99989998, 99989999],\n",
       "       [99990000, 99990001, 99990002, ..., 99999997, 99999998, 99999999]], dtype=int32)"
      ]
     },
     "execution_count": 12,
     "metadata": {},
     "output_type": "execute_result"
    }
   ],
   "source": [
    "a = np.arange(1e8, dtype='i4').reshape((10000, 10000))\n",
    "a"
   ]
  },
  {
   "cell_type": "code",
   "execution_count": 13,
   "metadata": {
    "collapsed": false
   },
   "outputs": [
    {
     "data": {
      "text/plain": [
       "carray((10000, 10000), int32)\n",
       "  nbytes: 381.47 MB; cbytes: 7.75 MB; ratio: 49.25\n",
       "  cparams := cparams(clevel=5, shuffle=True, cname='lz4')\n",
       "[[       0        1        2 ...,     9997     9998     9999]\n",
       " [   10000    10001    10002 ...,    19997    19998    19999]\n",
       " [   20000    20001    20002 ...,    29997    29998    29999]\n",
       " ..., \n",
       " [99970000 99970001 99970002 ..., 99979997 99979998 99979999]\n",
       " [99980000 99980001 99980002 ..., 99989997 99989998 99989999]\n",
       " [99990000 99990001 99990002 ..., 99999997 99999998 99999999]]"
      ]
     },
     "execution_count": 13,
     "metadata": {},
     "output_type": "execute_result"
    }
   ],
   "source": [
    "c = bcolz.carray(a, cparams=bcolz.cparams(cname='lz4'))\n",
    "c"
   ]
  },
  {
   "cell_type": "code",
   "execution_count": 14,
   "metadata": {
    "collapsed": false
   },
   "outputs": [
    {
     "data": {
      "text/plain": [
       "26"
      ]
     },
     "execution_count": 14,
     "metadata": {},
     "output_type": "execute_result"
    }
   ],
   "source": [
    "c.chunklen"
   ]
  },
  {
   "cell_type": "code",
   "execution_count": 15,
   "metadata": {
    "collapsed": false
   },
   "outputs": [
    {
     "data": {
      "text/plain": [
       "zarr.ext.Array((10000, 10000), int32, chunks=(26, 10000), nbytes=381.5M, cbytes=6.7M, cratio=56.8, cname=lz4, clevel=5, shuffle=1)"
      ]
     },
     "execution_count": 15,
     "metadata": {},
     "output_type": "execute_result"
    }
   ],
   "source": [
    "z = zarr.array(a, chunks=(c.chunklen, a.shape[1]), cname='lz4')\n",
    "z"
   ]
  },
  {
   "cell_type": "code",
   "execution_count": 16,
   "metadata": {
    "collapsed": false
   },
   "outputs": [
    {
     "name": "stdout",
     "output_type": "stream",
     "text": [
      "10 loops, best of 3: 131 ms per loop\n"
     ]
    }
   ],
   "source": [
    "%timeit bcolz.carray(a, cparams=bcolz.cparams(cname='lz4'))"
   ]
  },
  {
   "cell_type": "code",
   "execution_count": 17,
   "metadata": {
    "collapsed": false
   },
   "outputs": [
    {
     "name": "stdout",
     "output_type": "stream",
     "text": [
      "10 loops, best of 3: 138 ms per loop\n"
     ]
    }
   ],
   "source": [
    "%timeit zarr.array(a, chunks=(c.chunklen, a.shape[1]), cname='lz4')"
   ]
  },
  {
   "cell_type": "code",
   "execution_count": 18,
   "metadata": {
    "collapsed": false
   },
   "outputs": [
    {
     "name": "stdout",
     "output_type": "stream",
     "text": [
      "         8103 function calls (6945 primitive calls) in 0.154 seconds\n",
      "\n",
      "   Ordered by: internal time\n",
      "\n",
      "   ncalls  tottime  percall  cumtime  percall filename:lineno(function)\n",
      "      385    0.138    0.000    0.138    0.000 ext.pyx:209(compress)\n",
      "  768/385    0.003    0.000    0.144    0.000 ext.pyx:287(__setitem__)\n",
      "      385    0.002    0.000    0.143    0.000 ext.pyx:127(chunk_setitem)\n",
      "    384/0    0.002    0.000    0.000          ext.pyx:468(genexpr)\n",
      "    383/0    0.001    0.000    0.000          ext.pyx:482(genexpr)\n",
      "      769    0.001    0.000    0.002    0.000 numeric.py:1970(isscalar)\n",
      "      2/1    0.001    0.001    0.003    0.003 ext.pyx:493(__cinit__)\n",
      "      384    0.001    0.000    0.001    0.000 {built-in method array}\n",
      "      385    0.001    0.000    0.001    0.000 ext.pyx:109(is_total_slice)\n",
      "      385    0.001    0.000    0.001    0.000 ext.pyx:182(__cinit__)\n",
      "      769    0.000    0.000    0.000    0.000 {built-in method isinstance}\n",
      "      384    0.000    0.000    0.001    0.000 numeric.py:527(ascontiguousarray)\n",
      "      385    0.000    0.000    0.001    0.000 ext.pyx:284(__cinit__)\n",
      "      385    0.000    0.000    0.000    0.000 threading.py:75(RLock)\n",
      "      386    0.000    0.000    0.000    0.000 ext.pyx:67(get_cparams)\n",
      "      385    0.000    0.000    0.000    0.000 ext.pyx:271(clear)\n",
      "      385    0.000    0.000    0.143    0.000 ext.pyx:206(__setitem__)\n",
      "      386    0.000    0.000    0.000    0.000 ext.pyx:360(normalise_shape)\n",
      "      2/1    0.000    0.000    0.001    0.001 {built-in method exec}\n",
      "      385    0.000    0.000    0.000    0.000 ext.pyx:267(free)\n",
      "        1    0.000    0.000    0.151    0.151 ext.pyx:308(genexpr)\n",
      "        1    0.000    0.000    0.000    0.000 ext.pyx:352(get_chunk_range)\n",
      "      2/1    0.000    0.000    0.000    0.000 ext.pyx:369(normalise_chunks)\n",
      "      2/1    0.000    0.000    0.000    0.000 core.py:154(array)\n",
      "      2/1    0.000    0.000    0.001    0.001 <string>:1(<module>)\n",
      "      2/1    0.000    0.000    0.000    0.000 ext.pyx:447(array_setitem)\n",
      "      2/1    0.000    0.000    0.000    0.000 ext.pyx:567(__setitem__)\n",
      "      2/1    0.000    0.000    0.000    0.000 ext.pyx:292(normalise_array_selection)\n",
      "        1    0.000    0.000    0.000    0.000 ext.pyx:157(chunk_getitem)\n",
      "        1    0.000    0.000    0.000    0.000 ext.pyx:321(normalise_axis_selection)\n",
      "        1    0.000    0.000    0.000    0.000 carray_ext.pyx:932(__get__)\n",
      "        1    0.000    0.000    0.000    0.000 ext.pyx:249(__getitem__)\n",
      "        2    0.000    0.000    0.000    0.000 {built-in method hasattr}\n",
      "        1    0.000    0.000    0.000    0.000 {method 'disable' of '_lsprof.Profiler' objects}\n",
      "\n",
      "\n"
     ]
    }
   ],
   "source": [
    "cProfile.run('zarr.array(a, chunks=(c.chunklen, a.shape[1]), cname=\"lz4\")', sort='time')"
   ]
  },
  {
   "cell_type": "code",
   "execution_count": 19,
   "metadata": {
    "collapsed": false
   },
   "outputs": [
    {
     "name": "stdout",
     "output_type": "stream",
     "text": [
      "1 loops, best of 3: 197 ms per loop\n"
     ]
    }
   ],
   "source": [
    "%timeit zarr.array(a, chunks=(c.chunklen*10, a.shape[1]//10), cname='lz4')"
   ]
  },
  {
   "cell_type": "code",
   "execution_count": 20,
   "metadata": {
    "collapsed": false
   },
   "outputs": [
    {
     "name": "stdout",
     "output_type": "stream",
     "text": [
      "         8190 function calls (7017 primitive calls) in 0.246 seconds\n",
      "\n",
      "   Ordered by: internal time\n",
      "\n",
      "   ncalls  tottime  percall  cumtime  percall filename:lineno(function)\n",
      "      390    0.166    0.000    0.167    0.000 ext.pyx:209(compress)\n",
      "      380    0.059    0.000    0.059    0.000 {built-in method array}\n",
      "  778/390    0.005    0.000    0.233    0.001 ext.pyx:287(__setitem__)\n",
      "      390    0.004    0.000    0.232    0.001 ext.pyx:127(chunk_setitem)\n",
      "    389/0    0.003    0.000    0.000          ext.pyx:468(genexpr)\n",
      "    388/0    0.002    0.000    0.000          ext.pyx:482(genexpr)\n",
      "      770    0.002    0.000    0.003    0.000 numeric.py:1970(isscalar)\n",
      "      390    0.001    0.000    0.001    0.000 ext.pyx:109(is_total_slice)\n",
      "      380    0.001    0.000    0.060    0.000 numeric.py:527(ascontiguousarray)\n",
      "      770    0.001    0.000    0.001    0.000 {built-in method isinstance}\n",
      "      2/1    0.001    0.000    0.001    0.001 ext.pyx:493(__cinit__)\n",
      "      390    0.000    0.000    0.000    0.000 ext.pyx:271(clear)\n",
      "      390    0.000    0.000    0.232    0.001 ext.pyx:206(__setitem__)\n",
      "      390    0.000    0.000    0.001    0.000 ext.pyx:182(__cinit__)\n",
      "      390    0.000    0.000    0.000    0.000 ext.pyx:284(__cinit__)\n",
      "      391    0.000    0.000    0.000    0.000 ext.pyx:67(get_cparams)\n",
      "      390    0.000    0.000    0.000    0.000 threading.py:75(RLock)\n",
      "        1    0.000    0.000    0.244    0.244 ext.pyx:308(genexpr)\n",
      "      2/1    0.000    0.000    0.001    0.001 {built-in method exec}\n",
      "      390    0.000    0.000    0.000    0.000 ext.pyx:267(free)\n",
      "      391    0.000    0.000    0.000    0.000 ext.pyx:360(normalise_shape)\n",
      "       10    0.000    0.000    0.000    0.000 ext.pyx:157(chunk_getitem)\n",
      "      2/1    0.000    0.000    0.000    0.000 ext.pyx:369(normalise_chunks)\n",
      "      2/1    0.000    0.000    0.001    0.001 <string>:1(<module>)\n",
      "        1    0.000    0.000    0.000    0.000 ext.pyx:352(get_chunk_range)\n",
      "      2/1    0.000    0.000    0.000    0.000 core.py:154(array)\n",
      "      2/1    0.000    0.000    0.000    0.000 ext.pyx:447(array_setitem)\n",
      "       10    0.000    0.000    0.000    0.000 ext.pyx:249(__getitem__)\n",
      "      2/1    0.000    0.000    0.000    0.000 ext.pyx:567(__setitem__)\n",
      "        1    0.000    0.000    0.000    0.000 ext.pyx:321(normalise_axis_selection)\n",
      "      2/1    0.000    0.000    0.000    0.000 ext.pyx:292(normalise_array_selection)\n",
      "        1    0.000    0.000    0.000    0.000 {method 'disable' of '_lsprof.Profiler' objects}\n",
      "        1    0.000    0.000    0.000    0.000 carray_ext.pyx:932(__get__)\n",
      "        2    0.000    0.000    0.000    0.000 {built-in method hasattr}\n",
      "\n",
      "\n"
     ]
    }
   ],
   "source": [
    "cProfile.run('zarr.array(a, chunks=(c.chunklen*10, a.shape[1]//10), cname=\"lz4\")', sort='time')"
   ]
  },
  {
   "cell_type": "code",
   "execution_count": 21,
   "metadata": {
    "collapsed": false
   },
   "outputs": [
    {
     "name": "stdout",
     "output_type": "stream",
     "text": [
      "Timer unit: 1e-06 s\n",
      "\n",
      "Total time: 0.144544 s\n",
      "File: /media/aliman/SD1/src/github/alimanfoo/zarr/zarr/ext.pyx\n",
      "Function: chunk_setitem at line 127\n",
      "\n",
      "Line #      Hits         Time  Per Hit   % Time  Line Contents\n",
      "==============================================================\n",
      "   127                                           def chunk_setitem(Chunk self, key, value):\n",
      "   128                                               \"\"\"Chunk.__setitem__ broken out as separate function to enable line\n",
      "   129                                               profiling.\"\"\"\n",
      "   130                                           \n",
      "   131       385         1611      4.2      1.1      if is_total_slice(key, self.shape):\n",
      "   132                                                   # completely replace the contents of this chunk\n",
      "   133                                           \n",
      "   134       384         1103      2.9      0.8          if np.isscalar(value):\n",
      "   135                                                       array = np.empty(self.shape, dtype=self.dtype)\n",
      "   136                                                       array.fill(value)\n",
      "   137                                           \n",
      "   138                                                   else:\n",
      "   139                                                       # ensure array is C contiguous\n",
      "   140       384         1885      4.9      1.3              array = np.ascontiguousarray(value, dtype=self.dtype)\n",
      "   141       384          360      0.9      0.2              if array.shape != self.shape:\n",
      "   142                                                           raise ValueError('bad value shape')\n",
      "   143                                           \n",
      "   144                                               else:\n",
      "   145                                                   # partially replace the contents of this chunk\n",
      "   146                                           \n",
      "   147                                                   # decompress existing data\n",
      "   148         1           11     11.0      0.0          array = self[:]\n",
      "   149                                           \n",
      "   150                                                   # modify\n",
      "   151         1          134    134.0      0.1          array[key] = value\n",
      "   152                                           \n",
      "   153                                               # compress the data and store\n",
      "   154       385       139440    362.2     96.5      self.compress(array)\n",
      "\n",
      "Total time: 0.172722 s\n",
      "File: /media/aliman/SD1/src/github/alimanfoo/zarr/zarr/ext.pyx\n",
      "Function: array_setitem at line 447\n",
      "\n",
      "Line #      Hits         Time  Per Hit   % Time  Line Contents\n",
      "==============================================================\n",
      "   447                                           def array_setitem(Array self, key, value):\n",
      "   448                                               \"\"\"Array.__setitem__ broken out as separate function to enable line\n",
      "   449                                               profiling.\"\"\"\n",
      "   450                                           \n",
      "   451                                               # normalise selection\n",
      "   452         1           20     20.0      0.0      selection = normalise_array_selection(key, self.shape)\n",
      "   453                                           \n",
      "   454                                               # determine indices of overlapping chunks\n",
      "   455         1           22     22.0      0.0      chunk_range = get_chunk_range(selection, self.chunks)\n",
      "   456                                           \n",
      "   457                                               # iterate over chunks in range\n",
      "   458       386          441      1.1      0.3      for cidx in itertools.product(*chunk_range):\n",
      "   459                                           \n",
      "   460                                                   # current chunk\n",
      "   461       385          446      1.2      0.3          chunk = self.cdata[cidx]\n",
      "   462                                           \n",
      "   463                                                   # determine chunk offset\n",
      "   464       385          752      2.0      0.4          offset = [i * c for i, c in zip(cidx, self.chunks)]\n",
      "   465                                           \n",
      "   466                                                   # determine required index range within chunk\n",
      "   467       385        20146     52.3     11.7          chunk_selection = tuple(\n",
      "   468       385          441      1.1      0.3              slice(max(0, start - o), min(c, stop - o))\n",
      "   469                                                       for (start, stop), o, c in zip(selection, offset, self.chunks)\n",
      "   470                                                   )\n",
      "   471                                           \n",
      "   472       385         1613      4.2      0.9          if np.isscalar(value):\n",
      "   473                                           \n",
      "   474                                                       # fill chunk with scalar value\n",
      "   475                                                       chunk[chunk_selection] = value\n",
      "   476                                           \n",
      "   477                                                   else:\n",
      "   478                                                       # assume value is array-like\n",
      "   479                                           \n",
      "   480                                                       # determine index within value\n",
      "   481       770         1160      1.5      0.7              value_selection = tuple(\n",
      "   482       385          264      0.7      0.2                  slice(max(0, o - start), min(o + c - start, stop - start))\n",
      "   483                                                           for (start, stop), o, c, in zip(selection, offset, self.chunks)\n",
      "   484                                                       )\n",
      "   485                                           \n",
      "   486                                                       # set data in chunk\n",
      "   487       385       147417    382.9     85.3              chunk[chunk_selection] = value[value_selection]\n",
      "\n"
     ]
    }
   ],
   "source": [
    "profile = line_profiler.LineProfiler(zarr.ext.array_setitem, zarr.ext.chunk_setitem)\n",
    "profile.run('zarr.array(a, chunks=(c.chunklen, a.shape[1]), cname=\"lz4\")')\n",
    "profile.print_stats()"
   ]
  },
  {
   "cell_type": "code",
   "execution_count": 22,
   "metadata": {
    "collapsed": false
   },
   "outputs": [
    {
     "name": "stdout",
     "output_type": "stream",
     "text": [
      "Timer unit: 1e-06 s\n",
      "\n",
      "Total time: 0.228859 s\n",
      "File: /media/aliman/SD1/src/github/alimanfoo/zarr/zarr/ext.pyx\n",
      "Function: chunk_setitem at line 127\n",
      "\n",
      "Line #      Hits         Time  Per Hit   % Time  Line Contents\n",
      "==============================================================\n",
      "   127                                           def chunk_setitem(Chunk self, key, value):\n",
      "   128                                               \"\"\"Chunk.__setitem__ broken out as separate function to enable line\n",
      "   129                                               profiling.\"\"\"\n",
      "   130                                           \n",
      "   131       390         1815      4.7      0.8      if is_total_slice(key, self.shape):\n",
      "   132                                                   # completely replace the contents of this chunk\n",
      "   133                                           \n",
      "   134       380         1180      3.1      0.5          if np.isscalar(value):\n",
      "   135                                                       array = np.empty(self.shape, dtype=self.dtype)\n",
      "   136                                                       array.fill(value)\n",
      "   137                                           \n",
      "   138                                                   else:\n",
      "   139                                                       # ensure array is C contiguous\n",
      "   140       380        61078    160.7     26.7              array = np.ascontiguousarray(value, dtype=self.dtype)\n",
      "   141       380         1021      2.7      0.4              if array.shape != self.shape:\n",
      "   142                                                           raise ValueError('bad value shape')\n",
      "   143                                           \n",
      "   144                                               else:\n",
      "   145                                                   # partially replace the contents of this chunk\n",
      "   146                                           \n",
      "   147                                                   # decompress existing data\n",
      "   148        10           51      5.1      0.0          array = self[:]\n",
      "   149                                           \n",
      "   150                                                   # modify\n",
      "   151        10          531     53.1      0.2          array[key] = value\n",
      "   152                                           \n",
      "   153                                               # compress the data and store\n",
      "   154       390       163183    418.4     71.3      self.compress(array)\n",
      "\n",
      "Total time: 0.244123 s\n",
      "File: /media/aliman/SD1/src/github/alimanfoo/zarr/zarr/ext.pyx\n",
      "Function: array_setitem at line 447\n",
      "\n",
      "Line #      Hits         Time  Per Hit   % Time  Line Contents\n",
      "==============================================================\n",
      "   447                                           def array_setitem(Array self, key, value):\n",
      "   448                                               \"\"\"Array.__setitem__ broken out as separate function to enable line\n",
      "   449                                               profiling.\"\"\"\n",
      "   450                                           \n",
      "   451                                               # normalise selection\n",
      "   452         1           21     21.0      0.0      selection = normalise_array_selection(key, self.shape)\n",
      "   453                                           \n",
      "   454                                               # determine indices of overlapping chunks\n",
      "   455         1           27     27.0      0.0      chunk_range = get_chunk_range(selection, self.chunks)\n",
      "   456                                           \n",
      "   457                                               # iterate over chunks in range\n",
      "   458       391          638      1.6      0.3      for cidx in itertools.product(*chunk_range):\n",
      "   459                                           \n",
      "   460                                                   # current chunk\n",
      "   461       390          743      1.9      0.3          chunk = self.cdata[cidx]\n",
      "   462                                           \n",
      "   463                                                   # determine chunk offset\n",
      "   464       390         1342      3.4      0.5          offset = [i * c for i, c in zip(cidx, self.chunks)]\n",
      "   465                                           \n",
      "   466                                                   # determine required index range within chunk\n",
      "   467       390         1869      4.8      0.8          chunk_selection = tuple(\n",
      "   468       390          701      1.8      0.3              slice(max(0, start - o), min(c, stop - o))\n",
      "   469                                                       for (start, stop), o, c in zip(selection, offset, self.chunks)\n",
      "   470                                                   )\n",
      "   471                                           \n",
      "   472       390         3078      7.9      1.3          if np.isscalar(value):\n",
      "   473                                           \n",
      "   474                                                       # fill chunk with scalar value\n",
      "   475                                                       chunk[chunk_selection] = value\n",
      "   476                                           \n",
      "   477                                                   else:\n",
      "   478                                                       # assume value is array-like\n",
      "   479                                           \n",
      "   480                                                       # determine index within value\n",
      "   481       780         1493      1.9      0.6              value_selection = tuple(\n",
      "   482       390          658      1.7      0.3                  slice(max(0, o - start), min(o + c - start, stop - start))\n",
      "   483                                                           for (start, stop), o, c, in zip(selection, offset, self.chunks)\n",
      "   484                                                       )\n",
      "   485                                           \n",
      "   486                                                       # set data in chunk\n",
      "   487       390       233553    598.9     95.7              chunk[chunk_selection] = value[value_selection]\n",
      "\n"
     ]
    }
   ],
   "source": [
    "profile = line_profiler.LineProfiler(zarr.ext.array_setitem, zarr.ext.chunk_setitem)\n",
    "profile.run('zarr.array(a, chunks=(c.chunklen*10, a.shape[1]//10), cname=\"lz4\")')\n",
    "profile.print_stats()"
   ]
  },
  {
   "cell_type": "markdown",
   "metadata": {},
   "source": [
    "## 2D array read"
   ]
  },
  {
   "cell_type": "code",
   "execution_count": 23,
   "metadata": {
    "collapsed": false
   },
   "outputs": [
    {
     "name": "stdout",
     "output_type": "stream",
     "text": [
      "1 loops, best of 3: 284 ms per loop\n"
     ]
    }
   ],
   "source": [
    "%timeit c[:]"
   ]
  },
  {
   "cell_type": "code",
   "execution_count": 24,
   "metadata": {
    "collapsed": false
   },
   "outputs": [
    {
     "name": "stdout",
     "output_type": "stream",
     "text": [
      "1 loops, best of 3: 291 ms per loop\n",
      "Timer unit: 1e-06 s\n",
      "\n",
      "Total time: 0.000414 s\n",
      "File: /media/aliman/SD1/src/github/alimanfoo/zarr/zarr/ext.pyx\n",
      "Function: chunk_getitem at line 157\n",
      "\n",
      "Line #      Hits         Time  Per Hit   % Time  Line Contents\n",
      "==============================================================\n",
      "   157                                           def chunk_getitem(Chunk self, item):\n",
      "   158                                               \"\"\"Chunk.__getitem__ broken out as separate function to enable line\n",
      "   159                                               profiling.\"\"\"\n",
      "   160                                           \n",
      "   161                                               cdef:\n",
      "   162                                                   ndarray array\n",
      "   163                                           \n",
      "   164                                               # setup output array\n",
      "   165         1           13     13.0      3.1      array = np.empty(self.shape, dtype=self.dtype)\n",
      "   166                                           \n",
      "   167         1            1      1.0      0.2      if self.data == NULL:\n",
      "   168                                                   # data not initialised, use fill_value\n",
      "   169                                                   if self.fill_value is not None:\n",
      "   170                                                       array.fill(self.fill_value)\n",
      "   171                                           \n",
      "   172                                               else:\n",
      "   173                                                   # data initialised, decompress into array\n",
      "   174         1          398    398.0     96.1          self.decompress(array.data)\n",
      "   175                                           \n",
      "   176         1            2      2.0      0.5      return array[item]\n",
      "\n",
      "Total time: 0.289328 s\n",
      "File: /media/aliman/SD1/src/github/alimanfoo/zarr/zarr/ext.pyx\n",
      "Function: array_getitem at line 387\n",
      "\n",
      "Line #      Hits         Time  Per Hit   % Time  Line Contents\n",
      "==============================================================\n",
      "   387                                           def array_getitem(Array self, item):\n",
      "   388                                               \"\"\"Array.__getitem__ broken out as separate function to enable line\n",
      "   389                                               profiling.\"\"\"\n",
      "   390                                           \n",
      "   391                                               cdef ndarray dest\n",
      "   392                                               cdef Chunk chunk\n",
      "   393                                           \n",
      "   394                                               # normalise selection\n",
      "   395         1           17     17.0      0.0      selection = normalise_array_selection(item, self.shape)\n",
      "   396                                           \n",
      "   397                                               # determine output array shape\n",
      "   398         1            3      3.0      0.0      out_shape = tuple(stop - start for start, stop in selection)\n",
      "   399                                           \n",
      "   400                                               # setup output array\n",
      "   401         1           28     28.0      0.0      out = np.empty(out_shape, dtype=self.dtype)\n",
      "   402                                           \n",
      "   403                                               # determine indices of overlapping chunks\n",
      "   404         1           25     25.0      0.0      chunk_range = get_chunk_range(selection, self.chunks)\n",
      "   405                                           \n",
      "   406                                               # iterate over chunks in range\n",
      "   407       386          584      1.5      0.2      for cidx in itertools.product(*chunk_range):\n",
      "   408                                           \n",
      "   409                                                   # access current chunk\n",
      "   410       385          541      1.4      0.2          chunk = self.cdata[cidx]\n",
      "   411                                           \n",
      "   412                                                   # determine chunk offset\n",
      "   413       385          925      2.4      0.3          offset = [i * c for i, c in zip(cidx, self.chunks)]\n",
      "   414                                           \n",
      "   415                                                   # determine index range within output array\n",
      "   416       385         1690      4.4      0.6          out_selection = tuple(\n",
      "   417       385          590      1.5      0.2              slice(max(0, o - start), min(o + c - start, stop - start))\n",
      "   418                                                       for (start, stop), o, c, in zip(selection, offset, self.chunks)\n",
      "   419                                                   )\n",
      "   420                                           \n",
      "   421                                                   # determine required index range within chunk\n",
      "   422       385          914      2.4      0.3          chunk_selection = tuple(\n",
      "   423       385          384      1.0      0.1              slice(max(0, start - o), min(c, stop - o))\n",
      "   424                                                       for (start, stop), o, c in zip(selection, offset, self.chunks)\n",
      "   425                                                   )\n",
      "   426                                           \n",
      "   427                                                   # obtain the destination array as a view of the output array\n",
      "   428       385          698      1.8      0.2          dest = out[out_selection]\n",
      "   429                                           \n",
      "   430       770          717      0.9      0.2          if chunk.is_initialised and \\\n",
      "   431       385         1516      3.9      0.5                  is_total_slice(chunk_selection, chunk.shape) and \\\n",
      "   432       384          435      1.1      0.2                  dest.flags.c_contiguous:\n",
      "   433                                           \n",
      "   434                                                       # optimisation, destination is C contiguous so we can decompress\n",
      "   435                                                       # directly from the chunk into the output array\n",
      "   436       384       279615    728.2     96.6              chunk.decompress(dest.data)\n",
      "   437                                           \n",
      "   438                                                   else:\n",
      "   439                                           \n",
      "   440                                                       # set data in output array\n",
      "   441         1          421    421.0      0.1              tmp = chunk[chunk_selection]\n",
      "   442         1          221    221.0      0.1              dest[:] = tmp\n",
      "   443                                           \n",
      "   444         1            4      4.0      0.0      return out\n",
      "\n"
     ]
    }
   ],
   "source": [
    "z = zarr.array(a, chunks=(c.chunklen, a.shape[1]), cname='lz4')\n",
    "%timeit z[:]\n",
    "profile = line_profiler.LineProfiler(zarr.ext.array_getitem, zarr.ext.chunk_getitem)\n",
    "profile.run('z[:]')\n",
    "profile.print_stats()"
   ]
  },
  {
   "cell_type": "code",
   "execution_count": 25,
   "metadata": {
    "collapsed": false
   },
   "outputs": [
    {
     "name": "stdout",
     "output_type": "stream",
     "text": [
      "1 loops, best of 3: 363 ms per loop\n",
      "Timer unit: 1e-06 s\n",
      "\n",
      "Total time: 0.154248 s\n",
      "File: /media/aliman/SD1/src/github/alimanfoo/zarr/zarr/ext.pyx\n",
      "Function: chunk_getitem at line 157\n",
      "\n",
      "Line #      Hits         Time  Per Hit   % Time  Line Contents\n",
      "==============================================================\n",
      "   157                                           def chunk_getitem(Chunk self, item):\n",
      "   158                                               \"\"\"Chunk.__getitem__ broken out as separate function to enable line\n",
      "   159                                               profiling.\"\"\"\n",
      "   160                                           \n",
      "   161                                               cdef:\n",
      "   162                                                   ndarray array\n",
      "   163                                           \n",
      "   164                                               # setup output array\n",
      "   165       390         2242      5.7      1.5      array = np.empty(self.shape, dtype=self.dtype)\n",
      "   166                                           \n",
      "   167       390          187      0.5      0.1      if self.data == NULL:\n",
      "   168                                                   # data not initialised, use fill_value\n",
      "   169                                                   if self.fill_value is not None:\n",
      "   170                                                       array.fill(self.fill_value)\n",
      "   171                                           \n",
      "   172                                               else:\n",
      "   173                                                   # data initialised, decompress into array\n",
      "   174       390       151021    387.2     97.9          self.decompress(array.data)\n",
      "   175                                           \n",
      "   176       390          798      2.0      0.5      return array[item]\n",
      "\n",
      "Total time: 0.353437 s\n",
      "File: /media/aliman/SD1/src/github/alimanfoo/zarr/zarr/ext.pyx\n",
      "Function: array_getitem at line 387\n",
      "\n",
      "Line #      Hits         Time  Per Hit   % Time  Line Contents\n",
      "==============================================================\n",
      "   387                                           def array_getitem(Array self, item):\n",
      "   388                                               \"\"\"Array.__getitem__ broken out as separate function to enable line\n",
      "   389                                               profiling.\"\"\"\n",
      "   390                                           \n",
      "   391                                               cdef ndarray dest\n",
      "   392                                               cdef Chunk chunk\n",
      "   393                                           \n",
      "   394                                               # normalise selection\n",
      "   395         1           17     17.0      0.0      selection = normalise_array_selection(item, self.shape)\n",
      "   396                                           \n",
      "   397                                               # determine output array shape\n",
      "   398         1            3      3.0      0.0      out_shape = tuple(stop - start for start, stop in selection)\n",
      "   399                                           \n",
      "   400                                               # setup output array\n",
      "   401         1           31     31.0      0.0      out = np.empty(out_shape, dtype=self.dtype)\n",
      "   402                                           \n",
      "   403                                               # determine indices of overlapping chunks\n",
      "   404         1           23     23.0      0.0      chunk_range = get_chunk_range(selection, self.chunks)\n",
      "   405                                           \n",
      "   406                                               # iterate over chunks in range\n",
      "   407       391          703      1.8      0.2      for cidx in itertools.product(*chunk_range):\n",
      "   408                                           \n",
      "   409                                                   # access current chunk\n",
      "   410       390          636      1.6      0.2          chunk = self.cdata[cidx]\n",
      "   411                                           \n",
      "   412                                                   # determine chunk offset\n",
      "   413       390         1415      3.6      0.4          offset = [i * c for i, c in zip(cidx, self.chunks)]\n",
      "   414                                           \n",
      "   415                                                   # determine index range within output array\n",
      "   416       390         1765      4.5      0.5          out_selection = tuple(\n",
      "   417       390          839      2.2      0.2              slice(max(0, o - start), min(o + c - start, stop - start))\n",
      "   418                                                       for (start, stop), o, c, in zip(selection, offset, self.chunks)\n",
      "   419                                                   )\n",
      "   420                                           \n",
      "   421                                                   # determine required index range within chunk\n",
      "   422       390         1041      2.7      0.3          chunk_selection = tuple(\n",
      "   423       390          433      1.1      0.1              slice(max(0, start - o), min(c, stop - o))\n",
      "   424                                                       for (start, stop), o, c in zip(selection, offset, self.chunks)\n",
      "   425                                                   )\n",
      "   426                                           \n",
      "   427                                                   # obtain the destination array as a view of the output array\n",
      "   428       390          678      1.7      0.2          dest = out[out_selection]\n",
      "   429                                           \n",
      "   430       780          858      1.1      0.2          if chunk.is_initialised and \\\n",
      "   431       390         2190      5.6      0.6                  is_total_slice(chunk_selection, chunk.shape) and \\\n",
      "   432       380          535      1.4      0.2                  dest.flags.c_contiguous:\n",
      "   433                                           \n",
      "   434                                                       # optimisation, destination is C contiguous so we can decompress\n",
      "   435                                                       # directly from the chunk into the output array\n",
      "   436                                                       chunk.decompress(dest.data)\n",
      "   437                                           \n",
      "   438                                                   else:\n",
      "   439                                           \n",
      "   440                                                       # set data in output array\n",
      "   441       390       156117    400.3     44.2              tmp = chunk[chunk_selection]\n",
      "   442       390       186150    477.3     52.7              dest[:] = tmp\n",
      "   443                                           \n",
      "   444         1            3      3.0      0.0      return out\n",
      "\n"
     ]
    }
   ],
   "source": [
    "z = zarr.array(a, chunks=(c.chunklen*10, a.shape[1]//10), cname='lz4')\n",
    "%timeit z[:]\n",
    "profile = line_profiler.LineProfiler(zarr.ext.array_getitem, zarr.ext.chunk_getitem)\n",
    "profile.run('z[:]')\n",
    "profile.print_stats()"
   ]
  },
  {
   "cell_type": "markdown",
   "metadata": {},
   "source": [
    "## 2D array slices"
   ]
  },
  {
   "cell_type": "code",
   "execution_count": 29,
   "metadata": {
    "collapsed": false
   },
   "outputs": [
    {
     "name": "stdout",
     "output_type": "stream",
     "text": [
      "100 loops, best of 3: 18.2 ms per loop\n"
     ]
    }
   ],
   "source": [
    "%timeit c[1000:2000]"
   ]
  },
  {
   "cell_type": "code",
   "execution_count": 30,
   "metadata": {
    "collapsed": false
   },
   "outputs": [
    {
     "name": "stdout",
     "output_type": "stream",
     "text": [
      "100 loops, best of 3: 19 ms per loop\n"
     ]
    }
   ],
   "source": [
    "z = zarr.array(a, chunks=(c.chunklen, a.shape[1]), cname='lz4')\n",
    "%timeit z[1000:2000]"
   ]
  },
  {
   "cell_type": "code",
   "execution_count": 31,
   "metadata": {
    "collapsed": false
   },
   "outputs": [
    {
     "name": "stdout",
     "output_type": "stream",
     "text": [
      "10 loops, best of 3: 30.1 ms per loop\n"
     ]
    }
   ],
   "source": [
    "z = zarr.array(a, chunks=(c.chunklen*10, a.shape[1]//10), cname='lz4')\n",
    "%timeit z[1000:2000]"
   ]
  },
  {
   "cell_type": "code",
   "execution_count": 32,
   "metadata": {
    "collapsed": false
   },
   "outputs": [
    {
     "name": "stdout",
     "output_type": "stream",
     "text": [
      "1 loops, best of 3: 303 ms per loop\n"
     ]
    }
   ],
   "source": [
    "%timeit c[:, 1000:2000]"
   ]
  },
  {
   "cell_type": "code",
   "execution_count": 33,
   "metadata": {
    "collapsed": false
   },
   "outputs": [
    {
     "name": "stdout",
     "output_type": "stream",
     "text": [
      "10 loops, best of 3: 148 ms per loop\n"
     ]
    }
   ],
   "source": [
    "z = zarr.array(a, chunks=(c.chunklen, a.shape[1]), cname='lz4')\n",
    "%timeit z[:, 1000:2000]"
   ]
  },
  {
   "cell_type": "code",
   "execution_count": 34,
   "metadata": {
    "collapsed": false
   },
   "outputs": [
    {
     "name": "stdout",
     "output_type": "stream",
     "text": [
      "100 loops, best of 3: 17.5 ms per loop\n"
     ]
    }
   ],
   "source": [
    "z = zarr.array(a, chunks=(c.chunklen*10, a.shape[1]//10), cname='lz4')\n",
    "%timeit z[:, 1000:2000]"
   ]
  },
  {
   "cell_type": "code",
   "execution_count": null,
   "metadata": {
    "collapsed": true
   },
   "outputs": [],
   "source": []
  }
 ],
 "metadata": {
  "kernelspec": {
   "display_name": "Python 3",
   "language": "python",
   "name": "python3"
  },
  "language_info": {
   "codemirror_mode": {
    "name": "ipython",
    "version": 3
   },
   "file_extension": ".py",
   "mimetype": "text/x-python",
   "name": "python",
   "nbconvert_exporter": "python",
   "pygments_lexer": "ipython3",
   "version": "3.4.3+"
  }
 },
 "nbformat": 4,
 "nbformat_minor": 0
}
