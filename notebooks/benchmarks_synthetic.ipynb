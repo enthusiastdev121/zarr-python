{
 "cells": [
  {
   "cell_type": "code",
   "execution_count": 1,
   "metadata": {
    "collapsed": false
   },
   "outputs": [
    {
     "name": "stdout",
     "output_type": "stream",
     "text": [
      "numpy 1.10.2\n",
      "zarr 0.1.1.dev6+dirty blosc 1.7.0 $Date:: 2015-07-05 #$\n",
      "bcolz 0.12.2.dev22+dirty blosc 1.7.0 $Date:: 2015-07-05 #$\n"
     ]
    },
    {
     "data": {
      "text/plain": [
       "4"
      ]
     },
     "execution_count": 1,
     "metadata": {},
     "output_type": "execute_result"
    }
   ],
   "source": [
    "import sys\n",
    "sys.path.insert(0, '..')\n",
    "import cProfile\n",
    "import numpy as np; print('numpy', np.__version__)\n",
    "import zarr; print('zarr', zarr.__version__, 'blosc', ' '.join(zarr.blosc_version()))\n",
    "import bcolz; print('bcolz', bcolz.__version__, 'blosc', ' '.join(bcolz.blosc_version()))\n",
    "bcolz.blosc_set_nthreads(1)"
   ]
  },
  {
   "cell_type": "markdown",
   "metadata": {},
   "source": [
    "## Array creation"
   ]
  },
  {
   "cell_type": "code",
   "execution_count": 2,
   "metadata": {
    "collapsed": false
   },
   "outputs": [
    {
     "data": {
      "text/plain": [
       "array([       0,        1,        2, ..., 99999997, 99999998, 99999999], dtype=int32)"
      ]
     },
     "execution_count": 2,
     "metadata": {},
     "output_type": "execute_result"
    }
   ],
   "source": [
    "a = np.arange(1e8, dtype='i4')\n",
    "a"
   ]
  },
  {
   "cell_type": "code",
   "execution_count": 3,
   "metadata": {
    "collapsed": false
   },
   "outputs": [
    {
     "data": {
      "text/plain": [
       "carray((100000000,), int32)\n",
       "  nbytes: 381.47 MB; cbytes: 7.68 MB; ratio: 49.67\n",
       "  cparams := cparams(clevel=5, shuffle=True, cname='lz4')\n",
       "[       0        1        2 ..., 99999997 99999998 99999999]"
      ]
     },
     "execution_count": 3,
     "metadata": {},
     "output_type": "execute_result"
    }
   ],
   "source": [
    "c = bcolz.carray(a, cparams=bcolz.cparams(cname='lz4'))\n",
    "c"
   ]
  },
  {
   "cell_type": "code",
   "execution_count": 4,
   "metadata": {
    "collapsed": false
   },
   "outputs": [
    {
     "data": {
      "text/plain": [
       "zarr.ext.Array((100000000,), int32, chunks=(262144,), nbytes=381.5M, cbytes=6.6M, cratio=57.4, cname=lz4, clevel=5, shuffle=1)"
      ]
     },
     "execution_count": 4,
     "metadata": {},
     "output_type": "execute_result"
    }
   ],
   "source": [
    "z = zarr.array(a, chunks=c.chunklen, cname='lz4', synchronized=False)\n",
    "z"
   ]
  },
  {
   "cell_type": "code",
   "execution_count": 5,
   "metadata": {
    "collapsed": false
   },
   "outputs": [
    {
     "name": "stdout",
     "output_type": "stream",
     "text": [
      "10 loops, best of 3: 132 ms per loop\n"
     ]
    }
   ],
   "source": [
    "%timeit bcolz.carray(a, cparams=bcolz.cparams(cname='lz4'))"
   ]
  },
  {
   "cell_type": "code",
   "execution_count": 6,
   "metadata": {
    "collapsed": false
   },
   "outputs": [
    {
     "name": "stdout",
     "output_type": "stream",
     "text": [
      "10 loops, best of 3: 137 ms per loop\n"
     ]
    }
   ],
   "source": [
    "%timeit zarr.array(a, chunks=c.chunklen, cname='lz4')"
   ]
  },
  {
   "cell_type": "code",
   "execution_count": 7,
   "metadata": {
    "collapsed": false
   },
   "outputs": [
    {
     "name": "stdout",
     "output_type": "stream",
     "text": [
      "         8037 function calls (6888 primitive calls) in 0.146 seconds\n",
      "\n",
      "   Ordered by: internal time\n",
      "\n",
      "   ncalls  tottime  percall  cumtime  percall filename:lineno(function)\n",
      "      382    0.133    0.000    0.133    0.000 ext.pyx:181(compress)\n",
      "  762/382    0.003    0.000    0.137    0.000 ext.pyx:279(__setitem__)\n",
      "    381/0    0.002    0.000    0.000          ext.pyx:526(genexpr)\n",
      "      382    0.001    0.000    0.137    0.000 ext.pyx:154(__setitem__)\n",
      "    381/0    0.001    0.000    0.000          ext.pyx:540(genexpr)\n",
      "      763    0.001    0.000    0.002    0.000 numeric.py:1970(isscalar)\n",
      "      381    0.001    0.000    0.001    0.000 {built-in method array}\n",
      "      382    0.001    0.000    0.001    0.000 ext.pyx:109(is_total_slice)\n",
      "      763    0.001    0.000    0.001    0.000 {built-in method isinstance}\n",
      "      2/1    0.000    0.000    0.002    0.002 ext.pyx:432(__cinit__)\n",
      "      382    0.000    0.000    0.001    0.000 ext.pyx:468(create_chunk)\n",
      "      381    0.000    0.000    0.001    0.000 numeric.py:527(ascontiguousarray)\n",
      "      382    0.000    0.000    0.001    0.000 ext.pyx:130(__cinit__)\n",
      "      382    0.000    0.000    0.001    0.000 ext.pyx:271(__init__)\n",
      "      382    0.000    0.000    0.000    0.000 ext.pyx:258(clear)\n",
      "      382    0.000    0.000    0.000    0.000 threading.py:75(RLock)\n",
      "      383    0.000    0.000    0.000    0.000 ext.pyx:67(get_cparams)\n",
      "      382    0.000    0.000    0.000    0.000 ext.pyx:254(free)\n",
      "      383    0.000    0.000    0.000    0.000 ext.pyx:355(normalise_shape)\n",
      "      2/1    0.000    0.000    0.001    0.001 {built-in method exec}\n",
      "      2/1    0.000    0.000    0.000    0.000 ext.pyx:287(normalise_array_selection)\n",
      "      2/1    0.000    0.000    0.000    0.000 ext.pyx:364(normalise_chunks)\n",
      "        1    0.000    0.000    0.000    0.000 ext.pyx:347(get_chunk_range)\n",
      "      2/1    0.000    0.000    0.001    0.001 core.py:154(array)\n",
      "      2/1    0.000    0.000    0.001    0.001 <string>:1(<module>)\n",
      "      2/1    0.000    0.000    0.001    0.001 ext.pyx:507(__setitem__)\n",
      "        1    0.000    0.000    0.000    0.000 ext.pyx:221(__getitem__)\n",
      "        1    0.000    0.000    0.000    0.000 ext.pyx:316(normalise_axis_selection)\n",
      "        2    0.000    0.000    0.000    0.000 {built-in method hasattr}\n",
      "        1    0.000    0.000    0.000    0.000 carray_ext.pyx:932(__get__)\n",
      "        1    0.000    0.000    0.000    0.000 {method 'disable' of '_lsprof.Profiler' objects}\n",
      "\n",
      "\n"
     ]
    }
   ],
   "source": [
    "cProfile.run('zarr.array(a, chunks=c.chunklen, cname=\"lz4\")', sort='time')"
   ]
  },
  {
   "cell_type": "markdown",
   "metadata": {},
   "source": [
    "## Array read"
   ]
  },
  {
   "cell_type": "code",
   "execution_count": 8,
   "metadata": {
    "collapsed": false
   },
   "outputs": [
    {
     "name": "stdout",
     "output_type": "stream",
     "text": [
      "10 loops, best of 3: 180 ms per loop\n"
     ]
    }
   ],
   "source": [
    "%timeit c[:]"
   ]
  },
  {
   "cell_type": "code",
   "execution_count": 9,
   "metadata": {
    "collapsed": false
   },
   "outputs": [
    {
     "name": "stdout",
     "output_type": "stream",
     "text": [
      "1 loops, best of 3: 226 ms per loop\n"
     ]
    }
   ],
   "source": [
    "%timeit z[:]"
   ]
  },
  {
   "cell_type": "code",
   "execution_count": 10,
   "metadata": {
    "collapsed": false
   },
   "outputs": [
    {
     "name": "stdout",
     "output_type": "stream",
     "text": [
      "         774 function calls (772 primitive calls) in 0.245 seconds\n",
      "\n",
      "   Ordered by: internal time\n",
      "\n",
      "   ncalls  tottime  percall  cumtime  percall filename:lineno(function)\n",
      "      382    0.145    0.000    0.145    0.000 ext.pyx:242(decompress)\n",
      "        1    0.095    0.095    0.242    0.242 ext.pyx:382(array_getitem)\n",
      "      382    0.003    0.000    0.147    0.000 ext.pyx:221(__getitem__)\n",
      "      2/1    0.002    0.001    0.245    0.245 <string>:1(<module>)\n",
      "      2/1    0.000    0.000    0.245    0.245 {built-in method exec}\n",
      "        1    0.000    0.000    0.000    0.000 ext.pyx:347(get_chunk_range)\n",
      "        1    0.000    0.000    0.000    0.000 ext.pyx:287(normalise_array_selection)\n",
      "        1    0.000    0.000    0.242    0.242 ext.pyx:501(__getitem__)\n",
      "        1    0.000    0.000    0.000    0.000 ext.pyx:316(normalise_axis_selection)\n",
      "        1    0.000    0.000    0.000    0.000 {method 'disable' of '_lsprof.Profiler' objects}\n",
      "\n",
      "\n"
     ]
    }
   ],
   "source": [
    "cProfile.run('z[:]', sort='time')"
   ]
  },
  {
   "cell_type": "code",
   "execution_count": 11,
   "metadata": {
    "collapsed": true
   },
   "outputs": [],
   "source": [
    "import line_profiler"
   ]
  },
  {
   "cell_type": "code",
   "execution_count": 12,
   "metadata": {
    "collapsed": false
   },
   "outputs": [
    {
     "name": "stdout",
     "output_type": "stream",
     "text": [
      "Timer unit: 1e-06 s\n",
      "\n",
      "Total time: 0.233539 s\n",
      "File: /media/aliman/SD1/src/github/alimanfoo/zarr/zarr/ext.pyx\n",
      "Function: array_getitem at line 382\n",
      "\n",
      "Line #      Hits         Time  Per Hit   % Time  Line Contents\n",
      "==============================================================\n",
      "   382                                           def array_getitem(Array self, item):\n",
      "   383                                               \"\"\"Array.__getitem__ broken out as separate function to enable line\n",
      "   384                                               profiling.\"\"\"\n",
      "   385                                           \n",
      "   386                                               # normalise selection\n",
      "   387         1           46     46.0      0.0      selection = normalise_array_selection(item, self.shape)\n",
      "   388                                           \n",
      "   389                                               # determine output array shape\n",
      "   390         1           10     10.0      0.0      out_shape = tuple(stop - start for start, stop in selection)\n",
      "   391                                           \n",
      "   392                                               # setup output array\n",
      "   393         1           65     65.0      0.0      out = np.empty(out_shape, dtype=self.dtype)\n",
      "   394                                           \n",
      "   395                                               # determine indices of overlapping chunks\n",
      "   396         1           61     61.0      0.0      chunk_range = get_chunk_range(selection, self.chunks)\n",
      "   397                                           \n",
      "   398                                               # iterate over chunks in range\n",
      "   399       383          504      1.3      0.2      for cidx in itertools.product(*chunk_range):\n",
      "   400                                           \n",
      "   401                                                   # determine chunk offset\n",
      "   402       382          957      2.5      0.4          offset = [i * c for i, c in zip(cidx, self.chunks)]\n",
      "   403                                           \n",
      "   404                                                   # determine required index range within chunk\n",
      "   405       382          208      0.5      0.1          chunk_selection = [\n",
      "   406       382          376      1.0      0.2              slice(max(0, start - o), min(c, stop - o))\n",
      "   407       764          682      0.9      0.3              for (start, stop), o, c in zip(selection, offset, self.chunks)\n",
      "   408                                                   ]\n",
      "   409                                           \n",
      "   410                                                   # determine index range within output array\n",
      "   411       382          184      0.5      0.1          out_selection = [\n",
      "   412       382          360      0.9      0.2              slice(max(0, o - start), min(o + c - start, stop - start))\n",
      "   413       764          594      0.8      0.3              for (start, stop), o, c, in zip(selection, offset, self.chunks)\n",
      "   414                                                   ]\n",
      "   415                                           \n",
      "   416                                                   # obtain data from chunk\n",
      "   417       382          476      1.2      0.2          chunk = self.cdata[cidx]\n",
      "   418       382       141525    370.5     60.6          tmp = chunk[tuple(chunk_selection)]\n",
      "   419                                           \n",
      "   420                                                   # set data in output array\n",
      "   421                                                   # N.B., this additional step costs ~30%, but may be possible in some\n",
      "   422                                                   # circumstances at least to read directly into `out`, if the selection\n",
      "   423                                                   # produces a C contiguous array?\n",
      "   424       382        87381    228.7     37.4          out[tuple(out_selection)] = tmp\n",
      "   425                                           \n",
      "   426         1          110    110.0      0.0      return out\n",
      "\n"
     ]
    }
   ],
   "source": [
    "profile = line_profiler.LineProfiler(zarr.ext.array_getitem)\n",
    "profile.run('z[:]')\n",
    "profile.print_stats()"
   ]
  },
  {
   "cell_type": "code",
   "execution_count": null,
   "metadata": {
    "collapsed": true
   },
   "outputs": [],
   "source": []
  }
 ],
 "metadata": {
  "kernelspec": {
   "display_name": "Python 3",
   "language": "python",
   "name": "python3"
  },
  "language_info": {
   "codemirror_mode": {
    "name": "ipython",
    "version": 3
   },
   "file_extension": ".py",
   "mimetype": "text/x-python",
   "name": "python",
   "nbconvert_exporter": "python",
   "pygments_lexer": "ipython3",
   "version": "3.4.3+"
  }
 },
 "nbformat": 4,
 "nbformat_minor": 0
}
